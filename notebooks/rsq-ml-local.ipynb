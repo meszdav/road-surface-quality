{
 "cells": [
  {
   "cell_type": "markdown",
   "metadata": {},
   "source": [
    "## Import dependencies\n"
   ]
  },
  {
   "cell_type": "code",
   "execution_count": 180,
   "metadata": {
    "ExecuteTime": {
     "end_time": "2020-08-21T20:03:52.441864Z",
     "start_time": "2020-08-21T20:03:52.432867Z"
    }
   },
   "outputs": [],
   "source": [
    "import pandas as pd\n",
    "from sklearn.ensemble import RandomForestClassifier\n",
    "from sklearn.svm import SVC\n",
    "from sklearn.neighbors import KNeighborsClassifier\n",
    "from sklearn.ensemble import AdaBoostClassifier\n",
    "from sklearn.preprocessing import MinMaxScaler, StandardScaler\n",
    "from sklearn.metrics import accuracy_score\n",
    "\n",
    "import seaborn as sns"
   ]
  },
  {
   "cell_type": "markdown",
   "metadata": {},
   "source": [
    "## Read data"
   ]
  },
  {
   "cell_type": "code",
   "execution_count": 195,
   "metadata": {
    "ExecuteTime": {
     "end_time": "2020-08-21T20:07:42.074184Z",
     "start_time": "2020-08-21T20:07:41.917270Z"
    }
   },
   "outputs": [],
   "source": [
    "X_train = pd.read_csv(\"../data/train_test_val/X_train.csv\", header=[0,1], index_col=0)\n",
    "X_test = pd.read_csv(\"../data/train_test_val/X_test.csv\", header=[0,1], index_col=0)\n",
    "X_val = pd.read_csv(\"../data/train_test_val/X_val.csv\", header=[0,1], index_col=0)\n",
    "\n",
    "y_train = pd.read_csv(\"../data/train_test_val/y_train.csv\", index_col=0) \n",
    "y_val = pd.read_csv(\"../data/train_test_val/y_val.csv\", index_col=0)\n",
    "y_test = pd.read_csv(\"../data/train_test_val/y_test.csv\", index_col=0)"
   ]
  },
  {
   "cell_type": "markdown",
   "metadata": {},
   "source": [
    "### Creating ML Pipeline"
   ]
  },
  {
   "cell_type": "code",
   "execution_count": 196,
   "metadata": {
    "ExecuteTime": {
     "end_time": "2020-08-21T20:07:42.728813Z",
     "start_time": "2020-08-21T20:07:42.721816Z"
    }
   },
   "outputs": [],
   "source": [
    "rfc = RandomForestClassifier(random_state=42)\n",
    "svc = SVC(random_state=42)\n",
    "knc = KNeighborsClassifier()\n",
    "abc = AdaBoostClassifier(random_state=42)\n",
    "\n",
    "models = {\"rfc\": rfc,\"svc\": svc, \"knc\" : knc,\"abc\" : abc}"
   ]
  },
  {
   "cell_type": "code",
   "execution_count": 197,
   "metadata": {
    "ExecuteTime": {
     "end_time": "2020-08-21T20:07:43.405426Z",
     "start_time": "2020-08-21T20:07:43.356454Z"
    }
   },
   "outputs": [
    {
     "name": "stderr",
     "output_type": "stream",
     "text": [
      "c:\\users\\mesza\\.virtualenvs\\road-surface-quality-7nv9hwjf\\lib\\site-packages\\pandas\\core\\generic.py:3878: PerformanceWarning: dropping on a non-lexsorted multi-index without a level parameter may impact performance.\n",
      "  obj = obj._drop_axis(labels, axis, level=level, errors=errors)\n",
      "c:\\users\\mesza\\.virtualenvs\\road-surface-quality-7nv9hwjf\\lib\\site-packages\\pandas\\core\\generic.py:3878: PerformanceWarning: dropping on a non-lexsorted multi-index without a level parameter may impact performance.\n",
      "  obj = obj._drop_axis(labels, axis, level=level, errors=errors)\n",
      "c:\\users\\mesza\\.virtualenvs\\road-surface-quality-7nv9hwjf\\lib\\site-packages\\pandas\\core\\generic.py:3878: PerformanceWarning: dropping on a non-lexsorted multi-index without a level parameter may impact performance.\n",
      "  obj = obj._drop_axis(labels, axis, level=level, errors=errors)\n"
     ]
    }
   ],
   "source": [
    "scaler = MinMaxScaler()\n",
    "scaled_X_train = scaler.fit_transform(X_train.drop(\"id_gps\", axis=1)) \n",
    "scaled_X_val = scaler.fit_transform(X_val.drop(\"id_gps\", axis=1))\n",
    "scaled_X_test = scaler.fit_transform(X_test.drop(\"id_gps\", axis=1))"
   ]
  },
  {
   "cell_type": "code",
   "execution_count": 198,
   "metadata": {
    "ExecuteTime": {
     "end_time": "2020-08-21T20:07:44.031068Z",
     "start_time": "2020-08-21T20:07:44.012077Z"
    }
   },
   "outputs": [
    {
     "name": "stderr",
     "output_type": "stream",
     "text": [
      "c:\\users\\mesza\\.virtualenvs\\road-surface-quality-7nv9hwjf\\lib\\site-packages\\pandas\\core\\generic.py:3878: PerformanceWarning: dropping on a non-lexsorted multi-index without a level parameter may impact performance.\n",
      "  obj = obj._drop_axis(labels, axis, level=level, errors=errors)\n"
     ]
    }
   ],
   "source": [
    "X_train = X_train.drop(\"id_gps\", axis = 1)\n",
    "X_val = X_val.drop(\"id_gps\", axis = 1)\n",
    "X_test = X_test.drop(\"id_gps\", axis = 1)\n",
    "y_train = y_train.values.reshape(-1)\n",
    "y_val = y_val.values.reshape(-1)\n",
    "y_test = y_test.values.reshape(-1)\n"
   ]
  },
  {
   "cell_type": "code",
   "execution_count": 199,
   "metadata": {
    "ExecuteTime": {
     "end_time": "2020-08-21T20:07:46.161842Z",
     "start_time": "2020-08-21T20:07:44.658706Z"
    }
   },
   "outputs": [
    {
     "name": "stdout",
     "output_type": "stream",
     "text": [
      "Accuracy Score rfc: 0.8254\n",
      "Accuracy Score svc: 0.8571\n",
      "Accuracy Score knc: 0.8254\n",
      "Accuracy Score abc: 0.6508\n"
     ]
    }
   ],
   "source": [
    "for m in models:\n",
    "    \n",
    "    model = models[m].fit(scaled_X_train, y_train)\n",
    "    preds = model.predict(scaled_X_val)\n",
    "    accuracy = accuracy_score(y_val, preds)\n",
    "    \n",
    "    print(\"Accuracy Score {}: {:.4f}\".format(m,accuracy))"
   ]
  },
  {
   "cell_type": "markdown",
   "metadata": {},
   "source": [
    "The best results belongs to the RandomForest Classifier, but the KNC results are promising as well."
   ]
  },
  {
   "cell_type": "markdown",
   "metadata": {},
   "source": [
    "## Hyperparameter tuning"
   ]
  },
  {
   "cell_type": "code",
   "execution_count": 200,
   "metadata": {
    "ExecuteTime": {
     "end_time": "2020-08-21T20:08:11.667117Z",
     "start_time": "2020-08-21T20:08:11.663120Z"
    }
   },
   "outputs": [],
   "source": [
    "from sklearn.model_selection import RandomizedSearchCV"
   ]
  },
  {
   "cell_type": "code",
   "execution_count": 201,
   "metadata": {
    "ExecuteTime": {
     "end_time": "2020-08-21T20:10:56.278603Z",
     "start_time": "2020-08-21T20:08:12.521627Z"
    }
   },
   "outputs": [
    {
     "data": {
      "text/plain": [
       "RandomizedSearchCV(estimator=RandomForestClassifier(random_state=42), n_iter=20,\n",
       "                   param_distributions={'max_depth': [None],\n",
       "                                        'min_samples_leaf': [1, 2, 3, 4, 8, 16,\n",
       "                                                             20],\n",
       "                                        'min_samples_split': [2, 4, 8, 12],\n",
       "                                        'n_estimators': [20, 80, 100, 400,\n",
       "                                                         800]},\n",
       "                   random_state=42, scoring='accuracy')"
      ]
     },
     "execution_count": 201,
     "metadata": {},
     "output_type": "execute_result"
    }
   ],
   "source": [
    "params = {\n",
    "        \"max_depth\": [None],\n",
    "        \"min_samples_leaf\": [1,2,3 ,4, 8,16,20],\n",
    "        \"min_samples_split\": [2, 4, 8, 12],\n",
    "        \"n_estimators\": [20, 80, 100, 400, 800]\n",
    "}\n",
    "\n",
    "rfc_search = RandomizedSearchCV(rfc, \n",
    "                                params, \n",
    "                                n_iter=20,\n",
    "                                scoring=\"accuracy\",\n",
    "                                random_state=42)\n",
    "\n",
    "rfc_search.fit(scaled_X_train, y_train)"
   ]
  },
  {
   "cell_type": "code",
   "execution_count": 202,
   "metadata": {
    "ExecuteTime": {
     "end_time": "2020-08-21T20:10:56.871263Z",
     "start_time": "2020-08-21T20:10:56.832285Z"
    },
    "scrolled": true
   },
   "outputs": [
    {
     "data": {
      "text/plain": [
       "0.798941798941799"
      ]
     },
     "execution_count": 202,
     "metadata": {},
     "output_type": "execute_result"
    }
   ],
   "source": [
    "best_model = rfc_search.best_estimator_\n",
    "preds = best_model.predict(scaled_X_val)\n",
    "\n",
    "accuracy_score(y_val,preds)"
   ]
  },
  {
   "cell_type": "markdown",
   "metadata": {},
   "source": [
    "### Cross Validation"
   ]
  },
  {
   "cell_type": "code",
   "execution_count": 203,
   "metadata": {
    "ExecuteTime": {
     "end_time": "2020-08-21T20:10:57.431942Z",
     "start_time": "2020-08-21T20:10:57.421945Z"
    }
   },
   "outputs": [],
   "source": [
    "from sklearn.model_selection import cross_validate\n",
    "from sklearn.metrics import confusion_matrix"
   ]
  },
  {
   "cell_type": "code",
   "execution_count": 204,
   "metadata": {
    "ExecuteTime": {
     "end_time": "2020-08-21T20:10:59.622683Z",
     "start_time": "2020-08-21T20:10:58.001613Z"
    }
   },
   "outputs": [
    {
     "name": "stdout",
     "output_type": "stream",
     "text": [
      "Model accuracy is 85.18±3.60\n"
     ]
    }
   ],
   "source": [
    "cv = cross_validate(best_model,\n",
    "               X =  scaled_X_val,\n",
    "               y = np.ravel(y_val))\n",
    "\n",
    "print(\"Model accuracy is {:.2f}±{:.2f}\".format(cv[\"test_score\"].mean()*100,cv[\"test_score\"].std()*100))"
   ]
  },
  {
   "cell_type": "code",
   "execution_count": 205,
   "metadata": {
    "ExecuteTime": {
     "end_time": "2020-08-21T20:11:00.247323Z",
     "start_time": "2020-08-21T20:11:00.234331Z"
    }
   },
   "outputs": [],
   "source": [
    "cm = confusion_matrix(y_val,preds)"
   ]
  },
  {
   "cell_type": "code",
   "execution_count": 206,
   "metadata": {
    "ExecuteTime": {
     "end_time": "2020-08-21T20:11:01.145808Z",
     "start_time": "2020-08-21T20:11:00.861972Z"
    }
   },
   "outputs": [
    {
     "data": {
      "text/plain": [
       "<matplotlib.axes._subplots.AxesSubplot at 0x2d5dc99fa48>"
      ]
     },
     "execution_count": 206,
     "metadata": {},
     "output_type": "execute_result"
    },
    {
     "data": {
      "image/png": "[encoded data removed]",
      "text/plain": [
       "<Figure size 432x288 with 1 Axes>"
      ]
     },
     "metadata": {
      "needs_background": "light"
     },
     "output_type": "display_data"
    }
   ],
   "source": [
    "sns.heatmap(cm, cmap=\"viridis\", annot= True, cbar = False)"
   ]
  },
  {
   "cell_type": "markdown",
   "metadata": {},
   "source": [
    "## Save the model"
   ]
  },
  {
   "cell_type": "code",
   "execution_count": 207,
   "metadata": {
    "ExecuteTime": {
     "end_time": "2020-08-21T20:11:02.144235Z",
     "start_time": "2020-08-21T20:11:01.891378Z"
    }
   },
   "outputs": [
    {
     "data": {
      "text/plain": [
       "['../models/rfc_v03.joblib']"
      ]
     },
     "execution_count": 207,
     "metadata": {},
     "output_type": "execute_result"
    }
   ],
   "source": [
    "from joblib import dump, load\n",
    "dump(best_model, '../models/rfc_v03.joblib') "
   ]
  },
  {
   "cell_type": "code",
   "execution_count": null,
   "metadata": {},
   "outputs": [],
   "source": []
  }
 ],
 "metadata": {
  "kernelspec": {
   "display_name": "Python 3",
   "language": "python",
   "name": "python3"
  },
  "language_info": {
   "codemirror_mode": {
    "name": "ipython",
    "version": 3
   },
   "file_extension": ".py",
   "mimetype": "text/x-python",
   "name": "python",
   "nbconvert_exporter": "python",
   "pygments_lexer": "ipython3",
   "version": "3.7.5"
  },
  "toc": {
   "base_numbering": 1,
   "nav_menu": {},
   "number_sections": true,
   "sideBar": true,
   "skip_h1_title": false,
   "title_cell": "Table of Contents",
   "title_sidebar": "Contents",
   "toc_cell": false,
   "toc_position": {},
   "toc_section_display": true,
   "toc_window_display": false
  },
  "varInspector": {
   "cols": {
    "lenName": 16,
    "lenType": 16,
    "lenVar": 40
   },
   "kernels_config": {
    "python": {
     "delete_cmd_postfix": "",
     "delete_cmd_prefix": "del ",
     "library": "var_list.py",
     "varRefreshCmd": "print(var_dic_list())"
    },
    "r": {
     "delete_cmd_postfix": ") ",
     "delete_cmd_prefix": "rm(",
     "library": "var_list.r",
     "varRefreshCmd": "cat(var_dic_list()) "
    }
   },
   "types_to_exclude": [
    "module",
    "function",
    "builtin_function_or_method",
    "instance",
    "_Feature"
   ],
   "window_display": false
  }
 },
 "nbformat": 4,
 "nbformat_minor": 4
}
