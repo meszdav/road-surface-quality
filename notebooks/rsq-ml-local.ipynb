{
 "cells": [
  {
   "cell_type": "markdown",
   "metadata": {},
   "source": [
    "## Import dependencies\n"
   ]
  },
  {
   "cell_type": "code",
   "execution_count": 119,
   "metadata": {
    "ExecuteTime": {
     "end_time": "2020-08-29T15:25:15.845153Z",
     "start_time": "2020-08-29T15:25:15.836155Z"
    }
   },
   "outputs": [],
   "source": [
    "import pandas as pd\n",
    "from sklearn.ensemble import RandomForestClassifier\n",
    "from sklearn.svm import SVC\n",
    "from sklearn.neighbors import KNeighborsClassifier\n",
    "from sklearn.ensemble import AdaBoostClassifier, GradientBoostingClassifier\n",
    "from sklearn.naive_bayes import GaussianNB\n",
    "from sklearn.linear_model import LogisticRegressionCV\n",
    "from sklearn.preprocessing import MinMaxScaler, StandardScaler\n",
    "from sklearn.metrics import accuracy_score, f1_score, precision_score, recall_score\n",
    "import matplotlib.pyplot as plt\n",
    "from sklearn.model_selection import cross_validate\n",
    "from sklearn.metrics import confusion_matrix\n",
    "\n",
    "import seaborn as sns"
   ]
  },
  {
   "cell_type": "markdown",
   "metadata": {},
   "source": [
    "## Read data"
   ]
  },
  {
   "cell_type": "code",
   "execution_count": 218,
   "metadata": {
    "ExecuteTime": {
     "end_time": "2020-08-29T15:37:02.524883Z",
     "start_time": "2020-08-29T15:37:02.372955Z"
    }
   },
   "outputs": [],
   "source": [
    "X_train = pd.read_csv(\"../data/train_test_val/X_train.csv\", header=[0], index_col=0).reset_index(drop=True)\n",
    "X_test = pd.read_csv(\"../data/train_test_val/X_test.csv\", header=[0], index_col=0).reset_index(drop=True)\n",
    "X_val = pd.read_csv(\"../data/train_test_val/X_val.csv\", header=[0], index_col=0).reset_index(drop=True)\n",
    "\n",
    "y_train = pd.read_csv(\"../data/train_test_val/y_train.csv\", index_col=0) .reset_index(drop=True).values.reshape(-1)\n",
    "y_val = pd.read_csv(\"../data/train_test_val/y_val.csv\", index_col = 0).reset_index(drop=True).values.reshape(-1)\n",
    "y_test = pd.read_csv(\"../data/train_test_val/y_test.csv\", index_col = 0).reset_index(drop=True).values.reshape(-1)"
   ]
  },
  {
   "cell_type": "code",
   "execution_count": 219,
   "metadata": {
    "ExecuteTime": {
     "end_time": "2020-08-29T15:37:04.812352Z",
     "start_time": "2020-08-29T15:37:04.546505Z"
    }
   },
   "outputs": [
    {
     "data": {
      "text/plain": [
       "<matplotlib.axes._subplots.AxesSubplot at 0x1bbd2b921c8>"
      ]
     },
     "execution_count": 219,
     "metadata": {},
     "output_type": "execute_result"
    },
    {
     "data": {
      "image/png": "[encoded data removed]",
      "text/plain": [
       "<Figure size 432x288 with 1 Axes>"
      ]
     },
     "metadata": {
      "needs_background": "light"
     },
     "output_type": "display_data"
    }
   ],
   "source": [
    "sns.distplot(y_train, kde=False)\n",
    "sns.distplot(y_val, kde=False)\n",
    "sns.distplot(y_test, kde=False)"
   ]
  },
  {
   "cell_type": "markdown",
   "metadata": {},
   "source": [
    "### Creating ML Pipeline"
   ]
  },
  {
   "cell_type": "code",
   "execution_count": 220,
   "metadata": {
    "ExecuteTime": {
     "end_time": "2020-08-29T15:37:06.141749Z",
     "start_time": "2020-08-29T15:37:06.132757Z"
    }
   },
   "outputs": [],
   "source": [
    "rfc = RandomForestClassifier(random_state=42)\n",
    "svc = SVC(random_state=42)\n",
    "knc = KNeighborsClassifier()\n",
    "abc = AdaBoostClassifier(random_state=42)\n",
    "gbc = GradientBoostingClassifier(random_state=42)\n",
    "gnb = GaussianNB()\n",
    "# lr = LogisticRegressionCV(max_iter=500, random_state=42)\n",
    "\n",
    "models = {\"rfc\": rfc,\"svc\": svc, \"knc\" : knc,\n",
    "          \"abc\" : abc, \"gbc\" : gbc, \"gnb\" :gnb}"
   ]
  },
  {
   "cell_type": "code",
   "execution_count": 221,
   "metadata": {
    "ExecuteTime": {
     "end_time": "2020-08-29T15:37:06.696469Z",
     "start_time": "2020-08-29T15:37:06.657476Z"
    }
   },
   "outputs": [],
   "source": [
    "scaler = MinMaxScaler()\n",
    "scaled_X_train = scaler.fit_transform(X_train.drop([\"measurementID\",\"id_gps\"], axis=1)) \n",
    "scaled_X_val = scaler.fit_transform(X_val.drop([\"measurementID\",\"id_gps\"], axis=1))\n",
    "scaled_X_test = scaler.fit_transform(X_test.drop([\"measurementID\",\"id_gps\"], axis=1))"
   ]
  },
  {
   "cell_type": "code",
   "execution_count": 222,
   "metadata": {
    "ExecuteTime": {
     "end_time": "2020-08-29T15:37:09.141637Z",
     "start_time": "2020-08-29T15:37:09.109656Z"
    }
   },
   "outputs": [
    {
     "ename": "AttributeError",
     "evalue": "'numpy.ndarray' object has no attribute 'values'",
     "output_type": "error",
     "traceback": [
      "\u001b[1;31m---------------------------------------------------------------------------\u001b[0m",
      "\u001b[1;31mAttributeError\u001b[0m                            Traceback (most recent call last)",
      "\u001b[1;32m<ipython-input-222-15c990a7ff3f>\u001b[0m in \u001b[0;36m<module>\u001b[1;34m\u001b[0m\n\u001b[0;32m      2\u001b[0m \u001b[0mX_val\u001b[0m \u001b[1;33m=\u001b[0m \u001b[0mX_val\u001b[0m\u001b[1;33m.\u001b[0m\u001b[0mdrop\u001b[0m\u001b[1;33m(\u001b[0m\u001b[1;33m[\u001b[0m\u001b[1;34m\"measurementID\"\u001b[0m\u001b[1;33m,\u001b[0m\u001b[1;34m\"id_gps\"\u001b[0m\u001b[1;33m]\u001b[0m\u001b[1;33m,\u001b[0m \u001b[0maxis\u001b[0m\u001b[1;33m=\u001b[0m\u001b[1;36m1\u001b[0m\u001b[1;33m)\u001b[0m\u001b[1;33m\u001b[0m\u001b[1;33m\u001b[0m\u001b[0m\n\u001b[0;32m      3\u001b[0m \u001b[0mX_test\u001b[0m \u001b[1;33m=\u001b[0m \u001b[0mX_test\u001b[0m\u001b[1;33m.\u001b[0m\u001b[0mdrop\u001b[0m\u001b[1;33m(\u001b[0m\u001b[1;33m[\u001b[0m\u001b[1;34m\"measurementID\"\u001b[0m\u001b[1;33m,\u001b[0m\u001b[1;34m\"id_gps\"\u001b[0m\u001b[1;33m]\u001b[0m\u001b[1;33m,\u001b[0m \u001b[0maxis\u001b[0m\u001b[1;33m=\u001b[0m\u001b[1;36m1\u001b[0m\u001b[1;33m)\u001b[0m\u001b[1;33m\u001b[0m\u001b[1;33m\u001b[0m\u001b[0m\n\u001b[1;32m----> 4\u001b[1;33m \u001b[0my_train\u001b[0m \u001b[1;33m=\u001b[0m \u001b[0mnp\u001b[0m\u001b[1;33m.\u001b[0m\u001b[0mravel\u001b[0m\u001b[1;33m(\u001b[0m\u001b[0my_train\u001b[0m\u001b[1;33m.\u001b[0m\u001b[0mvalues\u001b[0m\u001b[1;33m)\u001b[0m\u001b[1;33m\u001b[0m\u001b[1;33m\u001b[0m\u001b[0m\n\u001b[0m\u001b[0;32m      5\u001b[0m \u001b[0my_val\u001b[0m \u001b[1;33m=\u001b[0m \u001b[0mnp\u001b[0m\u001b[1;33m.\u001b[0m\u001b[0mravel\u001b[0m\u001b[1;33m(\u001b[0m\u001b[0my_val\u001b[0m\u001b[1;33m.\u001b[0m\u001b[0mvalues\u001b[0m\u001b[1;33m)\u001b[0m\u001b[1;33m\u001b[0m\u001b[1;33m\u001b[0m\u001b[0m\n\u001b[0;32m      6\u001b[0m \u001b[0my_test\u001b[0m \u001b[1;33m=\u001b[0m \u001b[0mnp\u001b[0m\u001b[1;33m.\u001b[0m\u001b[0mravel\u001b[0m\u001b[1;33m(\u001b[0m\u001b[0my_test\u001b[0m\u001b[1;33m.\u001b[0m\u001b[0mvalues\u001b[0m\u001b[1;33m)\u001b[0m\u001b[1;33m\u001b[0m\u001b[1;33m\u001b[0m\u001b[0m\n",
      "\u001b[1;31mAttributeError\u001b[0m: 'numpy.ndarray' object has no attribute 'values'"
     ]
    }
   ],
   "source": [
    "X_train = X_train.drop([\"measurementID\",\"id_gps\"], axis=1)\n",
    "X_val = X_val.drop([\"measurementID\",\"id_gps\"], axis=1)\n",
    "X_test = X_test.drop([\"measurementID\",\"id_gps\"], axis=1)\n",
    "y_train = np.ravel(y_train.values)\n",
    "y_val = np.ravel(y_val.values)\n",
    "y_test = np.ravel(y_test.values)\n"
   ]
  },
  {
   "cell_type": "code",
   "execution_count": 224,
   "metadata": {
    "ExecuteTime": {
     "end_time": "2020-08-29T15:37:42.863088Z",
     "start_time": "2020-08-29T15:37:25.040311Z"
    },
    "scrolled": false
   },
   "outputs": [
    {
     "name": "stdout",
     "output_type": "stream",
     "text": [
      "Metrics on Validation Dataset:\n",
      "\n",
      "\n",
      "Accuracy rfc: 0.9516616314199395\n",
      "Precision rfc: 0.9520146405908789\n",
      "Recall rfc: 0.9516616314199395\n",
      "F1 Score rfc: 0.9516988420409139\n",
      "\n",
      "\n",
      "Cross Validation on Test Dataset:\n",
      "\n",
      "\n",
      "rfc accuracy is 95.67±5.50\n",
      "\n",
      "\n",
      "Test Scores:\n",
      " min: 0.8260869565217391\n",
      " max: 1.0\n",
      " delta: 0.17391304347826086\n",
      "\n",
      "\n",
      "********************\n",
      "\n",
      "\n",
      "Metrics on Validation Dataset:\n",
      "\n",
      "\n",
      "Accuracy svc: 0.48942598187311176\n",
      "Precision svc: 0.7084386157648997\n",
      "Recall svc: 0.48942598187311176\n",
      "F1 Score svc: 0.3539879664379067\n",
      "\n",
      "\n",
      "Cross Validation on Test Dataset:\n",
      "\n",
      "\n",
      "svc accuracy is 54.98±1.96\n",
      "\n",
      "\n",
      "Test Scores:\n",
      " min: 0.5217391304347826\n",
      " max: 0.5652173913043478\n",
      " delta: 0.04347826086956519\n",
      "\n",
      "\n",
      "********************\n",
      "\n",
      "\n",
      "Metrics on Validation Dataset:\n",
      "\n",
      "\n",
      "Accuracy knc: 0.7824773413897281\n",
      "Precision knc: 0.7851536880838377\n",
      "Recall knc: 0.7824773413897281\n",
      "F1 Score knc: 0.7827875426361008\n",
      "\n",
      "\n",
      "Cross Validation on Test Dataset:\n",
      "\n",
      "\n",
      "knc accuracy is 69.66±8.35\n",
      "\n",
      "\n",
      "Test Scores:\n",
      " min: 0.5652173913043478\n",
      " max: 0.7916666666666666\n",
      " delta: 0.22644927536231885\n",
      "\n",
      "\n",
      "********************\n",
      "\n",
      "\n",
      "Metrics on Validation Dataset:\n",
      "\n",
      "\n",
      "Accuracy abc: 0.945619335347432\n",
      "Precision abc: 0.9459798647638676\n",
      "Recall abc: 0.945619335347432\n",
      "F1 Score abc: 0.9456611972960282\n",
      "\n",
      "\n",
      "Cross Validation on Test Dataset:\n",
      "\n",
      "\n",
      "abc accuracy is 93.95±4.41\n",
      "\n",
      "\n",
      "Test Scores:\n",
      " min: 0.8695652173913043\n",
      " max: 1.0\n",
      " delta: 0.13043478260869568\n",
      "\n",
      "\n",
      "********************\n",
      "\n",
      "\n",
      "Metrics on Validation Dataset:\n",
      "\n",
      "\n",
      "Accuracy gbc: 0.9577039274924471\n",
      "Precision gbc: 0.9578098005687908\n",
      "Recall gbc: 0.9577039274924471\n",
      "F1 Score gbc: 0.9577217719723737\n",
      "\n",
      "\n",
      "Cross Validation on Test Dataset:\n",
      "\n",
      "\n",
      "gbc accuracy is 94.80±5.07\n",
      "\n",
      "\n",
      "Test Scores:\n",
      " min: 0.8695652173913043\n",
      " max: 1.0\n",
      " delta: 0.13043478260869568\n",
      "\n",
      "\n",
      "********************\n",
      "\n",
      "\n",
      "Metrics on Validation Dataset:\n",
      "\n",
      "\n",
      "Accuracy gnb: 0.9335347432024169\n",
      "Precision gnb: 0.933659221589248\n",
      "Recall gnb: 0.9335347432024169\n",
      "F1 Score gnb: 0.9335627845280156\n",
      "\n",
      "\n",
      "Cross Validation on Test Dataset:\n",
      "\n",
      "\n",
      "gnb accuracy is 91.78±4.10\n",
      "\n",
      "\n",
      "Test Scores:\n",
      " min: 0.8260869565217391\n",
      " max: 1.0\n",
      " delta: 0.17391304347826086\n",
      "\n",
      "\n",
      "********************\n",
      "\n",
      "\n"
     ]
    },
    {
     "data": {
      "image/png": "[encoded data removed]",
      "text/plain": [
       "<Figure size 432x288 with 1 Axes>"
      ]
     },
     "metadata": {
      "needs_background": "light"
     },
     "output_type": "display_data"
    },
    {
     "data": {
      "image/png": "[encoded data removed]",
      "text/plain": [
       "<Figure size 432x288 with 1 Axes>"
      ]
     },
     "metadata": {
      "needs_background": "light"
     },
     "output_type": "display_data"
    },
    {
     "data": {
      "image/png": "[encoded data removed]",
      "text/plain": [
       "<Figure size 432x288 with 1 Axes>"
      ]
     },
     "metadata": {
      "needs_background": "light"
     },
     "output_type": "display_data"
    },
    {
     "data": {
      "image/png": "[encoded data removed]",
      "text/plain": [
       "<Figure size 432x288 with 1 Axes>"
      ]
     },
     "metadata": {
      "needs_background": "light"
     },
     "output_type": "display_data"
    },
    {
     "data": {
      "image/png": "[encoded data removed]",
      "text/plain": [
       "<Figure size 432x288 with 1 Axes>"
      ]
     },
     "metadata": {
      "needs_background": "light"
     },
     "output_type": "display_data"
    },
    {
     "data": {
      "image/png": "[encoded data removed]",
      "text/plain": [
       "<Figure size 432x288 with 1 Axes>"
      ]
     },
     "metadata": {
      "needs_background": "light"
     },
     "output_type": "display_data"
    }
   ],
   "source": [
    "for m in models:\n",
    "    \n",
    "    model = models[m].fit(X_train, y_train)\n",
    "    preds = model.predict(X_val)\n",
    "      \n",
    "    accuracy = accuracy_score(y_val,preds)\n",
    "    precision = precision_score(y_val,preds,average=\"weighted\")\n",
    "    recall = recall_score(y_val,preds, average=\"weighted\")\n",
    "    f1 = f1_score(y_val, preds, average=\"weighted\")\n",
    "    \n",
    "    print(\"Metrics on Validation Dataset:\")\n",
    "    print(\"\\n\")\n",
    "    \n",
    "    print(f\"Accuracy {m}: {accuracy}\")\n",
    "    print(f\"Precision {m}: {precision}\")\n",
    "    print(f\"Recall {m}: {recall}\")\n",
    "    print(f\"F1 Score {m}: {f1}\")\n",
    "    \n",
    "    print(\"\\n\")\n",
    "    print(\"Cross Validation on Test Dataset:\")\n",
    "    print(\"\\n\")\n",
    "    cv = cross_validate(model,\n",
    "                        X =  X_test,\n",
    "                        y = np.ravel(y_test),\n",
    "                        cv = 10)\n",
    "\n",
    "    print(\"{} accuracy is {:.2f}±{:.2f}\".format(m,cv[\"test_score\"].mean()*100,cv[\"test_score\"].std()*100))\n",
    "\n",
    "    \n",
    "    print(\"\\n\")\n",
    "    print(\"Test Scores:\\n min: {}\\n max: {}\\n delta: {}\"\\\n",
    "          .format(cv[\"test_score\"].min(), \n",
    "                  cv[\"test_score\"].max(),\n",
    "                  cv[\"test_score\"].max()-cv[\"test_score\"].min()))\n",
    "    print(\"\\n\")\n",
    "    print(\"*\"*20)\n",
    "    print(\"\\n\")\n",
    "    \n",
    "    cm = confusion_matrix(y_val,preds)\n",
    "    \n",
    "    fig = plt.figure()\n",
    "    fig = plt.title(m)\n",
    "    sns.heatmap(cm, cmap=\"viridis\", annot= True, cbar = False)"
   ]
  },
  {
   "cell_type": "markdown",
   "metadata": {},
   "source": [
    "## Hyperparameter tuning"
   ]
  },
  {
   "cell_type": "code",
   "execution_count": 225,
   "metadata": {
    "ExecuteTime": {
     "end_time": "2020-08-29T15:37:43.007006Z",
     "start_time": "2020-08-29T15:37:43.000010Z"
    }
   },
   "outputs": [],
   "source": [
    "from sklearn.model_selection import RandomizedSearchCV\n",
    "from sklearn.model_selection import GridSearchCV"
   ]
  },
  {
   "cell_type": "raw",
   "metadata": {
    "ExecuteTime": {
     "end_time": "2020-08-26T18:54:14.192761Z",
     "start_time": "2020-08-26T18:53:45.531210Z"
    }
   },
   "source": [
    "params = {\n",
    "        \"min_samples_leaf\": [1,2,3 ,4, 8,16,20],\n",
    "        \"min_samples_split\": [2, 4, 8, 12],\n",
    "        \"n_estimators\": [100, 400, 800,1200]\n",
    "}\n",
    "\n",
    "rfc_search = RandomizedSearchCV(rfc, \n",
    "                                params, \n",
    "                                n_iter=36,\n",
    "#                                 average = \"weighted\",\n",
    "                                scoring=\"recall_weighted\",\n",
    "                                random_state=42)\n",
    "\n",
    "rfc_search.fit(scaled_X_train, y_train)"
   ]
  },
  {
   "cell_type": "raw",
   "metadata": {
    "ExecuteTime": {
     "end_time": "2020-08-25T19:30:48.206438Z",
     "start_time": "2020-08-25T19:25:32.678572Z"
    }
   },
   "source": [
    "params = {\n",
    "        \"max_depth\": [None, 4],\n",
    "        \"min_samples_leaf\": [1, 2, 3 ,4],\n",
    "        \"min_samples_split\": [2, 4, 8],\n",
    "        \"n_estimators\": [20, 80, 100, 400]\n",
    "}\n",
    "\n",
    "rfc_search = GridSearchCV(rfc, \n",
    "                          params\n",
    "                         )\n",
    "\n",
    "rfc_search.fit(scaled_X_train, y_train)"
   ]
  },
  {
   "cell_type": "markdown",
   "metadata": {},
   "source": [
    "### Cross Validation"
   ]
  },
  {
   "cell_type": "code",
   "execution_count": 226,
   "metadata": {
    "ExecuteTime": {
     "end_time": "2020-08-29T15:37:43.154921Z",
     "start_time": "2020-08-29T15:37:43.149924Z"
    }
   },
   "outputs": [],
   "source": [
    "from sklearn.model_selection import cross_validate\n",
    "from sklearn.metrics import confusion_matrix"
   ]
  },
  {
   "cell_type": "code",
   "execution_count": 227,
   "metadata": {
    "ExecuteTime": {
     "end_time": "2020-08-29T15:37:44.807992Z",
     "start_time": "2020-08-29T15:37:43.407776Z"
    }
   },
   "outputs": [
    {
     "name": "stdout",
     "output_type": "stream",
     "text": [
      "Model accuracy is 94.37±6.39\n",
      "{'fit_time': array([0.30882025, 0.2318871 , 0.24683905, 0.26782537, 0.24787736]), 'score_time': array([0.01798987, 0.01698995, 0.01701021, 0.01399493, 0.01696754]), 'test_score': array([0.95744681, 0.82608696, 1.        , 0.93478261, 1.        ])}\n"
     ]
    }
   ],
   "source": [
    "cv = cross_validate(rfc,\n",
    "               X =  X_test,\n",
    "               y = np.ravel(y_test))\n",
    "\n",
    "print(\"Model accuracy is {:.2f}±{:.2f}\".format(cv[\"test_score\"].mean()*100,cv[\"test_score\"].std()*100))\n",
    "print(cv)"
   ]
  },
  {
   "cell_type": "code",
   "execution_count": 228,
   "metadata": {
    "ExecuteTime": {
     "end_time": "2020-08-29T15:37:48.268695Z",
     "start_time": "2020-08-29T15:37:48.260699Z"
    }
   },
   "outputs": [],
   "source": [
    "cm = confusion_matrix(y_val,preds)"
   ]
  },
  {
   "cell_type": "code",
   "execution_count": 229,
   "metadata": {
    "ExecuteTime": {
     "end_time": "2020-08-29T15:37:49.169307Z",
     "start_time": "2020-08-29T15:37:49.021389Z"
    }
   },
   "outputs": [
    {
     "data": {
      "text/plain": [
       "<matplotlib.axes._subplots.AxesSubplot at 0x1bbd60bccc8>"
      ]
     },
     "execution_count": 229,
     "metadata": {},
     "output_type": "execute_result"
    },
    {
     "data": {
      "image/png": "[encoded data removed]",
      "text/plain": [
       "<Figure size 432x288 with 1 Axes>"
      ]
     },
     "metadata": {
      "needs_background": "light"
     },
     "output_type": "display_data"
    }
   ],
   "source": [
    "sns.heatmap(cm, cmap=\"viridis\", annot= True, cbar = False)"
   ]
  },
  {
   "cell_type": "markdown",
   "metadata": {},
   "source": [
    "## Save the model"
   ]
  },
  {
   "cell_type": "code",
   "execution_count": 148,
   "metadata": {
    "ExecuteTime": {
     "end_time": "2020-08-29T15:28:10.098172Z",
     "start_time": "2020-08-29T15:28:09.994231Z"
    }
   },
   "outputs": [
    {
     "data": {
      "text/plain": [
       "['../models/rfc_v13.joblib']"
      ]
     },
     "execution_count": 148,
     "metadata": {},
     "output_type": "execute_result"
    }
   ],
   "source": [
    "from joblib import dump, load\n",
    "dump(rfc, '../models/rfc_v13.joblib') "
   ]
  },
  {
   "cell_type": "markdown",
   "metadata": {},
   "source": [
    "## Eval\n"
   ]
  },
  {
   "cell_type": "code",
   "execution_count": 230,
   "metadata": {
    "ExecuteTime": {
     "end_time": "2020-08-29T15:37:53.009273Z",
     "start_time": "2020-08-29T15:37:53.005274Z"
    }
   },
   "outputs": [],
   "source": [
    "from processing_funcs import *\n",
    "from scipy.stats import norm, kurtosis\n",
    "from scipy import signal\n",
    "import glob"
   ]
  },
  {
   "cell_type": "code",
   "execution_count": 314,
   "metadata": {
    "ExecuteTime": {
     "end_time": "2020-08-29T15:56:19.660252Z",
     "start_time": "2020-08-29T15:56:15.899409Z"
    }
   },
   "outputs": [],
   "source": [
    "df = read_all(1/50)\n",
    "\n",
    "ok = df[df[\"label\"] == 0]\n",
    "nok = df[df[\"label\"] == 1]"
   ]
  },
  {
   "cell_type": "code",
   "execution_count": 353,
   "metadata": {
    "ExecuteTime": {
     "end_time": "2020-08-29T16:10:39.535515Z",
     "start_time": "2020-08-29T16:10:38.661015Z"
    }
   },
   "outputs": [],
   "source": [
    "test = read_measurement(\"../data/raw_data_train/test/*\", 1/50)"
   ]
  },
  {
   "cell_type": "code",
   "execution_count": 354,
   "metadata": {
    "ExecuteTime": {
     "end_time": "2020-08-29T16:10:40.307448Z",
     "start_time": "2020-08-29T16:10:40.294454Z"
    }
   },
   "outputs": [],
   "source": [
    "def kurtosis_time(x):\n",
    "\n",
    "    return kurtosis(x, fisher=True)\n",
    "\n",
    "def rms_100(x):\n",
    "\n",
    "    return np.sqrt(np.mean(x**2))\n",
    "\n",
    "def crest(x):\n",
    "\n",
    "    return max(abs(x))/np.sqrt(np.mean(x**2))\n",
    "\n",
    "def create_aggregated(df):\n",
    "    \"\"\"Create a aggregated dataframe in time domain\"\"\"\n",
    "    signals = ['x_lin_acc', 'y_lin_acc', \"z_lin_acc\", \n",
    "               'x_acc', 'y_acc', 'z_acc',\n",
    "               'x_gyro', 'y_gyro', 'z_gyro']\n",
    "\n",
    "    agg_df = df.groupby([\"measurementID\",\"id_gps\"]).agg({x: [\"sum\", \"mean\", \"mad\",\n",
    "                                                \"median\", \"min\", \"max\",\n",
    "                                                \"std\", \"var\", \"sem\",\n",
    "                                                \"skew\", \"quantile\",\n",
    "                                                kurtosis_time, rms_100,\n",
    "                                                crest] for x in signals})\n",
    "    \n",
    "    new_cols = []\n",
    "    \n",
    "    for k,i in enumerate(agg_df.columns):\n",
    "        \n",
    "        new_cols.append(i[0] + \"_\" +  i[1])\n",
    "\n",
    "    agg_df.columns = new_cols\n",
    "    \n",
    "    return agg_df"
   ]
  },
  {
   "cell_type": "code",
   "execution_count": 355,
   "metadata": {
    "ExecuteTime": {
     "end_time": "2020-08-29T16:10:51.888070Z",
     "start_time": "2020-08-29T16:10:45.842540Z"
    }
   },
   "outputs": [],
   "source": [
    "feature_df = create_aggregated(test).reset_index()"
   ]
  },
  {
   "cell_type": "code",
   "execution_count": 356,
   "metadata": {
    "ExecuteTime": {
     "end_time": "2020-08-29T16:10:56.110362Z",
     "start_time": "2020-08-29T16:10:56.066386Z"
    }
   },
   "outputs": [],
   "source": [
    "pred = rfc.predict(feature_df.drop([\"measurementID\", \"id_gps\"], axis = 1))"
   ]
  },
  {
   "cell_type": "code",
   "execution_count": 357,
   "metadata": {
    "ExecuteTime": {
     "end_time": "2020-08-29T16:11:25.944797Z",
     "start_time": "2020-08-29T16:11:25.927789Z"
    }
   },
   "outputs": [],
   "source": [
    "map_df = pd.concat([test[[\"measurementID\", \"id_gps\", \"lat\", \"lon\"]]\\\n",
    "                    .groupby([\"measurementID\",\"id_gps\"])\\\n",
    "                    .max()\\\n",
    "                    .reset_index(), \n",
    "                    pd.DataFrame({\"label\" : pred})], axis=1)"
   ]
  },
  {
   "cell_type": "code",
   "execution_count": 358,
   "metadata": {
    "ExecuteTime": {
     "end_time": "2020-08-29T16:11:26.657792Z",
     "start_time": "2020-08-29T16:11:26.629808Z"
    }
   },
   "outputs": [
    {
     "data": {
      "text/html": [
       "<div>\n",
       "<style scoped>\n",
       "    .dataframe tbody tr th:only-of-type {\n",
       "        vertical-align: middle;\n",
       "    }\n",
       "\n",
       "    .dataframe tbody tr th {\n",
       "        vertical-align: top;\n",
       "    }\n",
       "\n",
       "    .dataframe thead th {\n",
       "        text-align: right;\n",
       "    }\n",
       "</style>\n",
       "<table border=\"1\" class=\"dataframe\">\n",
       "  <thead>\n",
       "    <tr style=\"text-align: right;\">\n",
       "      <th></th>\n",
       "      <th>measurementID</th>\n",
       "      <th>id_gps</th>\n",
       "      <th>lat</th>\n",
       "      <th>lon</th>\n",
       "      <th>label</th>\n",
       "    </tr>\n",
       "  </thead>\n",
       "  <tbody>\n",
       "    <tr>\n",
       "      <th>0</th>\n",
       "      <td>0</td>\n",
       "      <td>6</td>\n",
       "      <td>47.686660</td>\n",
       "      <td>17.649326</td>\n",
       "      <td>0</td>\n",
       "    </tr>\n",
       "    <tr>\n",
       "      <th>1</th>\n",
       "      <td>0</td>\n",
       "      <td>7</td>\n",
       "      <td>47.686671</td>\n",
       "      <td>17.649232</td>\n",
       "      <td>0</td>\n",
       "    </tr>\n",
       "    <tr>\n",
       "      <th>2</th>\n",
       "      <td>0</td>\n",
       "      <td>8</td>\n",
       "      <td>47.686762</td>\n",
       "      <td>17.649229</td>\n",
       "      <td>0</td>\n",
       "    </tr>\n",
       "    <tr>\n",
       "      <th>3</th>\n",
       "      <td>0</td>\n",
       "      <td>49</td>\n",
       "      <td>47.687627</td>\n",
       "      <td>17.648372</td>\n",
       "      <td>0</td>\n",
       "    </tr>\n",
       "    <tr>\n",
       "      <th>4</th>\n",
       "      <td>0</td>\n",
       "      <td>50</td>\n",
       "      <td>47.687688</td>\n",
       "      <td>17.648309</td>\n",
       "      <td>0</td>\n",
       "    </tr>\n",
       "    <tr>\n",
       "      <th>...</th>\n",
       "      <td>...</td>\n",
       "      <td>...</td>\n",
       "      <td>...</td>\n",
       "      <td>...</td>\n",
       "      <td>...</td>\n",
       "    </tr>\n",
       "    <tr>\n",
       "      <th>296</th>\n",
       "      <td>0</td>\n",
       "      <td>405</td>\n",
       "      <td>47.702993</td>\n",
       "      <td>17.630514</td>\n",
       "      <td>0</td>\n",
       "    </tr>\n",
       "    <tr>\n",
       "      <th>297</th>\n",
       "      <td>0</td>\n",
       "      <td>406</td>\n",
       "      <td>47.703137</td>\n",
       "      <td>17.630560</td>\n",
       "      <td>0</td>\n",
       "    </tr>\n",
       "    <tr>\n",
       "      <th>298</th>\n",
       "      <td>0</td>\n",
       "      <td>407</td>\n",
       "      <td>47.703278</td>\n",
       "      <td>17.630605</td>\n",
       "      <td>0</td>\n",
       "    </tr>\n",
       "    <tr>\n",
       "      <th>299</th>\n",
       "      <td>0</td>\n",
       "      <td>408</td>\n",
       "      <td>47.703420</td>\n",
       "      <td>17.630652</td>\n",
       "      <td>1</td>\n",
       "    </tr>\n",
       "    <tr>\n",
       "      <th>300</th>\n",
       "      <td>0</td>\n",
       "      <td>409</td>\n",
       "      <td>47.703562</td>\n",
       "      <td>17.630697</td>\n",
       "      <td>0</td>\n",
       "    </tr>\n",
       "  </tbody>\n",
       "</table>\n",
       "<p>301 rows × 5 columns</p>\n",
       "</div>"
      ],
      "text/plain": [
       "     measurementID  id_gps        lat        lon  label\n",
       "0                0       6  47.686660  17.649326      0\n",
       "1                0       7  47.686671  17.649232      0\n",
       "2                0       8  47.686762  17.649229      0\n",
       "3                0      49  47.687627  17.648372      0\n",
       "4                0      50  47.687688  17.648309      0\n",
       "..             ...     ...        ...        ...    ...\n",
       "296              0     405  47.702993  17.630514      0\n",
       "297              0     406  47.703137  17.630560      0\n",
       "298              0     407  47.703278  17.630605      0\n",
       "299              0     408  47.703420  17.630652      1\n",
       "300              0     409  47.703562  17.630697      0\n",
       "\n",
       "[301 rows x 5 columns]"
      ]
     },
     "execution_count": 358,
     "metadata": {},
     "output_type": "execute_result"
    }
   ],
   "source": [
    "map_df"
   ]
  },
  {
   "cell_type": "code",
   "execution_count": 359,
   "metadata": {
    "ExecuteTime": {
     "end_time": "2020-08-29T16:11:28.252945Z",
     "start_time": "2020-08-29T16:11:28.118023Z"
    }
   },
   "outputs": [
    {
     "data": {
      "application/vnd.plotly.v1+json": {
       "config": {
        "plotlyServerURL": "https://plot.ly"
       },
       "data": [
        {
         "hovertemplate": "lat=%{lat}<br>lon=%{lon}<br>label=%{marker.color}<extra></extra>",
         "lat": [
          47.68665984,
          47.68667121,
          47.68676218,
          47.68762722,
          47.68768801,
          47.68804206,
          47.68801538,
          47.6879706,
          47.68792295,
          47.68787753,
          47.68782726,
          47.6877789,
          47.68756102,
          47.68761922,
          47.68768563,
          47.68775998,
          47.68783665,
          47.68791626,
          47.68799269,
          47.68806131,
          47.68812369,
          47.68820032,
          47.68825905,
          47.68831169,
          47.68835893,
          47.68841748,
          47.68849519,
          47.68858279,
          47.68867467,
          47.68873776,
          47.68879749,
          47.68884378,
          47.68885578,
          47.68891284,
          47.68896433,
          47.68903234,
          47.68911167,
          47.68921445,
          47.68931763,
          47.68942127,
          47.68953453,
          47.68962588,
          47.68972278,
          47.68981035,
          47.68988973,
          47.68994898,
          47.69008998,
          47.69010657,
          47.69016626,
          47.69024011,
          47.69032164,
          47.69040079,
          47.69050142,
          47.690612,
          47.69072759,
          47.69083753,
          47.69093664,
          47.69102771,
          47.69111013,
          47.69117196,
          47.6912217,
          47.69132114,
          47.69140974,
          47.69145822,
          47.69147617,
          47.69154609,
          47.69162193,
          47.69167722,
          47.69177272,
          47.69187806,
          47.69198545,
          47.69208711,
          47.69218678,
          47.69228142,
          47.69235032,
          47.69250453,
          47.69261783,
          47.69272705,
          47.69283084,
          47.69293053,
          47.69304701,
          47.69309285,
          47.69309591,
          47.6930578,
          47.69300756,
          47.69296184,
          47.69292154,
          47.69288446,
          47.69284882,
          47.69281844,
          47.69278882,
          47.69276402,
          47.69274281,
          47.69271873,
          47.69269254,
          47.69266343,
          47.6926363,
          47.69260458,
          47.69256766,
          47.69253059,
          47.692493,
          47.69245136,
          47.69240901,
          47.69238901,
          47.69232583,
          47.69228724,
          47.69225087,
          47.69221529,
          47.69217992,
          47.6921442,
          47.69210887,
          47.69207411,
          47.6920397,
          47.69200459,
          47.6919681,
          47.69193712,
          47.69187963,
          47.69182161,
          47.69177726,
          47.69173315,
          47.69169176,
          47.69165034,
          47.69161328,
          47.69158298,
          47.6915538,
          47.69153011,
          47.69168912,
          47.69174523,
          47.69181536,
          47.69181504,
          47.69179735,
          47.69176045,
          47.69168864,
          47.69161042,
          47.69153226,
          47.69146226,
          47.69140207,
          47.69134365,
          47.69128459,
          47.69122307,
          47.69116487,
          47.69111055,
          47.69105319,
          47.69100432,
          47.69095176,
          47.69090081,
          47.690853,
          47.6908024,
          47.69075681,
          47.69071456,
          47.69066853,
          47.69062441,
          47.69057646,
          47.69053201,
          47.69048457,
          47.69044549,
          47.69040637,
          47.69036752,
          47.69033276,
          47.6902902,
          47.69025154,
          47.69021265,
          47.69016252,
          47.6901187,
          47.69004838,
          47.68997983,
          47.68992432,
          47.68979409,
          47.6898357,
          47.68988918,
          47.69006894,
          47.69010222,
          47.69017594,
          47.6902368,
          47.69029484,
          47.69036076,
          47.69043266,
          47.69050363,
          47.69057054,
          47.69063689,
          47.69070681,
          47.69077352,
          47.69084168,
          47.69091108,
          47.6909765,
          47.6910398,
          47.69110853,
          47.69117573,
          47.69125073,
          47.69132377,
          47.69139419,
          47.69142251,
          47.69155295,
          47.69163218,
          47.69171042,
          47.69178525,
          47.69186282,
          47.69194334,
          47.69202598,
          47.69210896,
          47.69219036,
          47.69227079,
          47.69234887,
          47.69242754,
          47.69250742,
          47.69259167,
          47.69266865,
          47.69274671,
          47.69278558,
          47.69290576,
          47.69297983,
          47.69304463,
          47.69310142,
          47.69315656,
          47.69319669,
          47.69324583,
          47.69330218,
          47.69336647,
          47.69343036,
          47.69349521,
          47.69356138,
          47.69362799,
          47.69369072,
          47.69375265,
          47.69380854,
          47.69385455,
          47.69406205,
          47.69411331,
          47.69419442,
          47.69420358,
          47.6943144,
          47.69441258,
          47.69452494,
          47.69464278,
          47.69476884,
          47.6948871,
          47.69499469,
          47.69510915,
          47.69520972,
          47.69533651,
          47.69546008,
          47.69557367,
          47.69565346,
          47.69582974,
          47.69596818,
          47.69610101,
          47.69623501,
          47.69636779,
          47.69649724,
          47.69662743,
          47.69676009,
          47.69688958,
          47.69701574,
          47.69714259,
          47.69727226,
          47.69740957,
          47.69754664,
          47.69768588,
          47.69782108,
          47.69796356,
          47.69803105,
          47.69823863,
          47.69838098,
          47.69851852,
          47.69865721,
          47.69879953,
          47.69893644,
          47.69907595,
          47.69921466,
          47.69935268,
          47.69948748,
          47.69962116,
          47.69969506,
          47.69989098,
          47.70002177,
          47.70015575,
          47.70028855,
          47.70042128,
          47.70055367,
          47.70068432,
          47.70081766,
          47.70095188,
          47.70108469,
          47.70121731,
          47.70135216,
          47.70148582,
          47.70161956,
          47.70175387,
          47.70188748,
          47.70202267,
          47.70215877,
          47.70229535,
          47.7024338,
          47.70257109,
          47.70271129,
          47.70285103,
          47.70299285,
          47.70313696,
          47.70327759,
          47.70342045,
          47.70356175
         ],
         "legendgroup": "",
         "lon": [
          17.64932557,
          17.64923157,
          17.64922868,
          17.64837152,
          17.64830931,
          17.64778528,
          17.64770828,
          17.64761739,
          17.64752929,
          17.64745575,
          17.64736435,
          17.64727831,
          17.64667027,
          17.64654016,
          17.64637826,
          17.64622038,
          17.64605247,
          17.64588495,
          17.64572646,
          17.64557904,
          17.64546214,
          17.64533582,
          17.64524483,
          17.64516795,
          17.64510898,
          17.6450485,
          17.64501534,
          17.64499172,
          17.6449543,
          17.6449034,
          17.64481246,
          17.64466405,
          17.64453713,
          17.6443134,
          17.64414537,
          17.64399471,
          17.64386249,
          17.64373841,
          17.64363837,
          17.64353331,
          17.64343073,
          17.64334612,
          17.64326374,
          17.64318621,
          17.64311906,
          17.64307739,
          17.64306276,
          17.64309139,
          17.64318403,
          17.64324812,
          17.6432854,
          17.64328556,
          17.64324585,
          17.64315811,
          17.64304933,
          17.64294434,
          17.64284927,
          17.64276721,
          17.64270777,
          17.64265888,
          17.64261955,
          17.64265718,
          17.6426875,
          17.64274809,
          17.64286492,
          17.64294513,
          17.64290487,
          17.64275989,
          17.64268117,
          17.64262065,
          17.64256769,
          17.64251839,
          17.64247007,
          17.64242417,
          17.64239076,
          17.64234049,
          17.64230361,
          17.64226806,
          17.64223414,
          17.64219693,
          17.64213743,
          17.64209361,
          17.64188485,
          17.64179535,
          17.64166677,
          17.64152166,
          17.64138543,
          17.64126107,
          17.64114414,
          17.64104448,
          17.64094836,
          17.64086951,
          17.64080469,
          17.64073206,
          17.64065814,
          17.64057595,
          17.64049937,
          17.6404103,
          17.64030786,
          17.64020496,
          17.64010065,
          17.6399851,
          17.63986756,
          17.63981207,
          17.63961438,
          17.63949359,
          17.63937973,
          17.63927017,
          17.63916243,
          17.63905377,
          17.63894781,
          17.63884356,
          17.63874034,
          17.63863505,
          17.63852561,
          17.63844744,
          17.63835017,
          17.63819679,
          17.63807662,
          17.63795708,
          17.63784494,
          17.63773272,
          17.63763231,
          17.63755021,
          17.63747116,
          17.63740695,
          17.63705981,
          17.63699559,
          17.6368559,
          17.63685344,
          17.63675178,
          17.63667271,
          17.63656464,
          17.63644609,
          17.63631756,
          17.63617727,
          17.63602219,
          17.63587168,
          17.63570393,
          17.63554407,
          17.63537872,
          17.63522245,
          17.63505215,
          17.63490439,
          17.63474424,
          17.63458475,
          17.63443103,
          17.63426774,
          17.63410657,
          17.63395015,
          17.63377977,
          17.63362566,
          17.63346066,
          17.63330771,
          17.63313813,
          17.6329925,
          17.63283876,
          17.632683,
          17.63254363,
          17.63239658,
          17.63226505,
          17.63214396,
          17.63204136,
          17.63195937,
          17.63193133,
          17.63192991,
          17.63195854,
          17.6325124,
          17.63257046,
          17.63261846,
          17.63247226,
          17.63245071,
          17.63240919,
          17.63237357,
          17.63233556,
          17.63229236,
          17.63224641,
          17.63220228,
          17.63216069,
          17.63211944,
          17.63207597,
          17.63203449,
          17.63199212,
          17.63194897,
          17.63190831,
          17.63186895,
          17.63182608,
          17.63178409,
          17.63173722,
          17.6316913,
          17.6316469,
          17.63162904,
          17.63154055,
          17.63148646,
          17.631433,
          17.63138187,
          17.6313306,
          17.63127949,
          17.63122704,
          17.63117437,
          17.63112271,
          17.63107166,
          17.6310221,
          17.63097217,
          17.63092147,
          17.63086799,
          17.63081914,
          17.63076959,
          17.63074491,
          17.63067349,
          17.63062955,
          17.6305911,
          17.63055741,
          17.6305247,
          17.63050089,
          17.63047174,
          17.63043831,
          17.63040016,
          17.63036226,
          17.63032378,
          17.63028453,
          17.630245,
          17.63020778,
          17.63017102,
          17.63013784,
          17.63011054,
          17.63019127,
          17.63020038,
          17.63019246,
          17.63018723,
          17.63005807,
          17.63003756,
          17.63005126,
          17.63007026,
          17.63005853,
          17.63006446,
          17.6300662,
          17.63005824,
          17.63003577,
          17.62999569,
          17.62994778,
          17.62990134,
          17.62986872,
          17.62980624,
          17.6297572,
          17.6297106,
          17.62966419,
          17.62961822,
          17.62957339,
          17.6295283,
          17.62948237,
          17.62943753,
          17.62939924,
          17.62936644,
          17.62934664,
          17.62933623,
          17.62933544,
          17.62933883,
          17.62934133,
          17.62933794,
          17.62933483,
          17.62936701,
          17.62938273,
          17.62939291,
          17.62940318,
          17.62941372,
          17.62942386,
          17.62943419,
          17.62944771,
          17.62946679,
          17.62948079,
          17.62949251,
          17.62949899,
          17.6295411,
          17.62956949,
          17.62960116,
          17.62963569,
          17.62967226,
          17.62970921,
          17.62974648,
          17.62978453,
          17.62983045,
          17.62988032,
          17.62993013,
          17.62998077,
          17.63003096,
          17.63008102,
          17.630129,
          17.63017497,
          17.63021741,
          17.63025667,
          17.63029559,
          17.63033662,
          17.63037905,
          17.63042273,
          17.63046782,
          17.63051358,
          17.63056009,
          17.63060546,
          17.63065156,
          17.63069716
         ],
         "marker": {
          "color": [
           0,
           0,
           0,
           0,
           0,
           1,
           0,
           0,
           0,
           0,
           0,
           0,
           1,
           1,
           0,
           1,
           0,
           1,
           0,
           1,
           1,
           1,
           1,
           1,
           0,
           0,
           1,
           1,
           1,
           0,
           1,
           0,
           0,
           1,
           0,
           1,
           1,
           0,
           0,
           0,
           1,
           1,
           1,
           1,
           0,
           1,
           1,
           0,
           0,
           0,
           0,
           0,
           0,
           1,
           1,
           1,
           1,
           0,
           0,
           0,
           1,
           0,
           0,
           1,
           0,
           0,
           1,
           0,
           1,
           1,
           1,
           0,
           1,
           1,
           1,
           1,
           1,
           0,
           0,
           0,
           0,
           0,
           1,
           1,
           0,
           0,
           1,
           0,
           0,
           0,
           0,
           0,
           0,
           0,
           1,
           0,
           0,
           1,
           0,
           0,
           1,
           1,
           1,
           1,
           0,
           1,
           0,
           0,
           0,
           0,
           0,
           0,
           0,
           0,
           0,
           0,
           1,
           0,
           0,
           0,
           0,
           0,
           0,
           0,
           0,
           1,
           1,
           0,
           0,
           0,
           0,
           0,
           0,
           0,
           0,
           0,
           0,
           0,
           0,
           0,
           1,
           0,
           0,
           0,
           0,
           0,
           0,
           0,
           0,
           0,
           0,
           0,
           0,
           0,
           0,
           0,
           0,
           0,
           0,
           0,
           0,
           0,
           0,
           0,
           0,
           0,
           0,
           0,
           0,
           0,
           0,
           1,
           0,
           0,
           0,
           0,
           0,
           0,
           0,
           0,
           0,
           0,
           0,
           0,
           0,
           0,
           1,
           0,
           0,
           0,
           0,
           1,
           0,
           0,
           0,
           0,
           0,
           0,
           1,
           1,
           1,
           0,
           0,
           0,
           0,
           1,
           1,
           0,
           0,
           0,
           1,
           0,
           0,
           0,
           0,
           0,
           0,
           1,
           0,
           1,
           0,
           0,
           0,
           0,
           0,
           0,
           0,
           1,
           1,
           1,
           0,
           0,
           1,
           0,
           0,
           0,
           0,
           0,
           1,
           1,
           0,
           1,
           1,
           1,
           1,
           1,
           1,
           1,
           1,
           1,
           1,
           1,
           0,
           0,
           0,
           0,
           0,
           1,
           1,
           1,
           1,
           0,
           0,
           0,
           1,
           0,
           1,
           0,
           0,
           1,
           1,
           0,
           1,
           0,
           0,
           0,
           0,
           0,
           0,
           1,
           0,
           0,
           0,
           0,
           0,
           0,
           1,
           0,
           0,
           0,
           0,
           0,
           1,
           1,
           0,
           0,
           0,
           0,
           0,
           1,
           0
          ],
          "coloraxis": "coloraxis"
         },
         "mode": "markers",
         "name": "",
         "showlegend": false,
         "subplot": "mapbox",
         "type": "scattermapbox"
        }
       ],
       "layout": {
        "coloraxis": {
         "colorbar": {
          "title": {
           "text": "label"
          }
         },
         "colorscale": [
          [
           0,
           "green"
          ],
          [
           1,
           "red"
          ]
         ],
         "showscale": false
        },
        "height": 500,
        "legend": {
         "tracegroupgap": 0
        },
        "mapbox": {
         "center": {
          "lat": 47.692899581528245,
          "lon": 17.636138610531564
         },
         "domain": {
          "x": [
           0,
           1
          ],
          "y": [
           0,
           1
          ]
         },
         "style": "carto-positron",
         "zoom": 11
        },
        "margin": {
         "b": 0,
         "l": 0,
         "r": 0,
         "t": 0
        },
        "template": {
         "data": {
          "bar": [
           {
            "error_x": {
             "color": "#2a3f5f"
            },
            "error_y": {
             "color": "#2a3f5f"
            },
            "marker": {
             "line": {
              "color": "#E5ECF6",
              "width": 0.5
             }
            },
            "type": "bar"
           }
          ],
          "barpolar": [
           {
            "marker": {
             "line": {
              "color": "#E5ECF6",
              "width": 0.5
             }
            },
            "type": "barpolar"
           }
          ],
          "carpet": [
           {
            "aaxis": {
             "endlinecolor": "#2a3f5f",
             "gridcolor": "white",
             "linecolor": "white",
             "minorgridcolor": "white",
             "startlinecolor": "#2a3f5f"
            },
            "baxis": {
             "endlinecolor": "#2a3f5f",
             "gridcolor": "white",
             "linecolor": "white",
             "minorgridcolor": "white",
             "startlinecolor": "#2a3f5f"
            },
            "type": "carpet"
           }
          ],
          "choropleth": [
           {
            "colorbar": {
             "outlinewidth": 0,
             "ticks": ""
            },
            "type": "choropleth"
           }
          ],
          "contour": [
           {
            "colorbar": {
             "outlinewidth": 0,
             "ticks": ""
            },
            "colorscale": [
             [
              0,
              "#0d0887"
             ],
             [
              0.1111111111111111,
              "#46039f"
             ],
             [
              0.2222222222222222,
              "#7201a8"
             ],
             [
              0.3333333333333333,
              "#9c179e"
             ],
             [
              0.4444444444444444,
              "#bd3786"
             ],
             [
              0.5555555555555556,
              "#d8576b"
             ],
             [
              0.6666666666666666,
              "#ed7953"
             ],
             [
              0.7777777777777778,
              "#fb9f3a"
             ],
             [
              0.8888888888888888,
              "#fdca26"
             ],
             [
              1,
              "#f0f921"
             ]
            ],
            "type": "contour"
           }
          ],
          "contourcarpet": [
           {
            "colorbar": {
             "outlinewidth": 0,
             "ticks": ""
            },
            "type": "contourcarpet"
           }
          ],
          "heatmap": [
           {
            "colorbar": {
             "outlinewidth": 0,
             "ticks": ""
            },
            "colorscale": [
             [
              0,
              "#0d0887"
             ],
             [
              0.1111111111111111,
              "#46039f"
             ],
             [
              0.2222222222222222,
              "#7201a8"
             ],
             [
              0.3333333333333333,
              "#9c179e"
             ],
             [
              0.4444444444444444,
              "#bd3786"
             ],
             [
              0.5555555555555556,
              "#d8576b"
             ],
             [
              0.6666666666666666,
              "#ed7953"
             ],
             [
              0.7777777777777778,
              "#fb9f3a"
             ],
             [
              0.8888888888888888,
              "#fdca26"
             ],
             [
              1,
              "#f0f921"
             ]
            ],
            "type": "heatmap"
           }
          ],
          "heatmapgl": [
           {
            "colorbar": {
             "outlinewidth": 0,
             "ticks": ""
            },
            "colorscale": [
             [
              0,
              "#0d0887"
             ],
             [
              0.1111111111111111,
              "#46039f"
             ],
             [
              0.2222222222222222,
              "#7201a8"
             ],
             [
              0.3333333333333333,
              "#9c179e"
             ],
             [
              0.4444444444444444,
              "#bd3786"
             ],
             [
              0.5555555555555556,
              "#d8576b"
             ],
             [
              0.6666666666666666,
              "#ed7953"
             ],
             [
              0.7777777777777778,
              "#fb9f3a"
             ],
             [
              0.8888888888888888,
              "#fdca26"
             ],
             [
              1,
              "#f0f921"
             ]
            ],
            "type": "heatmapgl"
           }
          ],
          "histogram": [
           {
            "marker": {
             "colorbar": {
              "outlinewidth": 0,
              "ticks": ""
             }
            },
            "type": "histogram"
           }
          ],
          "histogram2d": [
           {
            "colorbar": {
             "outlinewidth": 0,
             "ticks": ""
            },
            "colorscale": [
             [
              0,
              "#0d0887"
             ],
             [
              0.1111111111111111,
              "#46039f"
             ],
             [
              0.2222222222222222,
              "#7201a8"
             ],
             [
              0.3333333333333333,
              "#9c179e"
             ],
             [
              0.4444444444444444,
              "#bd3786"
             ],
             [
              0.5555555555555556,
              "#d8576b"
             ],
             [
              0.6666666666666666,
              "#ed7953"
             ],
             [
              0.7777777777777778,
              "#fb9f3a"
             ],
             [
              0.8888888888888888,
              "#fdca26"
             ],
             [
              1,
              "#f0f921"
             ]
            ],
            "type": "histogram2d"
           }
          ],
          "histogram2dcontour": [
           {
            "colorbar": {
             "outlinewidth": 0,
             "ticks": ""
            },
            "colorscale": [
             [
              0,
              "#0d0887"
             ],
             [
              0.1111111111111111,
              "#46039f"
             ],
             [
              0.2222222222222222,
              "#7201a8"
             ],
             [
              0.3333333333333333,
              "#9c179e"
             ],
             [
              0.4444444444444444,
              "#bd3786"
             ],
             [
              0.5555555555555556,
              "#d8576b"
             ],
             [
              0.6666666666666666,
              "#ed7953"
             ],
             [
              0.7777777777777778,
              "#fb9f3a"
             ],
             [
              0.8888888888888888,
              "#fdca26"
             ],
             [
              1,
              "#f0f921"
             ]
            ],
            "type": "histogram2dcontour"
           }
          ],
          "mesh3d": [
           {
            "colorbar": {
             "outlinewidth": 0,
             "ticks": ""
            },
            "type": "mesh3d"
           }
          ],
          "parcoords": [
           {
            "line": {
             "colorbar": {
              "outlinewidth": 0,
              "ticks": ""
             }
            },
            "type": "parcoords"
           }
          ],
          "pie": [
           {
            "automargin": true,
            "type": "pie"
           }
          ],
          "scatter": [
           {
            "marker": {
             "colorbar": {
              "outlinewidth": 0,
              "ticks": ""
             }
            },
            "type": "scatter"
           }
          ],
          "scatter3d": [
           {
            "line": {
             "colorbar": {
              "outlinewidth": 0,
              "ticks": ""
             }
            },
            "marker": {
             "colorbar": {
              "outlinewidth": 0,
              "ticks": ""
             }
            },
            "type": "scatter3d"
           }
          ],
          "scattercarpet": [
           {
            "marker": {
             "colorbar": {
              "outlinewidth": 0,
              "ticks": ""
             }
            },
            "type": "scattercarpet"
           }
          ],
          "scattergeo": [
           {
            "marker": {
             "colorbar": {
              "outlinewidth": 0,
              "ticks": ""
             }
            },
            "type": "scattergeo"
           }
          ],
          "scattergl": [
           {
            "marker": {
             "colorbar": {
              "outlinewidth": 0,
              "ticks": ""
             }
            },
            "type": "scattergl"
           }
          ],
          "scattermapbox": [
           {
            "marker": {
             "colorbar": {
              "outlinewidth": 0,
              "ticks": ""
             }
            },
            "type": "scattermapbox"
           }
          ],
          "scatterpolar": [
           {
            "marker": {
             "colorbar": {
              "outlinewidth": 0,
              "ticks": ""
             }
            },
            "type": "scatterpolar"
           }
          ],
          "scatterpolargl": [
           {
            "marker": {
             "colorbar": {
              "outlinewidth": 0,
              "ticks": ""
             }
            },
            "type": "scatterpolargl"
           }
          ],
          "scatterternary": [
           {
            "marker": {
             "colorbar": {
              "outlinewidth": 0,
              "ticks": ""
             }
            },
            "type": "scatterternary"
           }
          ],
          "surface": [
           {
            "colorbar": {
             "outlinewidth": 0,
             "ticks": ""
            },
            "colorscale": [
             [
              0,
              "#0d0887"
             ],
             [
              0.1111111111111111,
              "#46039f"
             ],
             [
              0.2222222222222222,
              "#7201a8"
             ],
             [
              0.3333333333333333,
              "#9c179e"
             ],
             [
              0.4444444444444444,
              "#bd3786"
             ],
             [
              0.5555555555555556,
              "#d8576b"
             ],
             [
              0.6666666666666666,
              "#ed7953"
             ],
             [
              0.7777777777777778,
              "#fb9f3a"
             ],
             [
              0.8888888888888888,
              "#fdca26"
             ],
             [
              1,
              "#f0f921"
             ]
            ],
            "type": "surface"
           }
          ],
          "table": [
           {
            "cells": {
             "fill": {
              "color": "#EBF0F8"
             },
             "line": {
              "color": "white"
             }
            },
            "header": {
             "fill": {
              "color": "#C8D4E3"
             },
             "line": {
              "color": "white"
             }
            },
            "type": "table"
           }
          ]
         },
         "layout": {
          "annotationdefaults": {
           "arrowcolor": "#2a3f5f",
           "arrowhead": 0,
           "arrowwidth": 1
          },
          "coloraxis": {
           "colorbar": {
            "outlinewidth": 0,
            "ticks": ""
           }
          },
          "colorscale": {
           "diverging": [
            [
             0,
             "#8e0152"
            ],
            [
             0.1,
             "#c51b7d"
            ],
            [
             0.2,
             "#de77ae"
            ],
            [
             0.3,
             "#f1b6da"
            ],
            [
             0.4,
             "#fde0ef"
            ],
            [
             0.5,
             "#f7f7f7"
            ],
            [
             0.6,
             "#e6f5d0"
            ],
            [
             0.7,
             "#b8e186"
            ],
            [
             0.8,
             "#7fbc41"
            ],
            [
             0.9,
             "#4d9221"
            ],
            [
             1,
             "#276419"
            ]
           ],
           "sequential": [
            [
             0,
             "#0d0887"
            ],
            [
             0.1111111111111111,
             "#46039f"
            ],
            [
             0.2222222222222222,
             "#7201a8"
            ],
            [
             0.3333333333333333,
             "#9c179e"
            ],
            [
             0.4444444444444444,
             "#bd3786"
            ],
            [
             0.5555555555555556,
             "#d8576b"
            ],
            [
             0.6666666666666666,
             "#ed7953"
            ],
            [
             0.7777777777777778,
             "#fb9f3a"
            ],
            [
             0.8888888888888888,
             "#fdca26"
            ],
            [
             1,
             "#f0f921"
            ]
           ],
           "sequentialminus": [
            [
             0,
             "#0d0887"
            ],
            [
             0.1111111111111111,
             "#46039f"
            ],
            [
             0.2222222222222222,
             "#7201a8"
            ],
            [
             0.3333333333333333,
             "#9c179e"
            ],
            [
             0.4444444444444444,
             "#bd3786"
            ],
            [
             0.5555555555555556,
             "#d8576b"
            ],
            [
             0.6666666666666666,
             "#ed7953"
            ],
            [
             0.7777777777777778,
             "#fb9f3a"
            ],
            [
             0.8888888888888888,
             "#fdca26"
            ],
            [
             1,
             "#f0f921"
            ]
           ]
          },
          "colorway": [
           "#636efa",
           "#EF553B",
           "#00cc96",
           "#ab63fa",
           "#FFA15A",
           "#19d3f3",
           "#FF6692",
           "#B6E880",
           "#FF97FF",
           "#FECB52"
          ],
          "font": {
           "color": "#2a3f5f"
          },
          "geo": {
           "bgcolor": "white",
           "lakecolor": "white",
           "landcolor": "#E5ECF6",
           "showlakes": true,
           "showland": true,
           "subunitcolor": "white"
          },
          "hoverlabel": {
           "align": "left"
          },
          "hovermode": "closest",
          "mapbox": {
           "style": "light"
          },
          "paper_bgcolor": "white",
          "plot_bgcolor": "#E5ECF6",
          "polar": {
           "angularaxis": {
            "gridcolor": "white",
            "linecolor": "white",
            "ticks": ""
           },
           "bgcolor": "#E5ECF6",
           "radialaxis": {
            "gridcolor": "white",
            "linecolor": "white",
            "ticks": ""
           }
          },
          "scene": {
           "xaxis": {
            "backgroundcolor": "#E5ECF6",
            "gridcolor": "white",
            "gridwidth": 2,
            "linecolor": "white",
            "showbackground": true,
            "ticks": "",
            "zerolinecolor": "white"
           },
           "yaxis": {
            "backgroundcolor": "#E5ECF6",
            "gridcolor": "white",
            "gridwidth": 2,
            "linecolor": "white",
            "showbackground": true,
            "ticks": "",
            "zerolinecolor": "white"
           },
           "zaxis": {
            "backgroundcolor": "#E5ECF6",
            "gridcolor": "white",
            "gridwidth": 2,
            "linecolor": "white",
            "showbackground": true,
            "ticks": "",
            "zerolinecolor": "white"
           }
          },
          "shapedefaults": {
           "line": {
            "color": "#2a3f5f"
           }
          },
          "ternary": {
           "aaxis": {
            "gridcolor": "white",
            "linecolor": "white",
            "ticks": ""
           },
           "baxis": {
            "gridcolor": "white",
            "linecolor": "white",
            "ticks": ""
           },
           "bgcolor": "#E5ECF6",
           "caxis": {
            "gridcolor": "white",
            "linecolor": "white",
            "ticks": ""
           }
          },
          "title": {
           "x": 0.05
          },
          "xaxis": {
           "automargin": true,
           "gridcolor": "white",
           "linecolor": "white",
           "ticks": "",
           "title": {
            "standoff": 15
           },
           "zerolinecolor": "white",
           "zerolinewidth": 2
          },
          "yaxis": {
           "automargin": true,
           "gridcolor": "white",
           "linecolor": "white",
           "ticks": "",
           "title": {
            "standoff": 15
           },
           "zerolinecolor": "white",
           "zerolinewidth": 2
          }
         }
        }
       }
      },
      "text/html": [
       "<div>\n",
       "        \n",
       "        \n",
       "            <div id=\"70d60e63-89c8-40f2-a53f-dedad0183fa9\" class=\"plotly-graph-div\" style=\"height:500px; width:100%;\"></div>\n",
       "            <script type=\"text/javascript\">\n",
       "                require([\"plotly\"], function(Plotly) {\n",
       "                    window.PLOTLYENV=window.PLOTLYENV || {};\n",
       "                    \n",
       "                if (document.getElementById(\"70d60e63-89c8-40f2-a53f-dedad0183fa9\")) {\n",
       "                    Plotly.newPlot(\n",
       "                        '70d60e63-89c8-40f2-a53f-dedad0183fa9',\n",
       "                        [{\"hovertemplate\": \"lat=%{lat}<br>lon=%{lon}<br>label=%{marker.color}<extra></extra>\", \"lat\": [47.68665984, 47.68667121, 47.68676218, 47.68762722, 47.68768801, 47.68804206, 47.68801538, 47.6879706, 47.68792295, 47.68787753, 47.68782726, 47.6877789, 47.68756102, 47.68761922, 47.68768563, 47.68775998, 47.68783665, 47.68791626, 47.68799269, 47.68806131, 47.68812369, 47.68820032, 47.68825905, 47.68831169, 47.68835893, 47.68841748, 47.68849519, 47.68858279, 47.68867467, 47.68873776, 47.68879749, 47.68884378, 47.68885578, 47.68891284, 47.68896433, 47.68903234, 47.68911167, 47.68921445, 47.68931763, 47.68942127, 47.68953453, 47.68962588, 47.68972278, 47.68981035, 47.68988973, 47.68994898, 47.69008998, 47.69010657, 47.69016626, 47.69024011, 47.69032164, 47.69040079, 47.69050142, 47.690612, 47.69072759, 47.69083753, 47.69093664, 47.69102771, 47.69111013, 47.69117196, 47.6912217, 47.69132114, 47.69140974, 47.69145822, 47.69147617, 47.69154609, 47.69162193, 47.69167722, 47.69177272, 47.69187806, 47.69198545, 47.69208711, 47.69218678, 47.69228142, 47.69235032, 47.69250453, 47.69261783, 47.69272705, 47.69283084, 47.69293053, 47.69304701, 47.69309285, 47.69309591, 47.6930578, 47.69300756, 47.69296184, 47.69292154, 47.69288446, 47.69284882, 47.69281844, 47.69278882, 47.69276402, 47.69274281, 47.69271873, 47.69269254, 47.69266343, 47.6926363, 47.69260458, 47.69256766, 47.69253059, 47.692493, 47.69245136, 47.69240901, 47.69238901, 47.69232583, 47.69228724, 47.69225087, 47.69221529, 47.69217992, 47.6921442, 47.69210887, 47.69207411, 47.6920397, 47.69200459, 47.6919681, 47.69193712, 47.69187963, 47.69182161, 47.69177726, 47.69173315, 47.69169176, 47.69165034, 47.69161328, 47.69158298, 47.6915538, 47.69153011, 47.69168912, 47.69174523, 47.69181536, 47.69181504, 47.69179735, 47.69176045, 47.69168864, 47.69161042, 47.69153226, 47.69146226, 47.69140207, 47.69134365, 47.69128459, 47.69122307, 47.69116487, 47.69111055, 47.69105319, 47.69100432, 47.69095176, 47.69090081, 47.690853, 47.6908024, 47.69075681, 47.69071456, 47.69066853, 47.69062441, 47.69057646, 47.69053201, 47.69048457, 47.69044549, 47.69040637, 47.69036752, 47.69033276, 47.6902902, 47.69025154, 47.69021265, 47.69016252, 47.6901187, 47.69004838, 47.68997983, 47.68992432, 47.68979409, 47.6898357, 47.68988918, 47.69006894, 47.69010222, 47.69017594, 47.6902368, 47.69029484, 47.69036076, 47.69043266, 47.69050363, 47.69057054, 47.69063689, 47.69070681, 47.69077352, 47.69084168, 47.69091108, 47.6909765, 47.6910398, 47.69110853, 47.69117573, 47.69125073, 47.69132377, 47.69139419, 47.69142251, 47.69155295, 47.69163218, 47.69171042, 47.69178525, 47.69186282, 47.69194334, 47.69202598, 47.69210896, 47.69219036, 47.69227079, 47.69234887, 47.69242754, 47.69250742, 47.69259167, 47.69266865, 47.69274671, 47.69278558, 47.69290576, 47.69297983, 47.69304463, 47.69310142, 47.69315656, 47.69319669, 47.69324583, 47.69330218, 47.69336647, 47.69343036, 47.69349521, 47.69356138, 47.69362799, 47.69369072, 47.69375265, 47.69380854, 47.69385455, 47.69406205, 47.69411331, 47.69419442, 47.69420358, 47.6943144, 47.69441258, 47.69452494, 47.69464278, 47.69476884, 47.6948871, 47.69499469, 47.69510915, 47.69520972, 47.69533651, 47.69546008, 47.69557367, 47.69565346, 47.69582974, 47.69596818, 47.69610101, 47.69623501, 47.69636779, 47.69649724, 47.69662743, 47.69676009, 47.69688958, 47.69701574, 47.69714259, 47.69727226, 47.69740957, 47.69754664, 47.69768588, 47.69782108, 47.69796356, 47.69803105, 47.69823863, 47.69838098, 47.69851852, 47.69865721, 47.69879953, 47.69893644, 47.69907595, 47.69921466, 47.69935268, 47.69948748, 47.69962116, 47.69969506, 47.69989098, 47.70002177, 47.70015575, 47.70028855, 47.70042128, 47.70055367, 47.70068432, 47.70081766, 47.70095188, 47.70108469, 47.70121731, 47.70135216, 47.70148582, 47.70161956, 47.70175387, 47.70188748, 47.70202267, 47.70215877, 47.70229535, 47.7024338, 47.70257109, 47.70271129, 47.70285103, 47.70299285, 47.70313696, 47.70327759, 47.70342045, 47.70356175], \"legendgroup\": \"\", \"lon\": [17.64932557, 17.64923157, 17.64922868, 17.64837152, 17.64830931, 17.64778528, 17.64770828, 17.64761739, 17.64752929, 17.64745575, 17.64736435, 17.64727831, 17.64667027, 17.64654016, 17.64637826, 17.64622038, 17.64605247, 17.64588495, 17.64572646, 17.64557904, 17.64546214, 17.64533582, 17.64524483, 17.64516795, 17.64510898, 17.6450485, 17.64501534, 17.64499172, 17.6449543, 17.6449034, 17.64481246, 17.64466405, 17.64453713, 17.6443134, 17.64414537, 17.64399471, 17.64386249, 17.64373841, 17.64363837, 17.64353331, 17.64343073, 17.64334612, 17.64326374, 17.64318621, 17.64311906, 17.64307739, 17.64306276, 17.64309139, 17.64318403, 17.64324812, 17.6432854, 17.64328556, 17.64324585, 17.64315811, 17.64304933, 17.64294434, 17.64284927, 17.64276721, 17.64270777, 17.64265888, 17.64261955, 17.64265718, 17.6426875, 17.64274809, 17.64286492, 17.64294513, 17.64290487, 17.64275989, 17.64268117, 17.64262065, 17.64256769, 17.64251839, 17.64247007, 17.64242417, 17.64239076, 17.64234049, 17.64230361, 17.64226806, 17.64223414, 17.64219693, 17.64213743, 17.64209361, 17.64188485, 17.64179535, 17.64166677, 17.64152166, 17.64138543, 17.64126107, 17.64114414, 17.64104448, 17.64094836, 17.64086951, 17.64080469, 17.64073206, 17.64065814, 17.64057595, 17.64049937, 17.6404103, 17.64030786, 17.64020496, 17.64010065, 17.6399851, 17.63986756, 17.63981207, 17.63961438, 17.63949359, 17.63937973, 17.63927017, 17.63916243, 17.63905377, 17.63894781, 17.63884356, 17.63874034, 17.63863505, 17.63852561, 17.63844744, 17.63835017, 17.63819679, 17.63807662, 17.63795708, 17.63784494, 17.63773272, 17.63763231, 17.63755021, 17.63747116, 17.63740695, 17.63705981, 17.63699559, 17.6368559, 17.63685344, 17.63675178, 17.63667271, 17.63656464, 17.63644609, 17.63631756, 17.63617727, 17.63602219, 17.63587168, 17.63570393, 17.63554407, 17.63537872, 17.63522245, 17.63505215, 17.63490439, 17.63474424, 17.63458475, 17.63443103, 17.63426774, 17.63410657, 17.63395015, 17.63377977, 17.63362566, 17.63346066, 17.63330771, 17.63313813, 17.6329925, 17.63283876, 17.632683, 17.63254363, 17.63239658, 17.63226505, 17.63214396, 17.63204136, 17.63195937, 17.63193133, 17.63192991, 17.63195854, 17.6325124, 17.63257046, 17.63261846, 17.63247226, 17.63245071, 17.63240919, 17.63237357, 17.63233556, 17.63229236, 17.63224641, 17.63220228, 17.63216069, 17.63211944, 17.63207597, 17.63203449, 17.63199212, 17.63194897, 17.63190831, 17.63186895, 17.63182608, 17.63178409, 17.63173722, 17.6316913, 17.6316469, 17.63162904, 17.63154055, 17.63148646, 17.631433, 17.63138187, 17.6313306, 17.63127949, 17.63122704, 17.63117437, 17.63112271, 17.63107166, 17.6310221, 17.63097217, 17.63092147, 17.63086799, 17.63081914, 17.63076959, 17.63074491, 17.63067349, 17.63062955, 17.6305911, 17.63055741, 17.6305247, 17.63050089, 17.63047174, 17.63043831, 17.63040016, 17.63036226, 17.63032378, 17.63028453, 17.630245, 17.63020778, 17.63017102, 17.63013784, 17.63011054, 17.63019127, 17.63020038, 17.63019246, 17.63018723, 17.63005807, 17.63003756, 17.63005126, 17.63007026, 17.63005853, 17.63006446, 17.6300662, 17.63005824, 17.63003577, 17.62999569, 17.62994778, 17.62990134, 17.62986872, 17.62980624, 17.6297572, 17.6297106, 17.62966419, 17.62961822, 17.62957339, 17.6295283, 17.62948237, 17.62943753, 17.62939924, 17.62936644, 17.62934664, 17.62933623, 17.62933544, 17.62933883, 17.62934133, 17.62933794, 17.62933483, 17.62936701, 17.62938273, 17.62939291, 17.62940318, 17.62941372, 17.62942386, 17.62943419, 17.62944771, 17.62946679, 17.62948079, 17.62949251, 17.62949899, 17.6295411, 17.62956949, 17.62960116, 17.62963569, 17.62967226, 17.62970921, 17.62974648, 17.62978453, 17.62983045, 17.62988032, 17.62993013, 17.62998077, 17.63003096, 17.63008102, 17.630129, 17.63017497, 17.63021741, 17.63025667, 17.63029559, 17.63033662, 17.63037905, 17.63042273, 17.63046782, 17.63051358, 17.63056009, 17.63060546, 17.63065156, 17.63069716], \"marker\": {\"color\": [0, 0, 0, 0, 0, 1, 0, 0, 0, 0, 0, 0, 1, 1, 0, 1, 0, 1, 0, 1, 1, 1, 1, 1, 0, 0, 1, 1, 1, 0, 1, 0, 0, 1, 0, 1, 1, 0, 0, 0, 1, 1, 1, 1, 0, 1, 1, 0, 0, 0, 0, 0, 0, 1, 1, 1, 1, 0, 0, 0, 1, 0, 0, 1, 0, 0, 1, 0, 1, 1, 1, 0, 1, 1, 1, 1, 1, 0, 0, 0, 0, 0, 1, 1, 0, 0, 1, 0, 0, 0, 0, 0, 0, 0, 1, 0, 0, 1, 0, 0, 1, 1, 1, 1, 0, 1, 0, 0, 0, 0, 0, 0, 0, 0, 0, 0, 1, 0, 0, 0, 0, 0, 0, 0, 0, 1, 1, 0, 0, 0, 0, 0, 0, 0, 0, 0, 0, 0, 0, 0, 1, 0, 0, 0, 0, 0, 0, 0, 0, 0, 0, 0, 0, 0, 0, 0, 0, 0, 0, 0, 0, 0, 0, 0, 0, 0, 0, 0, 0, 0, 0, 1, 0, 0, 0, 0, 0, 0, 0, 0, 0, 0, 0, 0, 0, 0, 1, 0, 0, 0, 0, 1, 0, 0, 0, 0, 0, 0, 1, 1, 1, 0, 0, 0, 0, 1, 1, 0, 0, 0, 1, 0, 0, 0, 0, 0, 0, 1, 0, 1, 0, 0, 0, 0, 0, 0, 0, 1, 1, 1, 0, 0, 1, 0, 0, 0, 0, 0, 1, 1, 0, 1, 1, 1, 1, 1, 1, 1, 1, 1, 1, 1, 0, 0, 0, 0, 0, 1, 1, 1, 1, 0, 0, 0, 1, 0, 1, 0, 0, 1, 1, 0, 1, 0, 0, 0, 0, 0, 0, 1, 0, 0, 0, 0, 0, 0, 1, 0, 0, 0, 0, 0, 1, 1, 0, 0, 0, 0, 0, 1, 0], \"coloraxis\": \"coloraxis\"}, \"mode\": \"markers\", \"name\": \"\", \"showlegend\": false, \"subplot\": \"mapbox\", \"type\": \"scattermapbox\"}],\n",
       "                        {\"coloraxis\": {\"colorbar\": {\"title\": {\"text\": \"label\"}}, \"colorscale\": [[0.0, \"green\"], [1.0, \"red\"]], \"showscale\": false}, \"height\": 500, \"legend\": {\"tracegroupgap\": 0}, \"mapbox\": {\"center\": {\"lat\": 47.692899581528245, \"lon\": 17.636138610531564}, \"domain\": {\"x\": [0.0, 1.0], \"y\": [0.0, 1.0]}, \"style\": \"carto-positron\", \"zoom\": 11}, \"margin\": {\"b\": 0, \"l\": 0, \"r\": 0, \"t\": 0}, \"template\": {\"data\": {\"bar\": [{\"error_x\": {\"color\": \"#2a3f5f\"}, \"error_y\": {\"color\": \"#2a3f5f\"}, \"marker\": {\"line\": {\"color\": \"#E5ECF6\", \"width\": 0.5}}, \"type\": \"bar\"}], \"barpolar\": [{\"marker\": {\"line\": {\"color\": \"#E5ECF6\", \"width\": 0.5}}, \"type\": \"barpolar\"}], \"carpet\": [{\"aaxis\": {\"endlinecolor\": \"#2a3f5f\", \"gridcolor\": \"white\", \"linecolor\": \"white\", \"minorgridcolor\": \"white\", \"startlinecolor\": \"#2a3f5f\"}, \"baxis\": {\"endlinecolor\": \"#2a3f5f\", \"gridcolor\": \"white\", \"linecolor\": \"white\", \"minorgridcolor\": \"white\", \"startlinecolor\": \"#2a3f5f\"}, \"type\": \"carpet\"}], \"choropleth\": [{\"colorbar\": {\"outlinewidth\": 0, \"ticks\": \"\"}, \"type\": \"choropleth\"}], \"contour\": [{\"colorbar\": {\"outlinewidth\": 0, \"ticks\": \"\"}, \"colorscale\": [[0.0, \"#0d0887\"], [0.1111111111111111, \"#46039f\"], [0.2222222222222222, \"#7201a8\"], [0.3333333333333333, \"#9c179e\"], [0.4444444444444444, \"#bd3786\"], [0.5555555555555556, \"#d8576b\"], [0.6666666666666666, \"#ed7953\"], [0.7777777777777778, \"#fb9f3a\"], [0.8888888888888888, \"#fdca26\"], [1.0, \"#f0f921\"]], \"type\": \"contour\"}], \"contourcarpet\": [{\"colorbar\": {\"outlinewidth\": 0, \"ticks\": \"\"}, \"type\": \"contourcarpet\"}], \"heatmap\": [{\"colorbar\": {\"outlinewidth\": 0, \"ticks\": \"\"}, \"colorscale\": [[0.0, \"#0d0887\"], [0.1111111111111111, \"#46039f\"], [0.2222222222222222, \"#7201a8\"], [0.3333333333333333, \"#9c179e\"], [0.4444444444444444, \"#bd3786\"], [0.5555555555555556, \"#d8576b\"], [0.6666666666666666, \"#ed7953\"], [0.7777777777777778, \"#fb9f3a\"], [0.8888888888888888, \"#fdca26\"], [1.0, \"#f0f921\"]], \"type\": \"heatmap\"}], \"heatmapgl\": [{\"colorbar\": {\"outlinewidth\": 0, \"ticks\": \"\"}, \"colorscale\": [[0.0, \"#0d0887\"], [0.1111111111111111, \"#46039f\"], [0.2222222222222222, \"#7201a8\"], [0.3333333333333333, \"#9c179e\"], [0.4444444444444444, \"#bd3786\"], [0.5555555555555556, \"#d8576b\"], [0.6666666666666666, \"#ed7953\"], [0.7777777777777778, \"#fb9f3a\"], [0.8888888888888888, \"#fdca26\"], [1.0, \"#f0f921\"]], \"type\": \"heatmapgl\"}], \"histogram\": [{\"marker\": {\"colorbar\": {\"outlinewidth\": 0, \"ticks\": \"\"}}, \"type\": \"histogram\"}], \"histogram2d\": [{\"colorbar\": {\"outlinewidth\": 0, \"ticks\": \"\"}, \"colorscale\": [[0.0, \"#0d0887\"], [0.1111111111111111, \"#46039f\"], [0.2222222222222222, \"#7201a8\"], [0.3333333333333333, \"#9c179e\"], [0.4444444444444444, \"#bd3786\"], [0.5555555555555556, \"#d8576b\"], [0.6666666666666666, \"#ed7953\"], [0.7777777777777778, \"#fb9f3a\"], [0.8888888888888888, \"#fdca26\"], [1.0, \"#f0f921\"]], \"type\": \"histogram2d\"}], \"histogram2dcontour\": [{\"colorbar\": {\"outlinewidth\": 0, \"ticks\": \"\"}, \"colorscale\": [[0.0, \"#0d0887\"], [0.1111111111111111, \"#46039f\"], [0.2222222222222222, \"#7201a8\"], [0.3333333333333333, \"#9c179e\"], [0.4444444444444444, \"#bd3786\"], [0.5555555555555556, \"#d8576b\"], [0.6666666666666666, \"#ed7953\"], [0.7777777777777778, \"#fb9f3a\"], [0.8888888888888888, \"#fdca26\"], [1.0, \"#f0f921\"]], \"type\": \"histogram2dcontour\"}], \"mesh3d\": [{\"colorbar\": {\"outlinewidth\": 0, \"ticks\": \"\"}, \"type\": \"mesh3d\"}], \"parcoords\": [{\"line\": {\"colorbar\": {\"outlinewidth\": 0, \"ticks\": \"\"}}, \"type\": \"parcoords\"}], \"pie\": [{\"automargin\": true, \"type\": \"pie\"}], \"scatter\": [{\"marker\": {\"colorbar\": {\"outlinewidth\": 0, \"ticks\": \"\"}}, \"type\": \"scatter\"}], \"scatter3d\": [{\"line\": {\"colorbar\": {\"outlinewidth\": 0, \"ticks\": \"\"}}, \"marker\": {\"colorbar\": {\"outlinewidth\": 0, \"ticks\": \"\"}}, \"type\": \"scatter3d\"}], \"scattercarpet\": [{\"marker\": {\"colorbar\": {\"outlinewidth\": 0, \"ticks\": \"\"}}, \"type\": \"scattercarpet\"}], \"scattergeo\": [{\"marker\": {\"colorbar\": {\"outlinewidth\": 0, \"ticks\": \"\"}}, \"type\": \"scattergeo\"}], \"scattergl\": [{\"marker\": {\"colorbar\": {\"outlinewidth\": 0, \"ticks\": \"\"}}, \"type\": \"scattergl\"}], \"scattermapbox\": [{\"marker\": {\"colorbar\": {\"outlinewidth\": 0, \"ticks\": \"\"}}, \"type\": \"scattermapbox\"}], \"scatterpolar\": [{\"marker\": {\"colorbar\": {\"outlinewidth\": 0, \"ticks\": \"\"}}, \"type\": \"scatterpolar\"}], \"scatterpolargl\": [{\"marker\": {\"colorbar\": {\"outlinewidth\": 0, \"ticks\": \"\"}}, \"type\": \"scatterpolargl\"}], \"scatterternary\": [{\"marker\": {\"colorbar\": {\"outlinewidth\": 0, \"ticks\": \"\"}}, \"type\": \"scatterternary\"}], \"surface\": [{\"colorbar\": {\"outlinewidth\": 0, \"ticks\": \"\"}, \"colorscale\": [[0.0, \"#0d0887\"], [0.1111111111111111, \"#46039f\"], [0.2222222222222222, \"#7201a8\"], [0.3333333333333333, \"#9c179e\"], [0.4444444444444444, \"#bd3786\"], [0.5555555555555556, \"#d8576b\"], [0.6666666666666666, \"#ed7953\"], [0.7777777777777778, \"#fb9f3a\"], [0.8888888888888888, \"#fdca26\"], [1.0, \"#f0f921\"]], \"type\": \"surface\"}], \"table\": [{\"cells\": {\"fill\": {\"color\": \"#EBF0F8\"}, \"line\": {\"color\": \"white\"}}, \"header\": {\"fill\": {\"color\": \"#C8D4E3\"}, \"line\": {\"color\": \"white\"}}, \"type\": \"table\"}]}, \"layout\": {\"annotationdefaults\": {\"arrowcolor\": \"#2a3f5f\", \"arrowhead\": 0, \"arrowwidth\": 1}, \"coloraxis\": {\"colorbar\": {\"outlinewidth\": 0, \"ticks\": \"\"}}, \"colorscale\": {\"diverging\": [[0, \"#8e0152\"], [0.1, \"#c51b7d\"], [0.2, \"#de77ae\"], [0.3, \"#f1b6da\"], [0.4, \"#fde0ef\"], [0.5, \"#f7f7f7\"], [0.6, \"#e6f5d0\"], [0.7, \"#b8e186\"], [0.8, \"#7fbc41\"], [0.9, \"#4d9221\"], [1, \"#276419\"]], \"sequential\": [[0.0, \"#0d0887\"], [0.1111111111111111, \"#46039f\"], [0.2222222222222222, \"#7201a8\"], [0.3333333333333333, \"#9c179e\"], [0.4444444444444444, \"#bd3786\"], [0.5555555555555556, \"#d8576b\"], [0.6666666666666666, \"#ed7953\"], [0.7777777777777778, \"#fb9f3a\"], [0.8888888888888888, \"#fdca26\"], [1.0, \"#f0f921\"]], \"sequentialminus\": [[0.0, \"#0d0887\"], [0.1111111111111111, \"#46039f\"], [0.2222222222222222, \"#7201a8\"], [0.3333333333333333, \"#9c179e\"], [0.4444444444444444, \"#bd3786\"], [0.5555555555555556, \"#d8576b\"], [0.6666666666666666, \"#ed7953\"], [0.7777777777777778, \"#fb9f3a\"], [0.8888888888888888, \"#fdca26\"], [1.0, \"#f0f921\"]]}, \"colorway\": [\"#636efa\", \"#EF553B\", \"#00cc96\", \"#ab63fa\", \"#FFA15A\", \"#19d3f3\", \"#FF6692\", \"#B6E880\", \"#FF97FF\", \"#FECB52\"], \"font\": {\"color\": \"#2a3f5f\"}, \"geo\": {\"bgcolor\": \"white\", \"lakecolor\": \"white\", \"landcolor\": \"#E5ECF6\", \"showlakes\": true, \"showland\": true, \"subunitcolor\": \"white\"}, \"hoverlabel\": {\"align\": \"left\"}, \"hovermode\": \"closest\", \"mapbox\": {\"style\": \"light\"}, \"paper_bgcolor\": \"white\", \"plot_bgcolor\": \"#E5ECF6\", \"polar\": {\"angularaxis\": {\"gridcolor\": \"white\", \"linecolor\": \"white\", \"ticks\": \"\"}, \"bgcolor\": \"#E5ECF6\", \"radialaxis\": {\"gridcolor\": \"white\", \"linecolor\": \"white\", \"ticks\": \"\"}}, \"scene\": {\"xaxis\": {\"backgroundcolor\": \"#E5ECF6\", \"gridcolor\": \"white\", \"gridwidth\": 2, \"linecolor\": \"white\", \"showbackground\": true, \"ticks\": \"\", \"zerolinecolor\": \"white\"}, \"yaxis\": {\"backgroundcolor\": \"#E5ECF6\", \"gridcolor\": \"white\", \"gridwidth\": 2, \"linecolor\": \"white\", \"showbackground\": true, \"ticks\": \"\", \"zerolinecolor\": \"white\"}, \"zaxis\": {\"backgroundcolor\": \"#E5ECF6\", \"gridcolor\": \"white\", \"gridwidth\": 2, \"linecolor\": \"white\", \"showbackground\": true, \"ticks\": \"\", \"zerolinecolor\": \"white\"}}, \"shapedefaults\": {\"line\": {\"color\": \"#2a3f5f\"}}, \"ternary\": {\"aaxis\": {\"gridcolor\": \"white\", \"linecolor\": \"white\", \"ticks\": \"\"}, \"baxis\": {\"gridcolor\": \"white\", \"linecolor\": \"white\", \"ticks\": \"\"}, \"bgcolor\": \"#E5ECF6\", \"caxis\": {\"gridcolor\": \"white\", \"linecolor\": \"white\", \"ticks\": \"\"}}, \"title\": {\"x\": 0.05}, \"xaxis\": {\"automargin\": true, \"gridcolor\": \"white\", \"linecolor\": \"white\", \"ticks\": \"\", \"title\": {\"standoff\": 15}, \"zerolinecolor\": \"white\", \"zerolinewidth\": 2}, \"yaxis\": {\"automargin\": true, \"gridcolor\": \"white\", \"linecolor\": \"white\", \"ticks\": \"\", \"title\": {\"standoff\": 15}, \"zerolinecolor\": \"white\", \"zerolinewidth\": 2}}}},\n",
       "                        {\"responsive\": true}\n",
       "                    ).then(function(){\n",
       "                            \n",
       "var gd = document.getElementById('70d60e63-89c8-40f2-a53f-dedad0183fa9');\n",
       "var x = new MutationObserver(function (mutations, observer) {{\n",
       "        var display = window.getComputedStyle(gd).display;\n",
       "        if (!display || display === 'none') {{\n",
       "            console.log([gd, 'removed!']);\n",
       "            Plotly.purge(gd);\n",
       "            observer.disconnect();\n",
       "        }}\n",
       "}});\n",
       "\n",
       "// Listen for the removal of the full notebook cells\n",
       "var notebookContainer = gd.closest('#notebook-container');\n",
       "if (notebookContainer) {{\n",
       "    x.observe(notebookContainer, {childList: true});\n",
       "}}\n",
       "\n",
       "// Listen for the clearing of the current output cell\n",
       "var outputEl = gd.closest('.output');\n",
       "if (outputEl) {{\n",
       "    x.observe(outputEl, {childList: true});\n",
       "}}\n",
       "\n",
       "                        })\n",
       "                };\n",
       "                });\n",
       "            </script>\n",
       "        </div>"
      ]
     },
     "metadata": {},
     "output_type": "display_data"
    }
   ],
   "source": [
    "fig = go.Figure()\n",
    "fig = px.scatter_mapbox(map_df, \n",
    "                        lat=\"lat\", \n",
    "                        lon=\"lon\",\n",
    "                        zoom = 11, \n",
    "                        height=500, \n",
    "                        color = \"label\", \n",
    "                        color_continuous_scale=[\"green\",\"red\"])\n",
    "fig.update_layout(mapbox_style=\"carto-positron\")\n",
    "fig.update_layout(margin={\"r\":0,\"t\":0,\"l\":0,\"b\":0})\n",
    "fig.layout.coloraxis.showscale = False\n",
    "fig"
   ]
  },
  {
   "cell_type": "code",
   "execution_count": null,
   "metadata": {},
   "outputs": [],
   "source": []
  }
 ],
 "metadata": {
  "kernelspec": {
   "display_name": "Python 3",
   "language": "python",
   "name": "python3"
  },
  "language_info": {
   "codemirror_mode": {
    "name": "ipython",
    "version": 3
   },
   "file_extension": ".py",
   "mimetype": "text/x-python",
   "name": "python",
   "nbconvert_exporter": "python",
   "pygments_lexer": "ipython3",
   "version": "3.7.5"
  },
  "notify_time": "5",
  "toc": {
   "base_numbering": 1,
   "nav_menu": {},
   "number_sections": true,
   "sideBar": true,
   "skip_h1_title": false,
   "title_cell": "Table of Contents",
   "title_sidebar": "Contents",
   "toc_cell": false,
   "toc_position": {},
   "toc_section_display": true,
   "toc_window_display": true
  },
  "varInspector": {
   "cols": {
    "lenName": 16,
    "lenType": 16,
    "lenVar": 40
   },
   "kernels_config": {
    "python": {
     "delete_cmd_postfix": "",
     "delete_cmd_prefix": "del ",
     "library": "var_list.py",
     "varRefreshCmd": "print(var_dic_list())"
    },
    "r": {
     "delete_cmd_postfix": ") ",
     "delete_cmd_prefix": "rm(",
     "library": "var_list.r",
     "varRefreshCmd": "cat(var_dic_list()) "
    }
   },
   "position": {
    "height": "646.719px",
    "left": "979.091px",
    "right": "20px",
    "top": "120px",
    "width": "350px"
   },
   "types_to_exclude": [
    "module",
    "function",
    "builtin_function_or_method",
    "instance",
    "_Feature"
   ],
   "window_display": false
  }
 },
 "nbformat": 4,
 "nbformat_minor": 4
}
