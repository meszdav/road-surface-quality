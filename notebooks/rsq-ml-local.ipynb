{
 "cells": [
  {
   "cell_type": "markdown",
   "metadata": {},
   "source": [
    "## Import dependencies\n"
   ]
  },
  {
   "cell_type": "code",
   "execution_count": 7,
   "metadata": {
    "ExecuteTime": {
     "end_time": "2020-08-29T11:24:51.966428Z",
     "start_time": "2020-08-29T11:24:51.956436Z"
    }
   },
   "outputs": [],
   "source": [
    "import pandas as pd\n",
    "from sklearn.ensemble import RandomForestClassifier\n",
    "from sklearn.svm import SVC\n",
    "from sklearn.neighbors import KNeighborsClassifier\n",
    "from sklearn.ensemble import AdaBoostClassifier, GradientBoostingClassifier\n",
    "from sklearn.naive_bayes import GaussianNB\n",
    "from sklearn.linear_model import LogisticRegressionCV\n",
    "from sklearn.preprocessing import MinMaxScaler, StandardScaler\n",
    "from sklearn.metrics import accuracy_score, f1_score, precision_score, recall_score\n",
    "import matplotlib.pyplot as plt\n",
    "from sklearn.model_selection import cross_validate\n",
    "from sklearn.metrics import confusion_matrix\n",
    "\n",
    "import seaborn as sns"
   ]
  },
  {
   "cell_type": "markdown",
   "metadata": {},
   "source": [
    "## Read data"
   ]
  },
  {
   "cell_type": "code",
   "execution_count": 8,
   "metadata": {
    "ExecuteTime": {
     "end_time": "2020-08-29T11:24:53.126883Z",
     "start_time": "2020-08-29T11:24:52.946986Z"
    }
   },
   "outputs": [],
   "source": [
    "X_train = pd.read_csv(\"../data/train_test_val/X_train.csv\", header=[0,1], index_col=0)\n",
    "X_test = pd.read_csv(\"../data/train_test_val/X_test.csv\", header=[0,1], index_col=0)\n",
    "X_val = pd.read_csv(\"../data/train_test_val/X_val.csv\", header=[0,1], index_col=0)\n",
    "\n",
    "y_train = pd.read_csv(\"../data/train_test_val/y_train.csv\", index_col=0) \n",
    "y_val = pd.read_csv(\"../data/train_test_val/y_val.csv\", index_col=0)\n",
    "y_test = pd.read_csv(\"../data/train_test_val/y_test.csv\", index_col=0)"
   ]
  },
  {
   "cell_type": "markdown",
   "metadata": {},
   "source": [
    "### Creating ML Pipeline"
   ]
  },
  {
   "cell_type": "code",
   "execution_count": 9,
   "metadata": {
    "ExecuteTime": {
     "end_time": "2020-08-29T11:24:53.692929Z",
     "start_time": "2020-08-29T11:24:53.681933Z"
    }
   },
   "outputs": [],
   "source": [
    "rfc = RandomForestClassifier(random_state=42)\n",
    "svc = SVC(random_state=42)\n",
    "knc = KNeighborsClassifier()\n",
    "abc = AdaBoostClassifier(random_state=42)\n",
    "gbc = GradientBoostingClassifier(random_state=42)\n",
    "gnb = GaussianNB()\n",
    "lr = LogisticRegressionCV(max_iter=500, random_state=42)\n",
    "\n",
    "models = {\"rfc\": rfc,\"svc\": svc, \"knc\" : knc,\n",
    "          \"abc\" : abc, \"gbc\" : gbc, \"gnb\" :gnb,\n",
    "          \"lr\": lr}"
   ]
  },
  {
   "cell_type": "code",
   "execution_count": 10,
   "metadata": {
    "ExecuteTime": {
     "end_time": "2020-08-29T11:24:54.103692Z",
     "start_time": "2020-08-29T11:24:54.044728Z"
    }
   },
   "outputs": [
    {
     "name": "stderr",
     "output_type": "stream",
     "text": [
      "c:\\users\\mesza\\.virtualenvs\\road-surface-quality-7nv9hwjf\\lib\\site-packages\\pandas\\core\\generic.py:3878: PerformanceWarning: dropping on a non-lexsorted multi-index without a level parameter may impact performance.\n",
      "  obj = obj._drop_axis(labels, axis, level=level, errors=errors)\n",
      "c:\\users\\mesza\\.virtualenvs\\road-surface-quality-7nv9hwjf\\lib\\site-packages\\pandas\\core\\generic.py:3878: PerformanceWarning: dropping on a non-lexsorted multi-index without a level parameter may impact performance.\n",
      "  obj = obj._drop_axis(labels, axis, level=level, errors=errors)\n",
      "c:\\users\\mesza\\.virtualenvs\\road-surface-quality-7nv9hwjf\\lib\\site-packages\\pandas\\core\\generic.py:3878: PerformanceWarning: dropping on a non-lexsorted multi-index without a level parameter may impact performance.\n",
      "  obj = obj._drop_axis(labels, axis, level=level, errors=errors)\n"
     ]
    }
   ],
   "source": [
    "scaler = StandardScaler()\n",
    "scaled_X_train = scaler.fit_transform(X_train.drop(\"id_gps\", axis=1)) \n",
    "scaled_X_val = scaler.fit_transform(X_val.drop(\"id_gps\", axis=1))\n",
    "scaled_X_test = scaler.fit_transform(X_test.drop(\"id_gps\", axis=1))"
   ]
  },
  {
   "cell_type": "code",
   "execution_count": 11,
   "metadata": {
    "ExecuteTime": {
     "end_time": "2020-08-29T11:24:54.486473Z",
     "start_time": "2020-08-29T11:24:54.468484Z"
    }
   },
   "outputs": [
    {
     "name": "stderr",
     "output_type": "stream",
     "text": [
      "c:\\users\\mesza\\.virtualenvs\\road-surface-quality-7nv9hwjf\\lib\\site-packages\\pandas\\core\\generic.py:3878: PerformanceWarning: dropping on a non-lexsorted multi-index without a level parameter may impact performance.\n",
      "  obj = obj._drop_axis(labels, axis, level=level, errors=errors)\n"
     ]
    }
   ],
   "source": [
    "X_train = X_train.drop(\"id_gps\", axis = 1)\n",
    "X_val = X_val.drop(\"id_gps\", axis = 1)\n",
    "X_test = X_test.drop(\"id_gps\", axis = 1)\n",
    "y_train = y_train.values.reshape(-1)\n",
    "y_val = y_val.values.reshape(-1)\n",
    "y_test = y_test.values.reshape(-1)\n"
   ]
  },
  {
   "cell_type": "code",
   "execution_count": null,
   "metadata": {
    "ExecuteTime": {
     "start_time": "2020-08-29T11:26:12.531Z"
    },
    "scrolled": false
   },
   "outputs": [
    {
     "name": "stdout",
     "output_type": "stream",
     "text": [
      "Metrics on Validation Dataset:\n",
      "\n",
      "\n",
      "Accuracy rfc: 0.9173333333333333\n",
      "Precision rfc: 0.9168289177489177\n",
      "Recall rfc: 0.9173333333333333\n",
      "F1 Score rfc: 0.9170202123899568\n",
      "\n",
      "\n",
      "Cross Validation on Test Dataset:\n",
      "\n",
      "\n",
      "rfc accuracy is 92.76±2.44\n",
      "\n",
      "\n",
      "Test Scores:\n",
      " min: 0.9069767441860465\n",
      " max: 0.9767441860465116\n",
      " delta: 0.06976744186046513\n",
      "\n",
      "\n",
      "********************\n",
      "\n",
      "\n",
      "Metrics on Validation Dataset:\n",
      "\n",
      "\n",
      "Accuracy svc: 0.8853333333333333\n",
      "Precision svc: 0.8833313296903461\n",
      "Recall svc: 0.8853333333333333\n",
      "F1 Score svc: 0.8833617495656596\n",
      "\n",
      "\n",
      "Cross Validation on Test Dataset:\n",
      "\n",
      "\n",
      "svc accuracy is 89.69±2.18\n",
      "\n",
      "\n",
      "Test Scores:\n",
      " min: 0.8636363636363636\n",
      " max: 0.9318181818181818\n",
      " delta: 0.06818181818181812\n",
      "\n",
      "\n",
      "********************\n",
      "\n",
      "\n",
      "Metrics on Validation Dataset:\n",
      "\n",
      "\n",
      "Accuracy knc: 0.8533333333333334\n",
      "Precision knc: 0.8576983012306045\n",
      "Recall knc: 0.8533333333333334\n",
      "F1 Score knc: 0.8492427972898562\n",
      "\n",
      "\n",
      "Cross Validation on Test Dataset:\n",
      "\n",
      "\n",
      "knc accuracy is 90.08±5.02\n",
      "\n",
      "\n",
      "Test Scores:\n",
      " min: 0.8181818181818182\n",
      " max: 0.9772727272727273\n",
      " delta: 0.15909090909090906\n",
      "\n",
      "\n",
      "********************\n",
      "\n",
      "\n"
     ]
    }
   ],
   "source": [
    "for m in models:\n",
    "    \n",
    "    model = models[m].fit(scaled_X_train, y_train)\n",
    "    preds = model.predict(scaled_X_val)\n",
    "      \n",
    "    accuracy = accuracy_score(y_val,preds)\n",
    "    precision = precision_score(y_val,preds,average=\"weighted\")\n",
    "    recall = recall_score(y_val,preds, average=\"weighted\")\n",
    "    f1 = f1_score(y_val, preds, average=\"weighted\")\n",
    "    \n",
    "    print(\"Metrics on Validation Dataset:\")\n",
    "    print(\"\\n\")\n",
    "    \n",
    "    print(f\"Accuracy {m}: {accuracy}\")\n",
    "    print(f\"Precision {m}: {precision}\")\n",
    "    print(f\"Recall {m}: {recall}\")\n",
    "    print(f\"F1 Score {m}: {f1}\")\n",
    "    \n",
    "    print(\"\\n\")\n",
    "    print(\"Cross Validation on Test Dataset:\")\n",
    "    print(\"\\n\")\n",
    "    cv = cross_validate(model,\n",
    "                        X =  scaled_X_test,\n",
    "                        y = np.ravel(y_test),\n",
    "                        cv = 6)\n",
    "\n",
    "    print(\"{} accuracy is {:.2f}±{:.2f}\".format(m,cv[\"test_score\"].mean()*100,cv[\"test_score\"].std()*100))\n",
    "\n",
    "    \n",
    "    print(\"\\n\")\n",
    "    print(\"Test Scores:\\n min: {}\\n max: {}\\n delta: {}\"\\\n",
    "          .format(cv[\"test_score\"].min(), \n",
    "                  cv[\"test_score\"].max(),\n",
    "                  cv[\"test_score\"].max()-cv[\"test_score\"].min()))\n",
    "    print(\"\\n\")\n",
    "    print(\"*\"*20)\n",
    "    print(\"\\n\")\n",
    "    \n",
    "    cm = confusion_matrix(y_val,preds)\n",
    "    \n",
    "    fig = plt.figure()\n",
    "    fig = plt.title(m)\n",
    "    sns.heatmap(cm, cmap=\"viridis\", annot= True, cbar = False)"
   ]
  },
  {
   "cell_type": "markdown",
   "metadata": {},
   "source": [
    "The best results belongs to the RandomForest Classifier, but the KNC results are promising as well."
   ]
  },
  {
   "cell_type": "markdown",
   "metadata": {},
   "source": [
    "#### Logistic Regression"
   ]
  },
  {
   "cell_type": "code",
   "execution_count": 211,
   "metadata": {
    "ExecuteTime": {
     "end_time": "2020-08-26T19:03:52.373246Z",
     "start_time": "2020-08-26T19:03:48.820287Z"
    }
   },
   "outputs": [
    {
     "data": {
      "text/plain": [
       "LogisticRegressionCV(max_iter=500, random_state=42)"
      ]
     },
     "execution_count": 211,
     "metadata": {},
     "output_type": "execute_result"
    }
   ],
   "source": [
    "lr.fit(scaled_X_train, y_train)"
   ]
  },
  {
   "cell_type": "markdown",
   "metadata": {},
   "source": [
    "#### GBC"
   ]
  },
  {
   "cell_type": "code",
   "execution_count": 182,
   "metadata": {
    "ExecuteTime": {
     "end_time": "2020-08-26T18:56:16.269553Z",
     "start_time": "2020-08-26T18:56:10.874650Z"
    }
   },
   "outputs": [
    {
     "data": {
      "text/plain": [
       "GradientBoostingClassifier(random_state=42)"
      ]
     },
     "execution_count": 182,
     "metadata": {},
     "output_type": "execute_result"
    }
   ],
   "source": [
    "gbc.fit(scaled_X_train, y_train)"
   ]
  },
  {
   "cell_type": "markdown",
   "metadata": {},
   "source": [
    "#### RFC"
   ]
  },
  {
   "cell_type": "code",
   "execution_count": 217,
   "metadata": {
    "ExecuteTime": {
     "end_time": "2020-08-26T19:09:36.022873Z",
     "start_time": "2020-08-26T19:09:35.557139Z"
    }
   },
   "outputs": [
    {
     "data": {
      "text/plain": [
       "RandomForestClassifier(random_state=42)"
      ]
     },
     "execution_count": 217,
     "metadata": {},
     "output_type": "execute_result"
    }
   ],
   "source": [
    "rfc.fit(scaled_X_train, y_train)"
   ]
  },
  {
   "cell_type": "markdown",
   "metadata": {},
   "source": [
    "## Hyperparameter tuning"
   ]
  },
  {
   "cell_type": "code",
   "execution_count": 218,
   "metadata": {
    "ExecuteTime": {
     "end_time": "2020-08-26T19:09:37.008339Z",
     "start_time": "2020-08-26T19:09:37.003343Z"
    }
   },
   "outputs": [],
   "source": [
    "from sklearn.model_selection import RandomizedSearchCV\n",
    "from sklearn.model_selection import GridSearchCV"
   ]
  },
  {
   "cell_type": "code",
   "execution_count": null,
   "metadata": {
    "ExecuteTime": {
     "end_time": "2020-08-26T18:54:14.192761Z",
     "start_time": "2020-08-26T18:53:45.531210Z"
    }
   },
   "outputs": [],
   "source": [
    "params = {\n",
    "        \"min_samples_leaf\": [1,2,3 ,4, 8,16,20],\n",
    "        \"min_samples_split\": [2, 4, 8, 12],\n",
    "        \"n_estimators\": [100, 400, 800,1200]\n",
    "}\n",
    "\n",
    "rfc_search = RandomizedSearchCV(rfc, \n",
    "                                params, \n",
    "                                n_iter=36,\n",
    "#                                 average = \"weighted\",\n",
    "                                scoring=\"recall_weighted\",\n",
    "                                random_state=42)\n",
    "\n",
    "rfc_search.fit(scaled_X_train, y_train)"
   ]
  },
  {
   "cell_type": "raw",
   "metadata": {
    "ExecuteTime": {
     "end_time": "2020-08-25T19:30:48.206438Z",
     "start_time": "2020-08-25T19:25:32.678572Z"
    }
   },
   "source": [
    "params = {\n",
    "        \"max_depth\": [None, 4],\n",
    "        \"min_samples_leaf\": [1, 2, 3 ,4],\n",
    "        \"min_samples_split\": [2, 4, 8],\n",
    "        \"n_estimators\": [20, 80, 100, 400]\n",
    "}\n",
    "\n",
    "rfc_search = GridSearchCV(rfc, \n",
    "                          params\n",
    "                         )\n",
    "\n",
    "rfc_search.fit(scaled_X_train, y_train)"
   ]
  },
  {
   "cell_type": "code",
   "execution_count": 219,
   "metadata": {
    "ExecuteTime": {
     "end_time": "2020-08-26T19:09:44.505482Z",
     "start_time": "2020-08-26T19:09:44.452514Z"
    },
    "scrolled": true
   },
   "outputs": [
    {
     "name": "stdout",
     "output_type": "stream",
     "text": [
      "Accuracy: 0.9045226130653267\n",
      "Precision: 0.9170963751217963\n",
      "Recall: 0.9045226130653267\n",
      "F1 Score: 0.9043982310737894\n"
     ]
    }
   ],
   "source": [
    "# best_model = rfc_search.best_estimator_\n",
    "preds = rfc.predict(scaled_X_test)\n",
    "accuracy = accuracy_score(y_test,preds)\n",
    "precision = precision_score(y_test,preds,average=\"weighted\")\n",
    "recall = recall_score(y_test,preds, average=\"weighted\")\n",
    "f1 = f1_score(y_test, preds, average=\"weighted\")\n",
    "\n",
    "print(f\"Accuracy: {accuracy}\")\n",
    "print(f\"Precision: {precision}\")\n",
    "print(f\"Recall: {recall}\")\n",
    "print(f\"F1 Score: {f1}\")"
   ]
  },
  {
   "cell_type": "markdown",
   "metadata": {},
   "source": [
    "### Cross Validation"
   ]
  },
  {
   "cell_type": "code",
   "execution_count": 220,
   "metadata": {
    "ExecuteTime": {
     "end_time": "2020-08-26T19:09:53.031390Z",
     "start_time": "2020-08-26T19:09:53.027393Z"
    }
   },
   "outputs": [],
   "source": [
    "from sklearn.model_selection import cross_validate\n",
    "from sklearn.metrics import confusion_matrix"
   ]
  },
  {
   "cell_type": "code",
   "execution_count": 221,
   "metadata": {
    "ExecuteTime": {
     "end_time": "2020-08-26T19:09:58.018883Z",
     "start_time": "2020-08-26T19:09:56.539731Z"
    }
   },
   "outputs": [
    {
     "name": "stdout",
     "output_type": "stream",
     "text": [
      "Model accuracy is 89.46±2.88\n",
      "{'fit_time': array([0.2898345 , 0.24485731, 0.28283715, 0.30581975, 0.26085281]), 'score_time': array([0.01299381, 0.01199555, 0.02798486, 0.01199365, 0.01400733]), 'test_score': array([0.9       , 0.925     , 0.875     , 0.85      , 0.92307692])}\n"
     ]
    }
   ],
   "source": [
    "cv = cross_validate(rfc,\n",
    "               X =  scaled_X_test,\n",
    "               y = np.ravel(y_test))\n",
    "\n",
    "print(\"Model accuracy is {:.2f}±{:.2f}\".format(cv[\"test_score\"].mean()*100,cv[\"test_score\"].std()*100))\n",
    "print(cv)"
   ]
  },
  {
   "cell_type": "code",
   "execution_count": 222,
   "metadata": {
    "ExecuteTime": {
     "end_time": "2020-08-26T19:10:04.276897Z",
     "start_time": "2020-08-26T19:10:04.270900Z"
    }
   },
   "outputs": [],
   "source": [
    "cm = confusion_matrix(y_test,preds)"
   ]
  },
  {
   "cell_type": "code",
   "execution_count": 223,
   "metadata": {
    "ExecuteTime": {
     "end_time": "2020-08-26T19:10:06.902427Z",
     "start_time": "2020-08-26T19:10:06.569618Z"
    }
   },
   "outputs": [
    {
     "data": {
      "text/plain": [
       "<matplotlib.axes._subplots.AxesSubplot at 0x13653fe8a88>"
      ]
     },
     "execution_count": 223,
     "metadata": {},
     "output_type": "execute_result"
    },
    {
     "data": {
      "image/png": "[encoded data removed]",
      "text/plain": [
       "<Figure size 1152x720 with 1 Axes>"
      ]
     },
     "metadata": {
      "needs_background": "light"
     },
     "output_type": "display_data"
    }
   ],
   "source": [
    "sns.heatmap(cm, cmap=\"viridis\", annot= True, cbar = False)"
   ]
  },
  {
   "cell_type": "markdown",
   "metadata": {},
   "source": [
    "## Save the model"
   ]
  },
  {
   "cell_type": "code",
   "execution_count": 266,
   "metadata": {
    "ExecuteTime": {
     "end_time": "2020-08-26T19:31:09.629947Z",
     "start_time": "2020-08-26T19:31:09.619951Z"
    }
   },
   "outputs": [
    {
     "data": {
      "text/plain": [
       "['../models/svc_v01.joblib']"
      ]
     },
     "execution_count": 266,
     "metadata": {},
     "output_type": "execute_result"
    }
   ],
   "source": [
    "from joblib import dump, load\n",
    "dump(svc, '../models/svc_v01.joblib') "
   ]
  },
  {
   "cell_type": "markdown",
   "metadata": {},
   "source": [
    "## Eval\n"
   ]
  },
  {
   "cell_type": "code",
   "execution_count": 226,
   "metadata": {
    "ExecuteTime": {
     "end_time": "2020-08-26T19:10:27.010026Z",
     "start_time": "2020-08-26T19:10:27.006028Z"
    }
   },
   "outputs": [],
   "source": [
    "from processing_funcs import *\n",
    "from scipy.stats import norm, kurtosis\n",
    "from scipy import signal"
   ]
  },
  {
   "cell_type": "code",
   "execution_count": 272,
   "metadata": {
    "ExecuteTime": {
     "end_time": "2020-08-26T19:33:11.986686Z",
     "start_time": "2020-08-26T19:33:11.455992Z"
    }
   },
   "outputs": [],
   "source": [
    "df = read_measurement(\"../data/raw_data_train/rsq_q2/*\", 0.01)"
   ]
  },
  {
   "cell_type": "code",
   "execution_count": 273,
   "metadata": {
    "ExecuteTime": {
     "end_time": "2020-08-26T19:33:12.522805Z",
     "start_time": "2020-08-26T19:33:12.514809Z"
    }
   },
   "outputs": [],
   "source": [
    "def kurtosis_time(x):\n",
    "\n",
    "    return kurtosis(x, fisher=True)\n",
    "\n",
    "def rms_100(x):\n",
    "\n",
    "    return np.sqrt(np.mean(x**2))\n",
    "\n",
    "def crest(x):\n",
    "\n",
    "    return max(abs(x))/np.sqrt(np.mean(x**2))\n",
    "\n",
    "def create_aggregated(df):\n",
    "    \"\"\"Create a aggregated dataframe in time domain\"\"\"\n",
    "    signals = ['x_lin_acc', 'y_lin_acc', \"z_lin_acc\", \n",
    "               'x_acc', 'y_acc', 'z_acc',\n",
    "               'x_gyro', 'y_gyro', 'z_gyro']\n",
    "\n",
    "    agg_df = df.groupby([\"id_gps\"]).agg({x: [\"sum\", \"mean\", \"mad\",\n",
    "                                                \"median\", \"min\", \"max\",\n",
    "                                                \"std\", \"var\", \"sem\",\n",
    "                                                \"skew\", \"quantile\",\n",
    "                                                kurtosis_time, rms_100,\n",
    "                                                crest] for x in signals})\n",
    "\n",
    "    return agg_df"
   ]
  },
  {
   "cell_type": "code",
   "execution_count": 274,
   "metadata": {
    "ExecuteTime": {
     "end_time": "2020-08-26T19:33:18.150615Z",
     "start_time": "2020-08-26T19:33:12.770663Z"
    }
   },
   "outputs": [],
   "source": [
    "feature_df = create_aggregated(df).reset_index()"
   ]
  },
  {
   "cell_type": "code",
   "execution_count": 275,
   "metadata": {
    "ExecuteTime": {
     "end_time": "2020-08-26T19:33:18.349506Z",
     "start_time": "2020-08-26T19:33:18.325520Z"
    }
   },
   "outputs": [
    {
     "name": "stderr",
     "output_type": "stream",
     "text": [
      "c:\\users\\mesza\\.virtualenvs\\road-surface-quality-7nv9hwjf\\lib\\site-packages\\pandas\\core\\generic.py:3878: PerformanceWarning:\n",
      "\n",
      "dropping on a non-lexsorted multi-index without a level parameter may impact performance.\n",
      "\n"
     ]
    }
   ],
   "source": [
    "scaler = StandardScaler()\n",
    "scaled = scaler.fit_transform(feature_df.drop(\"id_gps\", axis=1)) "
   ]
  },
  {
   "cell_type": "code",
   "execution_count": null,
   "metadata": {},
   "outputs": [],
   "source": []
  }
 ],
 "metadata": {
  "kernelspec": {
   "display_name": "Python 3",
   "language": "python",
   "name": "python3"
  },
  "language_info": {
   "codemirror_mode": {
    "name": "ipython",
    "version": 3
   },
   "file_extension": ".py",
   "mimetype": "text/x-python",
   "name": "python",
   "nbconvert_exporter": "python",
   "pygments_lexer": "ipython3",
   "version": "3.7.5"
  },
  "notify_time": "5",
  "toc": {
   "base_numbering": 1,
   "nav_menu": {},
   "number_sections": true,
   "sideBar": true,
   "skip_h1_title": false,
   "title_cell": "Table of Contents",
   "title_sidebar": "Contents",
   "toc_cell": false,
   "toc_position": {},
   "toc_section_display": true,
   "toc_window_display": true
  },
  "varInspector": {
   "cols": {
    "lenName": 16,
    "lenType": 16,
    "lenVar": 40
   },
   "kernels_config": {
    "python": {
     "delete_cmd_postfix": "",
     "delete_cmd_prefix": "del ",
     "library": "var_list.py",
     "varRefreshCmd": "print(var_dic_list())"
    },
    "r": {
     "delete_cmd_postfix": ") ",
     "delete_cmd_prefix": "rm(",
     "library": "var_list.r",
     "varRefreshCmd": "cat(var_dic_list()) "
    }
   },
   "position": {
    "height": "646.719px",
    "left": "979.091px",
    "right": "20px",
    "top": "120px",
    "width": "350px"
   },
   "types_to_exclude": [
    "module",
    "function",
    "builtin_function_or_method",
    "instance",
    "_Feature"
   ],
   "window_display": false
  }
 },
 "nbformat": 4,
 "nbformat_minor": 4
}
