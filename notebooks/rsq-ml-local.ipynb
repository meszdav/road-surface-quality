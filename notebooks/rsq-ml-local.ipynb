{
 "cells": [
  {
   "cell_type": "markdown",
   "metadata": {},
   "source": [
    "## Import dependencies\n"
   ]
  },
  {
   "cell_type": "code",
   "execution_count": 70,
   "metadata": {
    "ExecuteTime": {
     "end_time": "2020-08-26T18:24:55.505949Z",
     "start_time": "2020-08-26T18:24:55.500954Z"
    }
   },
   "outputs": [],
   "source": [
    "import pandas as pd\n",
    "from sklearn.ensemble import RandomForestClassifier\n",
    "from sklearn.svm import SVC\n",
    "from sklearn.neighbors import KNeighborsClassifier\n",
    "from sklearn.ensemble import AdaBoostClassifier, GradientBoostingClassifier\n",
    "from sklearn.naive_bayes import GaussianNB\n",
    "from sklearn.linear_model import LogisticRegressionCV\n",
    "from sklearn.preprocessing import MinMaxScaler, StandardScaler\n",
    "from sklearn.metrics import accuracy_score, f1_score, precision_score, recall_score\n",
    "import matplotlib.pyplot as plt\n",
    "\n",
    "import seaborn as sns"
   ]
  },
  {
   "cell_type": "markdown",
   "metadata": {},
   "source": [
    "## Read data"
   ]
  },
  {
   "cell_type": "code",
   "execution_count": 71,
   "metadata": {
    "ExecuteTime": {
     "end_time": "2020-08-26T18:24:56.121061Z",
     "start_time": "2020-08-26T18:24:55.994134Z"
    }
   },
   "outputs": [],
   "source": [
    "X_train = pd.read_csv(\"../data/train_test_val/X_train.csv\", header=[0,1], index_col=0)\n",
    "X_test = pd.read_csv(\"../data/train_test_val/X_test.csv\", header=[0,1], index_col=0)\n",
    "X_val = pd.read_csv(\"../data/train_test_val/X_val.csv\", header=[0,1], index_col=0)\n",
    "\n",
    "y_train = pd.read_csv(\"../data/train_test_val/y_train.csv\", index_col=0) \n",
    "y_val = pd.read_csv(\"../data/train_test_val/y_val.csv\", index_col=0)\n",
    "y_test = pd.read_csv(\"../data/train_test_val/y_test.csv\", index_col=0)"
   ]
  },
  {
   "cell_type": "markdown",
   "metadata": {},
   "source": [
    "### Creating ML Pipeline"
   ]
  },
  {
   "cell_type": "code",
   "execution_count": 72,
   "metadata": {
    "ExecuteTime": {
     "end_time": "2020-08-26T18:24:56.468862Z",
     "start_time": "2020-08-26T18:24:56.460867Z"
    }
   },
   "outputs": [],
   "source": [
    "rfc = RandomForestClassifier(random_state=42)\n",
    "svc = SVC(random_state=42)\n",
    "knc = KNeighborsClassifier()\n",
    "abc = AdaBoostClassifier(random_state=42)\n",
    "gbc = GradientBoostingClassifier(random_state=42)\n",
    "gnb = GaussianNB()\n",
    "lr = LogisticRegressionCV(max_iter=1000, random_state=42)\n",
    "\n",
    "models = {\"rfc\": rfc,\"svc\": svc, \"knc\" : knc,\n",
    "          \"abc\" : abc, \"gbc\" : gbc, \"gnb\" :gnb,\n",
    "          \"lr\": lr}"
   ]
  },
  {
   "cell_type": "code",
   "execution_count": 73,
   "metadata": {
    "ExecuteTime": {
     "end_time": "2020-08-26T18:24:56.748814Z",
     "start_time": "2020-08-26T18:24:56.699843Z"
    }
   },
   "outputs": [
    {
     "name": "stderr",
     "output_type": "stream",
     "text": [
      "c:\\users\\mesza\\.virtualenvs\\road-surface-quality-7nv9hwjf\\lib\\site-packages\\pandas\\core\\generic.py:3878: PerformanceWarning: dropping on a non-lexsorted multi-index without a level parameter may impact performance.\n",
      "  obj = obj._drop_axis(labels, axis, level=level, errors=errors)\n",
      "c:\\users\\mesza\\.virtualenvs\\road-surface-quality-7nv9hwjf\\lib\\site-packages\\pandas\\core\\generic.py:3878: PerformanceWarning: dropping on a non-lexsorted multi-index without a level parameter may impact performance.\n",
      "  obj = obj._drop_axis(labels, axis, level=level, errors=errors)\n",
      "c:\\users\\mesza\\.virtualenvs\\road-surface-quality-7nv9hwjf\\lib\\site-packages\\pandas\\core\\generic.py:3878: PerformanceWarning: dropping on a non-lexsorted multi-index without a level parameter may impact performance.\n",
      "  obj = obj._drop_axis(labels, axis, level=level, errors=errors)\n"
     ]
    }
   ],
   "source": [
    "scaler = MinMaxScaler()\n",
    "scaled_X_train = scaler.fit_transform(X_train.drop(\"id_gps\", axis=1)) \n",
    "scaled_X_val = scaler.fit_transform(X_val.drop(\"id_gps\", axis=1))\n",
    "scaled_X_test = scaler.fit_transform(X_test.drop(\"id_gps\", axis=1))"
   ]
  },
  {
   "cell_type": "code",
   "execution_count": 74,
   "metadata": {
    "ExecuteTime": {
     "end_time": "2020-08-26T18:24:56.980716Z",
     "start_time": "2020-08-26T18:24:56.966723Z"
    }
   },
   "outputs": [
    {
     "name": "stderr",
     "output_type": "stream",
     "text": [
      "c:\\users\\mesza\\.virtualenvs\\road-surface-quality-7nv9hwjf\\lib\\site-packages\\pandas\\core\\generic.py:3878: PerformanceWarning: dropping on a non-lexsorted multi-index without a level parameter may impact performance.\n",
      "  obj = obj._drop_axis(labels, axis, level=level, errors=errors)\n"
     ]
    }
   ],
   "source": [
    "X_train = X_train.drop(\"id_gps\", axis = 1)\n",
    "X_val = X_val.drop(\"id_gps\", axis = 1)\n",
    "X_test = X_test.drop(\"id_gps\", axis = 1)\n",
    "y_train = y_train.values.reshape(-1)\n",
    "y_val = y_val.values.reshape(-1)\n",
    "y_test = y_test.values.reshape(-1)\n"
   ]
  },
  {
   "cell_type": "code",
   "execution_count": 75,
   "metadata": {
    "ExecuteTime": {
     "end_time": "2020-08-26T18:25:19.428899Z",
     "start_time": "2020-08-26T18:24:57.333582Z"
    }
   },
   "outputs": [
    {
     "name": "stdout",
     "output_type": "stream",
     "text": [
      "Accuracy Score rfc: 0.8697\n",
      "Accuracy Score svc: 0.8451\n",
      "Accuracy Score knc: 0.8310\n",
      "Accuracy Score abc: 0.8169\n",
      "Accuracy Score gbc: 0.8521\n",
      "Accuracy Score gnb: 0.7077\n"
     ]
    },
    {
     "name": "stderr",
     "output_type": "stream",
     "text": [
      "c:\\users\\mesza\\.virtualenvs\\road-surface-quality-7nv9hwjf\\lib\\site-packages\\sklearn\\linear_model\\_logistic.py:764: ConvergenceWarning: lbfgs failed to converge (status=1):\n",
      "STOP: TOTAL NO. of ITERATIONS REACHED LIMIT.\n",
      "\n",
      "Increase the number of iterations (max_iter) or scale the data as shown in:\n",
      "    https://scikit-learn.org/stable/modules/preprocessing.html\n",
      "Please also refer to the documentation for alternative solver options:\n",
      "    https://scikit-learn.org/stable/modules/linear_model.html#logistic-regression\n",
      "  extra_warning_msg=_LOGISTIC_SOLVER_CONVERGENCE_MSG)\n",
      "c:\\users\\mesza\\.virtualenvs\\road-surface-quality-7nv9hwjf\\lib\\site-packages\\sklearn\\linear_model\\_logistic.py:764: ConvergenceWarning: lbfgs failed to converge (status=1):\n",
      "STOP: TOTAL NO. of ITERATIONS REACHED LIMIT.\n",
      "\n",
      "Increase the number of iterations (max_iter) or scale the data as shown in:\n",
      "    https://scikit-learn.org/stable/modules/preprocessing.html\n",
      "Please also refer to the documentation for alternative solver options:\n",
      "    https://scikit-learn.org/stable/modules/linear_model.html#logistic-regression\n",
      "  extra_warning_msg=_LOGISTIC_SOLVER_CONVERGENCE_MSG)\n",
      "c:\\users\\mesza\\.virtualenvs\\road-surface-quality-7nv9hwjf\\lib\\site-packages\\sklearn\\linear_model\\_logistic.py:764: ConvergenceWarning: lbfgs failed to converge (status=1):\n",
      "STOP: TOTAL NO. of ITERATIONS REACHED LIMIT.\n",
      "\n",
      "Increase the number of iterations (max_iter) or scale the data as shown in:\n",
      "    https://scikit-learn.org/stable/modules/preprocessing.html\n",
      "Please also refer to the documentation for alternative solver options:\n",
      "    https://scikit-learn.org/stable/modules/linear_model.html#logistic-regression\n",
      "  extra_warning_msg=_LOGISTIC_SOLVER_CONVERGENCE_MSG)\n",
      "c:\\users\\mesza\\.virtualenvs\\road-surface-quality-7nv9hwjf\\lib\\site-packages\\sklearn\\linear_model\\_logistic.py:764: ConvergenceWarning: lbfgs failed to converge (status=1):\n",
      "STOP: TOTAL NO. of ITERATIONS REACHED LIMIT.\n",
      "\n",
      "Increase the number of iterations (max_iter) or scale the data as shown in:\n",
      "    https://scikit-learn.org/stable/modules/preprocessing.html\n",
      "Please also refer to the documentation for alternative solver options:\n",
      "    https://scikit-learn.org/stable/modules/linear_model.html#logistic-regression\n",
      "  extra_warning_msg=_LOGISTIC_SOLVER_CONVERGENCE_MSG)\n",
      "c:\\users\\mesza\\.virtualenvs\\road-surface-quality-7nv9hwjf\\lib\\site-packages\\sklearn\\linear_model\\_logistic.py:764: ConvergenceWarning: lbfgs failed to converge (status=1):\n",
      "STOP: TOTAL NO. of ITERATIONS REACHED LIMIT.\n",
      "\n",
      "Increase the number of iterations (max_iter) or scale the data as shown in:\n",
      "    https://scikit-learn.org/stable/modules/preprocessing.html\n",
      "Please also refer to the documentation for alternative solver options:\n",
      "    https://scikit-learn.org/stable/modules/linear_model.html#logistic-regression\n",
      "  extra_warning_msg=_LOGISTIC_SOLVER_CONVERGENCE_MSG)\n"
     ]
    },
    {
     "name": "stdout",
     "output_type": "stream",
     "text": [
      "Accuracy Score lr: 0.8451\n"
     ]
    },
    {
     "data": {
      "image/png": "[encoded data removed]",
      "text/plain": [
       "<Figure size 432x288 with 1 Axes>"
      ]
     },
     "metadata": {
      "needs_background": "light"
     },
     "output_type": "display_data"
    },
    {
     "data": {
      "image/png": "[encoded data removed]",
      "text/plain": [
       "<Figure size 432x288 with 1 Axes>"
      ]
     },
     "metadata": {
      "needs_background": "light"
     },
     "output_type": "display_data"
    },
    {
     "data": {
      "image/png": "[encoded data removed]",
      "text/plain": [
       "<Figure size 432x288 with 1 Axes>"
      ]
     },
     "metadata": {
      "needs_background": "light"
     },
     "output_type": "display_data"
    },
    {
     "data": {
      "image/png": "[encoded data removed]",
      "text/plain": [
       "<Figure size 432x288 with 1 Axes>"
      ]
     },
     "metadata": {
      "needs_background": "light"
     },
     "output_type": "display_data"
    },
    {
     "data": {
      "image/png": "[encoded data removed]",
      "text/plain": [
       "<Figure size 432x288 with 1 Axes>"
      ]
     },
     "metadata": {
      "needs_background": "light"
     },
     "output_type": "display_data"
    },
    {
     "data": {
      "image/png": "[encoded data removed]",
      "text/plain": [
       "<Figure size 432x288 with 1 Axes>"
      ]
     },
     "metadata": {
      "needs_background": "light"
     },
     "output_type": "display_data"
    },
    {
     "data": {
      "image/png": "[encoded data removed]",
      "text/plain": [
       "<Figure size 432x288 with 1 Axes>"
      ]
     },
     "metadata": {
      "needs_background": "light"
     },
     "output_type": "display_data"
    }
   ],
   "source": [
    "for m in models:\n",
    "    \n",
    "    model = models[m].fit(scaled_X_train, y_train)\n",
    "    preds = model.predict(scaled_X_val)\n",
    "    accuracy = accuracy_score(y_val, preds)\n",
    "    \n",
    "    print(\"Accuracy Score {}: {:.4f}\".format(m,accuracy))\n",
    "    cm = confusion_matrix(y_val,preds)\n",
    "    \n",
    "    fig = plt.figure()\n",
    "    fig = plt.title(m)\n",
    "    sns.heatmap(cm, cmap=\"viridis\", annot= True, cbar = False)"
   ]
  },
  {
   "cell_type": "markdown",
   "metadata": {},
   "source": [
    "The best results belongs to the RandomForest Classifier, but the KNC results are promising as well."
   ]
  },
  {
   "cell_type": "markdown",
   "metadata": {},
   "source": [
    "## Hyperparameter tuning"
   ]
  },
  {
   "cell_type": "code",
   "execution_count": 7,
   "metadata": {
    "ExecuteTime": {
     "end_time": "2020-08-26T16:50:45.739384Z",
     "start_time": "2020-08-26T16:50:45.735389Z"
    }
   },
   "outputs": [],
   "source": [
    "from sklearn.model_selection import RandomizedSearchCV\n",
    "from sklearn.model_selection import GridSearchCV"
   ]
  },
  {
   "cell_type": "code",
   "execution_count": 38,
   "metadata": {
    "ExecuteTime": {
     "end_time": "2020-08-26T17:57:18.930092Z",
     "start_time": "2020-08-26T17:51:08.932480Z"
    }
   },
   "outputs": [
    {
     "data": {
      "text/plain": [
       "RandomizedSearchCV(estimator=RandomForestClassifier(random_state=42), n_iter=36,\n",
       "                   param_distributions={'min_samples_leaf': [1, 2, 3, 4, 8, 16,\n",
       "                                                             20],\n",
       "                                        'min_samples_split': [2, 4, 8, 12],\n",
       "                                        'n_estimators': [100, 400, 800, 1200]},\n",
       "                   random_state=42, scoring='recall_weighted')"
      ]
     },
     "execution_count": 38,
     "metadata": {},
     "output_type": "execute_result"
    }
   ],
   "source": [
    "params = {\n",
    "        \"min_samples_leaf\": [1,2,3 ,4, 8,16,20],\n",
    "        \"min_samples_split\": [2, 4, 8, 12],\n",
    "        \"n_estimators\": [100, 400, 800,1200]\n",
    "}\n",
    "\n",
    "rfc_search = RandomizedSearchCV(rfc, \n",
    "                                params, \n",
    "                                n_iter=36,\n",
    "#                                 average = \"weighted\",\n",
    "                                scoring=\"recall_weighted\",\n",
    "                                random_state=42)\n",
    "\n",
    "rfc_search.fit(scaled_X_train, y_train)"
   ]
  },
  {
   "cell_type": "raw",
   "metadata": {
    "ExecuteTime": {
     "end_time": "2020-08-25T19:30:48.206438Z",
     "start_time": "2020-08-25T19:25:32.678572Z"
    }
   },
   "source": [
    "params = {\n",
    "        \"max_depth\": [None, 4],\n",
    "        \"min_samples_leaf\": [1, 2, 3 ,4],\n",
    "        \"min_samples_split\": [2, 4, 8],\n",
    "        \"n_estimators\": [20, 80, 100, 400]\n",
    "}\n",
    "\n",
    "rfc_search = GridSearchCV(rfc, \n",
    "                          params\n",
    "                         )\n",
    "\n",
    "rfc_search.fit(scaled_X_train, y_train)"
   ]
  },
  {
   "cell_type": "code",
   "execution_count": 76,
   "metadata": {
    "ExecuteTime": {
     "end_time": "2020-08-26T18:26:22.526277Z",
     "start_time": "2020-08-26T18:26:22.475308Z"
    },
    "scrolled": true
   },
   "outputs": [
    {
     "name": "stdout",
     "output_type": "stream",
     "text": [
      "Accuracy: 0.8697183098591549\n",
      "Precision: 0.8622174082786594\n",
      "Recall: 0.8697183098591549\n",
      "F1 Score: 0.8605268641533451\n"
     ]
    }
   ],
   "source": [
    "# best_model = rfc_search.best_estimator_\n",
    "preds = rfc.predict(scaled_X_val)\n",
    "accuracy = accuracy_score(y_val,preds)\n",
    "precision = precision_score(y_val,preds,average=\"weighted\")\n",
    "recall = recall_score(y_val,preds, average=\"weighted\")\n",
    "f1 = f1_score(y_val, preds, average=\"weighted\")\n",
    "\n",
    "print(f\"Accuracy: {accuracy}\")\n",
    "print(f\"Precision: {precision}\")\n",
    "print(f\"Recall: {recall}\")\n",
    "print(f\"F1 Score: {f1}\")"
   ]
  },
  {
   "cell_type": "markdown",
   "metadata": {},
   "source": [
    "### Cross Validation"
   ]
  },
  {
   "cell_type": "code",
   "execution_count": 77,
   "metadata": {
    "ExecuteTime": {
     "end_time": "2020-08-26T18:26:24.622931Z",
     "start_time": "2020-08-26T18:26:24.618932Z"
    }
   },
   "outputs": [],
   "source": [
    "from sklearn.model_selection import cross_validate\n",
    "from sklearn.metrics import confusion_matrix"
   ]
  },
  {
   "cell_type": "code",
   "execution_count": null,
   "metadata": {
    "ExecuteTime": {
     "start_time": "2020-08-26T18:26:25.282Z"
    }
   },
   "outputs": [],
   "source": [
    "cv = cross_validate(best_model,\n",
    "               X =  scaled_X_test,\n",
    "               y = np.ravel(y_test))\n",
    "\n",
    "print(\"Model accuracy is {:.2f}±{:.2f}\".format(cv[\"test_score\"].mean()*100,cv[\"test_score\"].std()*100))"
   ]
  },
  {
   "cell_type": "code",
   "execution_count": null,
   "metadata": {
    "ExecuteTime": {
     "start_time": "2020-08-26T18:26:26.625Z"
    }
   },
   "outputs": [],
   "source": [
    "cm = confusion_matrix(y_val,preds)"
   ]
  },
  {
   "cell_type": "code",
   "execution_count": null,
   "metadata": {
    "ExecuteTime": {
     "start_time": "2020-08-26T18:26:27.120Z"
    }
   },
   "outputs": [],
   "source": [
    "sns.heatmap(cm, cmap=\"viridis\", annot= True, cbar = False)"
   ]
  },
  {
   "cell_type": "markdown",
   "metadata": {},
   "source": [
    "## Save the model"
   ]
  },
  {
   "cell_type": "code",
   "execution_count": 45,
   "metadata": {
    "ExecuteTime": {
     "end_time": "2020-08-26T17:59:31.061709Z",
     "start_time": "2020-08-26T17:59:30.757886Z"
    }
   },
   "outputs": [
    {
     "data": {
      "text/plain": [
       "['../models/rfc_v05.joblib']"
      ]
     },
     "execution_count": 45,
     "metadata": {},
     "output_type": "execute_result"
    }
   ],
   "source": [
    "from joblib import dump, load\n",
    "dump(best_model, '../models/rfc_v05.joblib') "
   ]
  },
  {
   "cell_type": "code",
   "execution_count": null,
   "metadata": {},
   "outputs": [],
   "source": []
  }
 ],
 "metadata": {
  "kernelspec": {
   "display_name": "Python 3",
   "language": "python",
   "name": "python3"
  },
  "language_info": {
   "codemirror_mode": {
    "name": "ipython",
    "version": 3
   },
   "file_extension": ".py",
   "mimetype": "text/x-python",
   "name": "python",
   "nbconvert_exporter": "python",
   "pygments_lexer": "ipython3",
   "version": "3.7.5"
  },
  "notify_time": "5",
  "toc": {
   "base_numbering": 1,
   "nav_menu": {},
   "number_sections": true,
   "sideBar": true,
   "skip_h1_title": false,
   "title_cell": "Table of Contents",
   "title_sidebar": "Contents",
   "toc_cell": false,
   "toc_position": {},
   "toc_section_display": true,
   "toc_window_display": true
  },
  "varInspector": {
   "cols": {
    "lenName": 16,
    "lenType": 16,
    "lenVar": 40
   },
   "kernels_config": {
    "python": {
     "delete_cmd_postfix": "",
     "delete_cmd_prefix": "del ",
     "library": "var_list.py",
     "varRefreshCmd": "print(var_dic_list())"
    },
    "r": {
     "delete_cmd_postfix": ") ",
     "delete_cmd_prefix": "rm(",
     "library": "var_list.r",
     "varRefreshCmd": "cat(var_dic_list()) "
    }
   },
   "position": {
    "height": "646.719px",
    "left": "979.091px",
    "right": "20px",
    "top": "120px",
    "width": "350px"
   },
   "types_to_exclude": [
    "module",
    "function",
    "builtin_function_or_method",
    "instance",
    "_Feature"
   ],
   "window_display": false
  }
 },
 "nbformat": 4,
 "nbformat_minor": 4
}
