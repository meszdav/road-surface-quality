{
 "cells": [
  {
   "cell_type": "markdown",
   "metadata": {},
   "source": [
    "## Import dependencies\n"
   ]
  },
  {
   "cell_type": "code",
   "execution_count": 14,
   "metadata": {
    "ExecuteTime": {
     "end_time": "2020-08-26T17:19:37.349329Z",
     "start_time": "2020-08-26T17:19:37.342350Z"
    }
   },
   "outputs": [],
   "source": [
    "import pandas as pd\n",
    "from sklearn.ensemble import RandomForestClassifier\n",
    "from sklearn.svm import SVC\n",
    "from sklearn.neighbors import KNeighborsClassifier\n",
    "from sklearn.ensemble import AdaBoostClassifier\n",
    "from sklearn.preprocessing import MinMaxScaler, StandardScaler\n",
    "from sklearn.metrics import accuracy_score, f1_score, precision_score, recall_score\n",
    "\n",
    "import seaborn as sns"
   ]
  },
  {
   "cell_type": "markdown",
   "metadata": {},
   "source": [
    "## Read data"
   ]
  },
  {
   "cell_type": "code",
   "execution_count": 2,
   "metadata": {
    "ExecuteTime": {
     "end_time": "2020-08-26T16:50:38.862406Z",
     "start_time": "2020-08-26T16:50:38.667632Z"
    }
   },
   "outputs": [],
   "source": [
    "X_train = pd.read_csv(\"../data/train_test_val/X_train.csv\", header=[0,1], index_col=0)\n",
    "X_test = pd.read_csv(\"../data/train_test_val/X_test.csv\", header=[0,1], index_col=0)\n",
    "X_val = pd.read_csv(\"../data/train_test_val/X_val.csv\", header=[0,1], index_col=0)\n",
    "\n",
    "y_train = pd.read_csv(\"../data/train_test_val/y_train.csv\", index_col=0) \n",
    "y_val = pd.read_csv(\"../data/train_test_val/y_val.csv\", index_col=0)\n",
    "y_test = pd.read_csv(\"../data/train_test_val/y_test.csv\", index_col=0)"
   ]
  },
  {
   "cell_type": "markdown",
   "metadata": {},
   "source": [
    "### Creating ML Pipeline"
   ]
  },
  {
   "cell_type": "code",
   "execution_count": 3,
   "metadata": {
    "ExecuteTime": {
     "end_time": "2020-08-26T16:50:39.034295Z",
     "start_time": "2020-08-26T16:50:39.028295Z"
    }
   },
   "outputs": [],
   "source": [
    "rfc = RandomForestClassifier(random_state=42)\n",
    "svc = SVC(random_state=42)\n",
    "knc = KNeighborsClassifier()\n",
    "abc = AdaBoostClassifier(random_state=42)\n",
    "\n",
    "models = {\"rfc\": rfc,\"svc\": svc, \"knc\" : knc,\"abc\" : abc}"
   ]
  },
  {
   "cell_type": "code",
   "execution_count": 4,
   "metadata": {
    "ExecuteTime": {
     "end_time": "2020-08-26T16:50:39.271110Z",
     "start_time": "2020-08-26T16:50:39.174167Z"
    }
   },
   "outputs": [
    {
     "name": "stderr",
     "output_type": "stream",
     "text": [
      "c:\\users\\mesza\\.virtualenvs\\road-surface-quality-7nv9hwjf\\lib\\site-packages\\pandas\\core\\generic.py:3878: PerformanceWarning: dropping on a non-lexsorted multi-index without a level parameter may impact performance.\n",
      "  obj = obj._drop_axis(labels, axis, level=level, errors=errors)\n",
      "c:\\users\\mesza\\.virtualenvs\\road-surface-quality-7nv9hwjf\\lib\\site-packages\\pandas\\core\\generic.py:3878: PerformanceWarning: dropping on a non-lexsorted multi-index without a level parameter may impact performance.\n",
      "  obj = obj._drop_axis(labels, axis, level=level, errors=errors)\n",
      "c:\\users\\mesza\\.virtualenvs\\road-surface-quality-7nv9hwjf\\lib\\site-packages\\pandas\\core\\generic.py:3878: PerformanceWarning: dropping on a non-lexsorted multi-index without a level parameter may impact performance.\n",
      "  obj = obj._drop_axis(labels, axis, level=level, errors=errors)\n"
     ]
    }
   ],
   "source": [
    "scaler = MinMaxScaler()\n",
    "scaled_X_train = scaler.fit_transform(X_train.drop(\"id_gps\", axis=1)) \n",
    "scaled_X_val = scaler.fit_transform(X_val.drop(\"id_gps\", axis=1))\n",
    "scaled_X_test = scaler.fit_transform(X_test.drop(\"id_gps\", axis=1))"
   ]
  },
  {
   "cell_type": "code",
   "execution_count": 5,
   "metadata": {
    "ExecuteTime": {
     "end_time": "2020-08-26T16:50:39.429020Z",
     "start_time": "2020-08-26T16:50:39.412029Z"
    }
   },
   "outputs": [
    {
     "name": "stderr",
     "output_type": "stream",
     "text": [
      "c:\\users\\mesza\\.virtualenvs\\road-surface-quality-7nv9hwjf\\lib\\site-packages\\pandas\\core\\generic.py:3878: PerformanceWarning: dropping on a non-lexsorted multi-index without a level parameter may impact performance.\n",
      "  obj = obj._drop_axis(labels, axis, level=level, errors=errors)\n"
     ]
    }
   ],
   "source": [
    "X_train = X_train.drop(\"id_gps\", axis = 1)\n",
    "X_val = X_val.drop(\"id_gps\", axis = 1)\n",
    "X_test = X_test.drop(\"id_gps\", axis = 1)\n",
    "y_train = y_train.values.reshape(-1)\n",
    "y_val = y_val.values.reshape(-1)\n",
    "y_test = y_test.values.reshape(-1)\n"
   ]
  },
  {
   "cell_type": "code",
   "execution_count": 6,
   "metadata": {
    "ExecuteTime": {
     "end_time": "2020-08-26T16:50:41.961683Z",
     "start_time": "2020-08-26T16:50:40.826449Z"
    }
   },
   "outputs": [
    {
     "name": "stdout",
     "output_type": "stream",
     "text": [
      "Accuracy Score rfc: 0.8697\n",
      "Accuracy Score svc: 0.8451\n",
      "Accuracy Score knc: 0.8310\n",
      "Accuracy Score abc: 0.8169\n"
     ]
    }
   ],
   "source": [
    "for m in models:\n",
    "    \n",
    "    model = models[m].fit(scaled_X_train, y_train)\n",
    "    preds = model.predict(scaled_X_val)\n",
    "    accuracy = accuracy_score(y_val, preds)\n",
    "    \n",
    "    print(\"Accuracy Score {}: {:.4f}\".format(m,accuracy))"
   ]
  },
  {
   "cell_type": "markdown",
   "metadata": {},
   "source": [
    "The best results belongs to the RandomForest Classifier, but the KNC results are promising as well."
   ]
  },
  {
   "cell_type": "markdown",
   "metadata": {},
   "source": [
    "## Hyperparameter tuning"
   ]
  },
  {
   "cell_type": "code",
   "execution_count": 7,
   "metadata": {
    "ExecuteTime": {
     "end_time": "2020-08-26T16:50:45.739384Z",
     "start_time": "2020-08-26T16:50:45.735389Z"
    }
   },
   "outputs": [],
   "source": [
    "from sklearn.model_selection import RandomizedSearchCV\n",
    "from sklearn.model_selection import GridSearchCV"
   ]
  },
  {
   "cell_type": "code",
   "execution_count": 38,
   "metadata": {
    "ExecuteTime": {
     "end_time": "2020-08-26T17:57:18.930092Z",
     "start_time": "2020-08-26T17:51:08.932480Z"
    }
   },
   "outputs": [
    {
     "data": {
      "text/plain": [
       "RandomizedSearchCV(estimator=RandomForestClassifier(random_state=42), n_iter=36,\n",
       "                   param_distributions={'min_samples_leaf': [1, 2, 3, 4, 8, 16,\n",
       "                                                             20],\n",
       "                                        'min_samples_split': [2, 4, 8, 12],\n",
       "                                        'n_estimators': [100, 400, 800, 1200]},\n",
       "                   random_state=42, scoring='recall_weighted')"
      ]
     },
     "execution_count": 38,
     "metadata": {},
     "output_type": "execute_result"
    }
   ],
   "source": [
    "params = {\n",
    "        \"min_samples_leaf\": [1,2,3 ,4, 8,16,20],\n",
    "        \"min_samples_split\": [2, 4, 8, 12],\n",
    "        \"n_estimators\": [100, 400, 800,1200]\n",
    "}\n",
    "\n",
    "rfc_search = RandomizedSearchCV(rfc, \n",
    "                                params, \n",
    "                                n_iter=36,\n",
    "#                                 average = \"weighted\",\n",
    "                                scoring=\"recall_weighted\",\n",
    "                                random_state=42)\n",
    "\n",
    "rfc_search.fit(scaled_X_train, y_train)"
   ]
  },
  {
   "cell_type": "raw",
   "metadata": {
    "ExecuteTime": {
     "end_time": "2020-08-25T19:30:48.206438Z",
     "start_time": "2020-08-25T19:25:32.678572Z"
    }
   },
   "source": [
    "params = {\n",
    "        \"max_depth\": [None, 4],\n",
    "        \"min_samples_leaf\": [1, 2, 3 ,4],\n",
    "        \"min_samples_split\": [2, 4, 8],\n",
    "        \"n_estimators\": [20, 80, 100, 400]\n",
    "}\n",
    "\n",
    "rfc_search = GridSearchCV(rfc, \n",
    "                          params\n",
    "                         )\n",
    "\n",
    "rfc_search.fit(scaled_X_train, y_train)"
   ]
  },
  {
   "cell_type": "code",
   "execution_count": 39,
   "metadata": {
    "ExecuteTime": {
     "end_time": "2020-08-26T17:57:19.170951Z",
     "start_time": "2020-08-26T17:57:19.072014Z"
    },
    "scrolled": true
   },
   "outputs": [
    {
     "name": "stdout",
     "output_type": "stream",
     "text": [
      "Accuracy: 0.8380281690140845\n",
      "Precision: 0.8264950314743469\n",
      "Recall: 0.8380281690140845\n",
      "F1 Score: 0.818091964867354\n"
     ]
    }
   ],
   "source": [
    "best_model = rfc_search.best_estimator_\n",
    "preds = rfc_search.predict(scaled_X_val)\n",
    "accuracy = accuracy_score(y_val,preds)\n",
    "precision = precision_score(y_val,preds,average=\"weighted\")\n",
    "recall = recall_score(y_val,preds, average=\"weighted\")\n",
    "f1 = f1_score(y_val, preds, average=\"weighted\")\n",
    "\n",
    "print(f\"Accuracy: {accuracy}\")\n",
    "print(f\"Precision: {precision}\")\n",
    "print(f\"Recall: {recall}\")\n",
    "print(f\"F1 Score: {f1}\")"
   ]
  },
  {
   "cell_type": "markdown",
   "metadata": {},
   "source": [
    "### Cross Validation"
   ]
  },
  {
   "cell_type": "code",
   "execution_count": 40,
   "metadata": {
    "ExecuteTime": {
     "end_time": "2020-08-26T17:57:19.289887Z",
     "start_time": "2020-08-26T17:57:19.284886Z"
    }
   },
   "outputs": [],
   "source": [
    "from sklearn.model_selection import cross_validate\n",
    "from sklearn.metrics import confusion_matrix"
   ]
  },
  {
   "cell_type": "code",
   "execution_count": 41,
   "metadata": {
    "ExecuteTime": {
     "end_time": "2020-08-26T17:57:24.753751Z",
     "start_time": "2020-08-26T17:57:19.416810Z"
    }
   },
   "outputs": [
    {
     "name": "stdout",
     "output_type": "stream",
     "text": [
      "Model accuracy is 87.42±2.81\n"
     ]
    }
   ],
   "source": [
    "cv = cross_validate(best_model,\n",
    "               X =  scaled_X_test,\n",
    "               y = np.ravel(y_test))\n",
    "\n",
    "print(\"Model accuracy is {:.2f}±{:.2f}\".format(cv[\"test_score\"].mean()*100,cv[\"test_score\"].std()*100))"
   ]
  },
  {
   "cell_type": "code",
   "execution_count": 42,
   "metadata": {
    "ExecuteTime": {
     "end_time": "2020-08-26T17:57:24.902661Z",
     "start_time": "2020-08-26T17:57:24.894667Z"
    }
   },
   "outputs": [],
   "source": [
    "cm = confusion_matrix(y_val,preds)"
   ]
  },
  {
   "cell_type": "code",
   "execution_count": 43,
   "metadata": {
    "ExecuteTime": {
     "end_time": "2020-08-26T17:57:25.203490Z",
     "start_time": "2020-08-26T17:57:25.026592Z"
    }
   },
   "outputs": [
    {
     "data": {
      "text/plain": [
       "<matplotlib.axes._subplots.AxesSubplot at 0x1364fb61148>"
      ]
     },
     "execution_count": 43,
     "metadata": {},
     "output_type": "execute_result"
    },
    {
     "data": {
      "image/png": "[encoded data removed]",
      "text/plain": [
       "<Figure size 432x288 with 1 Axes>"
      ]
     },
     "metadata": {
      "needs_background": "light"
     },
     "output_type": "display_data"
    }
   ],
   "source": [
    "sns.heatmap(cm, cmap=\"viridis\", annot= True, cbar = False)"
   ]
  },
  {
   "cell_type": "markdown",
   "metadata": {},
   "source": [
    "## Save the model"
   ]
  },
  {
   "cell_type": "code",
   "execution_count": 30,
   "metadata": {
    "ExecuteTime": {
     "end_time": "2020-08-25T19:41:21.919363Z",
     "start_time": "2020-08-25T19:41:21.509599Z"
    }
   },
   "outputs": [
    {
     "data": {
      "text/plain": [
       "['../models/rfc_v04.joblib']"
      ]
     },
     "execution_count": 30,
     "metadata": {},
     "output_type": "execute_result"
    }
   ],
   "source": [
    "from joblib import dump, load\n",
    "dump(best_model, '../models/rfc_v05.joblib') "
   ]
  },
  {
   "cell_type": "code",
   "execution_count": null,
   "metadata": {},
   "outputs": [],
   "source": []
  }
 ],
 "metadata": {
  "kernelspec": {
   "display_name": "Python 3",
   "language": "python",
   "name": "python3"
  },
  "language_info": {
   "codemirror_mode": {
    "name": "ipython",
    "version": 3
   },
   "file_extension": ".py",
   "mimetype": "text/x-python",
   "name": "python",
   "nbconvert_exporter": "python",
   "pygments_lexer": "ipython3",
   "version": "3.7.5"
  },
  "notify_time": "5",
  "toc": {
   "base_numbering": 1,
   "nav_menu": {},
   "number_sections": true,
   "sideBar": true,
   "skip_h1_title": false,
   "title_cell": "Table of Contents",
   "title_sidebar": "Contents",
   "toc_cell": false,
   "toc_position": {},
   "toc_section_display": true,
   "toc_window_display": true
  },
  "varInspector": {
   "cols": {
    "lenName": 16,
    "lenType": 16,
    "lenVar": 40
   },
   "kernels_config": {
    "python": {
     "delete_cmd_postfix": "",
     "delete_cmd_prefix": "del ",
     "library": "var_list.py",
     "varRefreshCmd": "print(var_dic_list())"
    },
    "r": {
     "delete_cmd_postfix": ") ",
     "delete_cmd_prefix": "rm(",
     "library": "var_list.r",
     "varRefreshCmd": "cat(var_dic_list()) "
    }
   },
   "position": {
    "height": "646.719px",
    "left": "979.091px",
    "right": "20px",
    "top": "120px",
    "width": "350px"
   },
   "types_to_exclude": [
    "module",
    "function",
    "builtin_function_or_method",
    "instance",
    "_Feature"
   ],
   "window_display": false
  }
 },
 "nbformat": 4,
 "nbformat_minor": 4
}
