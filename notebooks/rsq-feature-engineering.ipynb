{
 "cells": [
  {
   "cell_type": "markdown",
   "metadata": {},
   "source": [
    "## Import dependencies"
   ]
  },
  {
   "cell_type": "code",
   "execution_count": 1,
   "metadata": {
    "ExecuteTime": {
     "end_time": "2020-08-29T11:21:41.379993Z",
     "start_time": "2020-08-29T11:21:38.543569Z"
    }
   },
   "outputs": [],
   "source": [
    "import pandas as pd\n",
    "import numpy as np\n",
    "import matplotlib.pyplot as plt\n",
    "import seaborn as sns\n",
    "import plotly.graph_objs as go\n",
    "from plotly.offline import iplot, plot\n",
    "import plotly.express as px\n",
    "from scipy.stats import norm, kurtosis\n",
    "from scipy.signal import butter, lfilter, freqz\n",
    "from scipy import signal\n",
    "from sklearn.model_selection import train_test_split\n",
    "from collections import Counter\n",
    "\n",
    "import glob\n",
    "import os\n",
    "\n",
    "plt.rcParams[\"figure.figsize\"] = 16,10\n",
    "\n",
    "\n",
    "from processing_funcs import *"
   ]
  },
  {
   "cell_type": "markdown",
   "metadata": {},
   "source": [
    "## Read data"
   ]
  },
  {
   "cell_type": "code",
   "execution_count": 2,
   "metadata": {
    "ExecuteTime": {
     "end_time": "2020-08-29T11:21:47.524844Z",
     "start_time": "2020-08-29T11:21:41.662209Z"
    }
   },
   "outputs": [],
   "source": [
    "df = read_all()"
   ]
  },
  {
   "cell_type": "markdown",
   "metadata": {},
   "source": [
    "## Groupping Data"
   ]
  },
  {
   "cell_type": "markdown",
   "metadata": {},
   "source": [
    "In order to see how many data points belongs to eachy gps datapoint, we can group the data regarding to the `id_gps` and the `label` column."
   ]
  },
  {
   "cell_type": "code",
   "execution_count": 3,
   "metadata": {
    "ExecuteTime": {
     "end_time": "2020-08-29T11:22:03.623345Z",
     "start_time": "2020-08-29T11:22:03.536398Z"
    }
   },
   "outputs": [
    {
     "data": {
      "text/html": [
       "<div>\n",
       "<style scoped>\n",
       "    .dataframe tbody tr th:only-of-type {\n",
       "        vertical-align: middle;\n",
       "    }\n",
       "\n",
       "    .dataframe tbody tr th {\n",
       "        vertical-align: top;\n",
       "    }\n",
       "\n",
       "    .dataframe thead th {\n",
       "        text-align: right;\n",
       "    }\n",
       "</style>\n",
       "<table border=\"1\" class=\"dataframe\">\n",
       "  <thead>\n",
       "    <tr style=\"text-align: right;\">\n",
       "      <th></th>\n",
       "      <th></th>\n",
       "      <th></th>\n",
       "      <th>time</th>\n",
       "      <th>lat</th>\n",
       "      <th>lon</th>\n",
       "      <th>height</th>\n",
       "      <th>velocity</th>\n",
       "      <th>direction</th>\n",
       "      <th>h_accuracy</th>\n",
       "      <th>v_accuracy</th>\n",
       "      <th>x_lin_acc</th>\n",
       "      <th>y_lin_acc</th>\n",
       "      <th>z_lin_acc</th>\n",
       "      <th>x_gyro</th>\n",
       "      <th>y_gyro</th>\n",
       "      <th>z_gyro</th>\n",
       "      <th>x_acc</th>\n",
       "      <th>y_acc</th>\n",
       "      <th>z_acc</th>\n",
       "    </tr>\n",
       "    <tr>\n",
       "      <th>label</th>\n",
       "      <th>measurementID</th>\n",
       "      <th>id_gps</th>\n",
       "      <th></th>\n",
       "      <th></th>\n",
       "      <th></th>\n",
       "      <th></th>\n",
       "      <th></th>\n",
       "      <th></th>\n",
       "      <th></th>\n",
       "      <th></th>\n",
       "      <th></th>\n",
       "      <th></th>\n",
       "      <th></th>\n",
       "      <th></th>\n",
       "      <th></th>\n",
       "      <th></th>\n",
       "      <th></th>\n",
       "      <th></th>\n",
       "      <th></th>\n",
       "    </tr>\n",
       "  </thead>\n",
       "  <tbody>\n",
       "    <tr>\n",
       "      <th rowspan=\"5\" valign=\"top\">0</th>\n",
       "      <th rowspan=\"5\" valign=\"top\">0</th>\n",
       "      <th>2</th>\n",
       "      <td>50</td>\n",
       "      <td>50</td>\n",
       "      <td>50</td>\n",
       "      <td>50</td>\n",
       "      <td>50</td>\n",
       "      <td>50</td>\n",
       "      <td>50</td>\n",
       "      <td>50</td>\n",
       "      <td>50</td>\n",
       "      <td>50</td>\n",
       "      <td>50</td>\n",
       "      <td>50</td>\n",
       "      <td>50</td>\n",
       "      <td>50</td>\n",
       "      <td>50</td>\n",
       "      <td>50</td>\n",
       "      <td>50</td>\n",
       "    </tr>\n",
       "    <tr>\n",
       "      <th>3</th>\n",
       "      <td>50</td>\n",
       "      <td>50</td>\n",
       "      <td>50</td>\n",
       "      <td>50</td>\n",
       "      <td>50</td>\n",
       "      <td>50</td>\n",
       "      <td>50</td>\n",
       "      <td>50</td>\n",
       "      <td>50</td>\n",
       "      <td>50</td>\n",
       "      <td>50</td>\n",
       "      <td>50</td>\n",
       "      <td>50</td>\n",
       "      <td>50</td>\n",
       "      <td>50</td>\n",
       "      <td>50</td>\n",
       "      <td>50</td>\n",
       "    </tr>\n",
       "    <tr>\n",
       "      <th>4</th>\n",
       "      <td>50</td>\n",
       "      <td>50</td>\n",
       "      <td>50</td>\n",
       "      <td>50</td>\n",
       "      <td>50</td>\n",
       "      <td>50</td>\n",
       "      <td>50</td>\n",
       "      <td>50</td>\n",
       "      <td>50</td>\n",
       "      <td>50</td>\n",
       "      <td>50</td>\n",
       "      <td>50</td>\n",
       "      <td>50</td>\n",
       "      <td>50</td>\n",
       "      <td>50</td>\n",
       "      <td>50</td>\n",
       "      <td>50</td>\n",
       "    </tr>\n",
       "    <tr>\n",
       "      <th>5</th>\n",
       "      <td>50</td>\n",
       "      <td>50</td>\n",
       "      <td>50</td>\n",
       "      <td>50</td>\n",
       "      <td>50</td>\n",
       "      <td>50</td>\n",
       "      <td>50</td>\n",
       "      <td>50</td>\n",
       "      <td>50</td>\n",
       "      <td>50</td>\n",
       "      <td>50</td>\n",
       "      <td>50</td>\n",
       "      <td>50</td>\n",
       "      <td>50</td>\n",
       "      <td>50</td>\n",
       "      <td>50</td>\n",
       "      <td>50</td>\n",
       "    </tr>\n",
       "    <tr>\n",
       "      <th>6</th>\n",
       "      <td>50</td>\n",
       "      <td>50</td>\n",
       "      <td>50</td>\n",
       "      <td>50</td>\n",
       "      <td>50</td>\n",
       "      <td>50</td>\n",
       "      <td>50</td>\n",
       "      <td>50</td>\n",
       "      <td>50</td>\n",
       "      <td>50</td>\n",
       "      <td>50</td>\n",
       "      <td>50</td>\n",
       "      <td>50</td>\n",
       "      <td>50</td>\n",
       "      <td>50</td>\n",
       "      <td>50</td>\n",
       "      <td>50</td>\n",
       "    </tr>\n",
       "  </tbody>\n",
       "</table>\n",
       "</div>"
      ],
      "text/plain": [
       "                            time  lat  lon  height  velocity  direction  \\\n",
       "label measurementID id_gps                                                \n",
       "0     0             2         50   50   50      50        50         50   \n",
       "                    3         50   50   50      50        50         50   \n",
       "                    4         50   50   50      50        50         50   \n",
       "                    5         50   50   50      50        50         50   \n",
       "                    6         50   50   50      50        50         50   \n",
       "\n",
       "                            h_accuracy  v_accuracy  x_lin_acc  y_lin_acc  \\\n",
       "label measurementID id_gps                                                 \n",
       "0     0             2               50          50         50         50   \n",
       "                    3               50          50         50         50   \n",
       "                    4               50          50         50         50   \n",
       "                    5               50          50         50         50   \n",
       "                    6               50          50         50         50   \n",
       "\n",
       "                            z_lin_acc  x_gyro  y_gyro  z_gyro  x_acc  y_acc  \\\n",
       "label measurementID id_gps                                                    \n",
       "0     0             2              50      50      50      50     50     50   \n",
       "                    3              50      50      50      50     50     50   \n",
       "                    4              50      50      50      50     50     50   \n",
       "                    5              50      50      50      50     50     50   \n",
       "                    6              50      50      50      50     50     50   \n",
       "\n",
       "                            z_acc  \n",
       "label measurementID id_gps         \n",
       "0     0             2          50  \n",
       "                    3          50  \n",
       "                    4          50  \n",
       "                    5          50  \n",
       "                    6          50  "
      ]
     },
     "execution_count": 3,
     "metadata": {},
     "output_type": "execute_result"
    }
   ],
   "source": [
    "agg_df = df.groupby([\"label\",\"measurementID\",\"id_gps\"]).count()\n",
    "agg_df.head()"
   ]
  },
  {
   "cell_type": "markdown",
   "metadata": {},
   "source": [
    "### Representing the number of datapoints / gps data"
   ]
  },
  {
   "cell_type": "markdown",
   "metadata": {
    "ExecuteTime": {
     "end_time": "2020-08-21T12:20:45.634070Z",
     "start_time": "2020-08-21T12:20:45.627074Z"
    }
   },
   "source": [
    "We need to do some data transformation, to get the data in a form which can be plotted."
   ]
  },
  {
   "cell_type": "code",
   "execution_count": 4,
   "metadata": {
    "ExecuteTime": {
     "end_time": "2020-08-29T11:22:13.018772Z",
     "start_time": "2020-08-29T11:22:13.008777Z"
    }
   },
   "outputs": [],
   "source": [
    "agg_df.reset_index(inplace=True)"
   ]
  },
  {
   "cell_type": "code",
   "execution_count": 5,
   "metadata": {
    "ExecuteTime": {
     "end_time": "2020-08-29T11:22:14.228324Z",
     "start_time": "2020-08-29T11:22:14.219327Z"
    }
   },
   "outputs": [],
   "source": [
    "agg_df = agg_df[[\"label\",\"id_gps\",\"time\"]]"
   ]
  },
  {
   "cell_type": "code",
   "execution_count": 6,
   "metadata": {
    "ExecuteTime": {
     "end_time": "2020-08-29T11:22:26.797352Z",
     "start_time": "2020-08-29T11:22:26.783361Z"
    }
   },
   "outputs": [
    {
     "data": {
      "text/html": [
       "<div>\n",
       "<style scoped>\n",
       "    .dataframe tbody tr th:only-of-type {\n",
       "        vertical-align: middle;\n",
       "    }\n",
       "\n",
       "    .dataframe tbody tr th {\n",
       "        vertical-align: top;\n",
       "    }\n",
       "\n",
       "    .dataframe thead th {\n",
       "        text-align: right;\n",
       "    }\n",
       "</style>\n",
       "<table border=\"1\" class=\"dataframe\">\n",
       "  <thead>\n",
       "    <tr style=\"text-align: right;\">\n",
       "      <th></th>\n",
       "      <th>label</th>\n",
       "      <th>id_gps</th>\n",
       "      <th>count</th>\n",
       "    </tr>\n",
       "  </thead>\n",
       "  <tbody>\n",
       "    <tr>\n",
       "      <th>0</th>\n",
       "      <td>0</td>\n",
       "      <td>2</td>\n",
       "      <td>50</td>\n",
       "    </tr>\n",
       "    <tr>\n",
       "      <th>1</th>\n",
       "      <td>0</td>\n",
       "      <td>3</td>\n",
       "      <td>50</td>\n",
       "    </tr>\n",
       "    <tr>\n",
       "      <th>2</th>\n",
       "      <td>0</td>\n",
       "      <td>4</td>\n",
       "      <td>50</td>\n",
       "    </tr>\n",
       "    <tr>\n",
       "      <th>3</th>\n",
       "      <td>0</td>\n",
       "      <td>5</td>\n",
       "      <td>50</td>\n",
       "    </tr>\n",
       "    <tr>\n",
       "      <th>4</th>\n",
       "      <td>0</td>\n",
       "      <td>6</td>\n",
       "      <td>50</td>\n",
       "    </tr>\n",
       "  </tbody>\n",
       "</table>\n",
       "</div>"
      ],
      "text/plain": [
       "   label  id_gps  count\n",
       "0      0       2     50\n",
       "1      0       3     50\n",
       "2      0       4     50\n",
       "3      0       5     50\n",
       "4      0       6     50"
      ]
     },
     "execution_count": 6,
     "metadata": {},
     "output_type": "execute_result"
    }
   ],
   "source": [
    "agg_df.columns = [\"label\",\"id_gps\",\"count\"]\n",
    "agg_df.head()"
   ]
  },
  {
   "cell_type": "code",
   "execution_count": 7,
   "metadata": {
    "ExecuteTime": {
     "end_time": "2020-08-29T11:22:28.355875Z",
     "start_time": "2020-08-29T11:22:27.550303Z"
    }
   },
   "outputs": [
    {
     "data": {
      "text/plain": [
       "Text(0, 0.5, 'Frequenzy')"
      ]
     },
     "execution_count": 7,
     "metadata": {},
     "output_type": "execute_result"
    },
    {
     "data": {
      "image/png": "[encoded data removed]",
      "text/plain": [
       "<Figure size 1152x720 with 1 Axes>"
      ]
     },
     "metadata": {
      "needs_background": "light"
     },
     "output_type": "display_data"
    }
   ],
   "source": [
    "sns.distplot(agg_df[\"count\"], 100)\n",
    "plt.title(\"Distribution of datapoints / gps coordinate\")\n",
    "plt.xlabel(\"Count of the Datapoints\")\n",
    "plt.ylabel(\"Frequenzy\")"
   ]
  },
  {
   "cell_type": "markdown",
   "metadata": {},
   "source": [
    "The data point are equally distributed"
   ]
  },
  {
   "cell_type": "markdown",
   "metadata": {},
   "source": [
    "### Prepare data"
   ]
  },
  {
   "cell_type": "code",
   "execution_count": null,
   "metadata": {},
   "outputs": [],
   "source": []
  },
  {
   "cell_type": "code",
   "execution_count": 8,
   "metadata": {
    "ExecuteTime": {
     "end_time": "2020-08-29T11:22:32.377872Z",
     "start_time": "2020-08-29T11:22:32.370878Z"
    }
   },
   "outputs": [],
   "source": [
    "def butter_high(cutoff, fs, order=5):\n",
    "    nyq = 0.5 * fs\n",
    "    normal_cutoff = cutoff / nyq\n",
    "    b, a = butter(order, normal_cutoff, btype='high', analog=False)\n",
    "    return b, a\n",
    "\n",
    "def butter_high_filter(data, cutoff, fs, order=5):\n",
    "    b, a = butter_high(cutoff, fs, order=order)\n",
    "    y = lfilter(b, a, data)\n",
    "    return y\n"
   ]
  },
  {
   "cell_type": "code",
   "execution_count": 9,
   "metadata": {
    "ExecuteTime": {
     "end_time": "2020-08-29T11:22:33.323329Z",
     "start_time": "2020-08-29T11:22:33.315335Z"
    }
   },
   "outputs": [
    {
     "data": {
      "text/plain": [
       "Index(['time', 'measurementID', 'lat', 'lon', 'height', 'velocity',\n",
       "       'direction', 'h_accuracy', 'v_accuracy', 'id_gps', 'x_lin_acc',\n",
       "       'y_lin_acc', 'z_lin_acc', 'x_gyro', 'y_gyro', 'z_gyro', 'x_acc',\n",
       "       'y_acc', 'z_acc', 'label'],\n",
       "      dtype='object')"
      ]
     },
     "execution_count": 9,
     "metadata": {},
     "output_type": "execute_result"
    }
   ],
   "source": [
    "df.columns"
   ]
  },
  {
   "cell_type": "code",
   "execution_count": 10,
   "metadata": {
    "ExecuteTime": {
     "end_time": "2020-08-29T11:22:34.169980Z",
     "start_time": "2020-08-29T11:22:34.161986Z"
    }
   },
   "outputs": [],
   "source": [
    "def filter_acc(df, cutoff=2, fs=50, order=2):\n",
    "\n",
    "    signals = [ 'x_lin_acc', 'y_lin_acc', 'z_lin_acc','x_acc', 'y_acc', 'z_acc',]\n",
    "\n",
    "    new_df = pd.DataFrame(columns=signals)\n",
    "\n",
    "    for label in df.label.unique():\n",
    "\n",
    "        label_df = df[df.label == label]\n",
    "\n",
    "        list_signals = []\n",
    "\n",
    "        for j in signals:\n",
    "\n",
    "            filtered_signal = butter_high_filter(label_df[j], cutoff=cutoff, fs=fs, order=order)\n",
    "\n",
    "            list_signals.append(filtered_signal)\n",
    "\n",
    "        new_df = pd.concat([new_df, pd.DataFrame(np.array(list_signals).T,columns=signals)])\n",
    "\n",
    "    return new_df"
   ]
  },
  {
   "cell_type": "code",
   "execution_count": 96,
   "metadata": {
    "ExecuteTime": {
     "end_time": "2020-08-21T19:34:52.428946Z",
     "start_time": "2020-08-21T19:34:51.320580Z"
    }
   },
   "outputs": [
    {
     "data": {
      "text/plain": [
       "<matplotlib.axes._subplots.AxesSubplot at 0x1e787ecab48>"
      ]
     },
     "execution_count": 96,
     "metadata": {},
     "output_type": "execute_result"
    },
    {
     "data": {
      "image/png": "[encoded data removed]",
      "text/plain": [
       "<Figure size 1152x720 with 1 Axes>"
      ]
     },
     "metadata": {
      "needs_background": "light"
     },
     "output_type": "display_data"
    }
   ],
   "source": [
    "df[\"x_acc\"].plot()\n",
    "filter_acc(df)[\"x_acc\"].plot()"
   ]
  },
  {
   "cell_type": "code",
   "execution_count": 11,
   "metadata": {
    "ExecuteTime": {
     "end_time": "2020-08-29T11:22:38.048326Z",
     "start_time": "2020-08-29T11:22:38.037330Z"
    }
   },
   "outputs": [],
   "source": [
    "def filter_gyro(df, cutoff=10, fs=50, order=2):\n",
    "\n",
    "    signals = ['x_gyro', 'y_gyro', 'z_gyro']\n",
    "\n",
    "    new_df = pd.DataFrame(columns=signals)\n",
    "\n",
    "    for label in df.label.unique():\n",
    "\n",
    "        label_df = df[df.label == label]\n",
    "\n",
    "        list_signals = []\n",
    "\n",
    "        for j in signals:\n",
    "\n",
    "            filtered_signal = butter_high_filter(label_df[j], cutoff=cutoff, fs=fs, order=order)\n",
    "\n",
    "            list_signals.append(filtered_signal)\n",
    "\n",
    "        new_df = pd.concat([new_df, pd.DataFrame(np.array(list_signals).T,columns=signals)])\n",
    "\n",
    "    return new_df"
   ]
  },
  {
   "cell_type": "code",
   "execution_count": 103,
   "metadata": {
    "ExecuteTime": {
     "end_time": "2020-08-21T19:39:07.607275Z",
     "start_time": "2020-08-21T19:39:07.419382Z"
    }
   },
   "outputs": [
    {
     "data": {
      "text/html": [
       "<div>\n",
       "<style scoped>\n",
       "    .dataframe tbody tr th:only-of-type {\n",
       "        vertical-align: middle;\n",
       "    }\n",
       "\n",
       "    .dataframe tbody tr th {\n",
       "        vertical-align: top;\n",
       "    }\n",
       "\n",
       "    .dataframe thead th {\n",
       "        text-align: right;\n",
       "    }\n",
       "</style>\n",
       "<table border=\"1\" class=\"dataframe\">\n",
       "  <thead>\n",
       "    <tr style=\"text-align: right;\">\n",
       "      <th></th>\n",
       "      <th>time</th>\n",
       "      <th>lat</th>\n",
       "      <th>lon</th>\n",
       "      <th>height</th>\n",
       "      <th>velocity</th>\n",
       "      <th>direction</th>\n",
       "      <th>h_accuracy</th>\n",
       "      <th>v_accuracy</th>\n",
       "      <th>id_gps</th>\n",
       "      <th>x_gyro</th>\n",
       "      <th>y_gyro</th>\n",
       "      <th>z_gyro</th>\n",
       "      <th>label</th>\n",
       "    </tr>\n",
       "  </thead>\n",
       "  <tbody>\n",
       "    <tr>\n",
       "      <th>14</th>\n",
       "      <td>0.14</td>\n",
       "      <td>47.696266</td>\n",
       "      <td>17.726061</td>\n",
       "      <td>118.349480</td>\n",
       "      <td>-1.000000</td>\n",
       "      <td>-1.000000</td>\n",
       "      <td>418.967358</td>\n",
       "      <td>418.967358</td>\n",
       "      <td>1</td>\n",
       "      <td>-0.010804</td>\n",
       "      <td>0.001345</td>\n",
       "      <td>-0.033967</td>\n",
       "      <td>0</td>\n",
       "    </tr>\n",
       "    <tr>\n",
       "      <th>15</th>\n",
       "      <td>0.15</td>\n",
       "      <td>47.696266</td>\n",
       "      <td>17.726061</td>\n",
       "      <td>118.349480</td>\n",
       "      <td>-1.000000</td>\n",
       "      <td>-1.000000</td>\n",
       "      <td>418.967358</td>\n",
       "      <td>418.967358</td>\n",
       "      <td>1</td>\n",
       "      <td>0.001346</td>\n",
       "      <td>0.008800</td>\n",
       "      <td>-0.035701</td>\n",
       "      <td>0</td>\n",
       "    </tr>\n",
       "    <tr>\n",
       "      <th>16</th>\n",
       "      <td>0.16</td>\n",
       "      <td>47.696266</td>\n",
       "      <td>17.726061</td>\n",
       "      <td>118.349480</td>\n",
       "      <td>-1.000000</td>\n",
       "      <td>-1.000000</td>\n",
       "      <td>418.967358</td>\n",
       "      <td>418.967358</td>\n",
       "      <td>1</td>\n",
       "      <td>-0.007075</td>\n",
       "      <td>0.005302</td>\n",
       "      <td>-0.027966</td>\n",
       "      <td>0</td>\n",
       "    </tr>\n",
       "    <tr>\n",
       "      <th>17</th>\n",
       "      <td>0.17</td>\n",
       "      <td>47.696266</td>\n",
       "      <td>17.726061</td>\n",
       "      <td>118.349480</td>\n",
       "      <td>-1.000000</td>\n",
       "      <td>-1.000000</td>\n",
       "      <td>418.967358</td>\n",
       "      <td>418.967358</td>\n",
       "      <td>1</td>\n",
       "      <td>-0.007945</td>\n",
       "      <td>0.006663</td>\n",
       "      <td>-0.028829</td>\n",
       "      <td>0</td>\n",
       "    </tr>\n",
       "    <tr>\n",
       "      <th>18</th>\n",
       "      <td>0.18</td>\n",
       "      <td>47.696266</td>\n",
       "      <td>17.726061</td>\n",
       "      <td>118.349480</td>\n",
       "      <td>-1.000000</td>\n",
       "      <td>-1.000000</td>\n",
       "      <td>418.967358</td>\n",
       "      <td>418.967358</td>\n",
       "      <td>1</td>\n",
       "      <td>-0.004748</td>\n",
       "      <td>-0.002140</td>\n",
       "      <td>-0.035702</td>\n",
       "      <td>0</td>\n",
       "    </tr>\n",
       "    <tr>\n",
       "      <th>...</th>\n",
       "      <td>...</td>\n",
       "      <td>...</td>\n",
       "      <td>...</td>\n",
       "      <td>...</td>\n",
       "      <td>...</td>\n",
       "      <td>...</td>\n",
       "      <td>...</td>\n",
       "      <td>...</td>\n",
       "      <td>...</td>\n",
       "      <td>...</td>\n",
       "      <td>...</td>\n",
       "      <td>...</td>\n",
       "      <td>...</td>\n",
       "    </tr>\n",
       "    <tr>\n",
       "      <th>12875</th>\n",
       "      <td>128.75</td>\n",
       "      <td>47.694844</td>\n",
       "      <td>17.675054</td>\n",
       "      <td>117.642292</td>\n",
       "      <td>11.712904</td>\n",
       "      <td>85.817919</td>\n",
       "      <td>6.000906</td>\n",
       "      <td>6.000906</td>\n",
       "      <td>129</td>\n",
       "      <td>0.027666</td>\n",
       "      <td>-0.029211</td>\n",
       "      <td>-0.012400</td>\n",
       "      <td>2</td>\n",
       "    </tr>\n",
       "    <tr>\n",
       "      <th>12876</th>\n",
       "      <td>128.76</td>\n",
       "      <td>47.694844</td>\n",
       "      <td>17.675054</td>\n",
       "      <td>117.642292</td>\n",
       "      <td>11.712904</td>\n",
       "      <td>85.817919</td>\n",
       "      <td>6.000906</td>\n",
       "      <td>6.000906</td>\n",
       "      <td>129</td>\n",
       "      <td>0.035673</td>\n",
       "      <td>-0.008810</td>\n",
       "      <td>-0.015961</td>\n",
       "      <td>2</td>\n",
       "    </tr>\n",
       "    <tr>\n",
       "      <th>12877</th>\n",
       "      <td>128.77</td>\n",
       "      <td>47.694844</td>\n",
       "      <td>17.675054</td>\n",
       "      <td>117.642292</td>\n",
       "      <td>11.712904</td>\n",
       "      <td>85.817919</td>\n",
       "      <td>6.000906</td>\n",
       "      <td>6.000906</td>\n",
       "      <td>129</td>\n",
       "      <td>0.041637</td>\n",
       "      <td>0.014038</td>\n",
       "      <td>-0.008203</td>\n",
       "      <td>2</td>\n",
       "    </tr>\n",
       "    <tr>\n",
       "      <th>12878</th>\n",
       "      <td>128.78</td>\n",
       "      <td>47.694844</td>\n",
       "      <td>17.675054</td>\n",
       "      <td>117.642292</td>\n",
       "      <td>11.712904</td>\n",
       "      <td>85.817919</td>\n",
       "      <td>6.000906</td>\n",
       "      <td>6.000906</td>\n",
       "      <td>129</td>\n",
       "      <td>0.061041</td>\n",
       "      <td>0.035687</td>\n",
       "      <td>0.000275</td>\n",
       "      <td>2</td>\n",
       "    </tr>\n",
       "    <tr>\n",
       "      <th>12879</th>\n",
       "      <td>128.79</td>\n",
       "      <td>47.694844</td>\n",
       "      <td>17.675054</td>\n",
       "      <td>117.642292</td>\n",
       "      <td>11.712904</td>\n",
       "      <td>85.817919</td>\n",
       "      <td>6.000906</td>\n",
       "      <td>6.000906</td>\n",
       "      <td>129</td>\n",
       "      <td>0.054401</td>\n",
       "      <td>0.006462</td>\n",
       "      <td>-0.008958</td>\n",
       "      <td>2</td>\n",
       "    </tr>\n",
       "  </tbody>\n",
       "</table>\n",
       "<p>94893 rows × 13 columns</p>\n",
       "</div>"
      ],
      "text/plain": [
       "         time        lat        lon      height   velocity  direction  \\\n",
       "14       0.14  47.696266  17.726061  118.349480  -1.000000  -1.000000   \n",
       "15       0.15  47.696266  17.726061  118.349480  -1.000000  -1.000000   \n",
       "16       0.16  47.696266  17.726061  118.349480  -1.000000  -1.000000   \n",
       "17       0.17  47.696266  17.726061  118.349480  -1.000000  -1.000000   \n",
       "18       0.18  47.696266  17.726061  118.349480  -1.000000  -1.000000   \n",
       "...       ...        ...        ...         ...        ...        ...   \n",
       "12875  128.75  47.694844  17.675054  117.642292  11.712904  85.817919   \n",
       "12876  128.76  47.694844  17.675054  117.642292  11.712904  85.817919   \n",
       "12877  128.77  47.694844  17.675054  117.642292  11.712904  85.817919   \n",
       "12878  128.78  47.694844  17.675054  117.642292  11.712904  85.817919   \n",
       "12879  128.79  47.694844  17.675054  117.642292  11.712904  85.817919   \n",
       "\n",
       "       h_accuracy  v_accuracy  id_gps    x_gyro    y_gyro    z_gyro  label  \n",
       "14     418.967358  418.967358       1 -0.010804  0.001345 -0.033967      0  \n",
       "15     418.967358  418.967358       1  0.001346  0.008800 -0.035701      0  \n",
       "16     418.967358  418.967358       1 -0.007075  0.005302 -0.027966      0  \n",
       "17     418.967358  418.967358       1 -0.007945  0.006663 -0.028829      0  \n",
       "18     418.967358  418.967358       1 -0.004748 -0.002140 -0.035702      0  \n",
       "...           ...         ...     ...       ...       ...       ...    ...  \n",
       "12875    6.000906    6.000906     129  0.027666 -0.029211 -0.012400      2  \n",
       "12876    6.000906    6.000906     129  0.035673 -0.008810 -0.015961      2  \n",
       "12877    6.000906    6.000906     129  0.041637  0.014038 -0.008203      2  \n",
       "12878    6.000906    6.000906     129  0.061041  0.035687  0.000275      2  \n",
       "12879    6.000906    6.000906     129  0.054401  0.006462 -0.008958      2  \n",
       "\n",
       "[94893 rows x 13 columns]"
      ]
     },
     "execution_count": 103,
     "metadata": {},
     "output_type": "execute_result"
    }
   ],
   "source": [
    "df.drop(filter_acc(df).columns,axis=1)"
   ]
  },
  {
   "cell_type": "code",
   "execution_count": 112,
   "metadata": {
    "ExecuteTime": {
     "end_time": "2020-08-21T19:42:09.596603Z",
     "start_time": "2020-08-21T19:42:09.513652Z"
    }
   },
   "outputs": [
    {
     "data": {
      "text/plain": [
       "(94893, 6)"
      ]
     },
     "execution_count": 112,
     "metadata": {},
     "output_type": "execute_result"
    }
   ],
   "source": [
    "filtered_df = filter_acc(df)\n",
    "filtered_df.shape"
   ]
  },
  {
   "cell_type": "code",
   "execution_count": 115,
   "metadata": {
    "ExecuteTime": {
     "end_time": "2020-08-21T19:43:03.584141Z",
     "start_time": "2020-08-21T19:43:03.570154Z"
    }
   },
   "outputs": [],
   "source": [
    "new_df = df.drop(filtered_df.columns, axis=1)"
   ]
  },
  {
   "cell_type": "code",
   "execution_count": 120,
   "metadata": {
    "ExecuteTime": {
     "end_time": "2020-08-21T19:46:01.626079Z",
     "start_time": "2020-08-21T19:46:01.585098Z"
    }
   },
   "outputs": [],
   "source": [
    "df = pd.concat([new_df.reset_index(),filtered_df.reset_index()], axis=1)"
   ]
  },
  {
   "cell_type": "code",
   "execution_count": 12,
   "metadata": {
    "ExecuteTime": {
     "end_time": "2020-08-29T11:22:50.185554Z",
     "start_time": "2020-08-29T11:22:50.175561Z"
    }
   },
   "outputs": [],
   "source": [
    "def kurtosis_time(x):\n",
    "\n",
    "    return kurtosis(x, fisher=True)\n",
    "\n",
    "def rms_100(x):\n",
    "\n",
    "    return np.sqrt(np.mean(x**2))\n",
    "\n",
    "def crest(x):\n",
    "\n",
    "    return max(abs(x))/np.sqrt(np.mean(x**2))\n",
    "\n",
    "def create_aggregated(df):\n",
    "    \"\"\"Create a aggregated dataframe in time domain\"\"\"\n",
    "    signals = ['x_lin_acc', 'y_lin_acc', \"z_lin_acc\", \n",
    "               'x_acc', 'y_acc', 'z_acc',\n",
    "               'x_gyro', 'y_gyro', 'z_gyro']\n",
    "\n",
    "    agg_df = df.groupby([\"label\", \"id_gps\"]).agg({x: [\"sum\", \"mean\", \"mad\",\n",
    "                                                \"median\", \"min\", \"max\",\n",
    "                                                \"std\", \"var\", \"sem\",\n",
    "                                                \"skew\", \"quantile\",\n",
    "                                                kurtosis_time, rms_100,\n",
    "                                                crest] for x in signals})\n",
    "\n",
    "    return agg_df"
   ]
  },
  {
   "cell_type": "code",
   "execution_count": 13,
   "metadata": {
    "ExecuteTime": {
     "end_time": "2020-08-29T11:23:29.640046Z",
     "start_time": "2020-08-29T11:22:54.879978Z"
    }
   },
   "outputs": [],
   "source": [
    "feature_df = create_aggregated(df).reset_index()"
   ]
  },
  {
   "cell_type": "code",
   "execution_count": 14,
   "metadata": {
    "ExecuteTime": {
     "end_time": "2020-08-29T11:23:30.102782Z",
     "start_time": "2020-08-29T11:23:29.991845Z"
    }
   },
   "outputs": [
    {
     "data": {
      "text/html": [
       "<div>\n",
       "<style scoped>\n",
       "    .dataframe tbody tr th:only-of-type {\n",
       "        vertical-align: middle;\n",
       "    }\n",
       "\n",
       "    .dataframe tbody tr th {\n",
       "        vertical-align: top;\n",
       "    }\n",
       "\n",
       "    .dataframe thead tr th {\n",
       "        text-align: left;\n",
       "    }\n",
       "</style>\n",
       "<table border=\"1\" class=\"dataframe\">\n",
       "  <thead>\n",
       "    <tr>\n",
       "      <th></th>\n",
       "      <th>label</th>\n",
       "      <th>id_gps</th>\n",
       "      <th colspan=\"8\" halign=\"left\">x_lin_acc</th>\n",
       "      <th>...</th>\n",
       "      <th colspan=\"10\" halign=\"left\">z_gyro</th>\n",
       "    </tr>\n",
       "    <tr>\n",
       "      <th></th>\n",
       "      <th></th>\n",
       "      <th></th>\n",
       "      <th>sum</th>\n",
       "      <th>mean</th>\n",
       "      <th>mad</th>\n",
       "      <th>median</th>\n",
       "      <th>min</th>\n",
       "      <th>max</th>\n",
       "      <th>std</th>\n",
       "      <th>var</th>\n",
       "      <th>...</th>\n",
       "      <th>min</th>\n",
       "      <th>max</th>\n",
       "      <th>std</th>\n",
       "      <th>var</th>\n",
       "      <th>sem</th>\n",
       "      <th>skew</th>\n",
       "      <th>quantile</th>\n",
       "      <th>kurtosis_time</th>\n",
       "      <th>rms_100</th>\n",
       "      <th>crest</th>\n",
       "    </tr>\n",
       "  </thead>\n",
       "  <tbody>\n",
       "    <tr>\n",
       "      <th>0</th>\n",
       "      <td>0</td>\n",
       "      <td>2</td>\n",
       "      <td>-1.649796</td>\n",
       "      <td>-0.032996</td>\n",
       "      <td>0.063512</td>\n",
       "      <td>-0.028106</td>\n",
       "      <td>-0.260537</td>\n",
       "      <td>0.236575</td>\n",
       "      <td>0.085715</td>\n",
       "      <td>0.007347</td>\n",
       "      <td>...</td>\n",
       "      <td>0.007717</td>\n",
       "      <td>0.023898</td>\n",
       "      <td>0.003663</td>\n",
       "      <td>0.000013</td>\n",
       "      <td>0.000518</td>\n",
       "      <td>0.440271</td>\n",
       "      <td>0.014481</td>\n",
       "      <td>-0.309927</td>\n",
       "      <td>0.015114</td>\n",
       "      <td>1.581151</td>\n",
       "    </tr>\n",
       "    <tr>\n",
       "      <th>1</th>\n",
       "      <td>0</td>\n",
       "      <td>3</td>\n",
       "      <td>-2.217652</td>\n",
       "      <td>-0.044353</td>\n",
       "      <td>0.056931</td>\n",
       "      <td>-0.040929</td>\n",
       "      <td>-0.199370</td>\n",
       "      <td>0.197633</td>\n",
       "      <td>0.074033</td>\n",
       "      <td>0.005481</td>\n",
       "      <td>...</td>\n",
       "      <td>0.006597</td>\n",
       "      <td>0.025231</td>\n",
       "      <td>0.004161</td>\n",
       "      <td>0.000017</td>\n",
       "      <td>0.000588</td>\n",
       "      <td>0.037274</td>\n",
       "      <td>0.016135</td>\n",
       "      <td>-0.038140</td>\n",
       "      <td>0.016571</td>\n",
       "      <td>1.522644</td>\n",
       "    </tr>\n",
       "    <tr>\n",
       "      <th>2</th>\n",
       "      <td>0</td>\n",
       "      <td>4</td>\n",
       "      <td>9.712292</td>\n",
       "      <td>0.194246</td>\n",
       "      <td>0.108982</td>\n",
       "      <td>0.199365</td>\n",
       "      <td>-0.113289</td>\n",
       "      <td>0.490266</td>\n",
       "      <td>0.142251</td>\n",
       "      <td>0.020235</td>\n",
       "      <td>...</td>\n",
       "      <td>-0.024719</td>\n",
       "      <td>0.025446</td>\n",
       "      <td>0.013300</td>\n",
       "      <td>0.000177</td>\n",
       "      <td>0.001881</td>\n",
       "      <td>1.897102</td>\n",
       "      <td>-0.019297</td>\n",
       "      <td>2.027520</td>\n",
       "      <td>0.018956</td>\n",
       "      <td>1.342376</td>\n",
       "    </tr>\n",
       "    <tr>\n",
       "      <th>3</th>\n",
       "      <td>0</td>\n",
       "      <td>5</td>\n",
       "      <td>1.447531</td>\n",
       "      <td>0.028951</td>\n",
       "      <td>0.056508</td>\n",
       "      <td>0.033353</td>\n",
       "      <td>-0.213006</td>\n",
       "      <td>0.159516</td>\n",
       "      <td>0.073828</td>\n",
       "      <td>0.005451</td>\n",
       "      <td>...</td>\n",
       "      <td>-0.018960</td>\n",
       "      <td>-0.004329</td>\n",
       "      <td>0.002807</td>\n",
       "      <td>0.000008</td>\n",
       "      <td>0.000397</td>\n",
       "      <td>0.434150</td>\n",
       "      <td>-0.012554</td>\n",
       "      <td>0.877856</td>\n",
       "      <td>0.013120</td>\n",
       "      <td>1.445057</td>\n",
       "    </tr>\n",
       "    <tr>\n",
       "      <th>4</th>\n",
       "      <td>0</td>\n",
       "      <td>6</td>\n",
       "      <td>-6.488952</td>\n",
       "      <td>-0.129779</td>\n",
       "      <td>0.106860</td>\n",
       "      <td>-0.150999</td>\n",
       "      <td>-0.383144</td>\n",
       "      <td>0.197703</td>\n",
       "      <td>0.133550</td>\n",
       "      <td>0.017835</td>\n",
       "      <td>...</td>\n",
       "      <td>-0.017997</td>\n",
       "      <td>0.012989</td>\n",
       "      <td>0.006980</td>\n",
       "      <td>0.000049</td>\n",
       "      <td>0.000987</td>\n",
       "      <td>-0.881184</td>\n",
       "      <td>0.001527</td>\n",
       "      <td>0.511352</td>\n",
       "      <td>0.006918</td>\n",
       "      <td>2.601624</td>\n",
       "    </tr>\n",
       "  </tbody>\n",
       "</table>\n",
       "<p>5 rows × 128 columns</p>\n",
       "</div>"
      ],
      "text/plain": [
       "  label id_gps x_lin_acc                                                    \\\n",
       "                     sum      mean       mad    median       min       max   \n",
       "0     0      2 -1.649796 -0.032996  0.063512 -0.028106 -0.260537  0.236575   \n",
       "1     0      3 -2.217652 -0.044353  0.056931 -0.040929 -0.199370  0.197633   \n",
       "2     0      4  9.712292  0.194246  0.108982  0.199365 -0.113289  0.490266   \n",
       "3     0      5  1.447531  0.028951  0.056508  0.033353 -0.213006  0.159516   \n",
       "4     0      6 -6.488952 -0.129779  0.106860 -0.150999 -0.383144  0.197703   \n",
       "\n",
       "                       ...    z_gyro                                          \\\n",
       "        std       var  ...       min       max       std       var       sem   \n",
       "0  0.085715  0.007347  ...  0.007717  0.023898  0.003663  0.000013  0.000518   \n",
       "1  0.074033  0.005481  ...  0.006597  0.025231  0.004161  0.000017  0.000588   \n",
       "2  0.142251  0.020235  ... -0.024719  0.025446  0.013300  0.000177  0.001881   \n",
       "3  0.073828  0.005451  ... -0.018960 -0.004329  0.002807  0.000008  0.000397   \n",
       "4  0.133550  0.017835  ... -0.017997  0.012989  0.006980  0.000049  0.000987   \n",
       "\n",
       "                                                         \n",
       "       skew  quantile kurtosis_time   rms_100     crest  \n",
       "0  0.440271  0.014481     -0.309927  0.015114  1.581151  \n",
       "1  0.037274  0.016135     -0.038140  0.016571  1.522644  \n",
       "2  1.897102 -0.019297      2.027520  0.018956  1.342376  \n",
       "3  0.434150 -0.012554      0.877856  0.013120  1.445057  \n",
       "4 -0.881184  0.001527      0.511352  0.006918  2.601624  \n",
       "\n",
       "[5 rows x 128 columns]"
      ]
     },
     "execution_count": 14,
     "metadata": {},
     "output_type": "execute_result"
    }
   ],
   "source": [
    "feature_df.head()"
   ]
  },
  {
   "cell_type": "markdown",
   "metadata": {},
   "source": [
    "## Shuffle Data"
   ]
  },
  {
   "cell_type": "code",
   "execution_count": 15,
   "metadata": {
    "ExecuteTime": {
     "end_time": "2020-08-29T11:23:48.465527Z",
     "start_time": "2020-08-29T11:23:48.462532Z"
    }
   },
   "outputs": [],
   "source": [
    "from sklearn.model_selection import train_test_split"
   ]
  },
  {
   "cell_type": "code",
   "execution_count": 16,
   "metadata": {
    "ExecuteTime": {
     "end_time": "2020-08-29T11:23:49.165753Z",
     "start_time": "2020-08-29T11:23:49.147763Z"
    }
   },
   "outputs": [
    {
     "name": "stderr",
     "output_type": "stream",
     "text": [
      "c:\\users\\mesza\\.virtualenvs\\road-surface-quality-7nv9hwjf\\lib\\site-packages\\pandas\\core\\generic.py:3878: PerformanceWarning:\n",
      "\n",
      "dropping on a non-lexsorted multi-index without a level parameter may impact performance.\n",
      "\n"
     ]
    }
   ],
   "source": [
    "X = feature_df.drop([\"label\"], axis=1)\n",
    "y = feature_df[\"label\"]"
   ]
  },
  {
   "cell_type": "code",
   "execution_count": 17,
   "metadata": {
    "ExecuteTime": {
     "end_time": "2020-08-29T11:23:50.291112Z",
     "start_time": "2020-08-29T11:23:50.281119Z"
    }
   },
   "outputs": [],
   "source": [
    "X_train, X_val, y_train, y_val = train_test_split(X,\n",
    "                                                  y,\n",
    "                                                  test_size=0.3, \n",
    "                                                  random_state=42,\n",
    "                                                  shuffle = True)"
   ]
  },
  {
   "cell_type": "code",
   "execution_count": 18,
   "metadata": {
    "ExecuteTime": {
     "end_time": "2020-08-29T11:23:51.335147Z",
     "start_time": "2020-08-29T11:23:51.323154Z"
    }
   },
   "outputs": [],
   "source": [
    "X_train, X_test, y_train, y_test = train_test_split(X_train, \n",
    "                                                    y_train, \n",
    "                                                    test_size=0.3, \n",
    "                                                    random_state=42,\n",
    "                                                    shuffle =  True)"
   ]
  },
  {
   "cell_type": "code",
   "execution_count": 19,
   "metadata": {
    "ExecuteTime": {
     "end_time": "2020-08-29T11:23:52.414741Z",
     "start_time": "2020-08-29T11:23:52.404750Z"
    }
   },
   "outputs": [
    {
     "name": "stdout",
     "output_type": "stream",
     "text": [
      "X_train:  (611, 127)\n",
      "X_val:  (375, 127)\n",
      "X_test:  (262, 127)\n",
      "y_train:  (611,)\n",
      "y_val:  (375,)\n",
      "y_test:  (262,)\n"
     ]
    }
   ],
   "source": [
    "print(\"X_train: \", X_train.shape)\n",
    "print(\"X_val: \", X_val.shape)\n",
    "print(\"X_test: \", X_test.shape)\n",
    "print(\"y_train: \", y_train.shape)\n",
    "print(\"y_val: \", y_val.shape)\n",
    "print(\"y_test: \", y_test.shape)"
   ]
  },
  {
   "cell_type": "markdown",
   "metadata": {},
   "source": [
    "Checking the number of the labels in the train, validation and test datasets."
   ]
  },
  {
   "cell_type": "code",
   "execution_count": 20,
   "metadata": {
    "ExecuteTime": {
     "end_time": "2020-08-29T11:23:57.289739Z",
     "start_time": "2020-08-29T11:23:57.282742Z"
    }
   },
   "outputs": [
    {
     "name": "stdout",
     "output_type": "stream",
     "text": [
      "Number of label for each label in the train dataset: [(0, 272), (1, 190), (2, 149)]\n",
      "Number of label for each label in the validation dataset: [(0, 172), (1, 114), (2, 89)]\n",
      "Number of label for each label in the validation dataset: [(0, 117), (2, 80), (1, 65)]\n"
     ]
    }
   ],
   "source": [
    "print(\"Number of label for each label in the train dataset: {}\".format(Counter(y_train).most_common()))\n",
    "print(\"Number of label for each label in the validation dataset: {}\".format(Counter(y_val).most_common()))\n",
    "print(\"Number of label for each label in the validation dataset: {}\".format(Counter(y_test).most_common()))"
   ]
  },
  {
   "cell_type": "markdown",
   "metadata": {},
   "source": [
    "##  Prepare for ML"
   ]
  },
  {
   "cell_type": "code",
   "execution_count": 21,
   "metadata": {
    "ExecuteTime": {
     "end_time": "2020-08-29T11:24:03.468084Z",
     "start_time": "2020-08-29T11:24:03.455091Z"
    }
   },
   "outputs": [
    {
     "data": {
      "text/plain": [
       "MultiIndex([(    'label',              ''),\n",
       "            (   'id_gps',              ''),\n",
       "            ('x_lin_acc',           'sum'),\n",
       "            ('x_lin_acc',          'mean'),\n",
       "            ('x_lin_acc',           'mad'),\n",
       "            ('x_lin_acc',        'median'),\n",
       "            ('x_lin_acc',           'min'),\n",
       "            ('x_lin_acc',           'max'),\n",
       "            ('x_lin_acc',           'std'),\n",
       "            ('x_lin_acc',           'var'),\n",
       "            ...\n",
       "            (   'z_gyro',           'min'),\n",
       "            (   'z_gyro',           'max'),\n",
       "            (   'z_gyro',           'std'),\n",
       "            (   'z_gyro',           'var'),\n",
       "            (   'z_gyro',           'sem'),\n",
       "            (   'z_gyro',          'skew'),\n",
       "            (   'z_gyro',      'quantile'),\n",
       "            (   'z_gyro', 'kurtosis_time'),\n",
       "            (   'z_gyro',       'rms_100'),\n",
       "            (   'z_gyro',         'crest')],\n",
       "           length=128)"
      ]
     },
     "execution_count": 21,
     "metadata": {},
     "output_type": "execute_result"
    }
   ],
   "source": [
    "feature_df.columns"
   ]
  },
  {
   "cell_type": "code",
   "execution_count": 22,
   "metadata": {
    "ExecuteTime": {
     "end_time": "2020-08-29T11:24:04.324292Z",
     "start_time": "2020-08-29T11:24:04.306303Z"
    }
   },
   "outputs": [
    {
     "name": "stderr",
     "output_type": "stream",
     "text": [
      "c:\\users\\mesza\\.virtualenvs\\road-surface-quality-7nv9hwjf\\lib\\site-packages\\pandas\\core\\generic.py:3878: PerformanceWarning:\n",
      "\n",
      "dropping on a non-lexsorted multi-index without a level parameter may impact performance.\n",
      "\n"
     ]
    },
    {
     "data": {
      "text/plain": [
       "MultiIndex([(   'id_gps',              ''),\n",
       "            ('x_lin_acc',           'sum'),\n",
       "            ('x_lin_acc',          'mean'),\n",
       "            ('x_lin_acc',           'mad'),\n",
       "            ('x_lin_acc',        'median'),\n",
       "            ('x_lin_acc',           'min'),\n",
       "            ('x_lin_acc',           'max'),\n",
       "            ('x_lin_acc',           'std'),\n",
       "            ('x_lin_acc',           'var'),\n",
       "            ('x_lin_acc',           'sem'),\n",
       "            ...\n",
       "            (   'z_gyro',           'min'),\n",
       "            (   'z_gyro',           'max'),\n",
       "            (   'z_gyro',           'std'),\n",
       "            (   'z_gyro',           'var'),\n",
       "            (   'z_gyro',           'sem'),\n",
       "            (   'z_gyro',          'skew'),\n",
       "            (   'z_gyro',      'quantile'),\n",
       "            (   'z_gyro', 'kurtosis_time'),\n",
       "            (   'z_gyro',       'rms_100'),\n",
       "            (   'z_gyro',         'crest')],\n",
       "           length=127)"
      ]
     },
     "execution_count": 22,
     "metadata": {},
     "output_type": "execute_result"
    }
   ],
   "source": [
    "feature_df.drop([\"label\"], axis=1).columns"
   ]
  },
  {
   "cell_type": "code",
   "execution_count": 23,
   "metadata": {
    "ExecuteTime": {
     "end_time": "2020-08-29T11:24:06.719404Z",
     "start_time": "2020-08-29T11:24:06.098762Z"
    }
   },
   "outputs": [
    {
     "name": "stderr",
     "output_type": "stream",
     "text": [
      "c:\\users\\mesza\\.virtualenvs\\road-surface-quality-7nv9hwjf\\lib\\site-packages\\pandas\\core\\generic.py:3878: PerformanceWarning:\n",
      "\n",
      "dropping on a non-lexsorted multi-index without a level parameter may impact performance.\n",
      "\n"
     ]
    }
   ],
   "source": [
    "if not os.path.exists(\"../data/train_test_val\"):\n",
    "        os.makedirs(\"../data/train_test_val\")\n",
    "\n",
    "cols = feature_df.drop([\"label\"], axis=1).columns\n",
    "        \n",
    "pd.DataFrame(X_train, columns=cols).to_csv( \"../data/train_test_val/X_train.csv\")\n",
    "pd.DataFrame(X_val, columns=cols).to_csv(\"../data/train_test_val/X_val.csv\")\n",
    "pd.DataFrame(X_test, columns=cols).to_csv(\"../data/train_test_val/X_test.csv\")\n",
    "        \n",
    "pd.DataFrame(y_train).to_csv( \"../data/train_test_val/y_train.csv\")\n",
    "pd.DataFrame(y_val).to_csv(\"../data/train_test_val/y_val.csv\")\n",
    "pd.DataFrame(y_test).to_csv(\"../data/train_test_val/y_test.csv\")"
   ]
  },
  {
   "cell_type": "code",
   "execution_count": 24,
   "metadata": {
    "ExecuteTime": {
     "end_time": "2020-08-29T11:24:07.954277Z",
     "start_time": "2020-08-29T11:24:07.810359Z"
    },
    "scrolled": true
   },
   "outputs": [
    {
     "data": {
      "text/html": [
       "<div>\n",
       "<style scoped>\n",
       "    .dataframe tbody tr th:only-of-type {\n",
       "        vertical-align: middle;\n",
       "    }\n",
       "\n",
       "    .dataframe tbody tr th {\n",
       "        vertical-align: top;\n",
       "    }\n",
       "\n",
       "    .dataframe thead tr th {\n",
       "        text-align: left;\n",
       "    }\n",
       "</style>\n",
       "<table border=\"1\" class=\"dataframe\">\n",
       "  <thead>\n",
       "    <tr>\n",
       "      <th></th>\n",
       "      <th>id_gps</th>\n",
       "      <th colspan=\"9\" halign=\"left\">x_lin_acc</th>\n",
       "      <th>...</th>\n",
       "      <th colspan=\"10\" halign=\"left\">z_gyro</th>\n",
       "    </tr>\n",
       "    <tr>\n",
       "      <th></th>\n",
       "      <th>Unnamed: 1_level_1</th>\n",
       "      <th>sum</th>\n",
       "      <th>mean</th>\n",
       "      <th>mad</th>\n",
       "      <th>median</th>\n",
       "      <th>min</th>\n",
       "      <th>max</th>\n",
       "      <th>std</th>\n",
       "      <th>var</th>\n",
       "      <th>sem</th>\n",
       "      <th>...</th>\n",
       "      <th>min</th>\n",
       "      <th>max</th>\n",
       "      <th>std</th>\n",
       "      <th>var</th>\n",
       "      <th>sem</th>\n",
       "      <th>skew</th>\n",
       "      <th>quantile</th>\n",
       "      <th>kurtosis_time</th>\n",
       "      <th>rms_100</th>\n",
       "      <th>crest</th>\n",
       "    </tr>\n",
       "  </thead>\n",
       "  <tbody>\n",
       "    <tr>\n",
       "      <th>216</th>\n",
       "      <td>219</td>\n",
       "      <td>0.777329</td>\n",
       "      <td>0.015547</td>\n",
       "      <td>0.174615</td>\n",
       "      <td>0.047523</td>\n",
       "      <td>-0.501717</td>\n",
       "      <td>0.635126</td>\n",
       "      <td>0.221625</td>\n",
       "      <td>0.049118</td>\n",
       "      <td>0.031342</td>\n",
       "      <td>...</td>\n",
       "      <td>0.019396</td>\n",
       "      <td>0.060440</td>\n",
       "      <td>0.009262</td>\n",
       "      <td>0.000086</td>\n",
       "      <td>0.001310</td>\n",
       "      <td>-0.558043</td>\n",
       "      <td>0.045892</td>\n",
       "      <td>-0.163771</td>\n",
       "      <td>0.045715</td>\n",
       "      <td>1.322102</td>\n",
       "    </tr>\n",
       "    <tr>\n",
       "      <th>1055</th>\n",
       "      <td>127</td>\n",
       "      <td>8.595989</td>\n",
       "      <td>0.085960</td>\n",
       "      <td>0.343803</td>\n",
       "      <td>0.126789</td>\n",
       "      <td>-1.613355</td>\n",
       "      <td>1.788411</td>\n",
       "      <td>0.527513</td>\n",
       "      <td>0.278270</td>\n",
       "      <td>0.052751</td>\n",
       "      <td>...</td>\n",
       "      <td>-0.028156</td>\n",
       "      <td>0.052252</td>\n",
       "      <td>0.015692</td>\n",
       "      <td>0.000246</td>\n",
       "      <td>0.001569</td>\n",
       "      <td>0.957135</td>\n",
       "      <td>-0.001987</td>\n",
       "      <td>1.822394</td>\n",
       "      <td>0.015830</td>\n",
       "      <td>3.300859</td>\n",
       "    </tr>\n",
       "    <tr>\n",
       "      <th>753</th>\n",
       "      <td>193</td>\n",
       "      <td>7.855975</td>\n",
       "      <td>0.078560</td>\n",
       "      <td>0.326096</td>\n",
       "      <td>-0.022787</td>\n",
       "      <td>-0.525889</td>\n",
       "      <td>1.083576</td>\n",
       "      <td>0.405098</td>\n",
       "      <td>0.164105</td>\n",
       "      <td>0.040510</td>\n",
       "      <td>...</td>\n",
       "      <td>-0.211356</td>\n",
       "      <td>0.029557</td>\n",
       "      <td>0.098865</td>\n",
       "      <td>0.009774</td>\n",
       "      <td>0.009887</td>\n",
       "      <td>-0.058235</td>\n",
       "      <td>-0.068532</td>\n",
       "      <td>-1.912393</td>\n",
       "      <td>0.126119</td>\n",
       "      <td>1.675854</td>\n",
       "    </tr>\n",
       "    <tr>\n",
       "      <th>577</th>\n",
       "      <td>17</td>\n",
       "      <td>-20.204003</td>\n",
       "      <td>-0.132921</td>\n",
       "      <td>0.454108</td>\n",
       "      <td>-0.150396</td>\n",
       "      <td>-3.040550</td>\n",
       "      <td>4.833078</td>\n",
       "      <td>0.800214</td>\n",
       "      <td>0.640342</td>\n",
       "      <td>0.064906</td>\n",
       "      <td>...</td>\n",
       "      <td>-0.039129</td>\n",
       "      <td>0.081318</td>\n",
       "      <td>0.022815</td>\n",
       "      <td>0.000521</td>\n",
       "      <td>0.001851</td>\n",
       "      <td>0.384400</td>\n",
       "      <td>0.010270</td>\n",
       "      <td>-0.403795</td>\n",
       "      <td>0.026730</td>\n",
       "      <td>3.042231</td>\n",
       "    </tr>\n",
       "    <tr>\n",
       "      <th>521</th>\n",
       "      <td>588</td>\n",
       "      <td>-2.061350</td>\n",
       "      <td>-0.041227</td>\n",
       "      <td>0.098289</td>\n",
       "      <td>-0.038923</td>\n",
       "      <td>-0.283358</td>\n",
       "      <td>0.376723</td>\n",
       "      <td>0.128576</td>\n",
       "      <td>0.016532</td>\n",
       "      <td>0.018183</td>\n",
       "      <td>...</td>\n",
       "      <td>-0.028348</td>\n",
       "      <td>-0.009550</td>\n",
       "      <td>0.003760</td>\n",
       "      <td>0.000014</td>\n",
       "      <td>0.000532</td>\n",
       "      <td>-0.177221</td>\n",
       "      <td>-0.017423</td>\n",
       "      <td>0.275626</td>\n",
       "      <td>0.017465</td>\n",
       "      <td>1.623165</td>\n",
       "    </tr>\n",
       "    <tr>\n",
       "      <th>...</th>\n",
       "      <td>...</td>\n",
       "      <td>...</td>\n",
       "      <td>...</td>\n",
       "      <td>...</td>\n",
       "      <td>...</td>\n",
       "      <td>...</td>\n",
       "      <td>...</td>\n",
       "      <td>...</td>\n",
       "      <td>...</td>\n",
       "      <td>...</td>\n",
       "      <td>...</td>\n",
       "      <td>...</td>\n",
       "      <td>...</td>\n",
       "      <td>...</td>\n",
       "      <td>...</td>\n",
       "      <td>...</td>\n",
       "      <td>...</td>\n",
       "      <td>...</td>\n",
       "      <td>...</td>\n",
       "      <td>...</td>\n",
       "      <td>...</td>\n",
       "    </tr>\n",
       "    <tr>\n",
       "      <th>959</th>\n",
       "      <td>31</td>\n",
       "      <td>-89.493787</td>\n",
       "      <td>-0.596625</td>\n",
       "      <td>0.828861</td>\n",
       "      <td>-0.340617</td>\n",
       "      <td>-3.234558</td>\n",
       "      <td>1.225475</td>\n",
       "      <td>1.008263</td>\n",
       "      <td>1.016595</td>\n",
       "      <td>0.082324</td>\n",
       "      <td>...</td>\n",
       "      <td>-0.071360</td>\n",
       "      <td>0.329160</td>\n",
       "      <td>0.119716</td>\n",
       "      <td>0.014332</td>\n",
       "      <td>0.009775</td>\n",
       "      <td>0.895077</td>\n",
       "      <td>0.021727</td>\n",
       "      <td>-0.607232</td>\n",
       "      <td>0.141739</td>\n",
       "      <td>2.322294</td>\n",
       "    </tr>\n",
       "    <tr>\n",
       "      <th>1021</th>\n",
       "      <td>93</td>\n",
       "      <td>5.046097</td>\n",
       "      <td>0.033641</td>\n",
       "      <td>0.678191</td>\n",
       "      <td>0.022685</td>\n",
       "      <td>-2.650628</td>\n",
       "      <td>2.133578</td>\n",
       "      <td>0.865925</td>\n",
       "      <td>0.749827</td>\n",
       "      <td>0.070703</td>\n",
       "      <td>...</td>\n",
       "      <td>-0.187510</td>\n",
       "      <td>0.049196</td>\n",
       "      <td>0.063255</td>\n",
       "      <td>0.004001</td>\n",
       "      <td>0.005165</td>\n",
       "      <td>-0.778060</td>\n",
       "      <td>-0.012326</td>\n",
       "      <td>-0.770064</td>\n",
       "      <td>0.074136</td>\n",
       "      <td>2.529279</td>\n",
       "    </tr>\n",
       "    <tr>\n",
       "      <th>647</th>\n",
       "      <td>87</td>\n",
       "      <td>21.026178</td>\n",
       "      <td>0.140175</td>\n",
       "      <td>0.349241</td>\n",
       "      <td>0.173809</td>\n",
       "      <td>-4.263890</td>\n",
       "      <td>2.131999</td>\n",
       "      <td>0.608563</td>\n",
       "      <td>0.370348</td>\n",
       "      <td>0.049689</td>\n",
       "      <td>...</td>\n",
       "      <td>-0.048568</td>\n",
       "      <td>0.081753</td>\n",
       "      <td>0.024345</td>\n",
       "      <td>0.000593</td>\n",
       "      <td>0.001988</td>\n",
       "      <td>0.163534</td>\n",
       "      <td>0.007806</td>\n",
       "      <td>-0.850862</td>\n",
       "      <td>0.026774</td>\n",
       "      <td>3.053484</td>\n",
       "    </tr>\n",
       "    <tr>\n",
       "      <th>1015</th>\n",
       "      <td>87</td>\n",
       "      <td>-1.731230</td>\n",
       "      <td>-0.011542</td>\n",
       "      <td>0.483618</td>\n",
       "      <td>-0.047194</td>\n",
       "      <td>-2.958850</td>\n",
       "      <td>2.718648</td>\n",
       "      <td>0.707373</td>\n",
       "      <td>0.500376</td>\n",
       "      <td>0.057757</td>\n",
       "      <td>...</td>\n",
       "      <td>-0.063926</td>\n",
       "      <td>0.057734</td>\n",
       "      <td>0.019705</td>\n",
       "      <td>0.000388</td>\n",
       "      <td>0.001609</td>\n",
       "      <td>-0.175212</td>\n",
       "      <td>0.009381</td>\n",
       "      <td>0.825721</td>\n",
       "      <td>0.021504</td>\n",
       "      <td>2.972784</td>\n",
       "    </tr>\n",
       "    <tr>\n",
       "      <th>1229</th>\n",
       "      <td>322</td>\n",
       "      <td>-0.729132</td>\n",
       "      <td>-0.014583</td>\n",
       "      <td>0.408548</td>\n",
       "      <td>-0.002272</td>\n",
       "      <td>-1.390827</td>\n",
       "      <td>1.068678</td>\n",
       "      <td>0.534948</td>\n",
       "      <td>0.286169</td>\n",
       "      <td>0.075653</td>\n",
       "      <td>...</td>\n",
       "      <td>-0.025820</td>\n",
       "      <td>0.034853</td>\n",
       "      <td>0.013516</td>\n",
       "      <td>0.000183</td>\n",
       "      <td>0.001912</td>\n",
       "      <td>0.560981</td>\n",
       "      <td>-0.003712</td>\n",
       "      <td>0.002520</td>\n",
       "      <td>0.013625</td>\n",
       "      <td>2.558107</td>\n",
       "    </tr>\n",
       "  </tbody>\n",
       "</table>\n",
       "<p>262 rows × 127 columns</p>\n",
       "</div>"
      ],
      "text/plain": [
       "                 id_gps  x_lin_acc                                          \\\n",
       "     Unnamed: 1_level_1        sum      mean       mad    median       min   \n",
       "216                 219   0.777329  0.015547  0.174615  0.047523 -0.501717   \n",
       "1055                127   8.595989  0.085960  0.343803  0.126789 -1.613355   \n",
       "753                 193   7.855975  0.078560  0.326096 -0.022787 -0.525889   \n",
       "577                  17 -20.204003 -0.132921  0.454108 -0.150396 -3.040550   \n",
       "521                 588  -2.061350 -0.041227  0.098289 -0.038923 -0.283358   \n",
       "...                 ...        ...       ...       ...       ...       ...   \n",
       "959                  31 -89.493787 -0.596625  0.828861 -0.340617 -3.234558   \n",
       "1021                 93   5.046097  0.033641  0.678191  0.022685 -2.650628   \n",
       "647                  87  21.026178  0.140175  0.349241  0.173809 -4.263890   \n",
       "1015                 87  -1.731230 -0.011542  0.483618 -0.047194 -2.958850   \n",
       "1229                322  -0.729132 -0.014583  0.408548 -0.002272 -1.390827   \n",
       "\n",
       "                                              ...    z_gyro            \\\n",
       "           max       std       var       sem  ...       min       max   \n",
       "216   0.635126  0.221625  0.049118  0.031342  ...  0.019396  0.060440   \n",
       "1055  1.788411  0.527513  0.278270  0.052751  ... -0.028156  0.052252   \n",
       "753   1.083576  0.405098  0.164105  0.040510  ... -0.211356  0.029557   \n",
       "577   4.833078  0.800214  0.640342  0.064906  ... -0.039129  0.081318   \n",
       "521   0.376723  0.128576  0.016532  0.018183  ... -0.028348 -0.009550   \n",
       "...        ...       ...       ...       ...  ...       ...       ...   \n",
       "959   1.225475  1.008263  1.016595  0.082324  ... -0.071360  0.329160   \n",
       "1021  2.133578  0.865925  0.749827  0.070703  ... -0.187510  0.049196   \n",
       "647   2.131999  0.608563  0.370348  0.049689  ... -0.048568  0.081753   \n",
       "1015  2.718648  0.707373  0.500376  0.057757  ... -0.063926  0.057734   \n",
       "1229  1.068678  0.534948  0.286169  0.075653  ... -0.025820  0.034853   \n",
       "\n",
       "                                                                      \\\n",
       "           std       var       sem      skew  quantile kurtosis_time   \n",
       "216   0.009262  0.000086  0.001310 -0.558043  0.045892     -0.163771   \n",
       "1055  0.015692  0.000246  0.001569  0.957135 -0.001987      1.822394   \n",
       "753   0.098865  0.009774  0.009887 -0.058235 -0.068532     -1.912393   \n",
       "577   0.022815  0.000521  0.001851  0.384400  0.010270     -0.403795   \n",
       "521   0.003760  0.000014  0.000532 -0.177221 -0.017423      0.275626   \n",
       "...        ...       ...       ...       ...       ...           ...   \n",
       "959   0.119716  0.014332  0.009775  0.895077  0.021727     -0.607232   \n",
       "1021  0.063255  0.004001  0.005165 -0.778060 -0.012326     -0.770064   \n",
       "647   0.024345  0.000593  0.001988  0.163534  0.007806     -0.850862   \n",
       "1015  0.019705  0.000388  0.001609 -0.175212  0.009381      0.825721   \n",
       "1229  0.013516  0.000183  0.001912  0.560981 -0.003712      0.002520   \n",
       "\n",
       "                          \n",
       "       rms_100     crest  \n",
       "216   0.045715  1.322102  \n",
       "1055  0.015830  3.300859  \n",
       "753   0.126119  1.675854  \n",
       "577   0.026730  3.042231  \n",
       "521   0.017465  1.623165  \n",
       "...        ...       ...  \n",
       "959   0.141739  2.322294  \n",
       "1021  0.074136  2.529279  \n",
       "647   0.026774  3.053484  \n",
       "1015  0.021504  2.972784  \n",
       "1229  0.013625  2.558107  \n",
       "\n",
       "[262 rows x 127 columns]"
      ]
     },
     "execution_count": 24,
     "metadata": {},
     "output_type": "execute_result"
    }
   ],
   "source": [
    "pd.read_csv(\"../data/train_test_val/X_test.csv\", header=[0,1], index_col=0)"
   ]
  },
  {
   "cell_type": "code",
   "execution_count": null,
   "metadata": {},
   "outputs": [],
   "source": []
  },
  {
   "cell_type": "code",
   "execution_count": null,
   "metadata": {},
   "outputs": [],
   "source": []
  }
 ],
 "metadata": {
  "kernelspec": {
   "display_name": "Python 3",
   "language": "python",
   "name": "python3"
  },
  "language_info": {
   "codemirror_mode": {
    "name": "ipython",
    "version": 3
   },
   "file_extension": ".py",
   "mimetype": "text/x-python",
   "name": "python",
   "nbconvert_exporter": "python",
   "pygments_lexer": "ipython3",
   "version": "3.7.5"
  },
  "toc": {
   "base_numbering": 1,
   "nav_menu": {},
   "number_sections": true,
   "sideBar": true,
   "skip_h1_title": false,
   "title_cell": "Table of Contents",
   "title_sidebar": "Contents",
   "toc_cell": false,
   "toc_position": {},
   "toc_section_display": true,
   "toc_window_display": false
  },
  "varInspector": {
   "cols": {
    "lenName": 16,
    "lenType": 16,
    "lenVar": 40
   },
   "kernels_config": {
    "python": {
     "delete_cmd_postfix": "",
     "delete_cmd_prefix": "del ",
     "library": "var_list.py",
     "varRefreshCmd": "print(var_dic_list())"
    },
    "r": {
     "delete_cmd_postfix": ") ",
     "delete_cmd_prefix": "rm(",
     "library": "var_list.r",
     "varRefreshCmd": "cat(var_dic_list()) "
    }
   },
   "types_to_exclude": [
    "module",
    "function",
    "builtin_function_or_method",
    "instance",
    "_Feature"
   ],
   "window_display": false
  }
 },
 "nbformat": 4,
 "nbformat_minor": 4
}
