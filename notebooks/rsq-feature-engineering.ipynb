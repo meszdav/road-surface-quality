{
 "cells": [
  {
   "cell_type": "markdown",
   "metadata": {},
   "source": [
    "## Import dependencies"
   ]
  },
  {
   "cell_type": "code",
   "execution_count": 1,
   "metadata": {
    "ExecuteTime": {
     "end_time": "2020-08-21T14:53:25.371575Z",
     "start_time": "2020-08-21T14:53:23.037832Z"
    }
   },
   "outputs": [],
   "source": [
    "import pandas as pd\n",
    "import numpy as np\n",
    "import matplotlib.pyplot as plt\n",
    "import seaborn as sns\n",
    "import plotly.graph_objs as go\n",
    "from plotly.offline import iplot, plot\n",
    "import plotly.express as px\n",
    "from scipy.stats import norm, kurtosis\n",
    "from scipy.signal import butter, lfilter, freqz\n",
    "from scipy import signal\n",
    "from sklearn.model_selection import train_test_split\n",
    "from collections import Counter\n",
    "\n",
    "import glob\n",
    "import os\n",
    "\n",
    "plt.rcParams[\"figure.figsize\"] = 16,10\n",
    "\n",
    "\n",
    "from processing_funcs import *"
   ]
  },
  {
   "cell_type": "markdown",
   "metadata": {},
   "source": [
    "## Read data"
   ]
  },
  {
   "cell_type": "code",
   "execution_count": 2,
   "metadata": {
    "ExecuteTime": {
     "end_time": "2020-08-21T14:53:28.120001Z",
     "start_time": "2020-08-21T14:53:25.373580Z"
    }
   },
   "outputs": [],
   "source": [
    "df = read_all()"
   ]
  },
  {
   "cell_type": "code",
   "execution_count": 3,
   "metadata": {
    "ExecuteTime": {
     "end_time": "2020-08-21T14:53:28.181967Z",
     "start_time": "2020-08-21T14:53:28.123000Z"
    }
   },
   "outputs": [
    {
     "data": {
      "text/html": [
       "<div>\n",
       "<style scoped>\n",
       "    .dataframe tbody tr th:only-of-type {\n",
       "        vertical-align: middle;\n",
       "    }\n",
       "\n",
       "    .dataframe tbody tr th {\n",
       "        vertical-align: top;\n",
       "    }\n",
       "\n",
       "    .dataframe thead th {\n",
       "        text-align: right;\n",
       "    }\n",
       "</style>\n",
       "<table border=\"1\" class=\"dataframe\">\n",
       "  <thead>\n",
       "    <tr style=\"text-align: right;\">\n",
       "      <th></th>\n",
       "      <th>time</th>\n",
       "      <th>lat</th>\n",
       "      <th>lon</th>\n",
       "      <th>height</th>\n",
       "      <th>velocity</th>\n",
       "      <th>direction</th>\n",
       "      <th>h_accuracy</th>\n",
       "      <th>v_accuracy</th>\n",
       "      <th>id_gps</th>\n",
       "      <th>x_lin_acc</th>\n",
       "      <th>y_lin_acc</th>\n",
       "      <th>z_lin_acc</th>\n",
       "      <th>x_gyro</th>\n",
       "      <th>y_gyro</th>\n",
       "      <th>z_gyro</th>\n",
       "      <th>x_acc</th>\n",
       "      <th>y_acc</th>\n",
       "      <th>z_acc</th>\n",
       "      <th>label</th>\n",
       "    </tr>\n",
       "  </thead>\n",
       "  <tbody>\n",
       "    <tr>\n",
       "      <th>14</th>\n",
       "      <td>0.14</td>\n",
       "      <td>47.696266</td>\n",
       "      <td>17.726061</td>\n",
       "      <td>118.34948</td>\n",
       "      <td>-1.0</td>\n",
       "      <td>-1.0</td>\n",
       "      <td>418.967358</td>\n",
       "      <td>418.967358</td>\n",
       "      <td>1</td>\n",
       "      <td>-0.068991</td>\n",
       "      <td>0.116175</td>\n",
       "      <td>-0.231500</td>\n",
       "      <td>-0.010804</td>\n",
       "      <td>0.001345</td>\n",
       "      <td>-0.033967</td>\n",
       "      <td>0.010029</td>\n",
       "      <td>-0.066162</td>\n",
       "      <td>9.487570</td>\n",
       "      <td>0</td>\n",
       "    </tr>\n",
       "    <tr>\n",
       "      <th>15</th>\n",
       "      <td>0.15</td>\n",
       "      <td>47.696266</td>\n",
       "      <td>17.726061</td>\n",
       "      <td>118.34948</td>\n",
       "      <td>-1.0</td>\n",
       "      <td>-1.0</td>\n",
       "      <td>418.967358</td>\n",
       "      <td>418.967358</td>\n",
       "      <td>1</td>\n",
       "      <td>0.119553</td>\n",
       "      <td>0.105636</td>\n",
       "      <td>-0.053966</td>\n",
       "      <td>0.001346</td>\n",
       "      <td>0.008800</td>\n",
       "      <td>-0.035701</td>\n",
       "      <td>-0.054936</td>\n",
       "      <td>-0.025597</td>\n",
       "      <td>9.624087</td>\n",
       "      <td>0</td>\n",
       "    </tr>\n",
       "    <tr>\n",
       "      <th>16</th>\n",
       "      <td>0.16</td>\n",
       "      <td>47.696266</td>\n",
       "      <td>17.726061</td>\n",
       "      <td>118.34948</td>\n",
       "      <td>-1.0</td>\n",
       "      <td>-1.0</td>\n",
       "      <td>418.967358</td>\n",
       "      <td>418.967358</td>\n",
       "      <td>1</td>\n",
       "      <td>0.013766</td>\n",
       "      <td>-0.061842</td>\n",
       "      <td>-0.085847</td>\n",
       "      <td>-0.007075</td>\n",
       "      <td>0.005302</td>\n",
       "      <td>-0.027966</td>\n",
       "      <td>0.181722</td>\n",
       "      <td>-0.081730</td>\n",
       "      <td>9.736653</td>\n",
       "      <td>0</td>\n",
       "    </tr>\n",
       "    <tr>\n",
       "      <th>17</th>\n",
       "      <td>0.17</td>\n",
       "      <td>47.696266</td>\n",
       "      <td>17.726061</td>\n",
       "      <td>118.34948</td>\n",
       "      <td>-1.0</td>\n",
       "      <td>-1.0</td>\n",
       "      <td>418.967358</td>\n",
       "      <td>418.967358</td>\n",
       "      <td>1</td>\n",
       "      <td>0.063374</td>\n",
       "      <td>0.128633</td>\n",
       "      <td>-0.271607</td>\n",
       "      <td>-0.007945</td>\n",
       "      <td>0.006663</td>\n",
       "      <td>-0.028829</td>\n",
       "      <td>0.057930</td>\n",
       "      <td>-0.128134</td>\n",
       "      <td>9.693692</td>\n",
       "      <td>0</td>\n",
       "    </tr>\n",
       "    <tr>\n",
       "      <th>18</th>\n",
       "      <td>0.18</td>\n",
       "      <td>47.696266</td>\n",
       "      <td>17.726061</td>\n",
       "      <td>118.34948</td>\n",
       "      <td>-1.0</td>\n",
       "      <td>-1.0</td>\n",
       "      <td>418.967358</td>\n",
       "      <td>418.967358</td>\n",
       "      <td>1</td>\n",
       "      <td>0.089934</td>\n",
       "      <td>0.096254</td>\n",
       "      <td>-0.355428</td>\n",
       "      <td>-0.004748</td>\n",
       "      <td>-0.002140</td>\n",
       "      <td>-0.035702</td>\n",
       "      <td>0.103884</td>\n",
       "      <td>-0.026944</td>\n",
       "      <td>9.488020</td>\n",
       "      <td>0</td>\n",
       "    </tr>\n",
       "  </tbody>\n",
       "</table>\n",
       "</div>"
      ],
      "text/plain": [
       "    time        lat        lon     height  velocity  direction  h_accuracy  \\\n",
       "14  0.14  47.696266  17.726061  118.34948      -1.0       -1.0  418.967358   \n",
       "15  0.15  47.696266  17.726061  118.34948      -1.0       -1.0  418.967358   \n",
       "16  0.16  47.696266  17.726061  118.34948      -1.0       -1.0  418.967358   \n",
       "17  0.17  47.696266  17.726061  118.34948      -1.0       -1.0  418.967358   \n",
       "18  0.18  47.696266  17.726061  118.34948      -1.0       -1.0  418.967358   \n",
       "\n",
       "    v_accuracy  id_gps  x_lin_acc  y_lin_acc  z_lin_acc    x_gyro    y_gyro  \\\n",
       "14  418.967358       1  -0.068991   0.116175  -0.231500 -0.010804  0.001345   \n",
       "15  418.967358       1   0.119553   0.105636  -0.053966  0.001346  0.008800   \n",
       "16  418.967358       1   0.013766  -0.061842  -0.085847 -0.007075  0.005302   \n",
       "17  418.967358       1   0.063374   0.128633  -0.271607 -0.007945  0.006663   \n",
       "18  418.967358       1   0.089934   0.096254  -0.355428 -0.004748 -0.002140   \n",
       "\n",
       "      z_gyro     x_acc     y_acc     z_acc  label  \n",
       "14 -0.033967  0.010029 -0.066162  9.487570      0  \n",
       "15 -0.035701 -0.054936 -0.025597  9.624087      0  \n",
       "16 -0.027966  0.181722 -0.081730  9.736653      0  \n",
       "17 -0.028829  0.057930 -0.128134  9.693692      0  \n",
       "18 -0.035702  0.103884 -0.026944  9.488020      0  "
      ]
     },
     "execution_count": 3,
     "metadata": {},
     "output_type": "execute_result"
    }
   ],
   "source": [
    "df.head()"
   ]
  },
  {
   "cell_type": "markdown",
   "metadata": {},
   "source": [
    "## Groupping Data"
   ]
  },
  {
   "cell_type": "markdown",
   "metadata": {},
   "source": [
    "In order to see how many data points belongs to eachy gps datapoint, we can group the data regarding to the `id_gps` and the `label` column."
   ]
  },
  {
   "cell_type": "code",
   "execution_count": 4,
   "metadata": {
    "ExecuteTime": {
     "end_time": "2020-08-21T14:53:28.264921Z",
     "start_time": "2020-08-21T14:53:28.190963Z"
    }
   },
   "outputs": [
    {
     "data": {
      "text/html": [
       "<div>\n",
       "<style scoped>\n",
       "    .dataframe tbody tr th:only-of-type {\n",
       "        vertical-align: middle;\n",
       "    }\n",
       "\n",
       "    .dataframe tbody tr th {\n",
       "        vertical-align: top;\n",
       "    }\n",
       "\n",
       "    .dataframe thead th {\n",
       "        text-align: right;\n",
       "    }\n",
       "</style>\n",
       "<table border=\"1\" class=\"dataframe\">\n",
       "  <thead>\n",
       "    <tr style=\"text-align: right;\">\n",
       "      <th></th>\n",
       "      <th></th>\n",
       "      <th>time</th>\n",
       "      <th>lat</th>\n",
       "      <th>lon</th>\n",
       "      <th>height</th>\n",
       "      <th>velocity</th>\n",
       "      <th>direction</th>\n",
       "      <th>h_accuracy</th>\n",
       "      <th>v_accuracy</th>\n",
       "      <th>x_lin_acc</th>\n",
       "      <th>y_lin_acc</th>\n",
       "      <th>z_lin_acc</th>\n",
       "      <th>x_gyro</th>\n",
       "      <th>y_gyro</th>\n",
       "      <th>z_gyro</th>\n",
       "      <th>x_acc</th>\n",
       "      <th>y_acc</th>\n",
       "      <th>z_acc</th>\n",
       "    </tr>\n",
       "    <tr>\n",
       "      <th>label</th>\n",
       "      <th>id_gps</th>\n",
       "      <th></th>\n",
       "      <th></th>\n",
       "      <th></th>\n",
       "      <th></th>\n",
       "      <th></th>\n",
       "      <th></th>\n",
       "      <th></th>\n",
       "      <th></th>\n",
       "      <th></th>\n",
       "      <th></th>\n",
       "      <th></th>\n",
       "      <th></th>\n",
       "      <th></th>\n",
       "      <th></th>\n",
       "      <th></th>\n",
       "      <th></th>\n",
       "      <th></th>\n",
       "    </tr>\n",
       "  </thead>\n",
       "  <tbody>\n",
       "    <tr>\n",
       "      <th rowspan=\"5\" valign=\"top\">0</th>\n",
       "      <th>1</th>\n",
       "      <td>163</td>\n",
       "      <td>163</td>\n",
       "      <td>163</td>\n",
       "      <td>163</td>\n",
       "      <td>163</td>\n",
       "      <td>163</td>\n",
       "      <td>163</td>\n",
       "      <td>163</td>\n",
       "      <td>163</td>\n",
       "      <td>163</td>\n",
       "      <td>163</td>\n",
       "      <td>163</td>\n",
       "      <td>163</td>\n",
       "      <td>163</td>\n",
       "      <td>163</td>\n",
       "      <td>163</td>\n",
       "      <td>163</td>\n",
       "    </tr>\n",
       "    <tr>\n",
       "      <th>2</th>\n",
       "      <td>100</td>\n",
       "      <td>100</td>\n",
       "      <td>100</td>\n",
       "      <td>100</td>\n",
       "      <td>100</td>\n",
       "      <td>100</td>\n",
       "      <td>100</td>\n",
       "      <td>100</td>\n",
       "      <td>100</td>\n",
       "      <td>100</td>\n",
       "      <td>100</td>\n",
       "      <td>100</td>\n",
       "      <td>100</td>\n",
       "      <td>100</td>\n",
       "      <td>100</td>\n",
       "      <td>100</td>\n",
       "      <td>100</td>\n",
       "    </tr>\n",
       "    <tr>\n",
       "      <th>3</th>\n",
       "      <td>100</td>\n",
       "      <td>100</td>\n",
       "      <td>100</td>\n",
       "      <td>100</td>\n",
       "      <td>100</td>\n",
       "      <td>100</td>\n",
       "      <td>100</td>\n",
       "      <td>100</td>\n",
       "      <td>100</td>\n",
       "      <td>100</td>\n",
       "      <td>100</td>\n",
       "      <td>100</td>\n",
       "      <td>100</td>\n",
       "      <td>100</td>\n",
       "      <td>100</td>\n",
       "      <td>100</td>\n",
       "      <td>100</td>\n",
       "    </tr>\n",
       "    <tr>\n",
       "      <th>4</th>\n",
       "      <td>100</td>\n",
       "      <td>100</td>\n",
       "      <td>100</td>\n",
       "      <td>100</td>\n",
       "      <td>100</td>\n",
       "      <td>100</td>\n",
       "      <td>100</td>\n",
       "      <td>100</td>\n",
       "      <td>100</td>\n",
       "      <td>100</td>\n",
       "      <td>100</td>\n",
       "      <td>100</td>\n",
       "      <td>100</td>\n",
       "      <td>100</td>\n",
       "      <td>100</td>\n",
       "      <td>100</td>\n",
       "      <td>100</td>\n",
       "    </tr>\n",
       "    <tr>\n",
       "      <th>5</th>\n",
       "      <td>100</td>\n",
       "      <td>100</td>\n",
       "      <td>100</td>\n",
       "      <td>100</td>\n",
       "      <td>100</td>\n",
       "      <td>100</td>\n",
       "      <td>100</td>\n",
       "      <td>100</td>\n",
       "      <td>100</td>\n",
       "      <td>100</td>\n",
       "      <td>100</td>\n",
       "      <td>100</td>\n",
       "      <td>100</td>\n",
       "      <td>100</td>\n",
       "      <td>100</td>\n",
       "      <td>100</td>\n",
       "      <td>100</td>\n",
       "    </tr>\n",
       "  </tbody>\n",
       "</table>\n",
       "</div>"
      ],
      "text/plain": [
       "              time  lat  lon  height  velocity  direction  h_accuracy  \\\n",
       "label id_gps                                                            \n",
       "0     1        163  163  163     163       163        163         163   \n",
       "      2        100  100  100     100       100        100         100   \n",
       "      3        100  100  100     100       100        100         100   \n",
       "      4        100  100  100     100       100        100         100   \n",
       "      5        100  100  100     100       100        100         100   \n",
       "\n",
       "              v_accuracy  x_lin_acc  y_lin_acc  z_lin_acc  x_gyro  y_gyro  \\\n",
       "label id_gps                                                                \n",
       "0     1              163        163        163        163     163     163   \n",
       "      2              100        100        100        100     100     100   \n",
       "      3              100        100        100        100     100     100   \n",
       "      4              100        100        100        100     100     100   \n",
       "      5              100        100        100        100     100     100   \n",
       "\n",
       "              z_gyro  x_acc  y_acc  z_acc  \n",
       "label id_gps                               \n",
       "0     1          163    163    163    163  \n",
       "      2          100    100    100    100  \n",
       "      3          100    100    100    100  \n",
       "      4          100    100    100    100  \n",
       "      5          100    100    100    100  "
      ]
     },
     "execution_count": 4,
     "metadata": {},
     "output_type": "execute_result"
    }
   ],
   "source": [
    "agg_df = df.groupby([\"label\",\"id_gps\"]).count()\n",
    "agg_df.head()"
   ]
  },
  {
   "cell_type": "markdown",
   "metadata": {},
   "source": [
    "### Representing the number of datapoints / gps data"
   ]
  },
  {
   "cell_type": "markdown",
   "metadata": {
    "ExecuteTime": {
     "end_time": "2020-08-21T12:20:45.634070Z",
     "start_time": "2020-08-21T12:20:45.627074Z"
    }
   },
   "source": [
    "We need to do some data transformation, to get the data in a form which can be plotted."
   ]
  },
  {
   "cell_type": "code",
   "execution_count": 5,
   "metadata": {
    "ExecuteTime": {
     "end_time": "2020-08-21T14:53:28.279910Z",
     "start_time": "2020-08-21T14:53:28.269916Z"
    }
   },
   "outputs": [],
   "source": [
    "agg_df.reset_index(inplace=True)"
   ]
  },
  {
   "cell_type": "code",
   "execution_count": 6,
   "metadata": {
    "ExecuteTime": {
     "end_time": "2020-08-21T14:53:28.292901Z",
     "start_time": "2020-08-21T14:53:28.283909Z"
    }
   },
   "outputs": [],
   "source": [
    "agg_df = agg_df[[\"label\",\"id_gps\",\"time\"]]"
   ]
  },
  {
   "cell_type": "code",
   "execution_count": 7,
   "metadata": {
    "ExecuteTime": {
     "end_time": "2020-08-21T14:53:28.313890Z",
     "start_time": "2020-08-21T14:53:28.296905Z"
    }
   },
   "outputs": [
    {
     "data": {
      "text/html": [
       "<div>\n",
       "<style scoped>\n",
       "    .dataframe tbody tr th:only-of-type {\n",
       "        vertical-align: middle;\n",
       "    }\n",
       "\n",
       "    .dataframe tbody tr th {\n",
       "        vertical-align: top;\n",
       "    }\n",
       "\n",
       "    .dataframe thead th {\n",
       "        text-align: right;\n",
       "    }\n",
       "</style>\n",
       "<table border=\"1\" class=\"dataframe\">\n",
       "  <thead>\n",
       "    <tr style=\"text-align: right;\">\n",
       "      <th></th>\n",
       "      <th>label</th>\n",
       "      <th>id_gps</th>\n",
       "      <th>count</th>\n",
       "    </tr>\n",
       "  </thead>\n",
       "  <tbody>\n",
       "    <tr>\n",
       "      <th>0</th>\n",
       "      <td>0</td>\n",
       "      <td>1</td>\n",
       "      <td>163</td>\n",
       "    </tr>\n",
       "    <tr>\n",
       "      <th>1</th>\n",
       "      <td>0</td>\n",
       "      <td>2</td>\n",
       "      <td>100</td>\n",
       "    </tr>\n",
       "    <tr>\n",
       "      <th>2</th>\n",
       "      <td>0</td>\n",
       "      <td>3</td>\n",
       "      <td>100</td>\n",
       "    </tr>\n",
       "    <tr>\n",
       "      <th>3</th>\n",
       "      <td>0</td>\n",
       "      <td>4</td>\n",
       "      <td>100</td>\n",
       "    </tr>\n",
       "    <tr>\n",
       "      <th>4</th>\n",
       "      <td>0</td>\n",
       "      <td>5</td>\n",
       "      <td>100</td>\n",
       "    </tr>\n",
       "  </tbody>\n",
       "</table>\n",
       "</div>"
      ],
      "text/plain": [
       "   label  id_gps  count\n",
       "0      0       1    163\n",
       "1      0       2    100\n",
       "2      0       3    100\n",
       "3      0       4    100\n",
       "4      0       5    100"
      ]
     },
     "execution_count": 7,
     "metadata": {},
     "output_type": "execute_result"
    }
   ],
   "source": [
    "agg_df.columns = [\"label\",\"id_gps\",\"count\"]\n",
    "agg_df.head()"
   ]
  },
  {
   "cell_type": "code",
   "execution_count": 8,
   "metadata": {
    "ExecuteTime": {
     "end_time": "2020-08-21T14:53:29.186389Z",
     "start_time": "2020-08-21T14:53:28.319887Z"
    }
   },
   "outputs": [
    {
     "data": {
      "text/plain": [
       "Text(0, 0.5, 'Frequenzy')"
      ]
     },
     "execution_count": 8,
     "metadata": {},
     "output_type": "execute_result"
    },
    {
     "data": {
      "image/png": "[encoded data removed]",
      "text/plain": [
       "<Figure size 1152x720 with 1 Axes>"
      ]
     },
     "metadata": {
      "needs_background": "light"
     },
     "output_type": "display_data"
    }
   ],
   "source": [
    "sns.distplot(agg_df[\"count\"], 100)\n",
    "plt.title(\"Distribution of datapoints / gps coordinate\")\n",
    "plt.xlabel(\"Count of the Datapoints\")\n",
    "plt.ylabel(\"Frequenzy\")"
   ]
  },
  {
   "cell_type": "markdown",
   "metadata": {},
   "source": [
    "The data point are equally distributed"
   ]
  },
  {
   "cell_type": "markdown",
   "metadata": {},
   "source": [
    "### Prepare data"
   ]
  },
  {
   "cell_type": "code",
   "execution_count": null,
   "metadata": {},
   "outputs": [],
   "source": []
  },
  {
   "cell_type": "code",
   "execution_count": 9,
   "metadata": {
    "ExecuteTime": {
     "end_time": "2020-08-21T14:53:29.199384Z",
     "start_time": "2020-08-21T14:53:29.189392Z"
    }
   },
   "outputs": [],
   "source": [
    "def butter_lowpass(cutoff, fs, order=5):\n",
    "    nyq = 0.5 * fs\n",
    "    normal_cutoff = cutoff / nyq\n",
    "    b, a = butter(order, normal_cutoff, btype='low', analog=False)\n",
    "    return b, a\n",
    "\n",
    "def butter_lowpass_filter(data, cutoff, fs, order=5):\n",
    "    b, a = butter_lowpass(cutoff, fs, order=order)\n",
    "    y = lfilter(b, a, data)\n",
    "    return y\n"
   ]
  },
  {
   "cell_type": "code",
   "execution_count": 10,
   "metadata": {
    "ExecuteTime": {
     "end_time": "2020-08-21T14:53:29.219369Z",
     "start_time": "2020-08-21T14:53:29.203382Z"
    }
   },
   "outputs": [
    {
     "data": {
      "text/plain": [
       "Index(['time', 'lat', 'lon', 'height', 'velocity', 'direction', 'h_accuracy',\n",
       "       'v_accuracy', 'id_gps', 'x_lin_acc', 'y_lin_acc', 'z_lin_acc', 'x_gyro',\n",
       "       'y_gyro', 'z_gyro', 'x_acc', 'y_acc', 'z_acc', 'label'],\n",
       "      dtype='object')"
      ]
     },
     "execution_count": 10,
     "metadata": {},
     "output_type": "execute_result"
    }
   ],
   "source": [
    "df.columns"
   ]
  },
  {
   "cell_type": "code",
   "execution_count": 11,
   "metadata": {
    "ExecuteTime": {
     "end_time": "2020-08-21T14:53:29.243356Z",
     "start_time": "2020-08-21T14:53:29.223368Z"
    }
   },
   "outputs": [],
   "source": [
    "def filter_acc(df, cutoff=10, fs=50, order=2):\n",
    "\n",
    "    signals = [ 'x_lin_acc', 'y_lin_acc', 'x_acc', 'y_acc', 'z_acc',]\n",
    "\n",
    "    new_df = pd.DataFrame(columns=signals)\n",
    "\n",
    "    for label in df.label.unique():\n",
    "\n",
    "        experiment_df = df[df.experiment == experiment]\n",
    "\n",
    "        list_signals = []\n",
    "\n",
    "        for j in signals:\n",
    "\n",
    "            filtered_signal = butter_lowpass_filter(experiment_df[j], cutoff=cutoff, fs=fs, order=order)\n",
    "\n",
    "            list_signals.append(filtered_signal)\n",
    "\n",
    "        new_df = pd.concat([new_df, pd.DataFrame(np.array(list_signals).T,columns=signals)])\n",
    "\n",
    "    return new_df"
   ]
  },
  {
   "cell_type": "code",
   "execution_count": null,
   "metadata": {},
   "outputs": [],
   "source": []
  },
  {
   "cell_type": "code",
   "execution_count": 12,
   "metadata": {
    "ExecuteTime": {
     "end_time": "2020-08-21T14:53:29.266344Z",
     "start_time": "2020-08-21T14:53:29.251354Z"
    }
   },
   "outputs": [],
   "source": [
    "def filter_gyro(df, cutoff=10, fs=50, order=2):\n",
    "\n",
    "    signals = ['x_gyro', 'y_gyro', 'z_gyro']\n",
    "\n",
    "    new_df = pd.DataFrame(columns=signals)\n",
    "\n",
    "    for label in df.label.unique():\n",
    "\n",
    "        experiment_df = df[df.experiment == experiment]\n",
    "\n",
    "        list_signals = []\n",
    "\n",
    "        for j in signals:\n",
    "\n",
    "            filtered_signal = butter_lowpass_filter(experiment_df[j], cutoff=cutoff, fs=fs, order=order)\n",
    "\n",
    "            list_signals.append(filtered_signal)\n",
    "\n",
    "        new_df = pd.concat([new_df, pd.DataFrame(np.array(list_signals).T,columns=signals)])\n",
    "\n",
    "    return new_df"
   ]
  },
  {
   "cell_type": "code",
   "execution_count": null,
   "metadata": {},
   "outputs": [],
   "source": []
  },
  {
   "cell_type": "code",
   "execution_count": 13,
   "metadata": {
    "ExecuteTime": {
     "end_time": "2020-08-21T14:53:29.286332Z",
     "start_time": "2020-08-21T14:53:29.270342Z"
    }
   },
   "outputs": [],
   "source": [
    "def kurtosis_time(x):\n",
    "\n",
    "    return kurtosis(x, fisher=True)\n",
    "\n",
    "def rms_100(x):\n",
    "\n",
    "    return np.sqrt(np.mean(x**2))\n",
    "\n",
    "def crest(x):\n",
    "\n",
    "    return max(abs(x))/np.sqrt(np.mean(x**2))\n",
    "\n",
    "def create_aggregated(df):\n",
    "    \"\"\"Create a aggregated dataframe in time domain\"\"\"\n",
    "    signals = ['x_lin_acc', 'y_lin_acc', \n",
    "               'x_acc', 'y_acc', 'z_acc',\n",
    "               'x_gyro', 'y_gyro', 'z_gyro']\n",
    "\n",
    "    agg_df = df.groupby([\"label\", \"id_gps\"]).agg({x: [\"sum\", \"mean\", \"mad\",\n",
    "                                                \"median\", \"min\", \"max\",\n",
    "                                                \"std\", \"var\", \"sem\",\n",
    "                                                \"skew\", \"quantile\",\n",
    "                                                kurtosis_time, rms_100,\n",
    "                                                crest] for x in signals})\n",
    "\n",
    "    return agg_df"
   ]
  },
  {
   "cell_type": "code",
   "execution_count": null,
   "metadata": {
    "ExecuteTime": {
     "end_time": "2020-08-21T12:40:05.978190Z",
     "start_time": "2020-08-21T12:40:05.970195Z"
    }
   },
   "outputs": [],
   "source": []
  },
  {
   "cell_type": "code",
   "execution_count": 14,
   "metadata": {
    "ExecuteTime": {
     "end_time": "2020-08-21T14:53:48.497327Z",
     "start_time": "2020-08-21T14:53:29.290330Z"
    }
   },
   "outputs": [],
   "source": [
    "feature_df = create_aggregated(df).reset_index()"
   ]
  },
  {
   "cell_type": "code",
   "execution_count": 15,
   "metadata": {
    "ExecuteTime": {
     "end_time": "2020-08-21T14:53:48.734168Z",
     "start_time": "2020-08-21T14:53:48.666208Z"
    }
   },
   "outputs": [
    {
     "data": {
      "text/html": [
       "<div>\n",
       "<style scoped>\n",
       "    .dataframe tbody tr th:only-of-type {\n",
       "        vertical-align: middle;\n",
       "    }\n",
       "\n",
       "    .dataframe tbody tr th {\n",
       "        vertical-align: top;\n",
       "    }\n",
       "\n",
       "    .dataframe thead tr th {\n",
       "        text-align: left;\n",
       "    }\n",
       "</style>\n",
       "<table border=\"1\" class=\"dataframe\">\n",
       "  <thead>\n",
       "    <tr>\n",
       "      <th></th>\n",
       "      <th>label</th>\n",
       "      <th>id_gps</th>\n",
       "      <th colspan=\"8\" halign=\"left\">x_lin_acc</th>\n",
       "      <th>...</th>\n",
       "      <th colspan=\"10\" halign=\"left\">z_gyro</th>\n",
       "    </tr>\n",
       "    <tr>\n",
       "      <th></th>\n",
       "      <th></th>\n",
       "      <th></th>\n",
       "      <th>sum</th>\n",
       "      <th>mean</th>\n",
       "      <th>mad</th>\n",
       "      <th>median</th>\n",
       "      <th>min</th>\n",
       "      <th>max</th>\n",
       "      <th>std</th>\n",
       "      <th>var</th>\n",
       "      <th>...</th>\n",
       "      <th>min</th>\n",
       "      <th>max</th>\n",
       "      <th>std</th>\n",
       "      <th>var</th>\n",
       "      <th>sem</th>\n",
       "      <th>skew</th>\n",
       "      <th>quantile</th>\n",
       "      <th>kurtosis_time</th>\n",
       "      <th>rms_100</th>\n",
       "      <th>crest</th>\n",
       "    </tr>\n",
       "  </thead>\n",
       "  <tbody>\n",
       "    <tr>\n",
       "      <th>0</th>\n",
       "      <td>0</td>\n",
       "      <td>1</td>\n",
       "      <td>-22.207030</td>\n",
       "      <td>-0.136239</td>\n",
       "      <td>0.117869</td>\n",
       "      <td>-0.137389</td>\n",
       "      <td>-0.481967</td>\n",
       "      <td>0.149903</td>\n",
       "      <td>0.141934</td>\n",
       "      <td>0.020145</td>\n",
       "      <td>...</td>\n",
       "      <td>-0.038407</td>\n",
       "      <td>0.019060</td>\n",
       "      <td>0.020960</td>\n",
       "      <td>0.000439</td>\n",
       "      <td>0.001642</td>\n",
       "      <td>-0.245129</td>\n",
       "      <td>0.004298</td>\n",
       "      <td>-1.747767</td>\n",
       "      <td>0.021991</td>\n",
       "      <td>1.746537</td>\n",
       "    </tr>\n",
       "    <tr>\n",
       "      <th>1</th>\n",
       "      <td>0</td>\n",
       "      <td>2</td>\n",
       "      <td>-3.261845</td>\n",
       "      <td>-0.032618</td>\n",
       "      <td>0.082002</td>\n",
       "      <td>-0.032327</td>\n",
       "      <td>-0.320140</td>\n",
       "      <td>0.241167</td>\n",
       "      <td>0.104998</td>\n",
       "      <td>0.011024</td>\n",
       "      <td>...</td>\n",
       "      <td>0.004437</td>\n",
       "      <td>0.026998</td>\n",
       "      <td>0.004069</td>\n",
       "      <td>0.000017</td>\n",
       "      <td>0.000407</td>\n",
       "      <td>0.358179</td>\n",
       "      <td>0.014297</td>\n",
       "      <td>0.330516</td>\n",
       "      <td>0.015283</td>\n",
       "      <td>1.766488</td>\n",
       "    </tr>\n",
       "    <tr>\n",
       "      <th>2</th>\n",
       "      <td>0</td>\n",
       "      <td>3</td>\n",
       "      <td>-4.234298</td>\n",
       "      <td>-0.042343</td>\n",
       "      <td>0.082078</td>\n",
       "      <td>-0.046981</td>\n",
       "      <td>-0.316525</td>\n",
       "      <td>0.228163</td>\n",
       "      <td>0.104113</td>\n",
       "      <td>0.010840</td>\n",
       "      <td>...</td>\n",
       "      <td>0.005714</td>\n",
       "      <td>0.026547</td>\n",
       "      <td>0.004525</td>\n",
       "      <td>0.000020</td>\n",
       "      <td>0.000452</td>\n",
       "      <td>0.100271</td>\n",
       "      <td>0.015716</td>\n",
       "      <td>-0.303948</td>\n",
       "      <td>0.016737</td>\n",
       "      <td>1.586147</td>\n",
       "    </tr>\n",
       "    <tr>\n",
       "      <th>3</th>\n",
       "      <td>0</td>\n",
       "      <td>4</td>\n",
       "      <td>19.420845</td>\n",
       "      <td>0.194208</td>\n",
       "      <td>0.130586</td>\n",
       "      <td>0.198483</td>\n",
       "      <td>-0.168488</td>\n",
       "      <td>0.568984</td>\n",
       "      <td>0.163440</td>\n",
       "      <td>0.026712</td>\n",
       "      <td>...</td>\n",
       "      <td>-0.026722</td>\n",
       "      <td>0.029607</td>\n",
       "      <td>0.012857</td>\n",
       "      <td>0.000165</td>\n",
       "      <td>0.001286</td>\n",
       "      <td>1.935585</td>\n",
       "      <td>-0.019049</td>\n",
       "      <td>2.478354</td>\n",
       "      <td>0.018980</td>\n",
       "      <td>1.559952</td>\n",
       "    </tr>\n",
       "    <tr>\n",
       "      <th>4</th>\n",
       "      <td>0</td>\n",
       "      <td>5</td>\n",
       "      <td>2.818655</td>\n",
       "      <td>0.028187</td>\n",
       "      <td>0.076053</td>\n",
       "      <td>0.032478</td>\n",
       "      <td>-0.301072</td>\n",
       "      <td>0.221116</td>\n",
       "      <td>0.095146</td>\n",
       "      <td>0.009053</td>\n",
       "      <td>...</td>\n",
       "      <td>-0.021767</td>\n",
       "      <td>-0.002582</td>\n",
       "      <td>0.003297</td>\n",
       "      <td>0.000011</td>\n",
       "      <td>0.000330</td>\n",
       "      <td>0.002201</td>\n",
       "      <td>-0.012527</td>\n",
       "      <td>0.552075</td>\n",
       "      <td>0.013161</td>\n",
       "      <td>1.653923</td>\n",
       "    </tr>\n",
       "  </tbody>\n",
       "</table>\n",
       "<p>5 rows × 114 columns</p>\n",
       "</div>"
      ],
      "text/plain": [
       "  label id_gps  x_lin_acc                                                    \\\n",
       "                      sum      mean       mad    median       min       max   \n",
       "0     0      1 -22.207030 -0.136239  0.117869 -0.137389 -0.481967  0.149903   \n",
       "1     0      2  -3.261845 -0.032618  0.082002 -0.032327 -0.320140  0.241167   \n",
       "2     0      3  -4.234298 -0.042343  0.082078 -0.046981 -0.316525  0.228163   \n",
       "3     0      4  19.420845  0.194208  0.130586  0.198483 -0.168488  0.568984   \n",
       "4     0      5   2.818655  0.028187  0.076053  0.032478 -0.301072  0.221116   \n",
       "\n",
       "                       ...    z_gyro                                          \\\n",
       "        std       var  ...       min       max       std       var       sem   \n",
       "0  0.141934  0.020145  ... -0.038407  0.019060  0.020960  0.000439  0.001642   \n",
       "1  0.104998  0.011024  ...  0.004437  0.026998  0.004069  0.000017  0.000407   \n",
       "2  0.104113  0.010840  ...  0.005714  0.026547  0.004525  0.000020  0.000452   \n",
       "3  0.163440  0.026712  ... -0.026722  0.029607  0.012857  0.000165  0.001286   \n",
       "4  0.095146  0.009053  ... -0.021767 -0.002582  0.003297  0.000011  0.000330   \n",
       "\n",
       "                                                         \n",
       "       skew  quantile kurtosis_time   rms_100     crest  \n",
       "0 -0.245129  0.004298     -1.747767  0.021991  1.746537  \n",
       "1  0.358179  0.014297      0.330516  0.015283  1.766488  \n",
       "2  0.100271  0.015716     -0.303948  0.016737  1.586147  \n",
       "3  1.935585 -0.019049      2.478354  0.018980  1.559952  \n",
       "4  0.002201 -0.012527      0.552075  0.013161  1.653923  \n",
       "\n",
       "[5 rows x 114 columns]"
      ]
     },
     "execution_count": 15,
     "metadata": {},
     "output_type": "execute_result"
    }
   ],
   "source": [
    "feature_df.head()"
   ]
  },
  {
   "cell_type": "markdown",
   "metadata": {},
   "source": [
    "## Shuffle Data"
   ]
  },
  {
   "cell_type": "code",
   "execution_count": 44,
   "metadata": {
    "ExecuteTime": {
     "end_time": "2020-08-21T15:37:12.435153Z",
     "start_time": "2020-08-21T15:37:12.431154Z"
    }
   },
   "outputs": [],
   "source": [
    "from sklearn.model_selection import train_test_split"
   ]
  },
  {
   "cell_type": "code",
   "execution_count": 55,
   "metadata": {
    "ExecuteTime": {
     "end_time": "2020-08-21T15:37:41.085869Z",
     "start_time": "2020-08-21T15:37:41.073881Z"
    }
   },
   "outputs": [
    {
     "name": "stderr",
     "output_type": "stream",
     "text": [
      "c:\\users\\mesza\\.virtualenvs\\road-surface-quality-7nv9hwjf\\lib\\site-packages\\pandas\\core\\generic.py:3878: PerformanceWarning:\n",
      "\n",
      "dropping on a non-lexsorted multi-index without a level parameter may impact performance.\n",
      "\n"
     ]
    }
   ],
   "source": [
    "X = feature_df.drop([\"label\"], axis=1)\n",
    "y = feature_df[\"label\"]"
   ]
  },
  {
   "cell_type": "code",
   "execution_count": 56,
   "metadata": {
    "ExecuteTime": {
     "end_time": "2020-08-21T15:37:42.309900Z",
     "start_time": "2020-08-21T15:37:42.300904Z"
    }
   },
   "outputs": [],
   "source": [
    "X_train, X_val, y_train, y_val = train_test_split(X,\n",
    "                                                  y,\n",
    "                                                  test_size=0.2, \n",
    "                                                  random_state=42,\n",
    "                                                  shuffle = True)"
   ]
  },
  {
   "cell_type": "code",
   "execution_count": 57,
   "metadata": {
    "ExecuteTime": {
     "end_time": "2020-08-21T15:37:42.652750Z",
     "start_time": "2020-08-21T15:37:42.642757Z"
    }
   },
   "outputs": [],
   "source": [
    "X_train, X_test, y_train, y_test = train_test_split(X_train, \n",
    "                                                    y_train, \n",
    "                                                    test_size=0.2, \n",
    "                                                    random_state=42,\n",
    "                                                    shuffle =  True)"
   ]
  },
  {
   "cell_type": "code",
   "execution_count": 58,
   "metadata": {
    "ExecuteTime": {
     "end_time": "2020-08-21T15:37:43.030549Z",
     "start_time": "2020-08-21T15:37:43.023554Z"
    }
   },
   "outputs": [
    {
     "name": "stdout",
     "output_type": "stream",
     "text": [
      "X_train:  (604, 113)\n",
      "X_val:  (189, 113)\n",
      "X_test:  (152, 113)\n",
      "y_train:  (604,)\n",
      "y_val:  (189,)\n",
      "y_test:  (152,)\n"
     ]
    }
   ],
   "source": [
    "print(\"X_train: \", X_train.shape)\n",
    "print(\"X_val: \", X_val.shape)\n",
    "print(\"X_test: \", X_test.shape)\n",
    "print(\"y_train: \", y_train.shape)\n",
    "print(\"y_val: \", y_val.shape)\n",
    "print(\"y_test: \", y_test.shape)"
   ]
  },
  {
   "cell_type": "markdown",
   "metadata": {},
   "source": [
    "Checking the number of the labels in the train, validation and test datasets."
   ]
  },
  {
   "cell_type": "code",
   "execution_count": 59,
   "metadata": {
    "ExecuteTime": {
     "end_time": "2020-08-21T15:37:44.718926Z",
     "start_time": "2020-08-21T15:37:44.713932Z"
    }
   },
   "outputs": [
    {
     "name": "stdout",
     "output_type": "stream",
     "text": [
      "Number of label for each label in the train dataset: [(0, 399), (1, 126), (2, 79)]\n",
      "Number of label for each label in the validation dataset: [(0, 131), (1, 30), (2, 28)]\n",
      "Number of label for each label in the validation dataset: [(0, 101), (1, 30), (2, 21)]\n"
     ]
    }
   ],
   "source": [
    "print(\"Number of label for each label in the train dataset: {}\".format(Counter(y_train).most_common()))\n",
    "print(\"Number of label for each label in the validation dataset: {}\".format(Counter(y_val).most_common()))\n",
    "print(\"Number of label for each label in the validation dataset: {}\".format(Counter(y_test).most_common()))"
   ]
  },
  {
   "cell_type": "markdown",
   "metadata": {},
   "source": [
    "##  Prepare for ML"
   ]
  },
  {
   "cell_type": "code",
   "execution_count": 60,
   "metadata": {
    "ExecuteTime": {
     "end_time": "2020-08-21T15:37:46.988482Z",
     "start_time": "2020-08-21T15:37:46.980486Z"
    }
   },
   "outputs": [
    {
     "data": {
      "text/plain": [
       "MultiIndex([(    'label',              ''),\n",
       "            (   'id_gps',              ''),\n",
       "            ('x_lin_acc',           'sum'),\n",
       "            ('x_lin_acc',          'mean'),\n",
       "            ('x_lin_acc',           'mad'),\n",
       "            ('x_lin_acc',        'median'),\n",
       "            ('x_lin_acc',           'min'),\n",
       "            ('x_lin_acc',           'max'),\n",
       "            ('x_lin_acc',           'std'),\n",
       "            ('x_lin_acc',           'var'),\n",
       "            ...\n",
       "            (   'z_gyro',           'min'),\n",
       "            (   'z_gyro',           'max'),\n",
       "            (   'z_gyro',           'std'),\n",
       "            (   'z_gyro',           'var'),\n",
       "            (   'z_gyro',           'sem'),\n",
       "            (   'z_gyro',          'skew'),\n",
       "            (   'z_gyro',      'quantile'),\n",
       "            (   'z_gyro', 'kurtosis_time'),\n",
       "            (   'z_gyro',       'rms_100'),\n",
       "            (   'z_gyro',         'crest')],\n",
       "           length=114)"
      ]
     },
     "execution_count": 60,
     "metadata": {},
     "output_type": "execute_result"
    }
   ],
   "source": [
    "feature_df.columns"
   ]
  },
  {
   "cell_type": "code",
   "execution_count": 61,
   "metadata": {
    "ExecuteTime": {
     "end_time": "2020-08-21T15:37:52.054223Z",
     "start_time": "2020-08-21T15:37:52.044230Z"
    }
   },
   "outputs": [
    {
     "name": "stderr",
     "output_type": "stream",
     "text": [
      "c:\\users\\mesza\\.virtualenvs\\road-surface-quality-7nv9hwjf\\lib\\site-packages\\pandas\\core\\generic.py:3878: PerformanceWarning:\n",
      "\n",
      "dropping on a non-lexsorted multi-index without a level parameter may impact performance.\n",
      "\n"
     ]
    },
    {
     "data": {
      "text/plain": [
       "MultiIndex([(   'id_gps',              ''),\n",
       "            ('x_lin_acc',           'sum'),\n",
       "            ('x_lin_acc',          'mean'),\n",
       "            ('x_lin_acc',           'mad'),\n",
       "            ('x_lin_acc',        'median'),\n",
       "            ('x_lin_acc',           'min'),\n",
       "            ('x_lin_acc',           'max'),\n",
       "            ('x_lin_acc',           'std'),\n",
       "            ('x_lin_acc',           'var'),\n",
       "            ('x_lin_acc',           'sem'),\n",
       "            ...\n",
       "            (   'z_gyro',           'min'),\n",
       "            (   'z_gyro',           'max'),\n",
       "            (   'z_gyro',           'std'),\n",
       "            (   'z_gyro',           'var'),\n",
       "            (   'z_gyro',           'sem'),\n",
       "            (   'z_gyro',          'skew'),\n",
       "            (   'z_gyro',      'quantile'),\n",
       "            (   'z_gyro', 'kurtosis_time'),\n",
       "            (   'z_gyro',       'rms_100'),\n",
       "            (   'z_gyro',         'crest')],\n",
       "           length=113)"
      ]
     },
     "execution_count": 61,
     "metadata": {},
     "output_type": "execute_result"
    }
   ],
   "source": [
    "feature_df.drop([\"label\"], axis=1).columns"
   ]
  },
  {
   "cell_type": "code",
   "execution_count": 64,
   "metadata": {
    "ExecuteTime": {
     "end_time": "2020-08-21T15:38:12.130712Z",
     "start_time": "2020-08-21T15:38:11.701957Z"
    }
   },
   "outputs": [
    {
     "name": "stderr",
     "output_type": "stream",
     "text": [
      "c:\\users\\mesza\\.virtualenvs\\road-surface-quality-7nv9hwjf\\lib\\site-packages\\pandas\\core\\generic.py:3878: PerformanceWarning:\n",
      "\n",
      "dropping on a non-lexsorted multi-index without a level parameter may impact performance.\n",
      "\n"
     ]
    }
   ],
   "source": [
    "if not os.path.exists(\"../data/train_test_val\"):\n",
    "        os.makedirs(\"../data/train_test_val\")\n",
    "\n",
    "cols = feature_df.drop([\"label\"], axis=1).columns\n",
    "        \n",
    "pd.DataFrame(X_train, columns=cols).to_csv( \"../data/train_test_val/X_train.csv\")\n",
    "pd.DataFrame(X_val, columns=cols).to_csv(\"../data/train_test_val/X_val.csv\")\n",
    "pd.DataFrame(X_test, columns=cols).to_csv(\"../data/train_test_val/X_test.csv\")\n",
    "        \n",
    "pd.DataFrame(y_train).to_csv( \"../data/train_test_val/y_train.csv\")\n",
    "pd.DataFrame(y_val).to_csv(\"../data/train_test_val/y_val.csv\")\n",
    "pd.DataFrame(y_test).to_csv(\"../data/train_test_val/y_test.csv\")"
   ]
  },
  {
   "cell_type": "code",
   "execution_count": 65,
   "metadata": {
    "ExecuteTime": {
     "end_time": "2020-08-21T15:38:12.616476Z",
     "start_time": "2020-08-21T15:38:12.502541Z"
    }
   },
   "outputs": [
    {
     "data": {
      "text/html": [
       "<div>\n",
       "<style scoped>\n",
       "    .dataframe tbody tr th:only-of-type {\n",
       "        vertical-align: middle;\n",
       "    }\n",
       "\n",
       "    .dataframe tbody tr th {\n",
       "        vertical-align: top;\n",
       "    }\n",
       "\n",
       "    .dataframe thead tr th {\n",
       "        text-align: left;\n",
       "    }\n",
       "</style>\n",
       "<table border=\"1\" class=\"dataframe\">\n",
       "  <thead>\n",
       "    <tr>\n",
       "      <th></th>\n",
       "      <th>id_gps</th>\n",
       "      <th colspan=\"9\" halign=\"left\">x_lin_acc</th>\n",
       "      <th>...</th>\n",
       "      <th colspan=\"10\" halign=\"left\">z_gyro</th>\n",
       "    </tr>\n",
       "    <tr>\n",
       "      <th></th>\n",
       "      <th>Unnamed: 1_level_1</th>\n",
       "      <th>sum</th>\n",
       "      <th>mean</th>\n",
       "      <th>mad</th>\n",
       "      <th>median</th>\n",
       "      <th>min</th>\n",
       "      <th>max</th>\n",
       "      <th>std</th>\n",
       "      <th>var</th>\n",
       "      <th>sem</th>\n",
       "      <th>...</th>\n",
       "      <th>min</th>\n",
       "      <th>max</th>\n",
       "      <th>std</th>\n",
       "      <th>var</th>\n",
       "      <th>sem</th>\n",
       "      <th>skew</th>\n",
       "      <th>quantile</th>\n",
       "      <th>kurtosis_time</th>\n",
       "      <th>rms_100</th>\n",
       "      <th>crest</th>\n",
       "    </tr>\n",
       "  </thead>\n",
       "  <tbody>\n",
       "    <tr>\n",
       "      <th>480</th>\n",
       "      <td>481</td>\n",
       "      <td>8.831255</td>\n",
       "      <td>0.088313</td>\n",
       "      <td>0.106751</td>\n",
       "      <td>0.080380</td>\n",
       "      <td>-0.169615</td>\n",
       "      <td>0.360728</td>\n",
       "      <td>0.128459</td>\n",
       "      <td>0.016502</td>\n",
       "      <td>0.012846</td>\n",
       "      <td>...</td>\n",
       "      <td>-0.032631</td>\n",
       "      <td>0.005547</td>\n",
       "      <td>0.012025</td>\n",
       "      <td>0.000145</td>\n",
       "      <td>0.001203</td>\n",
       "      <td>-0.176589</td>\n",
       "      <td>-0.009717</td>\n",
       "      <td>-1.479753</td>\n",
       "      <td>0.017225</td>\n",
       "      <td>1.894413</td>\n",
       "    </tr>\n",
       "    <tr>\n",
       "      <th>404</th>\n",
       "      <td>405</td>\n",
       "      <td>-12.603398</td>\n",
       "      <td>-0.126034</td>\n",
       "      <td>0.121648</td>\n",
       "      <td>-0.122408</td>\n",
       "      <td>-0.428581</td>\n",
       "      <td>0.165933</td>\n",
       "      <td>0.145945</td>\n",
       "      <td>0.021300</td>\n",
       "      <td>0.014595</td>\n",
       "      <td>...</td>\n",
       "      <td>0.018253</td>\n",
       "      <td>0.042696</td>\n",
       "      <td>0.005182</td>\n",
       "      <td>0.000027</td>\n",
       "      <td>0.000518</td>\n",
       "      <td>-0.076828</td>\n",
       "      <td>0.030318</td>\n",
       "      <td>-0.585619</td>\n",
       "      <td>0.030427</td>\n",
       "      <td>1.403234</td>\n",
       "    </tr>\n",
       "    <tr>\n",
       "      <th>898</th>\n",
       "      <td>83</td>\n",
       "      <td>-45.465346</td>\n",
       "      <td>-0.454653</td>\n",
       "      <td>0.607075</td>\n",
       "      <td>-0.429091</td>\n",
       "      <td>-2.060181</td>\n",
       "      <td>1.385446</td>\n",
       "      <td>0.751039</td>\n",
       "      <td>0.564059</td>\n",
       "      <td>0.075104</td>\n",
       "      <td>...</td>\n",
       "      <td>-0.030897</td>\n",
       "      <td>0.046439</td>\n",
       "      <td>0.015144</td>\n",
       "      <td>0.000229</td>\n",
       "      <td>0.001514</td>\n",
       "      <td>0.190555</td>\n",
       "      <td>0.005257</td>\n",
       "      <td>-0.215529</td>\n",
       "      <td>0.016561</td>\n",
       "      <td>2.804195</td>\n",
       "    </tr>\n",
       "    <tr>\n",
       "      <th>95</th>\n",
       "      <td>96</td>\n",
       "      <td>-27.002173</td>\n",
       "      <td>-0.270022</td>\n",
       "      <td>0.158239</td>\n",
       "      <td>-0.251375</td>\n",
       "      <td>-0.760174</td>\n",
       "      <td>0.088348</td>\n",
       "      <td>0.192817</td>\n",
       "      <td>0.037178</td>\n",
       "      <td>0.019282</td>\n",
       "      <td>...</td>\n",
       "      <td>0.035935</td>\n",
       "      <td>0.054452</td>\n",
       "      <td>0.004392</td>\n",
       "      <td>0.000019</td>\n",
       "      <td>0.000439</td>\n",
       "      <td>0.704209</td>\n",
       "      <td>0.042268</td>\n",
       "      <td>-0.087299</td>\n",
       "      <td>0.043275</td>\n",
       "      <td>1.258268</td>\n",
       "    </tr>\n",
       "    <tr>\n",
       "      <th>612</th>\n",
       "      <td>613</td>\n",
       "      <td>25.258027</td>\n",
       "      <td>0.252580</td>\n",
       "      <td>0.174972</td>\n",
       "      <td>0.266020</td>\n",
       "      <td>-0.259023</td>\n",
       "      <td>0.875152</td>\n",
       "      <td>0.225632</td>\n",
       "      <td>0.050910</td>\n",
       "      <td>0.022563</td>\n",
       "      <td>...</td>\n",
       "      <td>-0.103352</td>\n",
       "      <td>-0.057540</td>\n",
       "      <td>0.008238</td>\n",
       "      <td>0.000068</td>\n",
       "      <td>0.000824</td>\n",
       "      <td>-0.618811</td>\n",
       "      <td>-0.078096</td>\n",
       "      <td>1.165296</td>\n",
       "      <td>0.079157</td>\n",
       "      <td>1.305657</td>\n",
       "    </tr>\n",
       "    <tr>\n",
       "      <th>...</th>\n",
       "      <td>...</td>\n",
       "      <td>...</td>\n",
       "      <td>...</td>\n",
       "      <td>...</td>\n",
       "      <td>...</td>\n",
       "      <td>...</td>\n",
       "      <td>...</td>\n",
       "      <td>...</td>\n",
       "      <td>...</td>\n",
       "      <td>...</td>\n",
       "      <td>...</td>\n",
       "      <td>...</td>\n",
       "      <td>...</td>\n",
       "      <td>...</td>\n",
       "      <td>...</td>\n",
       "      <td>...</td>\n",
       "      <td>...</td>\n",
       "      <td>...</td>\n",
       "      <td>...</td>\n",
       "      <td>...</td>\n",
       "      <td>...</td>\n",
       "    </tr>\n",
       "    <tr>\n",
       "      <th>74</th>\n",
       "      <td>75</td>\n",
       "      <td>-14.754201</td>\n",
       "      <td>-0.147542</td>\n",
       "      <td>0.111044</td>\n",
       "      <td>-0.147661</td>\n",
       "      <td>-0.444109</td>\n",
       "      <td>0.212057</td>\n",
       "      <td>0.139812</td>\n",
       "      <td>0.019547</td>\n",
       "      <td>0.013981</td>\n",
       "      <td>...</td>\n",
       "      <td>0.003664</td>\n",
       "      <td>0.019820</td>\n",
       "      <td>0.003295</td>\n",
       "      <td>0.000011</td>\n",
       "      <td>0.000329</td>\n",
       "      <td>0.117293</td>\n",
       "      <td>0.011214</td>\n",
       "      <td>-0.232718</td>\n",
       "      <td>0.011762</td>\n",
       "      <td>1.685066</td>\n",
       "    </tr>\n",
       "    <tr>\n",
       "      <th>748</th>\n",
       "      <td>118</td>\n",
       "      <td>28.253625</td>\n",
       "      <td>0.282536</td>\n",
       "      <td>0.664325</td>\n",
       "      <td>0.141167</td>\n",
       "      <td>-2.002367</td>\n",
       "      <td>3.926273</td>\n",
       "      <td>0.982168</td>\n",
       "      <td>0.964653</td>\n",
       "      <td>0.098217</td>\n",
       "      <td>...</td>\n",
       "      <td>-0.085872</td>\n",
       "      <td>0.049434</td>\n",
       "      <td>0.022888</td>\n",
       "      <td>0.000524</td>\n",
       "      <td>0.002289</td>\n",
       "      <td>-0.755753</td>\n",
       "      <td>-0.009370</td>\n",
       "      <td>1.853259</td>\n",
       "      <td>0.025697</td>\n",
       "      <td>3.341781</td>\n",
       "    </tr>\n",
       "    <tr>\n",
       "      <th>580</th>\n",
       "      <td>581</td>\n",
       "      <td>0.002573</td>\n",
       "      <td>0.000026</td>\n",
       "      <td>0.099117</td>\n",
       "      <td>0.005186</td>\n",
       "      <td>-0.331595</td>\n",
       "      <td>0.241873</td>\n",
       "      <td>0.122405</td>\n",
       "      <td>0.014983</td>\n",
       "      <td>0.012240</td>\n",
       "      <td>...</td>\n",
       "      <td>-0.007842</td>\n",
       "      <td>0.005992</td>\n",
       "      <td>0.003060</td>\n",
       "      <td>0.000009</td>\n",
       "      <td>0.000306</td>\n",
       "      <td>-0.214415</td>\n",
       "      <td>0.000039</td>\n",
       "      <td>-0.477706</td>\n",
       "      <td>0.003056</td>\n",
       "      <td>2.565942</td>\n",
       "    </tr>\n",
       "    <tr>\n",
       "      <th>309</th>\n",
       "      <td>310</td>\n",
       "      <td>-13.229244</td>\n",
       "      <td>-0.132292</td>\n",
       "      <td>0.157503</td>\n",
       "      <td>-0.145986</td>\n",
       "      <td>-0.555470</td>\n",
       "      <td>0.502098</td>\n",
       "      <td>0.195143</td>\n",
       "      <td>0.038081</td>\n",
       "      <td>0.019514</td>\n",
       "      <td>...</td>\n",
       "      <td>0.008117</td>\n",
       "      <td>0.030793</td>\n",
       "      <td>0.004590</td>\n",
       "      <td>0.000021</td>\n",
       "      <td>0.000459</td>\n",
       "      <td>-0.526085</td>\n",
       "      <td>0.021222</td>\n",
       "      <td>0.241007</td>\n",
       "      <td>0.021663</td>\n",
       "      <td>1.421430</td>\n",
       "    </tr>\n",
       "    <tr>\n",
       "      <th>624</th>\n",
       "      <td>625</td>\n",
       "      <td>42.410244</td>\n",
       "      <td>0.424102</td>\n",
       "      <td>0.135020</td>\n",
       "      <td>0.413172</td>\n",
       "      <td>0.096972</td>\n",
       "      <td>1.142030</td>\n",
       "      <td>0.178064</td>\n",
       "      <td>0.031707</td>\n",
       "      <td>0.017806</td>\n",
       "      <td>...</td>\n",
       "      <td>-0.132343</td>\n",
       "      <td>-0.024125</td>\n",
       "      <td>0.029133</td>\n",
       "      <td>0.000849</td>\n",
       "      <td>0.002913</td>\n",
       "      <td>-0.699380</td>\n",
       "      <td>-0.064197</td>\n",
       "      <td>-0.603187</td>\n",
       "      <td>0.077203</td>\n",
       "      <td>1.714223</td>\n",
       "    </tr>\n",
       "  </tbody>\n",
       "</table>\n",
       "<p>152 rows × 113 columns</p>\n",
       "</div>"
      ],
      "text/plain": [
       "                id_gps  x_lin_acc                                          \\\n",
       "    Unnamed: 1_level_1        sum      mean       mad    median       min   \n",
       "480                481   8.831255  0.088313  0.106751  0.080380 -0.169615   \n",
       "404                405 -12.603398 -0.126034  0.121648 -0.122408 -0.428581   \n",
       "898                 83 -45.465346 -0.454653  0.607075 -0.429091 -2.060181   \n",
       "95                  96 -27.002173 -0.270022  0.158239 -0.251375 -0.760174   \n",
       "612                613  25.258027  0.252580  0.174972  0.266020 -0.259023   \n",
       "..                 ...        ...       ...       ...       ...       ...   \n",
       "74                  75 -14.754201 -0.147542  0.111044 -0.147661 -0.444109   \n",
       "748                118  28.253625  0.282536  0.664325  0.141167 -2.002367   \n",
       "580                581   0.002573  0.000026  0.099117  0.005186 -0.331595   \n",
       "309                310 -13.229244 -0.132292  0.157503 -0.145986 -0.555470   \n",
       "624                625  42.410244  0.424102  0.135020  0.413172  0.096972   \n",
       "\n",
       "                                             ...    z_gyro            \\\n",
       "          max       std       var       sem  ...       min       max   \n",
       "480  0.360728  0.128459  0.016502  0.012846  ... -0.032631  0.005547   \n",
       "404  0.165933  0.145945  0.021300  0.014595  ...  0.018253  0.042696   \n",
       "898  1.385446  0.751039  0.564059  0.075104  ... -0.030897  0.046439   \n",
       "95   0.088348  0.192817  0.037178  0.019282  ...  0.035935  0.054452   \n",
       "612  0.875152  0.225632  0.050910  0.022563  ... -0.103352 -0.057540   \n",
       "..        ...       ...       ...       ...  ...       ...       ...   \n",
       "74   0.212057  0.139812  0.019547  0.013981  ...  0.003664  0.019820   \n",
       "748  3.926273  0.982168  0.964653  0.098217  ... -0.085872  0.049434   \n",
       "580  0.241873  0.122405  0.014983  0.012240  ... -0.007842  0.005992   \n",
       "309  0.502098  0.195143  0.038081  0.019514  ...  0.008117  0.030793   \n",
       "624  1.142030  0.178064  0.031707  0.017806  ... -0.132343 -0.024125   \n",
       "\n",
       "                                                                               \\\n",
       "          std       var       sem      skew  quantile kurtosis_time   rms_100   \n",
       "480  0.012025  0.000145  0.001203 -0.176589 -0.009717     -1.479753  0.017225   \n",
       "404  0.005182  0.000027  0.000518 -0.076828  0.030318     -0.585619  0.030427   \n",
       "898  0.015144  0.000229  0.001514  0.190555  0.005257     -0.215529  0.016561   \n",
       "95   0.004392  0.000019  0.000439  0.704209  0.042268     -0.087299  0.043275   \n",
       "612  0.008238  0.000068  0.000824 -0.618811 -0.078096      1.165296  0.079157   \n",
       "..        ...       ...       ...       ...       ...           ...       ...   \n",
       "74   0.003295  0.000011  0.000329  0.117293  0.011214     -0.232718  0.011762   \n",
       "748  0.022888  0.000524  0.002289 -0.755753 -0.009370      1.853259  0.025697   \n",
       "580  0.003060  0.000009  0.000306 -0.214415  0.000039     -0.477706  0.003056   \n",
       "309  0.004590  0.000021  0.000459 -0.526085  0.021222      0.241007  0.021663   \n",
       "624  0.029133  0.000849  0.002913 -0.699380 -0.064197     -0.603187  0.077203   \n",
       "\n",
       "               \n",
       "        crest  \n",
       "480  1.894413  \n",
       "404  1.403234  \n",
       "898  2.804195  \n",
       "95   1.258268  \n",
       "612  1.305657  \n",
       "..        ...  \n",
       "74   1.685066  \n",
       "748  3.341781  \n",
       "580  2.565942  \n",
       "309  1.421430  \n",
       "624  1.714223  \n",
       "\n",
       "[152 rows x 113 columns]"
      ]
     },
     "execution_count": 65,
     "metadata": {},
     "output_type": "execute_result"
    }
   ],
   "source": [
    "pd.read_csv(\"../data/train_test_val/X_test.csv\", header=[0,1], index_col=0)"
   ]
  },
  {
   "cell_type": "code",
   "execution_count": null,
   "metadata": {},
   "outputs": [],
   "source": []
  },
  {
   "cell_type": "code",
   "execution_count": null,
   "metadata": {},
   "outputs": [],
   "source": []
  }
 ],
 "metadata": {
  "kernelspec": {
   "display_name": "Python 3",
   "language": "python",
   "name": "python3"
  },
  "language_info": {
   "codemirror_mode": {
    "name": "ipython",
    "version": 3
   },
   "file_extension": ".py",
   "mimetype": "text/x-python",
   "name": "python",
   "nbconvert_exporter": "python",
   "pygments_lexer": "ipython3",
   "version": "3.7.5"
  },
  "toc": {
   "base_numbering": 1,
   "nav_menu": {},
   "number_sections": true,
   "sideBar": true,
   "skip_h1_title": false,
   "title_cell": "Table of Contents",
   "title_sidebar": "Contents",
   "toc_cell": false,
   "toc_position": {},
   "toc_section_display": true,
   "toc_window_display": false
  },
  "varInspector": {
   "cols": {
    "lenName": 16,
    "lenType": 16,
    "lenVar": 40
   },
   "kernels_config": {
    "python": {
     "delete_cmd_postfix": "",
     "delete_cmd_prefix": "del ",
     "library": "var_list.py",
     "varRefreshCmd": "print(var_dic_list())"
    },
    "r": {
     "delete_cmd_postfix": ") ",
     "delete_cmd_prefix": "rm(",
     "library": "var_list.r",
     "varRefreshCmd": "cat(var_dic_list()) "
    }
   },
   "types_to_exclude": [
    "module",
    "function",
    "builtin_function_or_method",
    "instance",
    "_Feature"
   ],
   "window_display": false
  }
 },
 "nbformat": 4,
 "nbformat_minor": 4
}
