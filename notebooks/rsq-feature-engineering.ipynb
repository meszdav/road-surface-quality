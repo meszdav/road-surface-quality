{
 "cells": [
  {
   "cell_type": "markdown",
   "metadata": {},
   "source": [
    "## Import dependencies"
   ]
  },
  {
   "cell_type": "code",
   "execution_count": 2,
   "metadata": {
    "ExecuteTime": {
     "end_time": "2020-08-21T13:57:32.164081Z",
     "start_time": "2020-08-21T13:57:29.837785Z"
    }
   },
   "outputs": [],
   "source": [
    "import pandas as pd\n",
    "import numpy as np\n",
    "import matplotlib.pyplot as plt\n",
    "import seaborn as sns\n",
    "import plotly.graph_objs as go\n",
    "from plotly.offline import iplot, plot\n",
    "import plotly.express as px\n",
    "from scipy.stats import norm, kurtosis\n",
    "from scipy.signal import butter, lfilter, freqz\n",
    "from scipy import signal\n",
    "from sklearn.model_selection import train_test_split\n",
    "from collections import Counter\n",
    "\n",
    "import glob\n",
    "import os\n",
    "\n",
    "plt.rcParams[\"figure.figsize\"] = 16,10\n",
    "\n",
    "\n",
    "from processing_funcs import *"
   ]
  },
  {
   "cell_type": "markdown",
   "metadata": {},
   "source": [
    "## Read data"
   ]
  },
  {
   "cell_type": "code",
   "execution_count": 3,
   "metadata": {
    "ExecuteTime": {
     "end_time": "2020-08-21T13:57:34.899503Z",
     "start_time": "2020-08-21T13:57:32.200053Z"
    }
   },
   "outputs": [],
   "source": [
    "df = read_all()"
   ]
  },
  {
   "cell_type": "code",
   "execution_count": 4,
   "metadata": {
    "ExecuteTime": {
     "end_time": "2020-08-21T13:57:35.042420Z",
     "start_time": "2020-08-21T13:57:34.983456Z"
    }
   },
   "outputs": [
    {
     "data": {
      "text/html": [
       "<div>\n",
       "<style scoped>\n",
       "    .dataframe tbody tr th:only-of-type {\n",
       "        vertical-align: middle;\n",
       "    }\n",
       "\n",
       "    .dataframe tbody tr th {\n",
       "        vertical-align: top;\n",
       "    }\n",
       "\n",
       "    .dataframe thead th {\n",
       "        text-align: right;\n",
       "    }\n",
       "</style>\n",
       "<table border=\"1\" class=\"dataframe\">\n",
       "  <thead>\n",
       "    <tr style=\"text-align: right;\">\n",
       "      <th></th>\n",
       "      <th>time</th>\n",
       "      <th>lat</th>\n",
       "      <th>lon</th>\n",
       "      <th>height</th>\n",
       "      <th>velocity</th>\n",
       "      <th>direction</th>\n",
       "      <th>h_accuracy</th>\n",
       "      <th>v_accuracy</th>\n",
       "      <th>id_gps</th>\n",
       "      <th>x_lin_acc</th>\n",
       "      <th>y_lin_acc</th>\n",
       "      <th>z_lin_acc</th>\n",
       "      <th>x_gyro</th>\n",
       "      <th>y_gyro</th>\n",
       "      <th>z_gyro</th>\n",
       "      <th>x_acc</th>\n",
       "      <th>y_acc</th>\n",
       "      <th>z_acc</th>\n",
       "      <th>label</th>\n",
       "    </tr>\n",
       "  </thead>\n",
       "  <tbody>\n",
       "    <tr>\n",
       "      <th>14</th>\n",
       "      <td>0.14</td>\n",
       "      <td>47.696266</td>\n",
       "      <td>17.726061</td>\n",
       "      <td>118.34948</td>\n",
       "      <td>-1.0</td>\n",
       "      <td>-1.0</td>\n",
       "      <td>418.967358</td>\n",
       "      <td>418.967358</td>\n",
       "      <td>1</td>\n",
       "      <td>-0.068991</td>\n",
       "      <td>0.116175</td>\n",
       "      <td>-0.231500</td>\n",
       "      <td>-0.010804</td>\n",
       "      <td>0.001345</td>\n",
       "      <td>-0.033967</td>\n",
       "      <td>0.010029</td>\n",
       "      <td>-0.066162</td>\n",
       "      <td>9.487570</td>\n",
       "      <td>0</td>\n",
       "    </tr>\n",
       "    <tr>\n",
       "      <th>15</th>\n",
       "      <td>0.15</td>\n",
       "      <td>47.696266</td>\n",
       "      <td>17.726061</td>\n",
       "      <td>118.34948</td>\n",
       "      <td>-1.0</td>\n",
       "      <td>-1.0</td>\n",
       "      <td>418.967358</td>\n",
       "      <td>418.967358</td>\n",
       "      <td>1</td>\n",
       "      <td>0.119553</td>\n",
       "      <td>0.105636</td>\n",
       "      <td>-0.053966</td>\n",
       "      <td>0.001346</td>\n",
       "      <td>0.008800</td>\n",
       "      <td>-0.035701</td>\n",
       "      <td>-0.054936</td>\n",
       "      <td>-0.025597</td>\n",
       "      <td>9.624087</td>\n",
       "      <td>0</td>\n",
       "    </tr>\n",
       "    <tr>\n",
       "      <th>16</th>\n",
       "      <td>0.16</td>\n",
       "      <td>47.696266</td>\n",
       "      <td>17.726061</td>\n",
       "      <td>118.34948</td>\n",
       "      <td>-1.0</td>\n",
       "      <td>-1.0</td>\n",
       "      <td>418.967358</td>\n",
       "      <td>418.967358</td>\n",
       "      <td>1</td>\n",
       "      <td>0.013766</td>\n",
       "      <td>-0.061842</td>\n",
       "      <td>-0.085847</td>\n",
       "      <td>-0.007075</td>\n",
       "      <td>0.005302</td>\n",
       "      <td>-0.027966</td>\n",
       "      <td>0.181722</td>\n",
       "      <td>-0.081730</td>\n",
       "      <td>9.736653</td>\n",
       "      <td>0</td>\n",
       "    </tr>\n",
       "    <tr>\n",
       "      <th>17</th>\n",
       "      <td>0.17</td>\n",
       "      <td>47.696266</td>\n",
       "      <td>17.726061</td>\n",
       "      <td>118.34948</td>\n",
       "      <td>-1.0</td>\n",
       "      <td>-1.0</td>\n",
       "      <td>418.967358</td>\n",
       "      <td>418.967358</td>\n",
       "      <td>1</td>\n",
       "      <td>0.063374</td>\n",
       "      <td>0.128633</td>\n",
       "      <td>-0.271607</td>\n",
       "      <td>-0.007945</td>\n",
       "      <td>0.006663</td>\n",
       "      <td>-0.028829</td>\n",
       "      <td>0.057930</td>\n",
       "      <td>-0.128134</td>\n",
       "      <td>9.693692</td>\n",
       "      <td>0</td>\n",
       "    </tr>\n",
       "    <tr>\n",
       "      <th>18</th>\n",
       "      <td>0.18</td>\n",
       "      <td>47.696266</td>\n",
       "      <td>17.726061</td>\n",
       "      <td>118.34948</td>\n",
       "      <td>-1.0</td>\n",
       "      <td>-1.0</td>\n",
       "      <td>418.967358</td>\n",
       "      <td>418.967358</td>\n",
       "      <td>1</td>\n",
       "      <td>0.089934</td>\n",
       "      <td>0.096254</td>\n",
       "      <td>-0.355428</td>\n",
       "      <td>-0.004748</td>\n",
       "      <td>-0.002140</td>\n",
       "      <td>-0.035702</td>\n",
       "      <td>0.103884</td>\n",
       "      <td>-0.026944</td>\n",
       "      <td>9.488020</td>\n",
       "      <td>0</td>\n",
       "    </tr>\n",
       "  </tbody>\n",
       "</table>\n",
       "</div>"
      ],
      "text/plain": [
       "    time        lat        lon     height  velocity  direction  h_accuracy  \\\n",
       "14  0.14  47.696266  17.726061  118.34948      -1.0       -1.0  418.967358   \n",
       "15  0.15  47.696266  17.726061  118.34948      -1.0       -1.0  418.967358   \n",
       "16  0.16  47.696266  17.726061  118.34948      -1.0       -1.0  418.967358   \n",
       "17  0.17  47.696266  17.726061  118.34948      -1.0       -1.0  418.967358   \n",
       "18  0.18  47.696266  17.726061  118.34948      -1.0       -1.0  418.967358   \n",
       "\n",
       "    v_accuracy  id_gps  x_lin_acc  y_lin_acc  z_lin_acc    x_gyro    y_gyro  \\\n",
       "14  418.967358       1  -0.068991   0.116175  -0.231500 -0.010804  0.001345   \n",
       "15  418.967358       1   0.119553   0.105636  -0.053966  0.001346  0.008800   \n",
       "16  418.967358       1   0.013766  -0.061842  -0.085847 -0.007075  0.005302   \n",
       "17  418.967358       1   0.063374   0.128633  -0.271607 -0.007945  0.006663   \n",
       "18  418.967358       1   0.089934   0.096254  -0.355428 -0.004748 -0.002140   \n",
       "\n",
       "      z_gyro     x_acc     y_acc     z_acc  label  \n",
       "14 -0.033967  0.010029 -0.066162  9.487570      0  \n",
       "15 -0.035701 -0.054936 -0.025597  9.624087      0  \n",
       "16 -0.027966  0.181722 -0.081730  9.736653      0  \n",
       "17 -0.028829  0.057930 -0.128134  9.693692      0  \n",
       "18 -0.035702  0.103884 -0.026944  9.488020      0  "
      ]
     },
     "execution_count": 4,
     "metadata": {},
     "output_type": "execute_result"
    }
   ],
   "source": [
    "df.head()"
   ]
  },
  {
   "cell_type": "markdown",
   "metadata": {},
   "source": [
    "## Groupping Data"
   ]
  },
  {
   "cell_type": "markdown",
   "metadata": {},
   "source": [
    "In order to see how many data points belongs to eachy gps datapoint, we can group the data regarding to the `id_gps` and the `label` column."
   ]
  },
  {
   "cell_type": "code",
   "execution_count": 5,
   "metadata": {
    "ExecuteTime": {
     "end_time": "2020-08-21T13:57:35.207326Z",
     "start_time": "2020-08-21T13:57:35.130373Z"
    }
   },
   "outputs": [
    {
     "data": {
      "text/html": [
       "<div>\n",
       "<style scoped>\n",
       "    .dataframe tbody tr th:only-of-type {\n",
       "        vertical-align: middle;\n",
       "    }\n",
       "\n",
       "    .dataframe tbody tr th {\n",
       "        vertical-align: top;\n",
       "    }\n",
       "\n",
       "    .dataframe thead th {\n",
       "        text-align: right;\n",
       "    }\n",
       "</style>\n",
       "<table border=\"1\" class=\"dataframe\">\n",
       "  <thead>\n",
       "    <tr style=\"text-align: right;\">\n",
       "      <th></th>\n",
       "      <th></th>\n",
       "      <th>time</th>\n",
       "      <th>lat</th>\n",
       "      <th>lon</th>\n",
       "      <th>height</th>\n",
       "      <th>velocity</th>\n",
       "      <th>direction</th>\n",
       "      <th>h_accuracy</th>\n",
       "      <th>v_accuracy</th>\n",
       "      <th>x_lin_acc</th>\n",
       "      <th>y_lin_acc</th>\n",
       "      <th>z_lin_acc</th>\n",
       "      <th>x_gyro</th>\n",
       "      <th>y_gyro</th>\n",
       "      <th>z_gyro</th>\n",
       "      <th>x_acc</th>\n",
       "      <th>y_acc</th>\n",
       "      <th>z_acc</th>\n",
       "    </tr>\n",
       "    <tr>\n",
       "      <th>label</th>\n",
       "      <th>id_gps</th>\n",
       "      <th></th>\n",
       "      <th></th>\n",
       "      <th></th>\n",
       "      <th></th>\n",
       "      <th></th>\n",
       "      <th></th>\n",
       "      <th></th>\n",
       "      <th></th>\n",
       "      <th></th>\n",
       "      <th></th>\n",
       "      <th></th>\n",
       "      <th></th>\n",
       "      <th></th>\n",
       "      <th></th>\n",
       "      <th></th>\n",
       "      <th></th>\n",
       "      <th></th>\n",
       "    </tr>\n",
       "  </thead>\n",
       "  <tbody>\n",
       "    <tr>\n",
       "      <th rowspan=\"5\" valign=\"top\">0</th>\n",
       "      <th>1</th>\n",
       "      <td>163</td>\n",
       "      <td>163</td>\n",
       "      <td>163</td>\n",
       "      <td>163</td>\n",
       "      <td>163</td>\n",
       "      <td>163</td>\n",
       "      <td>163</td>\n",
       "      <td>163</td>\n",
       "      <td>163</td>\n",
       "      <td>163</td>\n",
       "      <td>163</td>\n",
       "      <td>163</td>\n",
       "      <td>163</td>\n",
       "      <td>163</td>\n",
       "      <td>163</td>\n",
       "      <td>163</td>\n",
       "      <td>163</td>\n",
       "    </tr>\n",
       "    <tr>\n",
       "      <th>2</th>\n",
       "      <td>100</td>\n",
       "      <td>100</td>\n",
       "      <td>100</td>\n",
       "      <td>100</td>\n",
       "      <td>100</td>\n",
       "      <td>100</td>\n",
       "      <td>100</td>\n",
       "      <td>100</td>\n",
       "      <td>100</td>\n",
       "      <td>100</td>\n",
       "      <td>100</td>\n",
       "      <td>100</td>\n",
       "      <td>100</td>\n",
       "      <td>100</td>\n",
       "      <td>100</td>\n",
       "      <td>100</td>\n",
       "      <td>100</td>\n",
       "    </tr>\n",
       "    <tr>\n",
       "      <th>3</th>\n",
       "      <td>100</td>\n",
       "      <td>100</td>\n",
       "      <td>100</td>\n",
       "      <td>100</td>\n",
       "      <td>100</td>\n",
       "      <td>100</td>\n",
       "      <td>100</td>\n",
       "      <td>100</td>\n",
       "      <td>100</td>\n",
       "      <td>100</td>\n",
       "      <td>100</td>\n",
       "      <td>100</td>\n",
       "      <td>100</td>\n",
       "      <td>100</td>\n",
       "      <td>100</td>\n",
       "      <td>100</td>\n",
       "      <td>100</td>\n",
       "    </tr>\n",
       "    <tr>\n",
       "      <th>4</th>\n",
       "      <td>100</td>\n",
       "      <td>100</td>\n",
       "      <td>100</td>\n",
       "      <td>100</td>\n",
       "      <td>100</td>\n",
       "      <td>100</td>\n",
       "      <td>100</td>\n",
       "      <td>100</td>\n",
       "      <td>100</td>\n",
       "      <td>100</td>\n",
       "      <td>100</td>\n",
       "      <td>100</td>\n",
       "      <td>100</td>\n",
       "      <td>100</td>\n",
       "      <td>100</td>\n",
       "      <td>100</td>\n",
       "      <td>100</td>\n",
       "    </tr>\n",
       "    <tr>\n",
       "      <th>5</th>\n",
       "      <td>100</td>\n",
       "      <td>100</td>\n",
       "      <td>100</td>\n",
       "      <td>100</td>\n",
       "      <td>100</td>\n",
       "      <td>100</td>\n",
       "      <td>100</td>\n",
       "      <td>100</td>\n",
       "      <td>100</td>\n",
       "      <td>100</td>\n",
       "      <td>100</td>\n",
       "      <td>100</td>\n",
       "      <td>100</td>\n",
       "      <td>100</td>\n",
       "      <td>100</td>\n",
       "      <td>100</td>\n",
       "      <td>100</td>\n",
       "    </tr>\n",
       "  </tbody>\n",
       "</table>\n",
       "</div>"
      ],
      "text/plain": [
       "              time  lat  lon  height  velocity  direction  h_accuracy  \\\n",
       "label id_gps                                                            \n",
       "0     1        163  163  163     163       163        163         163   \n",
       "      2        100  100  100     100       100        100         100   \n",
       "      3        100  100  100     100       100        100         100   \n",
       "      4        100  100  100     100       100        100         100   \n",
       "      5        100  100  100     100       100        100         100   \n",
       "\n",
       "              v_accuracy  x_lin_acc  y_lin_acc  z_lin_acc  x_gyro  y_gyro  \\\n",
       "label id_gps                                                                \n",
       "0     1              163        163        163        163     163     163   \n",
       "      2              100        100        100        100     100     100   \n",
       "      3              100        100        100        100     100     100   \n",
       "      4              100        100        100        100     100     100   \n",
       "      5              100        100        100        100     100     100   \n",
       "\n",
       "              z_gyro  x_acc  y_acc  z_acc  \n",
       "label id_gps                               \n",
       "0     1          163    163    163    163  \n",
       "      2          100    100    100    100  \n",
       "      3          100    100    100    100  \n",
       "      4          100    100    100    100  \n",
       "      5          100    100    100    100  "
      ]
     },
     "execution_count": 5,
     "metadata": {},
     "output_type": "execute_result"
    }
   ],
   "source": [
    "agg_df = df.groupby([\"label\",\"id_gps\"]).count()\n",
    "agg_df.head()"
   ]
  },
  {
   "cell_type": "markdown",
   "metadata": {},
   "source": [
    "### Representing the number of datapoints / gps data"
   ]
  },
  {
   "cell_type": "markdown",
   "metadata": {
    "ExecuteTime": {
     "end_time": "2020-08-21T12:20:45.634070Z",
     "start_time": "2020-08-21T12:20:45.627074Z"
    }
   },
   "source": [
    "We need to do some data transformation, to get the data in a form which can be plotted."
   ]
  },
  {
   "cell_type": "code",
   "execution_count": 6,
   "metadata": {
    "ExecuteTime": {
     "end_time": "2020-08-21T13:57:35.334254Z",
     "start_time": "2020-08-21T13:57:35.326259Z"
    }
   },
   "outputs": [],
   "source": [
    "agg_df.reset_index(inplace=True)"
   ]
  },
  {
   "cell_type": "code",
   "execution_count": 7,
   "metadata": {
    "ExecuteTime": {
     "end_time": "2020-08-21T13:57:35.449189Z",
     "start_time": "2020-08-21T13:57:35.440196Z"
    }
   },
   "outputs": [],
   "source": [
    "agg_df = agg_df[[\"label\",\"id_gps\",\"time\"]]"
   ]
  },
  {
   "cell_type": "code",
   "execution_count": 8,
   "metadata": {
    "ExecuteTime": {
     "end_time": "2020-08-21T13:57:35.567122Z",
     "start_time": "2020-08-21T13:57:35.553129Z"
    }
   },
   "outputs": [
    {
     "data": {
      "text/html": [
       "<div>\n",
       "<style scoped>\n",
       "    .dataframe tbody tr th:only-of-type {\n",
       "        vertical-align: middle;\n",
       "    }\n",
       "\n",
       "    .dataframe tbody tr th {\n",
       "        vertical-align: top;\n",
       "    }\n",
       "\n",
       "    .dataframe thead th {\n",
       "        text-align: right;\n",
       "    }\n",
       "</style>\n",
       "<table border=\"1\" class=\"dataframe\">\n",
       "  <thead>\n",
       "    <tr style=\"text-align: right;\">\n",
       "      <th></th>\n",
       "      <th>label</th>\n",
       "      <th>id_gps</th>\n",
       "      <th>count</th>\n",
       "    </tr>\n",
       "  </thead>\n",
       "  <tbody>\n",
       "    <tr>\n",
       "      <th>0</th>\n",
       "      <td>0</td>\n",
       "      <td>1</td>\n",
       "      <td>163</td>\n",
       "    </tr>\n",
       "    <tr>\n",
       "      <th>1</th>\n",
       "      <td>0</td>\n",
       "      <td>2</td>\n",
       "      <td>100</td>\n",
       "    </tr>\n",
       "    <tr>\n",
       "      <th>2</th>\n",
       "      <td>0</td>\n",
       "      <td>3</td>\n",
       "      <td>100</td>\n",
       "    </tr>\n",
       "    <tr>\n",
       "      <th>3</th>\n",
       "      <td>0</td>\n",
       "      <td>4</td>\n",
       "      <td>100</td>\n",
       "    </tr>\n",
       "    <tr>\n",
       "      <th>4</th>\n",
       "      <td>0</td>\n",
       "      <td>5</td>\n",
       "      <td>100</td>\n",
       "    </tr>\n",
       "  </tbody>\n",
       "</table>\n",
       "</div>"
      ],
      "text/plain": [
       "   label  id_gps  count\n",
       "0      0       1    163\n",
       "1      0       2    100\n",
       "2      0       3    100\n",
       "3      0       4    100\n",
       "4      0       5    100"
      ]
     },
     "execution_count": 8,
     "metadata": {},
     "output_type": "execute_result"
    }
   ],
   "source": [
    "agg_df.columns = [\"label\",\"id_gps\",\"count\"]\n",
    "agg_df.head()"
   ]
  },
  {
   "cell_type": "code",
   "execution_count": 9,
   "metadata": {
    "ExecuteTime": {
     "end_time": "2020-08-21T13:57:36.505583Z",
     "start_time": "2020-08-21T13:57:35.650073Z"
    }
   },
   "outputs": [
    {
     "data": {
      "text/plain": [
       "Text(0, 0.5, 'Frequenzy')"
      ]
     },
     "execution_count": 9,
     "metadata": {},
     "output_type": "execute_result"
    },
    {
     "data": {
      "image/png": "[encoded data removed]",
      "text/plain": [
       "<Figure size 1152x720 with 1 Axes>"
      ]
     },
     "metadata": {
      "needs_background": "light"
     },
     "output_type": "display_data"
    }
   ],
   "source": [
    "sns.distplot(agg_df[\"count\"], 100)\n",
    "plt.title(\"Distribution of datapoints / gps coordinate\")\n",
    "plt.xlabel(\"Count of the Datapoints\")\n",
    "plt.ylabel(\"Frequenzy\")"
   ]
  },
  {
   "cell_type": "markdown",
   "metadata": {},
   "source": [
    "The data point are equally distributed"
   ]
  },
  {
   "cell_type": "markdown",
   "metadata": {},
   "source": [
    "### Prepare data"
   ]
  },
  {
   "cell_type": "code",
   "execution_count": null,
   "metadata": {},
   "outputs": [],
   "source": []
  },
  {
   "cell_type": "code",
   "execution_count": 10,
   "metadata": {
    "ExecuteTime": {
     "end_time": "2020-08-21T13:57:36.613520Z",
     "start_time": "2020-08-21T13:57:36.605524Z"
    }
   },
   "outputs": [],
   "source": [
    "def butter_lowpass(cutoff, fs, order=5):\n",
    "    nyq = 0.5 * fs\n",
    "    normal_cutoff = cutoff / nyq\n",
    "    b, a = butter(order, normal_cutoff, btype='low', analog=False)\n",
    "    return b, a\n",
    "\n",
    "def butter_lowpass_filter(data, cutoff, fs, order=5):\n",
    "    b, a = butter_lowpass(cutoff, fs, order=order)\n",
    "    y = lfilter(b, a, data)\n",
    "    return y\n"
   ]
  },
  {
   "cell_type": "code",
   "execution_count": 11,
   "metadata": {
    "ExecuteTime": {
     "end_time": "2020-08-21T13:57:36.702471Z",
     "start_time": "2020-08-21T13:57:36.694472Z"
    }
   },
   "outputs": [
    {
     "data": {
      "text/plain": [
       "Index(['time', 'lat', 'lon', 'height', 'velocity', 'direction', 'h_accuracy',\n",
       "       'v_accuracy', 'id_gps', 'x_lin_acc', 'y_lin_acc', 'z_lin_acc', 'x_gyro',\n",
       "       'y_gyro', 'z_gyro', 'x_acc', 'y_acc', 'z_acc', 'label'],\n",
       "      dtype='object')"
      ]
     },
     "execution_count": 11,
     "metadata": {},
     "output_type": "execute_result"
    }
   ],
   "source": [
    "df.columns"
   ]
  },
  {
   "cell_type": "code",
   "execution_count": 12,
   "metadata": {
    "ExecuteTime": {
     "end_time": "2020-08-21T13:57:36.790419Z",
     "start_time": "2020-08-21T13:57:36.779425Z"
    }
   },
   "outputs": [],
   "source": [
    "def filter_acc(df, cutoff=10, fs=50, order=2):\n",
    "\n",
    "    signals = [ 'x_lin_acc', 'y_lin_acc', 'x_acc', 'y_acc', 'z_acc',]\n",
    "\n",
    "    new_df = pd.DataFrame(columns=signals)\n",
    "\n",
    "    for label in df.label.unique():\n",
    "\n",
    "        experiment_df = df[df.experiment == experiment]\n",
    "\n",
    "        list_signals = []\n",
    "\n",
    "        for j in signals:\n",
    "\n",
    "            filtered_signal = butter_lowpass_filter(experiment_df[j], cutoff=cutoff, fs=fs, order=order)\n",
    "\n",
    "            list_signals.append(filtered_signal)\n",
    "\n",
    "        new_df = pd.concat([new_df, pd.DataFrame(np.array(list_signals).T,columns=signals)])\n",
    "\n",
    "    return new_df"
   ]
  },
  {
   "cell_type": "code",
   "execution_count": null,
   "metadata": {},
   "outputs": [],
   "source": []
  },
  {
   "cell_type": "code",
   "execution_count": 13,
   "metadata": {
    "ExecuteTime": {
     "end_time": "2020-08-21T13:57:36.902354Z",
     "start_time": "2020-08-21T13:57:36.890360Z"
    }
   },
   "outputs": [],
   "source": [
    "def filter_gyro(df, cutoff=10, fs=50, order=2):\n",
    "\n",
    "    signals = ['x_gyro', 'y_gyro', 'z_gyro']\n",
    "\n",
    "    new_df = pd.DataFrame(columns=signals)\n",
    "\n",
    "    for label in df.label.unique():\n",
    "\n",
    "        experiment_df = df[df.experiment == experiment]\n",
    "\n",
    "        list_signals = []\n",
    "\n",
    "        for j in signals:\n",
    "\n",
    "            filtered_signal = butter_lowpass_filter(experiment_df[j], cutoff=cutoff, fs=fs, order=order)\n",
    "\n",
    "            list_signals.append(filtered_signal)\n",
    "\n",
    "        new_df = pd.concat([new_df, pd.DataFrame(np.array(list_signals).T,columns=signals)])\n",
    "\n",
    "    return new_df"
   ]
  },
  {
   "cell_type": "code",
   "execution_count": null,
   "metadata": {},
   "outputs": [],
   "source": []
  },
  {
   "cell_type": "code",
   "execution_count": 14,
   "metadata": {
    "ExecuteTime": {
     "end_time": "2020-08-21T13:57:37.009293Z",
     "start_time": "2020-08-21T13:57:36.996301Z"
    }
   },
   "outputs": [],
   "source": [
    "def kurtosis_time(x):\n",
    "\n",
    "    return kurtosis(x, fisher=True)\n",
    "\n",
    "def rms_100(x):\n",
    "\n",
    "    return np.sqrt(np.mean(x**2))\n",
    "\n",
    "def crest(x):\n",
    "\n",
    "    return max(abs(x))/np.sqrt(np.mean(x**2))\n",
    "\n",
    "def create_aggregated(df):\n",
    "    \"\"\"Create a aggregated dataframe in time domain\"\"\"\n",
    "    signals = ['x_lin_acc', 'y_lin_acc', \n",
    "               'x_acc', 'y_acc', 'z_acc',\n",
    "               'x_gyro', 'y_gyro', 'z_gyro']\n",
    "\n",
    "    agg_df = df.groupby([\"label\", \"id_gps\"]).agg({x: [\"sum\", \"mean\", \"mad\",\n",
    "                                                \"median\", \"min\", \"max\",\n",
    "                                                \"std\", \"var\", \"sem\",\n",
    "                                                \"skew\", \"quantile\",\n",
    "                                                kurtosis_time, rms_100,\n",
    "                                                crest] for x in signals})\n",
    "\n",
    "    return agg_df"
   ]
  },
  {
   "cell_type": "code",
   "execution_count": null,
   "metadata": {
    "ExecuteTime": {
     "end_time": "2020-08-21T12:40:05.978190Z",
     "start_time": "2020-08-21T12:40:05.970195Z"
    }
   },
   "outputs": [],
   "source": []
  },
  {
   "cell_type": "code",
   "execution_count": 15,
   "metadata": {
    "ExecuteTime": {
     "end_time": "2020-08-21T13:58:01.900926Z",
     "start_time": "2020-08-21T13:57:37.750795Z"
    }
   },
   "outputs": [],
   "source": [
    "feature_df = create_aggregated(df).reset_index()"
   ]
  },
  {
   "cell_type": "code",
   "execution_count": 16,
   "metadata": {
    "ExecuteTime": {
     "end_time": "2020-08-21T13:58:02.108806Z",
     "start_time": "2020-08-21T13:58:02.058837Z"
    }
   },
   "outputs": [
    {
     "data": {
      "text/html": [
       "<div>\n",
       "<style scoped>\n",
       "    .dataframe tbody tr th:only-of-type {\n",
       "        vertical-align: middle;\n",
       "    }\n",
       "\n",
       "    .dataframe tbody tr th {\n",
       "        vertical-align: top;\n",
       "    }\n",
       "\n",
       "    .dataframe thead tr th {\n",
       "        text-align: left;\n",
       "    }\n",
       "</style>\n",
       "<table border=\"1\" class=\"dataframe\">\n",
       "  <thead>\n",
       "    <tr>\n",
       "      <th></th>\n",
       "      <th>label</th>\n",
       "      <th>id_gps</th>\n",
       "      <th colspan=\"8\" halign=\"left\">x_lin_acc</th>\n",
       "      <th>...</th>\n",
       "      <th colspan=\"10\" halign=\"left\">z_gyro</th>\n",
       "    </tr>\n",
       "    <tr>\n",
       "      <th></th>\n",
       "      <th></th>\n",
       "      <th></th>\n",
       "      <th>sum</th>\n",
       "      <th>mean</th>\n",
       "      <th>mad</th>\n",
       "      <th>median</th>\n",
       "      <th>min</th>\n",
       "      <th>max</th>\n",
       "      <th>std</th>\n",
       "      <th>var</th>\n",
       "      <th>...</th>\n",
       "      <th>min</th>\n",
       "      <th>max</th>\n",
       "      <th>std</th>\n",
       "      <th>var</th>\n",
       "      <th>sem</th>\n",
       "      <th>skew</th>\n",
       "      <th>quantile</th>\n",
       "      <th>kurtosis_time</th>\n",
       "      <th>rms_100</th>\n",
       "      <th>crest</th>\n",
       "    </tr>\n",
       "  </thead>\n",
       "  <tbody>\n",
       "    <tr>\n",
       "      <th>0</th>\n",
       "      <td>0</td>\n",
       "      <td>1</td>\n",
       "      <td>-22.207030</td>\n",
       "      <td>-0.136239</td>\n",
       "      <td>0.117869</td>\n",
       "      <td>-0.137389</td>\n",
       "      <td>-0.481967</td>\n",
       "      <td>0.149903</td>\n",
       "      <td>0.141934</td>\n",
       "      <td>0.020145</td>\n",
       "      <td>...</td>\n",
       "      <td>-0.038407</td>\n",
       "      <td>0.019060</td>\n",
       "      <td>0.020960</td>\n",
       "      <td>0.000439</td>\n",
       "      <td>0.001642</td>\n",
       "      <td>-0.245129</td>\n",
       "      <td>0.004298</td>\n",
       "      <td>-1.747767</td>\n",
       "      <td>0.021991</td>\n",
       "      <td>1.746537</td>\n",
       "    </tr>\n",
       "    <tr>\n",
       "      <th>1</th>\n",
       "      <td>0</td>\n",
       "      <td>2</td>\n",
       "      <td>-3.261845</td>\n",
       "      <td>-0.032618</td>\n",
       "      <td>0.082002</td>\n",
       "      <td>-0.032327</td>\n",
       "      <td>-0.320140</td>\n",
       "      <td>0.241167</td>\n",
       "      <td>0.104998</td>\n",
       "      <td>0.011024</td>\n",
       "      <td>...</td>\n",
       "      <td>0.004437</td>\n",
       "      <td>0.026998</td>\n",
       "      <td>0.004069</td>\n",
       "      <td>0.000017</td>\n",
       "      <td>0.000407</td>\n",
       "      <td>0.358179</td>\n",
       "      <td>0.014297</td>\n",
       "      <td>0.330516</td>\n",
       "      <td>0.015283</td>\n",
       "      <td>1.766488</td>\n",
       "    </tr>\n",
       "    <tr>\n",
       "      <th>2</th>\n",
       "      <td>0</td>\n",
       "      <td>3</td>\n",
       "      <td>-4.234298</td>\n",
       "      <td>-0.042343</td>\n",
       "      <td>0.082078</td>\n",
       "      <td>-0.046981</td>\n",
       "      <td>-0.316525</td>\n",
       "      <td>0.228163</td>\n",
       "      <td>0.104113</td>\n",
       "      <td>0.010840</td>\n",
       "      <td>...</td>\n",
       "      <td>0.005714</td>\n",
       "      <td>0.026547</td>\n",
       "      <td>0.004525</td>\n",
       "      <td>0.000020</td>\n",
       "      <td>0.000452</td>\n",
       "      <td>0.100271</td>\n",
       "      <td>0.015716</td>\n",
       "      <td>-0.303948</td>\n",
       "      <td>0.016737</td>\n",
       "      <td>1.586147</td>\n",
       "    </tr>\n",
       "    <tr>\n",
       "      <th>3</th>\n",
       "      <td>0</td>\n",
       "      <td>4</td>\n",
       "      <td>19.420845</td>\n",
       "      <td>0.194208</td>\n",
       "      <td>0.130586</td>\n",
       "      <td>0.198483</td>\n",
       "      <td>-0.168488</td>\n",
       "      <td>0.568984</td>\n",
       "      <td>0.163440</td>\n",
       "      <td>0.026712</td>\n",
       "      <td>...</td>\n",
       "      <td>-0.026722</td>\n",
       "      <td>0.029607</td>\n",
       "      <td>0.012857</td>\n",
       "      <td>0.000165</td>\n",
       "      <td>0.001286</td>\n",
       "      <td>1.935585</td>\n",
       "      <td>-0.019049</td>\n",
       "      <td>2.478354</td>\n",
       "      <td>0.018980</td>\n",
       "      <td>1.559952</td>\n",
       "    </tr>\n",
       "    <tr>\n",
       "      <th>4</th>\n",
       "      <td>0</td>\n",
       "      <td>5</td>\n",
       "      <td>2.818655</td>\n",
       "      <td>0.028187</td>\n",
       "      <td>0.076053</td>\n",
       "      <td>0.032478</td>\n",
       "      <td>-0.301072</td>\n",
       "      <td>0.221116</td>\n",
       "      <td>0.095146</td>\n",
       "      <td>0.009053</td>\n",
       "      <td>...</td>\n",
       "      <td>-0.021767</td>\n",
       "      <td>-0.002582</td>\n",
       "      <td>0.003297</td>\n",
       "      <td>0.000011</td>\n",
       "      <td>0.000330</td>\n",
       "      <td>0.002201</td>\n",
       "      <td>-0.012527</td>\n",
       "      <td>0.552075</td>\n",
       "      <td>0.013161</td>\n",
       "      <td>1.653923</td>\n",
       "    </tr>\n",
       "  </tbody>\n",
       "</table>\n",
       "<p>5 rows × 114 columns</p>\n",
       "</div>"
      ],
      "text/plain": [
       "  label id_gps  x_lin_acc                                                    \\\n",
       "                      sum      mean       mad    median       min       max   \n",
       "0     0      1 -22.207030 -0.136239  0.117869 -0.137389 -0.481967  0.149903   \n",
       "1     0      2  -3.261845 -0.032618  0.082002 -0.032327 -0.320140  0.241167   \n",
       "2     0      3  -4.234298 -0.042343  0.082078 -0.046981 -0.316525  0.228163   \n",
       "3     0      4  19.420845  0.194208  0.130586  0.198483 -0.168488  0.568984   \n",
       "4     0      5   2.818655  0.028187  0.076053  0.032478 -0.301072  0.221116   \n",
       "\n",
       "                       ...    z_gyro                                          \\\n",
       "        std       var  ...       min       max       std       var       sem   \n",
       "0  0.141934  0.020145  ... -0.038407  0.019060  0.020960  0.000439  0.001642   \n",
       "1  0.104998  0.011024  ...  0.004437  0.026998  0.004069  0.000017  0.000407   \n",
       "2  0.104113  0.010840  ...  0.005714  0.026547  0.004525  0.000020  0.000452   \n",
       "3  0.163440  0.026712  ... -0.026722  0.029607  0.012857  0.000165  0.001286   \n",
       "4  0.095146  0.009053  ... -0.021767 -0.002582  0.003297  0.000011  0.000330   \n",
       "\n",
       "                                                         \n",
       "       skew  quantile kurtosis_time   rms_100     crest  \n",
       "0 -0.245129  0.004298     -1.747767  0.021991  1.746537  \n",
       "1  0.358179  0.014297      0.330516  0.015283  1.766488  \n",
       "2  0.100271  0.015716     -0.303948  0.016737  1.586147  \n",
       "3  1.935585 -0.019049      2.478354  0.018980  1.559952  \n",
       "4  0.002201 -0.012527      0.552075  0.013161  1.653923  \n",
       "\n",
       "[5 rows x 114 columns]"
      ]
     },
     "execution_count": 16,
     "metadata": {},
     "output_type": "execute_result"
    }
   ],
   "source": [
    "feature_df.head()"
   ]
  },
  {
   "cell_type": "markdown",
   "metadata": {},
   "source": [
    "## Shuffle Data"
   ]
  },
  {
   "cell_type": "code",
   "execution_count": 17,
   "metadata": {
    "ExecuteTime": {
     "end_time": "2020-08-21T14:03:22.012640Z",
     "start_time": "2020-08-21T14:03:22.008645Z"
    }
   },
   "outputs": [],
   "source": [
    "from sklearn.model_selection import train_test_split"
   ]
  },
  {
   "cell_type": "code",
   "execution_count": 19,
   "metadata": {
    "ExecuteTime": {
     "end_time": "2020-08-21T14:07:40.096090Z",
     "start_time": "2020-08-21T14:07:40.080099Z"
    }
   },
   "outputs": [
    {
     "name": "stderr",
     "output_type": "stream",
     "text": [
      "c:\\users\\mesza\\.virtualenvs\\road-surface-quality-7nv9hwjf\\lib\\site-packages\\pandas\\core\\generic.py:3878: PerformanceWarning:\n",
      "\n",
      "dropping on a non-lexsorted multi-index without a level parameter may impact performance.\n",
      "\n"
     ]
    }
   ],
   "source": [
    "X = feature_df.drop([\"id_gps\",\"label\"], axis=1)\n",
    "y = feature_df[\"label\"]"
   ]
  },
  {
   "cell_type": "code",
   "execution_count": 26,
   "metadata": {
    "ExecuteTime": {
     "end_time": "2020-08-21T14:12:21.495752Z",
     "start_time": "2020-08-21T14:12:21.486758Z"
    }
   },
   "outputs": [],
   "source": [
    "X_train, X_val, y_train, y_val = train_test_split(X,\n",
    "                                                  y,\n",
    "                                                  test_size=0.2, \n",
    "                                                  random_state=42,\n",
    "                                                  shuffle = True)"
   ]
  },
  {
   "cell_type": "code",
   "execution_count": 28,
   "metadata": {
    "ExecuteTime": {
     "end_time": "2020-08-21T14:12:33.990870Z",
     "start_time": "2020-08-21T14:12:33.979876Z"
    }
   },
   "outputs": [],
   "source": [
    "X_train, X_test, y_train, y_test = train_test_split(X_train, \n",
    "                                                    y_train, \n",
    "                                                    test_size=0.2, \n",
    "                                                    random_state=42,\n",
    "                                                    shuffle =  True)"
   ]
  },
  {
   "cell_type": "code",
   "execution_count": 29,
   "metadata": {
    "ExecuteTime": {
     "end_time": "2020-08-21T14:13:59.194499Z",
     "start_time": "2020-08-21T14:13:59.186507Z"
    }
   },
   "outputs": [
    {
     "name": "stdout",
     "output_type": "stream",
     "text": [
      "X_train:  (604, 112)\n",
      "X_val:  (189, 112)\n",
      "X_test:  (152, 112)\n",
      "y_train:  (604,)\n",
      "y_val:  (189,)\n",
      "y_test:  (152,)\n"
     ]
    }
   ],
   "source": [
    "print(\"X_train: \", X_train.shape)\n",
    "print(\"X_val: \", X_val.shape)\n",
    "print(\"X_test: \", X_test.shape)\n",
    "print(\"y_train: \", y_train.shape)\n",
    "print(\"y_val: \", y_val.shape)\n",
    "print(\"y_test: \", y_test.shape)"
   ]
  },
  {
   "cell_type": "markdown",
   "metadata": {},
   "source": [
    "Checking the number of the labels in the train, validation and test datasets."
   ]
  },
  {
   "cell_type": "code",
   "execution_count": 35,
   "metadata": {
    "ExecuteTime": {
     "end_time": "2020-08-21T14:23:18.698139Z",
     "start_time": "2020-08-21T14:23:18.693141Z"
    }
   },
   "outputs": [
    {
     "name": "stdout",
     "output_type": "stream",
     "text": [
      "Number of label for each label in the train dataset: [(0, 399), (1, 126), (2, 79)]\n",
      "Number of label for each label in the validation dataset: [(0, 131), (1, 30), (2, 28)]\n",
      "Number of label for each label in the validation dataset: [(0, 101), (1, 30), (2, 21)]\n"
     ]
    }
   ],
   "source": [
    "print(\"Number of label for each label in the train dataset: {}\".format(Counter(y_train).most_common()))\n",
    "print(\"Number of label for each label in the validation dataset: {}\".format(Counter(y_val).most_common()))\n",
    "print(\"Number of label for each label in the validation dataset: {}\".format(Counter(y_test).most_common()))"
   ]
  },
  {
   "cell_type": "markdown",
   "metadata": {},
   "source": [
    "## Normalize data"
   ]
  },
  {
   "cell_type": "code",
   "execution_count": 37,
   "metadata": {
    "ExecuteTime": {
     "end_time": "2020-08-21T14:23:47.060479Z",
     "start_time": "2020-08-21T14:23:47.055482Z"
    }
   },
   "outputs": [],
   "source": [
    "from sklearn.preprocessing import StandardScaler"
   ]
  },
  {
   "cell_type": "code",
   "execution_count": 38,
   "metadata": {
    "ExecuteTime": {
     "end_time": "2020-08-21T14:25:17.857469Z",
     "start_time": "2020-08-21T14:25:17.811495Z"
    }
   },
   "outputs": [],
   "source": [
    "scaler = StandardScaler()\n",
    "scaled_train = scaler.fit_transform(X_train)\n",
    "scaled_val = scaler.fit_transform(X_train)\n",
    "scaled_test = scaler.fit_transform(X_train)"
   ]
  },
  {
   "cell_type": "markdown",
   "metadata": {},
   "source": [
    "##  Prepare for ML"
   ]
  },
  {
   "cell_type": "code",
   "execution_count": 52,
   "metadata": {
    "ExecuteTime": {
     "end_time": "2020-08-21T14:32:48.095020Z",
     "start_time": "2020-08-21T14:32:48.086030Z"
    }
   },
   "outputs": [
    {
     "data": {
      "text/plain": [
       "MultiIndex([(    'label',              ''),\n",
       "            (   'id_gps',              ''),\n",
       "            ('x_lin_acc',           'sum'),\n",
       "            ('x_lin_acc',          'mean'),\n",
       "            ('x_lin_acc',           'mad'),\n",
       "            ('x_lin_acc',        'median'),\n",
       "            ('x_lin_acc',           'min'),\n",
       "            ('x_lin_acc',           'max'),\n",
       "            ('x_lin_acc',           'std'),\n",
       "            ('x_lin_acc',           'var'),\n",
       "            ...\n",
       "            (   'z_gyro',           'min'),\n",
       "            (   'z_gyro',           'max'),\n",
       "            (   'z_gyro',           'std'),\n",
       "            (   'z_gyro',           'var'),\n",
       "            (   'z_gyro',           'sem'),\n",
       "            (   'z_gyro',          'skew'),\n",
       "            (   'z_gyro',      'quantile'),\n",
       "            (   'z_gyro', 'kurtosis_time'),\n",
       "            (   'z_gyro',       'rms_100'),\n",
       "            (   'z_gyro',         'crest')],\n",
       "           length=114)"
      ]
     },
     "execution_count": 52,
     "metadata": {},
     "output_type": "execute_result"
    }
   ],
   "source": [
    "feature_df.columns"
   ]
  },
  {
   "cell_type": "code",
   "execution_count": 54,
   "metadata": {
    "ExecuteTime": {
     "end_time": "2020-08-21T14:35:02.906294Z",
     "start_time": "2020-08-21T14:35:02.894302Z"
    }
   },
   "outputs": [
    {
     "name": "stderr",
     "output_type": "stream",
     "text": [
      "c:\\users\\mesza\\.virtualenvs\\road-surface-quality-7nv9hwjf\\lib\\site-packages\\pandas\\core\\generic.py:3878: PerformanceWarning:\n",
      "\n",
      "dropping on a non-lexsorted multi-index without a level parameter may impact performance.\n",
      "\n"
     ]
    },
    {
     "data": {
      "text/plain": [
       "MultiIndex([('x_lin_acc',           'sum'),\n",
       "            ('x_lin_acc',          'mean'),\n",
       "            ('x_lin_acc',           'mad'),\n",
       "            ('x_lin_acc',        'median'),\n",
       "            ('x_lin_acc',           'min'),\n",
       "            ('x_lin_acc',           'max'),\n",
       "            ('x_lin_acc',           'std'),\n",
       "            ('x_lin_acc',           'var'),\n",
       "            ('x_lin_acc',           'sem'),\n",
       "            ('x_lin_acc',          'skew'),\n",
       "            ...\n",
       "            (   'z_gyro',           'min'),\n",
       "            (   'z_gyro',           'max'),\n",
       "            (   'z_gyro',           'std'),\n",
       "            (   'z_gyro',           'var'),\n",
       "            (   'z_gyro',           'sem'),\n",
       "            (   'z_gyro',          'skew'),\n",
       "            (   'z_gyro',      'quantile'),\n",
       "            (   'z_gyro', 'kurtosis_time'),\n",
       "            (   'z_gyro',       'rms_100'),\n",
       "            (   'z_gyro',         'crest')],\n",
       "           length=112)"
      ]
     },
     "execution_count": 54,
     "metadata": {},
     "output_type": "execute_result"
    }
   ],
   "source": [
    "feature_df.drop([\"label\", \"id_gps\"], axis=1).columns"
   ]
  },
  {
   "cell_type": "code",
   "execution_count": 61,
   "metadata": {
    "ExecuteTime": {
     "end_time": "2020-08-21T14:38:05.864536Z",
     "start_time": "2020-08-21T14:38:04.771166Z"
    }
   },
   "outputs": [
    {
     "name": "stderr",
     "output_type": "stream",
     "text": [
      "c:\\users\\mesza\\.virtualenvs\\road-surface-quality-7nv9hwjf\\lib\\site-packages\\pandas\\core\\generic.py:3878: PerformanceWarning:\n",
      "\n",
      "dropping on a non-lexsorted multi-index without a level parameter may impact performance.\n",
      "\n"
     ]
    }
   ],
   "source": [
    "if not os.path.exists(\"../data/train_test_val\"):\n",
    "        os.makedirs(\"../data/train_test_val\")\n",
    "\n",
    "cols = feature_df.drop([\"label\", \"id_gps\"], axis=1).columns\n",
    "        \n",
    "pd.DataFrame(scaled_train, columns=cols).to_csv( \"../data/train_test_val/X_train.csv\")\n",
    "pd.DataFrame(scaled_val, columns=cols).to_csv(\"../data/train_test_val/X_val.csv\")\n",
    "pd.DataFrame(scaled_test, columns=cols).to_csv(\"../data/train_test_val/X_test.csv\")\n",
    "        \n",
    "pd.DataFrame(y_train).to_csv( \"../data/train_test_val/y_train.csv\")\n",
    "pd.DataFrame(y_val).to_csv(\"../data/train_test_val/y_val.csv\")\n",
    "pd.DataFrame(y_test).to_csv(\"../data/train_test_val/y_test.csv\")"
   ]
  },
  {
   "cell_type": "code",
   "execution_count": 63,
   "metadata": {
    "ExecuteTime": {
     "end_time": "2020-08-21T14:38:13.038081Z",
     "start_time": "2020-08-21T14:38:12.913150Z"
    }
   },
   "outputs": [
    {
     "data": {
      "text/html": [
       "<div>\n",
       "<style scoped>\n",
       "    .dataframe tbody tr th:only-of-type {\n",
       "        vertical-align: middle;\n",
       "    }\n",
       "\n",
       "    .dataframe tbody tr th {\n",
       "        vertical-align: top;\n",
       "    }\n",
       "\n",
       "    .dataframe thead tr th {\n",
       "        text-align: left;\n",
       "    }\n",
       "</style>\n",
       "<table border=\"1\" class=\"dataframe\">\n",
       "  <thead>\n",
       "    <tr>\n",
       "      <th></th>\n",
       "      <th colspan=\"10\" halign=\"left\">x_lin_acc</th>\n",
       "      <th>...</th>\n",
       "      <th colspan=\"10\" halign=\"left\">z_gyro</th>\n",
       "    </tr>\n",
       "    <tr>\n",
       "      <th></th>\n",
       "      <th>sum</th>\n",
       "      <th>mean</th>\n",
       "      <th>mad</th>\n",
       "      <th>median</th>\n",
       "      <th>min</th>\n",
       "      <th>max</th>\n",
       "      <th>std</th>\n",
       "      <th>var</th>\n",
       "      <th>sem</th>\n",
       "      <th>skew</th>\n",
       "      <th>...</th>\n",
       "      <th>min</th>\n",
       "      <th>max</th>\n",
       "      <th>std</th>\n",
       "      <th>var</th>\n",
       "      <th>sem</th>\n",
       "      <th>skew</th>\n",
       "      <th>quantile</th>\n",
       "      <th>kurtosis_time</th>\n",
       "      <th>rms_100</th>\n",
       "      <th>crest</th>\n",
       "    </tr>\n",
       "  </thead>\n",
       "  <tbody>\n",
       "    <tr>\n",
       "      <th>0</th>\n",
       "      <td>-0.014538</td>\n",
       "      <td>-0.013235</td>\n",
       "      <td>-0.705619</td>\n",
       "      <td>-0.008868</td>\n",
       "      <td>0.434807</td>\n",
       "      <td>-0.465235</td>\n",
       "      <td>-0.727552</td>\n",
       "      <td>-0.348563</td>\n",
       "      <td>-0.726427</td>\n",
       "      <td>-0.161410</td>\n",
       "      <td>...</td>\n",
       "      <td>0.230868</td>\n",
       "      <td>-0.146753</td>\n",
       "      <td>-0.503713</td>\n",
       "      <td>-0.228641</td>\n",
       "      <td>-0.502621</td>\n",
       "      <td>0.533167</td>\n",
       "      <td>0.046469</td>\n",
       "      <td>-0.231479</td>\n",
       "      <td>-0.509428</td>\n",
       "      <td>0.482853</td>\n",
       "    </tr>\n",
       "    <tr>\n",
       "      <th>1</th>\n",
       "      <td>0.071282</td>\n",
       "      <td>0.072720</td>\n",
       "      <td>-0.514274</td>\n",
       "      <td>0.075070</td>\n",
       "      <td>0.372955</td>\n",
       "      <td>-0.259910</td>\n",
       "      <td>-0.524743</td>\n",
       "      <td>-0.317087</td>\n",
       "      <td>-0.523457</td>\n",
       "      <td>0.072287</td>\n",
       "      <td>...</td>\n",
       "      <td>0.166811</td>\n",
       "      <td>-0.141936</td>\n",
       "      <td>-0.424762</td>\n",
       "      <td>-0.223841</td>\n",
       "      <td>-0.423465</td>\n",
       "      <td>-1.014913</td>\n",
       "      <td>0.034957</td>\n",
       "      <td>0.210924</td>\n",
       "      <td>-0.489700</td>\n",
       "      <td>1.241264</td>\n",
       "    </tr>\n",
       "    <tr>\n",
       "      <th>2</th>\n",
       "      <td>0.671259</td>\n",
       "      <td>0.673643</td>\n",
       "      <td>0.656267</td>\n",
       "      <td>0.555376</td>\n",
       "      <td>0.678975</td>\n",
       "      <td>0.713630</td>\n",
       "      <td>0.571018</td>\n",
       "      <td>0.095637</td>\n",
       "      <td>0.573175</td>\n",
       "      <td>1.353648</td>\n",
       "      <td>...</td>\n",
       "      <td>-2.700224</td>\n",
       "      <td>-1.247025</td>\n",
       "      <td>2.347798</td>\n",
       "      <td>1.234323</td>\n",
       "      <td>2.356317</td>\n",
       "      <td>-0.929433</td>\n",
       "      <td>-1.702114</td>\n",
       "      <td>-0.621031</td>\n",
       "      <td>1.664190</td>\n",
       "      <td>-0.756807</td>\n",
       "    </tr>\n",
       "    <tr>\n",
       "      <th>3</th>\n",
       "      <td>-0.304103</td>\n",
       "      <td>-0.303257</td>\n",
       "      <td>-0.168019</td>\n",
       "      <td>-0.311475</td>\n",
       "      <td>0.019010</td>\n",
       "      <td>-0.395595</td>\n",
       "      <td>-0.229572</td>\n",
       "      <td>-0.246210</td>\n",
       "      <td>-0.228051</td>\n",
       "      <td>0.770529</td>\n",
       "      <td>...</td>\n",
       "      <td>-0.101841</td>\n",
       "      <td>-0.311268</td>\n",
       "      <td>-0.254766</td>\n",
       "      <td>-0.206604</td>\n",
       "      <td>-0.253025</td>\n",
       "      <td>-1.033845</td>\n",
       "      <td>-0.159708</td>\n",
       "      <td>-0.252577</td>\n",
       "      <td>-0.287336</td>\n",
       "      <td>-0.377839</td>\n",
       "    </tr>\n",
       "    <tr>\n",
       "      <th>4</th>\n",
       "      <td>0.053052</td>\n",
       "      <td>0.054462</td>\n",
       "      <td>-0.546484</td>\n",
       "      <td>0.035015</td>\n",
       "      <td>0.407320</td>\n",
       "      <td>-0.308491</td>\n",
       "      <td>-0.579673</td>\n",
       "      <td>-0.326998</td>\n",
       "      <td>-0.578431</td>\n",
       "      <td>0.445181</td>\n",
       "      <td>...</td>\n",
       "      <td>-0.135150</td>\n",
       "      <td>-0.380603</td>\n",
       "      <td>-0.238821</td>\n",
       "      <td>-0.204504</td>\n",
       "      <td>-0.237039</td>\n",
       "      <td>0.195777</td>\n",
       "      <td>-0.266243</td>\n",
       "      <td>-0.909727</td>\n",
       "      <td>-0.185144</td>\n",
       "      <td>-1.030635</td>\n",
       "    </tr>\n",
       "    <tr>\n",
       "      <th>...</th>\n",
       "      <td>...</td>\n",
       "      <td>...</td>\n",
       "      <td>...</td>\n",
       "      <td>...</td>\n",
       "      <td>...</td>\n",
       "      <td>...</td>\n",
       "      <td>...</td>\n",
       "      <td>...</td>\n",
       "      <td>...</td>\n",
       "      <td>...</td>\n",
       "      <td>...</td>\n",
       "      <td>...</td>\n",
       "      <td>...</td>\n",
       "      <td>...</td>\n",
       "      <td>...</td>\n",
       "      <td>...</td>\n",
       "      <td>...</td>\n",
       "      <td>...</td>\n",
       "      <td>...</td>\n",
       "      <td>...</td>\n",
       "      <td>...</td>\n",
       "    </tr>\n",
       "    <tr>\n",
       "      <th>599</th>\n",
       "      <td>0.015838</td>\n",
       "      <td>0.017188</td>\n",
       "      <td>-0.642177</td>\n",
       "      <td>0.021588</td>\n",
       "      <td>0.441744</td>\n",
       "      <td>-0.389084</td>\n",
       "      <td>-0.673628</td>\n",
       "      <td>-0.341563</td>\n",
       "      <td>-0.672460</td>\n",
       "      <td>0.062612</td>\n",
       "      <td>...</td>\n",
       "      <td>0.254213</td>\n",
       "      <td>-0.158755</td>\n",
       "      <td>-0.546165</td>\n",
       "      <td>-0.230381</td>\n",
       "      <td>-0.545184</td>\n",
       "      <td>-0.452769</td>\n",
       "      <td>0.054620</td>\n",
       "      <td>0.125309</td>\n",
       "      <td>-0.516832</td>\n",
       "      <td>0.762511</td>\n",
       "    </tr>\n",
       "    <tr>\n",
       "      <th>600</th>\n",
       "      <td>0.007708</td>\n",
       "      <td>0.009046</td>\n",
       "      <td>-0.627678</td>\n",
       "      <td>0.019359</td>\n",
       "      <td>0.445614</td>\n",
       "      <td>-0.336905</td>\n",
       "      <td>-0.642941</td>\n",
       "      <td>-0.337137</td>\n",
       "      <td>-0.641749</td>\n",
       "      <td>0.293287</td>\n",
       "      <td>...</td>\n",
       "      <td>0.229591</td>\n",
       "      <td>-0.132830</td>\n",
       "      <td>-0.496375</td>\n",
       "      <td>-0.228281</td>\n",
       "      <td>-0.495264</td>\n",
       "      <td>-0.341235</td>\n",
       "      <td>0.056015</td>\n",
       "      <td>0.240164</td>\n",
       "      <td>-0.506661</td>\n",
       "      <td>0.829339</td>\n",
       "    </tr>\n",
       "    <tr>\n",
       "      <th>601</th>\n",
       "      <td>-0.135117</td>\n",
       "      <td>-0.134004</td>\n",
       "      <td>-0.498942</td>\n",
       "      <td>-0.132157</td>\n",
       "      <td>0.137958</td>\n",
       "      <td>-0.387839</td>\n",
       "      <td>-0.504916</td>\n",
       "      <td>-0.313257</td>\n",
       "      <td>-0.503614</td>\n",
       "      <td>0.570097</td>\n",
       "      <td>...</td>\n",
       "      <td>0.734461</td>\n",
       "      <td>0.596994</td>\n",
       "      <td>-0.259975</td>\n",
       "      <td>-0.207272</td>\n",
       "      <td>-0.258248</td>\n",
       "      <td>0.042556</td>\n",
       "      <td>0.677056</td>\n",
       "      <td>-0.572094</td>\n",
       "      <td>0.173958</td>\n",
       "      <td>-1.352894</td>\n",
       "    </tr>\n",
       "    <tr>\n",
       "      <th>602</th>\n",
       "      <td>0.032634</td>\n",
       "      <td>0.034011</td>\n",
       "      <td>-0.476817</td>\n",
       "      <td>0.039389</td>\n",
       "      <td>0.353953</td>\n",
       "      <td>-0.328808</td>\n",
       "      <td>-0.514618</td>\n",
       "      <td>-0.315148</td>\n",
       "      <td>-0.513323</td>\n",
       "      <td>-0.451742</td>\n",
       "      <td>...</td>\n",
       "      <td>0.217117</td>\n",
       "      <td>-0.112933</td>\n",
       "      <td>-0.435538</td>\n",
       "      <td>-0.224616</td>\n",
       "      <td>-0.434268</td>\n",
       "      <td>-0.022989</td>\n",
       "      <td>0.055911</td>\n",
       "      <td>-0.333899</td>\n",
       "      <td>-0.492426</td>\n",
       "      <td>0.346682</td>\n",
       "    </tr>\n",
       "    <tr>\n",
       "      <th>603</th>\n",
       "      <td>0.007749</td>\n",
       "      <td>0.009087</td>\n",
       "      <td>-0.226413</td>\n",
       "      <td>0.047698</td>\n",
       "      <td>0.107556</td>\n",
       "      <td>-0.137464</td>\n",
       "      <td>-0.258224</td>\n",
       "      <td>-0.254392</td>\n",
       "      <td>-0.256726</td>\n",
       "      <td>-0.757787</td>\n",
       "      <td>...</td>\n",
       "      <td>0.158686</td>\n",
       "      <td>-0.020086</td>\n",
       "      <td>-0.286258</td>\n",
       "      <td>-0.210509</td>\n",
       "      <td>-0.284599</td>\n",
       "      <td>0.635875</td>\n",
       "      <td>0.062512</td>\n",
       "      <td>0.025607</td>\n",
       "      <td>-0.456722</td>\n",
       "      <td>0.652506</td>\n",
       "    </tr>\n",
       "  </tbody>\n",
       "</table>\n",
       "<p>604 rows × 112 columns</p>\n",
       "</div>"
      ],
      "text/plain": [
       "    x_lin_acc                                                              \\\n",
       "          sum      mean       mad    median       min       max       std   \n",
       "0   -0.014538 -0.013235 -0.705619 -0.008868  0.434807 -0.465235 -0.727552   \n",
       "1    0.071282  0.072720 -0.514274  0.075070  0.372955 -0.259910 -0.524743   \n",
       "2    0.671259  0.673643  0.656267  0.555376  0.678975  0.713630  0.571018   \n",
       "3   -0.304103 -0.303257 -0.168019 -0.311475  0.019010 -0.395595 -0.229572   \n",
       "4    0.053052  0.054462 -0.546484  0.035015  0.407320 -0.308491 -0.579673   \n",
       "..        ...       ...       ...       ...       ...       ...       ...   \n",
       "599  0.015838  0.017188 -0.642177  0.021588  0.441744 -0.389084 -0.673628   \n",
       "600  0.007708  0.009046 -0.627678  0.019359  0.445614 -0.336905 -0.642941   \n",
       "601 -0.135117 -0.134004 -0.498942 -0.132157  0.137958 -0.387839 -0.504916   \n",
       "602  0.032634  0.034011 -0.476817  0.039389  0.353953 -0.328808 -0.514618   \n",
       "603  0.007749  0.009087 -0.226413  0.047698  0.107556 -0.137464 -0.258224   \n",
       "\n",
       "                                   ...    z_gyro                      \\\n",
       "          var       sem      skew  ...       min       max       std   \n",
       "0   -0.348563 -0.726427 -0.161410  ...  0.230868 -0.146753 -0.503713   \n",
       "1   -0.317087 -0.523457  0.072287  ...  0.166811 -0.141936 -0.424762   \n",
       "2    0.095637  0.573175  1.353648  ... -2.700224 -1.247025  2.347798   \n",
       "3   -0.246210 -0.228051  0.770529  ... -0.101841 -0.311268 -0.254766   \n",
       "4   -0.326998 -0.578431  0.445181  ... -0.135150 -0.380603 -0.238821   \n",
       "..        ...       ...       ...  ...       ...       ...       ...   \n",
       "599 -0.341563 -0.672460  0.062612  ...  0.254213 -0.158755 -0.546165   \n",
       "600 -0.337137 -0.641749  0.293287  ...  0.229591 -0.132830 -0.496375   \n",
       "601 -0.313257 -0.503614  0.570097  ...  0.734461  0.596994 -0.259975   \n",
       "602 -0.315148 -0.513323 -0.451742  ...  0.217117 -0.112933 -0.435538   \n",
       "603 -0.254392 -0.256726 -0.757787  ...  0.158686 -0.020086 -0.286258   \n",
       "\n",
       "                                                                               \n",
       "          var       sem      skew  quantile kurtosis_time   rms_100     crest  \n",
       "0   -0.228641 -0.502621  0.533167  0.046469     -0.231479 -0.509428  0.482853  \n",
       "1   -0.223841 -0.423465 -1.014913  0.034957      0.210924 -0.489700  1.241264  \n",
       "2    1.234323  2.356317 -0.929433 -1.702114     -0.621031  1.664190 -0.756807  \n",
       "3   -0.206604 -0.253025 -1.033845 -0.159708     -0.252577 -0.287336 -0.377839  \n",
       "4   -0.204504 -0.237039  0.195777 -0.266243     -0.909727 -0.185144 -1.030635  \n",
       "..        ...       ...       ...       ...           ...       ...       ...  \n",
       "599 -0.230381 -0.545184 -0.452769  0.054620      0.125309 -0.516832  0.762511  \n",
       "600 -0.228281 -0.495264 -0.341235  0.056015      0.240164 -0.506661  0.829339  \n",
       "601 -0.207272 -0.258248  0.042556  0.677056     -0.572094  0.173958 -1.352894  \n",
       "602 -0.224616 -0.434268 -0.022989  0.055911     -0.333899 -0.492426  0.346682  \n",
       "603 -0.210509 -0.284599  0.635875  0.062512      0.025607 -0.456722  0.652506  \n",
       "\n",
       "[604 rows x 112 columns]"
      ]
     },
     "execution_count": 63,
     "metadata": {},
     "output_type": "execute_result"
    }
   ],
   "source": [
    "pd.read_csv(\"../data/train_test_val/X_test.csv\", header=[0,1], index_col=0)"
   ]
  },
  {
   "cell_type": "code",
   "execution_count": null,
   "metadata": {},
   "outputs": [],
   "source": []
  }
 ],
 "metadata": {
  "kernelspec": {
   "display_name": "Python 3",
   "language": "python",
   "name": "python3"
  },
  "language_info": {
   "codemirror_mode": {
    "name": "ipython",
    "version": 3
   },
   "file_extension": ".py",
   "mimetype": "text/x-python",
   "name": "python",
   "nbconvert_exporter": "python",
   "pygments_lexer": "ipython3",
   "version": "3.7.5"
  },
  "toc": {
   "base_numbering": 1,
   "nav_menu": {},
   "number_sections": true,
   "sideBar": true,
   "skip_h1_title": false,
   "title_cell": "Table of Contents",
   "title_sidebar": "Contents",
   "toc_cell": false,
   "toc_position": {},
   "toc_section_display": true,
   "toc_window_display": false
  },
  "varInspector": {
   "cols": {
    "lenName": 16,
    "lenType": 16,
    "lenVar": 40
   },
   "kernels_config": {
    "python": {
     "delete_cmd_postfix": "",
     "delete_cmd_prefix": "del ",
     "library": "var_list.py",
     "varRefreshCmd": "print(var_dic_list())"
    },
    "r": {
     "delete_cmd_postfix": ") ",
     "delete_cmd_prefix": "rm(",
     "library": "var_list.r",
     "varRefreshCmd": "cat(var_dic_list()) "
    }
   },
   "types_to_exclude": [
    "module",
    "function",
    "builtin_function_or_method",
    "instance",
    "_Feature"
   ],
   "window_display": false
  }
 },
 "nbformat": 4,
 "nbformat_minor": 4
}
