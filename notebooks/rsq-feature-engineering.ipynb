{
 "cells": [
  {
   "cell_type": "markdown",
   "metadata": {},
   "source": [
    "## Import dependencies"
   ]
  },
  {
   "cell_type": "code",
   "execution_count": 1,
   "metadata": {
    "ExecuteTime": {
     "end_time": "2020-08-21T11:13:05.393481Z",
     "start_time": "2020-08-21T11:13:03.390633Z"
    }
   },
   "outputs": [],
   "source": [
    "import pandas as pd\n",
    "import numpy as np\n",
    "import matplotlib.pyplot as plt\n",
    "import seaborn as sns\n",
    "import plotly.graph_objs as go\n",
    "from plotly.offline import iplot, plot\n",
    "import plotly.express as px\n",
    "\n",
    "import glob\n",
    "import os\n",
    "\n",
    "plt.rcParams[\"figure.figsize\"] = 16,10\n",
    "\n",
    "\n",
    "#imports from processing_funcs\n",
    "from processing_funcs import *"
   ]
  },
  {
   "cell_type": "markdown",
   "metadata": {},
   "source": [
    "## Create Features"
   ]
  },
  {
   "cell_type": "markdown",
   "metadata": {},
   "source": [
    "### Read data"
   ]
  },
  {
   "cell_type": "code",
   "execution_count": 4,
   "metadata": {
    "ExecuteTime": {
     "end_time": "2020-08-21T11:14:15.344033Z",
     "start_time": "2020-08-21T11:14:12.914424Z"
    },
    "scrolled": true
   },
   "outputs": [
    {
     "data": {
      "text/html": [
       "<div>\n",
       "<style scoped>\n",
       "    .dataframe tbody tr th:only-of-type {\n",
       "        vertical-align: middle;\n",
       "    }\n",
       "\n",
       "    .dataframe tbody tr th {\n",
       "        vertical-align: top;\n",
       "    }\n",
       "\n",
       "    .dataframe thead th {\n",
       "        text-align: right;\n",
       "    }\n",
       "</style>\n",
       "<table border=\"1\" class=\"dataframe\">\n",
       "  <thead>\n",
       "    <tr style=\"text-align: right;\">\n",
       "      <th></th>\n",
       "      <th>time</th>\n",
       "      <th>lat</th>\n",
       "      <th>lon</th>\n",
       "      <th>height</th>\n",
       "      <th>velocity</th>\n",
       "      <th>direction</th>\n",
       "      <th>h_accuracy</th>\n",
       "      <th>v_accuracy</th>\n",
       "      <th>x_lin_acc</th>\n",
       "      <th>y_lin_acc</th>\n",
       "      <th>z_lin_acc</th>\n",
       "      <th>x_gyro</th>\n",
       "      <th>y_gyro</th>\n",
       "      <th>z_gyro</th>\n",
       "      <th>x_acc</th>\n",
       "      <th>y_acc</th>\n",
       "      <th>z_acc</th>\n",
       "      <th>label</th>\n",
       "    </tr>\n",
       "    <tr>\n",
       "      <th>time_groups</th>\n",
       "      <th></th>\n",
       "      <th></th>\n",
       "      <th></th>\n",
       "      <th></th>\n",
       "      <th></th>\n",
       "      <th></th>\n",
       "      <th></th>\n",
       "      <th></th>\n",
       "      <th></th>\n",
       "      <th></th>\n",
       "      <th></th>\n",
       "      <th></th>\n",
       "      <th></th>\n",
       "      <th></th>\n",
       "      <th></th>\n",
       "      <th></th>\n",
       "      <th></th>\n",
       "      <th></th>\n",
       "    </tr>\n",
       "  </thead>\n",
       "  <tbody>\n",
       "    <tr>\n",
       "      <th>14</th>\n",
       "      <td>0.14</td>\n",
       "      <td>47.696266</td>\n",
       "      <td>17.726061</td>\n",
       "      <td>118.34948</td>\n",
       "      <td>-1.0</td>\n",
       "      <td>-1.0</td>\n",
       "      <td>418.967358</td>\n",
       "      <td>418.967358</td>\n",
       "      <td>-0.068991</td>\n",
       "      <td>0.116175</td>\n",
       "      <td>-0.231500</td>\n",
       "      <td>-0.010804</td>\n",
       "      <td>0.001345</td>\n",
       "      <td>-0.033967</td>\n",
       "      <td>0.010029</td>\n",
       "      <td>-0.066162</td>\n",
       "      <td>9.487570</td>\n",
       "      <td>0</td>\n",
       "    </tr>\n",
       "    <tr>\n",
       "      <th>15</th>\n",
       "      <td>0.15</td>\n",
       "      <td>47.696266</td>\n",
       "      <td>17.726061</td>\n",
       "      <td>118.34948</td>\n",
       "      <td>-1.0</td>\n",
       "      <td>-1.0</td>\n",
       "      <td>418.967358</td>\n",
       "      <td>418.967358</td>\n",
       "      <td>0.119553</td>\n",
       "      <td>0.105636</td>\n",
       "      <td>-0.053966</td>\n",
       "      <td>0.001346</td>\n",
       "      <td>0.008800</td>\n",
       "      <td>-0.035701</td>\n",
       "      <td>-0.054936</td>\n",
       "      <td>-0.025597</td>\n",
       "      <td>9.624087</td>\n",
       "      <td>0</td>\n",
       "    </tr>\n",
       "    <tr>\n",
       "      <th>16</th>\n",
       "      <td>0.16</td>\n",
       "      <td>47.696266</td>\n",
       "      <td>17.726061</td>\n",
       "      <td>118.34948</td>\n",
       "      <td>-1.0</td>\n",
       "      <td>-1.0</td>\n",
       "      <td>418.967358</td>\n",
       "      <td>418.967358</td>\n",
       "      <td>0.013766</td>\n",
       "      <td>-0.061842</td>\n",
       "      <td>-0.085847</td>\n",
       "      <td>-0.007075</td>\n",
       "      <td>0.005302</td>\n",
       "      <td>-0.027966</td>\n",
       "      <td>0.181722</td>\n",
       "      <td>-0.081730</td>\n",
       "      <td>9.736653</td>\n",
       "      <td>0</td>\n",
       "    </tr>\n",
       "    <tr>\n",
       "      <th>17</th>\n",
       "      <td>0.17</td>\n",
       "      <td>47.696266</td>\n",
       "      <td>17.726061</td>\n",
       "      <td>118.34948</td>\n",
       "      <td>-1.0</td>\n",
       "      <td>-1.0</td>\n",
       "      <td>418.967358</td>\n",
       "      <td>418.967358</td>\n",
       "      <td>0.063374</td>\n",
       "      <td>0.128633</td>\n",
       "      <td>-0.271607</td>\n",
       "      <td>-0.007945</td>\n",
       "      <td>0.006663</td>\n",
       "      <td>-0.028829</td>\n",
       "      <td>0.057930</td>\n",
       "      <td>-0.128134</td>\n",
       "      <td>9.693692</td>\n",
       "      <td>0</td>\n",
       "    </tr>\n",
       "    <tr>\n",
       "      <th>18</th>\n",
       "      <td>0.18</td>\n",
       "      <td>47.696266</td>\n",
       "      <td>17.726061</td>\n",
       "      <td>118.34948</td>\n",
       "      <td>-1.0</td>\n",
       "      <td>-1.0</td>\n",
       "      <td>418.967358</td>\n",
       "      <td>418.967358</td>\n",
       "      <td>0.089934</td>\n",
       "      <td>0.096254</td>\n",
       "      <td>-0.355428</td>\n",
       "      <td>-0.004748</td>\n",
       "      <td>-0.002140</td>\n",
       "      <td>-0.035702</td>\n",
       "      <td>0.103884</td>\n",
       "      <td>-0.026944</td>\n",
       "      <td>9.488020</td>\n",
       "      <td>0</td>\n",
       "    </tr>\n",
       "  </tbody>\n",
       "</table>\n",
       "</div>"
      ],
      "text/plain": [
       "             time        lat        lon     height  velocity  direction  \\\n",
       "time_groups                                                               \n",
       "14           0.14  47.696266  17.726061  118.34948      -1.0       -1.0   \n",
       "15           0.15  47.696266  17.726061  118.34948      -1.0       -1.0   \n",
       "16           0.16  47.696266  17.726061  118.34948      -1.0       -1.0   \n",
       "17           0.17  47.696266  17.726061  118.34948      -1.0       -1.0   \n",
       "18           0.18  47.696266  17.726061  118.34948      -1.0       -1.0   \n",
       "\n",
       "             h_accuracy  v_accuracy  x_lin_acc  y_lin_acc  z_lin_acc  \\\n",
       "time_groups                                                            \n",
       "14           418.967358  418.967358  -0.068991   0.116175  -0.231500   \n",
       "15           418.967358  418.967358   0.119553   0.105636  -0.053966   \n",
       "16           418.967358  418.967358   0.013766  -0.061842  -0.085847   \n",
       "17           418.967358  418.967358   0.063374   0.128633  -0.271607   \n",
       "18           418.967358  418.967358   0.089934   0.096254  -0.355428   \n",
       "\n",
       "               x_gyro    y_gyro    z_gyro     x_acc     y_acc     z_acc  label  \n",
       "time_groups                                                                     \n",
       "14          -0.010804  0.001345 -0.033967  0.010029 -0.066162  9.487570      0  \n",
       "15           0.001346  0.008800 -0.035701 -0.054936 -0.025597  9.624087      0  \n",
       "16          -0.007075  0.005302 -0.027966  0.181722 -0.081730  9.736653      0  \n",
       "17          -0.007945  0.006663 -0.028829  0.057930 -0.128134  9.693692      0  \n",
       "18          -0.004748 -0.002140 -0.035702  0.103884 -0.026944  9.488020      0  "
      ]
     },
     "execution_count": 4,
     "metadata": {},
     "output_type": "execute_result"
    }
   ],
   "source": [
    "df = read_all()\n",
    "df.head()"
   ]
  },
  {
   "cell_type": "markdown",
   "metadata": {},
   "source": [
    "I decided to aggregate the data according to the gps data points. I think this is the most effective way to do so. It could be done with using other methodes, but all of the methods require data processing, which are increasing the computing capacity. \n",
    "It would be an option for example to using the speed of the car as the basis of the aggregation, but at the and we need to represent the data along the gps coordinates."
   ]
  },
  {
   "cell_type": "markdown",
   "metadata": {},
   "source": [
    "Let's see how many measurement points belongs to each gps data."
   ]
  },
  {
   "cell_type": "code",
   "execution_count": 6,
   "metadata": {
    "ExecuteTime": {
     "end_time": "2020-08-21T11:18:50.768442Z",
     "start_time": "2020-08-21T11:18:50.735457Z"
    }
   },
   "outputs": [],
   "source": [
    "agg_df = df.groupby(\"lat\").count()"
   ]
  },
  {
   "cell_type": "markdown",
   "metadata": {},
   "source": [
    "It could be that the exact same gps coordinate exist not only one time. So we need to indentify each gps data points, to avoid the faulty data aggregation"
   ]
  },
  {
   "cell_type": "code",
   "execution_count": null,
   "metadata": {},
   "outputs": [],
   "source": []
  },
  {
   "cell_type": "code",
   "execution_count": 10,
   "metadata": {
    "ExecuteTime": {
     "end_time": "2020-08-21T11:19:45.735607Z",
     "start_time": "2020-08-21T11:19:45.407794Z"
    }
   },
   "outputs": [
    {
     "name": "stderr",
     "output_type": "stream",
     "text": [
      "c:\\users\\mesza\\.virtualenvs\\road-surface-quality-7nv9hwjf\\lib\\site-packages\\matplotlib\\cbook\\__init__.py:1377: FutureWarning:\n",
      "\n",
      "Support for multi-dimensional indexing (e.g. `obj[:, None]`) is deprecated and will be removed in a future version.  Convert to a numpy array before indexing instead.\n",
      "\n",
      "c:\\users\\mesza\\.virtualenvs\\road-surface-quality-7nv9hwjf\\lib\\site-packages\\matplotlib\\axes\\_base.py:237: FutureWarning:\n",
      "\n",
      "Support for multi-dimensional indexing (e.g. `obj[:, None]`) is deprecated and will be removed in a future version.  Convert to a numpy array before indexing instead.\n",
      "\n"
     ]
    },
    {
     "data": {
      "text/plain": [
       "[<matplotlib.lines.Line2D at 0x2822c251a08>]"
      ]
     },
     "execution_count": 10,
     "metadata": {},
     "output_type": "execute_result"
    },
    {
     "data": {
      "image/png": "[encoded data removed]",
      "text/plain": [
       "<Figure size 1152x720 with 1 Axes>"
      ]
     },
     "metadata": {
      "needs_background": "light"
     },
     "output_type": "display_data"
    }
   ],
   "source": [
    "x = agg_df.index\n",
    "y = agg_df.iloc[:,0].values\n",
    "plt.plot(x,y)"
   ]
  }
 ],
 "metadata": {
  "kernelspec": {
   "display_name": "Python 3",
   "language": "python",
   "name": "python3"
  },
  "language_info": {
   "codemirror_mode": {
    "name": "ipython",
    "version": 3
   },
   "file_extension": ".py",
   "mimetype": "text/x-python",
   "name": "python",
   "nbconvert_exporter": "python",
   "pygments_lexer": "ipython3",
   "version": "3.7.5"
  },
  "toc": {
   "base_numbering": 1,
   "nav_menu": {},
   "number_sections": true,
   "sideBar": true,
   "skip_h1_title": false,
   "title_cell": "Table of Contents",
   "title_sidebar": "Contents",
   "toc_cell": false,
   "toc_position": {},
   "toc_section_display": true,
   "toc_window_display": false
  },
  "varInspector": {
   "cols": {
    "lenName": 16,
    "lenType": 16,
    "lenVar": 40
   },
   "kernels_config": {
    "python": {
     "delete_cmd_postfix": "",
     "delete_cmd_prefix": "del ",
     "library": "var_list.py",
     "varRefreshCmd": "print(var_dic_list())"
    },
    "r": {
     "delete_cmd_postfix": ") ",
     "delete_cmd_prefix": "rm(",
     "library": "var_list.r",
     "varRefreshCmd": "cat(var_dic_list()) "
    }
   },
   "types_to_exclude": [
    "module",
    "function",
    "builtin_function_or_method",
    "instance",
    "_Feature"
   ],
   "window_display": false
  }
 },
 "nbformat": 4,
 "nbformat_minor": 4
}
