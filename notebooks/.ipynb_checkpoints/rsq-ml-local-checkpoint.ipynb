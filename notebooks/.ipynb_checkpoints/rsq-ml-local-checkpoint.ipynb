{
 "cells": [
  {
   "cell_type": "markdown",
   "metadata": {},
   "source": [
    "# Machine Learning"
   ]
  },
  {
   "cell_type": "markdown",
   "metadata": {},
   "source": [
    "## Import dependencies\n"
   ]
  },
  {
   "cell_type": "code",
   "execution_count": 4,
   "metadata": {
    "ExecuteTime": {
     "end_time": "2020-08-29T17:11:11.365139Z",
     "start_time": "2020-08-29T17:11:11.174246Z"
    }
   },
   "outputs": [],
   "source": [
    "import pandas as pd\n",
    "from sklearn.ensemble import RandomForestClassifier\n",
    "from sklearn.svm import SVC\n",
    "from sklearn.neighbors import KNeighborsClassifier\n",
    "from sklearn.ensemble import AdaBoostClassifier, GradientBoostingClassifier\n",
    "from sklearn.naive_bayes import GaussianNB\n",
    "from sklearn.linear_model import LogisticRegressionCV\n",
    "from sklearn.preprocessing import MinMaxScaler, StandardScaler\n",
    "from sklearn.metrics import accuracy_score, f1_score, precision_score, recall_score\n",
    "import matplotlib.pyplot as plt\n",
    "from sklearn.model_selection import cross_validate\n",
    "from sklearn.metrics import confusion_matrix\n",
    "\n",
    "import seaborn as sns"
   ]
  },
  {
   "cell_type": "markdown",
   "metadata": {},
   "source": [
    "## Read data"
   ]
  },
  {
   "cell_type": "code",
   "execution_count": 5,
   "metadata": {
    "ExecuteTime": {
     "end_time": "2020-08-29T17:11:12.293686Z",
     "start_time": "2020-08-29T17:11:12.277696Z"
    }
   },
   "outputs": [],
   "source": [
    "def read_train_test_data():\n",
    "    \"\"\"Returns: X_train, X_test, X_val, y_train, y_test, y_val\"\"\"\n",
    "    \n",
    "    X_train = pd.read_csv(\"../data/train_test_val/X_train.csv\", \n",
    "                          header=[0], index_col=0).reset_index(drop=True)\n",
    "    X_test = pd.read_csv(\"../data/train_test_val/X_test.csv\", \n",
    "                         header=[0], index_col=0).reset_index(drop=True)\n",
    "    X_val = pd.read_csv(\"../data/train_test_val/X_val.csv\", \n",
    "                        header=[0], index_col=0).reset_index(drop=True)\n",
    "    \n",
    "    X_train = X_train.drop([\"measurementID\",\"id_gps\"], axis=1)\n",
    "    X_val = X_val.drop([\"measurementID\",\"id_gps\"], axis=1)\n",
    "    X_test = X_test.drop([\"measurementID\",\"id_gps\"], axis=1)\n",
    "\n",
    "    y_train = pd.read_csv(\"../data/train_test_val/y_train.csv\", index_col=0)\\\n",
    "        .reset_index(drop=True).values.reshape(-1)\n",
    "    y_val = pd.read_csv(\"../data/train_test_val/y_val.csv\", index_col = 0)\\\n",
    "        .reset_index(drop=True).values.reshape(-1)\n",
    "    y_test = pd.read_csv(\"../data/train_test_val/y_test.csv\", index_col = 0)\\\n",
    "        .reset_index(drop=True).values.reshape(-1)\n",
    "    \n",
    "    return X_train, X_test, X_val, y_train, y_test, y_val"
   ]
  },
  {
   "cell_type": "markdown",
   "metadata": {},
   "source": [
    "### Creating ML Pipeline"
   ]
  },
  {
   "cell_type": "code",
   "execution_count": 6,
   "metadata": {
    "ExecuteTime": {
     "end_time": "2020-08-29T17:11:13.502846Z",
     "start_time": "2020-08-29T17:11:13.493850Z"
    }
   },
   "outputs": [],
   "source": [
    "def define_models():\n",
    "    \n",
    "    rfc = RandomForestClassifier(random_state=42)\n",
    "    svc = SVC(random_state=42)\n",
    "    knc = KNeighborsClassifier()\n",
    "    abc = AdaBoostClassifier(random_state=42)\n",
    "    gbc = GradientBoostingClassifier(random_state=42)\n",
    "    gnb = GaussianNB()\n",
    "    # lr = LogisticRegressionCV(max_iter=500, random_state=42)\n",
    "\n",
    "    models = {\"rfc\": rfc,\"svc\": svc, \"knc\" : knc,\n",
    "              \"abc\" : abc, \"gbc\" : gbc, \"gnb\" :gnb}\n",
    "    \n",
    "    return models"
   ]
  },
  {
   "cell_type": "code",
   "execution_count": 45,
   "metadata": {
    "ExecuteTime": {
     "end_time": "2020-08-29T17:16:46.762324Z",
     "start_time": "2020-08-29T17:16:46.742333Z"
    },
    "scrolled": false
   },
   "outputs": [],
   "source": [
    "def train_models(scaler = False):\n",
    "    \n",
    "    X_train, X_test, X_val, y_train, y_test, y_val = read_train_test_data()\n",
    "    \n",
    "    scaler = StandardScaler()\n",
    "    scaled_X_train = scaler.fit_transform(X_train) \n",
    "    scaled_X_val = scaler.fit_transform(X_val)\n",
    "    scaled_X_test = scaler.fit_transform(X_test)\n",
    "\n",
    "    if scaler:\n",
    "        X_train = scaled_X_train\n",
    "        X_val = scaled_X_val\n",
    "        X_test = scaled_X_test \n",
    "        \n",
    "        \n",
    "        \n",
    "    result = {\"model\" : [],\n",
    "             \"accuracy\" : [],\n",
    "             \"precision\" : [],\n",
    "             \"recall\" : [],\n",
    "             \"cross_val_min\" : [],\n",
    "             \"cross_val_max\" : [],\n",
    "             \"cross_val_delta\" : []}\n",
    "    \n",
    "    models = define_models()\n",
    "\n",
    "    for m in models:\n",
    "\n",
    "        model = models[m].fit(X_train, y_train)\n",
    "        preds = model.predict(X_val)\n",
    "\n",
    "        accuracy = accuracy_score(y_val,preds)\n",
    "        precision = precision_score(y_val,preds,average=\"weighted\")\n",
    "        recall = recall_score(y_val,preds, average=\"weighted\")\n",
    "        f1 = f1_score(y_val, preds, average=\"weighted\")\n",
    "\n",
    "#         print(\"Metrics on Validation Dataset:\")\n",
    "#         print(\"\\n\")\n",
    "\n",
    "#         print(f\"Accuracy {m}: {accuracy}\")\n",
    "#         print(f\"Precision {m}: {precision}\")\n",
    "#         print(f\"Recall {m}: {recall}\")\n",
    "#         print(f\"F1 Score {m}: {f1}\")\n",
    "\n",
    "#         print(\"\\n\")\n",
    "#         print(\"Cross Validation on Test Dataset:\")\n",
    "#         print(\"\\n\")\n",
    "        cv = cross_validate(model,\n",
    "                            X =  X_test,\n",
    "                            y = np.ravel(y_test),\n",
    "                            cv = 10)\n",
    "\n",
    "#         print(\"{} accuracy is {:.2f}±{:.2f}\".format(m,cv[\"test_score\"].mean()*100,cv[\"test_score\"].std()*100))\n",
    "\n",
    "\n",
    "#         print(\"\\n\")\n",
    "#         print(\"Test Scores:\\n min: {}\\n max: {}\\n delta: {}\"\\\n",
    "#               .format(cv[\"test_score\"].min(), \n",
    "#                       cv[\"test_score\"].max(),\n",
    "#                       cv[\"test_score\"].max()-cv[\"test_score\"].min()))\n",
    "#         print(\"\\n\")\n",
    "#         print(\"*\"*20)\n",
    "#         print(\"\\n\")\n",
    "\n",
    "        cm = confusion_matrix(y_val,preds)\n",
    "\n",
    "        fig = plt.figure()\n",
    "        fig = plt.title(m)\n",
    "        sns.heatmap(cm, cmap=\"viridis\", annot= True, cbar = False)\n",
    "        \n",
    "        result[\"model\"].append(m)\n",
    "        result[\"accuracy\"].append(accuracy)\n",
    "        result[\"precision\"].append(precision)\n",
    "        result[\"recall\"].append(recall)\n",
    "        result[\"cross_val_min\"].append(cv[\"test_score\"].min())\n",
    "        result[\"cross_val_max\"].append(cv[\"test_score\"].max())\n",
    "        result[\"cross_val_delta\"].append(cv[\"test_score\"].max()-cv[\"test_score\"].min())\n",
    "        \n",
    "    summary = pd.DataFrame(result)\n",
    "    \n",
    "    return summary\n",
    "        "
   ]
  },
  {
   "cell_type": "code",
   "execution_count": 46,
   "metadata": {
    "ExecuteTime": {
     "end_time": "2020-08-29T17:17:04.625574Z",
     "start_time": "2020-08-29T17:16:47.319496Z"
    },
    "scrolled": false
   },
   "outputs": [
    {
     "data": {
      "image/png": "[encoded data removed]",
      "text/plain": [
       "<Figure size 432x288 with 1 Axes>"
      ]
     },
     "metadata": {
      "needs_background": "light"
     },
     "output_type": "display_data"
    },
    {
     "data": {
      "image/png": "[encoded data removed]",
      "text/plain": [
       "<Figure size 432x288 with 1 Axes>"
      ]
     },
     "metadata": {
      "needs_background": "light"
     },
     "output_type": "display_data"
    },
    {
     "data": {
      "image/png": "[encoded data removed]",
      "text/plain": [
       "<Figure size 432x288 with 1 Axes>"
      ]
     },
     "metadata": {
      "needs_background": "light"
     },
     "output_type": "display_data"
    },
    {
     "data": {
      "image/png": "[encoded data removed]",
      "text/plain": [
       "<Figure size 432x288 with 1 Axes>"
      ]
     },
     "metadata": {
      "needs_background": "light"
     },
     "output_type": "display_data"
    },
    {
     "data": {
      "image/png": "[encoded data removed]",
      "text/plain": [
       "<Figure size 432x288 with 1 Axes>"
      ]
     },
     "metadata": {
      "needs_background": "light"
     },
     "output_type": "display_data"
    },
    {
     "data": {
      "image/png": "[encoded data removed]",
      "text/plain": [
       "<Figure size 432x288 with 1 Axes>"
      ]
     },
     "metadata": {
      "needs_background": "light"
     },
     "output_type": "display_data"
    }
   ],
   "source": [
    "summary = train_models()"
   ]
  },
  {
   "cell_type": "code",
   "execution_count": 47,
   "metadata": {
    "ExecuteTime": {
     "end_time": "2020-08-29T17:17:04.892419Z",
     "start_time": "2020-08-29T17:17:04.863442Z"
    }
   },
   "outputs": [
    {
     "data": {
      "text/html": [
       "<div>\n",
       "<style scoped>\n",
       "    .dataframe tbody tr th:only-of-type {\n",
       "        vertical-align: middle;\n",
       "    }\n",
       "\n",
       "    .dataframe tbody tr th {\n",
       "        vertical-align: top;\n",
       "    }\n",
       "\n",
       "    .dataframe thead th {\n",
       "        text-align: right;\n",
       "    }\n",
       "</style>\n",
       "<table border=\"1\" class=\"dataframe\">\n",
       "  <thead>\n",
       "    <tr style=\"text-align: right;\">\n",
       "      <th></th>\n",
       "      <th>model</th>\n",
       "      <th>accuracy</th>\n",
       "      <th>precision</th>\n",
       "      <th>recall</th>\n",
       "      <th>cross_val_min</th>\n",
       "      <th>cross_val_max</th>\n",
       "      <th>cross_val_delta</th>\n",
       "    </tr>\n",
       "  </thead>\n",
       "  <tbody>\n",
       "    <tr>\n",
       "      <th>0</th>\n",
       "      <td>rfc</td>\n",
       "      <td>0.951662</td>\n",
       "      <td>0.952894</td>\n",
       "      <td>0.951662</td>\n",
       "      <td>0.826087</td>\n",
       "      <td>1.0</td>\n",
       "      <td>0.173913</td>\n",
       "    </tr>\n",
       "    <tr>\n",
       "      <th>1</th>\n",
       "      <td>svc</td>\n",
       "      <td>0.951662</td>\n",
       "      <td>0.951684</td>\n",
       "      <td>0.951662</td>\n",
       "      <td>0.869565</td>\n",
       "      <td>1.0</td>\n",
       "      <td>0.130435</td>\n",
       "    </tr>\n",
       "    <tr>\n",
       "      <th>2</th>\n",
       "      <td>knc</td>\n",
       "      <td>0.951662</td>\n",
       "      <td>0.952129</td>\n",
       "      <td>0.951662</td>\n",
       "      <td>0.739130</td>\n",
       "      <td>1.0</td>\n",
       "      <td>0.260870</td>\n",
       "    </tr>\n",
       "    <tr>\n",
       "      <th>3</th>\n",
       "      <td>abc</td>\n",
       "      <td>0.942598</td>\n",
       "      <td>0.943574</td>\n",
       "      <td>0.942598</td>\n",
       "      <td>0.869565</td>\n",
       "      <td>1.0</td>\n",
       "      <td>0.130435</td>\n",
       "    </tr>\n",
       "    <tr>\n",
       "      <th>4</th>\n",
       "      <td>gbc</td>\n",
       "      <td>0.957704</td>\n",
       "      <td>0.958422</td>\n",
       "      <td>0.957704</td>\n",
       "      <td>0.869565</td>\n",
       "      <td>1.0</td>\n",
       "      <td>0.130435</td>\n",
       "    </tr>\n",
       "    <tr>\n",
       "      <th>5</th>\n",
       "      <td>gnb</td>\n",
       "      <td>0.942598</td>\n",
       "      <td>0.943134</td>\n",
       "      <td>0.942598</td>\n",
       "      <td>0.826087</td>\n",
       "      <td>1.0</td>\n",
       "      <td>0.173913</td>\n",
       "    </tr>\n",
       "  </tbody>\n",
       "</table>\n",
       "</div>"
      ],
      "text/plain": [
       "  model  accuracy  precision    recall  cross_val_min  cross_val_max  \\\n",
       "0   rfc  0.951662   0.952894  0.951662       0.826087            1.0   \n",
       "1   svc  0.951662   0.951684  0.951662       0.869565            1.0   \n",
       "2   knc  0.951662   0.952129  0.951662       0.739130            1.0   \n",
       "3   abc  0.942598   0.943574  0.942598       0.869565            1.0   \n",
       "4   gbc  0.957704   0.958422  0.957704       0.869565            1.0   \n",
       "5   gnb  0.942598   0.943134  0.942598       0.826087            1.0   \n",
       "\n",
       "   cross_val_delta  \n",
       "0         0.173913  \n",
       "1         0.130435  \n",
       "2         0.260870  \n",
       "3         0.130435  \n",
       "4         0.130435  \n",
       "5         0.173913  "
      ]
     },
     "execution_count": 47,
     "metadata": {},
     "output_type": "execute_result"
    }
   ],
   "source": [
    "summary"
   ]
  },
  {
   "cell_type": "markdown",
   "metadata": {},
   "source": [
    "## Hyperparameter tuning"
   ]
  },
  {
   "cell_type": "code",
   "execution_count": 10,
   "metadata": {
    "ExecuteTime": {
     "end_time": "2020-08-29T17:11:35.301346Z",
     "start_time": "2020-08-29T17:11:35.296352Z"
    }
   },
   "outputs": [],
   "source": [
    "from sklearn.model_selection import RandomizedSearchCV\n",
    "from sklearn.model_selection import GridSearchCV"
   ]
  },
  {
   "cell_type": "raw",
   "metadata": {
    "ExecuteTime": {
     "end_time": "2020-08-26T18:54:14.192761Z",
     "start_time": "2020-08-26T18:53:45.531210Z"
    }
   },
   "source": [
    "params = {\n",
    "        \"min_samples_leaf\": [1,2,3 ,4, 8,16,20],\n",
    "        \"min_samples_split\": [2, 4, 8, 12],\n",
    "        \"n_estimators\": [100, 400, 800,1200]\n",
    "}\n",
    "\n",
    "rfc_search = RandomizedSearchCV(rfc, \n",
    "                                params, \n",
    "                                n_iter=36,\n",
    "#                                 average = \"weighted\",\n",
    "                                scoring=\"recall_weighted\",\n",
    "                                random_state=42)\n",
    "\n",
    "rfc_search.fit(scaled_X_train, y_train)"
   ]
  },
  {
   "cell_type": "raw",
   "metadata": {
    "ExecuteTime": {
     "end_time": "2020-08-25T19:30:48.206438Z",
     "start_time": "2020-08-25T19:25:32.678572Z"
    }
   },
   "source": [
    "params = {\n",
    "        \"max_depth\": [None, 4],\n",
    "        \"min_samples_leaf\": [1, 2, 3 ,4],\n",
    "        \"min_samples_split\": [2, 4, 8],\n",
    "        \"n_estimators\": [20, 80, 100, 400]\n",
    "}\n",
    "\n",
    "rfc_search = GridSearchCV(rfc, \n",
    "                          params\n",
    "                         )\n",
    "\n",
    "rfc_search.fit(scaled_X_train, y_train)"
   ]
  },
  {
   "cell_type": "markdown",
   "metadata": {},
   "source": [
    "### Cross Validation"
   ]
  },
  {
   "cell_type": "code",
   "execution_count": 11,
   "metadata": {
    "ExecuteTime": {
     "end_time": "2020-08-29T17:11:35.504235Z",
     "start_time": "2020-08-29T17:11:35.329331Z"
    }
   },
   "outputs": [],
   "source": [
    "X_train, X_test, X_val, y_train, y_test, y_val = read_train_test_data()"
   ]
  },
  {
   "cell_type": "code",
   "execution_count": 16,
   "metadata": {
    "ExecuteTime": {
     "end_time": "2020-08-29T17:12:13.721420Z",
     "start_time": "2020-08-29T17:12:13.683443Z"
    }
   },
   "outputs": [],
   "source": [
    "svc = SVC(random_state=42)\n",
    "svc.fit(X_train,train)\n",
    "preds = svc.predict(X_test)"
   ]
  },
  {
   "cell_type": "code",
   "execution_count": 34,
   "metadata": {
    "ExecuteTime": {
     "end_time": "2020-08-29T17:15:47.127715Z",
     "start_time": "2020-08-29T17:15:46.642977Z"
    }
   },
   "outputs": [],
   "source": [
    "rfc = RandomForestClassifier(random_state=42)\n",
    "rfc.fit(X_train,y_train)\n",
    "preds = rfc.predict(X_test)"
   ]
  },
  {
   "cell_type": "code",
   "execution_count": 35,
   "metadata": {
    "ExecuteTime": {
     "end_time": "2020-08-29T17:15:47.563475Z",
     "start_time": "2020-08-29T17:15:47.559478Z"
    }
   },
   "outputs": [],
   "source": [
    "from sklearn.model_selection import cross_validate\n",
    "from sklearn.metrics import confusion_matrix"
   ]
  },
  {
   "cell_type": "code",
   "execution_count": 36,
   "metadata": {
    "ExecuteTime": {
     "end_time": "2020-08-29T17:15:48.483691Z",
     "start_time": "2020-08-29T17:15:48.370761Z"
    }
   },
   "outputs": [
    {
     "name": "stdout",
     "output_type": "stream",
     "text": [
      "Model accuracy is 93.50±4.02\n",
      "{'fit_time': array([0.00699568, 0.00699663, 0.00599551, 0.00699639, 0.00599623,\n",
      "       0.00699306, 0.00699806, 0.00599432, 0.00799632, 0.00599575]), 'score_time': array([0.0010004 , 0.00099945, 0.00099802, 0.0010004 , 0.0009985 ,\n",
      "       0.00100088, 0.00199723, 0.00099969, 0.00099945, 0.00300097]), 'test_score': array([0.95833333, 0.95652174, 0.86956522, 0.91304348, 0.86956522,\n",
      "       0.95652174, 0.91304348, 0.95652174, 0.95652174, 1.        ])}\n"
     ]
    }
   ],
   "source": [
    "cv = cross_validate(svc,\n",
    "               X =  scaled_X_test,\n",
    "               y = np.ravel(y_test),\n",
    "                   cv = 10)\n",
    "\n",
    "print(\"Model accuracy is {:.2f}±{:.2f}\".format(cv[\"test_score\"].mean()*100,cv[\"test_score\"].std()*100))\n",
    "print(cv)"
   ]
  },
  {
   "cell_type": "code",
   "execution_count": 37,
   "metadata": {
    "ExecuteTime": {
     "end_time": "2020-08-29T17:15:50.336480Z",
     "start_time": "2020-08-29T17:15:50.331484Z"
    }
   },
   "outputs": [],
   "source": [
    "cm = confusion_matrix(y_test,preds)"
   ]
  },
  {
   "cell_type": "code",
   "execution_count": 38,
   "metadata": {
    "ExecuteTime": {
     "end_time": "2020-08-29T17:15:50.894160Z",
     "start_time": "2020-08-29T17:15:50.712262Z"
    }
   },
   "outputs": [
    {
     "data": {
      "text/plain": [
       "<matplotlib.axes._subplots.AxesSubplot at 0x2200b6bbc48>"
      ]
     },
     "execution_count": 38,
     "metadata": {},
     "output_type": "execute_result"
    },
    {
     "data": {
      "image/png": "[encoded data removed]",
      "text/plain": [
       "<Figure size 432x288 with 1 Axes>"
      ]
     },
     "metadata": {
      "needs_background": "light"
     },
     "output_type": "display_data"
    }
   ],
   "source": [
    "sns.heatmap(cm, cmap=\"viridis\", annot= True, cbar = False)"
   ]
  },
  {
   "cell_type": "markdown",
   "metadata": {},
   "source": [
    "## Save the model"
   ]
  },
  {
   "cell_type": "code",
   "execution_count": 16,
   "metadata": {
    "ExecuteTime": {
     "end_time": "2020-08-29T17:05:50.439658Z",
     "start_time": "2020-08-29T17:05:50.275754Z"
    }
   },
   "outputs": [
    {
     "data": {
      "text/plain": [
       "['../models/rfc_v14.joblib']"
      ]
     },
     "execution_count": 16,
     "metadata": {},
     "output_type": "execute_result"
    }
   ],
   "source": [
    "from joblib import dump, load\n",
    "dump(rfc, '../models/rfc_v14.joblib') "
   ]
  },
  {
   "cell_type": "markdown",
   "metadata": {},
   "source": [
    "# Evaluate\n"
   ]
  },
  {
   "cell_type": "code",
   "execution_count": 18,
   "metadata": {
    "ExecuteTime": {
     "end_time": "2020-08-29T17:12:22.366464Z",
     "start_time": "2020-08-29T17:12:21.632887Z"
    }
   },
   "outputs": [],
   "source": [
    "from processing_funcs import *\n",
    "from scipy.stats import norm, kurtosis\n",
    "from scipy import signal\n",
    "import glob"
   ]
  },
  {
   "cell_type": "code",
   "execution_count": 19,
   "metadata": {
    "ExecuteTime": {
     "end_time": "2020-08-29T17:12:26.794925Z",
     "start_time": "2020-08-29T17:12:22.532369Z"
    }
   },
   "outputs": [],
   "source": [
    "df = read_all(1/50)\n",
    "\n",
    "ok = df[df[\"label\"] == 0]\n",
    "nok = df[df[\"label\"] == 1]"
   ]
  },
  {
   "cell_type": "code",
   "execution_count": 353,
   "metadata": {
    "ExecuteTime": {
     "end_time": "2020-08-29T16:10:39.535515Z",
     "start_time": "2020-08-29T16:10:38.661015Z"
    }
   },
   "outputs": [],
   "source": [
    "test = read_measurement(\"../data/raw_data_train/test/*\", 1/50)"
   ]
  },
  {
   "cell_type": "code",
   "execution_count": 39,
   "metadata": {
    "ExecuteTime": {
     "end_time": "2020-08-29T17:15:52.527504Z",
     "start_time": "2020-08-29T17:15:52.515511Z"
    }
   },
   "outputs": [],
   "source": [
    "def kurtosis_time(x):\n",
    "\n",
    "    return kurtosis(x, fisher=True)\n",
    "\n",
    "def rms_100(x):\n",
    "\n",
    "    return np.sqrt(np.mean(x**2))\n",
    "\n",
    "def crest(x):\n",
    "\n",
    "    return max(abs(x))/np.sqrt(np.mean(x**2))\n",
    "\n",
    "def create_aggregated(df):\n",
    "    \"\"\"Create a aggregated dataframe in time domain\"\"\"\n",
    "    signals = ['x_lin_acc', 'y_lin_acc', \"z_lin_acc\", \n",
    "               'x_acc', 'y_acc', 'z_acc',\n",
    "               'x_gyro', 'y_gyro', 'z_gyro']\n",
    "\n",
    "    agg_df = df.groupby([\"measurementID\",\"id_gps\"]).agg({x: [\"sum\", \"mean\", \"mad\",\n",
    "                                                \"median\", \"min\", \"max\",\n",
    "                                                \"std\", \"var\", \"sem\",\n",
    "                                                \"skew\", \"quantile\",\n",
    "                                                kurtosis_time, rms_100,\n",
    "                                                crest] for x in signals})\n",
    "    \n",
    "    new_cols = []\n",
    "    \n",
    "    for k,i in enumerate(agg_df.columns):\n",
    "        \n",
    "        new_cols.append(i[0] + \"_\" +  i[1])\n",
    "\n",
    "    agg_df.columns = new_cols\n",
    "    \n",
    "    return agg_df"
   ]
  },
  {
   "cell_type": "code",
   "execution_count": 40,
   "metadata": {
    "ExecuteTime": {
     "end_time": "2020-08-29T17:16:06.144173Z",
     "start_time": "2020-08-29T17:15:53.662282Z"
    }
   },
   "outputs": [],
   "source": [
    "feature_df = create_aggregated(ok).reset_index()"
   ]
  },
  {
   "cell_type": "code",
   "execution_count": 22,
   "metadata": {
    "ExecuteTime": {
     "end_time": "2020-08-29T17:12:47.450083Z",
     "start_time": "2020-08-29T17:12:47.419101Z"
    }
   },
   "outputs": [],
   "source": [
    "scaler = StandardScaler()\n",
    "scaled = scaler.fit_transform(feature_df.drop([\"measurementID\", \"id_gps\"],axis = 1))"
   ]
  },
  {
   "cell_type": "code",
   "execution_count": 42,
   "metadata": {
    "ExecuteTime": {
     "end_time": "2020-08-29T17:16:25.455545Z",
     "start_time": "2020-08-29T17:16:25.406572Z"
    }
   },
   "outputs": [],
   "source": [
    "#scaled\n",
    "# pred = rfc.predict(scaled)\n",
    "# not scaled\n",
    "pred = rfc.predict(feature_df.drop([\"measurementID\", \"id_gps\"], axis = 1))"
   ]
  },
  {
   "cell_type": "code",
   "execution_count": 43,
   "metadata": {
    "ExecuteTime": {
     "end_time": "2020-08-29T17:16:26.060551Z",
     "start_time": "2020-08-29T17:16:26.040559Z"
    }
   },
   "outputs": [],
   "source": [
    "map_df = pd.concat([ok[[\"measurementID\", \"id_gps\", \"lat\", \"lon\"]]\\\n",
    "                    .groupby([\"measurementID\",\"id_gps\"])\\\n",
    "                    .max()\\\n",
    "                    .reset_index(), \n",
    "                    pd.DataFrame({\"label\" : pred})], axis=1)"
   ]
  },
  {
   "cell_type": "code",
   "execution_count": 44,
   "metadata": {
    "ExecuteTime": {
     "end_time": "2020-08-29T17:16:27.026006Z",
     "start_time": "2020-08-29T17:16:26.871078Z"
    }
   },
   "outputs": [
    {
     "data": {
      "application/vnd.plotly.v1+json": {
       "config": {
        "plotlyServerURL": "https://plot.ly"
       },
       "data": [
        {
         "hovertemplate": "lat=%{lat}<br>lon=%{lon}<br>label=%{marker.color}<extra></extra>",
         "lat": [
          47.69526655,
          47.69533469,
          47.69527313,
          47.695239,
          47.69520087,
          47.69516161,
          47.69510415,
          47.69505844,
          47.69499758,
          47.69497979,
          47.69487235,
          47.69479439,
          47.6947225,
          47.6946441,
          47.69456352,
          47.69448463,
          47.69440874,
          47.69432852,
          47.69425449,
          47.69418072,
          47.69410587,
          47.69403416,
          47.69395916,
          47.6938922,
          47.69382682,
          47.69376128,
          47.69369824,
          47.69363971,
          47.69358324,
          47.69353168,
          47.69348651,
          47.69345301,
          47.6934229,
          47.69341402,
          47.69341418,
          47.69343899,
          47.69349133,
          47.6935126,
          47.69352291,
          47.69354853,
          47.69359475,
          47.69365501,
          47.69374551,
          47.69384689,
          47.69396913,
          47.69410167,
          47.69423654,
          47.69440081,
          47.69459634,
          47.69478457,
          47.69498694,
          47.69518663,
          47.69537605,
          47.69557274,
          47.69574743,
          47.69593179,
          47.69612109,
          47.69631076,
          47.69649372,
          47.6966681,
          47.6968474,
          47.69702329,
          47.69719417,
          47.69736398,
          47.69754128,
          47.69771323,
          47.69788579,
          47.69806462,
          47.69823402,
          47.69839986,
          47.69857277,
          47.6987422,
          47.6989134,
          47.69908023,
          47.69926042,
          47.69943186,
          47.69961467,
          47.69978786,
          47.69996278,
          47.70011406,
          47.7003039,
          47.70047986,
          47.70064942,
          47.70082647,
          47.70099939,
          47.70116929,
          47.70133499,
          47.70150389,
          47.70169931,
          47.70186667,
          47.7020359,
          47.70221293,
          47.7024041,
          47.70258982,
          47.70276938,
          47.70294713,
          47.70312841,
          47.70328294,
          47.70345879,
          47.70364579,
          47.70381609,
          47.70399917,
          47.70416727,
          47.70433194,
          47.70448049,
          47.70463911,
          47.70480457,
          47.70494827,
          47.70510658,
          47.70526398,
          47.70540867,
          47.70554969,
          47.70567655,
          47.70577672,
          47.70585257,
          47.70587416,
          47.70591724,
          47.70594344,
          47.70593976,
          47.70599465,
          47.7060648,
          47.70616311,
          47.70628877,
          47.70639797,
          47.70644453,
          47.70659179,
          47.70673607,
          47.7068991,
          47.70707867,
          47.70725699,
          47.70745169,
          47.70765161,
          47.70785912,
          47.70806957,
          47.70827464,
          47.7084664,
          47.70868335,
          47.70891349,
          47.70912917,
          47.70934949,
          47.70957326,
          47.70980212,
          47.71002658,
          47.71024255,
          47.71045112,
          47.71067797,
          47.71089223,
          47.71110405,
          47.71133189,
          47.71153237,
          47.71174436,
          47.71193938,
          47.71214637,
          47.71234294,
          47.71255536,
          47.71273476,
          47.71292555,
          47.71311164,
          47.71329522,
          47.71346726,
          47.71364766,
          47.71381812,
          47.71398653,
          47.71414915,
          47.71431548,
          47.71447192,
          47.71460346,
          47.71470974,
          47.71482146,
          47.71498862,
          47.71512725,
          47.71520277,
          47.71525163,
          47.71528162,
          47.7152632,
          47.71524327,
          47.71514439,
          47.71517796,
          47.71521376,
          47.71524441,
          47.71534881,
          47.71544852,
          47.71556297,
          47.71568256,
          47.71583493,
          47.71597274,
          47.71609706,
          47.71623874,
          47.71638762,
          47.71660239,
          47.71675382,
          47.71692127,
          47.71709853,
          47.71727754,
          47.71744615,
          47.71754413,
          47.71763918,
          47.71771227,
          47.71779442,
          47.71789156,
          47.71794181,
          47.71798098,
          47.71799209,
          47.71796472,
          47.71791406,
          47.71778288,
          47.71762796,
          47.71759568,
          47.71759543,
          47.71739604,
          47.71722636,
          47.71706009,
          47.71690479,
          47.71674597,
          47.71658065,
          47.71638527,
          47.71624449,
          47.71608947,
          47.71594433,
          47.71577924,
          47.71561731,
          47.71548414,
          47.71536611,
          47.71528829,
          47.71520822,
          47.71514305,
          47.71507672,
          47.71502041,
          47.71497578,
          47.71480634,
          47.71478181,
          47.7147601,
          47.71477626,
          47.71465635,
          47.71453987,
          47.71441561,
          47.71428123,
          47.71410086,
          47.71392762,
          47.71375666,
          47.71357779,
          47.71338703,
          47.71322823,
          47.71303478,
          47.71283527,
          47.71263343,
          47.71244341,
          47.71224178,
          47.71204217,
          47.71182626,
          47.71162565,
          47.71140876,
          47.71119947,
          47.71098348,
          47.71078078,
          47.71057751,
          47.71038021,
          47.71017205,
          47.70998613,
          47.70977851,
          47.70957784,
          47.7093597,
          47.70914606,
          47.708937,
          47.70872411,
          47.70850452,
          47.7082965,
          47.70810523,
          47.70792423,
          47.70776281,
          47.70758319,
          47.70740554,
          47.70723597,
          47.7070715,
          47.70693226,
          47.70680432,
          47.7066934,
          47.7065859,
          47.70649683,
          47.70643211,
          47.70637234,
          47.70631753,
          47.70630571,
          47.7063014,
          47.70633035,
          47.70636909,
          47.70640346,
          47.70645125,
          47.70649236,
          47.70653453,
          47.70656439,
          47.7065851,
          47.70660688,
          47.70662328,
          47.70663427,
          47.70664471,
          47.70664991,
          47.70665769,
          47.70666004,
          47.70665701,
          47.70664975,
          47.70666412,
          47.70667882,
          47.70669172,
          47.70669225,
          47.70668873,
          47.70668454,
          47.70667942,
          47.7066747,
          47.7066699,
          47.70666369,
          47.7066565,
          47.70664972,
          47.70664311,
          47.70663477,
          47.70664927,
          47.70663143,
          47.70662316,
          47.70661206,
          47.70660171,
          47.70658545,
          47.7065663,
          47.70653753,
          47.70651199,
          47.70648924,
          47.70647645,
          47.70645927,
          47.70644628,
          47.70642352,
          47.70639905,
          47.70638041,
          47.70636628,
          47.70635627,
          47.70633896,
          47.70632681,
          47.70632366,
          47.70632072,
          47.70631459,
          47.70628494,
          47.70626011,
          47.70623869,
          47.70622677,
          47.70621192,
          47.70619327,
          47.70618817,
          47.70617124,
          47.70614436,
          47.70612824,
          47.70613219,
          47.70612935,
          47.70611636,
          47.70611993,
          47.70611879,
          47.70610833,
          47.70609263,
          47.70607744,
          47.70607634,
          47.70606098,
          47.70603662,
          47.70602096,
          47.70598926,
          47.70596042,
          47.70595191,
          47.70594676,
          47.70593454,
          47.70590935,
          47.70590281,
          47.70588877,
          47.7058698,
          47.70584833,
          47.70582647,
          47.70582006,
          47.70580543,
          47.70579223,
          47.70578513,
          47.70578172,
          47.70576362,
          47.70574754,
          47.70572522,
          47.70571558,
          47.70570659,
          47.70569597,
          47.70569032,
          47.7056759,
          47.70565796,
          47.70563618,
          47.70562478,
          47.70562613,
          47.7056139,
          47.70559711,
          47.70558937,
          47.70556382,
          47.70554005,
          47.70552368,
          47.70550679,
          47.70550117,
          47.70550417,
          47.70549447,
          47.70542545,
          47.70533961,
          47.70525021,
          47.70515946,
          47.70506502,
          47.70496659,
          47.70483356,
          47.70472557,
          47.70461746,
          47.70452807,
          47.70448971,
          47.70458179,
          47.70464655,
          47.70471122,
          47.70477334,
          47.70483128,
          47.70489468,
          47.70495525,
          47.70501485,
          47.70507357,
          47.70511346,
          47.7051651,
          47.70520575,
          47.70525959,
          47.7054843,
          47.70547104,
          47.70546768,
          47.70547688,
          47.70548827,
          47.70549797,
          47.70550098,
          47.70551509,
          47.70551562,
          47.70551814,
          47.70552626,
          47.70552414,
          47.70553369,
          47.70554676,
          47.70554493,
          47.70556493,
          47.70557821,
          47.70557339,
          47.70557464,
          47.70558562,
          47.70559582,
          47.70559665,
          47.7056044,
          47.70560762,
          47.70561112,
          47.70561808,
          47.70563013,
          47.70563945,
          47.70565446,
          47.70566206,
          47.70567164,
          47.7056805,
          47.70569517,
          47.70570597,
          47.70571727,
          47.70573507,
          47.70574949,
          47.70575992,
          47.70577168,
          47.7057868,
          47.70580049,
          47.70580882,
          47.70582191,
          47.70582209,
          47.70583168,
          47.70584264,
          47.70584986,
          47.70586981,
          47.70590173,
          47.70592422,
          47.70594475,
          47.70595994,
          47.70596642,
          47.70598563,
          47.70599906,
          47.70599977,
          47.70600337,
          47.70601845,
          47.70603199,
          47.70604627,
          47.70606099,
          47.70607526,
          47.70609023,
          47.70610624,
          47.70612294,
          47.70613654,
          47.70614963,
          47.70617834,
          47.7062003,
          47.70620023,
          47.70622963,
          47.70624181,
          47.70626693,
          47.70627545,
          47.70629129,
          47.70631074,
          47.70631331,
          47.70633141,
          47.70632918,
          47.70632622,
          47.70633697,
          47.70635581,
          47.70637844,
          47.70640541,
          47.70641323,
          47.70642839,
          47.70645336,
          47.70647468,
          47.70649607,
          47.70649979,
          47.70651417,
          47.70652551,
          47.7065348,
          47.70655255,
          47.70657149,
          47.70657198,
          47.70657438,
          47.70659476,
          47.706613,
          47.7066349,
          47.70663058,
          47.70662135,
          47.70661086,
          47.70662419,
          47.70662678,
          47.70662221,
          47.70661186,
          47.70661021,
          47.70661259,
          47.70661456,
          47.70661644,
          47.70660819,
          47.70658769,
          47.70655996,
          47.7065332,
          47.70651098,
          47.70648898,
          47.70646124,
          47.70642447,
          47.70639024,
          47.70635617,
          47.7063279,
          47.70629865,
          47.70626931,
          47.70625279,
          47.70624771,
          47.70597353,
          47.7060967,
          47.70606347,
          47.70606528,
          47.705862,
          47.70574789,
          47.70563312,
          47.70551769,
          47.70537696,
          47.705276,
          47.70517641,
          47.70514537,
          47.70506797
         ],
         "legendgroup": "",
         "lon": [
          17.72453165,
          17.72441182,
          17.72427204,
          17.72412351,
          17.72396356,
          17.72380069,
          17.72361901,
          17.72344114,
          17.72321189,
          17.72310353,
          17.7228713,
          17.72263084,
          17.72240913,
          17.72216734,
          17.7219188,
          17.7216755,
          17.72144145,
          17.72119405,
          17.72096573,
          17.72073832,
          17.72050762,
          17.72028659,
          17.72005539,
          17.719849,
          17.71964749,
          17.71944546,
          17.71925114,
          17.71907074,
          17.71889667,
          17.71873776,
          17.71859865,
          17.71849554,
          17.71840287,
          17.71824891,
          17.7181574,
          17.71805828,
          17.71795747,
          17.71788822,
          17.71780694,
          17.71755187,
          17.71742384,
          17.71731615,
          17.71720397,
          17.71710312,
          17.71700315,
          17.71691755,
          17.71686185,
          17.71681376,
          17.71678969,
          17.71680092,
          17.71682722,
          17.71685373,
          17.71687887,
          17.71690498,
          17.71692817,
          17.71695264,
          17.71697777,
          17.71700294,
          17.71702802,
          17.71705248,
          17.71707803,
          17.71710453,
          17.71713027,
          17.71715609,
          17.7171839,
          17.71721087,
          17.71723793,
          17.71726598,
          17.71729203,
          17.71731727,
          17.71734359,
          17.71736916,
          17.71739398,
          17.71741817,
          17.7174443,
          17.71746916,
          17.71749412,
          17.71751586,
          17.71753618,
          17.71754313,
          17.71753448,
          17.71752565,
          17.71751661,
          17.71750405,
          17.71748622,
          17.71746238,
          17.71743499,
          17.71740126,
          17.71736711,
          17.71733477,
          17.71727893,
          17.71721822,
          17.71715206,
          17.71708441,
          17.71701478,
          17.71693324,
          17.71684514,
          17.71676622,
          17.7166769,
          17.71658855,
          17.7165095,
          17.7164262,
          17.716355,
          17.71629993,
          17.71625874,
          17.7162181,
          17.71622405,
          17.71623257,
          17.71624593,
          17.7162844,
          17.71634476,
          17.71640482,
          17.71646183,
          17.71651492,
          17.71655835,
          17.71674129,
          17.7168453,
          17.71698635,
          17.71713677,
          17.71726427,
          17.7173512,
          17.71740204,
          17.71739892,
          17.71730732,
          17.71720753,
          17.71698212,
          17.71692468,
          17.716887,
          17.71686647,
          17.71683047,
          17.71680501,
          17.71675044,
          17.71667022,
          17.71657542,
          17.71648179,
          17.71639403,
          17.71633188,
          17.71624061,
          17.71615359,
          17.71605444,
          17.71595014,
          17.71585736,
          17.7157787,
          17.7156772,
          17.71559203,
          17.71546748,
          17.71538356,
          17.71531791,
          17.71522539,
          17.71516242,
          17.7150813,
          17.71499099,
          17.7149029,
          17.71482164,
          17.71472379,
          17.71461039,
          17.71448188,
          17.71435063,
          17.71421787,
          17.71410223,
          17.71398678,
          17.71384823,
          17.713711,
          17.71358278,
          17.71346951,
          17.71336346,
          17.71327496,
          17.71321908,
          17.71315404,
          17.71339065,
          17.7133281,
          17.71321852,
          17.71314558,
          17.71293261,
          17.71277327,
          17.71272175,
          17.71244956,
          17.71225104,
          17.71205113,
          17.71188807,
          17.71164644,
          17.7114419,
          17.7112331,
          17.71105688,
          17.71087219,
          17.71071008,
          17.71056719,
          17.71041861,
          17.71028901,
          17.71014281,
          17.71004784,
          17.70994746,
          17.70985455,
          17.70980626,
          17.70976076,
          17.70973431,
          17.70970488,
          17.70978611,
          17.70989489,
          17.70992461,
          17.70983834,
          17.70973676,
          17.70959337,
          17.70946264,
          17.70937207,
          17.7092903,
          17.70935365,
          17.70950037,
          17.70950094,
          17.70982963,
          17.70990253,
          17.70996453,
          17.71003695,
          17.71010403,
          17.71018081,
          17.71028431,
          17.71037945,
          17.71050647,
          17.71065999,
          17.71083633,
          17.71102617,
          17.71123189,
          17.71143107,
          17.71164069,
          17.71186282,
          17.71208852,
          17.71228102,
          17.71243145,
          17.71256319,
          17.71261847,
          17.71270058,
          17.7128153,
          17.71282706,
          17.71316401,
          17.71328339,
          17.71339862,
          17.71350452,
          17.71359632,
          17.71370696,
          17.71381093,
          17.71393571,
          17.71407333,
          17.71418406,
          17.71431869,
          17.71443299,
          17.71454925,
          17.71467837,
          17.71480892,
          17.71489235,
          17.71497093,
          17.71506274,
          17.71514406,
          17.7152273,
          17.7153056,
          17.71539504,
          17.7154833,
          17.71556688,
          17.71565078,
          17.7157242,
          17.71580619,
          17.71588901,
          17.71598521,
          17.71608298,
          17.7162126,
          17.71628278,
          17.71636299,
          17.7164303,
          17.71651279,
          17.71658634,
          17.71664063,
          17.71673227,
          17.71681376,
          17.71687484,
          17.71690109,
          17.7169117,
          17.71696304,
          17.71698614,
          17.71700888,
          17.71689613,
          17.71678784,
          17.71666069,
          17.71651205,
          17.71629276,
          17.71606772,
          17.71584628,
          17.71561271,
          17.71536752,
          17.71511837,
          17.71485677,
          17.71457918,
          17.71429587,
          17.71401223,
          17.7137297,
          17.7134438,
          17.7131664,
          17.71288241,
          17.7126106,
          17.71233859,
          17.71205432,
          17.71177703,
          17.71150211,
          17.71121762,
          17.71095938,
          17.71069426,
          17.71040767,
          17.71013084,
          17.70984002,
          17.70953434,
          17.70924229,
          17.70894246,
          17.70867175,
          17.70836973,
          17.70808472,
          17.70780735,
          17.70753979,
          17.70725556,
          17.70695853,
          17.70665667,
          17.70636267,
          17.70608657,
          17.7057911,
          17.70551181,
          17.70524164,
          17.70499667,
          17.70471573,
          17.70442866,
          17.7041576,
          17.70390839,
          17.70364403,
          17.70338421,
          17.7031319,
          17.70286969,
          17.70260616,
          17.7023383,
          17.7020677,
          17.70178729,
          17.70150566,
          17.70127698,
          17.70098962,
          17.70071722,
          17.70046696,
          17.70019748,
          17.69992618,
          17.69964233,
          17.69938868,
          17.69915754,
          17.69892817,
          17.69868884,
          17.69844912,
          17.69821746,
          17.69799683,
          17.69777599,
          17.69755119,
          17.69733045,
          17.6970932,
          17.69685114,
          17.69661165,
          17.69637572,
          17.69615834,
          17.69593746,
          17.69572081,
          17.69550748,
          17.69528664,
          17.69506101,
          17.69483673,
          17.69460005,
          17.69438,
          17.69416231,
          17.69393235,
          17.69371505,
          17.69347053,
          17.69323871,
          17.69300705,
          17.69276496,
          17.69253101,
          17.69228226,
          17.69204862,
          17.69182523,
          17.6915638,
          17.69132299,
          17.69107614,
          17.6908434,
          17.69060439,
          17.69036272,
          17.69011465,
          17.68986058,
          17.68961163,
          17.6893851,
          17.68914813,
          17.68890578,
          17.68867228,
          17.68845976,
          17.68826399,
          17.68807257,
          17.68790766,
          17.68779197,
          17.6877166,
          17.68767203,
          17.68756075,
          17.68757206,
          17.68758385,
          17.68759582,
          17.68760832,
          17.68762134,
          17.68763894,
          17.68765322,
          17.68766753,
          17.68767935,
          17.68768443,
          17.68767225,
          17.68766018,
          17.68765488,
          17.68763118,
          17.68761575,
          17.68762721,
          17.68762284,
          17.68761495,
          17.68760718,
          17.68760191,
          17.68759507,
          17.68758971,
          17.68758261,
          17.68790312,
          17.68798661,
          17.68809834,
          17.68820877,
          17.68831051,
          17.68842158,
          17.68853493,
          17.68861671,
          17.68873481,
          17.68886996,
          17.688975,
          17.68905446,
          17.68919039,
          17.68932188,
          17.68944962,
          17.68956453,
          17.68968288,
          17.68981453,
          17.68994786,
          17.69007805,
          17.69021965,
          17.69035038,
          17.69048086,
          17.69061202,
          17.69074699,
          17.69087815,
          17.69101846,
          17.69116731,
          17.69132683,
          17.69149116,
          17.69166386,
          17.69184866,
          17.69202541,
          17.69220306,
          17.69238392,
          17.69257657,
          17.69277867,
          17.69299447,
          17.69322107,
          17.69344858,
          17.69369527,
          17.6939286,
          17.69415439,
          17.69440826,
          17.69466998,
          17.69492807,
          17.69519514,
          17.69544289,
          17.69571902,
          17.69597482,
          17.69624583,
          17.69649785,
          17.69675614,
          17.69701351,
          17.69728994,
          17.69752641,
          17.69777961,
          17.69803585,
          17.69826594,
          17.69850868,
          17.69875882,
          17.69900145,
          17.69925762,
          17.69951968,
          17.69979471,
          17.70007451,
          17.70035553,
          17.70061994,
          17.7008914,
          17.70114699,
          17.70143736,
          17.70171527,
          17.70196443,
          17.70222426,
          17.70248149,
          17.70275316,
          17.70306979,
          17.70334765,
          17.70362168,
          17.70388315,
          17.70416115,
          17.70444867,
          17.70471955,
          17.70499042,
          17.70527248,
          17.70554967,
          17.70584472,
          17.70613126,
          17.70640939,
          17.70670249,
          17.70696821,
          17.70725578,
          17.70753905,
          17.70783833,
          17.70813312,
          17.7084287,
          17.70871011,
          17.70900148,
          17.70927069,
          17.7095703,
          17.70986343,
          17.71012504,
          17.71040276,
          17.71068658,
          17.71097346,
          17.71125226,
          17.71152673,
          17.71180526,
          17.71208528,
          17.71236289,
          17.71264706,
          17.71292642,
          17.713189,
          17.71346046,
          17.71373464,
          17.71402248,
          17.71429643,
          17.71455907,
          17.71482141,
          17.71508105,
          17.71534433,
          17.71555437,
          17.71576659,
          17.71597678,
          17.71611001,
          17.71620404,
          17.71666575,
          17.7165048,
          17.71652819,
          17.71652691,
          17.71656405,
          17.7164989,
          17.71644231,
          17.71639044,
          17.71633149,
          17.71628925,
          17.71625981,
          17.71625205,
          17.71624006
         ],
         "marker": {
          "color": [
           0,
           0,
           0,
           0,
           0,
           0,
           0,
           0,
           0,
           0,
           0,
           0,
           0,
           0,
           0,
           0,
           0,
           0,
           0,
           0,
           0,
           0,
           0,
           0,
           0,
           0,
           0,
           0,
           0,
           0,
           0,
           1,
           0,
           0,
           0,
           0,
           0,
           0,
           0,
           0,
           0,
           0,
           0,
           0,
           0,
           0,
           0,
           0,
           0,
           0,
           0,
           0,
           0,
           0,
           0,
           0,
           0,
           0,
           0,
           0,
           0,
           0,
           0,
           0,
           0,
           0,
           0,
           0,
           0,
           0,
           0,
           0,
           0,
           0,
           0,
           0,
           0,
           0,
           0,
           0,
           0,
           0,
           0,
           0,
           0,
           0,
           0,
           0,
           0,
           0,
           0,
           0,
           0,
           0,
           0,
           0,
           0,
           0,
           0,
           0,
           0,
           0,
           0,
           0,
           0,
           0,
           0,
           0,
           0,
           0,
           1,
           0,
           0,
           0,
           0,
           0,
           0,
           0,
           0,
           0,
           0,
           0,
           0,
           0,
           0,
           0,
           0,
           0,
           0,
           0,
           0,
           0,
           0,
           0,
           0,
           0,
           0,
           0,
           0,
           0,
           0,
           0,
           0,
           0,
           0,
           0,
           0,
           0,
           0,
           0,
           0,
           0,
           0,
           0,
           0,
           0,
           0,
           0,
           0,
           0,
           0,
           0,
           0,
           0,
           0,
           0,
           0,
           1,
           1,
           0,
           0,
           0,
           0,
           0,
           0,
           0,
           0,
           0,
           0,
           0,
           0,
           0,
           0,
           0,
           0,
           0,
           0,
           0,
           0,
           0,
           0,
           0,
           0,
           0,
           1,
           0,
           0,
           0,
           0,
           0,
           0,
           0,
           0,
           0,
           0,
           0,
           0,
           0,
           0,
           1,
           0,
           0,
           0,
           0,
           0,
           0,
           0,
           0,
           0,
           0,
           0,
           0,
           0,
           0,
           0,
           0,
           0,
           1,
           0,
           0,
           0,
           0,
           0,
           0,
           0,
           0,
           0,
           0,
           0,
           0,
           0,
           0,
           0,
           0,
           0,
           0,
           0,
           0,
           0,
           0,
           0,
           0,
           0,
           0,
           0,
           0,
           0,
           0,
           0,
           0,
           0,
           0,
           0,
           0,
           0,
           0,
           0,
           0,
           0,
           0,
           0,
           0,
           0,
           0,
           0,
           0,
           0,
           1,
           1,
           0,
           0,
           0,
           0,
           0,
           0,
           0,
           0,
           0,
           0,
           0,
           0,
           0,
           0,
           0,
           0,
           0,
           0,
           0,
           0,
           0,
           0,
           0,
           0,
           0,
           0,
           0,
           0,
           0,
           0,
           0,
           0,
           0,
           0,
           0,
           0,
           0,
           0,
           0,
           0,
           0,
           0,
           0,
           0,
           0,
           0,
           0,
           0,
           0,
           0,
           0,
           0,
           0,
           0,
           0,
           0,
           0,
           0,
           0,
           0,
           0,
           0,
           0,
           0,
           0,
           0,
           0,
           0,
           0,
           0,
           0,
           0,
           0,
           0,
           0,
           0,
           0,
           0,
           0,
           0,
           0,
           0,
           0,
           0,
           0,
           0,
           1,
           1,
           1,
           0,
           0,
           0,
           0,
           0,
           0,
           0,
           0,
           0,
           0,
           0,
           0,
           0,
           0,
           0,
           0,
           0,
           0,
           0,
           0,
           0,
           0,
           0,
           0,
           0,
           0,
           0,
           0,
           0,
           0,
           1,
           0,
           0,
           0,
           0,
           0,
           0,
           0,
           0,
           0,
           0,
           0,
           0,
           0,
           0,
           0,
           0,
           0,
           0,
           0,
           0,
           0,
           0,
           0,
           0,
           0,
           0,
           0,
           0,
           0,
           0,
           0,
           0,
           0,
           0,
           0,
           0,
           0,
           0,
           0,
           0,
           0,
           0,
           0,
           0,
           0,
           0,
           0,
           0,
           0,
           0,
           0,
           0,
           0,
           0,
           0,
           0,
           0,
           0,
           0,
           0,
           0,
           0,
           0,
           0,
           0,
           1,
           1,
           0,
           0,
           0,
           0,
           0,
           0,
           0,
           0,
           0,
           0,
           0,
           0,
           0,
           0,
           0,
           0,
           0,
           0,
           0,
           0,
           0,
           0,
           0,
           0,
           0,
           0,
           0,
           0,
           0,
           0,
           0,
           0,
           0,
           0,
           0,
           0,
           0,
           0,
           0,
           0,
           0,
           0,
           0,
           0,
           0,
           0,
           0,
           0,
           0,
           0,
           0,
           0,
           0,
           0,
           0,
           0,
           0,
           0,
           0,
           0,
           0,
           0,
           0,
           0,
           0,
           0,
           0,
           0,
           0,
           0,
           0,
           0,
           0,
           0,
           0,
           0,
           0,
           0,
           0,
           0,
           0,
           0,
           0,
           0,
           0,
           0,
           0,
           0,
           0,
           0,
           0,
           0,
           0,
           0,
           0
          ],
          "coloraxis": "coloraxis"
         },
         "mode": "markers",
         "name": "",
         "showlegend": false,
         "subplot": "mapbox",
         "type": "scattermapbox"
        }
       ],
       "layout": {
        "coloraxis": {
         "colorbar": {
          "title": {
           "text": "label"
          }
         },
         "colorscale": [
          [
           0,
           "green"
          ],
          [
           1,
           "red"
          ]
         ],
         "showscale": false
        },
        "height": 500,
        "legend": {
         "tracegroupgap": 0
        },
        "mapbox": {
         "center": {
          "lat": 47.70625601174689,
          "lon": 17.708033217504457
         },
         "domain": {
          "x": [
           0,
           1
          ],
          "y": [
           0,
           1
          ]
         },
         "style": "carto-positron",
         "zoom": 11
        },
        "margin": {
         "b": 0,
         "l": 0,
         "r": 0,
         "t": 0
        },
        "template": {
         "data": {
          "bar": [
           {
            "error_x": {
             "color": "#2a3f5f"
            },
            "error_y": {
             "color": "#2a3f5f"
            },
            "marker": {
             "line": {
              "color": "#E5ECF6",
              "width": 0.5
             }
            },
            "type": "bar"
           }
          ],
          "barpolar": [
           {
            "marker": {
             "line": {
              "color": "#E5ECF6",
              "width": 0.5
             }
            },
            "type": "barpolar"
           }
          ],
          "carpet": [
           {
            "aaxis": {
             "endlinecolor": "#2a3f5f",
             "gridcolor": "white",
             "linecolor": "white",
             "minorgridcolor": "white",
             "startlinecolor": "#2a3f5f"
            },
            "baxis": {
             "endlinecolor": "#2a3f5f",
             "gridcolor": "white",
             "linecolor": "white",
             "minorgridcolor": "white",
             "startlinecolor": "#2a3f5f"
            },
            "type": "carpet"
           }
          ],
          "choropleth": [
           {
            "colorbar": {
             "outlinewidth": 0,
             "ticks": ""
            },
            "type": "choropleth"
           }
          ],
          "contour": [
           {
            "colorbar": {
             "outlinewidth": 0,
             "ticks": ""
            },
            "colorscale": [
             [
              0,
              "#0d0887"
             ],
             [
              0.1111111111111111,
              "#46039f"
             ],
             [
              0.2222222222222222,
              "#7201a8"
             ],
             [
              0.3333333333333333,
              "#9c179e"
             ],
             [
              0.4444444444444444,
              "#bd3786"
             ],
             [
              0.5555555555555556,
              "#d8576b"
             ],
             [
              0.6666666666666666,
              "#ed7953"
             ],
             [
              0.7777777777777778,
              "#fb9f3a"
             ],
             [
              0.8888888888888888,
              "#fdca26"
             ],
             [
              1,
              "#f0f921"
             ]
            ],
            "type": "contour"
           }
          ],
          "contourcarpet": [
           {
            "colorbar": {
             "outlinewidth": 0,
             "ticks": ""
            },
            "type": "contourcarpet"
           }
          ],
          "heatmap": [
           {
            "colorbar": {
             "outlinewidth": 0,
             "ticks": ""
            },
            "colorscale": [
             [
              0,
              "#0d0887"
             ],
             [
              0.1111111111111111,
              "#46039f"
             ],
             [
              0.2222222222222222,
              "#7201a8"
             ],
             [
              0.3333333333333333,
              "#9c179e"
             ],
             [
              0.4444444444444444,
              "#bd3786"
             ],
             [
              0.5555555555555556,
              "#d8576b"
             ],
             [
              0.6666666666666666,
              "#ed7953"
             ],
             [
              0.7777777777777778,
              "#fb9f3a"
             ],
             [
              0.8888888888888888,
              "#fdca26"
             ],
             [
              1,
              "#f0f921"
             ]
            ],
            "type": "heatmap"
           }
          ],
          "heatmapgl": [
           {
            "colorbar": {
             "outlinewidth": 0,
             "ticks": ""
            },
            "colorscale": [
             [
              0,
              "#0d0887"
             ],
             [
              0.1111111111111111,
              "#46039f"
             ],
             [
              0.2222222222222222,
              "#7201a8"
             ],
             [
              0.3333333333333333,
              "#9c179e"
             ],
             [
              0.4444444444444444,
              "#bd3786"
             ],
             [
              0.5555555555555556,
              "#d8576b"
             ],
             [
              0.6666666666666666,
              "#ed7953"
             ],
             [
              0.7777777777777778,
              "#fb9f3a"
             ],
             [
              0.8888888888888888,
              "#fdca26"
             ],
             [
              1,
              "#f0f921"
             ]
            ],
            "type": "heatmapgl"
           }
          ],
          "histogram": [
           {
            "marker": {
             "colorbar": {
              "outlinewidth": 0,
              "ticks": ""
             }
            },
            "type": "histogram"
           }
          ],
          "histogram2d": [
           {
            "colorbar": {
             "outlinewidth": 0,
             "ticks": ""
            },
            "colorscale": [
             [
              0,
              "#0d0887"
             ],
             [
              0.1111111111111111,
              "#46039f"
             ],
             [
              0.2222222222222222,
              "#7201a8"
             ],
             [
              0.3333333333333333,
              "#9c179e"
             ],
             [
              0.4444444444444444,
              "#bd3786"
             ],
             [
              0.5555555555555556,
              "#d8576b"
             ],
             [
              0.6666666666666666,
              "#ed7953"
             ],
             [
              0.7777777777777778,
              "#fb9f3a"
             ],
             [
              0.8888888888888888,
              "#fdca26"
             ],
             [
              1,
              "#f0f921"
             ]
            ],
            "type": "histogram2d"
           }
          ],
          "histogram2dcontour": [
           {
            "colorbar": {
             "outlinewidth": 0,
             "ticks": ""
            },
            "colorscale": [
             [
              0,
              "#0d0887"
             ],
             [
              0.1111111111111111,
              "#46039f"
             ],
             [
              0.2222222222222222,
              "#7201a8"
             ],
             [
              0.3333333333333333,
              "#9c179e"
             ],
             [
              0.4444444444444444,
              "#bd3786"
             ],
             [
              0.5555555555555556,
              "#d8576b"
             ],
             [
              0.6666666666666666,
              "#ed7953"
             ],
             [
              0.7777777777777778,
              "#fb9f3a"
             ],
             [
              0.8888888888888888,
              "#fdca26"
             ],
             [
              1,
              "#f0f921"
             ]
            ],
            "type": "histogram2dcontour"
           }
          ],
          "mesh3d": [
           {
            "colorbar": {
             "outlinewidth": 0,
             "ticks": ""
            },
            "type": "mesh3d"
           }
          ],
          "parcoords": [
           {
            "line": {
             "colorbar": {
              "outlinewidth": 0,
              "ticks": ""
             }
            },
            "type": "parcoords"
           }
          ],
          "pie": [
           {
            "automargin": true,
            "type": "pie"
           }
          ],
          "scatter": [
           {
            "marker": {
             "colorbar": {
              "outlinewidth": 0,
              "ticks": ""
             }
            },
            "type": "scatter"
           }
          ],
          "scatter3d": [
           {
            "line": {
             "colorbar": {
              "outlinewidth": 0,
              "ticks": ""
             }
            },
            "marker": {
             "colorbar": {
              "outlinewidth": 0,
              "ticks": ""
             }
            },
            "type": "scatter3d"
           }
          ],
          "scattercarpet": [
           {
            "marker": {
             "colorbar": {
              "outlinewidth": 0,
              "ticks": ""
             }
            },
            "type": "scattercarpet"
           }
          ],
          "scattergeo": [
           {
            "marker": {
             "colorbar": {
              "outlinewidth": 0,
              "ticks": ""
             }
            },
            "type": "scattergeo"
           }
          ],
          "scattergl": [
           {
            "marker": {
             "colorbar": {
              "outlinewidth": 0,
              "ticks": ""
             }
            },
            "type": "scattergl"
           }
          ],
          "scattermapbox": [
           {
            "marker": {
             "colorbar": {
              "outlinewidth": 0,
              "ticks": ""
             }
            },
            "type": "scattermapbox"
           }
          ],
          "scatterpolar": [
           {
            "marker": {
             "colorbar": {
              "outlinewidth": 0,
              "ticks": ""
             }
            },
            "type": "scatterpolar"
           }
          ],
          "scatterpolargl": [
           {
            "marker": {
             "colorbar": {
              "outlinewidth": 0,
              "ticks": ""
             }
            },
            "type": "scatterpolargl"
           }
          ],
          "scatterternary": [
           {
            "marker": {
             "colorbar": {
              "outlinewidth": 0,
              "ticks": ""
             }
            },
            "type": "scatterternary"
           }
          ],
          "surface": [
           {
            "colorbar": {
             "outlinewidth": 0,
             "ticks": ""
            },
            "colorscale": [
             [
              0,
              "#0d0887"
             ],
             [
              0.1111111111111111,
              "#46039f"
             ],
             [
              0.2222222222222222,
              "#7201a8"
             ],
             [
              0.3333333333333333,
              "#9c179e"
             ],
             [
              0.4444444444444444,
              "#bd3786"
             ],
             [
              0.5555555555555556,
              "#d8576b"
             ],
             [
              0.6666666666666666,
              "#ed7953"
             ],
             [
              0.7777777777777778,
              "#fb9f3a"
             ],
             [
              0.8888888888888888,
              "#fdca26"
             ],
             [
              1,
              "#f0f921"
             ]
            ],
            "type": "surface"
           }
          ],
          "table": [
           {
            "cells": {
             "fill": {
              "color": "#EBF0F8"
             },
             "line": {
              "color": "white"
             }
            },
            "header": {
             "fill": {
              "color": "#C8D4E3"
             },
             "line": {
              "color": "white"
             }
            },
            "type": "table"
           }
          ]
         },
         "layout": {
          "annotationdefaults": {
           "arrowcolor": "#2a3f5f",
           "arrowhead": 0,
           "arrowwidth": 1
          },
          "coloraxis": {
           "colorbar": {
            "outlinewidth": 0,
            "ticks": ""
           }
          },
          "colorscale": {
           "diverging": [
            [
             0,
             "#8e0152"
            ],
            [
             0.1,
             "#c51b7d"
            ],
            [
             0.2,
             "#de77ae"
            ],
            [
             0.3,
             "#f1b6da"
            ],
            [
             0.4,
             "#fde0ef"
            ],
            [
             0.5,
             "#f7f7f7"
            ],
            [
             0.6,
             "#e6f5d0"
            ],
            [
             0.7,
             "#b8e186"
            ],
            [
             0.8,
             "#7fbc41"
            ],
            [
             0.9,
             "#4d9221"
            ],
            [
             1,
             "#276419"
            ]
           ],
           "sequential": [
            [
             0,
             "#0d0887"
            ],
            [
             0.1111111111111111,
             "#46039f"
            ],
            [
             0.2222222222222222,
             "#7201a8"
            ],
            [
             0.3333333333333333,
             "#9c179e"
            ],
            [
             0.4444444444444444,
             "#bd3786"
            ],
            [
             0.5555555555555556,
             "#d8576b"
            ],
            [
             0.6666666666666666,
             "#ed7953"
            ],
            [
             0.7777777777777778,
             "#fb9f3a"
            ],
            [
             0.8888888888888888,
             "#fdca26"
            ],
            [
             1,
             "#f0f921"
            ]
           ],
           "sequentialminus": [
            [
             0,
             "#0d0887"
            ],
            [
             0.1111111111111111,
             "#46039f"
            ],
            [
             0.2222222222222222,
             "#7201a8"
            ],
            [
             0.3333333333333333,
             "#9c179e"
            ],
            [
             0.4444444444444444,
             "#bd3786"
            ],
            [
             0.5555555555555556,
             "#d8576b"
            ],
            [
             0.6666666666666666,
             "#ed7953"
            ],
            [
             0.7777777777777778,
             "#fb9f3a"
            ],
            [
             0.8888888888888888,
             "#fdca26"
            ],
            [
             1,
             "#f0f921"
            ]
           ]
          },
          "colorway": [
           "#636efa",
           "#EF553B",
           "#00cc96",
           "#ab63fa",
           "#FFA15A",
           "#19d3f3",
           "#FF6692",
           "#B6E880",
           "#FF97FF",
           "#FECB52"
          ],
          "font": {
           "color": "#2a3f5f"
          },
          "geo": {
           "bgcolor": "white",
           "lakecolor": "white",
           "landcolor": "#E5ECF6",
           "showlakes": true,
           "showland": true,
           "subunitcolor": "white"
          },
          "hoverlabel": {
           "align": "left"
          },
          "hovermode": "closest",
          "mapbox": {
           "style": "light"
          },
          "paper_bgcolor": "white",
          "plot_bgcolor": "#E5ECF6",
          "polar": {
           "angularaxis": {
            "gridcolor": "white",
            "linecolor": "white",
            "ticks": ""
           },
           "bgcolor": "#E5ECF6",
           "radialaxis": {
            "gridcolor": "white",
            "linecolor": "white",
            "ticks": ""
           }
          },
          "scene": {
           "xaxis": {
            "backgroundcolor": "#E5ECF6",
            "gridcolor": "white",
            "gridwidth": 2,
            "linecolor": "white",
            "showbackground": true,
            "ticks": "",
            "zerolinecolor": "white"
           },
           "yaxis": {
            "backgroundcolor": "#E5ECF6",
            "gridcolor": "white",
            "gridwidth": 2,
            "linecolor": "white",
            "showbackground": true,
            "ticks": "",
            "zerolinecolor": "white"
           },
           "zaxis": {
            "backgroundcolor": "#E5ECF6",
            "gridcolor": "white",
            "gridwidth": 2,
            "linecolor": "white",
            "showbackground": true,
            "ticks": "",
            "zerolinecolor": "white"
           }
          },
          "shapedefaults": {
           "line": {
            "color": "#2a3f5f"
           }
          },
          "ternary": {
           "aaxis": {
            "gridcolor": "white",
            "linecolor": "white",
            "ticks": ""
           },
           "baxis": {
            "gridcolor": "white",
            "linecolor": "white",
            "ticks": ""
           },
           "bgcolor": "#E5ECF6",
           "caxis": {
            "gridcolor": "white",
            "linecolor": "white",
            "ticks": ""
           }
          },
          "title": {
           "x": 0.05
          },
          "xaxis": {
           "automargin": true,
           "gridcolor": "white",
           "linecolor": "white",
           "ticks": "",
           "title": {
            "standoff": 15
           },
           "zerolinecolor": "white",
           "zerolinewidth": 2
          },
          "yaxis": {
           "automargin": true,
           "gridcolor": "white",
           "linecolor": "white",
           "ticks": "",
           "title": {
            "standoff": 15
           },
           "zerolinecolor": "white",
           "zerolinewidth": 2
          }
         }
        }
       }
      },
      "text/html": [
       "<div>\n",
       "        \n",
       "        \n",
       "            <div id=\"c2bcd37c-dab4-4f1f-8f72-b0bc90e455d8\" class=\"plotly-graph-div\" style=\"height:500px; width:100%;\"></div>\n",
       "            <script type=\"text/javascript\">\n",
       "                require([\"plotly\"], function(Plotly) {\n",
       "                    window.PLOTLYENV=window.PLOTLYENV || {};\n",
       "                    \n",
       "                if (document.getElementById(\"c2bcd37c-dab4-4f1f-8f72-b0bc90e455d8\")) {\n",
       "                    Plotly.newPlot(\n",
       "                        'c2bcd37c-dab4-4f1f-8f72-b0bc90e455d8',\n",
       "                        [{\"hovertemplate\": \"lat=%{lat}<br>lon=%{lon}<br>label=%{marker.color}<extra></extra>\", \"lat\": [47.69526655, 47.69533469, 47.69527313, 47.695239, 47.69520087, 47.69516161, 47.69510415, 47.69505844, 47.69499758, 47.69497979, 47.69487235, 47.69479439, 47.6947225, 47.6946441, 47.69456352, 47.69448463, 47.69440874, 47.69432852, 47.69425449, 47.69418072, 47.69410587, 47.69403416, 47.69395916, 47.6938922, 47.69382682, 47.69376128, 47.69369824, 47.69363971, 47.69358324, 47.69353168, 47.69348651, 47.69345301, 47.6934229, 47.69341402, 47.69341418, 47.69343899, 47.69349133, 47.6935126, 47.69352291, 47.69354853, 47.69359475, 47.69365501, 47.69374551, 47.69384689, 47.69396913, 47.69410167, 47.69423654, 47.69440081, 47.69459634, 47.69478457, 47.69498694, 47.69518663, 47.69537605, 47.69557274, 47.69574743, 47.69593179, 47.69612109, 47.69631076, 47.69649372, 47.6966681, 47.6968474, 47.69702329, 47.69719417, 47.69736398, 47.69754128, 47.69771323, 47.69788579, 47.69806462, 47.69823402, 47.69839986, 47.69857277, 47.6987422, 47.6989134, 47.69908023, 47.69926042, 47.69943186, 47.69961467, 47.69978786, 47.69996278, 47.70011406, 47.7003039, 47.70047986, 47.70064942, 47.70082647, 47.70099939, 47.70116929, 47.70133499, 47.70150389, 47.70169931, 47.70186667, 47.7020359, 47.70221293, 47.7024041, 47.70258982, 47.70276938, 47.70294713, 47.70312841, 47.70328294, 47.70345879, 47.70364579, 47.70381609, 47.70399917, 47.70416727, 47.70433194, 47.70448049, 47.70463911, 47.70480457, 47.70494827, 47.70510658, 47.70526398, 47.70540867, 47.70554969, 47.70567655, 47.70577672, 47.70585257, 47.70587416, 47.70591724, 47.70594344, 47.70593976, 47.70599465, 47.7060648, 47.70616311, 47.70628877, 47.70639797, 47.70644453, 47.70659179, 47.70673607, 47.7068991, 47.70707867, 47.70725699, 47.70745169, 47.70765161, 47.70785912, 47.70806957, 47.70827464, 47.7084664, 47.70868335, 47.70891349, 47.70912917, 47.70934949, 47.70957326, 47.70980212, 47.71002658, 47.71024255, 47.71045112, 47.71067797, 47.71089223, 47.71110405, 47.71133189, 47.71153237, 47.71174436, 47.71193938, 47.71214637, 47.71234294, 47.71255536, 47.71273476, 47.71292555, 47.71311164, 47.71329522, 47.71346726, 47.71364766, 47.71381812, 47.71398653, 47.71414915, 47.71431548, 47.71447192, 47.71460346, 47.71470974, 47.71482146, 47.71498862, 47.71512725, 47.71520277, 47.71525163, 47.71528162, 47.7152632, 47.71524327, 47.71514439, 47.71517796, 47.71521376, 47.71524441, 47.71534881, 47.71544852, 47.71556297, 47.71568256, 47.71583493, 47.71597274, 47.71609706, 47.71623874, 47.71638762, 47.71660239, 47.71675382, 47.71692127, 47.71709853, 47.71727754, 47.71744615, 47.71754413, 47.71763918, 47.71771227, 47.71779442, 47.71789156, 47.71794181, 47.71798098, 47.71799209, 47.71796472, 47.71791406, 47.71778288, 47.71762796, 47.71759568, 47.71759543, 47.71739604, 47.71722636, 47.71706009, 47.71690479, 47.71674597, 47.71658065, 47.71638527, 47.71624449, 47.71608947, 47.71594433, 47.71577924, 47.71561731, 47.71548414, 47.71536611, 47.71528829, 47.71520822, 47.71514305, 47.71507672, 47.71502041, 47.71497578, 47.71480634, 47.71478181, 47.7147601, 47.71477626, 47.71465635, 47.71453987, 47.71441561, 47.71428123, 47.71410086, 47.71392762, 47.71375666, 47.71357779, 47.71338703, 47.71322823, 47.71303478, 47.71283527, 47.71263343, 47.71244341, 47.71224178, 47.71204217, 47.71182626, 47.71162565, 47.71140876, 47.71119947, 47.71098348, 47.71078078, 47.71057751, 47.71038021, 47.71017205, 47.70998613, 47.70977851, 47.70957784, 47.7093597, 47.70914606, 47.708937, 47.70872411, 47.70850452, 47.7082965, 47.70810523, 47.70792423, 47.70776281, 47.70758319, 47.70740554, 47.70723597, 47.7070715, 47.70693226, 47.70680432, 47.7066934, 47.7065859, 47.70649683, 47.70643211, 47.70637234, 47.70631753, 47.70630571, 47.7063014, 47.70633035, 47.70636909, 47.70640346, 47.70645125, 47.70649236, 47.70653453, 47.70656439, 47.7065851, 47.70660688, 47.70662328, 47.70663427, 47.70664471, 47.70664991, 47.70665769, 47.70666004, 47.70665701, 47.70664975, 47.70666412, 47.70667882, 47.70669172, 47.70669225, 47.70668873, 47.70668454, 47.70667942, 47.7066747, 47.7066699, 47.70666369, 47.7066565, 47.70664972, 47.70664311, 47.70663477, 47.70664927, 47.70663143, 47.70662316, 47.70661206, 47.70660171, 47.70658545, 47.7065663, 47.70653753, 47.70651199, 47.70648924, 47.70647645, 47.70645927, 47.70644628, 47.70642352, 47.70639905, 47.70638041, 47.70636628, 47.70635627, 47.70633896, 47.70632681, 47.70632366, 47.70632072, 47.70631459, 47.70628494, 47.70626011, 47.70623869, 47.70622677, 47.70621192, 47.70619327, 47.70618817, 47.70617124, 47.70614436, 47.70612824, 47.70613219, 47.70612935, 47.70611636, 47.70611993, 47.70611879, 47.70610833, 47.70609263, 47.70607744, 47.70607634, 47.70606098, 47.70603662, 47.70602096, 47.70598926, 47.70596042, 47.70595191, 47.70594676, 47.70593454, 47.70590935, 47.70590281, 47.70588877, 47.7058698, 47.70584833, 47.70582647, 47.70582006, 47.70580543, 47.70579223, 47.70578513, 47.70578172, 47.70576362, 47.70574754, 47.70572522, 47.70571558, 47.70570659, 47.70569597, 47.70569032, 47.7056759, 47.70565796, 47.70563618, 47.70562478, 47.70562613, 47.7056139, 47.70559711, 47.70558937, 47.70556382, 47.70554005, 47.70552368, 47.70550679, 47.70550117, 47.70550417, 47.70549447, 47.70542545, 47.70533961, 47.70525021, 47.70515946, 47.70506502, 47.70496659, 47.70483356, 47.70472557, 47.70461746, 47.70452807, 47.70448971, 47.70458179, 47.70464655, 47.70471122, 47.70477334, 47.70483128, 47.70489468, 47.70495525, 47.70501485, 47.70507357, 47.70511346, 47.7051651, 47.70520575, 47.70525959, 47.7054843, 47.70547104, 47.70546768, 47.70547688, 47.70548827, 47.70549797, 47.70550098, 47.70551509, 47.70551562, 47.70551814, 47.70552626, 47.70552414, 47.70553369, 47.70554676, 47.70554493, 47.70556493, 47.70557821, 47.70557339, 47.70557464, 47.70558562, 47.70559582, 47.70559665, 47.7056044, 47.70560762, 47.70561112, 47.70561808, 47.70563013, 47.70563945, 47.70565446, 47.70566206, 47.70567164, 47.7056805, 47.70569517, 47.70570597, 47.70571727, 47.70573507, 47.70574949, 47.70575992, 47.70577168, 47.7057868, 47.70580049, 47.70580882, 47.70582191, 47.70582209, 47.70583168, 47.70584264, 47.70584986, 47.70586981, 47.70590173, 47.70592422, 47.70594475, 47.70595994, 47.70596642, 47.70598563, 47.70599906, 47.70599977, 47.70600337, 47.70601845, 47.70603199, 47.70604627, 47.70606099, 47.70607526, 47.70609023, 47.70610624, 47.70612294, 47.70613654, 47.70614963, 47.70617834, 47.7062003, 47.70620023, 47.70622963, 47.70624181, 47.70626693, 47.70627545, 47.70629129, 47.70631074, 47.70631331, 47.70633141, 47.70632918, 47.70632622, 47.70633697, 47.70635581, 47.70637844, 47.70640541, 47.70641323, 47.70642839, 47.70645336, 47.70647468, 47.70649607, 47.70649979, 47.70651417, 47.70652551, 47.7065348, 47.70655255, 47.70657149, 47.70657198, 47.70657438, 47.70659476, 47.706613, 47.7066349, 47.70663058, 47.70662135, 47.70661086, 47.70662419, 47.70662678, 47.70662221, 47.70661186, 47.70661021, 47.70661259, 47.70661456, 47.70661644, 47.70660819, 47.70658769, 47.70655996, 47.7065332, 47.70651098, 47.70648898, 47.70646124, 47.70642447, 47.70639024, 47.70635617, 47.7063279, 47.70629865, 47.70626931, 47.70625279, 47.70624771, 47.70597353, 47.7060967, 47.70606347, 47.70606528, 47.705862, 47.70574789, 47.70563312, 47.70551769, 47.70537696, 47.705276, 47.70517641, 47.70514537, 47.70506797], \"legendgroup\": \"\", \"lon\": [17.72453165, 17.72441182, 17.72427204, 17.72412351, 17.72396356, 17.72380069, 17.72361901, 17.72344114, 17.72321189, 17.72310353, 17.7228713, 17.72263084, 17.72240913, 17.72216734, 17.7219188, 17.7216755, 17.72144145, 17.72119405, 17.72096573, 17.72073832, 17.72050762, 17.72028659, 17.72005539, 17.719849, 17.71964749, 17.71944546, 17.71925114, 17.71907074, 17.71889667, 17.71873776, 17.71859865, 17.71849554, 17.71840287, 17.71824891, 17.7181574, 17.71805828, 17.71795747, 17.71788822, 17.71780694, 17.71755187, 17.71742384, 17.71731615, 17.71720397, 17.71710312, 17.71700315, 17.71691755, 17.71686185, 17.71681376, 17.71678969, 17.71680092, 17.71682722, 17.71685373, 17.71687887, 17.71690498, 17.71692817, 17.71695264, 17.71697777, 17.71700294, 17.71702802, 17.71705248, 17.71707803, 17.71710453, 17.71713027, 17.71715609, 17.7171839, 17.71721087, 17.71723793, 17.71726598, 17.71729203, 17.71731727, 17.71734359, 17.71736916, 17.71739398, 17.71741817, 17.7174443, 17.71746916, 17.71749412, 17.71751586, 17.71753618, 17.71754313, 17.71753448, 17.71752565, 17.71751661, 17.71750405, 17.71748622, 17.71746238, 17.71743499, 17.71740126, 17.71736711, 17.71733477, 17.71727893, 17.71721822, 17.71715206, 17.71708441, 17.71701478, 17.71693324, 17.71684514, 17.71676622, 17.7166769, 17.71658855, 17.7165095, 17.7164262, 17.716355, 17.71629993, 17.71625874, 17.7162181, 17.71622405, 17.71623257, 17.71624593, 17.7162844, 17.71634476, 17.71640482, 17.71646183, 17.71651492, 17.71655835, 17.71674129, 17.7168453, 17.71698635, 17.71713677, 17.71726427, 17.7173512, 17.71740204, 17.71739892, 17.71730732, 17.71720753, 17.71698212, 17.71692468, 17.716887, 17.71686647, 17.71683047, 17.71680501, 17.71675044, 17.71667022, 17.71657542, 17.71648179, 17.71639403, 17.71633188, 17.71624061, 17.71615359, 17.71605444, 17.71595014, 17.71585736, 17.7157787, 17.7156772, 17.71559203, 17.71546748, 17.71538356, 17.71531791, 17.71522539, 17.71516242, 17.7150813, 17.71499099, 17.7149029, 17.71482164, 17.71472379, 17.71461039, 17.71448188, 17.71435063, 17.71421787, 17.71410223, 17.71398678, 17.71384823, 17.713711, 17.71358278, 17.71346951, 17.71336346, 17.71327496, 17.71321908, 17.71315404, 17.71339065, 17.7133281, 17.71321852, 17.71314558, 17.71293261, 17.71277327, 17.71272175, 17.71244956, 17.71225104, 17.71205113, 17.71188807, 17.71164644, 17.7114419, 17.7112331, 17.71105688, 17.71087219, 17.71071008, 17.71056719, 17.71041861, 17.71028901, 17.71014281, 17.71004784, 17.70994746, 17.70985455, 17.70980626, 17.70976076, 17.70973431, 17.70970488, 17.70978611, 17.70989489, 17.70992461, 17.70983834, 17.70973676, 17.70959337, 17.70946264, 17.70937207, 17.7092903, 17.70935365, 17.70950037, 17.70950094, 17.70982963, 17.70990253, 17.70996453, 17.71003695, 17.71010403, 17.71018081, 17.71028431, 17.71037945, 17.71050647, 17.71065999, 17.71083633, 17.71102617, 17.71123189, 17.71143107, 17.71164069, 17.71186282, 17.71208852, 17.71228102, 17.71243145, 17.71256319, 17.71261847, 17.71270058, 17.7128153, 17.71282706, 17.71316401, 17.71328339, 17.71339862, 17.71350452, 17.71359632, 17.71370696, 17.71381093, 17.71393571, 17.71407333, 17.71418406, 17.71431869, 17.71443299, 17.71454925, 17.71467837, 17.71480892, 17.71489235, 17.71497093, 17.71506274, 17.71514406, 17.7152273, 17.7153056, 17.71539504, 17.7154833, 17.71556688, 17.71565078, 17.7157242, 17.71580619, 17.71588901, 17.71598521, 17.71608298, 17.7162126, 17.71628278, 17.71636299, 17.7164303, 17.71651279, 17.71658634, 17.71664063, 17.71673227, 17.71681376, 17.71687484, 17.71690109, 17.7169117, 17.71696304, 17.71698614, 17.71700888, 17.71689613, 17.71678784, 17.71666069, 17.71651205, 17.71629276, 17.71606772, 17.71584628, 17.71561271, 17.71536752, 17.71511837, 17.71485677, 17.71457918, 17.71429587, 17.71401223, 17.7137297, 17.7134438, 17.7131664, 17.71288241, 17.7126106, 17.71233859, 17.71205432, 17.71177703, 17.71150211, 17.71121762, 17.71095938, 17.71069426, 17.71040767, 17.71013084, 17.70984002, 17.70953434, 17.70924229, 17.70894246, 17.70867175, 17.70836973, 17.70808472, 17.70780735, 17.70753979, 17.70725556, 17.70695853, 17.70665667, 17.70636267, 17.70608657, 17.7057911, 17.70551181, 17.70524164, 17.70499667, 17.70471573, 17.70442866, 17.7041576, 17.70390839, 17.70364403, 17.70338421, 17.7031319, 17.70286969, 17.70260616, 17.7023383, 17.7020677, 17.70178729, 17.70150566, 17.70127698, 17.70098962, 17.70071722, 17.70046696, 17.70019748, 17.69992618, 17.69964233, 17.69938868, 17.69915754, 17.69892817, 17.69868884, 17.69844912, 17.69821746, 17.69799683, 17.69777599, 17.69755119, 17.69733045, 17.6970932, 17.69685114, 17.69661165, 17.69637572, 17.69615834, 17.69593746, 17.69572081, 17.69550748, 17.69528664, 17.69506101, 17.69483673, 17.69460005, 17.69438, 17.69416231, 17.69393235, 17.69371505, 17.69347053, 17.69323871, 17.69300705, 17.69276496, 17.69253101, 17.69228226, 17.69204862, 17.69182523, 17.6915638, 17.69132299, 17.69107614, 17.6908434, 17.69060439, 17.69036272, 17.69011465, 17.68986058, 17.68961163, 17.6893851, 17.68914813, 17.68890578, 17.68867228, 17.68845976, 17.68826399, 17.68807257, 17.68790766, 17.68779197, 17.6877166, 17.68767203, 17.68756075, 17.68757206, 17.68758385, 17.68759582, 17.68760832, 17.68762134, 17.68763894, 17.68765322, 17.68766753, 17.68767935, 17.68768443, 17.68767225, 17.68766018, 17.68765488, 17.68763118, 17.68761575, 17.68762721, 17.68762284, 17.68761495, 17.68760718, 17.68760191, 17.68759507, 17.68758971, 17.68758261, 17.68790312, 17.68798661, 17.68809834, 17.68820877, 17.68831051, 17.68842158, 17.68853493, 17.68861671, 17.68873481, 17.68886996, 17.688975, 17.68905446, 17.68919039, 17.68932188, 17.68944962, 17.68956453, 17.68968288, 17.68981453, 17.68994786, 17.69007805, 17.69021965, 17.69035038, 17.69048086, 17.69061202, 17.69074699, 17.69087815, 17.69101846, 17.69116731, 17.69132683, 17.69149116, 17.69166386, 17.69184866, 17.69202541, 17.69220306, 17.69238392, 17.69257657, 17.69277867, 17.69299447, 17.69322107, 17.69344858, 17.69369527, 17.6939286, 17.69415439, 17.69440826, 17.69466998, 17.69492807, 17.69519514, 17.69544289, 17.69571902, 17.69597482, 17.69624583, 17.69649785, 17.69675614, 17.69701351, 17.69728994, 17.69752641, 17.69777961, 17.69803585, 17.69826594, 17.69850868, 17.69875882, 17.69900145, 17.69925762, 17.69951968, 17.69979471, 17.70007451, 17.70035553, 17.70061994, 17.7008914, 17.70114699, 17.70143736, 17.70171527, 17.70196443, 17.70222426, 17.70248149, 17.70275316, 17.70306979, 17.70334765, 17.70362168, 17.70388315, 17.70416115, 17.70444867, 17.70471955, 17.70499042, 17.70527248, 17.70554967, 17.70584472, 17.70613126, 17.70640939, 17.70670249, 17.70696821, 17.70725578, 17.70753905, 17.70783833, 17.70813312, 17.7084287, 17.70871011, 17.70900148, 17.70927069, 17.7095703, 17.70986343, 17.71012504, 17.71040276, 17.71068658, 17.71097346, 17.71125226, 17.71152673, 17.71180526, 17.71208528, 17.71236289, 17.71264706, 17.71292642, 17.713189, 17.71346046, 17.71373464, 17.71402248, 17.71429643, 17.71455907, 17.71482141, 17.71508105, 17.71534433, 17.71555437, 17.71576659, 17.71597678, 17.71611001, 17.71620404, 17.71666575, 17.7165048, 17.71652819, 17.71652691, 17.71656405, 17.7164989, 17.71644231, 17.71639044, 17.71633149, 17.71628925, 17.71625981, 17.71625205, 17.71624006], \"marker\": {\"color\": [0, 0, 0, 0, 0, 0, 0, 0, 0, 0, 0, 0, 0, 0, 0, 0, 0, 0, 0, 0, 0, 0, 0, 0, 0, 0, 0, 0, 0, 0, 0, 1, 0, 0, 0, 0, 0, 0, 0, 0, 0, 0, 0, 0, 0, 0, 0, 0, 0, 0, 0, 0, 0, 0, 0, 0, 0, 0, 0, 0, 0, 0, 0, 0, 0, 0, 0, 0, 0, 0, 0, 0, 0, 0, 0, 0, 0, 0, 0, 0, 0, 0, 0, 0, 0, 0, 0, 0, 0, 0, 0, 0, 0, 0, 0, 0, 0, 0, 0, 0, 0, 0, 0, 0, 0, 0, 0, 0, 0, 0, 1, 0, 0, 0, 0, 0, 0, 0, 0, 0, 0, 0, 0, 0, 0, 0, 0, 0, 0, 0, 0, 0, 0, 0, 0, 0, 0, 0, 0, 0, 0, 0, 0, 0, 0, 0, 0, 0, 0, 0, 0, 0, 0, 0, 0, 0, 0, 0, 0, 0, 0, 0, 0, 0, 0, 0, 0, 1, 1, 0, 0, 0, 0, 0, 0, 0, 0, 0, 0, 0, 0, 0, 0, 0, 0, 0, 0, 0, 0, 0, 0, 0, 0, 0, 1, 0, 0, 0, 0, 0, 0, 0, 0, 0, 0, 0, 0, 0, 0, 1, 0, 0, 0, 0, 0, 0, 0, 0, 0, 0, 0, 0, 0, 0, 0, 0, 0, 1, 0, 0, 0, 0, 0, 0, 0, 0, 0, 0, 0, 0, 0, 0, 0, 0, 0, 0, 0, 0, 0, 0, 0, 0, 0, 0, 0, 0, 0, 0, 0, 0, 0, 0, 0, 0, 0, 0, 0, 0, 0, 0, 0, 0, 0, 0, 0, 0, 0, 1, 1, 0, 0, 0, 0, 0, 0, 0, 0, 0, 0, 0, 0, 0, 0, 0, 0, 0, 0, 0, 0, 0, 0, 0, 0, 0, 0, 0, 0, 0, 0, 0, 0, 0, 0, 0, 0, 0, 0, 0, 0, 0, 0, 0, 0, 0, 0, 0, 0, 0, 0, 0, 0, 0, 0, 0, 0, 0, 0, 0, 0, 0, 0, 0, 0, 0, 0, 0, 0, 0, 0, 0, 0, 0, 0, 0, 0, 0, 0, 0, 0, 0, 0, 0, 0, 0, 0, 1, 1, 1, 0, 0, 0, 0, 0, 0, 0, 0, 0, 0, 0, 0, 0, 0, 0, 0, 0, 0, 0, 0, 0, 0, 0, 0, 0, 0, 0, 0, 0, 0, 1, 0, 0, 0, 0, 0, 0, 0, 0, 0, 0, 0, 0, 0, 0, 0, 0, 0, 0, 0, 0, 0, 0, 0, 0, 0, 0, 0, 0, 0, 0, 0, 0, 0, 0, 0, 0, 0, 0, 0, 0, 0, 0, 0, 0, 0, 0, 0, 0, 0, 0, 0, 0, 0, 0, 0, 0, 0, 0, 0, 0, 0, 0, 0, 0, 0, 1, 1, 0, 0, 0, 0, 0, 0, 0, 0, 0, 0, 0, 0, 0, 0, 0, 0, 0, 0, 0, 0, 0, 0, 0, 0, 0, 0, 0, 0, 0, 0, 0, 0, 0, 0, 0, 0, 0, 0, 0, 0, 0, 0, 0, 0, 0, 0, 0, 0, 0, 0, 0, 0, 0, 0, 0, 0, 0, 0, 0, 0, 0, 0, 0, 0, 0, 0, 0, 0, 0, 0, 0, 0, 0, 0, 0, 0, 0, 0, 0, 0, 0, 0, 0, 0, 0, 0, 0, 0, 0, 0, 0, 0, 0, 0, 0], \"coloraxis\": \"coloraxis\"}, \"mode\": \"markers\", \"name\": \"\", \"showlegend\": false, \"subplot\": \"mapbox\", \"type\": \"scattermapbox\"}],\n",
       "                        {\"coloraxis\": {\"colorbar\": {\"title\": {\"text\": \"label\"}}, \"colorscale\": [[0.0, \"green\"], [1.0, \"red\"]], \"showscale\": false}, \"height\": 500, \"legend\": {\"tracegroupgap\": 0}, \"mapbox\": {\"center\": {\"lat\": 47.70625601174689, \"lon\": 17.708033217504457}, \"domain\": {\"x\": [0.0, 1.0], \"y\": [0.0, 1.0]}, \"style\": \"carto-positron\", \"zoom\": 11}, \"margin\": {\"b\": 0, \"l\": 0, \"r\": 0, \"t\": 0}, \"template\": {\"data\": {\"bar\": [{\"error_x\": {\"color\": \"#2a3f5f\"}, \"error_y\": {\"color\": \"#2a3f5f\"}, \"marker\": {\"line\": {\"color\": \"#E5ECF6\", \"width\": 0.5}}, \"type\": \"bar\"}], \"barpolar\": [{\"marker\": {\"line\": {\"color\": \"#E5ECF6\", \"width\": 0.5}}, \"type\": \"barpolar\"}], \"carpet\": [{\"aaxis\": {\"endlinecolor\": \"#2a3f5f\", \"gridcolor\": \"white\", \"linecolor\": \"white\", \"minorgridcolor\": \"white\", \"startlinecolor\": \"#2a3f5f\"}, \"baxis\": {\"endlinecolor\": \"#2a3f5f\", \"gridcolor\": \"white\", \"linecolor\": \"white\", \"minorgridcolor\": \"white\", \"startlinecolor\": \"#2a3f5f\"}, \"type\": \"carpet\"}], \"choropleth\": [{\"colorbar\": {\"outlinewidth\": 0, \"ticks\": \"\"}, \"type\": \"choropleth\"}], \"contour\": [{\"colorbar\": {\"outlinewidth\": 0, \"ticks\": \"\"}, \"colorscale\": [[0.0, \"#0d0887\"], [0.1111111111111111, \"#46039f\"], [0.2222222222222222, \"#7201a8\"], [0.3333333333333333, \"#9c179e\"], [0.4444444444444444, \"#bd3786\"], [0.5555555555555556, \"#d8576b\"], [0.6666666666666666, \"#ed7953\"], [0.7777777777777778, \"#fb9f3a\"], [0.8888888888888888, \"#fdca26\"], [1.0, \"#f0f921\"]], \"type\": \"contour\"}], \"contourcarpet\": [{\"colorbar\": {\"outlinewidth\": 0, \"ticks\": \"\"}, \"type\": \"contourcarpet\"}], \"heatmap\": [{\"colorbar\": {\"outlinewidth\": 0, \"ticks\": \"\"}, \"colorscale\": [[0.0, \"#0d0887\"], [0.1111111111111111, \"#46039f\"], [0.2222222222222222, \"#7201a8\"], [0.3333333333333333, \"#9c179e\"], [0.4444444444444444, \"#bd3786\"], [0.5555555555555556, \"#d8576b\"], [0.6666666666666666, \"#ed7953\"], [0.7777777777777778, \"#fb9f3a\"], [0.8888888888888888, \"#fdca26\"], [1.0, \"#f0f921\"]], \"type\": \"heatmap\"}], \"heatmapgl\": [{\"colorbar\": {\"outlinewidth\": 0, \"ticks\": \"\"}, \"colorscale\": [[0.0, \"#0d0887\"], [0.1111111111111111, \"#46039f\"], [0.2222222222222222, \"#7201a8\"], [0.3333333333333333, \"#9c179e\"], [0.4444444444444444, \"#bd3786\"], [0.5555555555555556, \"#d8576b\"], [0.6666666666666666, \"#ed7953\"], [0.7777777777777778, \"#fb9f3a\"], [0.8888888888888888, \"#fdca26\"], [1.0, \"#f0f921\"]], \"type\": \"heatmapgl\"}], \"histogram\": [{\"marker\": {\"colorbar\": {\"outlinewidth\": 0, \"ticks\": \"\"}}, \"type\": \"histogram\"}], \"histogram2d\": [{\"colorbar\": {\"outlinewidth\": 0, \"ticks\": \"\"}, \"colorscale\": [[0.0, \"#0d0887\"], [0.1111111111111111, \"#46039f\"], [0.2222222222222222, \"#7201a8\"], [0.3333333333333333, \"#9c179e\"], [0.4444444444444444, \"#bd3786\"], [0.5555555555555556, \"#d8576b\"], [0.6666666666666666, \"#ed7953\"], [0.7777777777777778, \"#fb9f3a\"], [0.8888888888888888, \"#fdca26\"], [1.0, \"#f0f921\"]], \"type\": \"histogram2d\"}], \"histogram2dcontour\": [{\"colorbar\": {\"outlinewidth\": 0, \"ticks\": \"\"}, \"colorscale\": [[0.0, \"#0d0887\"], [0.1111111111111111, \"#46039f\"], [0.2222222222222222, \"#7201a8\"], [0.3333333333333333, \"#9c179e\"], [0.4444444444444444, \"#bd3786\"], [0.5555555555555556, \"#d8576b\"], [0.6666666666666666, \"#ed7953\"], [0.7777777777777778, \"#fb9f3a\"], [0.8888888888888888, \"#fdca26\"], [1.0, \"#f0f921\"]], \"type\": \"histogram2dcontour\"}], \"mesh3d\": [{\"colorbar\": {\"outlinewidth\": 0, \"ticks\": \"\"}, \"type\": \"mesh3d\"}], \"parcoords\": [{\"line\": {\"colorbar\": {\"outlinewidth\": 0, \"ticks\": \"\"}}, \"type\": \"parcoords\"}], \"pie\": [{\"automargin\": true, \"type\": \"pie\"}], \"scatter\": [{\"marker\": {\"colorbar\": {\"outlinewidth\": 0, \"ticks\": \"\"}}, \"type\": \"scatter\"}], \"scatter3d\": [{\"line\": {\"colorbar\": {\"outlinewidth\": 0, \"ticks\": \"\"}}, \"marker\": {\"colorbar\": {\"outlinewidth\": 0, \"ticks\": \"\"}}, \"type\": \"scatter3d\"}], \"scattercarpet\": [{\"marker\": {\"colorbar\": {\"outlinewidth\": 0, \"ticks\": \"\"}}, \"type\": \"scattercarpet\"}], \"scattergeo\": [{\"marker\": {\"colorbar\": {\"outlinewidth\": 0, \"ticks\": \"\"}}, \"type\": \"scattergeo\"}], \"scattergl\": [{\"marker\": {\"colorbar\": {\"outlinewidth\": 0, \"ticks\": \"\"}}, \"type\": \"scattergl\"}], \"scattermapbox\": [{\"marker\": {\"colorbar\": {\"outlinewidth\": 0, \"ticks\": \"\"}}, \"type\": \"scattermapbox\"}], \"scatterpolar\": [{\"marker\": {\"colorbar\": {\"outlinewidth\": 0, \"ticks\": \"\"}}, \"type\": \"scatterpolar\"}], \"scatterpolargl\": [{\"marker\": {\"colorbar\": {\"outlinewidth\": 0, \"ticks\": \"\"}}, \"type\": \"scatterpolargl\"}], \"scatterternary\": [{\"marker\": {\"colorbar\": {\"outlinewidth\": 0, \"ticks\": \"\"}}, \"type\": \"scatterternary\"}], \"surface\": [{\"colorbar\": {\"outlinewidth\": 0, \"ticks\": \"\"}, \"colorscale\": [[0.0, \"#0d0887\"], [0.1111111111111111, \"#46039f\"], [0.2222222222222222, \"#7201a8\"], [0.3333333333333333, \"#9c179e\"], [0.4444444444444444, \"#bd3786\"], [0.5555555555555556, \"#d8576b\"], [0.6666666666666666, \"#ed7953\"], [0.7777777777777778, \"#fb9f3a\"], [0.8888888888888888, \"#fdca26\"], [1.0, \"#f0f921\"]], \"type\": \"surface\"}], \"table\": [{\"cells\": {\"fill\": {\"color\": \"#EBF0F8\"}, \"line\": {\"color\": \"white\"}}, \"header\": {\"fill\": {\"color\": \"#C8D4E3\"}, \"line\": {\"color\": \"white\"}}, \"type\": \"table\"}]}, \"layout\": {\"annotationdefaults\": {\"arrowcolor\": \"#2a3f5f\", \"arrowhead\": 0, \"arrowwidth\": 1}, \"coloraxis\": {\"colorbar\": {\"outlinewidth\": 0, \"ticks\": \"\"}}, \"colorscale\": {\"diverging\": [[0, \"#8e0152\"], [0.1, \"#c51b7d\"], [0.2, \"#de77ae\"], [0.3, \"#f1b6da\"], [0.4, \"#fde0ef\"], [0.5, \"#f7f7f7\"], [0.6, \"#e6f5d0\"], [0.7, \"#b8e186\"], [0.8, \"#7fbc41\"], [0.9, \"#4d9221\"], [1, \"#276419\"]], \"sequential\": [[0.0, \"#0d0887\"], [0.1111111111111111, \"#46039f\"], [0.2222222222222222, \"#7201a8\"], [0.3333333333333333, \"#9c179e\"], [0.4444444444444444, \"#bd3786\"], [0.5555555555555556, \"#d8576b\"], [0.6666666666666666, \"#ed7953\"], [0.7777777777777778, \"#fb9f3a\"], [0.8888888888888888, \"#fdca26\"], [1.0, \"#f0f921\"]], \"sequentialminus\": [[0.0, \"#0d0887\"], [0.1111111111111111, \"#46039f\"], [0.2222222222222222, \"#7201a8\"], [0.3333333333333333, \"#9c179e\"], [0.4444444444444444, \"#bd3786\"], [0.5555555555555556, \"#d8576b\"], [0.6666666666666666, \"#ed7953\"], [0.7777777777777778, \"#fb9f3a\"], [0.8888888888888888, \"#fdca26\"], [1.0, \"#f0f921\"]]}, \"colorway\": [\"#636efa\", \"#EF553B\", \"#00cc96\", \"#ab63fa\", \"#FFA15A\", \"#19d3f3\", \"#FF6692\", \"#B6E880\", \"#FF97FF\", \"#FECB52\"], \"font\": {\"color\": \"#2a3f5f\"}, \"geo\": {\"bgcolor\": \"white\", \"lakecolor\": \"white\", \"landcolor\": \"#E5ECF6\", \"showlakes\": true, \"showland\": true, \"subunitcolor\": \"white\"}, \"hoverlabel\": {\"align\": \"left\"}, \"hovermode\": \"closest\", \"mapbox\": {\"style\": \"light\"}, \"paper_bgcolor\": \"white\", \"plot_bgcolor\": \"#E5ECF6\", \"polar\": {\"angularaxis\": {\"gridcolor\": \"white\", \"linecolor\": \"white\", \"ticks\": \"\"}, \"bgcolor\": \"#E5ECF6\", \"radialaxis\": {\"gridcolor\": \"white\", \"linecolor\": \"white\", \"ticks\": \"\"}}, \"scene\": {\"xaxis\": {\"backgroundcolor\": \"#E5ECF6\", \"gridcolor\": \"white\", \"gridwidth\": 2, \"linecolor\": \"white\", \"showbackground\": true, \"ticks\": \"\", \"zerolinecolor\": \"white\"}, \"yaxis\": {\"backgroundcolor\": \"#E5ECF6\", \"gridcolor\": \"white\", \"gridwidth\": 2, \"linecolor\": \"white\", \"showbackground\": true, \"ticks\": \"\", \"zerolinecolor\": \"white\"}, \"zaxis\": {\"backgroundcolor\": \"#E5ECF6\", \"gridcolor\": \"white\", \"gridwidth\": 2, \"linecolor\": \"white\", \"showbackground\": true, \"ticks\": \"\", \"zerolinecolor\": \"white\"}}, \"shapedefaults\": {\"line\": {\"color\": \"#2a3f5f\"}}, \"ternary\": {\"aaxis\": {\"gridcolor\": \"white\", \"linecolor\": \"white\", \"ticks\": \"\"}, \"baxis\": {\"gridcolor\": \"white\", \"linecolor\": \"white\", \"ticks\": \"\"}, \"bgcolor\": \"#E5ECF6\", \"caxis\": {\"gridcolor\": \"white\", \"linecolor\": \"white\", \"ticks\": \"\"}}, \"title\": {\"x\": 0.05}, \"xaxis\": {\"automargin\": true, \"gridcolor\": \"white\", \"linecolor\": \"white\", \"ticks\": \"\", \"title\": {\"standoff\": 15}, \"zerolinecolor\": \"white\", \"zerolinewidth\": 2}, \"yaxis\": {\"automargin\": true, \"gridcolor\": \"white\", \"linecolor\": \"white\", \"ticks\": \"\", \"title\": {\"standoff\": 15}, \"zerolinecolor\": \"white\", \"zerolinewidth\": 2}}}},\n",
       "                        {\"responsive\": true}\n",
       "                    ).then(function(){\n",
       "                            \n",
       "var gd = document.getElementById('c2bcd37c-dab4-4f1f-8f72-b0bc90e455d8');\n",
       "var x = new MutationObserver(function (mutations, observer) {{\n",
       "        var display = window.getComputedStyle(gd).display;\n",
       "        if (!display || display === 'none') {{\n",
       "            console.log([gd, 'removed!']);\n",
       "            Plotly.purge(gd);\n",
       "            observer.disconnect();\n",
       "        }}\n",
       "}});\n",
       "\n",
       "// Listen for the removal of the full notebook cells\n",
       "var notebookContainer = gd.closest('#notebook-container');\n",
       "if (notebookContainer) {{\n",
       "    x.observe(notebookContainer, {childList: true});\n",
       "}}\n",
       "\n",
       "// Listen for the clearing of the current output cell\n",
       "var outputEl = gd.closest('.output');\n",
       "if (outputEl) {{\n",
       "    x.observe(outputEl, {childList: true});\n",
       "}}\n",
       "\n",
       "                        })\n",
       "                };\n",
       "                });\n",
       "            </script>\n",
       "        </div>"
      ]
     },
     "metadata": {},
     "output_type": "display_data"
    }
   ],
   "source": [
    "fig = go.Figure()\n",
    "fig = px.scatter_mapbox(map_df, \n",
    "                        lat=\"lat\", \n",
    "                        lon=\"lon\",\n",
    "                        zoom = 11, \n",
    "                        height=500, \n",
    "                        color = \"label\", \n",
    "                        color_continuous_scale=[\"green\",\"red\"])\n",
    "fig.update_layout(mapbox_style=\"carto-positron\")\n",
    "fig.update_layout(margin={\"r\":0,\"t\":0,\"l\":0,\"b\":0})\n",
    "fig.layout.coloraxis.showscale = False\n",
    "fig"
   ]
  },
  {
   "cell_type": "code",
   "execution_count": null,
   "metadata": {},
   "outputs": [],
   "source": []
  }
 ],
 "metadata": {
  "kernelspec": {
   "display_name": "Python 3",
   "language": "python",
   "name": "python3"
  },
  "language_info": {
   "codemirror_mode": {
    "name": "ipython",
    "version": 3
   },
   "file_extension": ".py",
   "mimetype": "text/x-python",
   "name": "python",
   "nbconvert_exporter": "python",
   "pygments_lexer": "ipython3",
   "version": "3.7.5"
  },
  "notify_time": "5",
  "toc": {
   "base_numbering": 1,
   "nav_menu": {},
   "number_sections": true,
   "sideBar": true,
   "skip_h1_title": false,
   "title_cell": "Table of Contents",
   "title_sidebar": "Contents",
   "toc_cell": false,
   "toc_position": {},
   "toc_section_display": true,
   "toc_window_display": true
  },
  "varInspector": {
   "cols": {
    "lenName": 16,
    "lenType": 16,
    "lenVar": 40
   },
   "kernels_config": {
    "python": {
     "delete_cmd_postfix": "",
     "delete_cmd_prefix": "del ",
     "library": "var_list.py",
     "varRefreshCmd": "print(var_dic_list())"
    },
    "r": {
     "delete_cmd_postfix": ") ",
     "delete_cmd_prefix": "rm(",
     "library": "var_list.r",
     "varRefreshCmd": "cat(var_dic_list()) "
    }
   },
   "position": {
    "height": "646.719px",
    "left": "979.091px",
    "right": "20px",
    "top": "120px",
    "width": "350px"
   },
   "types_to_exclude": [
    "module",
    "function",
    "builtin_function_or_method",
    "instance",
    "_Feature"
   ],
   "window_display": false
  }
 },
 "nbformat": 4,
 "nbformat_minor": 4
}
