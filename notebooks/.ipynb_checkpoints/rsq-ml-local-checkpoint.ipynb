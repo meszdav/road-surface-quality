{
 "cells": [
  {
   "cell_type": "markdown",
   "metadata": {},
   "source": [
    "## Import dependencies\n"
   ]
  },
  {
   "cell_type": "code",
   "execution_count": 108,
   "metadata": {
    "ExecuteTime": {
     "end_time": "2020-08-21T15:53:59.562817Z",
     "start_time": "2020-08-21T15:53:59.190983Z"
    }
   },
   "outputs": [],
   "source": [
    "import pandas as pd\n",
    "from sklearn.ensemble import RandomForestClassifier\n",
    "from sklearn.svm import SVC\n",
    "from sklearn.neighbors import KNeighborsClassifier\n",
    "from sklearn.ensemble import AdaBoostClassifier\n",
    "from sklearn.preprocessing import MinMaxScaler, StandardScaler\n",
    "from sklearn.metrics import accuracy_score\n",
    "\n",
    "import seaborn as sns"
   ]
  },
  {
   "cell_type": "markdown",
   "metadata": {},
   "source": [
    "## Read data"
   ]
  },
  {
   "cell_type": "code",
   "execution_count": 119,
   "metadata": {
    "ExecuteTime": {
     "end_time": "2020-08-21T15:56:55.022724Z",
     "start_time": "2020-08-21T15:56:54.900780Z"
    }
   },
   "outputs": [],
   "source": [
    "X_train = pd.read_csv(\"../data/train_test_val/X_train.csv\", header=[0,1], index_col=0)\n",
    "X_test = pd.read_csv(\"../data/train_test_val/X_test.csv\", header=[0,1], index_col=0)\n",
    "X_val = pd.read_csv(\"../data/train_test_val/X_val.csv\", header=[0,1], index_col=0)\n",
    "\n",
    "y_train = pd.read_csv(\"../data/train_test_val/y_train.csv\", index_col=0) \n",
    "y_val = pd.read_csv(\"../data/train_test_val/y_val.csv\", index_col=0)\n",
    "y_test = pd.read_csv(\"../data/train_test_val/y_test.csv\", index_col=0)"
   ]
  },
  {
   "cell_type": "markdown",
   "metadata": {},
   "source": [
    "### Creating ML Pipeline"
   ]
  },
  {
   "cell_type": "code",
   "execution_count": 88,
   "metadata": {
    "ExecuteTime": {
     "end_time": "2020-08-21T15:48:50.558618Z",
     "start_time": "2020-08-21T15:48:50.552620Z"
    }
   },
   "outputs": [],
   "source": [
    "rfc = RandomForestClassifier(random_state=42)\n",
    "svc = SVC(random_state=42)\n",
    "knc = KNeighborsClassifier()\n",
    "abc = AdaBoostClassifier(random_state=42)\n",
    "\n",
    "models = {\"rfc\": rfc,\"svc\": svc, \"knc\" : knc,\"abc\" : abc}"
   ]
  },
  {
   "cell_type": "code",
   "execution_count": 89,
   "metadata": {
    "ExecuteTime": {
     "end_time": "2020-08-21T15:48:51.161437Z",
     "start_time": "2020-08-21T15:48:51.112467Z"
    }
   },
   "outputs": [
    {
     "name": "stderr",
     "output_type": "stream",
     "text": [
      "c:\\users\\mesza\\.virtualenvs\\road-surface-quality-7nv9hwjf\\lib\\site-packages\\pandas\\core\\generic.py:3878: PerformanceWarning: dropping on a non-lexsorted multi-index without a level parameter may impact performance.\n",
      "  obj = obj._drop_axis(labels, axis, level=level, errors=errors)\n",
      "c:\\users\\mesza\\.virtualenvs\\road-surface-quality-7nv9hwjf\\lib\\site-packages\\pandas\\core\\generic.py:3878: PerformanceWarning: dropping on a non-lexsorted multi-index without a level parameter may impact performance.\n",
      "  obj = obj._drop_axis(labels, axis, level=level, errors=errors)\n",
      "c:\\users\\mesza\\.virtualenvs\\road-surface-quality-7nv9hwjf\\lib\\site-packages\\pandas\\core\\generic.py:3878: PerformanceWarning: dropping on a non-lexsorted multi-index without a level parameter may impact performance.\n",
      "  obj = obj._drop_axis(labels, axis, level=level, errors=errors)\n"
     ]
    }
   ],
   "source": [
    "scaler = MinMaxScaler()\n",
    "scaled_X_train = scaler.fit_transform(X_train.drop(\"id_gps\", axis=1)) \n",
    "scaled_X_val = scaler.fit_transform(X_val.drop(\"id_gps\", axis=1))\n",
    "scaled_X_test = scaler.fit_transform(X_test.drop(\"id_gps\", axis=1))"
   ]
  },
  {
   "cell_type": "code",
   "execution_count": 92,
   "metadata": {
    "ExecuteTime": {
     "end_time": "2020-08-21T15:49:38.781285Z",
     "start_time": "2020-08-21T15:49:38.767292Z"
    }
   },
   "outputs": [
    {
     "name": "stderr",
     "output_type": "stream",
     "text": [
      "c:\\users\\mesza\\.virtualenvs\\road-surface-quality-7nv9hwjf\\lib\\site-packages\\pandas\\core\\generic.py:3878: PerformanceWarning: dropping on a non-lexsorted multi-index without a level parameter may impact performance.\n",
      "  obj = obj._drop_axis(labels, axis, level=level, errors=errors)\n"
     ]
    }
   ],
   "source": [
    "X_train = X_train.drop(\"id_gps\", axis = 1)\n",
    "X_val = X_val.drop(\"id_gps\", axis = 1)\n",
    "X_test = X_test.drop(\"id_gps\", axis = 1)\n",
    "y_train = y_train.values.reshape(-1)\n",
    "y_val = y_val.values.reshape(-1)\n",
    "y_test = y_test.values.reshape(-1)\n"
   ]
  },
  {
   "cell_type": "code",
   "execution_count": 93,
   "metadata": {
    "ExecuteTime": {
     "end_time": "2020-08-21T15:49:40.479512Z",
     "start_time": "2020-08-21T15:49:39.254195Z"
    }
   },
   "outputs": [
    {
     "name": "stdout",
     "output_type": "stream",
     "text": [
      "Accuracy Score rfc: 0.8519\n",
      "Accuracy Score svc: 0.8624\n",
      "Accuracy Score knc: 0.8307\n",
      "Accuracy Score abc: 0.8307\n"
     ]
    }
   ],
   "source": [
    "for m in models:\n",
    "    \n",
    "    model = models[m].fit(scaled_X_train, y_train)\n",
    "    preds = model.predict(scaled_X_val)\n",
    "    accuracy = accuracy_score(y_val, preds)\n",
    "    \n",
    "    print(\"Accuracy Score {}: {:.4f}\".format(m,accuracy))"
   ]
  },
  {
   "cell_type": "markdown",
   "metadata": {},
   "source": [
    "The best results belongs to the RandomForest Classifier, but the KNC results are promising as well."
   ]
  },
  {
   "cell_type": "markdown",
   "metadata": {},
   "source": [
    "## Hyperparameter tuning"
   ]
  },
  {
   "cell_type": "code",
   "execution_count": 94,
   "metadata": {
    "ExecuteTime": {
     "end_time": "2020-08-21T15:49:43.799360Z",
     "start_time": "2020-08-21T15:49:43.795361Z"
    }
   },
   "outputs": [],
   "source": [
    "from sklearn.model_selection import RandomizedSearchCV"
   ]
  },
  {
   "cell_type": "code",
   "execution_count": 99,
   "metadata": {
    "ExecuteTime": {
     "end_time": "2020-08-21T15:52:35.380022Z",
     "start_time": "2020-08-21T15:51:09.804156Z"
    }
   },
   "outputs": [
    {
     "data": {
      "text/plain": [
       "RandomizedSearchCV(estimator=RandomForestClassifier(random_state=42), n_iter=16,\n",
       "                   param_distributions={'max_depth': [None, 4, 10],\n",
       "                                        'min_samples_leaf': [2, 4, 8],\n",
       "                                        'min_samples_split': [2, 4, 8],\n",
       "                                        'n_estimators': [20, 80, 100, 400,\n",
       "                                                         800]},\n",
       "                   random_state=42, scoring='accuracy')"
      ]
     },
     "execution_count": 99,
     "metadata": {},
     "output_type": "execute_result"
    }
   ],
   "source": [
    "params = {\n",
    "        \"max_depth\": [None, 4, 10],\n",
    "        \"min_samples_leaf\": [2, 4, 8],\n",
    "        \"min_samples_split\": [2, 4, 8],\n",
    "        \"n_estimators\": [20, 80, 100, 400, 800]\n",
    "}\n",
    "\n",
    "rfc_search = RandomizedSearchCV(rfc, \n",
    "                                params, \n",
    "                                n_iter=16,\n",
    "                                scoring=\"accuracy\",\n",
    "                                random_state=42)\n",
    "\n",
    "rfc_search.fit(scaled_X_train, y_train)"
   ]
  },
  {
   "cell_type": "code",
   "execution_count": 112,
   "metadata": {
    "ExecuteTime": {
     "end_time": "2020-08-21T15:55:36.409765Z",
     "start_time": "2020-08-21T15:55:36.299829Z"
    },
    "scrolled": true
   },
   "outputs": [
    {
     "data": {
      "text/plain": [
       "0.8783068783068783"
      ]
     },
     "execution_count": 112,
     "metadata": {},
     "output_type": "execute_result"
    }
   ],
   "source": [
    "best_model = rfc_search.best_estimator_\n",
    "preds = best_model.predict(scaled_X_val)\n",
    "\n",
    "accuracy_score(y_val,preds)"
   ]
  },
  {
   "cell_type": "markdown",
   "metadata": {},
   "source": [
    "### Cross Validation"
   ]
  },
  {
   "cell_type": "code",
   "execution_count": 113,
   "metadata": {
    "ExecuteTime": {
     "end_time": "2020-08-21T15:55:37.370635Z",
     "start_time": "2020-08-21T15:55:37.366635Z"
    }
   },
   "outputs": [],
   "source": [
    "from sklearn.model_selection import cross_validate\n",
    "from sklearn.metrics import confusion_matrix"
   ]
  },
  {
   "cell_type": "code",
   "execution_count": 114,
   "metadata": {
    "ExecuteTime": {
     "end_time": "2020-08-21T15:55:43.838938Z",
     "start_time": "2020-08-21T15:55:37.942305Z"
    }
   },
   "outputs": [
    {
     "data": {
      "text/plain": [
       "{'fit_time': array([1.56409907, 1.10236526, 0.99742293, 0.96044326, 0.96843457]),\n",
       " 'score_time': array([0.09394646, 0.05397797, 0.04996872, 0.04098296, 0.04797959]),\n",
       " 'test_score': array([0.81578947, 0.92105263, 0.81578947, 0.86842105, 0.91891892])}"
      ]
     },
     "execution_count": 114,
     "metadata": {},
     "output_type": "execute_result"
    }
   ],
   "source": [
    "cross_validate(best_model,\n",
    "               X =  scaled_X_val,\n",
    "               y = np.ravel(y_val))"
   ]
  },
  {
   "cell_type": "code",
   "execution_count": 116,
   "metadata": {
    "ExecuteTime": {
     "end_time": "2020-08-21T15:55:50.008697Z",
     "start_time": "2020-08-21T15:55:50.002701Z"
    }
   },
   "outputs": [],
   "source": [
    "cm = confusion_matrix(y_val,preds)"
   ]
  },
  {
   "cell_type": "code",
   "execution_count": 117,
   "metadata": {
    "ExecuteTime": {
     "end_time": "2020-08-21T15:55:51.325695Z",
     "start_time": "2020-08-21T15:55:51.158791Z"
    }
   },
   "outputs": [
    {
     "data": {
      "text/plain": [
       "<matplotlib.axes._subplots.AxesSubplot at 0x2d5da669608>"
      ]
     },
     "execution_count": 117,
     "metadata": {},
     "output_type": "execute_result"
    },
    {
     "data": {
      "image/png": "[encoded data removed]",
      "text/plain": [
       "<Figure size 432x288 with 1 Axes>"
      ]
     },
     "metadata": {
      "needs_background": "light"
     },
     "output_type": "display_data"
    }
   ],
   "source": [
    "sns.heatmap(cm, cmap=\"viridis\", annot= True, cbar = False)"
   ]
  },
  {
   "cell_type": "markdown",
   "metadata": {},
   "source": [
    "## Save the model"
   ]
  },
  {
   "cell_type": "code",
   "execution_count": 125,
   "metadata": {
    "ExecuteTime": {
     "end_time": "2020-08-21T16:02:10.378453Z",
     "start_time": "2020-08-21T16:02:10.021658Z"
    }
   },
   "outputs": [
    {
     "data": {
      "text/plain": [
       "['../models/rfc_v01.joblib']"
      ]
     },
     "execution_count": 125,
     "metadata": {},
     "output_type": "execute_result"
    }
   ],
   "source": [
    "from joblib import dump, load\n",
    "dump(best_model, '../models/rfc_v01.joblib') "
   ]
  }
 ],
 "metadata": {
  "kernelspec": {
   "display_name": "Python 3",
   "language": "python",
   "name": "python3"
  },
  "language_info": {
   "codemirror_mode": {
    "name": "ipython",
    "version": 3
   },
   "file_extension": ".py",
   "mimetype": "text/x-python",
   "name": "python",
   "nbconvert_exporter": "python",
   "pygments_lexer": "ipython3",
   "version": "3.7.5"
  },
  "toc": {
   "base_numbering": 1,
   "nav_menu": {},
   "number_sections": true,
   "sideBar": true,
   "skip_h1_title": false,
   "title_cell": "Table of Contents",
   "title_sidebar": "Contents",
   "toc_cell": false,
   "toc_position": {},
   "toc_section_display": true,
   "toc_window_display": false
  },
  "varInspector": {
   "cols": {
    "lenName": 16,
    "lenType": 16,
    "lenVar": 40
   },
   "kernels_config": {
    "python": {
     "delete_cmd_postfix": "",
     "delete_cmd_prefix": "del ",
     "library": "var_list.py",
     "varRefreshCmd": "print(var_dic_list())"
    },
    "r": {
     "delete_cmd_postfix": ") ",
     "delete_cmd_prefix": "rm(",
     "library": "var_list.r",
     "varRefreshCmd": "cat(var_dic_list()) "
    }
   },
   "types_to_exclude": [
    "module",
    "function",
    "builtin_function_or_method",
    "instance",
    "_Feature"
   ],
   "window_display": false
  }
 },
 "nbformat": 4,
 "nbformat_minor": 4
}
