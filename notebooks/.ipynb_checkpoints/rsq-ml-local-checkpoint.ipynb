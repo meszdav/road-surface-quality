<<<<<<< HEAD
{
 "cells": [
  {
   "cell_type": "markdown",
   "metadata": {},
   "source": [
    "# Machine Learning"
   ]
  },
  {
   "cell_type": "markdown",
   "metadata": {},
   "source": [
    "## Import dependencies\n"
   ]
  },
  {
   "cell_type": "code",
   "execution_count": 4,
   "metadata": {
    "ExecuteTime": {
     "end_time": "2020-08-29T17:11:11.365139Z",
     "start_time": "2020-08-29T17:11:11.174246Z"
    }
   },
   "outputs": [],
   "source": [
    "import pandas as pd\n",
    "from sklearn.ensemble import RandomForestClassifier\n",
    "from sklearn.svm import SVC\n",
    "from sklearn.neighbors import KNeighborsClassifier\n",
    "from sklearn.ensemble import AdaBoostClassifier, GradientBoostingClassifier\n",
    "from sklearn.naive_bayes import GaussianNB\n",
    "from sklearn.linear_model import LogisticRegressionCV\n",
    "from sklearn.preprocessing import MinMaxScaler, StandardScaler\n",
    "from sklearn.metrics import accuracy_score, f1_score, precision_score, recall_score\n",
    "import matplotlib.pyplot as plt\n",
    "from sklearn.model_selection import cross_validate\n",
    "from sklearn.metrics import confusion_matrix\n",
    "\n",
    "import seaborn as sns"
   ]
  },
  {
   "cell_type": "markdown",
   "metadata": {},
   "source": [
    "## Read data"
   ]
  },
  {
   "cell_type": "code",
   "execution_count": 5,
   "metadata": {
    "ExecuteTime": {
     "end_time": "2020-08-29T17:11:12.293686Z",
     "start_time": "2020-08-29T17:11:12.277696Z"
    }
   },
   "outputs": [],
   "source": [
    "def read_train_test_data():\n",
    "    \"\"\"Returns: X_train, X_test, X_val, y_train, y_test, y_val\"\"\"\n",
    "    \n",
    "    X_train = pd.read_csv(\"../data/train_test_val/X_train.csv\", \n",
    "                          header=[0], index_col=0).reset_index(drop=True)\n",
    "    X_test = pd.read_csv(\"../data/train_test_val/X_test.csv\", \n",
    "                         header=[0], index_col=0).reset_index(drop=True)\n",
    "    X_val = pd.read_csv(\"../data/train_test_val/X_val.csv\", \n",
    "                        header=[0], index_col=0).reset_index(drop=True)\n",
    "    \n",
    "    X_train = X_train.drop([\"measurementID\",\"id_gps\"], axis=1)\n",
    "    X_val = X_val.drop([\"measurementID\",\"id_gps\"], axis=1)\n",
    "    X_test = X_test.drop([\"measurementID\",\"id_gps\"], axis=1)\n",
    "\n",
    "    y_train = pd.read_csv(\"../data/train_test_val/y_train.csv\", index_col=0)\\\n",
    "        .reset_index(drop=True).values.reshape(-1)\n",
    "    y_val = pd.read_csv(\"../data/train_test_val/y_val.csv\", index_col = 0)\\\n",
    "        .reset_index(drop=True).values.reshape(-1)\n",
    "    y_test = pd.read_csv(\"../data/train_test_val/y_test.csv\", index_col = 0)\\\n",
    "        .reset_index(drop=True).values.reshape(-1)\n",
    "    \n",
    "    return X_train, X_test, X_val, y_train, y_test, y_val"
   ]
  },
  {
   "cell_type": "markdown",
   "metadata": {},
   "source": [
    "### Creating ML Pipeline"
   ]
  },
  {
   "cell_type": "code",
   "execution_count": 6,
   "metadata": {
    "ExecuteTime": {
     "end_time": "2020-08-29T17:11:13.502846Z",
     "start_time": "2020-08-29T17:11:13.493850Z"
    }
   },
   "outputs": [],
   "source": [
    "def define_models():\n",
    "    \n",
    "    rfc = RandomForestClassifier(random_state=42)\n",
    "    svc = SVC(random_state=42)\n",
    "    knc = KNeighborsClassifier()\n",
    "    abc = AdaBoostClassifier(random_state=42)\n",
    "    gbc = GradientBoostingClassifier(random_state=42)\n",
    "    gnb = GaussianNB()\n",
    "    # lr = LogisticRegressionCV(max_iter=500, random_state=42)\n",
    "\n",
    "    models = {\"rfc\": rfc,\"svc\": svc, \"knc\" : knc,\n",
    "              \"abc\" : abc, \"gbc\" : gbc, \"gnb\" :gnb}\n",
    "    \n",
    "    return models"
   ]
  },
  {
   "cell_type": "code",
   "execution_count": 45,
   "metadata": {
    "ExecuteTime": {
     "end_time": "2020-08-29T17:16:46.762324Z",
     "start_time": "2020-08-29T17:16:46.742333Z"
    },
    "scrolled": false
   },
   "outputs": [],
   "source": [
    "def train_models(scaler = False):\n",
    "    \n",
    "    X_train, X_test, X_val, y_train, y_test, y_val = read_train_test_data()\n",
    "    \n",
    "    scaler = StandardScaler()\n",
    "    scaled_X_train = scaler.fit_transform(X_train) \n",
    "    scaled_X_val = scaler.fit_transform(X_val)\n",
    "    scaled_X_test = scaler.fit_transform(X_test)\n",
    "\n",
    "    if scaler:\n",
    "        X_train = scaled_X_train\n",
    "        X_val = scaled_X_val\n",
    "        X_test = scaled_X_test \n",
    "        \n",
    "        \n",
    "        \n",
    "    result = {\"model\" : [],\n",
    "             \"accuracy\" : [],\n",
    "             \"precision\" : [],\n",
    "             \"recall\" : [],\n",
    "             \"cross_val_min\" : [],\n",
    "             \"cross_val_max\" : [],\n",
    "             \"cross_val_delta\" : []}\n",
    "    \n",
    "    models = define_models()\n",
    "\n",
    "    for m in models:\n",
    "\n",
    "        model = models[m].fit(X_train, y_train)\n",
    "        preds = model.predict(X_val)\n",
    "\n",
    "        accuracy = accuracy_score(y_val,preds)\n",
    "        precision = precision_score(y_val,preds,average=\"weighted\")\n",
    "        recall = recall_score(y_val,preds, average=\"weighted\")\n",
    "        f1 = f1_score(y_val, preds, average=\"weighted\")\n",
    "\n",
    "#         print(\"Metrics on Validation Dataset:\")\n",
    "#         print(\"\\n\")\n",
    "\n",
    "#         print(f\"Accuracy {m}: {accuracy}\")\n",
    "#         print(f\"Precision {m}: {precision}\")\n",
    "#         print(f\"Recall {m}: {recall}\")\n",
    "#         print(f\"F1 Score {m}: {f1}\")\n",
    "\n",
    "#         print(\"\\n\")\n",
    "#         print(\"Cross Validation on Test Dataset:\")\n",
    "#         print(\"\\n\")\n",
    "        cv = cross_validate(model,\n",
    "                            X =  X_test,\n",
    "                            y = np.ravel(y_test),\n",
    "                            cv = 10)\n",
    "\n",
    "#         print(\"{} accuracy is {:.2f}±{:.2f}\".format(m,cv[\"test_score\"].mean()*100,cv[\"test_score\"].std()*100))\n",
    "\n",
    "\n",
    "#         print(\"\\n\")\n",
    "#         print(\"Test Scores:\\n min: {}\\n max: {}\\n delta: {}\"\\\n",
    "#               .format(cv[\"test_score\"].min(), \n",
    "#                       cv[\"test_score\"].max(),\n",
    "#                       cv[\"test_score\"].max()-cv[\"test_score\"].min()))\n",
    "#         print(\"\\n\")\n",
    "#         print(\"*\"*20)\n",
    "#         print(\"\\n\")\n",
    "\n",
    "        cm = confusion_matrix(y_val,preds)\n",
    "\n",
    "        fig = plt.figure()\n",
    "        fig = plt.title(m)\n",
    "        sns.heatmap(cm, cmap=\"viridis\", annot= True, cbar = False)\n",
    "        \n",
    "        result[\"model\"].append(m)\n",
    "        result[\"accuracy\"].append(accuracy)\n",
    "        result[\"precision\"].append(precision)\n",
    "        result[\"recall\"].append(recall)\n",
    "        result[\"cross_val_min\"].append(cv[\"test_score\"].min())\n",
    "        result[\"cross_val_max\"].append(cv[\"test_score\"].max())\n",
    "        result[\"cross_val_delta\"].append(cv[\"test_score\"].max()-cv[\"test_score\"].min())\n",
    "        \n",
    "    summary = pd.DataFrame(result)\n",
    "    \n",
    "    return summary\n",
    "        "
   ]
  },
  {
   "cell_type": "code",
   "execution_count": 46,
   "metadata": {
    "ExecuteTime": {
     "end_time": "2020-08-29T17:17:04.625574Z",
     "start_time": "2020-08-29T17:16:47.319496Z"
    },
    "scrolled": false
   },
   "outputs": [
    {
     "data": {
      "image/png": "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\n",
      "text/plain": [
       "<Figure size 432x288 with 1 Axes>"
      ]
     },
     "metadata": {
      "needs_background": "light"
     },
     "output_type": "display_data"
    },
    {
     "data": {
      "image/png": "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\n",
      "text/plain": [
       "<Figure size 432x288 with 1 Axes>"
      ]
     },
     "metadata": {
      "needs_background": "light"
     },
     "output_type": "display_data"
    },
    {
     "data": {
      "image/png": "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\n",
      "text/plain": [
       "<Figure size 432x288 with 1 Axes>"
      ]
     },
     "metadata": {
      "needs_background": "light"
     },
     "output_type": "display_data"
    },
    {
     "data": {
      "image/png": "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\n",
      "text/plain": [
       "<Figure size 432x288 with 1 Axes>"
      ]
     },
     "metadata": {
      "needs_background": "light"
     },
     "output_type": "display_data"
    },
    {
     "data": {
      "image/png": "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\n",
      "text/plain": [
       "<Figure size 432x288 with 1 Axes>"
      ]
     },
     "metadata": {
      "needs_background": "light"
     },
     "output_type": "display_data"
    },
    {
     "data": {
      "image/png": "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\n",
      "text/plain": [
       "<Figure size 432x288 with 1 Axes>"
      ]
     },
     "metadata": {
      "needs_background": "light"
     },
     "output_type": "display_data"
    }
   ],
   "source": [
    "summary = train_models()"
   ]
  },
  {
   "cell_type": "code",
   "execution_count": 47,
   "metadata": {
    "ExecuteTime": {
     "end_time": "2020-08-29T17:17:04.892419Z",
     "start_time": "2020-08-29T17:17:04.863442Z"
    }
   },
   "outputs": [
    {
     "data": {
      "text/html": [
       "<div>\n",
       "<style scoped>\n",
       "    .dataframe tbody tr th:only-of-type {\n",
       "        vertical-align: middle;\n",
       "    }\n",
       "\n",
       "    .dataframe tbody tr th {\n",
       "        vertical-align: top;\n",
       "    }\n",
       "\n",
       "    .dataframe thead th {\n",
       "        text-align: right;\n",
       "    }\n",
       "</style>\n",
       "<table border=\"1\" class=\"dataframe\">\n",
       "  <thead>\n",
       "    <tr style=\"text-align: right;\">\n",
       "      <th></th>\n",
       "      <th>model</th>\n",
       "      <th>accuracy</th>\n",
       "      <th>precision</th>\n",
       "      <th>recall</th>\n",
       "      <th>cross_val_min</th>\n",
       "      <th>cross_val_max</th>\n",
       "      <th>cross_val_delta</th>\n",
       "    </tr>\n",
       "  </thead>\n",
       "  <tbody>\n",
       "    <tr>\n",
       "      <th>0</th>\n",
       "      <td>rfc</td>\n",
       "      <td>0.951662</td>\n",
       "      <td>0.952894</td>\n",
       "      <td>0.951662</td>\n",
       "      <td>0.826087</td>\n",
       "      <td>1.0</td>\n",
       "      <td>0.173913</td>\n",
       "    </tr>\n",
       "    <tr>\n",
       "      <th>1</th>\n",
       "      <td>svc</td>\n",
       "      <td>0.951662</td>\n",
       "      <td>0.951684</td>\n",
       "      <td>0.951662</td>\n",
       "      <td>0.869565</td>\n",
       "      <td>1.0</td>\n",
       "      <td>0.130435</td>\n",
       "    </tr>\n",
       "    <tr>\n",
       "      <th>2</th>\n",
       "      <td>knc</td>\n",
       "      <td>0.951662</td>\n",
       "      <td>0.952129</td>\n",
       "      <td>0.951662</td>\n",
       "      <td>0.739130</td>\n",
       "      <td>1.0</td>\n",
       "      <td>0.260870</td>\n",
       "    </tr>\n",
       "    <tr>\n",
       "      <th>3</th>\n",
       "      <td>abc</td>\n",
       "      <td>0.942598</td>\n",
       "      <td>0.943574</td>\n",
       "      <td>0.942598</td>\n",
       "      <td>0.869565</td>\n",
       "      <td>1.0</td>\n",
       "      <td>0.130435</td>\n",
       "    </tr>\n",
       "    <tr>\n",
       "      <th>4</th>\n",
       "      <td>gbc</td>\n",
       "      <td>0.957704</td>\n",
       "      <td>0.958422</td>\n",
       "      <td>0.957704</td>\n",
       "      <td>0.869565</td>\n",
       "      <td>1.0</td>\n",
       "      <td>0.130435</td>\n",
       "    </tr>\n",
       "    <tr>\n",
       "      <th>5</th>\n",
       "      <td>gnb</td>\n",
       "      <td>0.942598</td>\n",
       "      <td>0.943134</td>\n",
       "      <td>0.942598</td>\n",
       "      <td>0.826087</td>\n",
       "      <td>1.0</td>\n",
       "      <td>0.173913</td>\n",
       "    </tr>\n",
       "  </tbody>\n",
       "</table>\n",
       "</div>"
      ],
      "text/plain": [
       "  model  accuracy  precision    recall  cross_val_min  cross_val_max  \\\n",
       "0   rfc  0.951662   0.952894  0.951662       0.826087            1.0   \n",
       "1   svc  0.951662   0.951684  0.951662       0.869565            1.0   \n",
       "2   knc  0.951662   0.952129  0.951662       0.739130            1.0   \n",
       "3   abc  0.942598   0.943574  0.942598       0.869565            1.0   \n",
       "4   gbc  0.957704   0.958422  0.957704       0.869565            1.0   \n",
       "5   gnb  0.942598   0.943134  0.942598       0.826087            1.0   \n",
       "\n",
       "   cross_val_delta  \n",
       "0         0.173913  \n",
       "1         0.130435  \n",
       "2         0.260870  \n",
       "3         0.130435  \n",
       "4         0.130435  \n",
       "5         0.173913  "
      ]
     },
     "execution_count": 47,
     "metadata": {},
     "output_type": "execute_result"
    }
   ],
   "source": [
    "summary"
   ]
  },
  {
   "cell_type": "markdown",
   "metadata": {},
   "source": [
    "## Hyperparameter tuning"
   ]
  },
  {
   "cell_type": "code",
   "execution_count": 10,
   "metadata": {
    "ExecuteTime": {
     "end_time": "2020-08-29T17:11:35.301346Z",
     "start_time": "2020-08-29T17:11:35.296352Z"
    }
   },
   "outputs": [],
   "source": [
    "from sklearn.model_selection import RandomizedSearchCV\n",
    "from sklearn.model_selection import GridSearchCV"
   ]
  },
  {
   "cell_type": "raw",
   "metadata": {
    "ExecuteTime": {
     "end_time": "2020-08-26T18:54:14.192761Z",
     "start_time": "2020-08-26T18:53:45.531210Z"
    }
   },
   "source": [
    "params = {\n",
    "        \"min_samples_leaf\": [1,2,3 ,4, 8,16,20],\n",
    "        \"min_samples_split\": [2, 4, 8, 12],\n",
    "        \"n_estimators\": [100, 400, 800,1200]\n",
    "}\n",
    "\n",
    "rfc_search = RandomizedSearchCV(rfc, \n",
    "                                params, \n",
    "                                n_iter=36,\n",
    "#                                 average = \"weighted\",\n",
    "                                scoring=\"recall_weighted\",\n",
    "                                random_state=42)\n",
    "\n",
    "rfc_search.fit(scaled_X_train, y_train)"
   ]
  },
  {
   "cell_type": "raw",
   "metadata": {
    "ExecuteTime": {
     "end_time": "2020-08-25T19:30:48.206438Z",
     "start_time": "2020-08-25T19:25:32.678572Z"
    }
   },
   "source": [
    "params = {\n",
    "        \"max_depth\": [None, 4],\n",
    "        \"min_samples_leaf\": [1, 2, 3 ,4],\n",
    "        \"min_samples_split\": [2, 4, 8],\n",
    "        \"n_estimators\": [20, 80, 100, 400]\n",
    "}\n",
    "\n",
    "rfc_search = GridSearchCV(rfc, \n",
    "                          params\n",
    "                         )\n",
    "\n",
    "rfc_search.fit(scaled_X_train, y_train)"
   ]
  },
  {
   "cell_type": "markdown",
   "metadata": {},
   "source": [
    "### Cross Validation"
   ]
  },
  {
   "cell_type": "code",
   "execution_count": 11,
   "metadata": {
    "ExecuteTime": {
     "end_time": "2020-08-29T17:11:35.504235Z",
     "start_time": "2020-08-29T17:11:35.329331Z"
    }
   },
   "outputs": [],
   "source": [
    "X_train, X_test, X_val, y_train, y_test, y_val = read_train_test_data()"
   ]
  },
  {
   "cell_type": "code",
   "execution_count": 16,
   "metadata": {
    "ExecuteTime": {
     "end_time": "2020-08-29T17:12:13.721420Z",
     "start_time": "2020-08-29T17:12:13.683443Z"
    }
   },
   "outputs": [],
   "source": [
    "svc = SVC(random_state=42)\n",
    "svc.fit(X_train,train)\n",
    "preds = svc.predict(X_test)"
   ]
  },
  {
   "cell_type": "code",
   "execution_count": 34,
   "metadata": {
    "ExecuteTime": {
     "end_time": "2020-08-29T17:15:47.127715Z",
     "start_time": "2020-08-29T17:15:46.642977Z"
    }
   },
   "outputs": [],
   "source": [
    "rfc = RandomForestClassifier(random_state=42)\n",
    "rfc.fit(X_train,y_train)\n",
    "preds = rfc.predict(X_test)"
   ]
  },
  {
   "cell_type": "code",
   "execution_count": 35,
   "metadata": {
    "ExecuteTime": {
     "end_time": "2020-08-29T17:15:47.563475Z",
     "start_time": "2020-08-29T17:15:47.559478Z"
    }
   },
   "outputs": [],
   "source": [
    "from sklearn.model_selection import cross_validate\n",
    "from sklearn.metrics import confusion_matrix"
   ]
  },
  {
   "cell_type": "code",
   "execution_count": 36,
   "metadata": {
    "ExecuteTime": {
     "end_time": "2020-08-29T17:15:48.483691Z",
     "start_time": "2020-08-29T17:15:48.370761Z"
    }
   },
   "outputs": [
    {
     "name": "stdout",
     "output_type": "stream",
     "text": [
      "Model accuracy is 93.50±4.02\n",
      "{'fit_time': array([0.00699568, 0.00699663, 0.00599551, 0.00699639, 0.00599623,\n",
      "       0.00699306, 0.00699806, 0.00599432, 0.00799632, 0.00599575]), 'score_time': array([0.0010004 , 0.00099945, 0.00099802, 0.0010004 , 0.0009985 ,\n",
      "       0.00100088, 0.00199723, 0.00099969, 0.00099945, 0.00300097]), 'test_score': array([0.95833333, 0.95652174, 0.86956522, 0.91304348, 0.86956522,\n",
      "       0.95652174, 0.91304348, 0.95652174, 0.95652174, 1.        ])}\n"
     ]
    }
   ],
   "source": [
    "cv = cross_validate(svc,\n",
    "               X =  scaled_X_test,\n",
    "               y = np.ravel(y_test),\n",
    "                   cv = 10)\n",
    "\n",
    "print(\"Model accuracy is {:.2f}±{:.2f}\".format(cv[\"test_score\"].mean()*100,cv[\"test_score\"].std()*100))\n",
    "print(cv)"
   ]
  },
  {
   "cell_type": "code",
   "execution_count": 37,
   "metadata": {
    "ExecuteTime": {
     "end_time": "2020-08-29T17:15:50.336480Z",
     "start_time": "2020-08-29T17:15:50.331484Z"
    }
   },
   "outputs": [],
   "source": [
    "cm = confusion_matrix(y_test,preds)"
   ]
  },
  {
   "cell_type": "code",
   "execution_count": 38,
   "metadata": {
    "ExecuteTime": {
     "end_time": "2020-08-29T17:15:50.894160Z",
     "start_time": "2020-08-29T17:15:50.712262Z"
    }
   },
   "outputs": [
    {
     "data": {
      "text/plain": [
       "<matplotlib.axes._subplots.AxesSubplot at 0x2200b6bbc48>"
      ]
     },
     "execution_count": 38,
     "metadata": {},
     "output_type": "execute_result"
    },
    {
     "data": {
      "image/png": "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\n",
      "text/plain": [
       "<Figure size 432x288 with 1 Axes>"
      ]
     },
     "metadata": {
      "needs_background": "light"
     },
     "output_type": "display_data"
    }
   ],
   "source": [
    "sns.heatmap(cm, cmap=\"viridis\", annot= True, cbar = False)"
   ]
  },
  {
   "cell_type": "markdown",
   "metadata": {},
   "source": [
    "## Save the model"
   ]
  },
  {
   "cell_type": "code",
   "execution_count": 16,
   "metadata": {
    "ExecuteTime": {
     "end_time": "2020-08-29T17:05:50.439658Z",
     "start_time": "2020-08-29T17:05:50.275754Z"
    }
   },
   "outputs": [
    {
     "data": {
      "text/plain": [
       "['../models/rfc_v14.joblib']"
      ]
     },
     "execution_count": 16,
     "metadata": {},
     "output_type": "execute_result"
    }
   ],
   "source": [
    "from joblib import dump, load\n",
    "dump(rfc, '../models/rfc_v14.joblib') "
   ]
  },
  {
   "cell_type": "markdown",
   "metadata": {},
   "source": [
    "# Evaluate\n"
   ]
  },
  {
   "cell_type": "code",
   "execution_count": 18,
   "metadata": {
    "ExecuteTime": {
     "end_time": "2020-08-29T17:12:22.366464Z",
     "start_time": "2020-08-29T17:12:21.632887Z"
    }
   },
   "outputs": [],
   "source": [
    "from processing_funcs import *\n",
    "from scipy.stats import norm, kurtosis\n",
    "from scipy import signal\n",
    "import glob"
   ]
  },
  {
   "cell_type": "code",
   "execution_count": 19,
   "metadata": {
    "ExecuteTime": {
     "end_time": "2020-08-29T17:12:26.794925Z",
     "start_time": "2020-08-29T17:12:22.532369Z"
    }
   },
   "outputs": [],
   "source": [
    "df = read_all(1/50)\n",
    "\n",
    "ok = df[df[\"label\"] == 0]\n",
    "nok = df[df[\"label\"] == 1]"
   ]
  },
  {
   "cell_type": "code",
   "execution_count": 353,
   "metadata": {
    "ExecuteTime": {
     "end_time": "2020-08-29T16:10:39.535515Z",
     "start_time": "2020-08-29T16:10:38.661015Z"
    }
   },
   "outputs": [],
   "source": [
    "test = read_measurement(\"../data/raw_data_train/test/*\", 1/50)"
   ]
  },
  {
   "cell_type": "code",
   "execution_count": 39,
   "metadata": {
    "ExecuteTime": {
     "end_time": "2020-08-29T17:15:52.527504Z",
     "start_time": "2020-08-29T17:15:52.515511Z"
    }
   },
   "outputs": [],
   "source": [
    "def kurtosis_time(x):\n",
    "\n",
    "    return kurtosis(x, fisher=True)\n",
    "\n",
    "def rms_100(x):\n",
    "\n",
    "    return np.sqrt(np.mean(x**2))\n",
    "\n",
    "def crest(x):\n",
    "\n",
    "    return max(abs(x))/np.sqrt(np.mean(x**2))\n",
    "\n",
    "def create_aggregated(df):\n",
    "    \"\"\"Create a aggregated dataframe in time domain\"\"\"\n",
    "    signals = ['x_lin_acc', 'y_lin_acc', \"z_lin_acc\", \n",
    "               'x_acc', 'y_acc', 'z_acc',\n",
    "               'x_gyro', 'y_gyro', 'z_gyro']\n",
    "\n",
    "    agg_df = df.groupby([\"measurementID\",\"id_gps\"]).agg({x: [\"sum\", \"mean\", \"mad\",\n",
    "                                                \"median\", \"min\", \"max\",\n",
    "                                                \"std\", \"var\", \"sem\",\n",
    "                                                \"skew\", \"quantile\",\n",
    "                                                kurtosis_time, rms_100,\n",
    "                                                crest] for x in signals})\n",
    "    \n",
    "    new_cols = []\n",
    "    \n",
    "    for k,i in enumerate(agg_df.columns):\n",
    "        \n",
    "        new_cols.append(i[0] + \"_\" +  i[1])\n",
    "\n",
    "    agg_df.columns = new_cols\n",
    "    \n",
    "    return agg_df"
   ]
  },
  {
   "cell_type": "code",
   "execution_count": 40,
   "metadata": {
    "ExecuteTime": {
     "end_time": "2020-08-29T17:16:06.144173Z",
     "start_time": "2020-08-29T17:15:53.662282Z"
    }
   },
   "outputs": [],
   "source": [
    "feature_df = create_aggregated(ok).reset_index()"
   ]
  },
  {
   "cell_type": "code",
   "execution_count": 22,
   "metadata": {
    "ExecuteTime": {
     "end_time": "2020-08-29T17:12:47.450083Z",
     "start_time": "2020-08-29T17:12:47.419101Z"
    }
   },
   "outputs": [],
   "source": [
    "scaler = StandardScaler()\n",
    "scaled = scaler.fit_transform(feature_df.drop([\"measurementID\", \"id_gps\"],axis = 1))"
   ]
  },
  {
   "cell_type": "code",
   "execution_count": 42,
   "metadata": {
    "ExecuteTime": {
     "end_time": "2020-08-29T17:16:25.455545Z",
     "start_time": "2020-08-29T17:16:25.406572Z"
    }
   },
   "outputs": [],
   "source": [
    "#scaled\n",
    "# pred = rfc.predict(scaled)\n",
    "# not scaled\n",
    "pred = rfc.predict(feature_df.drop([\"measurementID\", \"id_gps\"], axis = 1))"
   ]
  },
  {
   "cell_type": "code",
   "execution_count": 43,
   "metadata": {
    "ExecuteTime": {
     "end_time": "2020-08-29T17:16:26.060551Z",
     "start_time": "2020-08-29T17:16:26.040559Z"
    }
   },
   "outputs": [],
   "source": [
    "map_df = pd.concat([ok[[\"measurementID\", \"id_gps\", \"lat\", \"lon\"]]\\\n",
    "                    .groupby([\"measurementID\",\"id_gps\"])\\\n",
    "                    .max()\\\n",
    "                    .reset_index(), \n",
    "                    pd.DataFrame({\"label\" : pred})], axis=1)"
   ]
  },
  {
   "cell_type": "code",
   "execution_count": 44,
   "metadata": {
    "ExecuteTime": {
     "end_time": "2020-08-29T17:16:27.026006Z",
     "start_time": "2020-08-29T17:16:26.871078Z"
    }
   },
   "outputs": [
    {
     "data": {
      "application/vnd.plotly.v1+json": {
       "config": {
        "plotlyServerURL": "https://plot.ly"
       },
       "data": [
        {
         "hovertemplate": "lat=%{lat}<br>lon=%{lon}<br>label=%{marker.color}<extra></extra>",
         "lat": [
          47.69526655,
          47.69533469,
          47.69527313,
          47.695239,
          47.69520087,
          47.69516161,
          47.69510415,
          47.69505844,
          47.69499758,
          47.69497979,
          47.69487235,
          47.69479439,
          47.6947225,
          47.6946441,
          47.69456352,
          47.69448463,
          47.69440874,
          47.69432852,
          47.69425449,
          47.69418072,
          47.69410587,
          47.69403416,
          47.69395916,
          47.6938922,
          47.69382682,
          47.69376128,
          47.69369824,
          47.69363971,
          47.69358324,
          47.69353168,
          47.69348651,
          47.69345301,
          47.6934229,
          47.69341402,
          47.69341418,
          47.69343899,
          47.69349133,
          47.6935126,
          47.69352291,
          47.69354853,
          47.69359475,
          47.69365501,
          47.69374551,
          47.69384689,
          47.69396913,
          47.69410167,
          47.69423654,
          47.69440081,
          47.69459634,
          47.69478457,
          47.69498694,
          47.69518663,
          47.69537605,
          47.69557274,
          47.69574743,
          47.69593179,
          47.69612109,
          47.69631076,
          47.69649372,
          47.6966681,
          47.6968474,
          47.69702329,
          47.69719417,
          47.69736398,
          47.69754128,
          47.69771323,
          47.69788579,
          47.69806462,
          47.69823402,
          47.69839986,
          47.69857277,
          47.6987422,
          47.6989134,
          47.69908023,
          47.69926042,
          47.69943186,
          47.69961467,
          47.69978786,
          47.69996278,
          47.70011406,
          47.7003039,
          47.70047986,
          47.70064942,
          47.70082647,
          47.70099939,
          47.70116929,
          47.70133499,
          47.70150389,
          47.70169931,
          47.70186667,
          47.7020359,
          47.70221293,
          47.7024041,
          47.70258982,
          47.70276938,
          47.70294713,
          47.70312841,
          47.70328294,
          47.70345879,
          47.70364579,
          47.70381609,
          47.70399917,
          47.70416727,
          47.70433194,
          47.70448049,
          47.70463911,
          47.70480457,
          47.70494827,
          47.70510658,
          47.70526398,
          47.70540867,
          47.70554969,
          47.70567655,
          47.70577672,
          47.70585257,
          47.70587416,
          47.70591724,
          47.70594344,
          47.70593976,
          47.70599465,
          47.7060648,
          47.70616311,
          47.70628877,
          47.70639797,
          47.70644453,
          47.70659179,
          47.70673607,
          47.7068991,
          47.70707867,
          47.70725699,
          47.70745169,
          47.70765161,
          47.70785912,
          47.70806957,
          47.70827464,
          47.7084664,
          47.70868335,
          47.70891349,
          47.70912917,
          47.70934949,
          47.70957326,
          47.70980212,
          47.71002658,
          47.71024255,
          47.71045112,
          47.71067797,
          47.71089223,
          47.71110405,
          47.71133189,
          47.71153237,
          47.71174436,
          47.71193938,
          47.71214637,
          47.71234294,
          47.71255536,
          47.71273476,
          47.71292555,
          47.71311164,
          47.71329522,
          47.71346726,
          47.71364766,
          47.71381812,
          47.71398653,
          47.71414915,
          47.71431548,
          47.71447192,
          47.71460346,
          47.71470974,
          47.71482146,
          47.71498862,
          47.71512725,
          47.71520277,
          47.71525163,
          47.71528162,
          47.7152632,
          47.71524327,
          47.71514439,
          47.71517796,
          47.71521376,
          47.71524441,
          47.71534881,
          47.71544852,
          47.71556297,
          47.71568256,
          47.71583493,
          47.71597274,
          47.71609706,
          47.71623874,
          47.71638762,
          47.71660239,
          47.71675382,
          47.71692127,
          47.71709853,
          47.71727754,
          47.71744615,
          47.71754413,
          47.71763918,
          47.71771227,
          47.71779442,
          47.71789156,
          47.71794181,
          47.71798098,
          47.71799209,
          47.71796472,
          47.71791406,
          47.71778288,
          47.71762796,
          47.71759568,
          47.71759543,
          47.71739604,
          47.71722636,
          47.71706009,
          47.71690479,
          47.71674597,
          47.71658065,
          47.71638527,
          47.71624449,
          47.71608947,
          47.71594433,
          47.71577924,
          47.71561731,
          47.71548414,
          47.71536611,
          47.71528829,
          47.71520822,
          47.71514305,
          47.71507672,
          47.71502041,
          47.71497578,
          47.71480634,
          47.71478181,
          47.7147601,
          47.71477626,
          47.71465635,
          47.71453987,
          47.71441561,
          47.71428123,
          47.71410086,
          47.71392762,
          47.71375666,
          47.71357779,
          47.71338703,
          47.71322823,
          47.71303478,
          47.71283527,
          47.71263343,
          47.71244341,
          47.71224178,
          47.71204217,
          47.71182626,
          47.71162565,
          47.71140876,
          47.71119947,
          47.71098348,
          47.71078078,
          47.71057751,
          47.71038021,
          47.71017205,
          47.70998613,
          47.70977851,
          47.70957784,
          47.7093597,
          47.70914606,
          47.708937,
          47.70872411,
          47.70850452,
          47.7082965,
          47.70810523,
          47.70792423,
          47.70776281,
          47.70758319,
          47.70740554,
          47.70723597,
          47.7070715,
          47.70693226,
          47.70680432,
          47.7066934,
          47.7065859,
          47.70649683,
          47.70643211,
          47.70637234,
          47.70631753,
          47.70630571,
          47.7063014,
          47.70633035,
          47.70636909,
          47.70640346,
          47.70645125,
          47.70649236,
          47.70653453,
          47.70656439,
          47.7065851,
          47.70660688,
          47.70662328,
          47.70663427,
          47.70664471,
          47.70664991,
          47.70665769,
          47.70666004,
          47.70665701,
          47.70664975,
          47.70666412,
          47.70667882,
          47.70669172,
          47.70669225,
          47.70668873,
          47.70668454,
          47.70667942,
          47.7066747,
          47.7066699,
          47.70666369,
          47.7066565,
          47.70664972,
          47.70664311,
          47.70663477,
          47.70664927,
          47.70663143,
          47.70662316,
          47.70661206,
          47.70660171,
          47.70658545,
          47.7065663,
          47.70653753,
          47.70651199,
          47.70648924,
          47.70647645,
          47.70645927,
          47.70644628,
          47.70642352,
          47.70639905,
          47.70638041,
          47.70636628,
          47.70635627,
          47.70633896,
          47.70632681,
          47.70632366,
          47.70632072,
          47.70631459,
          47.70628494,
          47.70626011,
          47.70623869,
          47.70622677,
          47.70621192,
          47.70619327,
          47.70618817,
          47.70617124,
          47.70614436,
          47.70612824,
          47.70613219,
          47.70612935,
          47.70611636,
          47.70611993,
          47.70611879,
          47.70610833,
          47.70609263,
          47.70607744,
          47.70607634,
          47.70606098,
          47.70603662,
          47.70602096,
          47.70598926,
          47.70596042,
          47.70595191,
          47.70594676,
          47.70593454,
          47.70590935,
          47.70590281,
          47.70588877,
          47.7058698,
          47.70584833,
          47.70582647,
          47.70582006,
          47.70580543,
          47.70579223,
          47.70578513,
          47.70578172,
          47.70576362,
          47.70574754,
          47.70572522,
          47.70571558,
          47.70570659,
          47.70569597,
          47.70569032,
          47.7056759,
          47.70565796,
          47.70563618,
          47.70562478,
          47.70562613,
          47.7056139,
          47.70559711,
          47.70558937,
          47.70556382,
          47.70554005,
          47.70552368,
          47.70550679,
          47.70550117,
          47.70550417,
          47.70549447,
          47.70542545,
          47.70533961,
          47.70525021,
          47.70515946,
          47.70506502,
          47.70496659,
          47.70483356,
          47.70472557,
          47.70461746,
          47.70452807,
          47.70448971,
          47.70458179,
          47.70464655,
          47.70471122,
          47.70477334,
          47.70483128,
          47.70489468,
          47.70495525,
          47.70501485,
          47.70507357,
          47.70511346,
          47.7051651,
          47.70520575,
          47.70525959,
          47.7054843,
          47.70547104,
          47.70546768,
          47.70547688,
          47.70548827,
          47.70549797,
          47.70550098,
          47.70551509,
          47.70551562,
          47.70551814,
          47.70552626,
          47.70552414,
          47.70553369,
          47.70554676,
          47.70554493,
          47.70556493,
          47.70557821,
          47.70557339,
          47.70557464,
          47.70558562,
          47.70559582,
          47.70559665,
          47.7056044,
          47.70560762,
          47.70561112,
          47.70561808,
          47.70563013,
          47.70563945,
          47.70565446,
          47.70566206,
          47.70567164,
          47.7056805,
          47.70569517,
          47.70570597,
          47.70571727,
          47.70573507,
          47.70574949,
          47.70575992,
          47.70577168,
          47.7057868,
          47.70580049,
          47.70580882,
          47.70582191,
          47.70582209,
          47.70583168,
          47.70584264,
          47.70584986,
          47.70586981,
          47.70590173,
          47.70592422,
          47.70594475,
          47.70595994,
          47.70596642,
          47.70598563,
          47.70599906,
          47.70599977,
          47.70600337,
          47.70601845,
          47.70603199,
          47.70604627,
          47.70606099,
          47.70607526,
          47.70609023,
          47.70610624,
          47.70612294,
          47.70613654,
          47.70614963,
          47.70617834,
          47.7062003,
          47.70620023,
          47.70622963,
          47.70624181,
          47.70626693,
          47.70627545,
          47.70629129,
          47.70631074,
          47.70631331,
          47.70633141,
          47.70632918,
          47.70632622,
          47.70633697,
          47.70635581,
          47.70637844,
          47.70640541,
          47.70641323,
          47.70642839,
          47.70645336,
          47.70647468,
          47.70649607,
          47.70649979,
          47.70651417,
          47.70652551,
          47.7065348,
          47.70655255,
          47.70657149,
          47.70657198,
          47.70657438,
          47.70659476,
          47.706613,
          47.7066349,
          47.70663058,
          47.70662135,
          47.70661086,
          47.70662419,
          47.70662678,
          47.70662221,
          47.70661186,
          47.70661021,
          47.70661259,
          47.70661456,
          47.70661644,
          47.70660819,
          47.70658769,
          47.70655996,
          47.7065332,
          47.70651098,
          47.70648898,
          47.70646124,
          47.70642447,
          47.70639024,
          47.70635617,
          47.7063279,
          47.70629865,
          47.70626931,
          47.70625279,
          47.70624771,
          47.70597353,
          47.7060967,
          47.70606347,
          47.70606528,
          47.705862,
          47.70574789,
          47.70563312,
          47.70551769,
          47.70537696,
          47.705276,
          47.70517641,
          47.70514537,
          47.70506797
         ],
         "legendgroup": "",
         "lon": [
          17.72453165,
          17.72441182,
          17.72427204,
          17.72412351,
          17.72396356,
          17.72380069,
          17.72361901,
          17.72344114,
          17.72321189,
          17.72310353,
          17.7228713,
          17.72263084,
          17.72240913,
          17.72216734,
          17.7219188,
          17.7216755,
          17.72144145,
          17.72119405,
          17.72096573,
          17.72073832,
          17.72050762,
          17.72028659,
          17.72005539,
          17.719849,
          17.71964749,
          17.71944546,
          17.71925114,
          17.71907074,
          17.71889667,
          17.71873776,
          17.71859865,
          17.71849554,
          17.71840287,
          17.71824891,
          17.7181574,
          17.71805828,
          17.71795747,
          17.71788822,
          17.71780694,
          17.71755187,
          17.71742384,
          17.71731615,
          17.71720397,
          17.71710312,
          17.71700315,
          17.71691755,
          17.71686185,
          17.71681376,
          17.71678969,
          17.71680092,
          17.71682722,
          17.71685373,
          17.71687887,
          17.71690498,
          17.71692817,
          17.71695264,
          17.71697777,
          17.71700294,
          17.71702802,
          17.71705248,
          17.71707803,
          17.71710453,
          17.71713027,
          17.71715609,
          17.7171839,
          17.71721087,
          17.71723793,
          17.71726598,
          17.71729203,
          17.71731727,
          17.71734359,
          17.71736916,
          17.71739398,
          17.71741817,
          17.7174443,
          17.71746916,
          17.71749412,
          17.71751586,
          17.71753618,
          17.71754313,
          17.71753448,
          17.71752565,
          17.71751661,
          17.71750405,
          17.71748622,
          17.71746238,
          17.71743499,
          17.71740126,
          17.71736711,
          17.71733477,
          17.71727893,
          17.71721822,
          17.71715206,
          17.71708441,
          17.71701478,
          17.71693324,
          17.71684514,
          17.71676622,
          17.7166769,
          17.71658855,
          17.7165095,
          17.7164262,
          17.716355,
          17.71629993,
          17.71625874,
          17.7162181,
          17.71622405,
          17.71623257,
          17.71624593,
          17.7162844,
          17.71634476,
          17.71640482,
          17.71646183,
          17.71651492,
          17.71655835,
          17.71674129,
          17.7168453,
          17.71698635,
          17.71713677,
          17.71726427,
          17.7173512,
          17.71740204,
          17.71739892,
          17.71730732,
          17.71720753,
          17.71698212,
          17.71692468,
          17.716887,
          17.71686647,
          17.71683047,
          17.71680501,
          17.71675044,
          17.71667022,
          17.71657542,
          17.71648179,
          17.71639403,
          17.71633188,
          17.71624061,
          17.71615359,
          17.71605444,
          17.71595014,
          17.71585736,
          17.7157787,
          17.7156772,
          17.71559203,
          17.71546748,
          17.71538356,
          17.71531791,
          17.71522539,
          17.71516242,
          17.7150813,
          17.71499099,
          17.7149029,
          17.71482164,
          17.71472379,
          17.71461039,
          17.71448188,
          17.71435063,
          17.71421787,
          17.71410223,
          17.71398678,
          17.71384823,
          17.713711,
          17.71358278,
          17.71346951,
          17.71336346,
          17.71327496,
          17.71321908,
          17.71315404,
          17.71339065,
          17.7133281,
          17.71321852,
          17.71314558,
          17.71293261,
          17.71277327,
          17.71272175,
          17.71244956,
          17.71225104,
          17.71205113,
          17.71188807,
          17.71164644,
          17.7114419,
          17.7112331,
          17.71105688,
          17.71087219,
          17.71071008,
          17.71056719,
          17.71041861,
          17.71028901,
          17.71014281,
          17.71004784,
          17.70994746,
          17.70985455,
          17.70980626,
          17.70976076,
          17.70973431,
          17.70970488,
          17.70978611,
          17.70989489,
          17.70992461,
          17.70983834,
          17.70973676,
          17.70959337,
          17.70946264,
          17.70937207,
          17.7092903,
          17.70935365,
          17.70950037,
          17.70950094,
          17.70982963,
          17.70990253,
          17.70996453,
          17.71003695,
          17.71010403,
          17.71018081,
          17.71028431,
          17.71037945,
          17.71050647,
          17.71065999,
          17.71083633,
          17.71102617,
          17.71123189,
          17.71143107,
          17.71164069,
          17.71186282,
          17.71208852,
          17.71228102,
          17.71243145,
          17.71256319,
          17.71261847,
          17.71270058,
          17.7128153,
          17.71282706,
          17.71316401,
          17.71328339,
          17.71339862,
          17.71350452,
          17.71359632,
          17.71370696,
          17.71381093,
          17.71393571,
          17.71407333,
          17.71418406,
          17.71431869,
          17.71443299,
          17.71454925,
          17.71467837,
          17.71480892,
          17.71489235,
          17.71497093,
          17.71506274,
          17.71514406,
          17.7152273,
          17.7153056,
          17.71539504,
          17.7154833,
          17.71556688,
          17.71565078,
          17.7157242,
          17.71580619,
          17.71588901,
          17.71598521,
          17.71608298,
          17.7162126,
          17.71628278,
          17.71636299,
          17.7164303,
          17.71651279,
          17.71658634,
          17.71664063,
          17.71673227,
          17.71681376,
          17.71687484,
          17.71690109,
          17.7169117,
          17.71696304,
          17.71698614,
          17.71700888,
          17.71689613,
          17.71678784,
          17.71666069,
          17.71651205,
          17.71629276,
          17.71606772,
          17.71584628,
          17.71561271,
          17.71536752,
          17.71511837,
          17.71485677,
          17.71457918,
          17.71429587,
          17.71401223,
          17.7137297,
          17.7134438,
          17.7131664,
          17.71288241,
          17.7126106,
          17.71233859,
          17.71205432,
          17.71177703,
          17.71150211,
          17.71121762,
          17.71095938,
          17.71069426,
          17.71040767,
          17.71013084,
          17.70984002,
          17.70953434,
          17.70924229,
          17.70894246,
          17.70867175,
          17.70836973,
          17.70808472,
          17.70780735,
          17.70753979,
          17.70725556,
          17.70695853,
          17.70665667,
          17.70636267,
          17.70608657,
          17.7057911,
          17.70551181,
          17.70524164,
          17.70499667,
          17.70471573,
          17.70442866,
          17.7041576,
          17.70390839,
          17.70364403,
          17.70338421,
          17.7031319,
          17.70286969,
          17.70260616,
          17.7023383,
          17.7020677,
          17.70178729,
          17.70150566,
          17.70127698,
          17.70098962,
          17.70071722,
          17.70046696,
          17.70019748,
          17.69992618,
          17.69964233,
          17.69938868,
          17.69915754,
          17.69892817,
          17.69868884,
          17.69844912,
          17.69821746,
          17.69799683,
          17.69777599,
          17.69755119,
          17.69733045,
          17.6970932,
          17.69685114,
          17.69661165,
          17.69637572,
          17.69615834,
          17.69593746,
          17.69572081,
          17.69550748,
          17.69528664,
          17.69506101,
          17.69483673,
          17.69460005,
          17.69438,
          17.69416231,
          17.69393235,
          17.69371505,
          17.69347053,
          17.69323871,
          17.69300705,
          17.69276496,
          17.69253101,
          17.69228226,
          17.69204862,
          17.69182523,
          17.6915638,
          17.69132299,
          17.69107614,
          17.6908434,
          17.69060439,
          17.69036272,
          17.69011465,
          17.68986058,
          17.68961163,
          17.6893851,
          17.68914813,
          17.68890578,
          17.68867228,
          17.68845976,
          17.68826399,
          17.68807257,
          17.68790766,
          17.68779197,
          17.6877166,
          17.68767203,
          17.68756075,
          17.68757206,
          17.68758385,
          17.68759582,
          17.68760832,
          17.68762134,
          17.68763894,
          17.68765322,
          17.68766753,
          17.68767935,
          17.68768443,
          17.68767225,
          17.68766018,
          17.68765488,
          17.68763118,
          17.68761575,
          17.68762721,
          17.68762284,
          17.68761495,
          17.68760718,
          17.68760191,
          17.68759507,
          17.68758971,
          17.68758261,
          17.68790312,
          17.68798661,
          17.68809834,
          17.68820877,
          17.68831051,
          17.68842158,
          17.68853493,
          17.68861671,
          17.68873481,
          17.68886996,
          17.688975,
          17.68905446,
          17.68919039,
          17.68932188,
          17.68944962,
          17.68956453,
          17.68968288,
          17.68981453,
          17.68994786,
          17.69007805,
          17.69021965,
          17.69035038,
          17.69048086,
          17.69061202,
          17.69074699,
          17.69087815,
          17.69101846,
          17.69116731,
          17.69132683,
          17.69149116,
          17.69166386,
          17.69184866,
          17.69202541,
          17.69220306,
          17.69238392,
          17.69257657,
          17.69277867,
          17.69299447,
          17.69322107,
          17.69344858,
          17.69369527,
          17.6939286,
          17.69415439,
          17.69440826,
          17.69466998,
          17.69492807,
          17.69519514,
          17.69544289,
          17.69571902,
          17.69597482,
          17.69624583,
          17.69649785,
          17.69675614,
          17.69701351,
          17.69728994,
          17.69752641,
          17.69777961,
          17.69803585,
          17.69826594,
          17.69850868,
          17.69875882,
          17.69900145,
          17.69925762,
          17.69951968,
          17.69979471,
          17.70007451,
          17.70035553,
          17.70061994,
          17.7008914,
          17.70114699,
          17.70143736,
          17.70171527,
          17.70196443,
          17.70222426,
          17.70248149,
          17.70275316,
          17.70306979,
          17.70334765,
          17.70362168,
          17.70388315,
          17.70416115,
          17.70444867,
          17.70471955,
          17.70499042,
          17.70527248,
          17.70554967,
          17.70584472,
          17.70613126,
          17.70640939,
          17.70670249,
          17.70696821,
          17.70725578,
          17.70753905,
          17.70783833,
          17.70813312,
          17.7084287,
          17.70871011,
          17.70900148,
          17.70927069,
          17.7095703,
          17.70986343,
          17.71012504,
          17.71040276,
          17.71068658,
          17.71097346,
          17.71125226,
          17.71152673,
          17.71180526,
          17.71208528,
          17.71236289,
          17.71264706,
          17.71292642,
          17.713189,
          17.71346046,
          17.71373464,
          17.71402248,
          17.71429643,
          17.71455907,
          17.71482141,
          17.71508105,
          17.71534433,
          17.71555437,
          17.71576659,
          17.71597678,
          17.71611001,
          17.71620404,
          17.71666575,
          17.7165048,
          17.71652819,
          17.71652691,
          17.71656405,
          17.7164989,
          17.71644231,
          17.71639044,
          17.71633149,
          17.71628925,
          17.71625981,
          17.71625205,
          17.71624006
         ],
         "marker": {
          "color": [
           0,
           0,
           0,
           0,
           0,
           0,
           0,
           0,
           0,
           0,
           0,
           0,
           0,
           0,
           0,
           0,
           0,
           0,
           0,
           0,
           0,
           0,
           0,
           0,
           0,
           0,
           0,
           0,
           0,
           0,
           0,
           1,
           0,
           0,
           0,
           0,
           0,
           0,
           0,
           0,
           0,
           0,
           0,
           0,
           0,
           0,
           0,
           0,
           0,
           0,
           0,
           0,
           0,
           0,
           0,
           0,
           0,
           0,
           0,
           0,
           0,
           0,
           0,
           0,
           0,
           0,
           0,
           0,
           0,
           0,
           0,
           0,
           0,
           0,
           0,
           0,
           0,
           0,
           0,
           0,
           0,
           0,
           0,
           0,
           0,
           0,
           0,
           0,
           0,
           0,
           0,
           0,
           0,
           0,
           0,
           0,
           0,
           0,
           0,
           0,
           0,
           0,
           0,
           0,
           0,
           0,
           0,
           0,
           0,
           0,
           1,
           0,
           0,
           0,
           0,
           0,
           0,
           0,
           0,
           0,
           0,
           0,
           0,
           0,
           0,
           0,
           0,
           0,
           0,
           0,
           0,
           0,
           0,
           0,
           0,
           0,
           0,
           0,
           0,
           0,
           0,
           0,
           0,
           0,
           0,
           0,
           0,
           0,
           0,
           0,
           0,
           0,
           0,
           0,
           0,
           0,
           0,
           0,
           0,
           0,
           0,
           0,
           0,
           0,
           0,
           0,
           0,
           1,
           1,
           0,
           0,
           0,
           0,
           0,
           0,
           0,
           0,
           0,
           0,
           0,
           0,
           0,
           0,
           0,
           0,
           0,
           0,
           0,
           0,
           0,
           0,
           0,
           0,
           0,
           1,
           0,
           0,
           0,
           0,
           0,
           0,
           0,
           0,
           0,
           0,
           0,
           0,
           0,
           0,
           1,
           0,
           0,
           0,
           0,
           0,
           0,
           0,
           0,
           0,
           0,
           0,
           0,
           0,
           0,
           0,
           0,
           0,
           1,
           0,
           0,
           0,
           0,
           0,
           0,
           0,
           0,
           0,
           0,
           0,
           0,
           0,
           0,
           0,
           0,
           0,
           0,
           0,
           0,
           0,
           0,
           0,
           0,
           0,
           0,
           0,
           0,
           0,
           0,
           0,
           0,
           0,
           0,
           0,
           0,
           0,
           0,
           0,
           0,
           0,
           0,
           0,
           0,
           0,
           0,
           0,
           0,
           0,
           1,
           1,
           0,
           0,
           0,
           0,
           0,
           0,
           0,
           0,
           0,
           0,
           0,
           0,
           0,
           0,
           0,
           0,
           0,
           0,
           0,
           0,
           0,
           0,
           0,
           0,
           0,
           0,
           0,
           0,
           0,
           0,
           0,
           0,
           0,
           0,
           0,
           0,
           0,
           0,
           0,
           0,
           0,
           0,
           0,
           0,
           0,
           0,
           0,
           0,
           0,
           0,
           0,
           0,
           0,
           0,
           0,
           0,
           0,
           0,
           0,
           0,
           0,
           0,
           0,
           0,
           0,
           0,
           0,
           0,
           0,
           0,
           0,
           0,
           0,
           0,
           0,
           0,
           0,
           0,
           0,
           0,
           0,
           0,
           0,
           0,
           0,
           0,
           1,
           1,
           1,
           0,
           0,
           0,
           0,
           0,
           0,
           0,
           0,
           0,
           0,
           0,
           0,
           0,
           0,
           0,
           0,
           0,
           0,
           0,
           0,
           0,
           0,
           0,
           0,
           0,
           0,
           0,
           0,
           0,
           0,
           1,
           0,
           0,
           0,
           0,
           0,
           0,
           0,
           0,
           0,
           0,
           0,
           0,
           0,
           0,
           0,
           0,
           0,
           0,
           0,
           0,
           0,
           0,
           0,
           0,
           0,
           0,
           0,
           0,
           0,
           0,
           0,
           0,
           0,
           0,
           0,
           0,
           0,
           0,
           0,
           0,
           0,
           0,
           0,
           0,
           0,
           0,
           0,
           0,
           0,
           0,
           0,
           0,
           0,
           0,
           0,
           0,
           0,
           0,
           0,
           0,
           0,
           0,
           0,
           0,
           0,
           1,
           1,
           0,
           0,
           0,
           0,
           0,
           0,
           0,
           0,
           0,
           0,
           0,
           0,
           0,
           0,
           0,
           0,
           0,
           0,
           0,
           0,
           0,
           0,
           0,
           0,
           0,
           0,
           0,
           0,
           0,
           0,
           0,
           0,
           0,
           0,
           0,
           0,
           0,
           0,
           0,
           0,
           0,
           0,
           0,
           0,
           0,
           0,
           0,
           0,
           0,
           0,
           0,
           0,
           0,
           0,
           0,
           0,
           0,
           0,
           0,
           0,
           0,
           0,
           0,
           0,
           0,
           0,
           0,
           0,
           0,
           0,
           0,
           0,
           0,
           0,
           0,
           0,
           0,
           0,
           0,
           0,
           0,
           0,
           0,
           0,
           0,
           0,
           0,
           0,
           0,
           0,
           0,
           0,
           0,
           0,
           0
          ],
          "coloraxis": "coloraxis"
         },
         "mode": "markers",
         "name": "",
         "showlegend": false,
         "subplot": "mapbox",
         "type": "scattermapbox"
        }
       ],
       "layout": {
        "coloraxis": {
         "colorbar": {
          "title": {
           "text": "label"
          }
         },
         "colorscale": [
          [
           0,
           "green"
          ],
          [
           1,
           "red"
          ]
         ],
         "showscale": false
        },
        "height": 500,
        "legend": {
         "tracegroupgap": 0
        },
        "mapbox": {
         "center": {
          "lat": 47.70625601174689,
          "lon": 17.708033217504457
         },
         "domain": {
          "x": [
           0,
           1
          ],
          "y": [
           0,
           1
          ]
         },
         "style": "carto-positron",
         "zoom": 11
        },
        "margin": {
         "b": 0,
         "l": 0,
         "r": 0,
         "t": 0
        },
        "template": {
         "data": {
          "bar": [
           {
            "error_x": {
             "color": "#2a3f5f"
            },
            "error_y": {
             "color": "#2a3f5f"
            },
            "marker": {
             "line": {
              "color": "#E5ECF6",
              "width": 0.5
             }
            },
            "type": "bar"
           }
          ],
          "barpolar": [
           {
            "marker": {
             "line": {
              "color": "#E5ECF6",
              "width": 0.5
             }
            },
            "type": "barpolar"
           }
          ],
          "carpet": [
           {
            "aaxis": {
             "endlinecolor": "#2a3f5f",
             "gridcolor": "white",
             "linecolor": "white",
             "minorgridcolor": "white",
             "startlinecolor": "#2a3f5f"
            },
            "baxis": {
             "endlinecolor": "#2a3f5f",
             "gridcolor": "white",
             "linecolor": "white",
             "minorgridcolor": "white",
             "startlinecolor": "#2a3f5f"
            },
            "type": "carpet"
           }
          ],
          "choropleth": [
           {
            "colorbar": {
             "outlinewidth": 0,
             "ticks": ""
            },
            "type": "choropleth"
           }
          ],
          "contour": [
           {
            "colorbar": {
             "outlinewidth": 0,
             "ticks": ""
            },
            "colorscale": [
             [
              0,
              "#0d0887"
             ],
             [
              0.1111111111111111,
              "#46039f"
             ],
             [
              0.2222222222222222,
              "#7201a8"
             ],
             [
              0.3333333333333333,
              "#9c179e"
             ],
             [
              0.4444444444444444,
              "#bd3786"
             ],
             [
              0.5555555555555556,
              "#d8576b"
             ],
             [
              0.6666666666666666,
              "#ed7953"
             ],
             [
              0.7777777777777778,
              "#fb9f3a"
             ],
             [
              0.8888888888888888,
              "#fdca26"
             ],
             [
              1,
              "#f0f921"
             ]
            ],
            "type": "contour"
           }
          ],
          "contourcarpet": [
           {
            "colorbar": {
             "outlinewidth": 0,
             "ticks": ""
            },
            "type": "contourcarpet"
           }
          ],
          "heatmap": [
           {
            "colorbar": {
             "outlinewidth": 0,
             "ticks": ""
            },
            "colorscale": [
             [
              0,
              "#0d0887"
             ],
             [
              0.1111111111111111,
              "#46039f"
             ],
             [
              0.2222222222222222,
              "#7201a8"
             ],
             [
              0.3333333333333333,
              "#9c179e"
             ],
             [
              0.4444444444444444,
              "#bd3786"
             ],
             [
              0.5555555555555556,
              "#d8576b"
             ],
             [
              0.6666666666666666,
              "#ed7953"
             ],
             [
              0.7777777777777778,
              "#fb9f3a"
             ],
             [
              0.8888888888888888,
              "#fdca26"
             ],
             [
              1,
              "#f0f921"
             ]
            ],
            "type": "heatmap"
           }
          ],
          "heatmapgl": [
           {
            "colorbar": {
             "outlinewidth": 0,
             "ticks": ""
            },
            "colorscale": [
             [
              0,
              "#0d0887"
             ],
             [
              0.1111111111111111,
              "#46039f"
             ],
             [
              0.2222222222222222,
              "#7201a8"
             ],
             [
              0.3333333333333333,
              "#9c179e"
             ],
             [
              0.4444444444444444,
              "#bd3786"
             ],
             [
              0.5555555555555556,
              "#d8576b"
             ],
             [
              0.6666666666666666,
              "#ed7953"
             ],
             [
              0.7777777777777778,
              "#fb9f3a"
             ],
             [
              0.8888888888888888,
              "#fdca26"
             ],
             [
              1,
              "#f0f921"
             ]
            ],
            "type": "heatmapgl"
           }
          ],
          "histogram": [
           {
            "marker": {
             "colorbar": {
              "outlinewidth": 0,
              "ticks": ""
             }
            },
            "type": "histogram"
           }
          ],
          "histogram2d": [
           {
            "colorbar": {
             "outlinewidth": 0,
             "ticks": ""
            },
            "colorscale": [
             [
              0,
              "#0d0887"
             ],
             [
              0.1111111111111111,
              "#46039f"
             ],
             [
              0.2222222222222222,
              "#7201a8"
             ],
             [
              0.3333333333333333,
              "#9c179e"
             ],
             [
              0.4444444444444444,
              "#bd3786"
             ],
             [
              0.5555555555555556,
              "#d8576b"
             ],
             [
              0.6666666666666666,
              "#ed7953"
             ],
             [
              0.7777777777777778,
              "#fb9f3a"
             ],
             [
              0.8888888888888888,
              "#fdca26"
             ],
             [
              1,
              "#f0f921"
             ]
            ],
            "type": "histogram2d"
           }
          ],
          "histogram2dcontour": [
           {
            "colorbar": {
             "outlinewidth": 0,
             "ticks": ""
            },
            "colorscale": [
             [
              0,
              "#0d0887"
             ],
             [
              0.1111111111111111,
              "#46039f"
             ],
             [
              0.2222222222222222,
              "#7201a8"
             ],
             [
              0.3333333333333333,
              "#9c179e"
             ],
             [
              0.4444444444444444,
              "#bd3786"
             ],
             [
              0.5555555555555556,
              "#d8576b"
             ],
             [
              0.6666666666666666,
              "#ed7953"
             ],
             [
              0.7777777777777778,
              "#fb9f3a"
             ],
             [
              0.8888888888888888,
              "#fdca26"
             ],
             [
              1,
              "#f0f921"
             ]
            ],
            "type": "histogram2dcontour"
           }
          ],
          "mesh3d": [
           {
            "colorbar": {
             "outlinewidth": 0,
             "ticks": ""
            },
            "type": "mesh3d"
           }
          ],
          "parcoords": [
           {
            "line": {
             "colorbar": {
              "outlinewidth": 0,
              "ticks": ""
             }
            },
            "type": "parcoords"
           }
          ],
          "pie": [
           {
            "automargin": true,
            "type": "pie"
           }
          ],
          "scatter": [
           {
            "marker": {
             "colorbar": {
              "outlinewidth": 0,
              "ticks": ""
             }
            },
            "type": "scatter"
           }
          ],
          "scatter3d": [
           {
            "line": {
             "colorbar": {
              "outlinewidth": 0,
              "ticks": ""
             }
            },
            "marker": {
             "colorbar": {
              "outlinewidth": 0,
              "ticks": ""
             }
            },
            "type": "scatter3d"
           }
          ],
          "scattercarpet": [
           {
            "marker": {
             "colorbar": {
              "outlinewidth": 0,
              "ticks": ""
             }
            },
            "type": "scattercarpet"
           }
          ],
          "scattergeo": [
           {
            "marker": {
             "colorbar": {
              "outlinewidth": 0,
              "ticks": ""
             }
            },
            "type": "scattergeo"
           }
          ],
          "scattergl": [
           {
            "marker": {
             "colorbar": {
              "outlinewidth": 0,
              "ticks": ""
             }
            },
            "type": "scattergl"
           }
          ],
          "scattermapbox": [
           {
            "marker": {
             "colorbar": {
              "outlinewidth": 0,
              "ticks": ""
             }
            },
            "type": "scattermapbox"
           }
          ],
          "scatterpolar": [
           {
            "marker": {
             "colorbar": {
              "outlinewidth": 0,
              "ticks": ""
             }
            },
            "type": "scatterpolar"
           }
          ],
          "scatterpolargl": [
           {
            "marker": {
             "colorbar": {
              "outlinewidth": 0,
              "ticks": ""
             }
            },
            "type": "scatterpolargl"
           }
          ],
          "scatterternary": [
           {
            "marker": {
             "colorbar": {
              "outlinewidth": 0,
              "ticks": ""
             }
            },
            "type": "scatterternary"
           }
          ],
          "surface": [
           {
            "colorbar": {
             "outlinewidth": 0,
             "ticks": ""
            },
            "colorscale": [
             [
              0,
              "#0d0887"
             ],
             [
              0.1111111111111111,
              "#46039f"
             ],
             [
              0.2222222222222222,
              "#7201a8"
             ],
             [
              0.3333333333333333,
              "#9c179e"
             ],
             [
              0.4444444444444444,
              "#bd3786"
             ],
             [
              0.5555555555555556,
              "#d8576b"
             ],
             [
              0.6666666666666666,
              "#ed7953"
             ],
             [
              0.7777777777777778,
              "#fb9f3a"
             ],
             [
              0.8888888888888888,
              "#fdca26"
             ],
             [
              1,
              "#f0f921"
             ]
            ],
            "type": "surface"
           }
          ],
          "table": [
           {
            "cells": {
             "fill": {
              "color": "#EBF0F8"
             },
             "line": {
              "color": "white"
             }
            },
            "header": {
             "fill": {
              "color": "#C8D4E3"
             },
             "line": {
              "color": "white"
             }
            },
            "type": "table"
           }
          ]
         },
         "layout": {
          "annotationdefaults": {
           "arrowcolor": "#2a3f5f",
           "arrowhead": 0,
           "arrowwidth": 1
          },
          "coloraxis": {
           "colorbar": {
            "outlinewidth": 0,
            "ticks": ""
           }
          },
          "colorscale": {
           "diverging": [
            [
             0,
             "#8e0152"
            ],
            [
             0.1,
             "#c51b7d"
            ],
            [
             0.2,
             "#de77ae"
            ],
            [
             0.3,
             "#f1b6da"
            ],
            [
             0.4,
             "#fde0ef"
            ],
            [
             0.5,
             "#f7f7f7"
            ],
            [
             0.6,
             "#e6f5d0"
            ],
            [
             0.7,
             "#b8e186"
            ],
            [
             0.8,
             "#7fbc41"
            ],
            [
             0.9,
             "#4d9221"
            ],
            [
             1,
             "#276419"
            ]
           ],
           "sequential": [
            [
             0,
             "#0d0887"
            ],
            [
             0.1111111111111111,
             "#46039f"
            ],
            [
             0.2222222222222222,
             "#7201a8"
            ],
            [
             0.3333333333333333,
             "#9c179e"
            ],
            [
             0.4444444444444444,
             "#bd3786"
            ],
            [
             0.5555555555555556,
             "#d8576b"
            ],
            [
             0.6666666666666666,
             "#ed7953"
            ],
            [
             0.7777777777777778,
             "#fb9f3a"
            ],
            [
             0.8888888888888888,
             "#fdca26"
            ],
            [
             1,
             "#f0f921"
            ]
           ],
           "sequentialminus": [
            [
             0,
             "#0d0887"
            ],
            [
             0.1111111111111111,
             "#46039f"
            ],
            [
             0.2222222222222222,
             "#7201a8"
            ],
            [
             0.3333333333333333,
             "#9c179e"
            ],
            [
             0.4444444444444444,
             "#bd3786"
            ],
            [
             0.5555555555555556,
             "#d8576b"
            ],
            [
             0.6666666666666666,
             "#ed7953"
            ],
            [
             0.7777777777777778,
             "#fb9f3a"
            ],
            [
             0.8888888888888888,
             "#fdca26"
            ],
            [
             1,
             "#f0f921"
            ]
           ]
          },
          "colorway": [
           "#636efa",
           "#EF553B",
           "#00cc96",
           "#ab63fa",
           "#FFA15A",
           "#19d3f3",
           "#FF6692",
           "#B6E880",
           "#FF97FF",
           "#FECB52"
          ],
          "font": {
           "color": "#2a3f5f"
          },
          "geo": {
           "bgcolor": "white",
           "lakecolor": "white",
           "landcolor": "#E5ECF6",
           "showlakes": true,
           "showland": true,
           "subunitcolor": "white"
          },
          "hoverlabel": {
           "align": "left"
          },
          "hovermode": "closest",
          "mapbox": {
           "style": "light"
          },
          "paper_bgcolor": "white",
          "plot_bgcolor": "#E5ECF6",
          "polar": {
           "angularaxis": {
            "gridcolor": "white",
            "linecolor": "white",
            "ticks": ""
           },
           "bgcolor": "#E5ECF6",
           "radialaxis": {
            "gridcolor": "white",
            "linecolor": "white",
            "ticks": ""
           }
          },
          "scene": {
           "xaxis": {
            "backgroundcolor": "#E5ECF6",
            "gridcolor": "white",
            "gridwidth": 2,
            "linecolor": "white",
            "showbackground": true,
            "ticks": "",
            "zerolinecolor": "white"
           },
           "yaxis": {
            "backgroundcolor": "#E5ECF6",
            "gridcolor": "white",
            "gridwidth": 2,
            "linecolor": "white",
            "showbackground": true,
            "ticks": "",
            "zerolinecolor": "white"
           },
           "zaxis": {
            "backgroundcolor": "#E5ECF6",
            "gridcolor": "white",
            "gridwidth": 2,
            "linecolor": "white",
            "showbackground": true,
            "ticks": "",
            "zerolinecolor": "white"
           }
          },
          "shapedefaults": {
           "line": {
            "color": "#2a3f5f"
           }
          },
          "ternary": {
           "aaxis": {
            "gridcolor": "white",
            "linecolor": "white",
            "ticks": ""
           },
           "baxis": {
            "gridcolor": "white",
            "linecolor": "white",
            "ticks": ""
           },
           "bgcolor": "#E5ECF6",
           "caxis": {
            "gridcolor": "white",
            "linecolor": "white",
            "ticks": ""
           }
          },
          "title": {
           "x": 0.05
          },
          "xaxis": {
           "automargin": true,
           "gridcolor": "white",
           "linecolor": "white",
           "ticks": "",
           "title": {
            "standoff": 15
           },
           "zerolinecolor": "white",
           "zerolinewidth": 2
          },
          "yaxis": {
           "automargin": true,
           "gridcolor": "white",
           "linecolor": "white",
           "ticks": "",
           "title": {
            "standoff": 15
           },
           "zerolinecolor": "white",
           "zerolinewidth": 2
          }
         }
        }
       }
      },
      "text/html": [
       "<div>\n",
       "        \n",
       "        \n",
       "            <div id=\"c2bcd37c-dab4-4f1f-8f72-b0bc90e455d8\" class=\"plotly-graph-div\" style=\"height:500px; width:100%;\"></div>\n",
       "            <script type=\"text/javascript\">\n",
       "                require([\"plotly\"], function(Plotly) {\n",
       "                    window.PLOTLYENV=window.PLOTLYENV || {};\n",
       "                    \n",
       "                if (document.getElementById(\"c2bcd37c-dab4-4f1f-8f72-b0bc90e455d8\")) {\n",
       "                    Plotly.newPlot(\n",
       "                        'c2bcd37c-dab4-4f1f-8f72-b0bc90e455d8',\n",
       "                        [{\"hovertemplate\": \"lat=%{lat}<br>lon=%{lon}<br>label=%{marker.color}<extra></extra>\", \"lat\": [47.69526655, 47.69533469, 47.69527313, 47.695239, 47.69520087, 47.69516161, 47.69510415, 47.69505844, 47.69499758, 47.69497979, 47.69487235, 47.69479439, 47.6947225, 47.6946441, 47.69456352, 47.69448463, 47.69440874, 47.69432852, 47.69425449, 47.69418072, 47.69410587, 47.69403416, 47.69395916, 47.6938922, 47.69382682, 47.69376128, 47.69369824, 47.69363971, 47.69358324, 47.69353168, 47.69348651, 47.69345301, 47.6934229, 47.69341402, 47.69341418, 47.69343899, 47.69349133, 47.6935126, 47.69352291, 47.69354853, 47.69359475, 47.69365501, 47.69374551, 47.69384689, 47.69396913, 47.69410167, 47.69423654, 47.69440081, 47.69459634, 47.69478457, 47.69498694, 47.69518663, 47.69537605, 47.69557274, 47.69574743, 47.69593179, 47.69612109, 47.69631076, 47.69649372, 47.6966681, 47.6968474, 47.69702329, 47.69719417, 47.69736398, 47.69754128, 47.69771323, 47.69788579, 47.69806462, 47.69823402, 47.69839986, 47.69857277, 47.6987422, 47.6989134, 47.69908023, 47.69926042, 47.69943186, 47.69961467, 47.69978786, 47.69996278, 47.70011406, 47.7003039, 47.70047986, 47.70064942, 47.70082647, 47.70099939, 47.70116929, 47.70133499, 47.70150389, 47.70169931, 47.70186667, 47.7020359, 47.70221293, 47.7024041, 47.70258982, 47.70276938, 47.70294713, 47.70312841, 47.70328294, 47.70345879, 47.70364579, 47.70381609, 47.70399917, 47.70416727, 47.70433194, 47.70448049, 47.70463911, 47.70480457, 47.70494827, 47.70510658, 47.70526398, 47.70540867, 47.70554969, 47.70567655, 47.70577672, 47.70585257, 47.70587416, 47.70591724, 47.70594344, 47.70593976, 47.70599465, 47.7060648, 47.70616311, 47.70628877, 47.70639797, 47.70644453, 47.70659179, 47.70673607, 47.7068991, 47.70707867, 47.70725699, 47.70745169, 47.70765161, 47.70785912, 47.70806957, 47.70827464, 47.7084664, 47.70868335, 47.70891349, 47.70912917, 47.70934949, 47.70957326, 47.70980212, 47.71002658, 47.71024255, 47.71045112, 47.71067797, 47.71089223, 47.71110405, 47.71133189, 47.71153237, 47.71174436, 47.71193938, 47.71214637, 47.71234294, 47.71255536, 47.71273476, 47.71292555, 47.71311164, 47.71329522, 47.71346726, 47.71364766, 47.71381812, 47.71398653, 47.71414915, 47.71431548, 47.71447192, 47.71460346, 47.71470974, 47.71482146, 47.71498862, 47.71512725, 47.71520277, 47.71525163, 47.71528162, 47.7152632, 47.71524327, 47.71514439, 47.71517796, 47.71521376, 47.71524441, 47.71534881, 47.71544852, 47.71556297, 47.71568256, 47.71583493, 47.71597274, 47.71609706, 47.71623874, 47.71638762, 47.71660239, 47.71675382, 47.71692127, 47.71709853, 47.71727754, 47.71744615, 47.71754413, 47.71763918, 47.71771227, 47.71779442, 47.71789156, 47.71794181, 47.71798098, 47.71799209, 47.71796472, 47.71791406, 47.71778288, 47.71762796, 47.71759568, 47.71759543, 47.71739604, 47.71722636, 47.71706009, 47.71690479, 47.71674597, 47.71658065, 47.71638527, 47.71624449, 47.71608947, 47.71594433, 47.71577924, 47.71561731, 47.71548414, 47.71536611, 47.71528829, 47.71520822, 47.71514305, 47.71507672, 47.71502041, 47.71497578, 47.71480634, 47.71478181, 47.7147601, 47.71477626, 47.71465635, 47.71453987, 47.71441561, 47.71428123, 47.71410086, 47.71392762, 47.71375666, 47.71357779, 47.71338703, 47.71322823, 47.71303478, 47.71283527, 47.71263343, 47.71244341, 47.71224178, 47.71204217, 47.71182626, 47.71162565, 47.71140876, 47.71119947, 47.71098348, 47.71078078, 47.71057751, 47.71038021, 47.71017205, 47.70998613, 47.70977851, 47.70957784, 47.7093597, 47.70914606, 47.708937, 47.70872411, 47.70850452, 47.7082965, 47.70810523, 47.70792423, 47.70776281, 47.70758319, 47.70740554, 47.70723597, 47.7070715, 47.70693226, 47.70680432, 47.7066934, 47.7065859, 47.70649683, 47.70643211, 47.70637234, 47.70631753, 47.70630571, 47.7063014, 47.70633035, 47.70636909, 47.70640346, 47.70645125, 47.70649236, 47.70653453, 47.70656439, 47.7065851, 47.70660688, 47.70662328, 47.70663427, 47.70664471, 47.70664991, 47.70665769, 47.70666004, 47.70665701, 47.70664975, 47.70666412, 47.70667882, 47.70669172, 47.70669225, 47.70668873, 47.70668454, 47.70667942, 47.7066747, 47.7066699, 47.70666369, 47.7066565, 47.70664972, 47.70664311, 47.70663477, 47.70664927, 47.70663143, 47.70662316, 47.70661206, 47.70660171, 47.70658545, 47.7065663, 47.70653753, 47.70651199, 47.70648924, 47.70647645, 47.70645927, 47.70644628, 47.70642352, 47.70639905, 47.70638041, 47.70636628, 47.70635627, 47.70633896, 47.70632681, 47.70632366, 47.70632072, 47.70631459, 47.70628494, 47.70626011, 47.70623869, 47.70622677, 47.70621192, 47.70619327, 47.70618817, 47.70617124, 47.70614436, 47.70612824, 47.70613219, 47.70612935, 47.70611636, 47.70611993, 47.70611879, 47.70610833, 47.70609263, 47.70607744, 47.70607634, 47.70606098, 47.70603662, 47.70602096, 47.70598926, 47.70596042, 47.70595191, 47.70594676, 47.70593454, 47.70590935, 47.70590281, 47.70588877, 47.7058698, 47.70584833, 47.70582647, 47.70582006, 47.70580543, 47.70579223, 47.70578513, 47.70578172, 47.70576362, 47.70574754, 47.70572522, 47.70571558, 47.70570659, 47.70569597, 47.70569032, 47.7056759, 47.70565796, 47.70563618, 47.70562478, 47.70562613, 47.7056139, 47.70559711, 47.70558937, 47.70556382, 47.70554005, 47.70552368, 47.70550679, 47.70550117, 47.70550417, 47.70549447, 47.70542545, 47.70533961, 47.70525021, 47.70515946, 47.70506502, 47.70496659, 47.70483356, 47.70472557, 47.70461746, 47.70452807, 47.70448971, 47.70458179, 47.70464655, 47.70471122, 47.70477334, 47.70483128, 47.70489468, 47.70495525, 47.70501485, 47.70507357, 47.70511346, 47.7051651, 47.70520575, 47.70525959, 47.7054843, 47.70547104, 47.70546768, 47.70547688, 47.70548827, 47.70549797, 47.70550098, 47.70551509, 47.70551562, 47.70551814, 47.70552626, 47.70552414, 47.70553369, 47.70554676, 47.70554493, 47.70556493, 47.70557821, 47.70557339, 47.70557464, 47.70558562, 47.70559582, 47.70559665, 47.7056044, 47.70560762, 47.70561112, 47.70561808, 47.70563013, 47.70563945, 47.70565446, 47.70566206, 47.70567164, 47.7056805, 47.70569517, 47.70570597, 47.70571727, 47.70573507, 47.70574949, 47.70575992, 47.70577168, 47.7057868, 47.70580049, 47.70580882, 47.70582191, 47.70582209, 47.70583168, 47.70584264, 47.70584986, 47.70586981, 47.70590173, 47.70592422, 47.70594475, 47.70595994, 47.70596642, 47.70598563, 47.70599906, 47.70599977, 47.70600337, 47.70601845, 47.70603199, 47.70604627, 47.70606099, 47.70607526, 47.70609023, 47.70610624, 47.70612294, 47.70613654, 47.70614963, 47.70617834, 47.7062003, 47.70620023, 47.70622963, 47.70624181, 47.70626693, 47.70627545, 47.70629129, 47.70631074, 47.70631331, 47.70633141, 47.70632918, 47.70632622, 47.70633697, 47.70635581, 47.70637844, 47.70640541, 47.70641323, 47.70642839, 47.70645336, 47.70647468, 47.70649607, 47.70649979, 47.70651417, 47.70652551, 47.7065348, 47.70655255, 47.70657149, 47.70657198, 47.70657438, 47.70659476, 47.706613, 47.7066349, 47.70663058, 47.70662135, 47.70661086, 47.70662419, 47.70662678, 47.70662221, 47.70661186, 47.70661021, 47.70661259, 47.70661456, 47.70661644, 47.70660819, 47.70658769, 47.70655996, 47.7065332, 47.70651098, 47.70648898, 47.70646124, 47.70642447, 47.70639024, 47.70635617, 47.7063279, 47.70629865, 47.70626931, 47.70625279, 47.70624771, 47.70597353, 47.7060967, 47.70606347, 47.70606528, 47.705862, 47.70574789, 47.70563312, 47.70551769, 47.70537696, 47.705276, 47.70517641, 47.70514537, 47.70506797], \"legendgroup\": \"\", \"lon\": [17.72453165, 17.72441182, 17.72427204, 17.72412351, 17.72396356, 17.72380069, 17.72361901, 17.72344114, 17.72321189, 17.72310353, 17.7228713, 17.72263084, 17.72240913, 17.72216734, 17.7219188, 17.7216755, 17.72144145, 17.72119405, 17.72096573, 17.72073832, 17.72050762, 17.72028659, 17.72005539, 17.719849, 17.71964749, 17.71944546, 17.71925114, 17.71907074, 17.71889667, 17.71873776, 17.71859865, 17.71849554, 17.71840287, 17.71824891, 17.7181574, 17.71805828, 17.71795747, 17.71788822, 17.71780694, 17.71755187, 17.71742384, 17.71731615, 17.71720397, 17.71710312, 17.71700315, 17.71691755, 17.71686185, 17.71681376, 17.71678969, 17.71680092, 17.71682722, 17.71685373, 17.71687887, 17.71690498, 17.71692817, 17.71695264, 17.71697777, 17.71700294, 17.71702802, 17.71705248, 17.71707803, 17.71710453, 17.71713027, 17.71715609, 17.7171839, 17.71721087, 17.71723793, 17.71726598, 17.71729203, 17.71731727, 17.71734359, 17.71736916, 17.71739398, 17.71741817, 17.7174443, 17.71746916, 17.71749412, 17.71751586, 17.71753618, 17.71754313, 17.71753448, 17.71752565, 17.71751661, 17.71750405, 17.71748622, 17.71746238, 17.71743499, 17.71740126, 17.71736711, 17.71733477, 17.71727893, 17.71721822, 17.71715206, 17.71708441, 17.71701478, 17.71693324, 17.71684514, 17.71676622, 17.7166769, 17.71658855, 17.7165095, 17.7164262, 17.716355, 17.71629993, 17.71625874, 17.7162181, 17.71622405, 17.71623257, 17.71624593, 17.7162844, 17.71634476, 17.71640482, 17.71646183, 17.71651492, 17.71655835, 17.71674129, 17.7168453, 17.71698635, 17.71713677, 17.71726427, 17.7173512, 17.71740204, 17.71739892, 17.71730732, 17.71720753, 17.71698212, 17.71692468, 17.716887, 17.71686647, 17.71683047, 17.71680501, 17.71675044, 17.71667022, 17.71657542, 17.71648179, 17.71639403, 17.71633188, 17.71624061, 17.71615359, 17.71605444, 17.71595014, 17.71585736, 17.7157787, 17.7156772, 17.71559203, 17.71546748, 17.71538356, 17.71531791, 17.71522539, 17.71516242, 17.7150813, 17.71499099, 17.7149029, 17.71482164, 17.71472379, 17.71461039, 17.71448188, 17.71435063, 17.71421787, 17.71410223, 17.71398678, 17.71384823, 17.713711, 17.71358278, 17.71346951, 17.71336346, 17.71327496, 17.71321908, 17.71315404, 17.71339065, 17.7133281, 17.71321852, 17.71314558, 17.71293261, 17.71277327, 17.71272175, 17.71244956, 17.71225104, 17.71205113, 17.71188807, 17.71164644, 17.7114419, 17.7112331, 17.71105688, 17.71087219, 17.71071008, 17.71056719, 17.71041861, 17.71028901, 17.71014281, 17.71004784, 17.70994746, 17.70985455, 17.70980626, 17.70976076, 17.70973431, 17.70970488, 17.70978611, 17.70989489, 17.70992461, 17.70983834, 17.70973676, 17.70959337, 17.70946264, 17.70937207, 17.7092903, 17.70935365, 17.70950037, 17.70950094, 17.70982963, 17.70990253, 17.70996453, 17.71003695, 17.71010403, 17.71018081, 17.71028431, 17.71037945, 17.71050647, 17.71065999, 17.71083633, 17.71102617, 17.71123189, 17.71143107, 17.71164069, 17.71186282, 17.71208852, 17.71228102, 17.71243145, 17.71256319, 17.71261847, 17.71270058, 17.7128153, 17.71282706, 17.71316401, 17.71328339, 17.71339862, 17.71350452, 17.71359632, 17.71370696, 17.71381093, 17.71393571, 17.71407333, 17.71418406, 17.71431869, 17.71443299, 17.71454925, 17.71467837, 17.71480892, 17.71489235, 17.71497093, 17.71506274, 17.71514406, 17.7152273, 17.7153056, 17.71539504, 17.7154833, 17.71556688, 17.71565078, 17.7157242, 17.71580619, 17.71588901, 17.71598521, 17.71608298, 17.7162126, 17.71628278, 17.71636299, 17.7164303, 17.71651279, 17.71658634, 17.71664063, 17.71673227, 17.71681376, 17.71687484, 17.71690109, 17.7169117, 17.71696304, 17.71698614, 17.71700888, 17.71689613, 17.71678784, 17.71666069, 17.71651205, 17.71629276, 17.71606772, 17.71584628, 17.71561271, 17.71536752, 17.71511837, 17.71485677, 17.71457918, 17.71429587, 17.71401223, 17.7137297, 17.7134438, 17.7131664, 17.71288241, 17.7126106, 17.71233859, 17.71205432, 17.71177703, 17.71150211, 17.71121762, 17.71095938, 17.71069426, 17.71040767, 17.71013084, 17.70984002, 17.70953434, 17.70924229, 17.70894246, 17.70867175, 17.70836973, 17.70808472, 17.70780735, 17.70753979, 17.70725556, 17.70695853, 17.70665667, 17.70636267, 17.70608657, 17.7057911, 17.70551181, 17.70524164, 17.70499667, 17.70471573, 17.70442866, 17.7041576, 17.70390839, 17.70364403, 17.70338421, 17.7031319, 17.70286969, 17.70260616, 17.7023383, 17.7020677, 17.70178729, 17.70150566, 17.70127698, 17.70098962, 17.70071722, 17.70046696, 17.70019748, 17.69992618, 17.69964233, 17.69938868, 17.69915754, 17.69892817, 17.69868884, 17.69844912, 17.69821746, 17.69799683, 17.69777599, 17.69755119, 17.69733045, 17.6970932, 17.69685114, 17.69661165, 17.69637572, 17.69615834, 17.69593746, 17.69572081, 17.69550748, 17.69528664, 17.69506101, 17.69483673, 17.69460005, 17.69438, 17.69416231, 17.69393235, 17.69371505, 17.69347053, 17.69323871, 17.69300705, 17.69276496, 17.69253101, 17.69228226, 17.69204862, 17.69182523, 17.6915638, 17.69132299, 17.69107614, 17.6908434, 17.69060439, 17.69036272, 17.69011465, 17.68986058, 17.68961163, 17.6893851, 17.68914813, 17.68890578, 17.68867228, 17.68845976, 17.68826399, 17.68807257, 17.68790766, 17.68779197, 17.6877166, 17.68767203, 17.68756075, 17.68757206, 17.68758385, 17.68759582, 17.68760832, 17.68762134, 17.68763894, 17.68765322, 17.68766753, 17.68767935, 17.68768443, 17.68767225, 17.68766018, 17.68765488, 17.68763118, 17.68761575, 17.68762721, 17.68762284, 17.68761495, 17.68760718, 17.68760191, 17.68759507, 17.68758971, 17.68758261, 17.68790312, 17.68798661, 17.68809834, 17.68820877, 17.68831051, 17.68842158, 17.68853493, 17.68861671, 17.68873481, 17.68886996, 17.688975, 17.68905446, 17.68919039, 17.68932188, 17.68944962, 17.68956453, 17.68968288, 17.68981453, 17.68994786, 17.69007805, 17.69021965, 17.69035038, 17.69048086, 17.69061202, 17.69074699, 17.69087815, 17.69101846, 17.69116731, 17.69132683, 17.69149116, 17.69166386, 17.69184866, 17.69202541, 17.69220306, 17.69238392, 17.69257657, 17.69277867, 17.69299447, 17.69322107, 17.69344858, 17.69369527, 17.6939286, 17.69415439, 17.69440826, 17.69466998, 17.69492807, 17.69519514, 17.69544289, 17.69571902, 17.69597482, 17.69624583, 17.69649785, 17.69675614, 17.69701351, 17.69728994, 17.69752641, 17.69777961, 17.69803585, 17.69826594, 17.69850868, 17.69875882, 17.69900145, 17.69925762, 17.69951968, 17.69979471, 17.70007451, 17.70035553, 17.70061994, 17.7008914, 17.70114699, 17.70143736, 17.70171527, 17.70196443, 17.70222426, 17.70248149, 17.70275316, 17.70306979, 17.70334765, 17.70362168, 17.70388315, 17.70416115, 17.70444867, 17.70471955, 17.70499042, 17.70527248, 17.70554967, 17.70584472, 17.70613126, 17.70640939, 17.70670249, 17.70696821, 17.70725578, 17.70753905, 17.70783833, 17.70813312, 17.7084287, 17.70871011, 17.70900148, 17.70927069, 17.7095703, 17.70986343, 17.71012504, 17.71040276, 17.71068658, 17.71097346, 17.71125226, 17.71152673, 17.71180526, 17.71208528, 17.71236289, 17.71264706, 17.71292642, 17.713189, 17.71346046, 17.71373464, 17.71402248, 17.71429643, 17.71455907, 17.71482141, 17.71508105, 17.71534433, 17.71555437, 17.71576659, 17.71597678, 17.71611001, 17.71620404, 17.71666575, 17.7165048, 17.71652819, 17.71652691, 17.71656405, 17.7164989, 17.71644231, 17.71639044, 17.71633149, 17.71628925, 17.71625981, 17.71625205, 17.71624006], \"marker\": {\"color\": [0, 0, 0, 0, 0, 0, 0, 0, 0, 0, 0, 0, 0, 0, 0, 0, 0, 0, 0, 0, 0, 0, 0, 0, 0, 0, 0, 0, 0, 0, 0, 1, 0, 0, 0, 0, 0, 0, 0, 0, 0, 0, 0, 0, 0, 0, 0, 0, 0, 0, 0, 0, 0, 0, 0, 0, 0, 0, 0, 0, 0, 0, 0, 0, 0, 0, 0, 0, 0, 0, 0, 0, 0, 0, 0, 0, 0, 0, 0, 0, 0, 0, 0, 0, 0, 0, 0, 0, 0, 0, 0, 0, 0, 0, 0, 0, 0, 0, 0, 0, 0, 0, 0, 0, 0, 0, 0, 0, 0, 0, 1, 0, 0, 0, 0, 0, 0, 0, 0, 0, 0, 0, 0, 0, 0, 0, 0, 0, 0, 0, 0, 0, 0, 0, 0, 0, 0, 0, 0, 0, 0, 0, 0, 0, 0, 0, 0, 0, 0, 0, 0, 0, 0, 0, 0, 0, 0, 0, 0, 0, 0, 0, 0, 0, 0, 0, 0, 1, 1, 0, 0, 0, 0, 0, 0, 0, 0, 0, 0, 0, 0, 0, 0, 0, 0, 0, 0, 0, 0, 0, 0, 0, 0, 0, 1, 0, 0, 0, 0, 0, 0, 0, 0, 0, 0, 0, 0, 0, 0, 1, 0, 0, 0, 0, 0, 0, 0, 0, 0, 0, 0, 0, 0, 0, 0, 0, 0, 1, 0, 0, 0, 0, 0, 0, 0, 0, 0, 0, 0, 0, 0, 0, 0, 0, 0, 0, 0, 0, 0, 0, 0, 0, 0, 0, 0, 0, 0, 0, 0, 0, 0, 0, 0, 0, 0, 0, 0, 0, 0, 0, 0, 0, 0, 0, 0, 0, 0, 1, 1, 0, 0, 0, 0, 0, 0, 0, 0, 0, 0, 0, 0, 0, 0, 0, 0, 0, 0, 0, 0, 0, 0, 0, 0, 0, 0, 0, 0, 0, 0, 0, 0, 0, 0, 0, 0, 0, 0, 0, 0, 0, 0, 0, 0, 0, 0, 0, 0, 0, 0, 0, 0, 0, 0, 0, 0, 0, 0, 0, 0, 0, 0, 0, 0, 0, 0, 0, 0, 0, 0, 0, 0, 0, 0, 0, 0, 0, 0, 0, 0, 0, 0, 0, 0, 0, 0, 1, 1, 1, 0, 0, 0, 0, 0, 0, 0, 0, 0, 0, 0, 0, 0, 0, 0, 0, 0, 0, 0, 0, 0, 0, 0, 0, 0, 0, 0, 0, 0, 0, 1, 0, 0, 0, 0, 0, 0, 0, 0, 0, 0, 0, 0, 0, 0, 0, 0, 0, 0, 0, 0, 0, 0, 0, 0, 0, 0, 0, 0, 0, 0, 0, 0, 0, 0, 0, 0, 0, 0, 0, 0, 0, 0, 0, 0, 0, 0, 0, 0, 0, 0, 0, 0, 0, 0, 0, 0, 0, 0, 0, 0, 0, 0, 0, 0, 0, 1, 1, 0, 0, 0, 0, 0, 0, 0, 0, 0, 0, 0, 0, 0, 0, 0, 0, 0, 0, 0, 0, 0, 0, 0, 0, 0, 0, 0, 0, 0, 0, 0, 0, 0, 0, 0, 0, 0, 0, 0, 0, 0, 0, 0, 0, 0, 0, 0, 0, 0, 0, 0, 0, 0, 0, 0, 0, 0, 0, 0, 0, 0, 0, 0, 0, 0, 0, 0, 0, 0, 0, 0, 0, 0, 0, 0, 0, 0, 0, 0, 0, 0, 0, 0, 0, 0, 0, 0, 0, 0, 0, 0, 0, 0, 0, 0], \"coloraxis\": \"coloraxis\"}, \"mode\": \"markers\", \"name\": \"\", \"showlegend\": false, \"subplot\": \"mapbox\", \"type\": \"scattermapbox\"}],\n",
       "                        {\"coloraxis\": {\"colorbar\": {\"title\": {\"text\": \"label\"}}, \"colorscale\": [[0.0, \"green\"], [1.0, \"red\"]], \"showscale\": false}, \"height\": 500, \"legend\": {\"tracegroupgap\": 0}, \"mapbox\": {\"center\": {\"lat\": 47.70625601174689, \"lon\": 17.708033217504457}, \"domain\": {\"x\": [0.0, 1.0], \"y\": [0.0, 1.0]}, \"style\": \"carto-positron\", \"zoom\": 11}, \"margin\": {\"b\": 0, \"l\": 0, \"r\": 0, \"t\": 0}, \"template\": {\"data\": {\"bar\": [{\"error_x\": {\"color\": \"#2a3f5f\"}, \"error_y\": {\"color\": \"#2a3f5f\"}, \"marker\": {\"line\": {\"color\": \"#E5ECF6\", \"width\": 0.5}}, \"type\": \"bar\"}], \"barpolar\": [{\"marker\": {\"line\": {\"color\": \"#E5ECF6\", \"width\": 0.5}}, \"type\": \"barpolar\"}], \"carpet\": [{\"aaxis\": {\"endlinecolor\": \"#2a3f5f\", \"gridcolor\": \"white\", \"linecolor\": \"white\", \"minorgridcolor\": \"white\", \"startlinecolor\": \"#2a3f5f\"}, \"baxis\": {\"endlinecolor\": \"#2a3f5f\", \"gridcolor\": \"white\", \"linecolor\": \"white\", \"minorgridcolor\": \"white\", \"startlinecolor\": \"#2a3f5f\"}, \"type\": \"carpet\"}], \"choropleth\": [{\"colorbar\": {\"outlinewidth\": 0, \"ticks\": \"\"}, \"type\": \"choropleth\"}], \"contour\": [{\"colorbar\": {\"outlinewidth\": 0, \"ticks\": \"\"}, \"colorscale\": [[0.0, \"#0d0887\"], [0.1111111111111111, \"#46039f\"], [0.2222222222222222, \"#7201a8\"], [0.3333333333333333, \"#9c179e\"], [0.4444444444444444, \"#bd3786\"], [0.5555555555555556, \"#d8576b\"], [0.6666666666666666, \"#ed7953\"], [0.7777777777777778, \"#fb9f3a\"], [0.8888888888888888, \"#fdca26\"], [1.0, \"#f0f921\"]], \"type\": \"contour\"}], \"contourcarpet\": [{\"colorbar\": {\"outlinewidth\": 0, \"ticks\": \"\"}, \"type\": \"contourcarpet\"}], \"heatmap\": [{\"colorbar\": {\"outlinewidth\": 0, \"ticks\": \"\"}, \"colorscale\": [[0.0, \"#0d0887\"], [0.1111111111111111, \"#46039f\"], [0.2222222222222222, \"#7201a8\"], [0.3333333333333333, \"#9c179e\"], [0.4444444444444444, \"#bd3786\"], [0.5555555555555556, \"#d8576b\"], [0.6666666666666666, \"#ed7953\"], [0.7777777777777778, \"#fb9f3a\"], [0.8888888888888888, \"#fdca26\"], [1.0, \"#f0f921\"]], \"type\": \"heatmap\"}], \"heatmapgl\": [{\"colorbar\": {\"outlinewidth\": 0, \"ticks\": \"\"}, \"colorscale\": [[0.0, \"#0d0887\"], [0.1111111111111111, \"#46039f\"], [0.2222222222222222, \"#7201a8\"], [0.3333333333333333, \"#9c179e\"], [0.4444444444444444, \"#bd3786\"], [0.5555555555555556, \"#d8576b\"], [0.6666666666666666, \"#ed7953\"], [0.7777777777777778, \"#fb9f3a\"], [0.8888888888888888, \"#fdca26\"], [1.0, \"#f0f921\"]], \"type\": \"heatmapgl\"}], \"histogram\": [{\"marker\": {\"colorbar\": {\"outlinewidth\": 0, \"ticks\": \"\"}}, \"type\": \"histogram\"}], \"histogram2d\": [{\"colorbar\": {\"outlinewidth\": 0, \"ticks\": \"\"}, \"colorscale\": [[0.0, \"#0d0887\"], [0.1111111111111111, \"#46039f\"], [0.2222222222222222, \"#7201a8\"], [0.3333333333333333, \"#9c179e\"], [0.4444444444444444, \"#bd3786\"], [0.5555555555555556, \"#d8576b\"], [0.6666666666666666, \"#ed7953\"], [0.7777777777777778, \"#fb9f3a\"], [0.8888888888888888, \"#fdca26\"], [1.0, \"#f0f921\"]], \"type\": \"histogram2d\"}], \"histogram2dcontour\": [{\"colorbar\": {\"outlinewidth\": 0, \"ticks\": \"\"}, \"colorscale\": [[0.0, \"#0d0887\"], [0.1111111111111111, \"#46039f\"], [0.2222222222222222, \"#7201a8\"], [0.3333333333333333, \"#9c179e\"], [0.4444444444444444, \"#bd3786\"], [0.5555555555555556, \"#d8576b\"], [0.6666666666666666, \"#ed7953\"], [0.7777777777777778, \"#fb9f3a\"], [0.8888888888888888, \"#fdca26\"], [1.0, \"#f0f921\"]], \"type\": \"histogram2dcontour\"}], \"mesh3d\": [{\"colorbar\": {\"outlinewidth\": 0, \"ticks\": \"\"}, \"type\": \"mesh3d\"}], \"parcoords\": [{\"line\": {\"colorbar\": {\"outlinewidth\": 0, \"ticks\": \"\"}}, \"type\": \"parcoords\"}], \"pie\": [{\"automargin\": true, \"type\": \"pie\"}], \"scatter\": [{\"marker\": {\"colorbar\": {\"outlinewidth\": 0, \"ticks\": \"\"}}, \"type\": \"scatter\"}], \"scatter3d\": [{\"line\": {\"colorbar\": {\"outlinewidth\": 0, \"ticks\": \"\"}}, \"marker\": {\"colorbar\": {\"outlinewidth\": 0, \"ticks\": \"\"}}, \"type\": \"scatter3d\"}], \"scattercarpet\": [{\"marker\": {\"colorbar\": {\"outlinewidth\": 0, \"ticks\": \"\"}}, \"type\": \"scattercarpet\"}], \"scattergeo\": [{\"marker\": {\"colorbar\": {\"outlinewidth\": 0, \"ticks\": \"\"}}, \"type\": \"scattergeo\"}], \"scattergl\": [{\"marker\": {\"colorbar\": {\"outlinewidth\": 0, \"ticks\": \"\"}}, \"type\": \"scattergl\"}], \"scattermapbox\": [{\"marker\": {\"colorbar\": {\"outlinewidth\": 0, \"ticks\": \"\"}}, \"type\": \"scattermapbox\"}], \"scatterpolar\": [{\"marker\": {\"colorbar\": {\"outlinewidth\": 0, \"ticks\": \"\"}}, \"type\": \"scatterpolar\"}], \"scatterpolargl\": [{\"marker\": {\"colorbar\": {\"outlinewidth\": 0, \"ticks\": \"\"}}, \"type\": \"scatterpolargl\"}], \"scatterternary\": [{\"marker\": {\"colorbar\": {\"outlinewidth\": 0, \"ticks\": \"\"}}, \"type\": \"scatterternary\"}], \"surface\": [{\"colorbar\": {\"outlinewidth\": 0, \"ticks\": \"\"}, \"colorscale\": [[0.0, \"#0d0887\"], [0.1111111111111111, \"#46039f\"], [0.2222222222222222, \"#7201a8\"], [0.3333333333333333, \"#9c179e\"], [0.4444444444444444, \"#bd3786\"], [0.5555555555555556, \"#d8576b\"], [0.6666666666666666, \"#ed7953\"], [0.7777777777777778, \"#fb9f3a\"], [0.8888888888888888, \"#fdca26\"], [1.0, \"#f0f921\"]], \"type\": \"surface\"}], \"table\": [{\"cells\": {\"fill\": {\"color\": \"#EBF0F8\"}, \"line\": {\"color\": \"white\"}}, \"header\": {\"fill\": {\"color\": \"#C8D4E3\"}, \"line\": {\"color\": \"white\"}}, \"type\": \"table\"}]}, \"layout\": {\"annotationdefaults\": {\"arrowcolor\": \"#2a3f5f\", \"arrowhead\": 0, \"arrowwidth\": 1}, \"coloraxis\": {\"colorbar\": {\"outlinewidth\": 0, \"ticks\": \"\"}}, \"colorscale\": {\"diverging\": [[0, \"#8e0152\"], [0.1, \"#c51b7d\"], [0.2, \"#de77ae\"], [0.3, \"#f1b6da\"], [0.4, \"#fde0ef\"], [0.5, \"#f7f7f7\"], [0.6, \"#e6f5d0\"], [0.7, \"#b8e186\"], [0.8, \"#7fbc41\"], [0.9, \"#4d9221\"], [1, \"#276419\"]], \"sequential\": [[0.0, \"#0d0887\"], [0.1111111111111111, \"#46039f\"], [0.2222222222222222, \"#7201a8\"], [0.3333333333333333, \"#9c179e\"], [0.4444444444444444, \"#bd3786\"], [0.5555555555555556, \"#d8576b\"], [0.6666666666666666, \"#ed7953\"], [0.7777777777777778, \"#fb9f3a\"], [0.8888888888888888, \"#fdca26\"], [1.0, \"#f0f921\"]], \"sequentialminus\": [[0.0, \"#0d0887\"], [0.1111111111111111, \"#46039f\"], [0.2222222222222222, \"#7201a8\"], [0.3333333333333333, \"#9c179e\"], [0.4444444444444444, \"#bd3786\"], [0.5555555555555556, \"#d8576b\"], [0.6666666666666666, \"#ed7953\"], [0.7777777777777778, \"#fb9f3a\"], [0.8888888888888888, \"#fdca26\"], [1.0, \"#f0f921\"]]}, \"colorway\": [\"#636efa\", \"#EF553B\", \"#00cc96\", \"#ab63fa\", \"#FFA15A\", \"#19d3f3\", \"#FF6692\", \"#B6E880\", \"#FF97FF\", \"#FECB52\"], \"font\": {\"color\": \"#2a3f5f\"}, \"geo\": {\"bgcolor\": \"white\", \"lakecolor\": \"white\", \"landcolor\": \"#E5ECF6\", \"showlakes\": true, \"showland\": true, \"subunitcolor\": \"white\"}, \"hoverlabel\": {\"align\": \"left\"}, \"hovermode\": \"closest\", \"mapbox\": {\"style\": \"light\"}, \"paper_bgcolor\": \"white\", \"plot_bgcolor\": \"#E5ECF6\", \"polar\": {\"angularaxis\": {\"gridcolor\": \"white\", \"linecolor\": \"white\", \"ticks\": \"\"}, \"bgcolor\": \"#E5ECF6\", \"radialaxis\": {\"gridcolor\": \"white\", \"linecolor\": \"white\", \"ticks\": \"\"}}, \"scene\": {\"xaxis\": {\"backgroundcolor\": \"#E5ECF6\", \"gridcolor\": \"white\", \"gridwidth\": 2, \"linecolor\": \"white\", \"showbackground\": true, \"ticks\": \"\", \"zerolinecolor\": \"white\"}, \"yaxis\": {\"backgroundcolor\": \"#E5ECF6\", \"gridcolor\": \"white\", \"gridwidth\": 2, \"linecolor\": \"white\", \"showbackground\": true, \"ticks\": \"\", \"zerolinecolor\": \"white\"}, \"zaxis\": {\"backgroundcolor\": \"#E5ECF6\", \"gridcolor\": \"white\", \"gridwidth\": 2, \"linecolor\": \"white\", \"showbackground\": true, \"ticks\": \"\", \"zerolinecolor\": \"white\"}}, \"shapedefaults\": {\"line\": {\"color\": \"#2a3f5f\"}}, \"ternary\": {\"aaxis\": {\"gridcolor\": \"white\", \"linecolor\": \"white\", \"ticks\": \"\"}, \"baxis\": {\"gridcolor\": \"white\", \"linecolor\": \"white\", \"ticks\": \"\"}, \"bgcolor\": \"#E5ECF6\", \"caxis\": {\"gridcolor\": \"white\", \"linecolor\": \"white\", \"ticks\": \"\"}}, \"title\": {\"x\": 0.05}, \"xaxis\": {\"automargin\": true, \"gridcolor\": \"white\", \"linecolor\": \"white\", \"ticks\": \"\", \"title\": {\"standoff\": 15}, \"zerolinecolor\": \"white\", \"zerolinewidth\": 2}, \"yaxis\": {\"automargin\": true, \"gridcolor\": \"white\", \"linecolor\": \"white\", \"ticks\": \"\", \"title\": {\"standoff\": 15}, \"zerolinecolor\": \"white\", \"zerolinewidth\": 2}}}},\n",
       "                        {\"responsive\": true}\n",
       "                    ).then(function(){\n",
       "                            \n",
       "var gd = document.getElementById('c2bcd37c-dab4-4f1f-8f72-b0bc90e455d8');\n",
       "var x = new MutationObserver(function (mutations, observer) {{\n",
       "        var display = window.getComputedStyle(gd).display;\n",
       "        if (!display || display === 'none') {{\n",
       "            console.log([gd, 'removed!']);\n",
       "            Plotly.purge(gd);\n",
       "            observer.disconnect();\n",
       "        }}\n",
       "}});\n",
       "\n",
       "// Listen for the removal of the full notebook cells\n",
       "var notebookContainer = gd.closest('#notebook-container');\n",
       "if (notebookContainer) {{\n",
       "    x.observe(notebookContainer, {childList: true});\n",
       "}}\n",
       "\n",
       "// Listen for the clearing of the current output cell\n",
       "var outputEl = gd.closest('.output');\n",
       "if (outputEl) {{\n",
       "    x.observe(outputEl, {childList: true});\n",
       "}}\n",
       "\n",
       "                        })\n",
       "                };\n",
       "                });\n",
       "            </script>\n",
       "        </div>"
      ]
     },
     "metadata": {},
     "output_type": "display_data"
    }
   ],
   "source": [
    "fig = go.Figure()\n",
    "fig = px.scatter_mapbox(map_df, \n",
    "                        lat=\"lat\", \n",
    "                        lon=\"lon\",\n",
    "                        zoom = 11, \n",
    "                        height=500, \n",
    "                        color = \"label\", \n",
    "                        color_continuous_scale=[\"green\",\"red\"])\n",
    "fig.update_layout(mapbox_style=\"carto-positron\")\n",
    "fig.update_layout(margin={\"r\":0,\"t\":0,\"l\":0,\"b\":0})\n",
    "fig.layout.coloraxis.showscale = False\n",
    "fig"
   ]
  },
  {
   "cell_type": "code",
   "execution_count": null,
   "metadata": {},
   "outputs": [],
   "source": []
  }
 ],
 "metadata": {
  "kernelspec": {
   "display_name": "Python 3",
   "language": "python",
   "name": "python3"
  },
  "language_info": {
   "codemirror_mode": {
    "name": "ipython",
    "version": 3
   },
   "file_extension": ".py",
   "mimetype": "text/x-python",
   "name": "python",
   "nbconvert_exporter": "python",
   "pygments_lexer": "ipython3",
   "version": "3.7.5"
  },
  "notify_time": "5",
  "toc": {
   "base_numbering": 1,
   "nav_menu": {},
   "number_sections": true,
   "sideBar": true,
   "skip_h1_title": false,
   "title_cell": "Table of Contents",
   "title_sidebar": "Contents",
   "toc_cell": false,
   "toc_position": {},
   "toc_section_display": true,
   "toc_window_display": true
  },
  "varInspector": {
   "cols": {
    "lenName": 16,
    "lenType": 16,
    "lenVar": 40
   },
   "kernels_config": {
    "python": {
     "delete_cmd_postfix": "",
     "delete_cmd_prefix": "del ",
     "library": "var_list.py",
     "varRefreshCmd": "print(var_dic_list())"
    },
    "r": {
     "delete_cmd_postfix": ") ",
     "delete_cmd_prefix": "rm(",
     "library": "var_list.r",
     "varRefreshCmd": "cat(var_dic_list()) "
    }
   },
   "position": {
    "height": "646.719px",
    "left": "979.091px",
    "right": "20px",
    "top": "120px",
    "width": "350px"
   },
   "types_to_exclude": [
    "module",
    "function",
    "builtin_function_or_method",
    "instance",
    "_Feature"
   ],
   "window_display": false
  }
 },
 "nbformat": 4,
 "nbformat_minor": 4
}
||||||| e5206fc
=======
{
 "cells": [
  {
   "cell_type": "markdown",
   "metadata": {},
   "source": [
    "# Machine Learning"
   ]
  },
  {
   "cell_type": "markdown",
   "metadata": {},
   "source": [
    "## Import dependencies\n"
   ]
  },
  {
   "cell_type": "code",
   "execution_count": 1,
   "metadata": {
    "ExecuteTime": {
     "end_time": "2020-08-31T18:23:33.511083Z",
     "start_time": "2020-08-31T18:23:31.155617Z"
    }
   },
   "outputs": [],
   "source": [
    "import pandas as pd\n",
    "from sklearn.ensemble import RandomForestClassifier\n",
    "from sklearn.svm import SVC\n",
    "from sklearn.neighbors import KNeighborsClassifier\n",
    "from sklearn.ensemble import AdaBoostClassifier, GradientBoostingClassifier\n",
    "from sklearn.naive_bayes import GaussianNB\n",
    "from sklearn.linear_model import LogisticRegressionCV\n",
    "from sklearn.preprocessing import MinMaxScaler, StandardScaler\n",
    "from sklearn.metrics import accuracy_score, f1_score, precision_score, recall_score\n",
    "import matplotlib.pyplot as plt\n",
    "from sklearn.model_selection import cross_validate\n",
    "from sklearn.metrics import confusion_matrix\n",
    "import time\n",
    "import seaborn as sns"
   ]
  },
  {
   "cell_type": "markdown",
   "metadata": {},
   "source": [
    "## Read data"
   ]
  },
  {
   "cell_type": "code",
   "execution_count": 2,
   "metadata": {
    "ExecuteTime": {
     "end_time": "2020-08-31T18:23:33.610027Z",
     "start_time": "2020-08-31T18:23:33.594035Z"
    }
   },
   "outputs": [],
   "source": [
    "def read_train_test_data():\n",
    "    \"\"\"Returns: X_train, X_test, X_val, y_train, y_test, y_val\"\"\"\n",
    "    \n",
    "    X_train = pd.read_csv(\"../data/train_test_val/X_train.csv\", \n",
    "                          header=[0], index_col=0).reset_index(drop=True)\n",
    "    X_test = pd.read_csv(\"../data/train_test_val/X_test.csv\", \n",
    "                         header=[0], index_col=0).reset_index(drop=True)\n",
    "    X_val = pd.read_csv(\"../data/train_test_val/X_val.csv\", \n",
    "                        header=[0], index_col=0).reset_index(drop=True)\n",
    "    \n",
    "    X_train = X_train.drop([\"measurementID\",\"id_gps\"], axis=1)\n",
    "    X_val = X_val.drop([\"measurementID\",\"id_gps\"], axis=1)\n",
    "    X_test = X_test.drop([\"measurementID\",\"id_gps\"], axis=1)\n",
    "\n",
    "    y_train = pd.read_csv(\"../data/train_test_val/y_train.csv\", index_col=0)\\\n",
    "        .reset_index(drop=True).values.reshape(-1)\n",
    "    y_val = pd.read_csv(\"../data/train_test_val/y_val.csv\", index_col = 0)\\\n",
    "        .reset_index(drop=True).values.reshape(-1)\n",
    "    y_test = pd.read_csv(\"../data/train_test_val/y_test.csv\", index_col = 0)\\\n",
    "        .reset_index(drop=True).values.reshape(-1)\n",
    "    \n",
    "    return X_train, X_test, X_val, y_train, y_test, y_val"
   ]
  },
  {
   "cell_type": "markdown",
   "metadata": {},
   "source": [
    "### Creating ML Pipeline"
   ]
  },
  {
   "cell_type": "code",
   "execution_count": 6,
   "metadata": {
    "ExecuteTime": {
     "end_time": "2020-08-31T18:26:20.146327Z",
     "start_time": "2020-08-31T18:26:20.139331Z"
    }
   },
   "outputs": [],
   "source": [
    "def define_models():\n",
    "    \n",
    "    \"\"\"Defines the machine learning model for the data classification\n",
    "    \n",
    "    returns:\n",
    "        dictionary with the the ml models\n",
    "    \"\"\"\n",
    "    \n",
    "    rfc = RandomForestClassifier(random_state=42)\n",
    "    svc = SVC(random_state=42)\n",
    "    knc = KNeighborsClassifier()\n",
    "    abc = AdaBoostClassifier(random_state=42)\n",
    "    gbc = GradientBoostingClassifier(random_state=42)\n",
    "    gnb = GaussianNB()\n",
    "    # lr = LogisticRegressionCV(max_iter=500, random_state=42)\n",
    "\n",
    "    models = {\"rfc\": rfc,\"svc\": svc, \"knc\" : knc,\n",
    "              \"abc\" : abc, \"gbc\" : gbc, \"gnb\" :gnb}\n",
    "    \n",
    "    return models"
   ]
  },
  {
   "cell_type": "code",
   "execution_count": 7,
   "metadata": {
    "ExecuteTime": {
     "end_time": "2020-08-31T18:26:20.708239Z",
     "start_time": "2020-08-31T18:26:20.683253Z"
    },
    "scrolled": false
   },
   "outputs": [],
   "source": [
    "def train_models(models, scale_data = False):\n",
    "    \"\"\"Train machine learning models\n",
    "    args:\n",
    "        models (dic): dictionary of ml models keys: name of the ml model\n",
    "                      valus: the ml models\n",
    "        scale_data (boolen): a boolen to define weather you want to \n",
    "                             scale the data\n",
    "                             \n",
    "    returns:\n",
    "         summary dataframe with evaluation metrics for each model,\n",
    "         all trained model in a list\n",
    "    \n",
    "    \n",
    "    \"\"\"\n",
    "    \n",
    "    trained_models = []\n",
    "    \n",
    "    X_train, X_test, X_val, y_train, y_test, y_val = read_train_test_data()\n",
    "    \n",
    "    scaler = StandardScaler()\n",
    "    scaled_X_train = scaler.fit_transform(X_train) \n",
    "    scaled_X_val = scaler.fit_transform(X_val)\n",
    "    scaled_X_test = scaler.fit_transform(X_test)\n",
    "\n",
    "    if scale_data:\n",
    "        X_train = scaled_X_train\n",
    "        X_val = scaled_X_val\n",
    "        X_test = scaled_X_test \n",
    "        \n",
    "        \n",
    "        \n",
    "    result = {\"model\" : [],\n",
    "             \"accuracy\" : [],\n",
    "             \"precision\" : [],\n",
    "             \"recall\" : [],\n",
    "             \"cross_val_min\" : [],\n",
    "             \"cross_val_max\" : [],\n",
    "             \"cross_val_delta\" : []}\n",
    "    \n",
    "\n",
    "    print(models)\n",
    "\n",
    "    for m in models:\n",
    "        \n",
    "        start = time.time()\n",
    "\n",
    "        model = models[m].fit(X_train, y_train)\n",
    "        \n",
    "        end = time.time()\n",
    "        \n",
    "        print(f\"Training time for {m}: {end-start}s\")\n",
    "        \n",
    "        preds = model.predict(X_val)\n",
    "        accuracy = accuracy_score(y_val,preds)\n",
    "        precision = precision_score(y_val,preds,average=\"weighted\")\n",
    "        recall = recall_score(y_val,preds, average=\"weighted\")\n",
    "        f1 = f1_score(y_val, preds, average=\"weighted\")\n",
    "\n",
    "#         print(\"Metrics on Validation Dataset:\")\n",
    "#         print(\"\\n\")\n",
    "\n",
    "#         print(f\"Accuracy {m}: {accuracy}\")\n",
    "#         print(f\"Precision {m}: {precision}\")\n",
    "#         print(f\"Recall {m}: {recall}\")\n",
    "#         print(f\"F1 Score {m}: {f1}\")\n",
    "\n",
    "#         print(\"\\n\")\n",
    "#         print(\"Cross Validation on Test Dataset:\")\n",
    "#         print(\"\\n\")\n",
    "        cv = cross_validate(model,\n",
    "                            X =  X_test,\n",
    "                            y = y_test,\n",
    "                            cv = 10)\n",
    "\n",
    "#         print(\"{} accuracy is {:.2f}±{:.2f}\".format(m,cv[\"test_score\"].mean()*100,cv[\"test_score\"].std()*100))\n",
    "\n",
    "\n",
    "#         print(\"\\n\")\n",
    "#         print(\"Test Scores:\\n min: {}\\n max: {}\\n delta: {}\"\\\n",
    "#               .format(cv[\"test_score\"].min(), \n",
    "#                       cv[\"test_score\"].max(),\n",
    "#                       cv[\"test_score\"].max()-cv[\"test_score\"].min()))\n",
    "#         print(\"\\n\")\n",
    "#         print(\"*\"*20)\n",
    "#         print(\"\\n\")\n",
    "\n",
    "        cm = confusion_matrix(y_val,preds)\n",
    "\n",
    "        fig = plt.figure()\n",
    "        fig = plt.title(m)\n",
    "        sns.heatmap(cm, cmap=\"Blues\", annot= True, cbar = False)\n",
    "        \n",
    "        result[\"model\"].append(m)\n",
    "        result[\"accuracy\"].append(accuracy)\n",
    "        result[\"precision\"].append(precision)\n",
    "        result[\"recall\"].append(recall)\n",
    "        result[\"cross_val_min\"].append(cv[\"test_score\"].min())\n",
    "        result[\"cross_val_max\"].append(cv[\"test_score\"].max())\n",
    "        result[\"cross_val_delta\"].append(cv[\"test_score\"].max()-cv[\"test_score\"].min())\n",
    "        trained_models.append(model)\n",
    "\n",
    "    summary = pd.DataFrame(result)\n",
    "\n",
    "    \n",
    "    return summary, trained_models\n",
    "        "
   ]
  },
  {
   "cell_type": "code",
   "execution_count": 5,
   "metadata": {
    "ExecuteTime": {
     "end_time": "2020-08-30T15:40:13.047963Z",
     "start_time": "2020-08-30T15:39:55.241176Z"
    },
    "scrolled": false
   },
   "outputs": [
    {
     "name": "stdout",
     "output_type": "stream",
     "text": [
      "{'rfc': RandomForestClassifier(random_state=42), 'svc': SVC(random_state=42), 'knc': KNeighborsClassifier(), 'abc': AdaBoostClassifier(random_state=42), 'gbc': GradientBoostingClassifier(random_state=42), 'gnb': GaussianNB()}\n",
      "Training time for rfc: 0.6056535243988037s\n",
      "Training time for svc: 0.13692140579223633s\n",
      "Training time for knc: 0.023983001708984375s\n",
      "Training time for abc: 0.7435791492462158s\n",
      "Training time for gbc: 2.7104427814483643s\n",
      "Training time for gnb: 0.0060002803802490234s\n"
     ]
    },
    {
     "data": {
      "image/png": "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\n",
      "text/plain": [
       "<Figure size 432x288 with 1 Axes>"
      ]
     },
     "metadata": {
      "needs_background": "light"
     },
     "output_type": "display_data"
    },
    {
     "data": {
      "image/png": "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\n",
      "text/plain": [
       "<Figure size 432x288 with 1 Axes>"
      ]
     },
     "metadata": {
      "needs_background": "light"
     },
     "output_type": "display_data"
    },
    {
     "data": {
      "image/png": "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\n",
      "text/plain": [
       "<Figure size 432x288 with 1 Axes>"
      ]
     },
     "metadata": {
      "needs_background": "light"
     },
     "output_type": "display_data"
    },
    {
     "data": {
      "image/png": "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\n",
      "text/plain": [
       "<Figure size 432x288 with 1 Axes>"
      ]
     },
     "metadata": {
      "needs_background": "light"
     },
     "output_type": "display_data"
    },
    {
     "data": {
      "image/png": "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\n",
      "text/plain": [
       "<Figure size 432x288 with 1 Axes>"
      ]
     },
     "metadata": {
      "needs_background": "light"
     },
     "output_type": "display_data"
    },
    {
     "data": {
      "image/png": "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\n",
      "text/plain": [
       "<Figure size 432x288 with 1 Axes>"
      ]
     },
     "metadata": {
      "needs_background": "light"
     },
     "output_type": "display_data"
    }
   ],
   "source": [
    "models = define_models()\n",
    "summary, trained_models = train_models(models = models)"
   ]
  },
  {
   "cell_type": "code",
   "execution_count": 95,
   "metadata": {
    "ExecuteTime": {
     "end_time": "2020-08-30T13:55:38.337642Z",
     "start_time": "2020-08-30T13:55:38.318653Z"
    }
   },
   "outputs": [
    {
     "data": {
      "text/html": [
       "<style  type=\"text/css\" >\n",
       "#T_7c04c0c0_eac8_11ea_83ca_648099c3eefbrow0_col1,#T_7c04c0c0_eac8_11ea_83ca_648099c3eefbrow1_col1,#T_7c04c0c0_eac8_11ea_83ca_648099c3eefbrow2_col1,#T_7c04c0c0_eac8_11ea_83ca_648099c3eefbrow3_col1,#T_7c04c0c0_eac8_11ea_83ca_648099c3eefbrow4_col1,#T_7c04c0c0_eac8_11ea_83ca_648099c3eefbrow5_col1{\n",
       "            background-color:  #f4cccc;\n",
       "        }</style><table id=\"T_7c04c0c0_eac8_11ea_83ca_648099c3eefb\" ><thead>    <tr>        <th class=\"blank level0\" ></th>        <th class=\"col_heading level0 col0\" >model</th>        <th class=\"col_heading level0 col1\" >accuracy</th>        <th class=\"col_heading level0 col2\" >precision</th>        <th class=\"col_heading level0 col3\" >recall</th>        <th class=\"col_heading level0 col4\" >cross_val_min</th>        <th class=\"col_heading level0 col5\" >cross_val_max</th>        <th class=\"col_heading level0 col6\" >cross_val_delta</th>    </tr></thead><tbody>\n",
       "                <tr>\n",
       "                        <th id=\"T_7c04c0c0_eac8_11ea_83ca_648099c3eefblevel0_row0\" class=\"row_heading level0 row0\" >0</th>\n",
       "                        <td id=\"T_7c04c0c0_eac8_11ea_83ca_648099c3eefbrow0_col0\" class=\"data row0 col0\" >rfc</td>\n",
       "                        <td id=\"T_7c04c0c0_eac8_11ea_83ca_648099c3eefbrow0_col1\" class=\"data row0 col1\" >0.977376</td>\n",
       "                        <td id=\"T_7c04c0c0_eac8_11ea_83ca_648099c3eefbrow0_col2\" class=\"data row0 col2\" >0.977788</td>\n",
       "                        <td id=\"T_7c04c0c0_eac8_11ea_83ca_648099c3eefbrow0_col3\" class=\"data row0 col3\" >0.977376</td>\n",
       "                        <td id=\"T_7c04c0c0_eac8_11ea_83ca_648099c3eefbrow0_col4\" class=\"data row0 col4\" >0.833333</td>\n",
       "                        <td id=\"T_7c04c0c0_eac8_11ea_83ca_648099c3eefbrow0_col5\" class=\"data row0 col5\" >1.000000</td>\n",
       "                        <td id=\"T_7c04c0c0_eac8_11ea_83ca_648099c3eefbrow0_col6\" class=\"data row0 col6\" >0.166667</td>\n",
       "            </tr>\n",
       "            <tr>\n",
       "                        <th id=\"T_7c04c0c0_eac8_11ea_83ca_648099c3eefblevel0_row1\" class=\"row_heading level0 row1\" >1</th>\n",
       "                        <td id=\"T_7c04c0c0_eac8_11ea_83ca_648099c3eefbrow1_col0\" class=\"data row1 col0\" >svc</td>\n",
       "                        <td id=\"T_7c04c0c0_eac8_11ea_83ca_648099c3eefbrow1_col1\" class=\"data row1 col1\" >0.475113</td>\n",
       "                        <td id=\"T_7c04c0c0_eac8_11ea_83ca_648099c3eefbrow1_col2\" class=\"data row1 col2\" >0.607197</td>\n",
       "                        <td id=\"T_7c04c0c0_eac8_11ea_83ca_648099c3eefbrow1_col3\" class=\"data row1 col3\" >0.475113</td>\n",
       "                        <td id=\"T_7c04c0c0_eac8_11ea_83ca_648099c3eefbrow1_col4\" class=\"data row1 col4\" >0.500000</td>\n",
       "                        <td id=\"T_7c04c0c0_eac8_11ea_83ca_648099c3eefbrow1_col5\" class=\"data row1 col5\" >0.529412</td>\n",
       "                        <td id=\"T_7c04c0c0_eac8_11ea_83ca_648099c3eefbrow1_col6\" class=\"data row1 col6\" >0.029412</td>\n",
       "            </tr>\n",
       "            <tr>\n",
       "                        <th id=\"T_7c04c0c0_eac8_11ea_83ca_648099c3eefblevel0_row2\" class=\"row_heading level0 row2\" >2</th>\n",
       "                        <td id=\"T_7c04c0c0_eac8_11ea_83ca_648099c3eefbrow2_col0\" class=\"data row2 col0\" >knc</td>\n",
       "                        <td id=\"T_7c04c0c0_eac8_11ea_83ca_648099c3eefbrow2_col1\" class=\"data row2 col1\" >0.796380</td>\n",
       "                        <td id=\"T_7c04c0c0_eac8_11ea_83ca_648099c3eefbrow2_col2\" class=\"data row2 col2\" >0.796581</td>\n",
       "                        <td id=\"T_7c04c0c0_eac8_11ea_83ca_648099c3eefbrow2_col3\" class=\"data row2 col3\" >0.796380</td>\n",
       "                        <td id=\"T_7c04c0c0_eac8_11ea_83ca_648099c3eefbrow2_col4\" class=\"data row2 col4\" >0.500000</td>\n",
       "                        <td id=\"T_7c04c0c0_eac8_11ea_83ca_648099c3eefbrow2_col5\" class=\"data row2 col5\" >0.764706</td>\n",
       "                        <td id=\"T_7c04c0c0_eac8_11ea_83ca_648099c3eefbrow2_col6\" class=\"data row2 col6\" >0.264706</td>\n",
       "            </tr>\n",
       "            <tr>\n",
       "                        <th id=\"T_7c04c0c0_eac8_11ea_83ca_648099c3eefblevel0_row3\" class=\"row_heading level0 row3\" >3</th>\n",
       "                        <td id=\"T_7c04c0c0_eac8_11ea_83ca_648099c3eefbrow3_col0\" class=\"data row3 col0\" >abc</td>\n",
       "                        <td id=\"T_7c04c0c0_eac8_11ea_83ca_648099c3eefbrow3_col1\" class=\"data row3 col1\" >0.959276</td>\n",
       "                        <td id=\"T_7c04c0c0_eac8_11ea_83ca_648099c3eefbrow3_col2\" class=\"data row3 col2\" >0.960394</td>\n",
       "                        <td id=\"T_7c04c0c0_eac8_11ea_83ca_648099c3eefbrow3_col3\" class=\"data row3 col3\" >0.959276</td>\n",
       "                        <td id=\"T_7c04c0c0_eac8_11ea_83ca_648099c3eefbrow3_col4\" class=\"data row3 col4\" >0.833333</td>\n",
       "                        <td id=\"T_7c04c0c0_eac8_11ea_83ca_648099c3eefbrow3_col5\" class=\"data row3 col5\" >1.000000</td>\n",
       "                        <td id=\"T_7c04c0c0_eac8_11ea_83ca_648099c3eefbrow3_col6\" class=\"data row3 col6\" >0.166667</td>\n",
       "            </tr>\n",
       "            <tr>\n",
       "                        <th id=\"T_7c04c0c0_eac8_11ea_83ca_648099c3eefblevel0_row4\" class=\"row_heading level0 row4\" >4</th>\n",
       "                        <td id=\"T_7c04c0c0_eac8_11ea_83ca_648099c3eefbrow4_col0\" class=\"data row4 col0\" >gbc</td>\n",
       "                        <td id=\"T_7c04c0c0_eac8_11ea_83ca_648099c3eefbrow4_col1\" class=\"data row4 col1\" >0.977376</td>\n",
       "                        <td id=\"T_7c04c0c0_eac8_11ea_83ca_648099c3eefbrow4_col2\" class=\"data row4 col2\" >0.977788</td>\n",
       "                        <td id=\"T_7c04c0c0_eac8_11ea_83ca_648099c3eefbrow4_col3\" class=\"data row4 col3\" >0.977376</td>\n",
       "                        <td id=\"T_7c04c0c0_eac8_11ea_83ca_648099c3eefbrow4_col4\" class=\"data row4 col4\" >0.777778</td>\n",
       "                        <td id=\"T_7c04c0c0_eac8_11ea_83ca_648099c3eefbrow4_col5\" class=\"data row4 col5\" >1.000000</td>\n",
       "                        <td id=\"T_7c04c0c0_eac8_11ea_83ca_648099c3eefbrow4_col6\" class=\"data row4 col6\" >0.222222</td>\n",
       "            </tr>\n",
       "            <tr>\n",
       "                        <th id=\"T_7c04c0c0_eac8_11ea_83ca_648099c3eefblevel0_row5\" class=\"row_heading level0 row5\" >5</th>\n",
       "                        <td id=\"T_7c04c0c0_eac8_11ea_83ca_648099c3eefbrow5_col0\" class=\"data row5 col0\" >gnb</td>\n",
       "                        <td id=\"T_7c04c0c0_eac8_11ea_83ca_648099c3eefbrow5_col1\" class=\"data row5 col1\" >0.950226</td>\n",
       "                        <td id=\"T_7c04c0c0_eac8_11ea_83ca_648099c3eefbrow5_col2\" class=\"data row5 col2\" >0.950220</td>\n",
       "                        <td id=\"T_7c04c0c0_eac8_11ea_83ca_648099c3eefbrow5_col3\" class=\"data row5 col3\" >0.950226</td>\n",
       "                        <td id=\"T_7c04c0c0_eac8_11ea_83ca_648099c3eefbrow5_col4\" class=\"data row5 col4\" >0.823529</td>\n",
       "                        <td id=\"T_7c04c0c0_eac8_11ea_83ca_648099c3eefbrow5_col5\" class=\"data row5 col5\" >1.000000</td>\n",
       "                        <td id=\"T_7c04c0c0_eac8_11ea_83ca_648099c3eefbrow5_col6\" class=\"data row5 col6\" >0.176471</td>\n",
       "            </tr>\n",
       "    </tbody></table>"
      ],
      "text/plain": [
       "<pandas.io.formats.style.Styler at 0x191bf246208>"
      ]
     },
     "execution_count": 95,
     "metadata": {},
     "output_type": "execute_result"
    }
   ],
   "source": [
    "summary.style.set_properties(**{'background-color': '#f4cccc'}, subset=['accuracy'])"
   ]
  },
  {
   "cell_type": "markdown",
   "metadata": {},
   "source": [
    "**GBC** is the best"
   ]
  },
  {
   "cell_type": "markdown",
   "metadata": {},
   "source": [
    "## Hyperparameter tuning"
   ]
  },
  {
   "cell_type": "markdown",
   "metadata": {},
   "source": [
    "Hyperparameter tuning for model optimization"
   ]
  },
  {
   "cell_type": "code",
   "execution_count": 100,
   "metadata": {
    "ExecuteTime": {
     "end_time": "2020-08-30T14:17:38.299503Z",
     "start_time": "2020-08-30T14:17:38.295502Z"
    }
   },
   "outputs": [],
   "source": [
    "from sklearn.model_selection import RandomizedSearchCV\n",
    "from sklearn.model_selection import GridSearchCV"
   ]
  },
  {
   "cell_type": "code",
   "execution_count": 74,
   "metadata": {
    "ExecuteTime": {
     "end_time": "2020-08-29T19:40:24.669607Z",
     "start_time": "2020-08-29T19:40:24.665607Z"
    }
   },
   "outputs": [],
   "source": [
    "gbc = GradientBoostingClassifier()"
   ]
  },
  {
   "cell_type": "code",
   "execution_count": 104,
   "metadata": {
    "ExecuteTime": {
     "end_time": "2020-08-30T14:22:29.724743Z",
     "start_time": "2020-08-30T14:18:31.762172Z"
    }
   },
   "outputs": [
    {
     "data": {
      "text/plain": [
       "GridSearchCV(estimator=RandomForestClassifier(random_state=42),\n",
       "             param_grid={'min_samples_leaf': [1, 2, 4],\n",
       "                         'min_samples_split': [2, 4, 12],\n",
       "                         'n_estimators': [100, 400, 800]},\n",
       "             scoring='accuracy')"
      ]
     },
     "execution_count": 104,
     "metadata": {},
     "output_type": "execute_result"
    }
   ],
   "source": [
    "params = {\n",
    "        \"min_samples_leaf\": [1, 2, 4],\n",
    "        \"min_samples_split\": [2, 4, 12],\n",
    "        \"n_estimators\": [100, 400, 800]\n",
    "}\n",
    "\n",
    "rfc_search = GridSearchCV(\n",
    "    estimator=rfc, \n",
    "    param_grid=params, \n",
    "    scoring=\"accuracy\",\n",
    ")\n",
    "\n",
    "rfc_search.fit(X_train, y_train)"
   ]
  },
  {
   "cell_type": "code",
   "execution_count": 105,
   "metadata": {
    "ExecuteTime": {
     "end_time": "2020-08-30T14:48:08.608307Z",
     "start_time": "2020-08-30T14:22:30.743158Z"
    }
   },
   "outputs": [
    {
     "data": {
      "text/plain": [
       "GridSearchCV(estimator=GradientBoostingClassifier(),\n",
       "             param_grid={'learning_rate': [0.1, 2, 4],\n",
       "                         'min_samples_leaf': [1, 4, 8],\n",
       "                         'min_samples_split': [2, 4, 8],\n",
       "                         'n_estimators': [100, 200, 400]},\n",
       "             scoring='accuracy')"
      ]
     },
     "execution_count": 105,
     "metadata": {},
     "output_type": "execute_result"
    }
   ],
   "source": [
    "params = {\n",
    "        \"learning_rate\": [0.1, 2, 4],\n",
    "        \"min_samples_leaf\": [1, 4, 8],\n",
    "        \"min_samples_split\": [2, 4, 8],\n",
    "        \"n_estimators\": [100, 200, 400]\n",
    "}\n",
    "\n",
    "gbc_search = GridSearchCV(\n",
    "    estimator=gbc, \n",
    "    param_grid=params,\n",
    "    scoring=\"accuracy\",\n",
    ")\n",
    "\n",
    "gbc_search.fit(X_train, y_train)"
   ]
  },
  {
   "cell_type": "markdown",
   "metadata": {},
   "source": [
    "Checking the optimized models with cross validatoion and with the metrics. "
   ]
  },
  {
   "cell_type": "code",
   "execution_count": 115,
   "metadata": {
    "ExecuteTime": {
     "end_time": "2020-08-30T14:58:48.282088Z",
     "start_time": "2020-08-30T14:58:25.078392Z"
    }
   },
   "outputs": [
    {
     "name": "stdout",
     "output_type": "stream",
     "text": [
      "{'gbc_best': GradientBoostingClassifier(learning_rate=2, min_samples_leaf=4,\n",
      "                           min_samples_split=4), 'rfc_best': RandomForestClassifier(n_estimators=400, random_state=42)}\n",
      "Training time for gbc_best: 2.828404426574707s\n",
      "Training time for rfc_best: 1.9428825378417969s\n"
     ]
    },
    {
     "data": {
      "image/png": "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\n",
      "text/plain": [
       "<Figure size 432x288 with 1 Axes>"
      ]
     },
     "metadata": {
      "needs_background": "light"
     },
     "output_type": "display_data"
    },
    {
     "data": {
      "image/png": "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\n",
      "text/plain": [
       "<Figure size 432x288 with 1 Axes>"
      ]
     },
     "metadata": {
      "needs_background": "light"
     },
     "output_type": "display_data"
    }
   ],
   "source": [
    "new_models = {\"gbc_best\" : gbc_search.best_estimator_, \n",
    "              \"rfc_best\" : rfc_search.best_estimator_}\n",
    "\n",
    "summary_new,trained_models_new = train_models(new_models)"
   ]
  },
  {
   "cell_type": "code",
   "execution_count": 111,
   "metadata": {
    "ExecuteTime": {
     "end_time": "2020-08-30T14:51:23.212878Z",
     "start_time": "2020-08-30T14:51:23.199886Z"
    }
   },
   "outputs": [
    {
     "data": {
      "text/html": [
       "<style  type=\"text/css\" >\n",
       "#T_45b8d1f6_ead0_11ea_bfe6_648099c3eefbrow0_col1,#T_45b8d1f6_ead0_11ea_bfe6_648099c3eefbrow1_col1{\n",
       "            background-color:  #f4cccc;\n",
       "        }</style><table id=\"T_45b8d1f6_ead0_11ea_bfe6_648099c3eefb\" ><thead>    <tr>        <th class=\"blank level0\" ></th>        <th class=\"col_heading level0 col0\" >model</th>        <th class=\"col_heading level0 col1\" >accuracy</th>        <th class=\"col_heading level0 col2\" >precision</th>        <th class=\"col_heading level0 col3\" >recall</th>        <th class=\"col_heading level0 col4\" >cross_val_min</th>        <th class=\"col_heading level0 col5\" >cross_val_max</th>        <th class=\"col_heading level0 col6\" >cross_val_delta</th>    </tr></thead><tbody>\n",
       "                <tr>\n",
       "                        <th id=\"T_45b8d1f6_ead0_11ea_bfe6_648099c3eefblevel0_row0\" class=\"row_heading level0 row0\" >0</th>\n",
       "                        <td id=\"T_45b8d1f6_ead0_11ea_bfe6_648099c3eefbrow0_col0\" class=\"data row0 col0\" >gbc_best</td>\n",
       "                        <td id=\"T_45b8d1f6_ead0_11ea_bfe6_648099c3eefbrow0_col1\" class=\"data row0 col1\" >0.950226</td>\n",
       "                        <td id=\"T_45b8d1f6_ead0_11ea_bfe6_648099c3eefbrow0_col2\" class=\"data row0 col2\" >0.950689</td>\n",
       "                        <td id=\"T_45b8d1f6_ead0_11ea_bfe6_648099c3eefbrow0_col3\" class=\"data row0 col3\" >0.950226</td>\n",
       "                        <td id=\"T_45b8d1f6_ead0_11ea_bfe6_648099c3eefbrow0_col4\" class=\"data row0 col4\" >0.777778</td>\n",
       "                        <td id=\"T_45b8d1f6_ead0_11ea_bfe6_648099c3eefbrow0_col5\" class=\"data row0 col5\" >1.000000</td>\n",
       "                        <td id=\"T_45b8d1f6_ead0_11ea_bfe6_648099c3eefbrow0_col6\" class=\"data row0 col6\" >0.222222</td>\n",
       "            </tr>\n",
       "            <tr>\n",
       "                        <th id=\"T_45b8d1f6_ead0_11ea_bfe6_648099c3eefblevel0_row1\" class=\"row_heading level0 row1\" >1</th>\n",
       "                        <td id=\"T_45b8d1f6_ead0_11ea_bfe6_648099c3eefbrow1_col0\" class=\"data row1 col0\" >rfc_best</td>\n",
       "                        <td id=\"T_45b8d1f6_ead0_11ea_bfe6_648099c3eefbrow1_col1\" class=\"data row1 col1\" >0.977376</td>\n",
       "                        <td id=\"T_45b8d1f6_ead0_11ea_bfe6_648099c3eefbrow1_col2\" class=\"data row1 col2\" >0.977788</td>\n",
       "                        <td id=\"T_45b8d1f6_ead0_11ea_bfe6_648099c3eefbrow1_col3\" class=\"data row1 col3\" >0.977376</td>\n",
       "                        <td id=\"T_45b8d1f6_ead0_11ea_bfe6_648099c3eefbrow1_col4\" class=\"data row1 col4\" >0.833333</td>\n",
       "                        <td id=\"T_45b8d1f6_ead0_11ea_bfe6_648099c3eefbrow1_col5\" class=\"data row1 col5\" >1.000000</td>\n",
       "                        <td id=\"T_45b8d1f6_ead0_11ea_bfe6_648099c3eefbrow1_col6\" class=\"data row1 col6\" >0.166667</td>\n",
       "            </tr>\n",
       "    </tbody></table>"
      ],
      "text/plain": [
       "<pandas.io.formats.style.Styler at 0x191bf2b9248>"
      ]
     },
     "execution_count": 111,
     "metadata": {},
     "output_type": "execute_result"
    }
   ],
   "source": [
    "summary_new.style.set_properties(**{'background-color': '#f4cccc'}, subset=['accuracy'])"
   ]
  },
  {
   "cell_type": "code",
   "execution_count": 83,
   "metadata": {
    "ExecuteTime": {
     "end_time": "2020-08-30T05:33:31.886095Z",
     "start_time": "2020-08-30T05:33:31.723185Z"
    }
   },
   "outputs": [],
   "source": [
    "X_train, X_test, X_val, y_train, y_test, y_val = read_train_test_data()"
   ]
  },
  {
   "cell_type": "code",
   "execution_count": 12,
   "metadata": {
    "ExecuteTime": {
     "end_time": "2020-08-29T19:15:58.028484Z",
     "start_time": "2020-08-29T19:15:58.023487Z"
    }
   },
   "outputs": [],
   "source": [
    "from sklearn.model_selection import cross_validate\n",
    "from sklearn.metrics import confusion_matrix"
   ]
  },
  {
   "cell_type": "markdown",
   "metadata": {},
   "source": [
    "## Save the model"
   ]
  },
  {
   "cell_type": "code",
   "execution_count": 6,
   "metadata": {
    "ExecuteTime": {
     "end_time": "2020-08-30T15:40:21.694788Z",
     "start_time": "2020-08-30T15:40:21.687793Z"
    }
   },
   "outputs": [
    {
     "data": {
      "text/plain": [
       "RandomForestClassifier(random_state=42)"
      ]
     },
     "execution_count": 6,
     "metadata": {},
     "output_type": "execute_result"
    }
   ],
   "source": [
    "trained_models[0]"
   ]
  },
  {
   "cell_type": "markdown",
   "metadata": {},
   "source": [
    "Saving the model for later use"
   ]
  },
  {
   "cell_type": "code",
   "execution_count": 7,
   "metadata": {
    "ExecuteTime": {
     "end_time": "2020-08-30T15:40:38.184160Z",
     "start_time": "2020-08-30T15:40:38.023257Z"
    }
   },
   "outputs": [
    {
     "data": {
      "text/plain": [
       "['../models/rfc_vfinal.joblib']"
      ]
     },
     "execution_count": 7,
     "metadata": {},
     "output_type": "execute_result"
    }
   ],
   "source": [
    "from joblib import dump, load\n",
    "dump(trained_models[0], '../models/rfc_vfinal.joblib') "
   ]
  },
  {
   "cell_type": "markdown",
   "metadata": {},
   "source": [
    "# Evaluate\n"
   ]
  },
  {
   "cell_type": "code",
   "execution_count": 116,
   "metadata": {
    "ExecuteTime": {
     "end_time": "2020-08-30T15:04:27.428137Z",
     "start_time": "2020-08-30T15:04:27.421163Z"
    }
   },
   "outputs": [],
   "source": [
    "from processing_funcs import *\n",
    "from scipy.stats import norm, kurtosis\n",
    "from scipy import signal\n",
    "import glob"
   ]
  },
  {
   "cell_type": "code",
   "execution_count": 120,
   "metadata": {
    "ExecuteTime": {
     "end_time": "2020-08-30T15:04:51.271901Z",
     "start_time": "2020-08-30T15:04:51.266903Z"
    }
   },
   "outputs": [],
   "source": [
    "#random forest model\n",
    "model = trained_models_new[1]"
   ]
  },
  {
   "cell_type": "markdown",
   "metadata": {},
   "source": [
    "Checking the model with the training data and with unknown data"
   ]
  },
  {
   "cell_type": "code",
   "execution_count": 121,
   "metadata": {
    "ExecuteTime": {
     "end_time": "2020-08-30T15:04:58.641207Z",
     "start_time": "2020-08-30T15:04:54.682479Z"
    }
   },
   "outputs": [],
   "source": [
    "df = read_all(1/50)\n",
    "\n",
    "#label 0 measurements\n",
    "ok = df[df[\"label\"] == 0]\n",
    "#label 1 measurements\n",
    "nok = df[df[\"label\"] == 1]\n",
    "\n",
    "#unknown data\n",
    "test = read_measurement(\"../data/raw_data_train/test/*\", 1/50)"
   ]
  },
  {
   "cell_type": "markdown",
   "metadata": {},
   "source": [
    "Data processing steps"
   ]
  },
  {
   "cell_type": "code",
   "execution_count": 8,
   "metadata": {
    "ExecuteTime": {
     "end_time": "2020-08-31T18:29:10.881709Z",
     "start_time": "2020-08-31T18:29:10.867714Z"
    }
   },
   "outputs": [],
   "source": [
    "def kurtosis_time(x):\n",
    "\n",
    "    return kurtosis(x, fisher=True)\n",
    "\n",
    "def rms_100(x):\n",
    "\n",
    "    return np.sqrt(np.mean(x**2))\n",
    "\n",
    "def crest(x):\n",
    "\n",
    "    return max(abs(x))/np.sqrt(np.mean(x**2))\n",
    "\n",
    "def create_aggregated(df):\n",
    "    \"\"\"Create a aggregated dataframe in time domain\"\"\"\n",
    "    signals = ['x_lin_acc', 'y_lin_acc', \"z_lin_acc\", \n",
    "               'x_acc', 'y_acc', 'z_acc',\n",
    "               'x_gyro', 'y_gyro', 'z_gyro']\n",
    "\n",
    "    agg_df = df.groupby([\"measurementID\",\"id_gps\"]).agg({x: [\"sum\", \"mean\", \"mad\",\n",
    "                                                \"median\", \"min\", \"max\",\n",
    "                                                \"std\", \"var\", \"sem\",\n",
    "                                                \"skew\", \"quantile\",\n",
    "                                                kurtosis_time, rms_100,\n",
    "                                                crest] for x in signals})\n",
    "    \n",
    "    new_cols = []\n",
    "    \n",
    "    for k,i in enumerate(agg_df.columns):\n",
    "        \n",
    "        new_cols.append(i[0] + \"_\" +  i[1])\n",
    "\n",
    "    agg_df.columns = new_cols\n",
    "    \n",
    "    return agg_df"
   ]
  },
  {
   "cell_type": "code",
   "execution_count": 123,
   "metadata": {
    "ExecuteTime": {
     "end_time": "2020-08-30T15:05:13.254829Z",
     "start_time": "2020-08-30T15:05:00.903909Z"
    }
   },
   "outputs": [],
   "source": [
    "feature_df = create_aggregated(nok).reset_index()"
   ]
  },
  {
   "cell_type": "raw",
   "metadata": {
    "ExecuteTime": {
     "end_time": "2020-08-29T17:12:47.450083Z",
     "start_time": "2020-08-29T17:12:47.419101Z"
    }
   },
   "source": [
    "scaler = StandardScaler()\n",
    "scaled = scaler.fit_transform(feature_df.drop([\"measurementID\", \"id_gps\"],axis = 1))"
   ]
  },
  {
   "cell_type": "code",
   "execution_count": 130,
   "metadata": {
    "ExecuteTime": {
     "end_time": "2020-08-30T15:07:37.028909Z",
     "start_time": "2020-08-30T15:07:37.018913Z"
    }
   },
   "outputs": [],
   "source": [
    "def check_quality(df, model = svc):\n",
    "    \"\"\"Plots the 'raw' data in a map, and visualize the road surface quality with colors\"\"\"\n",
    "    \n",
    "    feature_df = create_aggregated(df).reset_index()\n",
    "    pred = model.predict(feature_df.drop([\"measurementID\", \"id_gps\"], axis = 1))\n",
    "    \n",
    "    map_df = pd.concat([df[[\"measurementID\", \"id_gps\", \"lat\", \"lon\"]]\\\n",
    "                    .groupby([\"measurementID\",\"id_gps\"])\\\n",
    "                    .max()\\\n",
    "                    .reset_index(), \n",
    "                    pd.DataFrame({\"label\" : pred})], axis=1)\n",
    "    \n",
    "    \n",
    "    fig = go.Figure()\n",
    "    fig = px.scatter_mapbox(map_df, \n",
    "                            lat=\"lat\", \n",
    "                            lon=\"lon\",\n",
    "                            zoom = 12, \n",
    "                            height=300, \n",
    "                            color = \"label\", \n",
    "                            color_continuous_scale=[\"green\",\"red\"])\n",
    "    fig.update_layout(mapbox_style=\"open-street-map\")\n",
    "    fig.update_layout(margin={\"r\":0,\"t\":0,\"l\":0,\"b\":0})\n",
    "    fig.layout.coloraxis.showscale = False\n",
    "   \n",
    "    return fig\n",
    "    "
   ]
  },
  {
   "cell_type": "code",
   "execution_count": 131,
   "metadata": {
    "ExecuteTime": {
     "end_time": "2020-08-30T15:07:38.295183Z",
     "start_time": "2020-08-30T15:07:38.291186Z"
    }
   },
   "outputs": [],
   "source": [
    "# plot(check_quality(ok, model), filename=\"../reports/rfc_ok.html\")\n",
    "# plot(check_quality(nok, model), filename=\"../reports/rfc_nok.html\")\n",
    "# plot(check_quality(test, model), filename=\"../reports/rfc_test.html\")\n",
    "\n",
    "\n",
    "# plot(check_quality(ok, svc), filename=\"../reports/svc_ok.html\")\n",
    "# plot(check_quality(nok, svc), filename=\"../reports/svc_nok.html\")\n",
    "# plot(check_quality(test, svc), filename=\"../reports/svc_test.html\")\n",
    "\n",
    "# plot(check_quality(ok, gbc_search), filename=\"../reports/gbc_ok.html\")\n",
    "# plot(check_quality(nok, gbc_search), filename=\"../reports/gbc_nok.html\")\n",
    "# plot(check_quality(test, gbc_search), filename=\"../reports/gbc_test.html\")"
   ]
  },
  {
   "cell_type": "code",
   "execution_count": 133,
   "metadata": {
    "ExecuteTime": {
     "end_time": "2020-08-30T15:09:07.568239Z",
     "start_time": "2020-08-30T15:08:37.105701Z"
    },
    "scrolled": false
   },
   "outputs": [
    {
     "data": {
      "application/vnd.plotly.v1+json": {
       "config": {
        "linkText": "Export to plot.ly",
        "plotlyServerURL": "https://plot.ly",
        "showLink": false
       },
       "data": [
        {
         "hovertemplate": "lat=%{lat}<br>lon=%{lon}<br>label=%{marker.color}<extra></extra>",
         "lat": [
          47.69526655,
          47.69533469,
          47.69527313,
          47.695239,
          47.69520087,
          47.69516161,
          47.69510415,
          47.69505844,
          47.69499758,
          47.69497979,
          47.69487235,
          47.69479439,
          47.6947225,
          47.6946441,
          47.69456352,
          47.69448463,
          47.69440874,
          47.69432852,
          47.69425449,
          47.69418072,
          47.69410587,
          47.69403416,
          47.69395916,
          47.6938922,
          47.69382682,
          47.69376128,
          47.69369824,
          47.69363971,
          47.69358324,
          47.69353168,
          47.69348651,
          47.69345301,
          47.6934229,
          47.69341402,
          47.69341418,
          47.69343899,
          47.69349133,
          47.6935126,
          47.69352291,
          47.69354853,
          47.69359475,
          47.69365501,
          47.69374551,
          47.69384689,
          47.69396913,
          47.69410167,
          47.69423654,
          47.69440081,
          47.69459634,
          47.69478457,
          47.69498694,
          47.69518663,
          47.69537605,
          47.69557274,
          47.69574743,
          47.69593179,
          47.69612109,
          47.69631076,
          47.69649372,
          47.6966681,
          47.6968474,
          47.69702329,
          47.69719417,
          47.69736398,
          47.69754128,
          47.69771323,
          47.69788579,
          47.69806462,
          47.69823402,
          47.69839986,
          47.69857277,
          47.6987422,
          47.6989134,
          47.69908023,
          47.69926042,
          47.69943186,
          47.69961467,
          47.69978786,
          47.69996278,
          47.70011406,
          47.7003039,
          47.70047986,
          47.70064942,
          47.70082647,
          47.70099939,
          47.70116929,
          47.70133499,
          47.70150389,
          47.70169931,
          47.70186667,
          47.7020359,
          47.70221293,
          47.7024041,
          47.70258982,
          47.70276938,
          47.70294713,
          47.70312841,
          47.70328294,
          47.70345879,
          47.70364579,
          47.70381609,
          47.70399917,
          47.70416727,
          47.70433194,
          47.70448049,
          47.70463911,
          47.70480457,
          47.70494827,
          47.70510658,
          47.70526398,
          47.70540867,
          47.70554969,
          47.70567655,
          47.70577672,
          47.70585257,
          47.70587416,
          47.70591724,
          47.70594344,
          47.70593976,
          47.70599465,
          47.7060648,
          47.70616311,
          47.70628877,
          47.70639797,
          47.70644453,
          47.70659179,
          47.70673607,
          47.7068991,
          47.70707867,
          47.70725699,
          47.70745169,
          47.70765161,
          47.70785912,
          47.70806957,
          47.70827464,
          47.7084664,
          47.70868335,
          47.70891349,
          47.70912917,
          47.70934949,
          47.70957326,
          47.70980212,
          47.71002658,
          47.71024255,
          47.71045112,
          47.71067797,
          47.71089223,
          47.71110405,
          47.71133189,
          47.71153237,
          47.71174436,
          47.71193938,
          47.71214637,
          47.71234294,
          47.71255536,
          47.71273476,
          47.71292555,
          47.71311164,
          47.71329522,
          47.71346726,
          47.71364766,
          47.71381812,
          47.71398653,
          47.71414915,
          47.71431548,
          47.71447192,
          47.71460346,
          47.71470974,
          47.71482146,
          47.71498862,
          47.71512725,
          47.71520277,
          47.71525163,
          47.71528162,
          47.7152632,
          47.71524327,
          47.71514439,
          47.71517796,
          47.71521376,
          47.71524441,
          47.71534881,
          47.71544852,
          47.71556297,
          47.71568256,
          47.71583493,
          47.71597274,
          47.71609706,
          47.71623874,
          47.71638762,
          47.71660239,
          47.71675382,
          47.71692127,
          47.71709853,
          47.71727754,
          47.71744615,
          47.71754413,
          47.71763918,
          47.71771227,
          47.71779442,
          47.71789156,
          47.71794181,
          47.71798098,
          47.71799209,
          47.71796472,
          47.71791406,
          47.71778288,
          47.71762796,
          47.71759568,
          47.71759543,
          47.71739604,
          47.71722636,
          47.71706009,
          47.71690479,
          47.71674597,
          47.71658065,
          47.71638527,
          47.71624449,
          47.71608947,
          47.71594433,
          47.71577924,
          47.71561731,
          47.71548414,
          47.71536611,
          47.71528829,
          47.71520822,
          47.71514305,
          47.71507672,
          47.71502041,
          47.71497578,
          47.71480634,
          47.71478181,
          47.7147601,
          47.71477626,
          47.71465635,
          47.71453987,
          47.71441561,
          47.71428123,
          47.71410086,
          47.71392762,
          47.71375666,
          47.71357779,
          47.71338703,
          47.71322823,
          47.71303478,
          47.71283527,
          47.71263343,
          47.71244341,
          47.71224178,
          47.71204217,
          47.71182626,
          47.71162565,
          47.71140876,
          47.71119947,
          47.71098348,
          47.71078078,
          47.71057751,
          47.71038021,
          47.71017205,
          47.70998613,
          47.70977851,
          47.70957784,
          47.7093597,
          47.70914606,
          47.708937,
          47.70872411,
          47.70850452,
          47.7082965,
          47.70810523,
          47.70792423,
          47.70776281,
          47.70758319,
          47.70740554,
          47.70723597,
          47.7070715,
          47.70693226,
          47.70680432,
          47.7066934,
          47.7065859,
          47.70649683,
          47.70643211,
          47.70637234,
          47.70631753,
          47.70630571,
          47.7063014,
          47.70633035,
          47.70636909,
          47.70640346,
          47.70645125,
          47.70649236,
          47.70653453,
          47.70656439,
          47.7065851,
          47.70660688,
          47.70662328,
          47.70663427,
          47.70664471,
          47.70664991,
          47.70665769,
          47.70666004,
          47.70665701,
          47.70664975,
          47.70666412,
          47.70667882,
          47.70669172,
          47.70669225,
          47.70668873,
          47.70668454,
          47.70667942,
          47.7066747,
          47.7066699,
          47.70666369,
          47.7066565,
          47.70664972,
          47.70664311,
          47.70663477,
          47.70664927,
          47.70663143,
          47.70662316,
          47.70661206,
          47.70660171,
          47.70658545,
          47.7065663,
          47.70653753,
          47.70651199,
          47.70648924,
          47.70647645,
          47.70645927,
          47.70644628,
          47.70642352,
          47.70639905,
          47.70638041,
          47.70636628,
          47.70635627,
          47.70633896,
          47.70632681,
          47.70632366,
          47.70632072,
          47.70631459,
          47.70628494,
          47.70626011,
          47.70623869,
          47.70622677,
          47.70621192,
          47.70619327,
          47.70618817,
          47.70617124,
          47.70614436,
          47.70612824,
          47.70613219,
          47.70612935,
          47.70611636,
          47.70611993,
          47.70611879,
          47.70610833,
          47.70609263,
          47.70607744,
          47.70607634,
          47.70606098,
          47.70603662,
          47.70602096,
          47.70598926,
          47.70596042,
          47.70595191,
          47.70594676,
          47.70593454,
          47.70590935,
          47.70590281,
          47.70588877,
          47.7058698,
          47.70584833,
          47.70582647,
          47.70582006,
          47.70580543,
          47.70579223,
          47.70578513,
          47.70578172,
          47.70576362,
          47.70574754,
          47.70572522,
          47.70571558,
          47.70570659,
          47.70569597,
          47.70569032,
          47.7056759,
          47.70565796,
          47.70563618,
          47.70562478,
          47.70562613,
          47.7056139,
          47.70559711,
          47.70558937,
          47.70556382,
          47.70554005,
          47.70552368,
          47.70550679,
          47.70550117,
          47.70550417,
          47.70549447,
          47.70542545,
          47.70533961,
          47.70525021,
          47.70515946,
          47.70506502,
          47.70496659,
          47.70483356,
          47.70472557,
          47.70461746,
          47.70452807,
          47.70448971,
          47.70458179,
          47.70464655,
          47.70471122,
          47.70477334,
          47.70483128,
          47.70489468,
          47.70495525,
          47.70501485,
          47.70507357,
          47.70511346,
          47.7051651,
          47.70520575,
          47.70525959,
          47.7054843,
          47.70547104,
          47.70546768,
          47.70547688,
          47.70548827,
          47.70549797,
          47.70550098,
          47.70551509,
          47.70551562,
          47.70551814,
          47.70552626,
          47.70552414,
          47.70553369,
          47.70554676,
          47.70554493,
          47.70556493,
          47.70557821,
          47.70557339,
          47.70557464,
          47.70558562,
          47.70559582,
          47.70559665,
          47.7056044,
          47.70560762,
          47.70561112,
          47.70561808,
          47.70563013,
          47.70563945,
          47.70565446,
          47.70566206,
          47.70567164,
          47.7056805,
          47.70569517,
          47.70570597,
          47.70571727,
          47.70573507,
          47.70574949,
          47.70575992,
          47.70577168,
          47.7057868,
          47.70580049,
          47.70580882,
          47.70582191,
          47.70582209,
          47.70583168,
          47.70584264,
          47.70584986,
          47.70586981,
          47.70590173,
          47.70592422,
          47.70594475,
          47.70595994,
          47.70596642,
          47.70598563,
          47.70599906,
          47.70599977,
          47.70600337,
          47.70601845,
          47.70603199,
          47.70604627,
          47.70606099,
          47.70607526,
          47.70609023,
          47.70610624,
          47.70612294,
          47.70613654,
          47.70614963,
          47.70617834,
          47.7062003,
          47.70620023,
          47.70622963,
          47.70624181,
          47.70626693,
          47.70627545,
          47.70629129,
          47.70631074,
          47.70631331,
          47.70633141,
          47.70632918,
          47.70632622,
          47.70633697,
          47.70635581,
          47.70637844,
          47.70640541,
          47.70641323,
          47.70642839,
          47.70645336,
          47.70647468,
          47.70649607,
          47.70649979,
          47.70651417,
          47.70652551,
          47.7065348,
          47.70655255,
          47.70657149,
          47.70657198,
          47.70657438,
          47.70659476,
          47.706613,
          47.7066349,
          47.70663058,
          47.70662135,
          47.70661086,
          47.70662419,
          47.70662678,
          47.70662221,
          47.70661186,
          47.70661021,
          47.70661259,
          47.70661456,
          47.70661644,
          47.70660819,
          47.70658769,
          47.70655996,
          47.7065332,
          47.70651098,
          47.70648898,
          47.70646124,
          47.70642447,
          47.70639024,
          47.70635617,
          47.7063279,
          47.70629865,
          47.70626931,
          47.70625279,
          47.70624771,
          47.70597353,
          47.7060967,
          47.70606347,
          47.70606528,
          47.705862,
          47.70574789,
          47.70563312,
          47.70551769,
          47.70537696,
          47.705276,
          47.70517641,
          47.70514537,
          47.70506797
         ],
         "legendgroup": "",
         "lon": [
          17.72453165,
          17.72441182,
          17.72427204,
          17.72412351,
          17.72396356,
          17.72380069,
          17.72361901,
          17.72344114,
          17.72321189,
          17.72310353,
          17.7228713,
          17.72263084,
          17.72240913,
          17.72216734,
          17.7219188,
          17.7216755,
          17.72144145,
          17.72119405,
          17.72096573,
          17.72073832,
          17.72050762,
          17.72028659,
          17.72005539,
          17.719849,
          17.71964749,
          17.71944546,
          17.71925114,
          17.71907074,
          17.71889667,
          17.71873776,
          17.71859865,
          17.71849554,
          17.71840287,
          17.71824891,
          17.7181574,
          17.71805828,
          17.71795747,
          17.71788822,
          17.71780694,
          17.71755187,
          17.71742384,
          17.71731615,
          17.71720397,
          17.71710312,
          17.71700315,
          17.71691755,
          17.71686185,
          17.71681376,
          17.71678969,
          17.71680092,
          17.71682722,
          17.71685373,
          17.71687887,
          17.71690498,
          17.71692817,
          17.71695264,
          17.71697777,
          17.71700294,
          17.71702802,
          17.71705248,
          17.71707803,
          17.71710453,
          17.71713027,
          17.71715609,
          17.7171839,
          17.71721087,
          17.71723793,
          17.71726598,
          17.71729203,
          17.71731727,
          17.71734359,
          17.71736916,
          17.71739398,
          17.71741817,
          17.7174443,
          17.71746916,
          17.71749412,
          17.71751586,
          17.71753618,
          17.71754313,
          17.71753448,
          17.71752565,
          17.71751661,
          17.71750405,
          17.71748622,
          17.71746238,
          17.71743499,
          17.71740126,
          17.71736711,
          17.71733477,
          17.71727893,
          17.71721822,
          17.71715206,
          17.71708441,
          17.71701478,
          17.71693324,
          17.71684514,
          17.71676622,
          17.7166769,
          17.71658855,
          17.7165095,
          17.7164262,
          17.716355,
          17.71629993,
          17.71625874,
          17.7162181,
          17.71622405,
          17.71623257,
          17.71624593,
          17.7162844,
          17.71634476,
          17.71640482,
          17.71646183,
          17.71651492,
          17.71655835,
          17.71674129,
          17.7168453,
          17.71698635,
          17.71713677,
          17.71726427,
          17.7173512,
          17.71740204,
          17.71739892,
          17.71730732,
          17.71720753,
          17.71698212,
          17.71692468,
          17.716887,
          17.71686647,
          17.71683047,
          17.71680501,
          17.71675044,
          17.71667022,
          17.71657542,
          17.71648179,
          17.71639403,
          17.71633188,
          17.71624061,
          17.71615359,
          17.71605444,
          17.71595014,
          17.71585736,
          17.7157787,
          17.7156772,
          17.71559203,
          17.71546748,
          17.71538356,
          17.71531791,
          17.71522539,
          17.71516242,
          17.7150813,
          17.71499099,
          17.7149029,
          17.71482164,
          17.71472379,
          17.71461039,
          17.71448188,
          17.71435063,
          17.71421787,
          17.71410223,
          17.71398678,
          17.71384823,
          17.713711,
          17.71358278,
          17.71346951,
          17.71336346,
          17.71327496,
          17.71321908,
          17.71315404,
          17.71339065,
          17.7133281,
          17.71321852,
          17.71314558,
          17.71293261,
          17.71277327,
          17.71272175,
          17.71244956,
          17.71225104,
          17.71205113,
          17.71188807,
          17.71164644,
          17.7114419,
          17.7112331,
          17.71105688,
          17.71087219,
          17.71071008,
          17.71056719,
          17.71041861,
          17.71028901,
          17.71014281,
          17.71004784,
          17.70994746,
          17.70985455,
          17.70980626,
          17.70976076,
          17.70973431,
          17.70970488,
          17.70978611,
          17.70989489,
          17.70992461,
          17.70983834,
          17.70973676,
          17.70959337,
          17.70946264,
          17.70937207,
          17.7092903,
          17.70935365,
          17.70950037,
          17.70950094,
          17.70982963,
          17.70990253,
          17.70996453,
          17.71003695,
          17.71010403,
          17.71018081,
          17.71028431,
          17.71037945,
          17.71050647,
          17.71065999,
          17.71083633,
          17.71102617,
          17.71123189,
          17.71143107,
          17.71164069,
          17.71186282,
          17.71208852,
          17.71228102,
          17.71243145,
          17.71256319,
          17.71261847,
          17.71270058,
          17.7128153,
          17.71282706,
          17.71316401,
          17.71328339,
          17.71339862,
          17.71350452,
          17.71359632,
          17.71370696,
          17.71381093,
          17.71393571,
          17.71407333,
          17.71418406,
          17.71431869,
          17.71443299,
          17.71454925,
          17.71467837,
          17.71480892,
          17.71489235,
          17.71497093,
          17.71506274,
          17.71514406,
          17.7152273,
          17.7153056,
          17.71539504,
          17.7154833,
          17.71556688,
          17.71565078,
          17.7157242,
          17.71580619,
          17.71588901,
          17.71598521,
          17.71608298,
          17.7162126,
          17.71628278,
          17.71636299,
          17.7164303,
          17.71651279,
          17.71658634,
          17.71664063,
          17.71673227,
          17.71681376,
          17.71687484,
          17.71690109,
          17.7169117,
          17.71696304,
          17.71698614,
          17.71700888,
          17.71689613,
          17.71678784,
          17.71666069,
          17.71651205,
          17.71629276,
          17.71606772,
          17.71584628,
          17.71561271,
          17.71536752,
          17.71511837,
          17.71485677,
          17.71457918,
          17.71429587,
          17.71401223,
          17.7137297,
          17.7134438,
          17.7131664,
          17.71288241,
          17.7126106,
          17.71233859,
          17.71205432,
          17.71177703,
          17.71150211,
          17.71121762,
          17.71095938,
          17.71069426,
          17.71040767,
          17.71013084,
          17.70984002,
          17.70953434,
          17.70924229,
          17.70894246,
          17.70867175,
          17.70836973,
          17.70808472,
          17.70780735,
          17.70753979,
          17.70725556,
          17.70695853,
          17.70665667,
          17.70636267,
          17.70608657,
          17.7057911,
          17.70551181,
          17.70524164,
          17.70499667,
          17.70471573,
          17.70442866,
          17.7041576,
          17.70390839,
          17.70364403,
          17.70338421,
          17.7031319,
          17.70286969,
          17.70260616,
          17.7023383,
          17.7020677,
          17.70178729,
          17.70150566,
          17.70127698,
          17.70098962,
          17.70071722,
          17.70046696,
          17.70019748,
          17.69992618,
          17.69964233,
          17.69938868,
          17.69915754,
          17.69892817,
          17.69868884,
          17.69844912,
          17.69821746,
          17.69799683,
          17.69777599,
          17.69755119,
          17.69733045,
          17.6970932,
          17.69685114,
          17.69661165,
          17.69637572,
          17.69615834,
          17.69593746,
          17.69572081,
          17.69550748,
          17.69528664,
          17.69506101,
          17.69483673,
          17.69460005,
          17.69438,
          17.69416231,
          17.69393235,
          17.69371505,
          17.69347053,
          17.69323871,
          17.69300705,
          17.69276496,
          17.69253101,
          17.69228226,
          17.69204862,
          17.69182523,
          17.6915638,
          17.69132299,
          17.69107614,
          17.6908434,
          17.69060439,
          17.69036272,
          17.69011465,
          17.68986058,
          17.68961163,
          17.6893851,
          17.68914813,
          17.68890578,
          17.68867228,
          17.68845976,
          17.68826399,
          17.68807257,
          17.68790766,
          17.68779197,
          17.6877166,
          17.68767203,
          17.68756075,
          17.68757206,
          17.68758385,
          17.68759582,
          17.68760832,
          17.68762134,
          17.68763894,
          17.68765322,
          17.68766753,
          17.68767935,
          17.68768443,
          17.68767225,
          17.68766018,
          17.68765488,
          17.68763118,
          17.68761575,
          17.68762721,
          17.68762284,
          17.68761495,
          17.68760718,
          17.68760191,
          17.68759507,
          17.68758971,
          17.68758261,
          17.68790312,
          17.68798661,
          17.68809834,
          17.68820877,
          17.68831051,
          17.68842158,
          17.68853493,
          17.68861671,
          17.68873481,
          17.68886996,
          17.688975,
          17.68905446,
          17.68919039,
          17.68932188,
          17.68944962,
          17.68956453,
          17.68968288,
          17.68981453,
          17.68994786,
          17.69007805,
          17.69021965,
          17.69035038,
          17.69048086,
          17.69061202,
          17.69074699,
          17.69087815,
          17.69101846,
          17.69116731,
          17.69132683,
          17.69149116,
          17.69166386,
          17.69184866,
          17.69202541,
          17.69220306,
          17.69238392,
          17.69257657,
          17.69277867,
          17.69299447,
          17.69322107,
          17.69344858,
          17.69369527,
          17.6939286,
          17.69415439,
          17.69440826,
          17.69466998,
          17.69492807,
          17.69519514,
          17.69544289,
          17.69571902,
          17.69597482,
          17.69624583,
          17.69649785,
          17.69675614,
          17.69701351,
          17.69728994,
          17.69752641,
          17.69777961,
          17.69803585,
          17.69826594,
          17.69850868,
          17.69875882,
          17.69900145,
          17.69925762,
          17.69951968,
          17.69979471,
          17.70007451,
          17.70035553,
          17.70061994,
          17.7008914,
          17.70114699,
          17.70143736,
          17.70171527,
          17.70196443,
          17.70222426,
          17.70248149,
          17.70275316,
          17.70306979,
          17.70334765,
          17.70362168,
          17.70388315,
          17.70416115,
          17.70444867,
          17.70471955,
          17.70499042,
          17.70527248,
          17.70554967,
          17.70584472,
          17.70613126,
          17.70640939,
          17.70670249,
          17.70696821,
          17.70725578,
          17.70753905,
          17.70783833,
          17.70813312,
          17.7084287,
          17.70871011,
          17.70900148,
          17.70927069,
          17.7095703,
          17.70986343,
          17.71012504,
          17.71040276,
          17.71068658,
          17.71097346,
          17.71125226,
          17.71152673,
          17.71180526,
          17.71208528,
          17.71236289,
          17.71264706,
          17.71292642,
          17.713189,
          17.71346046,
          17.71373464,
          17.71402248,
          17.71429643,
          17.71455907,
          17.71482141,
          17.71508105,
          17.71534433,
          17.71555437,
          17.71576659,
          17.71597678,
          17.71611001,
          17.71620404,
          17.71666575,
          17.7165048,
          17.71652819,
          17.71652691,
          17.71656405,
          17.7164989,
          17.71644231,
          17.71639044,
          17.71633149,
          17.71628925,
          17.71625981,
          17.71625205,
          17.71624006
         ],
         "marker": {
          "color": [
           0,
           0,
           0,
           0,
           0,
           0,
           0,
           0,
           0,
           0,
           0,
           0,
           0,
           0,
           0,
           0,
           0,
           0,
           0,
           0,
           0,
           0,
           0,
           0,
           0,
           0,
           0,
           0,
           0,
           0,
           0,
           1,
           0,
           0,
           0,
           0,
           0,
           0,
           0,
           0,
           0,
           0,
           0,
           0,
           0,
           0,
           0,
           0,
           0,
           0,
           0,
           0,
           0,
           0,
           0,
           0,
           0,
           0,
           0,
           0,
           0,
           0,
           0,
           0,
           0,
           0,
           0,
           0,
           0,
           0,
           0,
           0,
           0,
           0,
           0,
           0,
           0,
           0,
           0,
           0,
           0,
           0,
           0,
           0,
           0,
           0,
           0,
           0,
           0,
           0,
           0,
           0,
           0,
           0,
           0,
           0,
           0,
           0,
           0,
           0,
           0,
           0,
           0,
           0,
           0,
           0,
           0,
           0,
           0,
           0,
           0,
           0,
           0,
           0,
           0,
           0,
           0,
           0,
           0,
           0,
           0,
           0,
           0,
           0,
           0,
           0,
           0,
           0,
           0,
           0,
           0,
           0,
           0,
           0,
           0,
           0,
           0,
           0,
           0,
           0,
           0,
           0,
           0,
           0,
           0,
           0,
           0,
           0,
           0,
           0,
           0,
           0,
           0,
           0,
           0,
           0,
           0,
           0,
           0,
           0,
           0,
           0,
           0,
           0,
           0,
           0,
           0,
           0,
           0,
           0,
           0,
           0,
           0,
           0,
           0,
           0,
           0,
           0,
           0,
           0,
           0,
           0,
           0,
           0,
           0,
           0,
           0,
           0,
           0,
           0,
           0,
           0,
           0,
           0,
           0,
           0,
           0,
           0,
           0,
           0,
           0,
           0,
           0,
           0,
           0,
           0,
           0,
           0,
           0,
           1,
           0,
           0,
           0,
           0,
           0,
           0,
           0,
           0,
           0,
           0,
           0,
           0,
           0,
           0,
           0,
           0,
           0,
           0,
           0,
           0,
           0,
           0,
           0,
           0,
           0,
           0,
           0,
           0,
           0,
           0,
           0,
           0,
           0,
           0,
           0,
           0,
           0,
           0,
           0,
           0,
           0,
           0,
           0,
           0,
           0,
           0,
           0,
           0,
           0,
           0,
           0,
           0,
           0,
           0,
           0,
           0,
           0,
           0,
           0,
           0,
           0,
           0,
           0,
           0,
           0,
           0,
           0,
           1,
           0,
           0,
           0,
           0,
           0,
           0,
           0,
           0,
           0,
           0,
           0,
           0,
           0,
           0,
           0,
           0,
           0,
           0,
           0,
           0,
           0,
           0,
           0,
           0,
           0,
           0,
           0,
           0,
           0,
           0,
           0,
           0,
           0,
           0,
           0,
           0,
           0,
           0,
           0,
           0,
           0,
           0,
           0,
           0,
           0,
           0,
           0,
           0,
           0,
           0,
           0,
           0,
           0,
           0,
           0,
           0,
           0,
           0,
           0,
           0,
           0,
           0,
           0,
           0,
           0,
           0,
           0,
           0,
           0,
           0,
           0,
           0,
           0,
           0,
           0,
           0,
           0,
           0,
           0,
           0,
           0,
           0,
           0,
           0,
           0,
           0,
           0,
           1,
           1,
           0,
           0,
           0,
           0,
           0,
           0,
           0,
           0,
           0,
           0,
           0,
           0,
           0,
           0,
           0,
           0,
           0,
           0,
           0,
           0,
           0,
           0,
           0,
           0,
           0,
           0,
           0,
           0,
           0,
           0,
           0,
           1,
           0,
           0,
           0,
           0,
           0,
           0,
           0,
           0,
           0,
           0,
           0,
           0,
           0,
           0,
           0,
           0,
           0,
           0,
           0,
           0,
           0,
           0,
           0,
           0,
           0,
           0,
           0,
           0,
           0,
           0,
           0,
           0,
           0,
           0,
           0,
           0,
           0,
           0,
           0,
           0,
           0,
           0,
           0,
           0,
           0,
           0,
           0,
           0,
           0,
           0,
           0,
           0,
           0,
           0,
           0,
           0,
           0,
           0,
           0,
           0,
           0,
           0,
           0,
           0,
           0,
           0,
           1,
           0,
           0,
           0,
           0,
           0,
           0,
           0,
           0,
           1,
           0,
           0,
           0,
           0,
           0,
           0,
           0,
           0,
           0,
           0,
           0,
           0,
           0,
           0,
           0,
           0,
           0,
           0,
           0,
           0,
           0,
           0,
           0,
           0,
           0,
           0,
           0,
           0,
           0,
           0,
           0,
           0,
           0,
           0,
           0,
           0,
           0,
           0,
           0,
           0,
           0,
           0,
           0,
           0,
           0,
           0,
           0,
           0,
           0,
           0,
           0,
           0,
           0,
           0,
           0,
           0,
           0,
           0,
           0,
           0,
           0,
           0,
           0,
           0,
           0,
           0,
           0,
           0,
           0,
           0,
           0,
           0,
           0,
           0,
           0,
           0,
           0,
           0,
           0,
           0,
           0,
           0,
           0,
           0,
           0,
           0
          ],
          "coloraxis": "coloraxis"
         },
         "mode": "markers",
         "name": "",
         "showlegend": false,
         "subplot": "mapbox",
         "type": "scattermapbox"
        }
       ],
       "layout": {
        "coloraxis": {
         "colorbar": {
          "title": {
           "text": "label"
          }
         },
         "colorscale": [
          [
           0,
           "green"
          ],
          [
           1,
           "red"
          ]
         ],
         "showscale": false
        },
        "height": 300,
        "legend": {
         "tracegroupgap": 0
        },
        "mapbox": {
         "center": {
          "lat": 47.70625601174689,
          "lon": 17.708033217504457
         },
         "domain": {
          "x": [
           0,
           1
          ],
          "y": [
           0,
           1
          ]
         },
         "style": "open-street-map",
         "zoom": 12
        },
        "margin": {
         "b": 0,
         "l": 0,
         "r": 0,
         "t": 0
        },
        "template": {
         "data": {
          "bar": [
           {
            "error_x": {
             "color": "#2a3f5f"
            },
            "error_y": {
             "color": "#2a3f5f"
            },
            "marker": {
             "line": {
              "color": "#E5ECF6",
              "width": 0.5
             }
            },
            "type": "bar"
           }
          ],
          "barpolar": [
           {
            "marker": {
             "line": {
              "color": "#E5ECF6",
              "width": 0.5
             }
            },
            "type": "barpolar"
           }
          ],
          "carpet": [
           {
            "aaxis": {
             "endlinecolor": "#2a3f5f",
             "gridcolor": "white",
             "linecolor": "white",
             "minorgridcolor": "white",
             "startlinecolor": "#2a3f5f"
            },
            "baxis": {
             "endlinecolor": "#2a3f5f",
             "gridcolor": "white",
             "linecolor": "white",
             "minorgridcolor": "white",
             "startlinecolor": "#2a3f5f"
            },
            "type": "carpet"
           }
          ],
          "choropleth": [
           {
            "colorbar": {
             "outlinewidth": 0,
             "ticks": ""
            },
            "type": "choropleth"
           }
          ],
          "contour": [
           {
            "colorbar": {
             "outlinewidth": 0,
             "ticks": ""
            },
            "colorscale": [
             [
              0,
              "#0d0887"
             ],
             [
              0.1111111111111111,
              "#46039f"
             ],
             [
              0.2222222222222222,
              "#7201a8"
             ],
             [
              0.3333333333333333,
              "#9c179e"
             ],
             [
              0.4444444444444444,
              "#bd3786"
             ],
             [
              0.5555555555555556,
              "#d8576b"
             ],
             [
              0.6666666666666666,
              "#ed7953"
             ],
             [
              0.7777777777777778,
              "#fb9f3a"
             ],
             [
              0.8888888888888888,
              "#fdca26"
             ],
             [
              1,
              "#f0f921"
             ]
            ],
            "type": "contour"
           }
          ],
          "contourcarpet": [
           {
            "colorbar": {
             "outlinewidth": 0,
             "ticks": ""
            },
            "type": "contourcarpet"
           }
          ],
          "heatmap": [
           {
            "colorbar": {
             "outlinewidth": 0,
             "ticks": ""
            },
            "colorscale": [
             [
              0,
              "#0d0887"
             ],
             [
              0.1111111111111111,
              "#46039f"
             ],
             [
              0.2222222222222222,
              "#7201a8"
             ],
             [
              0.3333333333333333,
              "#9c179e"
             ],
             [
              0.4444444444444444,
              "#bd3786"
             ],
             [
              0.5555555555555556,
              "#d8576b"
             ],
             [
              0.6666666666666666,
              "#ed7953"
             ],
             [
              0.7777777777777778,
              "#fb9f3a"
             ],
             [
              0.8888888888888888,
              "#fdca26"
             ],
             [
              1,
              "#f0f921"
             ]
            ],
            "type": "heatmap"
           }
          ],
          "heatmapgl": [
           {
            "colorbar": {
             "outlinewidth": 0,
             "ticks": ""
            },
            "colorscale": [
             [
              0,
              "#0d0887"
             ],
             [
              0.1111111111111111,
              "#46039f"
             ],
             [
              0.2222222222222222,
              "#7201a8"
             ],
             [
              0.3333333333333333,
              "#9c179e"
             ],
             [
              0.4444444444444444,
              "#bd3786"
             ],
             [
              0.5555555555555556,
              "#d8576b"
             ],
             [
              0.6666666666666666,
              "#ed7953"
             ],
             [
              0.7777777777777778,
              "#fb9f3a"
             ],
             [
              0.8888888888888888,
              "#fdca26"
             ],
             [
              1,
              "#f0f921"
             ]
            ],
            "type": "heatmapgl"
           }
          ],
          "histogram": [
           {
            "marker": {
             "colorbar": {
              "outlinewidth": 0,
              "ticks": ""
             }
            },
            "type": "histogram"
           }
          ],
          "histogram2d": [
           {
            "colorbar": {
             "outlinewidth": 0,
             "ticks": ""
            },
            "colorscale": [
             [
              0,
              "#0d0887"
             ],
             [
              0.1111111111111111,
              "#46039f"
             ],
             [
              0.2222222222222222,
              "#7201a8"
             ],
             [
              0.3333333333333333,
              "#9c179e"
             ],
             [
              0.4444444444444444,
              "#bd3786"
             ],
             [
              0.5555555555555556,
              "#d8576b"
             ],
             [
              0.6666666666666666,
              "#ed7953"
             ],
             [
              0.7777777777777778,
              "#fb9f3a"
             ],
             [
              0.8888888888888888,
              "#fdca26"
             ],
             [
              1,
              "#f0f921"
             ]
            ],
            "type": "histogram2d"
           }
          ],
          "histogram2dcontour": [
           {
            "colorbar": {
             "outlinewidth": 0,
             "ticks": ""
            },
            "colorscale": [
             [
              0,
              "#0d0887"
             ],
             [
              0.1111111111111111,
              "#46039f"
             ],
             [
              0.2222222222222222,
              "#7201a8"
             ],
             [
              0.3333333333333333,
              "#9c179e"
             ],
             [
              0.4444444444444444,
              "#bd3786"
             ],
             [
              0.5555555555555556,
              "#d8576b"
             ],
             [
              0.6666666666666666,
              "#ed7953"
             ],
             [
              0.7777777777777778,
              "#fb9f3a"
             ],
             [
              0.8888888888888888,
              "#fdca26"
             ],
             [
              1,
              "#f0f921"
             ]
            ],
            "type": "histogram2dcontour"
           }
          ],
          "mesh3d": [
           {
            "colorbar": {
             "outlinewidth": 0,
             "ticks": ""
            },
            "type": "mesh3d"
           }
          ],
          "parcoords": [
           {
            "line": {
             "colorbar": {
              "outlinewidth": 0,
              "ticks": ""
             }
            },
            "type": "parcoords"
           }
          ],
          "pie": [
           {
            "automargin": true,
            "type": "pie"
           }
          ],
          "scatter": [
           {
            "marker": {
             "colorbar": {
              "outlinewidth": 0,
              "ticks": ""
             }
            },
            "type": "scatter"
           }
          ],
          "scatter3d": [
           {
            "line": {
             "colorbar": {
              "outlinewidth": 0,
              "ticks": ""
             }
            },
            "marker": {
             "colorbar": {
              "outlinewidth": 0,
              "ticks": ""
             }
            },
            "type": "scatter3d"
           }
          ],
          "scattercarpet": [
           {
            "marker": {
             "colorbar": {
              "outlinewidth": 0,
              "ticks": ""
             }
            },
            "type": "scattercarpet"
           }
          ],
          "scattergeo": [
           {
            "marker": {
             "colorbar": {
              "outlinewidth": 0,
              "ticks": ""
             }
            },
            "type": "scattergeo"
           }
          ],
          "scattergl": [
           {
            "marker": {
             "colorbar": {
              "outlinewidth": 0,
              "ticks": ""
             }
            },
            "type": "scattergl"
           }
          ],
          "scattermapbox": [
           {
            "marker": {
             "colorbar": {
              "outlinewidth": 0,
              "ticks": ""
             }
            },
            "type": "scattermapbox"
           }
          ],
          "scatterpolar": [
           {
            "marker": {
             "colorbar": {
              "outlinewidth": 0,
              "ticks": ""
             }
            },
            "type": "scatterpolar"
           }
          ],
          "scatterpolargl": [
           {
            "marker": {
             "colorbar": {
              "outlinewidth": 0,
              "ticks": ""
             }
            },
            "type": "scatterpolargl"
           }
          ],
          "scatterternary": [
           {
            "marker": {
             "colorbar": {
              "outlinewidth": 0,
              "ticks": ""
             }
            },
            "type": "scatterternary"
           }
          ],
          "surface": [
           {
            "colorbar": {
             "outlinewidth": 0,
             "ticks": ""
            },
            "colorscale": [
             [
              0,
              "#0d0887"
             ],
             [
              0.1111111111111111,
              "#46039f"
             ],
             [
              0.2222222222222222,
              "#7201a8"
             ],
             [
              0.3333333333333333,
              "#9c179e"
             ],
             [
              0.4444444444444444,
              "#bd3786"
             ],
             [
              0.5555555555555556,
              "#d8576b"
             ],
             [
              0.6666666666666666,
              "#ed7953"
             ],
             [
              0.7777777777777778,
              "#fb9f3a"
             ],
             [
              0.8888888888888888,
              "#fdca26"
             ],
             [
              1,
              "#f0f921"
             ]
            ],
            "type": "surface"
           }
          ],
          "table": [
           {
            "cells": {
             "fill": {
              "color": "#EBF0F8"
             },
             "line": {
              "color": "white"
             }
            },
            "header": {
             "fill": {
              "color": "#C8D4E3"
             },
             "line": {
              "color": "white"
             }
            },
            "type": "table"
           }
          ]
         },
         "layout": {
          "annotationdefaults": {
           "arrowcolor": "#2a3f5f",
           "arrowhead": 0,
           "arrowwidth": 1
          },
          "coloraxis": {
           "colorbar": {
            "outlinewidth": 0,
            "ticks": ""
           }
          },
          "colorscale": {
           "diverging": [
            [
             0,
             "#8e0152"
            ],
            [
             0.1,
             "#c51b7d"
            ],
            [
             0.2,
             "#de77ae"
            ],
            [
             0.3,
             "#f1b6da"
            ],
            [
             0.4,
             "#fde0ef"
            ],
            [
             0.5,
             "#f7f7f7"
            ],
            [
             0.6,
             "#e6f5d0"
            ],
            [
             0.7,
             "#b8e186"
            ],
            [
             0.8,
             "#7fbc41"
            ],
            [
             0.9,
             "#4d9221"
            ],
            [
             1,
             "#276419"
            ]
           ],
           "sequential": [
            [
             0,
             "#0d0887"
            ],
            [
             0.1111111111111111,
             "#46039f"
            ],
            [
             0.2222222222222222,
             "#7201a8"
            ],
            [
             0.3333333333333333,
             "#9c179e"
            ],
            [
             0.4444444444444444,
             "#bd3786"
            ],
            [
             0.5555555555555556,
             "#d8576b"
            ],
            [
             0.6666666666666666,
             "#ed7953"
            ],
            [
             0.7777777777777778,
             "#fb9f3a"
            ],
            [
             0.8888888888888888,
             "#fdca26"
            ],
            [
             1,
             "#f0f921"
            ]
           ],
           "sequentialminus": [
            [
             0,
             "#0d0887"
            ],
            [
             0.1111111111111111,
             "#46039f"
            ],
            [
             0.2222222222222222,
             "#7201a8"
            ],
            [
             0.3333333333333333,
             "#9c179e"
            ],
            [
             0.4444444444444444,
             "#bd3786"
            ],
            [
             0.5555555555555556,
             "#d8576b"
            ],
            [
             0.6666666666666666,
             "#ed7953"
            ],
            [
             0.7777777777777778,
             "#fb9f3a"
            ],
            [
             0.8888888888888888,
             "#fdca26"
            ],
            [
             1,
             "#f0f921"
            ]
           ]
          },
          "colorway": [
           "#636efa",
           "#EF553B",
           "#00cc96",
           "#ab63fa",
           "#FFA15A",
           "#19d3f3",
           "#FF6692",
           "#B6E880",
           "#FF97FF",
           "#FECB52"
          ],
          "font": {
           "color": "#2a3f5f"
          },
          "geo": {
           "bgcolor": "white",
           "lakecolor": "white",
           "landcolor": "#E5ECF6",
           "showlakes": true,
           "showland": true,
           "subunitcolor": "white"
          },
          "hoverlabel": {
           "align": "left"
          },
          "hovermode": "closest",
          "mapbox": {
           "style": "light"
          },
          "paper_bgcolor": "white",
          "plot_bgcolor": "#E5ECF6",
          "polar": {
           "angularaxis": {
            "gridcolor": "white",
            "linecolor": "white",
            "ticks": ""
           },
           "bgcolor": "#E5ECF6",
           "radialaxis": {
            "gridcolor": "white",
            "linecolor": "white",
            "ticks": ""
           }
          },
          "scene": {
           "xaxis": {
            "backgroundcolor": "#E5ECF6",
            "gridcolor": "white",
            "gridwidth": 2,
            "linecolor": "white",
            "showbackground": true,
            "ticks": "",
            "zerolinecolor": "white"
           },
           "yaxis": {
            "backgroundcolor": "#E5ECF6",
            "gridcolor": "white",
            "gridwidth": 2,
            "linecolor": "white",
            "showbackground": true,
            "ticks": "",
            "zerolinecolor": "white"
           },
           "zaxis": {
            "backgroundcolor": "#E5ECF6",
            "gridcolor": "white",
            "gridwidth": 2,
            "linecolor": "white",
            "showbackground": true,
            "ticks": "",
            "zerolinecolor": "white"
           }
          },
          "shapedefaults": {
           "line": {
            "color": "#2a3f5f"
           }
          },
          "ternary": {
           "aaxis": {
            "gridcolor": "white",
            "linecolor": "white",
            "ticks": ""
           },
           "baxis": {
            "gridcolor": "white",
            "linecolor": "white",
            "ticks": ""
           },
           "bgcolor": "#E5ECF6",
           "caxis": {
            "gridcolor": "white",
            "linecolor": "white",
            "ticks": ""
           }
          },
          "title": {
           "x": 0.05
          },
          "xaxis": {
           "automargin": true,
           "gridcolor": "white",
           "linecolor": "white",
           "ticks": "",
           "title": {
            "standoff": 15
           },
           "zerolinecolor": "white",
           "zerolinewidth": 2
          },
          "yaxis": {
           "automargin": true,
           "gridcolor": "white",
           "linecolor": "white",
           "ticks": "",
           "title": {
            "standoff": 15
           },
           "zerolinecolor": "white",
           "zerolinewidth": 2
          }
         }
        }
       }
      },
      "text/html": [
       "<div>\n",
       "        \n",
       "        \n",
       "            <div id=\"b40385d9-fae7-49df-ac20-ae08a03d48d0\" class=\"plotly-graph-div\" style=\"height:300px; width:100%;\"></div>\n",
       "            <script type=\"text/javascript\">\n",
       "                require([\"plotly\"], function(Plotly) {\n",
       "                    window.PLOTLYENV=window.PLOTLYENV || {};\n",
       "                    \n",
       "                if (document.getElementById(\"b40385d9-fae7-49df-ac20-ae08a03d48d0\")) {\n",
       "                    Plotly.newPlot(\n",
       "                        'b40385d9-fae7-49df-ac20-ae08a03d48d0',\n",
       "                        [{\"hovertemplate\": \"lat=%{lat}<br>lon=%{lon}<br>label=%{marker.color}<extra></extra>\", \"lat\": [47.69526655, 47.69533469, 47.69527313, 47.695239, 47.69520087, 47.69516161, 47.69510415, 47.69505844, 47.69499758, 47.69497979, 47.69487235, 47.69479439, 47.6947225, 47.6946441, 47.69456352, 47.69448463, 47.69440874, 47.69432852, 47.69425449, 47.69418072, 47.69410587, 47.69403416, 47.69395916, 47.6938922, 47.69382682, 47.69376128, 47.69369824, 47.69363971, 47.69358324, 47.69353168, 47.69348651, 47.69345301, 47.6934229, 47.69341402, 47.69341418, 47.69343899, 47.69349133, 47.6935126, 47.69352291, 47.69354853, 47.69359475, 47.69365501, 47.69374551, 47.69384689, 47.69396913, 47.69410167, 47.69423654, 47.69440081, 47.69459634, 47.69478457, 47.69498694, 47.69518663, 47.69537605, 47.69557274, 47.69574743, 47.69593179, 47.69612109, 47.69631076, 47.69649372, 47.6966681, 47.6968474, 47.69702329, 47.69719417, 47.69736398, 47.69754128, 47.69771323, 47.69788579, 47.69806462, 47.69823402, 47.69839986, 47.69857277, 47.6987422, 47.6989134, 47.69908023, 47.69926042, 47.69943186, 47.69961467, 47.69978786, 47.69996278, 47.70011406, 47.7003039, 47.70047986, 47.70064942, 47.70082647, 47.70099939, 47.70116929, 47.70133499, 47.70150389, 47.70169931, 47.70186667, 47.7020359, 47.70221293, 47.7024041, 47.70258982, 47.70276938, 47.70294713, 47.70312841, 47.70328294, 47.70345879, 47.70364579, 47.70381609, 47.70399917, 47.70416727, 47.70433194, 47.70448049, 47.70463911, 47.70480457, 47.70494827, 47.70510658, 47.70526398, 47.70540867, 47.70554969, 47.70567655, 47.70577672, 47.70585257, 47.70587416, 47.70591724, 47.70594344, 47.70593976, 47.70599465, 47.7060648, 47.70616311, 47.70628877, 47.70639797, 47.70644453, 47.70659179, 47.70673607, 47.7068991, 47.70707867, 47.70725699, 47.70745169, 47.70765161, 47.70785912, 47.70806957, 47.70827464, 47.7084664, 47.70868335, 47.70891349, 47.70912917, 47.70934949, 47.70957326, 47.70980212, 47.71002658, 47.71024255, 47.71045112, 47.71067797, 47.71089223, 47.71110405, 47.71133189, 47.71153237, 47.71174436, 47.71193938, 47.71214637, 47.71234294, 47.71255536, 47.71273476, 47.71292555, 47.71311164, 47.71329522, 47.71346726, 47.71364766, 47.71381812, 47.71398653, 47.71414915, 47.71431548, 47.71447192, 47.71460346, 47.71470974, 47.71482146, 47.71498862, 47.71512725, 47.71520277, 47.71525163, 47.71528162, 47.7152632, 47.71524327, 47.71514439, 47.71517796, 47.71521376, 47.71524441, 47.71534881, 47.71544852, 47.71556297, 47.71568256, 47.71583493, 47.71597274, 47.71609706, 47.71623874, 47.71638762, 47.71660239, 47.71675382, 47.71692127, 47.71709853, 47.71727754, 47.71744615, 47.71754413, 47.71763918, 47.71771227, 47.71779442, 47.71789156, 47.71794181, 47.71798098, 47.71799209, 47.71796472, 47.71791406, 47.71778288, 47.71762796, 47.71759568, 47.71759543, 47.71739604, 47.71722636, 47.71706009, 47.71690479, 47.71674597, 47.71658065, 47.71638527, 47.71624449, 47.71608947, 47.71594433, 47.71577924, 47.71561731, 47.71548414, 47.71536611, 47.71528829, 47.71520822, 47.71514305, 47.71507672, 47.71502041, 47.71497578, 47.71480634, 47.71478181, 47.7147601, 47.71477626, 47.71465635, 47.71453987, 47.71441561, 47.71428123, 47.71410086, 47.71392762, 47.71375666, 47.71357779, 47.71338703, 47.71322823, 47.71303478, 47.71283527, 47.71263343, 47.71244341, 47.71224178, 47.71204217, 47.71182626, 47.71162565, 47.71140876, 47.71119947, 47.71098348, 47.71078078, 47.71057751, 47.71038021, 47.71017205, 47.70998613, 47.70977851, 47.70957784, 47.7093597, 47.70914606, 47.708937, 47.70872411, 47.70850452, 47.7082965, 47.70810523, 47.70792423, 47.70776281, 47.70758319, 47.70740554, 47.70723597, 47.7070715, 47.70693226, 47.70680432, 47.7066934, 47.7065859, 47.70649683, 47.70643211, 47.70637234, 47.70631753, 47.70630571, 47.7063014, 47.70633035, 47.70636909, 47.70640346, 47.70645125, 47.70649236, 47.70653453, 47.70656439, 47.7065851, 47.70660688, 47.70662328, 47.70663427, 47.70664471, 47.70664991, 47.70665769, 47.70666004, 47.70665701, 47.70664975, 47.70666412, 47.70667882, 47.70669172, 47.70669225, 47.70668873, 47.70668454, 47.70667942, 47.7066747, 47.7066699, 47.70666369, 47.7066565, 47.70664972, 47.70664311, 47.70663477, 47.70664927, 47.70663143, 47.70662316, 47.70661206, 47.70660171, 47.70658545, 47.7065663, 47.70653753, 47.70651199, 47.70648924, 47.70647645, 47.70645927, 47.70644628, 47.70642352, 47.70639905, 47.70638041, 47.70636628, 47.70635627, 47.70633896, 47.70632681, 47.70632366, 47.70632072, 47.70631459, 47.70628494, 47.70626011, 47.70623869, 47.70622677, 47.70621192, 47.70619327, 47.70618817, 47.70617124, 47.70614436, 47.70612824, 47.70613219, 47.70612935, 47.70611636, 47.70611993, 47.70611879, 47.70610833, 47.70609263, 47.70607744, 47.70607634, 47.70606098, 47.70603662, 47.70602096, 47.70598926, 47.70596042, 47.70595191, 47.70594676, 47.70593454, 47.70590935, 47.70590281, 47.70588877, 47.7058698, 47.70584833, 47.70582647, 47.70582006, 47.70580543, 47.70579223, 47.70578513, 47.70578172, 47.70576362, 47.70574754, 47.70572522, 47.70571558, 47.70570659, 47.70569597, 47.70569032, 47.7056759, 47.70565796, 47.70563618, 47.70562478, 47.70562613, 47.7056139, 47.70559711, 47.70558937, 47.70556382, 47.70554005, 47.70552368, 47.70550679, 47.70550117, 47.70550417, 47.70549447, 47.70542545, 47.70533961, 47.70525021, 47.70515946, 47.70506502, 47.70496659, 47.70483356, 47.70472557, 47.70461746, 47.70452807, 47.70448971, 47.70458179, 47.70464655, 47.70471122, 47.70477334, 47.70483128, 47.70489468, 47.70495525, 47.70501485, 47.70507357, 47.70511346, 47.7051651, 47.70520575, 47.70525959, 47.7054843, 47.70547104, 47.70546768, 47.70547688, 47.70548827, 47.70549797, 47.70550098, 47.70551509, 47.70551562, 47.70551814, 47.70552626, 47.70552414, 47.70553369, 47.70554676, 47.70554493, 47.70556493, 47.70557821, 47.70557339, 47.70557464, 47.70558562, 47.70559582, 47.70559665, 47.7056044, 47.70560762, 47.70561112, 47.70561808, 47.70563013, 47.70563945, 47.70565446, 47.70566206, 47.70567164, 47.7056805, 47.70569517, 47.70570597, 47.70571727, 47.70573507, 47.70574949, 47.70575992, 47.70577168, 47.7057868, 47.70580049, 47.70580882, 47.70582191, 47.70582209, 47.70583168, 47.70584264, 47.70584986, 47.70586981, 47.70590173, 47.70592422, 47.70594475, 47.70595994, 47.70596642, 47.70598563, 47.70599906, 47.70599977, 47.70600337, 47.70601845, 47.70603199, 47.70604627, 47.70606099, 47.70607526, 47.70609023, 47.70610624, 47.70612294, 47.70613654, 47.70614963, 47.70617834, 47.7062003, 47.70620023, 47.70622963, 47.70624181, 47.70626693, 47.70627545, 47.70629129, 47.70631074, 47.70631331, 47.70633141, 47.70632918, 47.70632622, 47.70633697, 47.70635581, 47.70637844, 47.70640541, 47.70641323, 47.70642839, 47.70645336, 47.70647468, 47.70649607, 47.70649979, 47.70651417, 47.70652551, 47.7065348, 47.70655255, 47.70657149, 47.70657198, 47.70657438, 47.70659476, 47.706613, 47.7066349, 47.70663058, 47.70662135, 47.70661086, 47.70662419, 47.70662678, 47.70662221, 47.70661186, 47.70661021, 47.70661259, 47.70661456, 47.70661644, 47.70660819, 47.70658769, 47.70655996, 47.7065332, 47.70651098, 47.70648898, 47.70646124, 47.70642447, 47.70639024, 47.70635617, 47.7063279, 47.70629865, 47.70626931, 47.70625279, 47.70624771, 47.70597353, 47.7060967, 47.70606347, 47.70606528, 47.705862, 47.70574789, 47.70563312, 47.70551769, 47.70537696, 47.705276, 47.70517641, 47.70514537, 47.70506797], \"legendgroup\": \"\", \"lon\": [17.72453165, 17.72441182, 17.72427204, 17.72412351, 17.72396356, 17.72380069, 17.72361901, 17.72344114, 17.72321189, 17.72310353, 17.7228713, 17.72263084, 17.72240913, 17.72216734, 17.7219188, 17.7216755, 17.72144145, 17.72119405, 17.72096573, 17.72073832, 17.72050762, 17.72028659, 17.72005539, 17.719849, 17.71964749, 17.71944546, 17.71925114, 17.71907074, 17.71889667, 17.71873776, 17.71859865, 17.71849554, 17.71840287, 17.71824891, 17.7181574, 17.71805828, 17.71795747, 17.71788822, 17.71780694, 17.71755187, 17.71742384, 17.71731615, 17.71720397, 17.71710312, 17.71700315, 17.71691755, 17.71686185, 17.71681376, 17.71678969, 17.71680092, 17.71682722, 17.71685373, 17.71687887, 17.71690498, 17.71692817, 17.71695264, 17.71697777, 17.71700294, 17.71702802, 17.71705248, 17.71707803, 17.71710453, 17.71713027, 17.71715609, 17.7171839, 17.71721087, 17.71723793, 17.71726598, 17.71729203, 17.71731727, 17.71734359, 17.71736916, 17.71739398, 17.71741817, 17.7174443, 17.71746916, 17.71749412, 17.71751586, 17.71753618, 17.71754313, 17.71753448, 17.71752565, 17.71751661, 17.71750405, 17.71748622, 17.71746238, 17.71743499, 17.71740126, 17.71736711, 17.71733477, 17.71727893, 17.71721822, 17.71715206, 17.71708441, 17.71701478, 17.71693324, 17.71684514, 17.71676622, 17.7166769, 17.71658855, 17.7165095, 17.7164262, 17.716355, 17.71629993, 17.71625874, 17.7162181, 17.71622405, 17.71623257, 17.71624593, 17.7162844, 17.71634476, 17.71640482, 17.71646183, 17.71651492, 17.71655835, 17.71674129, 17.7168453, 17.71698635, 17.71713677, 17.71726427, 17.7173512, 17.71740204, 17.71739892, 17.71730732, 17.71720753, 17.71698212, 17.71692468, 17.716887, 17.71686647, 17.71683047, 17.71680501, 17.71675044, 17.71667022, 17.71657542, 17.71648179, 17.71639403, 17.71633188, 17.71624061, 17.71615359, 17.71605444, 17.71595014, 17.71585736, 17.7157787, 17.7156772, 17.71559203, 17.71546748, 17.71538356, 17.71531791, 17.71522539, 17.71516242, 17.7150813, 17.71499099, 17.7149029, 17.71482164, 17.71472379, 17.71461039, 17.71448188, 17.71435063, 17.71421787, 17.71410223, 17.71398678, 17.71384823, 17.713711, 17.71358278, 17.71346951, 17.71336346, 17.71327496, 17.71321908, 17.71315404, 17.71339065, 17.7133281, 17.71321852, 17.71314558, 17.71293261, 17.71277327, 17.71272175, 17.71244956, 17.71225104, 17.71205113, 17.71188807, 17.71164644, 17.7114419, 17.7112331, 17.71105688, 17.71087219, 17.71071008, 17.71056719, 17.71041861, 17.71028901, 17.71014281, 17.71004784, 17.70994746, 17.70985455, 17.70980626, 17.70976076, 17.70973431, 17.70970488, 17.70978611, 17.70989489, 17.70992461, 17.70983834, 17.70973676, 17.70959337, 17.70946264, 17.70937207, 17.7092903, 17.70935365, 17.70950037, 17.70950094, 17.70982963, 17.70990253, 17.70996453, 17.71003695, 17.71010403, 17.71018081, 17.71028431, 17.71037945, 17.71050647, 17.71065999, 17.71083633, 17.71102617, 17.71123189, 17.71143107, 17.71164069, 17.71186282, 17.71208852, 17.71228102, 17.71243145, 17.71256319, 17.71261847, 17.71270058, 17.7128153, 17.71282706, 17.71316401, 17.71328339, 17.71339862, 17.71350452, 17.71359632, 17.71370696, 17.71381093, 17.71393571, 17.71407333, 17.71418406, 17.71431869, 17.71443299, 17.71454925, 17.71467837, 17.71480892, 17.71489235, 17.71497093, 17.71506274, 17.71514406, 17.7152273, 17.7153056, 17.71539504, 17.7154833, 17.71556688, 17.71565078, 17.7157242, 17.71580619, 17.71588901, 17.71598521, 17.71608298, 17.7162126, 17.71628278, 17.71636299, 17.7164303, 17.71651279, 17.71658634, 17.71664063, 17.71673227, 17.71681376, 17.71687484, 17.71690109, 17.7169117, 17.71696304, 17.71698614, 17.71700888, 17.71689613, 17.71678784, 17.71666069, 17.71651205, 17.71629276, 17.71606772, 17.71584628, 17.71561271, 17.71536752, 17.71511837, 17.71485677, 17.71457918, 17.71429587, 17.71401223, 17.7137297, 17.7134438, 17.7131664, 17.71288241, 17.7126106, 17.71233859, 17.71205432, 17.71177703, 17.71150211, 17.71121762, 17.71095938, 17.71069426, 17.71040767, 17.71013084, 17.70984002, 17.70953434, 17.70924229, 17.70894246, 17.70867175, 17.70836973, 17.70808472, 17.70780735, 17.70753979, 17.70725556, 17.70695853, 17.70665667, 17.70636267, 17.70608657, 17.7057911, 17.70551181, 17.70524164, 17.70499667, 17.70471573, 17.70442866, 17.7041576, 17.70390839, 17.70364403, 17.70338421, 17.7031319, 17.70286969, 17.70260616, 17.7023383, 17.7020677, 17.70178729, 17.70150566, 17.70127698, 17.70098962, 17.70071722, 17.70046696, 17.70019748, 17.69992618, 17.69964233, 17.69938868, 17.69915754, 17.69892817, 17.69868884, 17.69844912, 17.69821746, 17.69799683, 17.69777599, 17.69755119, 17.69733045, 17.6970932, 17.69685114, 17.69661165, 17.69637572, 17.69615834, 17.69593746, 17.69572081, 17.69550748, 17.69528664, 17.69506101, 17.69483673, 17.69460005, 17.69438, 17.69416231, 17.69393235, 17.69371505, 17.69347053, 17.69323871, 17.69300705, 17.69276496, 17.69253101, 17.69228226, 17.69204862, 17.69182523, 17.6915638, 17.69132299, 17.69107614, 17.6908434, 17.69060439, 17.69036272, 17.69011465, 17.68986058, 17.68961163, 17.6893851, 17.68914813, 17.68890578, 17.68867228, 17.68845976, 17.68826399, 17.68807257, 17.68790766, 17.68779197, 17.6877166, 17.68767203, 17.68756075, 17.68757206, 17.68758385, 17.68759582, 17.68760832, 17.68762134, 17.68763894, 17.68765322, 17.68766753, 17.68767935, 17.68768443, 17.68767225, 17.68766018, 17.68765488, 17.68763118, 17.68761575, 17.68762721, 17.68762284, 17.68761495, 17.68760718, 17.68760191, 17.68759507, 17.68758971, 17.68758261, 17.68790312, 17.68798661, 17.68809834, 17.68820877, 17.68831051, 17.68842158, 17.68853493, 17.68861671, 17.68873481, 17.68886996, 17.688975, 17.68905446, 17.68919039, 17.68932188, 17.68944962, 17.68956453, 17.68968288, 17.68981453, 17.68994786, 17.69007805, 17.69021965, 17.69035038, 17.69048086, 17.69061202, 17.69074699, 17.69087815, 17.69101846, 17.69116731, 17.69132683, 17.69149116, 17.69166386, 17.69184866, 17.69202541, 17.69220306, 17.69238392, 17.69257657, 17.69277867, 17.69299447, 17.69322107, 17.69344858, 17.69369527, 17.6939286, 17.69415439, 17.69440826, 17.69466998, 17.69492807, 17.69519514, 17.69544289, 17.69571902, 17.69597482, 17.69624583, 17.69649785, 17.69675614, 17.69701351, 17.69728994, 17.69752641, 17.69777961, 17.69803585, 17.69826594, 17.69850868, 17.69875882, 17.69900145, 17.69925762, 17.69951968, 17.69979471, 17.70007451, 17.70035553, 17.70061994, 17.7008914, 17.70114699, 17.70143736, 17.70171527, 17.70196443, 17.70222426, 17.70248149, 17.70275316, 17.70306979, 17.70334765, 17.70362168, 17.70388315, 17.70416115, 17.70444867, 17.70471955, 17.70499042, 17.70527248, 17.70554967, 17.70584472, 17.70613126, 17.70640939, 17.70670249, 17.70696821, 17.70725578, 17.70753905, 17.70783833, 17.70813312, 17.7084287, 17.70871011, 17.70900148, 17.70927069, 17.7095703, 17.70986343, 17.71012504, 17.71040276, 17.71068658, 17.71097346, 17.71125226, 17.71152673, 17.71180526, 17.71208528, 17.71236289, 17.71264706, 17.71292642, 17.713189, 17.71346046, 17.71373464, 17.71402248, 17.71429643, 17.71455907, 17.71482141, 17.71508105, 17.71534433, 17.71555437, 17.71576659, 17.71597678, 17.71611001, 17.71620404, 17.71666575, 17.7165048, 17.71652819, 17.71652691, 17.71656405, 17.7164989, 17.71644231, 17.71639044, 17.71633149, 17.71628925, 17.71625981, 17.71625205, 17.71624006], \"marker\": {\"color\": [0, 0, 0, 0, 0, 0, 0, 0, 0, 0, 0, 0, 0, 0, 0, 0, 0, 0, 0, 0, 0, 0, 0, 0, 0, 0, 0, 0, 0, 0, 0, 1, 0, 0, 0, 0, 0, 0, 0, 0, 0, 0, 0, 0, 0, 0, 0, 0, 0, 0, 0, 0, 0, 0, 0, 0, 0, 0, 0, 0, 0, 0, 0, 0, 0, 0, 0, 0, 0, 0, 0, 0, 0, 0, 0, 0, 0, 0, 0, 0, 0, 0, 0, 0, 0, 0, 0, 0, 0, 0, 0, 0, 0, 0, 0, 0, 0, 0, 0, 0, 0, 0, 0, 0, 0, 0, 0, 0, 0, 0, 0, 0, 0, 0, 0, 0, 0, 0, 0, 0, 0, 0, 0, 0, 0, 0, 0, 0, 0, 0, 0, 0, 0, 0, 0, 0, 0, 0, 0, 0, 0, 0, 0, 0, 0, 0, 0, 0, 0, 0, 0, 0, 0, 0, 0, 0, 0, 0, 0, 0, 0, 0, 0, 0, 0, 0, 0, 0, 0, 0, 0, 0, 0, 0, 0, 0, 0, 0, 0, 0, 0, 0, 0, 0, 0, 0, 0, 0, 0, 0, 0, 0, 0, 0, 0, 0, 0, 0, 0, 0, 0, 0, 0, 0, 0, 0, 0, 0, 0, 1, 0, 0, 0, 0, 0, 0, 0, 0, 0, 0, 0, 0, 0, 0, 0, 0, 0, 0, 0, 0, 0, 0, 0, 0, 0, 0, 0, 0, 0, 0, 0, 0, 0, 0, 0, 0, 0, 0, 0, 0, 0, 0, 0, 0, 0, 0, 0, 0, 0, 0, 0, 0, 0, 0, 0, 0, 0, 0, 0, 0, 0, 0, 0, 0, 0, 0, 0, 1, 0, 0, 0, 0, 0, 0, 0, 0, 0, 0, 0, 0, 0, 0, 0, 0, 0, 0, 0, 0, 0, 0, 0, 0, 0, 0, 0, 0, 0, 0, 0, 0, 0, 0, 0, 0, 0, 0, 0, 0, 0, 0, 0, 0, 0, 0, 0, 0, 0, 0, 0, 0, 0, 0, 0, 0, 0, 0, 0, 0, 0, 0, 0, 0, 0, 0, 0, 0, 0, 0, 0, 0, 0, 0, 0, 0, 0, 0, 0, 0, 0, 0, 0, 0, 0, 0, 0, 1, 1, 0, 0, 0, 0, 0, 0, 0, 0, 0, 0, 0, 0, 0, 0, 0, 0, 0, 0, 0, 0, 0, 0, 0, 0, 0, 0, 0, 0, 0, 0, 0, 1, 0, 0, 0, 0, 0, 0, 0, 0, 0, 0, 0, 0, 0, 0, 0, 0, 0, 0, 0, 0, 0, 0, 0, 0, 0, 0, 0, 0, 0, 0, 0, 0, 0, 0, 0, 0, 0, 0, 0, 0, 0, 0, 0, 0, 0, 0, 0, 0, 0, 0, 0, 0, 0, 0, 0, 0, 0, 0, 0, 0, 0, 0, 0, 0, 0, 0, 1, 0, 0, 0, 0, 0, 0, 0, 0, 1, 0, 0, 0, 0, 0, 0, 0, 0, 0, 0, 0, 0, 0, 0, 0, 0, 0, 0, 0, 0, 0, 0, 0, 0, 0, 0, 0, 0, 0, 0, 0, 0, 0, 0, 0, 0, 0, 0, 0, 0, 0, 0, 0, 0, 0, 0, 0, 0, 0, 0, 0, 0, 0, 0, 0, 0, 0, 0, 0, 0, 0, 0, 0, 0, 0, 0, 0, 0, 0, 0, 0, 0, 0, 0, 0, 0, 0, 0, 0, 0, 0, 0, 0, 0, 0, 0], \"coloraxis\": \"coloraxis\"}, \"mode\": \"markers\", \"name\": \"\", \"showlegend\": false, \"subplot\": \"mapbox\", \"type\": \"scattermapbox\"}],\n",
       "                        {\"coloraxis\": {\"colorbar\": {\"title\": {\"text\": \"label\"}}, \"colorscale\": [[0.0, \"green\"], [1.0, \"red\"]], \"showscale\": false}, \"height\": 300, \"legend\": {\"tracegroupgap\": 0}, \"mapbox\": {\"center\": {\"lat\": 47.70625601174689, \"lon\": 17.708033217504457}, \"domain\": {\"x\": [0.0, 1.0], \"y\": [0.0, 1.0]}, \"style\": \"open-street-map\", \"zoom\": 12}, \"margin\": {\"b\": 0, \"l\": 0, \"r\": 0, \"t\": 0}, \"template\": {\"data\": {\"bar\": [{\"error_x\": {\"color\": \"#2a3f5f\"}, \"error_y\": {\"color\": \"#2a3f5f\"}, \"marker\": {\"line\": {\"color\": \"#E5ECF6\", \"width\": 0.5}}, \"type\": \"bar\"}], \"barpolar\": [{\"marker\": {\"line\": {\"color\": \"#E5ECF6\", \"width\": 0.5}}, \"type\": \"barpolar\"}], \"carpet\": [{\"aaxis\": {\"endlinecolor\": \"#2a3f5f\", \"gridcolor\": \"white\", \"linecolor\": \"white\", \"minorgridcolor\": \"white\", \"startlinecolor\": \"#2a3f5f\"}, \"baxis\": {\"endlinecolor\": \"#2a3f5f\", \"gridcolor\": \"white\", \"linecolor\": \"white\", \"minorgridcolor\": \"white\", \"startlinecolor\": \"#2a3f5f\"}, \"type\": \"carpet\"}], \"choropleth\": [{\"colorbar\": {\"outlinewidth\": 0, \"ticks\": \"\"}, \"type\": \"choropleth\"}], \"contour\": [{\"colorbar\": {\"outlinewidth\": 0, \"ticks\": \"\"}, \"colorscale\": [[0.0, \"#0d0887\"], [0.1111111111111111, \"#46039f\"], [0.2222222222222222, \"#7201a8\"], [0.3333333333333333, \"#9c179e\"], [0.4444444444444444, \"#bd3786\"], [0.5555555555555556, \"#d8576b\"], [0.6666666666666666, \"#ed7953\"], [0.7777777777777778, \"#fb9f3a\"], [0.8888888888888888, \"#fdca26\"], [1.0, \"#f0f921\"]], \"type\": \"contour\"}], \"contourcarpet\": [{\"colorbar\": {\"outlinewidth\": 0, \"ticks\": \"\"}, \"type\": \"contourcarpet\"}], \"heatmap\": [{\"colorbar\": {\"outlinewidth\": 0, \"ticks\": \"\"}, \"colorscale\": [[0.0, \"#0d0887\"], [0.1111111111111111, \"#46039f\"], [0.2222222222222222, \"#7201a8\"], [0.3333333333333333, \"#9c179e\"], [0.4444444444444444, \"#bd3786\"], [0.5555555555555556, \"#d8576b\"], [0.6666666666666666, \"#ed7953\"], [0.7777777777777778, \"#fb9f3a\"], [0.8888888888888888, \"#fdca26\"], [1.0, \"#f0f921\"]], \"type\": \"heatmap\"}], \"heatmapgl\": [{\"colorbar\": {\"outlinewidth\": 0, \"ticks\": \"\"}, \"colorscale\": [[0.0, \"#0d0887\"], [0.1111111111111111, \"#46039f\"], [0.2222222222222222, \"#7201a8\"], [0.3333333333333333, \"#9c179e\"], [0.4444444444444444, \"#bd3786\"], [0.5555555555555556, \"#d8576b\"], [0.6666666666666666, \"#ed7953\"], [0.7777777777777778, \"#fb9f3a\"], [0.8888888888888888, \"#fdca26\"], [1.0, \"#f0f921\"]], \"type\": \"heatmapgl\"}], \"histogram\": [{\"marker\": {\"colorbar\": {\"outlinewidth\": 0, \"ticks\": \"\"}}, \"type\": \"histogram\"}], \"histogram2d\": [{\"colorbar\": {\"outlinewidth\": 0, \"ticks\": \"\"}, \"colorscale\": [[0.0, \"#0d0887\"], [0.1111111111111111, \"#46039f\"], [0.2222222222222222, \"#7201a8\"], [0.3333333333333333, \"#9c179e\"], [0.4444444444444444, \"#bd3786\"], [0.5555555555555556, \"#d8576b\"], [0.6666666666666666, \"#ed7953\"], [0.7777777777777778, \"#fb9f3a\"], [0.8888888888888888, \"#fdca26\"], [1.0, \"#f0f921\"]], \"type\": \"histogram2d\"}], \"histogram2dcontour\": [{\"colorbar\": {\"outlinewidth\": 0, \"ticks\": \"\"}, \"colorscale\": [[0.0, \"#0d0887\"], [0.1111111111111111, \"#46039f\"], [0.2222222222222222, \"#7201a8\"], [0.3333333333333333, \"#9c179e\"], [0.4444444444444444, \"#bd3786\"], [0.5555555555555556, \"#d8576b\"], [0.6666666666666666, \"#ed7953\"], [0.7777777777777778, \"#fb9f3a\"], [0.8888888888888888, \"#fdca26\"], [1.0, \"#f0f921\"]], \"type\": \"histogram2dcontour\"}], \"mesh3d\": [{\"colorbar\": {\"outlinewidth\": 0, \"ticks\": \"\"}, \"type\": \"mesh3d\"}], \"parcoords\": [{\"line\": {\"colorbar\": {\"outlinewidth\": 0, \"ticks\": \"\"}}, \"type\": \"parcoords\"}], \"pie\": [{\"automargin\": true, \"type\": \"pie\"}], \"scatter\": [{\"marker\": {\"colorbar\": {\"outlinewidth\": 0, \"ticks\": \"\"}}, \"type\": \"scatter\"}], \"scatter3d\": [{\"line\": {\"colorbar\": {\"outlinewidth\": 0, \"ticks\": \"\"}}, \"marker\": {\"colorbar\": {\"outlinewidth\": 0, \"ticks\": \"\"}}, \"type\": \"scatter3d\"}], \"scattercarpet\": [{\"marker\": {\"colorbar\": {\"outlinewidth\": 0, \"ticks\": \"\"}}, \"type\": \"scattercarpet\"}], \"scattergeo\": [{\"marker\": {\"colorbar\": {\"outlinewidth\": 0, \"ticks\": \"\"}}, \"type\": \"scattergeo\"}], \"scattergl\": [{\"marker\": {\"colorbar\": {\"outlinewidth\": 0, \"ticks\": \"\"}}, \"type\": \"scattergl\"}], \"scattermapbox\": [{\"marker\": {\"colorbar\": {\"outlinewidth\": 0, \"ticks\": \"\"}}, \"type\": \"scattermapbox\"}], \"scatterpolar\": [{\"marker\": {\"colorbar\": {\"outlinewidth\": 0, \"ticks\": \"\"}}, \"type\": \"scatterpolar\"}], \"scatterpolargl\": [{\"marker\": {\"colorbar\": {\"outlinewidth\": 0, \"ticks\": \"\"}}, \"type\": \"scatterpolargl\"}], \"scatterternary\": [{\"marker\": {\"colorbar\": {\"outlinewidth\": 0, \"ticks\": \"\"}}, \"type\": \"scatterternary\"}], \"surface\": [{\"colorbar\": {\"outlinewidth\": 0, \"ticks\": \"\"}, \"colorscale\": [[0.0, \"#0d0887\"], [0.1111111111111111, \"#46039f\"], [0.2222222222222222, \"#7201a8\"], [0.3333333333333333, \"#9c179e\"], [0.4444444444444444, \"#bd3786\"], [0.5555555555555556, \"#d8576b\"], [0.6666666666666666, \"#ed7953\"], [0.7777777777777778, \"#fb9f3a\"], [0.8888888888888888, \"#fdca26\"], [1.0, \"#f0f921\"]], \"type\": \"surface\"}], \"table\": [{\"cells\": {\"fill\": {\"color\": \"#EBF0F8\"}, \"line\": {\"color\": \"white\"}}, \"header\": {\"fill\": {\"color\": \"#C8D4E3\"}, \"line\": {\"color\": \"white\"}}, \"type\": \"table\"}]}, \"layout\": {\"annotationdefaults\": {\"arrowcolor\": \"#2a3f5f\", \"arrowhead\": 0, \"arrowwidth\": 1}, \"coloraxis\": {\"colorbar\": {\"outlinewidth\": 0, \"ticks\": \"\"}}, \"colorscale\": {\"diverging\": [[0, \"#8e0152\"], [0.1, \"#c51b7d\"], [0.2, \"#de77ae\"], [0.3, \"#f1b6da\"], [0.4, \"#fde0ef\"], [0.5, \"#f7f7f7\"], [0.6, \"#e6f5d0\"], [0.7, \"#b8e186\"], [0.8, \"#7fbc41\"], [0.9, \"#4d9221\"], [1, \"#276419\"]], \"sequential\": [[0.0, \"#0d0887\"], [0.1111111111111111, \"#46039f\"], [0.2222222222222222, \"#7201a8\"], [0.3333333333333333, \"#9c179e\"], [0.4444444444444444, \"#bd3786\"], [0.5555555555555556, \"#d8576b\"], [0.6666666666666666, \"#ed7953\"], [0.7777777777777778, \"#fb9f3a\"], [0.8888888888888888, \"#fdca26\"], [1.0, \"#f0f921\"]], \"sequentialminus\": [[0.0, \"#0d0887\"], [0.1111111111111111, \"#46039f\"], [0.2222222222222222, \"#7201a8\"], [0.3333333333333333, \"#9c179e\"], [0.4444444444444444, \"#bd3786\"], [0.5555555555555556, \"#d8576b\"], [0.6666666666666666, \"#ed7953\"], [0.7777777777777778, \"#fb9f3a\"], [0.8888888888888888, \"#fdca26\"], [1.0, \"#f0f921\"]]}, \"colorway\": [\"#636efa\", \"#EF553B\", \"#00cc96\", \"#ab63fa\", \"#FFA15A\", \"#19d3f3\", \"#FF6692\", \"#B6E880\", \"#FF97FF\", \"#FECB52\"], \"font\": {\"color\": \"#2a3f5f\"}, \"geo\": {\"bgcolor\": \"white\", \"lakecolor\": \"white\", \"landcolor\": \"#E5ECF6\", \"showlakes\": true, \"showland\": true, \"subunitcolor\": \"white\"}, \"hoverlabel\": {\"align\": \"left\"}, \"hovermode\": \"closest\", \"mapbox\": {\"style\": \"light\"}, \"paper_bgcolor\": \"white\", \"plot_bgcolor\": \"#E5ECF6\", \"polar\": {\"angularaxis\": {\"gridcolor\": \"white\", \"linecolor\": \"white\", \"ticks\": \"\"}, \"bgcolor\": \"#E5ECF6\", \"radialaxis\": {\"gridcolor\": \"white\", \"linecolor\": \"white\", \"ticks\": \"\"}}, \"scene\": {\"xaxis\": {\"backgroundcolor\": \"#E5ECF6\", \"gridcolor\": \"white\", \"gridwidth\": 2, \"linecolor\": \"white\", \"showbackground\": true, \"ticks\": \"\", \"zerolinecolor\": \"white\"}, \"yaxis\": {\"backgroundcolor\": \"#E5ECF6\", \"gridcolor\": \"white\", \"gridwidth\": 2, \"linecolor\": \"white\", \"showbackground\": true, \"ticks\": \"\", \"zerolinecolor\": \"white\"}, \"zaxis\": {\"backgroundcolor\": \"#E5ECF6\", \"gridcolor\": \"white\", \"gridwidth\": 2, \"linecolor\": \"white\", \"showbackground\": true, \"ticks\": \"\", \"zerolinecolor\": \"white\"}}, \"shapedefaults\": {\"line\": {\"color\": \"#2a3f5f\"}}, \"ternary\": {\"aaxis\": {\"gridcolor\": \"white\", \"linecolor\": \"white\", \"ticks\": \"\"}, \"baxis\": {\"gridcolor\": \"white\", \"linecolor\": \"white\", \"ticks\": \"\"}, \"bgcolor\": \"#E5ECF6\", \"caxis\": {\"gridcolor\": \"white\", \"linecolor\": \"white\", \"ticks\": \"\"}}, \"title\": {\"x\": 0.05}, \"xaxis\": {\"automargin\": true, \"gridcolor\": \"white\", \"linecolor\": \"white\", \"ticks\": \"\", \"title\": {\"standoff\": 15}, \"zerolinecolor\": \"white\", \"zerolinewidth\": 2}, \"yaxis\": {\"automargin\": true, \"gridcolor\": \"white\", \"linecolor\": \"white\", \"ticks\": \"\", \"title\": {\"standoff\": 15}, \"zerolinecolor\": \"white\", \"zerolinewidth\": 2}}}},\n",
       "                        {\"responsive\": true}\n",
       "                    ).then(function(){\n",
       "                            \n",
       "var gd = document.getElementById('b40385d9-fae7-49df-ac20-ae08a03d48d0');\n",
       "var x = new MutationObserver(function (mutations, observer) {{\n",
       "        var display = window.getComputedStyle(gd).display;\n",
       "        if (!display || display === 'none') {{\n",
       "            console.log([gd, 'removed!']);\n",
       "            Plotly.purge(gd);\n",
       "            observer.disconnect();\n",
       "        }}\n",
       "}});\n",
       "\n",
       "// Listen for the removal of the full notebook cells\n",
       "var notebookContainer = gd.closest('#notebook-container');\n",
       "if (notebookContainer) {{\n",
       "    x.observe(notebookContainer, {childList: true});\n",
       "}}\n",
       "\n",
       "// Listen for the clearing of the current output cell\n",
       "var outputEl = gd.closest('.output');\n",
       "if (outputEl) {{\n",
       "    x.observe(outputEl, {childList: true});\n",
       "}}\n",
       "\n",
       "                        })\n",
       "                };\n",
       "                });\n",
       "            </script>\n",
       "        </div>"
      ]
     },
     "metadata": {},
     "output_type": "display_data"
    },
    {
     "data": {
      "application/vnd.plotly.v1+json": {
       "config": {
        "linkText": "Export to plot.ly",
        "plotlyServerURL": "https://plot.ly",
        "showLink": false
       },
       "data": [
        {
         "hovertemplate": "lat=%{lat}<br>lon=%{lon}<br>label=%{marker.color}<extra></extra>",
         "lat": [
          47.68669249,
          47.68674786,
          47.68684174,
          47.68691976,
          47.68699872,
          47.68707416,
          47.68714869,
          47.68724895,
          47.68732611,
          47.68743439,
          47.68750674,
          47.68760298,
          47.68768084,
          47.6877579,
          47.68783667,
          47.68791847,
          47.68799741,
          47.68807552,
          47.68815172,
          47.68822363,
          47.68828808,
          47.68834752,
          47.68842337,
          47.68846323,
          47.68851113,
          47.68854394,
          47.68858904,
          47.68861063,
          47.68861785,
          47.68862093,
          47.68861678,
          47.68861258,
          47.68860728,
          47.6886017,
          47.68859625,
          47.68859066,
          47.68858909,
          47.68866708,
          47.68866072,
          47.68865368,
          47.68864154,
          47.68863255,
          47.68862226,
          47.68861438,
          47.68860996,
          47.68856145,
          47.688572,
          47.68859363,
          47.6886571,
          47.68865603,
          47.68875327,
          47.68881676,
          47.68885575,
          47.68891833,
          47.68896764,
          47.68901893,
          47.68907274,
          47.68913313,
          47.68919118,
          47.6892523,
          47.68930588,
          47.68935983,
          47.68941491,
          47.68946652,
          47.68951837,
          47.68957213,
          47.68964105,
          47.68971333,
          47.68980623,
          47.68988989,
          47.68998187,
          47.6900851,
          47.69019353,
          47.69030929,
          47.69042277,
          47.69054421,
          47.69065756,
          47.69077443,
          47.69088799,
          47.69100131,
          47.69112169,
          47.69123319,
          47.69134573,
          47.69146373,
          47.69158181,
          47.69169641,
          47.69181124,
          47.6919261,
          47.6920453,
          47.69216042,
          47.69228082,
          47.69239171,
          47.69251146,
          47.69263215,
          47.69274545,
          47.69285681,
          47.69297056,
          47.69307225,
          47.69318743,
          47.69329509,
          47.69341324,
          47.69352318,
          47.69363453,
          47.69374507,
          47.69385878,
          47.69397298,
          47.69408412,
          47.69419406,
          47.6942942,
          47.69437233,
          47.69444128,
          47.69451425,
          47.69458433,
          47.69464523,
          47.69467909,
          47.69467687,
          47.69482791,
          47.69482762,
          47.69482912,
          47.69483088,
          47.69483267,
          47.69483441,
          47.69483513,
          47.69484356,
          47.69693439,
          47.69690635,
          47.69687086,
          47.69680462,
          47.69676897,
          47.69665226,
          47.69661327,
          47.69658859,
          47.69651402,
          47.69646287,
          47.69640994,
          47.69635993,
          47.69630826,
          47.69625567,
          47.69620382,
          47.69615177,
          47.69610026,
          47.69605639,
          47.69598565,
          47.69592151,
          47.69588292,
          47.69580954,
          47.69575601,
          47.69570389,
          47.69565305,
          47.69560407,
          47.69555669,
          47.69551107,
          47.69546538,
          47.69541976,
          47.6953742,
          47.69532623,
          47.69527752,
          47.69523101,
          47.69518321,
          47.69516213,
          47.69509583,
          47.69505213,
          47.69501327,
          47.69496333,
          47.69492147,
          47.69490783,
          47.69484,
          47.69479682,
          47.69475658,
          47.69471554,
          47.69467453,
          47.69463156,
          47.69459019,
          47.69454744,
          47.69450219,
          47.69445101,
          47.69440457,
          47.69435986,
          47.69431546,
          47.69426818,
          47.69421875,
          47.69417017,
          47.69412058,
          47.69406836,
          47.69402054,
          47.69397348,
          47.69392922,
          47.69388538,
          47.6938678,
          47.69381457,
          47.69379285,
          47.69372949,
          47.69367804,
          47.69362774,
          47.69357855,
          47.69352942,
          47.69348016,
          47.69343111,
          47.69338203,
          47.69333263,
          47.69328513,
          47.69324906,
          47.69319744,
          47.69314747,
          47.69309859,
          47.69304745,
          47.69299813,
          47.69294868,
          47.69291194,
          47.69284246,
          47.69278459,
          47.69272698,
          47.69267038,
          47.69261493,
          47.69256315,
          47.69251398,
          47.6924673,
          47.69242172,
          47.69236564,
          47.69230754,
          47.69225496,
          47.69220721,
          47.69216186,
          47.69211682,
          47.69207236,
          47.69202915,
          47.67795106,
          47.67797928,
          47.6780244,
          47.67813946,
          47.67824813,
          47.6783591,
          47.67846621,
          47.6785894,
          47.67869967,
          47.67882672,
          47.67896104,
          47.67909293,
          47.67918465,
          47.67934607,
          47.6794602,
          47.67958013,
          47.67968679,
          47.67977934,
          47.67985253,
          47.67992624,
          47.6800045,
          47.68008622,
          47.68013263,
          47.68020223,
          47.6803146,
          47.6804338,
          47.68054102,
          47.68066203,
          47.68078865,
          47.68092484,
          47.68106162,
          47.68119885,
          47.68134238,
          47.68148954,
          47.68163525,
          47.68176847,
          47.68193386,
          47.68207252,
          47.68222391,
          47.68237213,
          47.68251632,
          47.68265841,
          47.68279947,
          47.6829367,
          47.6830805,
          47.68322065,
          47.68335336,
          47.6861042,
          47.68616646,
          47.68624238,
          47.68636322,
          47.6864497,
          47.68657145,
          47.68666828,
          47.68675452,
          47.6868557,
          47.68696231,
          47.68707105,
          47.68718314,
          47.68725383,
          47.68740555,
          47.68750567,
          47.68762807,
          47.68774315,
          47.68784897,
          47.68795261,
          47.68805902,
          47.68816239,
          47.68822588,
          47.68834904,
          47.6884385,
          47.68848122,
          47.68854157,
          47.68859439,
          47.68861575,
          47.68862175,
          47.68861333,
          47.68860467,
          47.68859472,
          47.68871466,
          47.68870581,
          47.68869203,
          47.6886747,
          47.68864904,
          47.68863295,
          47.68861444,
          47.68856717,
          47.68859329,
          47.68865658,
          47.68870193,
          47.68872041,
          47.68879737,
          47.68884423,
          47.68887747,
          47.68893033,
          47.6889828,
          47.68903718,
          47.68909332,
          47.68915751,
          47.6892173,
          47.68927943,
          47.68933098,
          47.68938296,
          47.68943803,
          47.6894884,
          47.68957191,
          47.68963456,
          47.6897447,
          47.68984515,
          47.68996262,
          47.69008867,
          47.69020736,
          47.69032597,
          47.69047153,
          47.69060459,
          47.6907482,
          47.69088278,
          47.69101906,
          47.69115969,
          47.69130561,
          47.6914493,
          47.69160023,
          47.69174752,
          47.69188977,
          47.69202814,
          47.69217066,
          47.69231807,
          47.69246108,
          47.69259926,
          47.69273845,
          47.6928694,
          47.69300528,
          47.69313869,
          47.69326917,
          47.69340081,
          47.69353457,
          47.69366441,
          47.69379821,
          47.69393571,
          47.69406736,
          47.69419213,
          47.69429583,
          47.69437541,
          47.69445602,
          47.69452608,
          47.69459622,
          47.69465883,
          47.69467862,
          47.69468567,
          47.69659308,
          47.69671254,
          47.696899,
          47.69703703,
          47.69714927,
          47.69727342,
          47.69738117,
          47.69745145,
          47.69756727,
          47.6976862,
          47.69781215,
          47.6979346,
          47.69806009,
          47.69818326,
          47.69830831,
          47.6984282,
          47.69854777,
          47.69867112,
          47.69878962,
          47.69890654,
          47.69903056,
          47.69914832,
          47.6992669,
          47.700848705,
          47.70110999,
          47.70036617,
          47.70025385,
          47.70008727,
          47.69990928,
          47.69978203,
          47.69957002,
          47.69946579,
          47.69934974,
          47.69923909,
          47.69913119,
          47.69483346,
          47.69477709,
          47.69468453,
          47.69457263,
          47.6944657,
          47.69431807,
          47.6942709,
          47.69415392,
          47.69404433,
          47.69394126,
          47.69380351,
          47.69366878,
          47.69355744,
          47.69343808,
          47.693315,
          47.69319943,
          47.69308132,
          47.69296061,
          47.69283903,
          47.69271659,
          47.69259354,
          47.69246915,
          47.69234292,
          47.69221405,
          47.69208324,
          47.69193943,
          47.69180244,
          47.691663,
          47.69152236,
          47.69136985,
          47.69123002,
          47.69109412,
          47.69095931,
          47.6908203,
          47.69068574,
          47.69055043,
          47.69041824,
          47.69028516,
          47.69014881,
          47.69002796,
          47.68990612,
          47.68979881,
          47.6897035,
          47.68962713,
          47.68957047,
          47.68951276,
          47.68946517,
          47.68942992,
          47.68939316,
          47.68935781,
          47.68932012,
          47.68927776,
          47.68923607,
          47.68919278,
          47.68915052,
          47.68911328,
          47.68907716,
          47.68904253,
          47.68901682,
          47.68897421,
          47.68894653,
          47.68885969,
          47.68884695,
          47.68878669,
          47.68873634,
          47.68869968,
          47.68866532,
          47.68860327,
          47.68857149,
          47.68856203,
          47.68852563,
          47.68852433,
          47.6885336,
          47.68854471,
          47.68855275,
          47.68855921,
          47.68856639,
          47.68857109,
          47.68857559,
          47.68857286,
          47.68859411,
          47.68859939,
          47.68860449,
          47.68860978,
          47.68861483,
          47.68862055,
          47.68862045,
          47.68861763,
          47.68826368,
          47.68822961,
          47.68809068,
          47.68798752,
          47.68788165,
          47.68778945,
          47.68770792,
          47.68762426,
          47.68753977,
          47.68751002,
          47.6873715,
          47.68728821,
          47.68720341,
          47.68711947,
          47.68704219,
          47.68696435,
          47.68688841,
          47.68681729,
          47.68675261,
          47.68669201,
          47.68663249,
          47.68657439,
          47.68652056,
          47.68646794,
          47.68616199,
          47.68606621,
          47.68595873,
          47.68584629,
          47.68572979,
          47.68567136,
          47.68552305,
          47.68541952,
          47.68530766,
          47.68519042,
          47.68507849,
          47.68497834,
          47.6848804,
          47.68478293,
          47.68465886,
          47.68460376,
          47.68457826,
          47.68456991
         ],
         "legendgroup": "",
         "lon": [
          17.68008043,
          17.68008971,
          17.68012696,
          17.68016103,
          17.68017257,
          17.68016542,
          17.68017096,
          17.68019619,
          17.6801713,
          17.68009449,
          17.68009877,
          17.6801042,
          17.68010823,
          17.68011222,
          17.6801163,
          17.68012054,
          17.68012463,
          17.68012867,
          17.68013262,
          17.68013635,
          17.68013853,
          17.68014049,
          17.68014024,
          17.68013169,
          17.6800982,
          17.68005777,
          17.67997013,
          17.67988423,
          17.67982358,
          17.67973916,
          17.67960633,
          17.6795109,
          17.67939038,
          17.6792635,
          17.67913934,
          17.67901228,
          17.67897659,
          17.67873741,
          17.6785969,
          17.67845418,
          17.6783106,
          17.67816688,
          17.67802587,
          17.6778907,
          17.67776081,
          17.6776365,
          17.67749723,
          17.67743594,
          17.67729328,
          17.67729551,
          17.67710635,
          17.67703467,
          17.67699101,
          17.67687527,
          17.67676812,
          17.67665548,
          17.676524,
          17.67638423,
          17.67624989,
          17.67610844,
          17.67598444,
          17.6758596,
          17.67572949,
          17.67560714,
          17.6754842,
          17.67535882,
          17.67524554,
          17.67514056,
          17.67505128,
          17.67498334,
          17.67491388,
          17.67484951,
          17.67479354,
          17.6747469,
          17.67472228,
          17.674701,
          17.67468348,
          17.67466844,
          17.67465381,
          17.67463923,
          17.67462373,
          17.67460937,
          17.67459488,
          17.67457969,
          17.67456448,
          17.67454973,
          17.67453495,
          17.67452016,
          17.67450481,
          17.67448999,
          17.67447449,
          17.67446021,
          17.67444479,
          17.67442925,
          17.67441467,
          17.67440033,
          17.67438568,
          17.67437263,
          17.67435895,
          17.67434617,
          17.67433214,
          17.67431908,
          17.6743051,
          17.67429093,
          17.67427635,
          17.67426394,
          17.67425362,
          17.67424079,
          17.67422468,
          17.67418851,
          17.67415087,
          17.6741104,
          17.6740705,
          17.67403481,
          17.67401497,
          17.67401966,
          17.67413791,
          17.67421842,
          17.67432832,
          17.67445732,
          17.67458895,
          17.67471615,
          17.67489821,
          17.6750535,
          17.64285222,
          17.64278001,
          17.64269184,
          17.64255008,
          17.64234372,
          17.64232173,
          17.64221831,
          17.64215282,
          17.64200725,
          17.64190833,
          17.64180597,
          17.64170925,
          17.64160932,
          17.64150762,
          17.64140733,
          17.64130668,
          17.64120707,
          17.64113328,
          17.64103056,
          17.64093162,
          17.64086907,
          17.64072705,
          17.64062293,
          17.64051785,
          17.64041422,
          17.64031166,
          17.64020831,
          17.64010454,
          17.63999829,
          17.63989152,
          17.63978486,
          17.63967355,
          17.63956318,
          17.6394578,
          17.63932972,
          17.63927319,
          17.63911134,
          17.63900481,
          17.63891009,
          17.63877568,
          17.63865792,
          17.63861957,
          17.63843402,
          17.63831593,
          17.63820593,
          17.63809372,
          17.6379836,
          17.63787115,
          17.63776288,
          17.63765534,
          17.6375457,
          17.6374305,
          17.63732686,
          17.63722885,
          17.63713148,
          17.63702782,
          17.63691945,
          17.63681521,
          17.63670902,
          17.63659716,
          17.63649476,
          17.63639396,
          17.63629918,
          17.63620529,
          17.63616763,
          17.63598285,
          17.63590732,
          17.63576791,
          17.63565692,
          17.63554841,
          17.63544229,
          17.63533631,
          17.63523004,
          17.63512424,
          17.63501836,
          17.6349118,
          17.63480933,
          17.63473152,
          17.63463036,
          17.63453312,
          17.63443803,
          17.63433855,
          17.63424259,
          17.63414637,
          17.6340749,
          17.63395256,
          17.63385198,
          17.63375186,
          17.63365349,
          17.63355712,
          17.63346713,
          17.63338168,
          17.63330055,
          17.6332223,
          17.63313822,
          17.63304806,
          17.63295694,
          17.63286551,
          17.63277707,
          17.63268925,
          17.63260253,
          17.63251398,
          17.69308722,
          17.69297421,
          17.69288736,
          17.6928528,
          17.69282503,
          17.69281563,
          17.69281779,
          17.69280564,
          17.69283117,
          17.69282217,
          17.69281266,
          17.69277453,
          17.69276398,
          17.69274981,
          17.69274952,
          17.69274678,
          17.69274514,
          17.69274416,
          17.69274614,
          17.69275278,
          17.69280415,
          17.69285343,
          17.69286935,
          17.69284569,
          17.69276469,
          17.69272698,
          17.69272557,
          17.69274063,
          17.69273865,
          17.69274193,
          17.692747,
          17.69275071,
          17.69275239,
          17.69274514,
          17.69274204,
          17.69274267,
          17.69272038,
          17.69273403,
          17.69273395,
          17.69273214,
          17.69273224,
          17.69272653,
          17.69272063,
          17.6927246,
          17.6927267,
          17.69272596,
          17.69272519,
          17.68012203,
          17.68007772,
          17.68004898,
          17.68004632,
          17.68006287,
          17.68004899,
          17.68004266,
          17.68004943,
          17.68005737,
          17.68006573,
          17.68007332,
          17.68007975,
          17.68008381,
          17.68009278,
          17.68009871,
          17.6801055,
          17.68011146,
          17.68011694,
          17.68012231,
          17.68012782,
          17.68013317,
          17.68013646,
          17.68014052,
          17.68013931,
          17.68012306,
          17.68006145,
          17.67995274,
          17.67984433,
          17.67969797,
          17.67952791,
          17.67933104,
          17.67910473,
          17.67888778,
          17.67867959,
          17.67846996,
          17.67826016,
          17.67805562,
          17.67786875,
          17.67769929,
          17.67751993,
          17.67743683,
          17.67729436,
          17.67718145,
          17.67714684,
          17.67705642,
          17.67700385,
          17.67695925,
          17.67684914,
          17.67673528,
          17.67661046,
          17.67647638,
          17.67632782,
          17.67618946,
          17.67604565,
          17.67592636,
          17.67580524,
          17.67567468,
          17.67555526,
          17.67535925,
          17.6752555,
          17.67510502,
          17.67501835,
          17.67492652,
          17.67484759,
          17.67478683,
          17.67474211,
          17.67471234,
          17.67469158,
          17.67467181,
          17.67465449,
          17.67463694,
          17.67461883,
          17.67460005,
          17.67458155,
          17.67456211,
          17.67454315,
          17.67452484,
          17.67450702,
          17.67448867,
          17.67446969,
          17.67445128,
          17.67443349,
          17.67441557,
          17.67439871,
          17.67438121,
          17.67436474,
          17.67434924,
          17.67433361,
          17.67431773,
          17.67430127,
          17.67428412,
          17.6742674,
          17.67425517,
          17.6742411,
          17.67422442,
          17.67418684,
          17.67414269,
          17.67410384,
          17.67406353,
          17.67402684,
          17.67401525,
          17.67402866,
          17.67934373,
          17.67943757,
          17.67938975,
          17.67934849,
          17.67933647,
          17.67929399,
          17.67930257,
          17.67928986,
          17.67926729,
          17.67923838,
          17.67922615,
          17.67921335,
          17.67919896,
          17.67915283,
          17.67913666,
          17.67912115,
          17.67910569,
          17.67908973,
          17.67907441,
          17.67905968,
          17.67904406,
          17.67902922,
          17.67901429,
          17.677257085,
          17.67725441,
          17.6788255,
          17.67880681,
          17.67876957,
          17.678719,
          17.67874199,
          17.67886961,
          17.67888275,
          17.67889544,
          17.67891174,
          17.67903138,
          17.67391821,
          17.67388831,
          17.6739393,
          17.67400416,
          17.67408785,
          17.67417479,
          17.67417229,
          17.67424714,
          17.67425731,
          17.67426688,
          17.67428344,
          17.67430071,
          17.67431498,
          17.67432919,
          17.6743438,
          17.67435753,
          17.67437155,
          17.67438696,
          17.67440262,
          17.67441838,
          17.67443422,
          17.67445024,
          17.67446649,
          17.67448308,
          17.67449993,
          17.67451844,
          17.67453608,
          17.67455403,
          17.67457214,
          17.67459177,
          17.67460978,
          17.67462728,
          17.67464463,
          17.67466253,
          17.67467985,
          17.67470003,
          17.6747232,
          17.6747549,
          17.67481523,
          17.67488359,
          17.67497065,
          17.67505759,
          17.67515422,
          17.67526689,
          17.67536207,
          17.6754975,
          17.67561034,
          17.67569391,
          17.67578107,
          17.67586426,
          17.67595149,
          17.67604953,
          17.67614602,
          17.6762462,
          17.67634399,
          17.67643018,
          17.67651376,
          17.67659727,
          17.67666069,
          17.6767539,
          17.67681387,
          17.67698662,
          17.67700082,
          17.6770684,
          17.67712721,
          17.67718568,
          17.67727255,
          17.67740772,
          17.67749962,
          17.67762418,
          17.67775749,
          17.67789959,
          17.678043,
          17.67818606,
          17.67832719,
          17.6784627,
          17.67859178,
          17.67871931,
          17.67884556,
          17.67896971,
          17.67909066,
          17.67921091,
          17.67932676,
          17.67944716,
          17.67956195,
          17.67966452,
          17.67976347,
          17.67982796,
          17.68013772,
          17.6801366,
          17.68012946,
          17.68012412,
          17.68011863,
          17.68011386,
          17.68010963,
          17.6801053,
          17.68010069,
          17.68009896,
          17.68009076,
          17.68008583,
          17.68008092,
          17.6800761,
          17.68007167,
          17.68006589,
          17.68005993,
          17.68005435,
          17.68004928,
          17.68004452,
          17.68003985,
          17.68003529,
          17.68003107,
          17.68002694,
          17.68000221,
          17.67999408,
          17.67998646,
          17.67997959,
          17.67997247,
          17.6799689,
          17.67995821,
          17.67995074,
          17.67994266,
          17.6799342,
          17.67992613,
          17.6799189,
          17.67990711,
          17.67988227,
          17.67980302,
          17.67969264,
          17.67954235,
          17.67939194
         ],
         "marker": {
          "color": [
           1,
           1,
           1,
           1,
           1,
           1,
           1,
           1,
           1,
           1,
           1,
           1,
           1,
           1,
           1,
           1,
           1,
           1,
           1,
           1,
           1,
           1,
           1,
           1,
           1,
           1,
           1,
           1,
           1,
           1,
           1,
           1,
           1,
           1,
           1,
           1,
           1,
           1,
           1,
           1,
           1,
           1,
           1,
           1,
           1,
           1,
           1,
           1,
           1,
           1,
           1,
           1,
           1,
           1,
           1,
           1,
           1,
           1,
           1,
           1,
           1,
           1,
           1,
           1,
           1,
           1,
           1,
           1,
           1,
           1,
           1,
           1,
           1,
           1,
           1,
           1,
           1,
           1,
           1,
           1,
           1,
           1,
           1,
           1,
           1,
           1,
           1,
           1,
           1,
           1,
           1,
           1,
           1,
           1,
           1,
           1,
           1,
           1,
           1,
           1,
           1,
           1,
           1,
           1,
           1,
           1,
           1,
           1,
           1,
           1,
           1,
           1,
           1,
           1,
           0,
           1,
           1,
           0,
           1,
           1,
           1,
           1,
           1,
           1,
           1,
           1,
           1,
           1,
           1,
           1,
           1,
           1,
           1,
           1,
           1,
           1,
           1,
           1,
           1,
           1,
           1,
           1,
           1,
           1,
           1,
           1,
           1,
           1,
           1,
           1,
           1,
           1,
           1,
           1,
           1,
           1,
           1,
           1,
           1,
           1,
           1,
           1,
           1,
           1,
           1,
           1,
           1,
           1,
           1,
           1,
           1,
           1,
           1,
           1,
           1,
           1,
           1,
           1,
           1,
           1,
           1,
           1,
           1,
           1,
           1,
           1,
           1,
           1,
           1,
           1,
           1,
           1,
           1,
           1,
           1,
           1,
           1,
           1,
           1,
           1,
           1,
           1,
           1,
           1,
           1,
           1,
           1,
           1,
           1,
           1,
           1,
           1,
           1,
           1,
           1,
           1,
           1,
           1,
           1,
           1,
           1,
           1,
           1,
           1,
           1,
           1,
           1,
           1,
           1,
           1,
           1,
           1,
           1,
           1,
           1,
           1,
           1,
           1,
           1,
           1,
           1,
           1,
           1,
           1,
           1,
           1,
           1,
           1,
           1,
           1,
           1,
           1,
           1,
           1,
           1,
           1,
           1,
           1,
           1,
           1,
           1,
           1,
           1,
           1,
           1,
           1,
           1,
           1,
           1,
           1,
           1,
           1,
           1,
           1,
           1,
           1,
           1,
           1,
           1,
           1,
           1,
           1,
           1,
           1,
           1,
           1,
           1,
           1,
           1,
           1,
           1,
           1,
           1,
           1,
           1,
           1,
           1,
           1,
           1,
           1,
           1,
           1,
           1,
           1,
           1,
           1,
           1,
           1,
           1,
           1,
           1,
           1,
           1,
           1,
           1,
           1,
           1,
           1,
           1,
           1,
           1,
           1,
           1,
           1,
           1,
           1,
           1,
           1,
           1,
           1,
           1,
           1,
           1,
           1,
           1,
           1,
           1,
           1,
           1,
           1,
           1,
           1,
           1,
           1,
           1,
           1,
           1,
           1,
           1,
           1,
           1,
           1,
           1,
           1,
           0,
           1,
           1,
           1,
           1,
           1,
           1,
           1,
           1,
           1,
           1,
           1,
           1,
           1,
           1,
           1,
           1,
           1,
           1,
           0,
           0,
           1,
           1,
           1,
           1,
           1,
           1,
           1,
           1,
           1,
           1,
           1,
           1,
           1,
           1,
           1,
           1,
           1,
           1,
           1,
           1,
           1,
           1,
           1,
           1,
           1,
           1,
           1,
           1,
           1,
           1,
           1,
           1,
           1,
           1,
           1,
           1,
           0,
           0,
           1,
           0,
           1,
           1,
           1,
           1,
           1,
           1,
           1,
           1,
           1,
           1,
           1,
           1,
           1,
           1,
           1,
           1,
           1,
           1,
           1,
           1,
           1,
           1,
           1,
           1,
           1,
           1,
           1,
           1,
           1,
           1,
           1,
           1,
           1,
           1,
           1,
           1,
           1,
           1,
           1,
           1,
           1,
           1,
           1,
           1,
           1,
           1,
           1,
           1,
           1,
           1,
           1,
           1,
           1,
           1,
           1,
           1,
           1,
           1,
           1,
           1,
           1,
           1,
           1,
           1,
           1,
           1,
           1,
           1,
           1,
           1,
           1,
           1,
           1,
           1,
           1,
           1,
           1,
           1,
           1,
           1,
           1,
           1,
           1,
           1,
           1,
           1,
           1,
           1,
           1,
           1,
           1,
           1,
           1,
           1,
           1,
           1,
           1,
           1,
           1,
           1,
           1,
           1,
           1,
           1,
           1,
           1,
           1,
           1,
           1,
           1,
           1,
           1,
           1,
           1,
           1,
           1,
           1,
           1,
           1,
           1,
           1,
           1,
           1,
           1,
           1
          ],
          "coloraxis": "coloraxis"
         },
         "mode": "markers",
         "name": "",
         "showlegend": false,
         "subplot": "mapbox",
         "type": "scattermapbox"
        }
       ],
       "layout": {
        "coloraxis": {
         "colorbar": {
          "title": {
           "text": "label"
          }
         },
         "colorscale": [
          [
           0,
           "green"
          ],
          [
           1,
           "red"
          ]
         ],
         "showscale": false
        },
        "height": 300,
        "legend": {
         "tracegroupgap": 0
        },
        "mapbox": {
         "center": {
          "lat": 47.69046594587963,
          "lon": 17.671032746842588
         },
         "domain": {
          "x": [
           0,
           1
          ],
          "y": [
           0,
           1
          ]
         },
         "style": "open-street-map",
         "zoom": 12
        },
        "margin": {
         "b": 0,
         "l": 0,
         "r": 0,
         "t": 0
        },
        "template": {
         "data": {
          "bar": [
           {
            "error_x": {
             "color": "#2a3f5f"
            },
            "error_y": {
             "color": "#2a3f5f"
            },
            "marker": {
             "line": {
              "color": "#E5ECF6",
              "width": 0.5
             }
            },
            "type": "bar"
           }
          ],
          "barpolar": [
           {
            "marker": {
             "line": {
              "color": "#E5ECF6",
              "width": 0.5
             }
            },
            "type": "barpolar"
           }
          ],
          "carpet": [
           {
            "aaxis": {
             "endlinecolor": "#2a3f5f",
             "gridcolor": "white",
             "linecolor": "white",
             "minorgridcolor": "white",
             "startlinecolor": "#2a3f5f"
            },
            "baxis": {
             "endlinecolor": "#2a3f5f",
             "gridcolor": "white",
             "linecolor": "white",
             "minorgridcolor": "white",
             "startlinecolor": "#2a3f5f"
            },
            "type": "carpet"
           }
          ],
          "choropleth": [
           {
            "colorbar": {
             "outlinewidth": 0,
             "ticks": ""
            },
            "type": "choropleth"
           }
          ],
          "contour": [
           {
            "colorbar": {
             "outlinewidth": 0,
             "ticks": ""
            },
            "colorscale": [
             [
              0,
              "#0d0887"
             ],
             [
              0.1111111111111111,
              "#46039f"
             ],
             [
              0.2222222222222222,
              "#7201a8"
             ],
             [
              0.3333333333333333,
              "#9c179e"
             ],
             [
              0.4444444444444444,
              "#bd3786"
             ],
             [
              0.5555555555555556,
              "#d8576b"
             ],
             [
              0.6666666666666666,
              "#ed7953"
             ],
             [
              0.7777777777777778,
              "#fb9f3a"
             ],
             [
              0.8888888888888888,
              "#fdca26"
             ],
             [
              1,
              "#f0f921"
             ]
            ],
            "type": "contour"
           }
          ],
          "contourcarpet": [
           {
            "colorbar": {
             "outlinewidth": 0,
             "ticks": ""
            },
            "type": "contourcarpet"
           }
          ],
          "heatmap": [
           {
            "colorbar": {
             "outlinewidth": 0,
             "ticks": ""
            },
            "colorscale": [
             [
              0,
              "#0d0887"
             ],
             [
              0.1111111111111111,
              "#46039f"
             ],
             [
              0.2222222222222222,
              "#7201a8"
             ],
             [
              0.3333333333333333,
              "#9c179e"
             ],
             [
              0.4444444444444444,
              "#bd3786"
             ],
             [
              0.5555555555555556,
              "#d8576b"
             ],
             [
              0.6666666666666666,
              "#ed7953"
             ],
             [
              0.7777777777777778,
              "#fb9f3a"
             ],
             [
              0.8888888888888888,
              "#fdca26"
             ],
             [
              1,
              "#f0f921"
             ]
            ],
            "type": "heatmap"
           }
          ],
          "heatmapgl": [
           {
            "colorbar": {
             "outlinewidth": 0,
             "ticks": ""
            },
            "colorscale": [
             [
              0,
              "#0d0887"
             ],
             [
              0.1111111111111111,
              "#46039f"
             ],
             [
              0.2222222222222222,
              "#7201a8"
             ],
             [
              0.3333333333333333,
              "#9c179e"
             ],
             [
              0.4444444444444444,
              "#bd3786"
             ],
             [
              0.5555555555555556,
              "#d8576b"
             ],
             [
              0.6666666666666666,
              "#ed7953"
             ],
             [
              0.7777777777777778,
              "#fb9f3a"
             ],
             [
              0.8888888888888888,
              "#fdca26"
             ],
             [
              1,
              "#f0f921"
             ]
            ],
            "type": "heatmapgl"
           }
          ],
          "histogram": [
           {
            "marker": {
             "colorbar": {
              "outlinewidth": 0,
              "ticks": ""
             }
            },
            "type": "histogram"
           }
          ],
          "histogram2d": [
           {
            "colorbar": {
             "outlinewidth": 0,
             "ticks": ""
            },
            "colorscale": [
             [
              0,
              "#0d0887"
             ],
             [
              0.1111111111111111,
              "#46039f"
             ],
             [
              0.2222222222222222,
              "#7201a8"
             ],
             [
              0.3333333333333333,
              "#9c179e"
             ],
             [
              0.4444444444444444,
              "#bd3786"
             ],
             [
              0.5555555555555556,
              "#d8576b"
             ],
             [
              0.6666666666666666,
              "#ed7953"
             ],
             [
              0.7777777777777778,
              "#fb9f3a"
             ],
             [
              0.8888888888888888,
              "#fdca26"
             ],
             [
              1,
              "#f0f921"
             ]
            ],
            "type": "histogram2d"
           }
          ],
          "histogram2dcontour": [
           {
            "colorbar": {
             "outlinewidth": 0,
             "ticks": ""
            },
            "colorscale": [
             [
              0,
              "#0d0887"
             ],
             [
              0.1111111111111111,
              "#46039f"
             ],
             [
              0.2222222222222222,
              "#7201a8"
             ],
             [
              0.3333333333333333,
              "#9c179e"
             ],
             [
              0.4444444444444444,
              "#bd3786"
             ],
             [
              0.5555555555555556,
              "#d8576b"
             ],
             [
              0.6666666666666666,
              "#ed7953"
             ],
             [
              0.7777777777777778,
              "#fb9f3a"
             ],
             [
              0.8888888888888888,
              "#fdca26"
             ],
             [
              1,
              "#f0f921"
             ]
            ],
            "type": "histogram2dcontour"
           }
          ],
          "mesh3d": [
           {
            "colorbar": {
             "outlinewidth": 0,
             "ticks": ""
            },
            "type": "mesh3d"
           }
          ],
          "parcoords": [
           {
            "line": {
             "colorbar": {
              "outlinewidth": 0,
              "ticks": ""
             }
            },
            "type": "parcoords"
           }
          ],
          "pie": [
           {
            "automargin": true,
            "type": "pie"
           }
          ],
          "scatter": [
           {
            "marker": {
             "colorbar": {
              "outlinewidth": 0,
              "ticks": ""
             }
            },
            "type": "scatter"
           }
          ],
          "scatter3d": [
           {
            "line": {
             "colorbar": {
              "outlinewidth": 0,
              "ticks": ""
             }
            },
            "marker": {
             "colorbar": {
              "outlinewidth": 0,
              "ticks": ""
             }
            },
            "type": "scatter3d"
           }
          ],
          "scattercarpet": [
           {
            "marker": {
             "colorbar": {
              "outlinewidth": 0,
              "ticks": ""
             }
            },
            "type": "scattercarpet"
           }
          ],
          "scattergeo": [
           {
            "marker": {
             "colorbar": {
              "outlinewidth": 0,
              "ticks": ""
             }
            },
            "type": "scattergeo"
           }
          ],
          "scattergl": [
           {
            "marker": {
             "colorbar": {
              "outlinewidth": 0,
              "ticks": ""
             }
            },
            "type": "scattergl"
           }
          ],
          "scattermapbox": [
           {
            "marker": {
             "colorbar": {
              "outlinewidth": 0,
              "ticks": ""
             }
            },
            "type": "scattermapbox"
           }
          ],
          "scatterpolar": [
           {
            "marker": {
             "colorbar": {
              "outlinewidth": 0,
              "ticks": ""
             }
            },
            "type": "scatterpolar"
           }
          ],
          "scatterpolargl": [
           {
            "marker": {
             "colorbar": {
              "outlinewidth": 0,
              "ticks": ""
             }
            },
            "type": "scatterpolargl"
           }
          ],
          "scatterternary": [
           {
            "marker": {
             "colorbar": {
              "outlinewidth": 0,
              "ticks": ""
             }
            },
            "type": "scatterternary"
           }
          ],
          "surface": [
           {
            "colorbar": {
             "outlinewidth": 0,
             "ticks": ""
            },
            "colorscale": [
             [
              0,
              "#0d0887"
             ],
             [
              0.1111111111111111,
              "#46039f"
             ],
             [
              0.2222222222222222,
              "#7201a8"
             ],
             [
              0.3333333333333333,
              "#9c179e"
             ],
             [
              0.4444444444444444,
              "#bd3786"
             ],
             [
              0.5555555555555556,
              "#d8576b"
             ],
             [
              0.6666666666666666,
              "#ed7953"
             ],
             [
              0.7777777777777778,
              "#fb9f3a"
             ],
             [
              0.8888888888888888,
              "#fdca26"
             ],
             [
              1,
              "#f0f921"
             ]
            ],
            "type": "surface"
           }
          ],
          "table": [
           {
            "cells": {
             "fill": {
              "color": "#EBF0F8"
             },
             "line": {
              "color": "white"
             }
            },
            "header": {
             "fill": {
              "color": "#C8D4E3"
             },
             "line": {
              "color": "white"
             }
            },
            "type": "table"
           }
          ]
         },
         "layout": {
          "annotationdefaults": {
           "arrowcolor": "#2a3f5f",
           "arrowhead": 0,
           "arrowwidth": 1
          },
          "coloraxis": {
           "colorbar": {
            "outlinewidth": 0,
            "ticks": ""
           }
          },
          "colorscale": {
           "diverging": [
            [
             0,
             "#8e0152"
            ],
            [
             0.1,
             "#c51b7d"
            ],
            [
             0.2,
             "#de77ae"
            ],
            [
             0.3,
             "#f1b6da"
            ],
            [
             0.4,
             "#fde0ef"
            ],
            [
             0.5,
             "#f7f7f7"
            ],
            [
             0.6,
             "#e6f5d0"
            ],
            [
             0.7,
             "#b8e186"
            ],
            [
             0.8,
             "#7fbc41"
            ],
            [
             0.9,
             "#4d9221"
            ],
            [
             1,
             "#276419"
            ]
           ],
           "sequential": [
            [
             0,
             "#0d0887"
            ],
            [
             0.1111111111111111,
             "#46039f"
            ],
            [
             0.2222222222222222,
             "#7201a8"
            ],
            [
             0.3333333333333333,
             "#9c179e"
            ],
            [
             0.4444444444444444,
             "#bd3786"
            ],
            [
             0.5555555555555556,
             "#d8576b"
            ],
            [
             0.6666666666666666,
             "#ed7953"
            ],
            [
             0.7777777777777778,
             "#fb9f3a"
            ],
            [
             0.8888888888888888,
             "#fdca26"
            ],
            [
             1,
             "#f0f921"
            ]
           ],
           "sequentialminus": [
            [
             0,
             "#0d0887"
            ],
            [
             0.1111111111111111,
             "#46039f"
            ],
            [
             0.2222222222222222,
             "#7201a8"
            ],
            [
             0.3333333333333333,
             "#9c179e"
            ],
            [
             0.4444444444444444,
             "#bd3786"
            ],
            [
             0.5555555555555556,
             "#d8576b"
            ],
            [
             0.6666666666666666,
             "#ed7953"
            ],
            [
             0.7777777777777778,
             "#fb9f3a"
            ],
            [
             0.8888888888888888,
             "#fdca26"
            ],
            [
             1,
             "#f0f921"
            ]
           ]
          },
          "colorway": [
           "#636efa",
           "#EF553B",
           "#00cc96",
           "#ab63fa",
           "#FFA15A",
           "#19d3f3",
           "#FF6692",
           "#B6E880",
           "#FF97FF",
           "#FECB52"
          ],
          "font": {
           "color": "#2a3f5f"
          },
          "geo": {
           "bgcolor": "white",
           "lakecolor": "white",
           "landcolor": "#E5ECF6",
           "showlakes": true,
           "showland": true,
           "subunitcolor": "white"
          },
          "hoverlabel": {
           "align": "left"
          },
          "hovermode": "closest",
          "mapbox": {
           "style": "light"
          },
          "paper_bgcolor": "white",
          "plot_bgcolor": "#E5ECF6",
          "polar": {
           "angularaxis": {
            "gridcolor": "white",
            "linecolor": "white",
            "ticks": ""
           },
           "bgcolor": "#E5ECF6",
           "radialaxis": {
            "gridcolor": "white",
            "linecolor": "white",
            "ticks": ""
           }
          },
          "scene": {
           "xaxis": {
            "backgroundcolor": "#E5ECF6",
            "gridcolor": "white",
            "gridwidth": 2,
            "linecolor": "white",
            "showbackground": true,
            "ticks": "",
            "zerolinecolor": "white"
           },
           "yaxis": {
            "backgroundcolor": "#E5ECF6",
            "gridcolor": "white",
            "gridwidth": 2,
            "linecolor": "white",
            "showbackground": true,
            "ticks": "",
            "zerolinecolor": "white"
           },
           "zaxis": {
            "backgroundcolor": "#E5ECF6",
            "gridcolor": "white",
            "gridwidth": 2,
            "linecolor": "white",
            "showbackground": true,
            "ticks": "",
            "zerolinecolor": "white"
           }
          },
          "shapedefaults": {
           "line": {
            "color": "#2a3f5f"
           }
          },
          "ternary": {
           "aaxis": {
            "gridcolor": "white",
            "linecolor": "white",
            "ticks": ""
           },
           "baxis": {
            "gridcolor": "white",
            "linecolor": "white",
            "ticks": ""
           },
           "bgcolor": "#E5ECF6",
           "caxis": {
            "gridcolor": "white",
            "linecolor": "white",
            "ticks": ""
           }
          },
          "title": {
           "x": 0.05
          },
          "xaxis": {
           "automargin": true,
           "gridcolor": "white",
           "linecolor": "white",
           "ticks": "",
           "title": {
            "standoff": 15
           },
           "zerolinecolor": "white",
           "zerolinewidth": 2
          },
          "yaxis": {
           "automargin": true,
           "gridcolor": "white",
           "linecolor": "white",
           "ticks": "",
           "title": {
            "standoff": 15
           },
           "zerolinecolor": "white",
           "zerolinewidth": 2
          }
         }
        }
       }
      },
      "text/html": [
       "<div>\n",
       "        \n",
       "        \n",
       "            <div id=\"2b0317aa-4ef6-4a60-af1d-6fb7327082a0\" class=\"plotly-graph-div\" style=\"height:300px; width:100%;\"></div>\n",
       "            <script type=\"text/javascript\">\n",
       "                require([\"plotly\"], function(Plotly) {\n",
       "                    window.PLOTLYENV=window.PLOTLYENV || {};\n",
       "                    \n",
       "                if (document.getElementById(\"2b0317aa-4ef6-4a60-af1d-6fb7327082a0\")) {\n",
       "                    Plotly.newPlot(\n",
       "                        '2b0317aa-4ef6-4a60-af1d-6fb7327082a0',\n",
       "                        [{\"hovertemplate\": \"lat=%{lat}<br>lon=%{lon}<br>label=%{marker.color}<extra></extra>\", \"lat\": [47.68669249, 47.68674786, 47.68684174, 47.68691976, 47.68699872, 47.68707416, 47.68714869, 47.68724895, 47.68732611, 47.68743439, 47.68750674, 47.68760298, 47.68768084, 47.6877579, 47.68783667, 47.68791847, 47.68799741, 47.68807552, 47.68815172, 47.68822363, 47.68828808, 47.68834752, 47.68842337, 47.68846323, 47.68851113, 47.68854394, 47.68858904, 47.68861063, 47.68861785, 47.68862093, 47.68861678, 47.68861258, 47.68860728, 47.6886017, 47.68859625, 47.68859066, 47.68858909, 47.68866708, 47.68866072, 47.68865368, 47.68864154, 47.68863255, 47.68862226, 47.68861438, 47.68860996, 47.68856145, 47.688572, 47.68859363, 47.6886571, 47.68865603, 47.68875327, 47.68881676, 47.68885575, 47.68891833, 47.68896764, 47.68901893, 47.68907274, 47.68913313, 47.68919118, 47.6892523, 47.68930588, 47.68935983, 47.68941491, 47.68946652, 47.68951837, 47.68957213, 47.68964105, 47.68971333, 47.68980623, 47.68988989, 47.68998187, 47.6900851, 47.69019353, 47.69030929, 47.69042277, 47.69054421, 47.69065756, 47.69077443, 47.69088799, 47.69100131, 47.69112169, 47.69123319, 47.69134573, 47.69146373, 47.69158181, 47.69169641, 47.69181124, 47.6919261, 47.6920453, 47.69216042, 47.69228082, 47.69239171, 47.69251146, 47.69263215, 47.69274545, 47.69285681, 47.69297056, 47.69307225, 47.69318743, 47.69329509, 47.69341324, 47.69352318, 47.69363453, 47.69374507, 47.69385878, 47.69397298, 47.69408412, 47.69419406, 47.6942942, 47.69437233, 47.69444128, 47.69451425, 47.69458433, 47.69464523, 47.69467909, 47.69467687, 47.69482791, 47.69482762, 47.69482912, 47.69483088, 47.69483267, 47.69483441, 47.69483513, 47.69484356, 47.69693439, 47.69690635, 47.69687086, 47.69680462, 47.69676897, 47.69665226, 47.69661327, 47.69658859, 47.69651402, 47.69646287, 47.69640994, 47.69635993, 47.69630826, 47.69625567, 47.69620382, 47.69615177, 47.69610026, 47.69605639, 47.69598565, 47.69592151, 47.69588292, 47.69580954, 47.69575601, 47.69570389, 47.69565305, 47.69560407, 47.69555669, 47.69551107, 47.69546538, 47.69541976, 47.6953742, 47.69532623, 47.69527752, 47.69523101, 47.69518321, 47.69516213, 47.69509583, 47.69505213, 47.69501327, 47.69496333, 47.69492147, 47.69490783, 47.69484, 47.69479682, 47.69475658, 47.69471554, 47.69467453, 47.69463156, 47.69459019, 47.69454744, 47.69450219, 47.69445101, 47.69440457, 47.69435986, 47.69431546, 47.69426818, 47.69421875, 47.69417017, 47.69412058, 47.69406836, 47.69402054, 47.69397348, 47.69392922, 47.69388538, 47.6938678, 47.69381457, 47.69379285, 47.69372949, 47.69367804, 47.69362774, 47.69357855, 47.69352942, 47.69348016, 47.69343111, 47.69338203, 47.69333263, 47.69328513, 47.69324906, 47.69319744, 47.69314747, 47.69309859, 47.69304745, 47.69299813, 47.69294868, 47.69291194, 47.69284246, 47.69278459, 47.69272698, 47.69267038, 47.69261493, 47.69256315, 47.69251398, 47.6924673, 47.69242172, 47.69236564, 47.69230754, 47.69225496, 47.69220721, 47.69216186, 47.69211682, 47.69207236, 47.69202915, 47.67795106, 47.67797928, 47.6780244, 47.67813946, 47.67824813, 47.6783591, 47.67846621, 47.6785894, 47.67869967, 47.67882672, 47.67896104, 47.67909293, 47.67918465, 47.67934607, 47.6794602, 47.67958013, 47.67968679, 47.67977934, 47.67985253, 47.67992624, 47.6800045, 47.68008622, 47.68013263, 47.68020223, 47.6803146, 47.6804338, 47.68054102, 47.68066203, 47.68078865, 47.68092484, 47.68106162, 47.68119885, 47.68134238, 47.68148954, 47.68163525, 47.68176847, 47.68193386, 47.68207252, 47.68222391, 47.68237213, 47.68251632, 47.68265841, 47.68279947, 47.6829367, 47.6830805, 47.68322065, 47.68335336, 47.6861042, 47.68616646, 47.68624238, 47.68636322, 47.6864497, 47.68657145, 47.68666828, 47.68675452, 47.6868557, 47.68696231, 47.68707105, 47.68718314, 47.68725383, 47.68740555, 47.68750567, 47.68762807, 47.68774315, 47.68784897, 47.68795261, 47.68805902, 47.68816239, 47.68822588, 47.68834904, 47.6884385, 47.68848122, 47.68854157, 47.68859439, 47.68861575, 47.68862175, 47.68861333, 47.68860467, 47.68859472, 47.68871466, 47.68870581, 47.68869203, 47.6886747, 47.68864904, 47.68863295, 47.68861444, 47.68856717, 47.68859329, 47.68865658, 47.68870193, 47.68872041, 47.68879737, 47.68884423, 47.68887747, 47.68893033, 47.6889828, 47.68903718, 47.68909332, 47.68915751, 47.6892173, 47.68927943, 47.68933098, 47.68938296, 47.68943803, 47.6894884, 47.68957191, 47.68963456, 47.6897447, 47.68984515, 47.68996262, 47.69008867, 47.69020736, 47.69032597, 47.69047153, 47.69060459, 47.6907482, 47.69088278, 47.69101906, 47.69115969, 47.69130561, 47.6914493, 47.69160023, 47.69174752, 47.69188977, 47.69202814, 47.69217066, 47.69231807, 47.69246108, 47.69259926, 47.69273845, 47.6928694, 47.69300528, 47.69313869, 47.69326917, 47.69340081, 47.69353457, 47.69366441, 47.69379821, 47.69393571, 47.69406736, 47.69419213, 47.69429583, 47.69437541, 47.69445602, 47.69452608, 47.69459622, 47.69465883, 47.69467862, 47.69468567, 47.69659308, 47.69671254, 47.696899, 47.69703703, 47.69714927, 47.69727342, 47.69738117, 47.69745145, 47.69756727, 47.6976862, 47.69781215, 47.6979346, 47.69806009, 47.69818326, 47.69830831, 47.6984282, 47.69854777, 47.69867112, 47.69878962, 47.69890654, 47.69903056, 47.69914832, 47.6992669, 47.700848705, 47.70110999, 47.70036617, 47.70025385, 47.70008727, 47.69990928, 47.69978203, 47.69957002, 47.69946579, 47.69934974, 47.69923909, 47.69913119, 47.69483346, 47.69477709, 47.69468453, 47.69457263, 47.6944657, 47.69431807, 47.6942709, 47.69415392, 47.69404433, 47.69394126, 47.69380351, 47.69366878, 47.69355744, 47.69343808, 47.693315, 47.69319943, 47.69308132, 47.69296061, 47.69283903, 47.69271659, 47.69259354, 47.69246915, 47.69234292, 47.69221405, 47.69208324, 47.69193943, 47.69180244, 47.691663, 47.69152236, 47.69136985, 47.69123002, 47.69109412, 47.69095931, 47.6908203, 47.69068574, 47.69055043, 47.69041824, 47.69028516, 47.69014881, 47.69002796, 47.68990612, 47.68979881, 47.6897035, 47.68962713, 47.68957047, 47.68951276, 47.68946517, 47.68942992, 47.68939316, 47.68935781, 47.68932012, 47.68927776, 47.68923607, 47.68919278, 47.68915052, 47.68911328, 47.68907716, 47.68904253, 47.68901682, 47.68897421, 47.68894653, 47.68885969, 47.68884695, 47.68878669, 47.68873634, 47.68869968, 47.68866532, 47.68860327, 47.68857149, 47.68856203, 47.68852563, 47.68852433, 47.6885336, 47.68854471, 47.68855275, 47.68855921, 47.68856639, 47.68857109, 47.68857559, 47.68857286, 47.68859411, 47.68859939, 47.68860449, 47.68860978, 47.68861483, 47.68862055, 47.68862045, 47.68861763, 47.68826368, 47.68822961, 47.68809068, 47.68798752, 47.68788165, 47.68778945, 47.68770792, 47.68762426, 47.68753977, 47.68751002, 47.6873715, 47.68728821, 47.68720341, 47.68711947, 47.68704219, 47.68696435, 47.68688841, 47.68681729, 47.68675261, 47.68669201, 47.68663249, 47.68657439, 47.68652056, 47.68646794, 47.68616199, 47.68606621, 47.68595873, 47.68584629, 47.68572979, 47.68567136, 47.68552305, 47.68541952, 47.68530766, 47.68519042, 47.68507849, 47.68497834, 47.6848804, 47.68478293, 47.68465886, 47.68460376, 47.68457826, 47.68456991], \"legendgroup\": \"\", \"lon\": [17.68008043, 17.68008971, 17.68012696, 17.68016103, 17.68017257, 17.68016542, 17.68017096, 17.68019619, 17.6801713, 17.68009449, 17.68009877, 17.6801042, 17.68010823, 17.68011222, 17.6801163, 17.68012054, 17.68012463, 17.68012867, 17.68013262, 17.68013635, 17.68013853, 17.68014049, 17.68014024, 17.68013169, 17.6800982, 17.68005777, 17.67997013, 17.67988423, 17.67982358, 17.67973916, 17.67960633, 17.6795109, 17.67939038, 17.6792635, 17.67913934, 17.67901228, 17.67897659, 17.67873741, 17.6785969, 17.67845418, 17.6783106, 17.67816688, 17.67802587, 17.6778907, 17.67776081, 17.6776365, 17.67749723, 17.67743594, 17.67729328, 17.67729551, 17.67710635, 17.67703467, 17.67699101, 17.67687527, 17.67676812, 17.67665548, 17.676524, 17.67638423, 17.67624989, 17.67610844, 17.67598444, 17.6758596, 17.67572949, 17.67560714, 17.6754842, 17.67535882, 17.67524554, 17.67514056, 17.67505128, 17.67498334, 17.67491388, 17.67484951, 17.67479354, 17.6747469, 17.67472228, 17.674701, 17.67468348, 17.67466844, 17.67465381, 17.67463923, 17.67462373, 17.67460937, 17.67459488, 17.67457969, 17.67456448, 17.67454973, 17.67453495, 17.67452016, 17.67450481, 17.67448999, 17.67447449, 17.67446021, 17.67444479, 17.67442925, 17.67441467, 17.67440033, 17.67438568, 17.67437263, 17.67435895, 17.67434617, 17.67433214, 17.67431908, 17.6743051, 17.67429093, 17.67427635, 17.67426394, 17.67425362, 17.67424079, 17.67422468, 17.67418851, 17.67415087, 17.6741104, 17.6740705, 17.67403481, 17.67401497, 17.67401966, 17.67413791, 17.67421842, 17.67432832, 17.67445732, 17.67458895, 17.67471615, 17.67489821, 17.6750535, 17.64285222, 17.64278001, 17.64269184, 17.64255008, 17.64234372, 17.64232173, 17.64221831, 17.64215282, 17.64200725, 17.64190833, 17.64180597, 17.64170925, 17.64160932, 17.64150762, 17.64140733, 17.64130668, 17.64120707, 17.64113328, 17.64103056, 17.64093162, 17.64086907, 17.64072705, 17.64062293, 17.64051785, 17.64041422, 17.64031166, 17.64020831, 17.64010454, 17.63999829, 17.63989152, 17.63978486, 17.63967355, 17.63956318, 17.6394578, 17.63932972, 17.63927319, 17.63911134, 17.63900481, 17.63891009, 17.63877568, 17.63865792, 17.63861957, 17.63843402, 17.63831593, 17.63820593, 17.63809372, 17.6379836, 17.63787115, 17.63776288, 17.63765534, 17.6375457, 17.6374305, 17.63732686, 17.63722885, 17.63713148, 17.63702782, 17.63691945, 17.63681521, 17.63670902, 17.63659716, 17.63649476, 17.63639396, 17.63629918, 17.63620529, 17.63616763, 17.63598285, 17.63590732, 17.63576791, 17.63565692, 17.63554841, 17.63544229, 17.63533631, 17.63523004, 17.63512424, 17.63501836, 17.6349118, 17.63480933, 17.63473152, 17.63463036, 17.63453312, 17.63443803, 17.63433855, 17.63424259, 17.63414637, 17.6340749, 17.63395256, 17.63385198, 17.63375186, 17.63365349, 17.63355712, 17.63346713, 17.63338168, 17.63330055, 17.6332223, 17.63313822, 17.63304806, 17.63295694, 17.63286551, 17.63277707, 17.63268925, 17.63260253, 17.63251398, 17.69308722, 17.69297421, 17.69288736, 17.6928528, 17.69282503, 17.69281563, 17.69281779, 17.69280564, 17.69283117, 17.69282217, 17.69281266, 17.69277453, 17.69276398, 17.69274981, 17.69274952, 17.69274678, 17.69274514, 17.69274416, 17.69274614, 17.69275278, 17.69280415, 17.69285343, 17.69286935, 17.69284569, 17.69276469, 17.69272698, 17.69272557, 17.69274063, 17.69273865, 17.69274193, 17.692747, 17.69275071, 17.69275239, 17.69274514, 17.69274204, 17.69274267, 17.69272038, 17.69273403, 17.69273395, 17.69273214, 17.69273224, 17.69272653, 17.69272063, 17.6927246, 17.6927267, 17.69272596, 17.69272519, 17.68012203, 17.68007772, 17.68004898, 17.68004632, 17.68006287, 17.68004899, 17.68004266, 17.68004943, 17.68005737, 17.68006573, 17.68007332, 17.68007975, 17.68008381, 17.68009278, 17.68009871, 17.6801055, 17.68011146, 17.68011694, 17.68012231, 17.68012782, 17.68013317, 17.68013646, 17.68014052, 17.68013931, 17.68012306, 17.68006145, 17.67995274, 17.67984433, 17.67969797, 17.67952791, 17.67933104, 17.67910473, 17.67888778, 17.67867959, 17.67846996, 17.67826016, 17.67805562, 17.67786875, 17.67769929, 17.67751993, 17.67743683, 17.67729436, 17.67718145, 17.67714684, 17.67705642, 17.67700385, 17.67695925, 17.67684914, 17.67673528, 17.67661046, 17.67647638, 17.67632782, 17.67618946, 17.67604565, 17.67592636, 17.67580524, 17.67567468, 17.67555526, 17.67535925, 17.6752555, 17.67510502, 17.67501835, 17.67492652, 17.67484759, 17.67478683, 17.67474211, 17.67471234, 17.67469158, 17.67467181, 17.67465449, 17.67463694, 17.67461883, 17.67460005, 17.67458155, 17.67456211, 17.67454315, 17.67452484, 17.67450702, 17.67448867, 17.67446969, 17.67445128, 17.67443349, 17.67441557, 17.67439871, 17.67438121, 17.67436474, 17.67434924, 17.67433361, 17.67431773, 17.67430127, 17.67428412, 17.6742674, 17.67425517, 17.6742411, 17.67422442, 17.67418684, 17.67414269, 17.67410384, 17.67406353, 17.67402684, 17.67401525, 17.67402866, 17.67934373, 17.67943757, 17.67938975, 17.67934849, 17.67933647, 17.67929399, 17.67930257, 17.67928986, 17.67926729, 17.67923838, 17.67922615, 17.67921335, 17.67919896, 17.67915283, 17.67913666, 17.67912115, 17.67910569, 17.67908973, 17.67907441, 17.67905968, 17.67904406, 17.67902922, 17.67901429, 17.677257085, 17.67725441, 17.6788255, 17.67880681, 17.67876957, 17.678719, 17.67874199, 17.67886961, 17.67888275, 17.67889544, 17.67891174, 17.67903138, 17.67391821, 17.67388831, 17.6739393, 17.67400416, 17.67408785, 17.67417479, 17.67417229, 17.67424714, 17.67425731, 17.67426688, 17.67428344, 17.67430071, 17.67431498, 17.67432919, 17.6743438, 17.67435753, 17.67437155, 17.67438696, 17.67440262, 17.67441838, 17.67443422, 17.67445024, 17.67446649, 17.67448308, 17.67449993, 17.67451844, 17.67453608, 17.67455403, 17.67457214, 17.67459177, 17.67460978, 17.67462728, 17.67464463, 17.67466253, 17.67467985, 17.67470003, 17.6747232, 17.6747549, 17.67481523, 17.67488359, 17.67497065, 17.67505759, 17.67515422, 17.67526689, 17.67536207, 17.6754975, 17.67561034, 17.67569391, 17.67578107, 17.67586426, 17.67595149, 17.67604953, 17.67614602, 17.6762462, 17.67634399, 17.67643018, 17.67651376, 17.67659727, 17.67666069, 17.6767539, 17.67681387, 17.67698662, 17.67700082, 17.6770684, 17.67712721, 17.67718568, 17.67727255, 17.67740772, 17.67749962, 17.67762418, 17.67775749, 17.67789959, 17.678043, 17.67818606, 17.67832719, 17.6784627, 17.67859178, 17.67871931, 17.67884556, 17.67896971, 17.67909066, 17.67921091, 17.67932676, 17.67944716, 17.67956195, 17.67966452, 17.67976347, 17.67982796, 17.68013772, 17.6801366, 17.68012946, 17.68012412, 17.68011863, 17.68011386, 17.68010963, 17.6801053, 17.68010069, 17.68009896, 17.68009076, 17.68008583, 17.68008092, 17.6800761, 17.68007167, 17.68006589, 17.68005993, 17.68005435, 17.68004928, 17.68004452, 17.68003985, 17.68003529, 17.68003107, 17.68002694, 17.68000221, 17.67999408, 17.67998646, 17.67997959, 17.67997247, 17.6799689, 17.67995821, 17.67995074, 17.67994266, 17.6799342, 17.67992613, 17.6799189, 17.67990711, 17.67988227, 17.67980302, 17.67969264, 17.67954235, 17.67939194], \"marker\": {\"color\": [1, 1, 1, 1, 1, 1, 1, 1, 1, 1, 1, 1, 1, 1, 1, 1, 1, 1, 1, 1, 1, 1, 1, 1, 1, 1, 1, 1, 1, 1, 1, 1, 1, 1, 1, 1, 1, 1, 1, 1, 1, 1, 1, 1, 1, 1, 1, 1, 1, 1, 1, 1, 1, 1, 1, 1, 1, 1, 1, 1, 1, 1, 1, 1, 1, 1, 1, 1, 1, 1, 1, 1, 1, 1, 1, 1, 1, 1, 1, 1, 1, 1, 1, 1, 1, 1, 1, 1, 1, 1, 1, 1, 1, 1, 1, 1, 1, 1, 1, 1, 1, 1, 1, 1, 1, 1, 1, 1, 1, 1, 1, 1, 1, 1, 0, 1, 1, 0, 1, 1, 1, 1, 1, 1, 1, 1, 1, 1, 1, 1, 1, 1, 1, 1, 1, 1, 1, 1, 1, 1, 1, 1, 1, 1, 1, 1, 1, 1, 1, 1, 1, 1, 1, 1, 1, 1, 1, 1, 1, 1, 1, 1, 1, 1, 1, 1, 1, 1, 1, 1, 1, 1, 1, 1, 1, 1, 1, 1, 1, 1, 1, 1, 1, 1, 1, 1, 1, 1, 1, 1, 1, 1, 1, 1, 1, 1, 1, 1, 1, 1, 1, 1, 1, 1, 1, 1, 1, 1, 1, 1, 1, 1, 1, 1, 1, 1, 1, 1, 1, 1, 1, 1, 1, 1, 1, 1, 1, 1, 1, 1, 1, 1, 1, 1, 1, 1, 1, 1, 1, 1, 1, 1, 1, 1, 1, 1, 1, 1, 1, 1, 1, 1, 1, 1, 1, 1, 1, 1, 1, 1, 1, 1, 1, 1, 1, 1, 1, 1, 1, 1, 1, 1, 1, 1, 1, 1, 1, 1, 1, 1, 1, 1, 1, 1, 1, 1, 1, 1, 1, 1, 1, 1, 1, 1, 1, 1, 1, 1, 1, 1, 1, 1, 1, 1, 1, 1, 1, 1, 1, 1, 1, 1, 1, 1, 1, 1, 1, 1, 1, 1, 1, 1, 1, 1, 1, 1, 1, 1, 1, 1, 1, 1, 1, 1, 1, 1, 1, 1, 1, 1, 1, 1, 1, 1, 1, 1, 1, 1, 1, 1, 1, 1, 1, 1, 0, 1, 1, 1, 1, 1, 1, 1, 1, 1, 1, 1, 1, 1, 1, 1, 1, 1, 1, 0, 0, 1, 1, 1, 1, 1, 1, 1, 1, 1, 1, 1, 1, 1, 1, 1, 1, 1, 1, 1, 1, 1, 1, 1, 1, 1, 1, 1, 1, 1, 1, 1, 1, 1, 1, 1, 1, 0, 0, 1, 0, 1, 1, 1, 1, 1, 1, 1, 1, 1, 1, 1, 1, 1, 1, 1, 1, 1, 1, 1, 1, 1, 1, 1, 1, 1, 1, 1, 1, 1, 1, 1, 1, 1, 1, 1, 1, 1, 1, 1, 1, 1, 1, 1, 1, 1, 1, 1, 1, 1, 1, 1, 1, 1, 1, 1, 1, 1, 1, 1, 1, 1, 1, 1, 1, 1, 1, 1, 1, 1, 1, 1, 1, 1, 1, 1, 1, 1, 1, 1, 1, 1, 1, 1, 1, 1, 1, 1, 1, 1, 1, 1, 1, 1, 1, 1, 1, 1, 1, 1, 1, 1, 1, 1, 1, 1, 1, 1, 1, 1, 1, 1, 1, 1, 1, 1, 1, 1, 1, 1, 1, 1, 1, 1, 1, 1], \"coloraxis\": \"coloraxis\"}, \"mode\": \"markers\", \"name\": \"\", \"showlegend\": false, \"subplot\": \"mapbox\", \"type\": \"scattermapbox\"}],\n",
       "                        {\"coloraxis\": {\"colorbar\": {\"title\": {\"text\": \"label\"}}, \"colorscale\": [[0.0, \"green\"], [1.0, \"red\"]], \"showscale\": false}, \"height\": 300, \"legend\": {\"tracegroupgap\": 0}, \"mapbox\": {\"center\": {\"lat\": 47.69046594587963, \"lon\": 17.671032746842588}, \"domain\": {\"x\": [0.0, 1.0], \"y\": [0.0, 1.0]}, \"style\": \"open-street-map\", \"zoom\": 12}, \"margin\": {\"b\": 0, \"l\": 0, \"r\": 0, \"t\": 0}, \"template\": {\"data\": {\"bar\": [{\"error_x\": {\"color\": \"#2a3f5f\"}, \"error_y\": {\"color\": \"#2a3f5f\"}, \"marker\": {\"line\": {\"color\": \"#E5ECF6\", \"width\": 0.5}}, \"type\": \"bar\"}], \"barpolar\": [{\"marker\": {\"line\": {\"color\": \"#E5ECF6\", \"width\": 0.5}}, \"type\": \"barpolar\"}], \"carpet\": [{\"aaxis\": {\"endlinecolor\": \"#2a3f5f\", \"gridcolor\": \"white\", \"linecolor\": \"white\", \"minorgridcolor\": \"white\", \"startlinecolor\": \"#2a3f5f\"}, \"baxis\": {\"endlinecolor\": \"#2a3f5f\", \"gridcolor\": \"white\", \"linecolor\": \"white\", \"minorgridcolor\": \"white\", \"startlinecolor\": \"#2a3f5f\"}, \"type\": \"carpet\"}], \"choropleth\": [{\"colorbar\": {\"outlinewidth\": 0, \"ticks\": \"\"}, \"type\": \"choropleth\"}], \"contour\": [{\"colorbar\": {\"outlinewidth\": 0, \"ticks\": \"\"}, \"colorscale\": [[0.0, \"#0d0887\"], [0.1111111111111111, \"#46039f\"], [0.2222222222222222, \"#7201a8\"], [0.3333333333333333, \"#9c179e\"], [0.4444444444444444, \"#bd3786\"], [0.5555555555555556, \"#d8576b\"], [0.6666666666666666, \"#ed7953\"], [0.7777777777777778, \"#fb9f3a\"], [0.8888888888888888, \"#fdca26\"], [1.0, \"#f0f921\"]], \"type\": \"contour\"}], \"contourcarpet\": [{\"colorbar\": {\"outlinewidth\": 0, \"ticks\": \"\"}, \"type\": \"contourcarpet\"}], \"heatmap\": [{\"colorbar\": {\"outlinewidth\": 0, \"ticks\": \"\"}, \"colorscale\": [[0.0, \"#0d0887\"], [0.1111111111111111, \"#46039f\"], [0.2222222222222222, \"#7201a8\"], [0.3333333333333333, \"#9c179e\"], [0.4444444444444444, \"#bd3786\"], [0.5555555555555556, \"#d8576b\"], [0.6666666666666666, \"#ed7953\"], [0.7777777777777778, \"#fb9f3a\"], [0.8888888888888888, \"#fdca26\"], [1.0, \"#f0f921\"]], \"type\": \"heatmap\"}], \"heatmapgl\": [{\"colorbar\": {\"outlinewidth\": 0, \"ticks\": \"\"}, \"colorscale\": [[0.0, \"#0d0887\"], [0.1111111111111111, \"#46039f\"], [0.2222222222222222, \"#7201a8\"], [0.3333333333333333, \"#9c179e\"], [0.4444444444444444, \"#bd3786\"], [0.5555555555555556, \"#d8576b\"], [0.6666666666666666, \"#ed7953\"], [0.7777777777777778, \"#fb9f3a\"], [0.8888888888888888, \"#fdca26\"], [1.0, \"#f0f921\"]], \"type\": \"heatmapgl\"}], \"histogram\": [{\"marker\": {\"colorbar\": {\"outlinewidth\": 0, \"ticks\": \"\"}}, \"type\": \"histogram\"}], \"histogram2d\": [{\"colorbar\": {\"outlinewidth\": 0, \"ticks\": \"\"}, \"colorscale\": [[0.0, \"#0d0887\"], [0.1111111111111111, \"#46039f\"], [0.2222222222222222, \"#7201a8\"], [0.3333333333333333, \"#9c179e\"], [0.4444444444444444, \"#bd3786\"], [0.5555555555555556, \"#d8576b\"], [0.6666666666666666, \"#ed7953\"], [0.7777777777777778, \"#fb9f3a\"], [0.8888888888888888, \"#fdca26\"], [1.0, \"#f0f921\"]], \"type\": \"histogram2d\"}], \"histogram2dcontour\": [{\"colorbar\": {\"outlinewidth\": 0, \"ticks\": \"\"}, \"colorscale\": [[0.0, \"#0d0887\"], [0.1111111111111111, \"#46039f\"], [0.2222222222222222, \"#7201a8\"], [0.3333333333333333, \"#9c179e\"], [0.4444444444444444, \"#bd3786\"], [0.5555555555555556, \"#d8576b\"], [0.6666666666666666, \"#ed7953\"], [0.7777777777777778, \"#fb9f3a\"], [0.8888888888888888, \"#fdca26\"], [1.0, \"#f0f921\"]], \"type\": \"histogram2dcontour\"}], \"mesh3d\": [{\"colorbar\": {\"outlinewidth\": 0, \"ticks\": \"\"}, \"type\": \"mesh3d\"}], \"parcoords\": [{\"line\": {\"colorbar\": {\"outlinewidth\": 0, \"ticks\": \"\"}}, \"type\": \"parcoords\"}], \"pie\": [{\"automargin\": true, \"type\": \"pie\"}], \"scatter\": [{\"marker\": {\"colorbar\": {\"outlinewidth\": 0, \"ticks\": \"\"}}, \"type\": \"scatter\"}], \"scatter3d\": [{\"line\": {\"colorbar\": {\"outlinewidth\": 0, \"ticks\": \"\"}}, \"marker\": {\"colorbar\": {\"outlinewidth\": 0, \"ticks\": \"\"}}, \"type\": \"scatter3d\"}], \"scattercarpet\": [{\"marker\": {\"colorbar\": {\"outlinewidth\": 0, \"ticks\": \"\"}}, \"type\": \"scattercarpet\"}], \"scattergeo\": [{\"marker\": {\"colorbar\": {\"outlinewidth\": 0, \"ticks\": \"\"}}, \"type\": \"scattergeo\"}], \"scattergl\": [{\"marker\": {\"colorbar\": {\"outlinewidth\": 0, \"ticks\": \"\"}}, \"type\": \"scattergl\"}], \"scattermapbox\": [{\"marker\": {\"colorbar\": {\"outlinewidth\": 0, \"ticks\": \"\"}}, \"type\": \"scattermapbox\"}], \"scatterpolar\": [{\"marker\": {\"colorbar\": {\"outlinewidth\": 0, \"ticks\": \"\"}}, \"type\": \"scatterpolar\"}], \"scatterpolargl\": [{\"marker\": {\"colorbar\": {\"outlinewidth\": 0, \"ticks\": \"\"}}, \"type\": \"scatterpolargl\"}], \"scatterternary\": [{\"marker\": {\"colorbar\": {\"outlinewidth\": 0, \"ticks\": \"\"}}, \"type\": \"scatterternary\"}], \"surface\": [{\"colorbar\": {\"outlinewidth\": 0, \"ticks\": \"\"}, \"colorscale\": [[0.0, \"#0d0887\"], [0.1111111111111111, \"#46039f\"], [0.2222222222222222, \"#7201a8\"], [0.3333333333333333, \"#9c179e\"], [0.4444444444444444, \"#bd3786\"], [0.5555555555555556, \"#d8576b\"], [0.6666666666666666, \"#ed7953\"], [0.7777777777777778, \"#fb9f3a\"], [0.8888888888888888, \"#fdca26\"], [1.0, \"#f0f921\"]], \"type\": \"surface\"}], \"table\": [{\"cells\": {\"fill\": {\"color\": \"#EBF0F8\"}, \"line\": {\"color\": \"white\"}}, \"header\": {\"fill\": {\"color\": \"#C8D4E3\"}, \"line\": {\"color\": \"white\"}}, \"type\": \"table\"}]}, \"layout\": {\"annotationdefaults\": {\"arrowcolor\": \"#2a3f5f\", \"arrowhead\": 0, \"arrowwidth\": 1}, \"coloraxis\": {\"colorbar\": {\"outlinewidth\": 0, \"ticks\": \"\"}}, \"colorscale\": {\"diverging\": [[0, \"#8e0152\"], [0.1, \"#c51b7d\"], [0.2, \"#de77ae\"], [0.3, \"#f1b6da\"], [0.4, \"#fde0ef\"], [0.5, \"#f7f7f7\"], [0.6, \"#e6f5d0\"], [0.7, \"#b8e186\"], [0.8, \"#7fbc41\"], [0.9, \"#4d9221\"], [1, \"#276419\"]], \"sequential\": [[0.0, \"#0d0887\"], [0.1111111111111111, \"#46039f\"], [0.2222222222222222, \"#7201a8\"], [0.3333333333333333, \"#9c179e\"], [0.4444444444444444, \"#bd3786\"], [0.5555555555555556, \"#d8576b\"], [0.6666666666666666, \"#ed7953\"], [0.7777777777777778, \"#fb9f3a\"], [0.8888888888888888, \"#fdca26\"], [1.0, \"#f0f921\"]], \"sequentialminus\": [[0.0, \"#0d0887\"], [0.1111111111111111, \"#46039f\"], [0.2222222222222222, \"#7201a8\"], [0.3333333333333333, \"#9c179e\"], [0.4444444444444444, \"#bd3786\"], [0.5555555555555556, \"#d8576b\"], [0.6666666666666666, \"#ed7953\"], [0.7777777777777778, \"#fb9f3a\"], [0.8888888888888888, \"#fdca26\"], [1.0, \"#f0f921\"]]}, \"colorway\": [\"#636efa\", \"#EF553B\", \"#00cc96\", \"#ab63fa\", \"#FFA15A\", \"#19d3f3\", \"#FF6692\", \"#B6E880\", \"#FF97FF\", \"#FECB52\"], \"font\": {\"color\": \"#2a3f5f\"}, \"geo\": {\"bgcolor\": \"white\", \"lakecolor\": \"white\", \"landcolor\": \"#E5ECF6\", \"showlakes\": true, \"showland\": true, \"subunitcolor\": \"white\"}, \"hoverlabel\": {\"align\": \"left\"}, \"hovermode\": \"closest\", \"mapbox\": {\"style\": \"light\"}, \"paper_bgcolor\": \"white\", \"plot_bgcolor\": \"#E5ECF6\", \"polar\": {\"angularaxis\": {\"gridcolor\": \"white\", \"linecolor\": \"white\", \"ticks\": \"\"}, \"bgcolor\": \"#E5ECF6\", \"radialaxis\": {\"gridcolor\": \"white\", \"linecolor\": \"white\", \"ticks\": \"\"}}, \"scene\": {\"xaxis\": {\"backgroundcolor\": \"#E5ECF6\", \"gridcolor\": \"white\", \"gridwidth\": 2, \"linecolor\": \"white\", \"showbackground\": true, \"ticks\": \"\", \"zerolinecolor\": \"white\"}, \"yaxis\": {\"backgroundcolor\": \"#E5ECF6\", \"gridcolor\": \"white\", \"gridwidth\": 2, \"linecolor\": \"white\", \"showbackground\": true, \"ticks\": \"\", \"zerolinecolor\": \"white\"}, \"zaxis\": {\"backgroundcolor\": \"#E5ECF6\", \"gridcolor\": \"white\", \"gridwidth\": 2, \"linecolor\": \"white\", \"showbackground\": true, \"ticks\": \"\", \"zerolinecolor\": \"white\"}}, \"shapedefaults\": {\"line\": {\"color\": \"#2a3f5f\"}}, \"ternary\": {\"aaxis\": {\"gridcolor\": \"white\", \"linecolor\": \"white\", \"ticks\": \"\"}, \"baxis\": {\"gridcolor\": \"white\", \"linecolor\": \"white\", \"ticks\": \"\"}, \"bgcolor\": \"#E5ECF6\", \"caxis\": {\"gridcolor\": \"white\", \"linecolor\": \"white\", \"ticks\": \"\"}}, \"title\": {\"x\": 0.05}, \"xaxis\": {\"automargin\": true, \"gridcolor\": \"white\", \"linecolor\": \"white\", \"ticks\": \"\", \"title\": {\"standoff\": 15}, \"zerolinecolor\": \"white\", \"zerolinewidth\": 2}, \"yaxis\": {\"automargin\": true, \"gridcolor\": \"white\", \"linecolor\": \"white\", \"ticks\": \"\", \"title\": {\"standoff\": 15}, \"zerolinecolor\": \"white\", \"zerolinewidth\": 2}}}},\n",
       "                        {\"responsive\": true}\n",
       "                    ).then(function(){\n",
       "                            \n",
       "var gd = document.getElementById('2b0317aa-4ef6-4a60-af1d-6fb7327082a0');\n",
       "var x = new MutationObserver(function (mutations, observer) {{\n",
       "        var display = window.getComputedStyle(gd).display;\n",
       "        if (!display || display === 'none') {{\n",
       "            console.log([gd, 'removed!']);\n",
       "            Plotly.purge(gd);\n",
       "            observer.disconnect();\n",
       "        }}\n",
       "}});\n",
       "\n",
       "// Listen for the removal of the full notebook cells\n",
       "var notebookContainer = gd.closest('#notebook-container');\n",
       "if (notebookContainer) {{\n",
       "    x.observe(notebookContainer, {childList: true});\n",
       "}}\n",
       "\n",
       "// Listen for the clearing of the current output cell\n",
       "var outputEl = gd.closest('.output');\n",
       "if (outputEl) {{\n",
       "    x.observe(outputEl, {childList: true});\n",
       "}}\n",
       "\n",
       "                        })\n",
       "                };\n",
       "                });\n",
       "            </script>\n",
       "        </div>"
      ]
     },
     "metadata": {},
     "output_type": "display_data"
    },
    {
     "data": {
      "application/vnd.plotly.v1+json": {
       "config": {
        "linkText": "Export to plot.ly",
        "plotlyServerURL": "https://plot.ly",
        "showLink": false
       },
       "data": [
        {
         "hovertemplate": "lat=%{lat}<br>lon=%{lon}<br>label=%{marker.color}<extra></extra>",
         "lat": [
          47.68665984,
          47.68667121,
          47.68676218,
          47.68762722,
          47.68768801,
          47.68804206,
          47.68801538,
          47.6879706,
          47.68792295,
          47.68787753,
          47.68782726,
          47.6877789,
          47.68756102,
          47.68761922,
          47.68768563,
          47.68775998,
          47.68783665,
          47.68791626,
          47.68799269,
          47.68806131,
          47.68812369,
          47.68820032,
          47.68825905,
          47.68831169,
          47.68835893,
          47.68841748,
          47.68849519,
          47.68858279,
          47.68867467,
          47.68873776,
          47.68879749,
          47.68884378,
          47.68885578,
          47.68891284,
          47.68896433,
          47.68903234,
          47.68911167,
          47.68921445,
          47.68931763,
          47.68942127,
          47.68953453,
          47.68962588,
          47.68972278,
          47.68981035,
          47.68988973,
          47.68994898,
          47.69008998,
          47.69010657,
          47.69016626,
          47.69024011,
          47.69032164,
          47.69040079,
          47.69050142,
          47.690612,
          47.69072759,
          47.69083753,
          47.69093664,
          47.69102771,
          47.69111013,
          47.69117196,
          47.6912217,
          47.69132114,
          47.69140974,
          47.69145822,
          47.69147617,
          47.69154609,
          47.69162193,
          47.69167722,
          47.69177272,
          47.69187806,
          47.69198545,
          47.69208711,
          47.69218678,
          47.69228142,
          47.69235032,
          47.69250453,
          47.69261783,
          47.69272705,
          47.69283084,
          47.69293053,
          47.69304701,
          47.69309285,
          47.69309591,
          47.6930578,
          47.69300756,
          47.69296184,
          47.69292154,
          47.69288446,
          47.69284882,
          47.69281844,
          47.69278882,
          47.69276402,
          47.69274281,
          47.69271873,
          47.69269254,
          47.69266343,
          47.6926363,
          47.69260458,
          47.69256766,
          47.69253059,
          47.692493,
          47.69245136,
          47.69240901,
          47.69238901,
          47.69232583,
          47.69228724,
          47.69225087,
          47.69221529,
          47.69217992,
          47.6921442,
          47.69210887,
          47.69207411,
          47.6920397,
          47.69200459,
          47.6919681,
          47.69193712,
          47.69187963,
          47.69182161,
          47.69177726,
          47.69173315,
          47.69169176,
          47.69165034,
          47.69161328,
          47.69158298,
          47.6915538,
          47.69153011,
          47.69168912,
          47.69174523,
          47.69181536,
          47.69181504,
          47.69179735,
          47.69176045,
          47.69168864,
          47.69161042,
          47.69153226,
          47.69146226,
          47.69140207,
          47.69134365,
          47.69128459,
          47.69122307,
          47.69116487,
          47.69111055,
          47.69105319,
          47.69100432,
          47.69095176,
          47.69090081,
          47.690853,
          47.6908024,
          47.69075681,
          47.69071456,
          47.69066853,
          47.69062441,
          47.69057646,
          47.69053201,
          47.69048457,
          47.69044549,
          47.69040637,
          47.69036752,
          47.69033276,
          47.6902902,
          47.69025154,
          47.69021265,
          47.69016252,
          47.6901187,
          47.69004838,
          47.68997983,
          47.68992432,
          47.68979409,
          47.6898357,
          47.68988918,
          47.69006894,
          47.69010222,
          47.69017594,
          47.6902368,
          47.69029484,
          47.69036076,
          47.69043266,
          47.69050363,
          47.69057054,
          47.69063689,
          47.69070681,
          47.69077352,
          47.69084168,
          47.69091108,
          47.6909765,
          47.6910398,
          47.69110853,
          47.69117573,
          47.69125073,
          47.69132377,
          47.69139419,
          47.69142251,
          47.69155295,
          47.69163218,
          47.69171042,
          47.69178525,
          47.69186282,
          47.69194334,
          47.69202598,
          47.69210896,
          47.69219036,
          47.69227079,
          47.69234887,
          47.69242754,
          47.69250742,
          47.69259167,
          47.69266865,
          47.69274671,
          47.69278558,
          47.69290576,
          47.69297983,
          47.69304463,
          47.69310142,
          47.69315656,
          47.69319669,
          47.69324583,
          47.69330218,
          47.69336647,
          47.69343036,
          47.69349521,
          47.69356138,
          47.69362799,
          47.69369072,
          47.69375265,
          47.69380854,
          47.69385455,
          47.69406205,
          47.69411331,
          47.69419442,
          47.69420358,
          47.6943144,
          47.69441258,
          47.69452494,
          47.69464278,
          47.69476884,
          47.6948871,
          47.69499469,
          47.69510915,
          47.69520972,
          47.69533651,
          47.69546008,
          47.69557367,
          47.69565346,
          47.69582974,
          47.69596818,
          47.69610101,
          47.69623501,
          47.69636779,
          47.69649724,
          47.69662743,
          47.69676009,
          47.69688958,
          47.69701574,
          47.69714259,
          47.69727226,
          47.69740957,
          47.69754664,
          47.69768588,
          47.69782108,
          47.69796356,
          47.69803105,
          47.69823863,
          47.69838098,
          47.69851852,
          47.69865721,
          47.69879953,
          47.69893644,
          47.69907595,
          47.69921466,
          47.69935268,
          47.69948748,
          47.69962116,
          47.69969506,
          47.69989098,
          47.70002177,
          47.70015575,
          47.70028855,
          47.70042128,
          47.70055367,
          47.70068432,
          47.70081766,
          47.70095188,
          47.70108469,
          47.70121731,
          47.70135216,
          47.70148582,
          47.70161956,
          47.70175387,
          47.70188748,
          47.70202267,
          47.70215877,
          47.70229535,
          47.7024338,
          47.70257109,
          47.70271129,
          47.70285103,
          47.70299285,
          47.70313696,
          47.70327759,
          47.70342045,
          47.70356175
         ],
         "legendgroup": "",
         "lon": [
          17.64932557,
          17.64923157,
          17.64922868,
          17.64837152,
          17.64830931,
          17.64778528,
          17.64770828,
          17.64761739,
          17.64752929,
          17.64745575,
          17.64736435,
          17.64727831,
          17.64667027,
          17.64654016,
          17.64637826,
          17.64622038,
          17.64605247,
          17.64588495,
          17.64572646,
          17.64557904,
          17.64546214,
          17.64533582,
          17.64524483,
          17.64516795,
          17.64510898,
          17.6450485,
          17.64501534,
          17.64499172,
          17.6449543,
          17.6449034,
          17.64481246,
          17.64466405,
          17.64453713,
          17.6443134,
          17.64414537,
          17.64399471,
          17.64386249,
          17.64373841,
          17.64363837,
          17.64353331,
          17.64343073,
          17.64334612,
          17.64326374,
          17.64318621,
          17.64311906,
          17.64307739,
          17.64306276,
          17.64309139,
          17.64318403,
          17.64324812,
          17.6432854,
          17.64328556,
          17.64324585,
          17.64315811,
          17.64304933,
          17.64294434,
          17.64284927,
          17.64276721,
          17.64270777,
          17.64265888,
          17.64261955,
          17.64265718,
          17.6426875,
          17.64274809,
          17.64286492,
          17.64294513,
          17.64290487,
          17.64275989,
          17.64268117,
          17.64262065,
          17.64256769,
          17.64251839,
          17.64247007,
          17.64242417,
          17.64239076,
          17.64234049,
          17.64230361,
          17.64226806,
          17.64223414,
          17.64219693,
          17.64213743,
          17.64209361,
          17.64188485,
          17.64179535,
          17.64166677,
          17.64152166,
          17.64138543,
          17.64126107,
          17.64114414,
          17.64104448,
          17.64094836,
          17.64086951,
          17.64080469,
          17.64073206,
          17.64065814,
          17.64057595,
          17.64049937,
          17.6404103,
          17.64030786,
          17.64020496,
          17.64010065,
          17.6399851,
          17.63986756,
          17.63981207,
          17.63961438,
          17.63949359,
          17.63937973,
          17.63927017,
          17.63916243,
          17.63905377,
          17.63894781,
          17.63884356,
          17.63874034,
          17.63863505,
          17.63852561,
          17.63844744,
          17.63835017,
          17.63819679,
          17.63807662,
          17.63795708,
          17.63784494,
          17.63773272,
          17.63763231,
          17.63755021,
          17.63747116,
          17.63740695,
          17.63705981,
          17.63699559,
          17.6368559,
          17.63685344,
          17.63675178,
          17.63667271,
          17.63656464,
          17.63644609,
          17.63631756,
          17.63617727,
          17.63602219,
          17.63587168,
          17.63570393,
          17.63554407,
          17.63537872,
          17.63522245,
          17.63505215,
          17.63490439,
          17.63474424,
          17.63458475,
          17.63443103,
          17.63426774,
          17.63410657,
          17.63395015,
          17.63377977,
          17.63362566,
          17.63346066,
          17.63330771,
          17.63313813,
          17.6329925,
          17.63283876,
          17.632683,
          17.63254363,
          17.63239658,
          17.63226505,
          17.63214396,
          17.63204136,
          17.63195937,
          17.63193133,
          17.63192991,
          17.63195854,
          17.6325124,
          17.63257046,
          17.63261846,
          17.63247226,
          17.63245071,
          17.63240919,
          17.63237357,
          17.63233556,
          17.63229236,
          17.63224641,
          17.63220228,
          17.63216069,
          17.63211944,
          17.63207597,
          17.63203449,
          17.63199212,
          17.63194897,
          17.63190831,
          17.63186895,
          17.63182608,
          17.63178409,
          17.63173722,
          17.6316913,
          17.6316469,
          17.63162904,
          17.63154055,
          17.63148646,
          17.631433,
          17.63138187,
          17.6313306,
          17.63127949,
          17.63122704,
          17.63117437,
          17.63112271,
          17.63107166,
          17.6310221,
          17.63097217,
          17.63092147,
          17.63086799,
          17.63081914,
          17.63076959,
          17.63074491,
          17.63067349,
          17.63062955,
          17.6305911,
          17.63055741,
          17.6305247,
          17.63050089,
          17.63047174,
          17.63043831,
          17.63040016,
          17.63036226,
          17.63032378,
          17.63028453,
          17.630245,
          17.63020778,
          17.63017102,
          17.63013784,
          17.63011054,
          17.63019127,
          17.63020038,
          17.63019246,
          17.63018723,
          17.63005807,
          17.63003756,
          17.63005126,
          17.63007026,
          17.63005853,
          17.63006446,
          17.6300662,
          17.63005824,
          17.63003577,
          17.62999569,
          17.62994778,
          17.62990134,
          17.62986872,
          17.62980624,
          17.6297572,
          17.6297106,
          17.62966419,
          17.62961822,
          17.62957339,
          17.6295283,
          17.62948237,
          17.62943753,
          17.62939924,
          17.62936644,
          17.62934664,
          17.62933623,
          17.62933544,
          17.62933883,
          17.62934133,
          17.62933794,
          17.62933483,
          17.62936701,
          17.62938273,
          17.62939291,
          17.62940318,
          17.62941372,
          17.62942386,
          17.62943419,
          17.62944771,
          17.62946679,
          17.62948079,
          17.62949251,
          17.62949899,
          17.6295411,
          17.62956949,
          17.62960116,
          17.62963569,
          17.62967226,
          17.62970921,
          17.62974648,
          17.62978453,
          17.62983045,
          17.62988032,
          17.62993013,
          17.62998077,
          17.63003096,
          17.63008102,
          17.630129,
          17.63017497,
          17.63021741,
          17.63025667,
          17.63029559,
          17.63033662,
          17.63037905,
          17.63042273,
          17.63046782,
          17.63051358,
          17.63056009,
          17.63060546,
          17.63065156,
          17.63069716
         ],
         "marker": {
          "color": [
           0,
           0,
           0,
           0,
           0,
           1,
           0,
           0,
           0,
           0,
           0,
           0,
           0,
           1,
           0,
           1,
           0,
           0,
           0,
           1,
           1,
           1,
           1,
           1,
           0,
           0,
           0,
           1,
           1,
           0,
           1,
           0,
           0,
           1,
           0,
           1,
           1,
           0,
           0,
           0,
           1,
           1,
           1,
           1,
           0,
           1,
           1,
           0,
           0,
           0,
           0,
           0,
           1,
           1,
           1,
           1,
           1,
           0,
           0,
           0,
           1,
           0,
           0,
           1,
           0,
           0,
           1,
           0,
           1,
           1,
           1,
           0,
           1,
           1,
           1,
           1,
           1,
           0,
           0,
           0,
           0,
           0,
           1,
           1,
           0,
           0,
           0,
           0,
           0,
           0,
           0,
           0,
           0,
           0,
           1,
           0,
           0,
           1,
           0,
           0,
           1,
           1,
           1,
           1,
           0,
           0,
           0,
           0,
           0,
           0,
           0,
           0,
           0,
           0,
           0,
           0,
           1,
           0,
           0,
           0,
           0,
           0,
           0,
           0,
           0,
           0,
           1,
           0,
           0,
           0,
           0,
           0,
           0,
           0,
           0,
           0,
           0,
           0,
           0,
           0,
           0,
           0,
           0,
           0,
           0,
           0,
           0,
           0,
           0,
           0,
           0,
           0,
           0,
           0,
           0,
           0,
           0,
           0,
           0,
           0,
           0,
           0,
           0,
           0,
           0,
           0,
           0,
           0,
           0,
           0,
           0,
           1,
           0,
           0,
           0,
           0,
           0,
           0,
           0,
           0,
           0,
           0,
           0,
           0,
           0,
           0,
           1,
           0,
           0,
           0,
           0,
           1,
           0,
           1,
           0,
           0,
           0,
           0,
           1,
           1,
           1,
           0,
           0,
           0,
           0,
           1,
           1,
           0,
           0,
           0,
           1,
           0,
           0,
           0,
           0,
           0,
           0,
           1,
           0,
           1,
           0,
           0,
           0,
           0,
           0,
           0,
           0,
           1,
           1,
           1,
           0,
           0,
           1,
           0,
           0,
           0,
           0,
           0,
           1,
           1,
           0,
           1,
           1,
           1,
           1,
           1,
           1,
           1,
           1,
           1,
           1,
           1,
           0,
           0,
           0,
           0,
           0,
           0,
           1,
           1,
           1,
           0,
           0,
           0,
           1,
           0,
           1,
           0,
           0,
           1,
           1,
           0,
           1,
           0,
           0,
           0,
           0,
           0,
           0,
           1,
           0,
           0,
           0,
           0,
           0,
           0,
           1,
           0,
           0,
           0,
           0,
           0,
           1,
           1,
           0,
           0,
           0,
           0,
           0,
           1,
           1
          ],
          "coloraxis": "coloraxis"
         },
         "mode": "markers",
         "name": "",
         "showlegend": false,
         "subplot": "mapbox",
         "type": "scattermapbox"
        }
       ],
       "layout": {
        "coloraxis": {
         "colorbar": {
          "title": {
           "text": "label"
          }
         },
         "colorscale": [
          [
           0,
           "green"
          ],
          [
           1,
           "red"
          ]
         ],
         "showscale": false
        },
        "height": 300,
        "legend": {
         "tracegroupgap": 0
        },
        "mapbox": {
         "center": {
          "lat": 47.692899581528245,
          "lon": 17.636138610531564
         },
         "domain": {
          "x": [
           0,
           1
          ],
          "y": [
           0,
           1
          ]
         },
         "style": "open-street-map",
         "zoom": 12
        },
        "margin": {
         "b": 0,
         "l": 0,
         "r": 0,
         "t": 0
        },
        "template": {
         "data": {
          "bar": [
           {
            "error_x": {
             "color": "#2a3f5f"
            },
            "error_y": {
             "color": "#2a3f5f"
            },
            "marker": {
             "line": {
              "color": "#E5ECF6",
              "width": 0.5
             }
            },
            "type": "bar"
           }
          ],
          "barpolar": [
           {
            "marker": {
             "line": {
              "color": "#E5ECF6",
              "width": 0.5
             }
            },
            "type": "barpolar"
           }
          ],
          "carpet": [
           {
            "aaxis": {
             "endlinecolor": "#2a3f5f",
             "gridcolor": "white",
             "linecolor": "white",
             "minorgridcolor": "white",
             "startlinecolor": "#2a3f5f"
            },
            "baxis": {
             "endlinecolor": "#2a3f5f",
             "gridcolor": "white",
             "linecolor": "white",
             "minorgridcolor": "white",
             "startlinecolor": "#2a3f5f"
            },
            "type": "carpet"
           }
          ],
          "choropleth": [
           {
            "colorbar": {
             "outlinewidth": 0,
             "ticks": ""
            },
            "type": "choropleth"
           }
          ],
          "contour": [
           {
            "colorbar": {
             "outlinewidth": 0,
             "ticks": ""
            },
            "colorscale": [
             [
              0,
              "#0d0887"
             ],
             [
              0.1111111111111111,
              "#46039f"
             ],
             [
              0.2222222222222222,
              "#7201a8"
             ],
             [
              0.3333333333333333,
              "#9c179e"
             ],
             [
              0.4444444444444444,
              "#bd3786"
             ],
             [
              0.5555555555555556,
              "#d8576b"
             ],
             [
              0.6666666666666666,
              "#ed7953"
             ],
             [
              0.7777777777777778,
              "#fb9f3a"
             ],
             [
              0.8888888888888888,
              "#fdca26"
             ],
             [
              1,
              "#f0f921"
             ]
            ],
            "type": "contour"
           }
          ],
          "contourcarpet": [
           {
            "colorbar": {
             "outlinewidth": 0,
             "ticks": ""
            },
            "type": "contourcarpet"
           }
          ],
          "heatmap": [
           {
            "colorbar": {
             "outlinewidth": 0,
             "ticks": ""
            },
            "colorscale": [
             [
              0,
              "#0d0887"
             ],
             [
              0.1111111111111111,
              "#46039f"
             ],
             [
              0.2222222222222222,
              "#7201a8"
             ],
             [
              0.3333333333333333,
              "#9c179e"
             ],
             [
              0.4444444444444444,
              "#bd3786"
             ],
             [
              0.5555555555555556,
              "#d8576b"
             ],
             [
              0.6666666666666666,
              "#ed7953"
             ],
             [
              0.7777777777777778,
              "#fb9f3a"
             ],
             [
              0.8888888888888888,
              "#fdca26"
             ],
             [
              1,
              "#f0f921"
             ]
            ],
            "type": "heatmap"
           }
          ],
          "heatmapgl": [
           {
            "colorbar": {
             "outlinewidth": 0,
             "ticks": ""
            },
            "colorscale": [
             [
              0,
              "#0d0887"
             ],
             [
              0.1111111111111111,
              "#46039f"
             ],
             [
              0.2222222222222222,
              "#7201a8"
             ],
             [
              0.3333333333333333,
              "#9c179e"
             ],
             [
              0.4444444444444444,
              "#bd3786"
             ],
             [
              0.5555555555555556,
              "#d8576b"
             ],
             [
              0.6666666666666666,
              "#ed7953"
             ],
             [
              0.7777777777777778,
              "#fb9f3a"
             ],
             [
              0.8888888888888888,
              "#fdca26"
             ],
             [
              1,
              "#f0f921"
             ]
            ],
            "type": "heatmapgl"
           }
          ],
          "histogram": [
           {
            "marker": {
             "colorbar": {
              "outlinewidth": 0,
              "ticks": ""
             }
            },
            "type": "histogram"
           }
          ],
          "histogram2d": [
           {
            "colorbar": {
             "outlinewidth": 0,
             "ticks": ""
            },
            "colorscale": [
             [
              0,
              "#0d0887"
             ],
             [
              0.1111111111111111,
              "#46039f"
             ],
             [
              0.2222222222222222,
              "#7201a8"
             ],
             [
              0.3333333333333333,
              "#9c179e"
             ],
             [
              0.4444444444444444,
              "#bd3786"
             ],
             [
              0.5555555555555556,
              "#d8576b"
             ],
             [
              0.6666666666666666,
              "#ed7953"
             ],
             [
              0.7777777777777778,
              "#fb9f3a"
             ],
             [
              0.8888888888888888,
              "#fdca26"
             ],
             [
              1,
              "#f0f921"
             ]
            ],
            "type": "histogram2d"
           }
          ],
          "histogram2dcontour": [
           {
            "colorbar": {
             "outlinewidth": 0,
             "ticks": ""
            },
            "colorscale": [
             [
              0,
              "#0d0887"
             ],
             [
              0.1111111111111111,
              "#46039f"
             ],
             [
              0.2222222222222222,
              "#7201a8"
             ],
             [
              0.3333333333333333,
              "#9c179e"
             ],
             [
              0.4444444444444444,
              "#bd3786"
             ],
             [
              0.5555555555555556,
              "#d8576b"
             ],
             [
              0.6666666666666666,
              "#ed7953"
             ],
             [
              0.7777777777777778,
              "#fb9f3a"
             ],
             [
              0.8888888888888888,
              "#fdca26"
             ],
             [
              1,
              "#f0f921"
             ]
            ],
            "type": "histogram2dcontour"
           }
          ],
          "mesh3d": [
           {
            "colorbar": {
             "outlinewidth": 0,
             "ticks": ""
            },
            "type": "mesh3d"
           }
          ],
          "parcoords": [
           {
            "line": {
             "colorbar": {
              "outlinewidth": 0,
              "ticks": ""
             }
            },
            "type": "parcoords"
           }
          ],
          "pie": [
           {
            "automargin": true,
            "type": "pie"
           }
          ],
          "scatter": [
           {
            "marker": {
             "colorbar": {
              "outlinewidth": 0,
              "ticks": ""
             }
            },
            "type": "scatter"
           }
          ],
          "scatter3d": [
           {
            "line": {
             "colorbar": {
              "outlinewidth": 0,
              "ticks": ""
             }
            },
            "marker": {
             "colorbar": {
              "outlinewidth": 0,
              "ticks": ""
             }
            },
            "type": "scatter3d"
           }
          ],
          "scattercarpet": [
           {
            "marker": {
             "colorbar": {
              "outlinewidth": 0,
              "ticks": ""
             }
            },
            "type": "scattercarpet"
           }
          ],
          "scattergeo": [
           {
            "marker": {
             "colorbar": {
              "outlinewidth": 0,
              "ticks": ""
             }
            },
            "type": "scattergeo"
           }
          ],
          "scattergl": [
           {
            "marker": {
             "colorbar": {
              "outlinewidth": 0,
              "ticks": ""
             }
            },
            "type": "scattergl"
           }
          ],
          "scattermapbox": [
           {
            "marker": {
             "colorbar": {
              "outlinewidth": 0,
              "ticks": ""
             }
            },
            "type": "scattermapbox"
           }
          ],
          "scatterpolar": [
           {
            "marker": {
             "colorbar": {
              "outlinewidth": 0,
              "ticks": ""
             }
            },
            "type": "scatterpolar"
           }
          ],
          "scatterpolargl": [
           {
            "marker": {
             "colorbar": {
              "outlinewidth": 0,
              "ticks": ""
             }
            },
            "type": "scatterpolargl"
           }
          ],
          "scatterternary": [
           {
            "marker": {
             "colorbar": {
              "outlinewidth": 0,
              "ticks": ""
             }
            },
            "type": "scatterternary"
           }
          ],
          "surface": [
           {
            "colorbar": {
             "outlinewidth": 0,
             "ticks": ""
            },
            "colorscale": [
             [
              0,
              "#0d0887"
             ],
             [
              0.1111111111111111,
              "#46039f"
             ],
             [
              0.2222222222222222,
              "#7201a8"
             ],
             [
              0.3333333333333333,
              "#9c179e"
             ],
             [
              0.4444444444444444,
              "#bd3786"
             ],
             [
              0.5555555555555556,
              "#d8576b"
             ],
             [
              0.6666666666666666,
              "#ed7953"
             ],
             [
              0.7777777777777778,
              "#fb9f3a"
             ],
             [
              0.8888888888888888,
              "#fdca26"
             ],
             [
              1,
              "#f0f921"
             ]
            ],
            "type": "surface"
           }
          ],
          "table": [
           {
            "cells": {
             "fill": {
              "color": "#EBF0F8"
             },
             "line": {
              "color": "white"
             }
            },
            "header": {
             "fill": {
              "color": "#C8D4E3"
             },
             "line": {
              "color": "white"
             }
            },
            "type": "table"
           }
          ]
         },
         "layout": {
          "annotationdefaults": {
           "arrowcolor": "#2a3f5f",
           "arrowhead": 0,
           "arrowwidth": 1
          },
          "coloraxis": {
           "colorbar": {
            "outlinewidth": 0,
            "ticks": ""
           }
          },
          "colorscale": {
           "diverging": [
            [
             0,
             "#8e0152"
            ],
            [
             0.1,
             "#c51b7d"
            ],
            [
             0.2,
             "#de77ae"
            ],
            [
             0.3,
             "#f1b6da"
            ],
            [
             0.4,
             "#fde0ef"
            ],
            [
             0.5,
             "#f7f7f7"
            ],
            [
             0.6,
             "#e6f5d0"
            ],
            [
             0.7,
             "#b8e186"
            ],
            [
             0.8,
             "#7fbc41"
            ],
            [
             0.9,
             "#4d9221"
            ],
            [
             1,
             "#276419"
            ]
           ],
           "sequential": [
            [
             0,
             "#0d0887"
            ],
            [
             0.1111111111111111,
             "#46039f"
            ],
            [
             0.2222222222222222,
             "#7201a8"
            ],
            [
             0.3333333333333333,
             "#9c179e"
            ],
            [
             0.4444444444444444,
             "#bd3786"
            ],
            [
             0.5555555555555556,
             "#d8576b"
            ],
            [
             0.6666666666666666,
             "#ed7953"
            ],
            [
             0.7777777777777778,
             "#fb9f3a"
            ],
            [
             0.8888888888888888,
             "#fdca26"
            ],
            [
             1,
             "#f0f921"
            ]
           ],
           "sequentialminus": [
            [
             0,
             "#0d0887"
            ],
            [
             0.1111111111111111,
             "#46039f"
            ],
            [
             0.2222222222222222,
             "#7201a8"
            ],
            [
             0.3333333333333333,
             "#9c179e"
            ],
            [
             0.4444444444444444,
             "#bd3786"
            ],
            [
             0.5555555555555556,
             "#d8576b"
            ],
            [
             0.6666666666666666,
             "#ed7953"
            ],
            [
             0.7777777777777778,
             "#fb9f3a"
            ],
            [
             0.8888888888888888,
             "#fdca26"
            ],
            [
             1,
             "#f0f921"
            ]
           ]
          },
          "colorway": [
           "#636efa",
           "#EF553B",
           "#00cc96",
           "#ab63fa",
           "#FFA15A",
           "#19d3f3",
           "#FF6692",
           "#B6E880",
           "#FF97FF",
           "#FECB52"
          ],
          "font": {
           "color": "#2a3f5f"
          },
          "geo": {
           "bgcolor": "white",
           "lakecolor": "white",
           "landcolor": "#E5ECF6",
           "showlakes": true,
           "showland": true,
           "subunitcolor": "white"
          },
          "hoverlabel": {
           "align": "left"
          },
          "hovermode": "closest",
          "mapbox": {
           "style": "light"
          },
          "paper_bgcolor": "white",
          "plot_bgcolor": "#E5ECF6",
          "polar": {
           "angularaxis": {
            "gridcolor": "white",
            "linecolor": "white",
            "ticks": ""
           },
           "bgcolor": "#E5ECF6",
           "radialaxis": {
            "gridcolor": "white",
            "linecolor": "white",
            "ticks": ""
           }
          },
          "scene": {
           "xaxis": {
            "backgroundcolor": "#E5ECF6",
            "gridcolor": "white",
            "gridwidth": 2,
            "linecolor": "white",
            "showbackground": true,
            "ticks": "",
            "zerolinecolor": "white"
           },
           "yaxis": {
            "backgroundcolor": "#E5ECF6",
            "gridcolor": "white",
            "gridwidth": 2,
            "linecolor": "white",
            "showbackground": true,
            "ticks": "",
            "zerolinecolor": "white"
           },
           "zaxis": {
            "backgroundcolor": "#E5ECF6",
            "gridcolor": "white",
            "gridwidth": 2,
            "linecolor": "white",
            "showbackground": true,
            "ticks": "",
            "zerolinecolor": "white"
           }
          },
          "shapedefaults": {
           "line": {
            "color": "#2a3f5f"
           }
          },
          "ternary": {
           "aaxis": {
            "gridcolor": "white",
            "linecolor": "white",
            "ticks": ""
           },
           "baxis": {
            "gridcolor": "white",
            "linecolor": "white",
            "ticks": ""
           },
           "bgcolor": "#E5ECF6",
           "caxis": {
            "gridcolor": "white",
            "linecolor": "white",
            "ticks": ""
           }
          },
          "title": {
           "x": 0.05
          },
          "xaxis": {
           "automargin": true,
           "gridcolor": "white",
           "linecolor": "white",
           "ticks": "",
           "title": {
            "standoff": 15
           },
           "zerolinecolor": "white",
           "zerolinewidth": 2
          },
          "yaxis": {
           "automargin": true,
           "gridcolor": "white",
           "linecolor": "white",
           "ticks": "",
           "title": {
            "standoff": 15
           },
           "zerolinecolor": "white",
           "zerolinewidth": 2
          }
         }
        }
       }
      },
      "text/html": [
       "<div>\n",
       "        \n",
       "        \n",
       "            <div id=\"b37c5765-b00b-42b5-8158-012d6d7047b8\" class=\"plotly-graph-div\" style=\"height:300px; width:100%;\"></div>\n",
       "            <script type=\"text/javascript\">\n",
       "                require([\"plotly\"], function(Plotly) {\n",
       "                    window.PLOTLYENV=window.PLOTLYENV || {};\n",
       "                    \n",
       "                if (document.getElementById(\"b37c5765-b00b-42b5-8158-012d6d7047b8\")) {\n",
       "                    Plotly.newPlot(\n",
       "                        'b37c5765-b00b-42b5-8158-012d6d7047b8',\n",
       "                        [{\"hovertemplate\": \"lat=%{lat}<br>lon=%{lon}<br>label=%{marker.color}<extra></extra>\", \"lat\": [47.68665984, 47.68667121, 47.68676218, 47.68762722, 47.68768801, 47.68804206, 47.68801538, 47.6879706, 47.68792295, 47.68787753, 47.68782726, 47.6877789, 47.68756102, 47.68761922, 47.68768563, 47.68775998, 47.68783665, 47.68791626, 47.68799269, 47.68806131, 47.68812369, 47.68820032, 47.68825905, 47.68831169, 47.68835893, 47.68841748, 47.68849519, 47.68858279, 47.68867467, 47.68873776, 47.68879749, 47.68884378, 47.68885578, 47.68891284, 47.68896433, 47.68903234, 47.68911167, 47.68921445, 47.68931763, 47.68942127, 47.68953453, 47.68962588, 47.68972278, 47.68981035, 47.68988973, 47.68994898, 47.69008998, 47.69010657, 47.69016626, 47.69024011, 47.69032164, 47.69040079, 47.69050142, 47.690612, 47.69072759, 47.69083753, 47.69093664, 47.69102771, 47.69111013, 47.69117196, 47.6912217, 47.69132114, 47.69140974, 47.69145822, 47.69147617, 47.69154609, 47.69162193, 47.69167722, 47.69177272, 47.69187806, 47.69198545, 47.69208711, 47.69218678, 47.69228142, 47.69235032, 47.69250453, 47.69261783, 47.69272705, 47.69283084, 47.69293053, 47.69304701, 47.69309285, 47.69309591, 47.6930578, 47.69300756, 47.69296184, 47.69292154, 47.69288446, 47.69284882, 47.69281844, 47.69278882, 47.69276402, 47.69274281, 47.69271873, 47.69269254, 47.69266343, 47.6926363, 47.69260458, 47.69256766, 47.69253059, 47.692493, 47.69245136, 47.69240901, 47.69238901, 47.69232583, 47.69228724, 47.69225087, 47.69221529, 47.69217992, 47.6921442, 47.69210887, 47.69207411, 47.6920397, 47.69200459, 47.6919681, 47.69193712, 47.69187963, 47.69182161, 47.69177726, 47.69173315, 47.69169176, 47.69165034, 47.69161328, 47.69158298, 47.6915538, 47.69153011, 47.69168912, 47.69174523, 47.69181536, 47.69181504, 47.69179735, 47.69176045, 47.69168864, 47.69161042, 47.69153226, 47.69146226, 47.69140207, 47.69134365, 47.69128459, 47.69122307, 47.69116487, 47.69111055, 47.69105319, 47.69100432, 47.69095176, 47.69090081, 47.690853, 47.6908024, 47.69075681, 47.69071456, 47.69066853, 47.69062441, 47.69057646, 47.69053201, 47.69048457, 47.69044549, 47.69040637, 47.69036752, 47.69033276, 47.6902902, 47.69025154, 47.69021265, 47.69016252, 47.6901187, 47.69004838, 47.68997983, 47.68992432, 47.68979409, 47.6898357, 47.68988918, 47.69006894, 47.69010222, 47.69017594, 47.6902368, 47.69029484, 47.69036076, 47.69043266, 47.69050363, 47.69057054, 47.69063689, 47.69070681, 47.69077352, 47.69084168, 47.69091108, 47.6909765, 47.6910398, 47.69110853, 47.69117573, 47.69125073, 47.69132377, 47.69139419, 47.69142251, 47.69155295, 47.69163218, 47.69171042, 47.69178525, 47.69186282, 47.69194334, 47.69202598, 47.69210896, 47.69219036, 47.69227079, 47.69234887, 47.69242754, 47.69250742, 47.69259167, 47.69266865, 47.69274671, 47.69278558, 47.69290576, 47.69297983, 47.69304463, 47.69310142, 47.69315656, 47.69319669, 47.69324583, 47.69330218, 47.69336647, 47.69343036, 47.69349521, 47.69356138, 47.69362799, 47.69369072, 47.69375265, 47.69380854, 47.69385455, 47.69406205, 47.69411331, 47.69419442, 47.69420358, 47.6943144, 47.69441258, 47.69452494, 47.69464278, 47.69476884, 47.6948871, 47.69499469, 47.69510915, 47.69520972, 47.69533651, 47.69546008, 47.69557367, 47.69565346, 47.69582974, 47.69596818, 47.69610101, 47.69623501, 47.69636779, 47.69649724, 47.69662743, 47.69676009, 47.69688958, 47.69701574, 47.69714259, 47.69727226, 47.69740957, 47.69754664, 47.69768588, 47.69782108, 47.69796356, 47.69803105, 47.69823863, 47.69838098, 47.69851852, 47.69865721, 47.69879953, 47.69893644, 47.69907595, 47.69921466, 47.69935268, 47.69948748, 47.69962116, 47.69969506, 47.69989098, 47.70002177, 47.70015575, 47.70028855, 47.70042128, 47.70055367, 47.70068432, 47.70081766, 47.70095188, 47.70108469, 47.70121731, 47.70135216, 47.70148582, 47.70161956, 47.70175387, 47.70188748, 47.70202267, 47.70215877, 47.70229535, 47.7024338, 47.70257109, 47.70271129, 47.70285103, 47.70299285, 47.70313696, 47.70327759, 47.70342045, 47.70356175], \"legendgroup\": \"\", \"lon\": [17.64932557, 17.64923157, 17.64922868, 17.64837152, 17.64830931, 17.64778528, 17.64770828, 17.64761739, 17.64752929, 17.64745575, 17.64736435, 17.64727831, 17.64667027, 17.64654016, 17.64637826, 17.64622038, 17.64605247, 17.64588495, 17.64572646, 17.64557904, 17.64546214, 17.64533582, 17.64524483, 17.64516795, 17.64510898, 17.6450485, 17.64501534, 17.64499172, 17.6449543, 17.6449034, 17.64481246, 17.64466405, 17.64453713, 17.6443134, 17.64414537, 17.64399471, 17.64386249, 17.64373841, 17.64363837, 17.64353331, 17.64343073, 17.64334612, 17.64326374, 17.64318621, 17.64311906, 17.64307739, 17.64306276, 17.64309139, 17.64318403, 17.64324812, 17.6432854, 17.64328556, 17.64324585, 17.64315811, 17.64304933, 17.64294434, 17.64284927, 17.64276721, 17.64270777, 17.64265888, 17.64261955, 17.64265718, 17.6426875, 17.64274809, 17.64286492, 17.64294513, 17.64290487, 17.64275989, 17.64268117, 17.64262065, 17.64256769, 17.64251839, 17.64247007, 17.64242417, 17.64239076, 17.64234049, 17.64230361, 17.64226806, 17.64223414, 17.64219693, 17.64213743, 17.64209361, 17.64188485, 17.64179535, 17.64166677, 17.64152166, 17.64138543, 17.64126107, 17.64114414, 17.64104448, 17.64094836, 17.64086951, 17.64080469, 17.64073206, 17.64065814, 17.64057595, 17.64049937, 17.6404103, 17.64030786, 17.64020496, 17.64010065, 17.6399851, 17.63986756, 17.63981207, 17.63961438, 17.63949359, 17.63937973, 17.63927017, 17.63916243, 17.63905377, 17.63894781, 17.63884356, 17.63874034, 17.63863505, 17.63852561, 17.63844744, 17.63835017, 17.63819679, 17.63807662, 17.63795708, 17.63784494, 17.63773272, 17.63763231, 17.63755021, 17.63747116, 17.63740695, 17.63705981, 17.63699559, 17.6368559, 17.63685344, 17.63675178, 17.63667271, 17.63656464, 17.63644609, 17.63631756, 17.63617727, 17.63602219, 17.63587168, 17.63570393, 17.63554407, 17.63537872, 17.63522245, 17.63505215, 17.63490439, 17.63474424, 17.63458475, 17.63443103, 17.63426774, 17.63410657, 17.63395015, 17.63377977, 17.63362566, 17.63346066, 17.63330771, 17.63313813, 17.6329925, 17.63283876, 17.632683, 17.63254363, 17.63239658, 17.63226505, 17.63214396, 17.63204136, 17.63195937, 17.63193133, 17.63192991, 17.63195854, 17.6325124, 17.63257046, 17.63261846, 17.63247226, 17.63245071, 17.63240919, 17.63237357, 17.63233556, 17.63229236, 17.63224641, 17.63220228, 17.63216069, 17.63211944, 17.63207597, 17.63203449, 17.63199212, 17.63194897, 17.63190831, 17.63186895, 17.63182608, 17.63178409, 17.63173722, 17.6316913, 17.6316469, 17.63162904, 17.63154055, 17.63148646, 17.631433, 17.63138187, 17.6313306, 17.63127949, 17.63122704, 17.63117437, 17.63112271, 17.63107166, 17.6310221, 17.63097217, 17.63092147, 17.63086799, 17.63081914, 17.63076959, 17.63074491, 17.63067349, 17.63062955, 17.6305911, 17.63055741, 17.6305247, 17.63050089, 17.63047174, 17.63043831, 17.63040016, 17.63036226, 17.63032378, 17.63028453, 17.630245, 17.63020778, 17.63017102, 17.63013784, 17.63011054, 17.63019127, 17.63020038, 17.63019246, 17.63018723, 17.63005807, 17.63003756, 17.63005126, 17.63007026, 17.63005853, 17.63006446, 17.6300662, 17.63005824, 17.63003577, 17.62999569, 17.62994778, 17.62990134, 17.62986872, 17.62980624, 17.6297572, 17.6297106, 17.62966419, 17.62961822, 17.62957339, 17.6295283, 17.62948237, 17.62943753, 17.62939924, 17.62936644, 17.62934664, 17.62933623, 17.62933544, 17.62933883, 17.62934133, 17.62933794, 17.62933483, 17.62936701, 17.62938273, 17.62939291, 17.62940318, 17.62941372, 17.62942386, 17.62943419, 17.62944771, 17.62946679, 17.62948079, 17.62949251, 17.62949899, 17.6295411, 17.62956949, 17.62960116, 17.62963569, 17.62967226, 17.62970921, 17.62974648, 17.62978453, 17.62983045, 17.62988032, 17.62993013, 17.62998077, 17.63003096, 17.63008102, 17.630129, 17.63017497, 17.63021741, 17.63025667, 17.63029559, 17.63033662, 17.63037905, 17.63042273, 17.63046782, 17.63051358, 17.63056009, 17.63060546, 17.63065156, 17.63069716], \"marker\": {\"color\": [0, 0, 0, 0, 0, 1, 0, 0, 0, 0, 0, 0, 0, 1, 0, 1, 0, 0, 0, 1, 1, 1, 1, 1, 0, 0, 0, 1, 1, 0, 1, 0, 0, 1, 0, 1, 1, 0, 0, 0, 1, 1, 1, 1, 0, 1, 1, 0, 0, 0, 0, 0, 1, 1, 1, 1, 1, 0, 0, 0, 1, 0, 0, 1, 0, 0, 1, 0, 1, 1, 1, 0, 1, 1, 1, 1, 1, 0, 0, 0, 0, 0, 1, 1, 0, 0, 0, 0, 0, 0, 0, 0, 0, 0, 1, 0, 0, 1, 0, 0, 1, 1, 1, 1, 0, 0, 0, 0, 0, 0, 0, 0, 0, 0, 0, 0, 1, 0, 0, 0, 0, 0, 0, 0, 0, 0, 1, 0, 0, 0, 0, 0, 0, 0, 0, 0, 0, 0, 0, 0, 0, 0, 0, 0, 0, 0, 0, 0, 0, 0, 0, 0, 0, 0, 0, 0, 0, 0, 0, 0, 0, 0, 0, 0, 0, 0, 0, 0, 0, 0, 0, 1, 0, 0, 0, 0, 0, 0, 0, 0, 0, 0, 0, 0, 0, 0, 1, 0, 0, 0, 0, 1, 0, 1, 0, 0, 0, 0, 1, 1, 1, 0, 0, 0, 0, 1, 1, 0, 0, 0, 1, 0, 0, 0, 0, 0, 0, 1, 0, 1, 0, 0, 0, 0, 0, 0, 0, 1, 1, 1, 0, 0, 1, 0, 0, 0, 0, 0, 1, 1, 0, 1, 1, 1, 1, 1, 1, 1, 1, 1, 1, 1, 0, 0, 0, 0, 0, 0, 1, 1, 1, 0, 0, 0, 1, 0, 1, 0, 0, 1, 1, 0, 1, 0, 0, 0, 0, 0, 0, 1, 0, 0, 0, 0, 0, 0, 1, 0, 0, 0, 0, 0, 1, 1, 0, 0, 0, 0, 0, 1, 1], \"coloraxis\": \"coloraxis\"}, \"mode\": \"markers\", \"name\": \"\", \"showlegend\": false, \"subplot\": \"mapbox\", \"type\": \"scattermapbox\"}],\n",
       "                        {\"coloraxis\": {\"colorbar\": {\"title\": {\"text\": \"label\"}}, \"colorscale\": [[0.0, \"green\"], [1.0, \"red\"]], \"showscale\": false}, \"height\": 300, \"legend\": {\"tracegroupgap\": 0}, \"mapbox\": {\"center\": {\"lat\": 47.692899581528245, \"lon\": 17.636138610531564}, \"domain\": {\"x\": [0.0, 1.0], \"y\": [0.0, 1.0]}, \"style\": \"open-street-map\", \"zoom\": 12}, \"margin\": {\"b\": 0, \"l\": 0, \"r\": 0, \"t\": 0}, \"template\": {\"data\": {\"bar\": [{\"error_x\": {\"color\": \"#2a3f5f\"}, \"error_y\": {\"color\": \"#2a3f5f\"}, \"marker\": {\"line\": {\"color\": \"#E5ECF6\", \"width\": 0.5}}, \"type\": \"bar\"}], \"barpolar\": [{\"marker\": {\"line\": {\"color\": \"#E5ECF6\", \"width\": 0.5}}, \"type\": \"barpolar\"}], \"carpet\": [{\"aaxis\": {\"endlinecolor\": \"#2a3f5f\", \"gridcolor\": \"white\", \"linecolor\": \"white\", \"minorgridcolor\": \"white\", \"startlinecolor\": \"#2a3f5f\"}, \"baxis\": {\"endlinecolor\": \"#2a3f5f\", \"gridcolor\": \"white\", \"linecolor\": \"white\", \"minorgridcolor\": \"white\", \"startlinecolor\": \"#2a3f5f\"}, \"type\": \"carpet\"}], \"choropleth\": [{\"colorbar\": {\"outlinewidth\": 0, \"ticks\": \"\"}, \"type\": \"choropleth\"}], \"contour\": [{\"colorbar\": {\"outlinewidth\": 0, \"ticks\": \"\"}, \"colorscale\": [[0.0, \"#0d0887\"], [0.1111111111111111, \"#46039f\"], [0.2222222222222222, \"#7201a8\"], [0.3333333333333333, \"#9c179e\"], [0.4444444444444444, \"#bd3786\"], [0.5555555555555556, \"#d8576b\"], [0.6666666666666666, \"#ed7953\"], [0.7777777777777778, \"#fb9f3a\"], [0.8888888888888888, \"#fdca26\"], [1.0, \"#f0f921\"]], \"type\": \"contour\"}], \"contourcarpet\": [{\"colorbar\": {\"outlinewidth\": 0, \"ticks\": \"\"}, \"type\": \"contourcarpet\"}], \"heatmap\": [{\"colorbar\": {\"outlinewidth\": 0, \"ticks\": \"\"}, \"colorscale\": [[0.0, \"#0d0887\"], [0.1111111111111111, \"#46039f\"], [0.2222222222222222, \"#7201a8\"], [0.3333333333333333, \"#9c179e\"], [0.4444444444444444, \"#bd3786\"], [0.5555555555555556, \"#d8576b\"], [0.6666666666666666, \"#ed7953\"], [0.7777777777777778, \"#fb9f3a\"], [0.8888888888888888, \"#fdca26\"], [1.0, \"#f0f921\"]], \"type\": \"heatmap\"}], \"heatmapgl\": [{\"colorbar\": {\"outlinewidth\": 0, \"ticks\": \"\"}, \"colorscale\": [[0.0, \"#0d0887\"], [0.1111111111111111, \"#46039f\"], [0.2222222222222222, \"#7201a8\"], [0.3333333333333333, \"#9c179e\"], [0.4444444444444444, \"#bd3786\"], [0.5555555555555556, \"#d8576b\"], [0.6666666666666666, \"#ed7953\"], [0.7777777777777778, \"#fb9f3a\"], [0.8888888888888888, \"#fdca26\"], [1.0, \"#f0f921\"]], \"type\": \"heatmapgl\"}], \"histogram\": [{\"marker\": {\"colorbar\": {\"outlinewidth\": 0, \"ticks\": \"\"}}, \"type\": \"histogram\"}], \"histogram2d\": [{\"colorbar\": {\"outlinewidth\": 0, \"ticks\": \"\"}, \"colorscale\": [[0.0, \"#0d0887\"], [0.1111111111111111, \"#46039f\"], [0.2222222222222222, \"#7201a8\"], [0.3333333333333333, \"#9c179e\"], [0.4444444444444444, \"#bd3786\"], [0.5555555555555556, \"#d8576b\"], [0.6666666666666666, \"#ed7953\"], [0.7777777777777778, \"#fb9f3a\"], [0.8888888888888888, \"#fdca26\"], [1.0, \"#f0f921\"]], \"type\": \"histogram2d\"}], \"histogram2dcontour\": [{\"colorbar\": {\"outlinewidth\": 0, \"ticks\": \"\"}, \"colorscale\": [[0.0, \"#0d0887\"], [0.1111111111111111, \"#46039f\"], [0.2222222222222222, \"#7201a8\"], [0.3333333333333333, \"#9c179e\"], [0.4444444444444444, \"#bd3786\"], [0.5555555555555556, \"#d8576b\"], [0.6666666666666666, \"#ed7953\"], [0.7777777777777778, \"#fb9f3a\"], [0.8888888888888888, \"#fdca26\"], [1.0, \"#f0f921\"]], \"type\": \"histogram2dcontour\"}], \"mesh3d\": [{\"colorbar\": {\"outlinewidth\": 0, \"ticks\": \"\"}, \"type\": \"mesh3d\"}], \"parcoords\": [{\"line\": {\"colorbar\": {\"outlinewidth\": 0, \"ticks\": \"\"}}, \"type\": \"parcoords\"}], \"pie\": [{\"automargin\": true, \"type\": \"pie\"}], \"scatter\": [{\"marker\": {\"colorbar\": {\"outlinewidth\": 0, \"ticks\": \"\"}}, \"type\": \"scatter\"}], \"scatter3d\": [{\"line\": {\"colorbar\": {\"outlinewidth\": 0, \"ticks\": \"\"}}, \"marker\": {\"colorbar\": {\"outlinewidth\": 0, \"ticks\": \"\"}}, \"type\": \"scatter3d\"}], \"scattercarpet\": [{\"marker\": {\"colorbar\": {\"outlinewidth\": 0, \"ticks\": \"\"}}, \"type\": \"scattercarpet\"}], \"scattergeo\": [{\"marker\": {\"colorbar\": {\"outlinewidth\": 0, \"ticks\": \"\"}}, \"type\": \"scattergeo\"}], \"scattergl\": [{\"marker\": {\"colorbar\": {\"outlinewidth\": 0, \"ticks\": \"\"}}, \"type\": \"scattergl\"}], \"scattermapbox\": [{\"marker\": {\"colorbar\": {\"outlinewidth\": 0, \"ticks\": \"\"}}, \"type\": \"scattermapbox\"}], \"scatterpolar\": [{\"marker\": {\"colorbar\": {\"outlinewidth\": 0, \"ticks\": \"\"}}, \"type\": \"scatterpolar\"}], \"scatterpolargl\": [{\"marker\": {\"colorbar\": {\"outlinewidth\": 0, \"ticks\": \"\"}}, \"type\": \"scatterpolargl\"}], \"scatterternary\": [{\"marker\": {\"colorbar\": {\"outlinewidth\": 0, \"ticks\": \"\"}}, \"type\": \"scatterternary\"}], \"surface\": [{\"colorbar\": {\"outlinewidth\": 0, \"ticks\": \"\"}, \"colorscale\": [[0.0, \"#0d0887\"], [0.1111111111111111, \"#46039f\"], [0.2222222222222222, \"#7201a8\"], [0.3333333333333333, \"#9c179e\"], [0.4444444444444444, \"#bd3786\"], [0.5555555555555556, \"#d8576b\"], [0.6666666666666666, \"#ed7953\"], [0.7777777777777778, \"#fb9f3a\"], [0.8888888888888888, \"#fdca26\"], [1.0, \"#f0f921\"]], \"type\": \"surface\"}], \"table\": [{\"cells\": {\"fill\": {\"color\": \"#EBF0F8\"}, \"line\": {\"color\": \"white\"}}, \"header\": {\"fill\": {\"color\": \"#C8D4E3\"}, \"line\": {\"color\": \"white\"}}, \"type\": \"table\"}]}, \"layout\": {\"annotationdefaults\": {\"arrowcolor\": \"#2a3f5f\", \"arrowhead\": 0, \"arrowwidth\": 1}, \"coloraxis\": {\"colorbar\": {\"outlinewidth\": 0, \"ticks\": \"\"}}, \"colorscale\": {\"diverging\": [[0, \"#8e0152\"], [0.1, \"#c51b7d\"], [0.2, \"#de77ae\"], [0.3, \"#f1b6da\"], [0.4, \"#fde0ef\"], [0.5, \"#f7f7f7\"], [0.6, \"#e6f5d0\"], [0.7, \"#b8e186\"], [0.8, \"#7fbc41\"], [0.9, \"#4d9221\"], [1, \"#276419\"]], \"sequential\": [[0.0, \"#0d0887\"], [0.1111111111111111, \"#46039f\"], [0.2222222222222222, \"#7201a8\"], [0.3333333333333333, \"#9c179e\"], [0.4444444444444444, \"#bd3786\"], [0.5555555555555556, \"#d8576b\"], [0.6666666666666666, \"#ed7953\"], [0.7777777777777778, \"#fb9f3a\"], [0.8888888888888888, \"#fdca26\"], [1.0, \"#f0f921\"]], \"sequentialminus\": [[0.0, \"#0d0887\"], [0.1111111111111111, \"#46039f\"], [0.2222222222222222, \"#7201a8\"], [0.3333333333333333, \"#9c179e\"], [0.4444444444444444, \"#bd3786\"], [0.5555555555555556, \"#d8576b\"], [0.6666666666666666, \"#ed7953\"], [0.7777777777777778, \"#fb9f3a\"], [0.8888888888888888, \"#fdca26\"], [1.0, \"#f0f921\"]]}, \"colorway\": [\"#636efa\", \"#EF553B\", \"#00cc96\", \"#ab63fa\", \"#FFA15A\", \"#19d3f3\", \"#FF6692\", \"#B6E880\", \"#FF97FF\", \"#FECB52\"], \"font\": {\"color\": \"#2a3f5f\"}, \"geo\": {\"bgcolor\": \"white\", \"lakecolor\": \"white\", \"landcolor\": \"#E5ECF6\", \"showlakes\": true, \"showland\": true, \"subunitcolor\": \"white\"}, \"hoverlabel\": {\"align\": \"left\"}, \"hovermode\": \"closest\", \"mapbox\": {\"style\": \"light\"}, \"paper_bgcolor\": \"white\", \"plot_bgcolor\": \"#E5ECF6\", \"polar\": {\"angularaxis\": {\"gridcolor\": \"white\", \"linecolor\": \"white\", \"ticks\": \"\"}, \"bgcolor\": \"#E5ECF6\", \"radialaxis\": {\"gridcolor\": \"white\", \"linecolor\": \"white\", \"ticks\": \"\"}}, \"scene\": {\"xaxis\": {\"backgroundcolor\": \"#E5ECF6\", \"gridcolor\": \"white\", \"gridwidth\": 2, \"linecolor\": \"white\", \"showbackground\": true, \"ticks\": \"\", \"zerolinecolor\": \"white\"}, \"yaxis\": {\"backgroundcolor\": \"#E5ECF6\", \"gridcolor\": \"white\", \"gridwidth\": 2, \"linecolor\": \"white\", \"showbackground\": true, \"ticks\": \"\", \"zerolinecolor\": \"white\"}, \"zaxis\": {\"backgroundcolor\": \"#E5ECF6\", \"gridcolor\": \"white\", \"gridwidth\": 2, \"linecolor\": \"white\", \"showbackground\": true, \"ticks\": \"\", \"zerolinecolor\": \"white\"}}, \"shapedefaults\": {\"line\": {\"color\": \"#2a3f5f\"}}, \"ternary\": {\"aaxis\": {\"gridcolor\": \"white\", \"linecolor\": \"white\", \"ticks\": \"\"}, \"baxis\": {\"gridcolor\": \"white\", \"linecolor\": \"white\", \"ticks\": \"\"}, \"bgcolor\": \"#E5ECF6\", \"caxis\": {\"gridcolor\": \"white\", \"linecolor\": \"white\", \"ticks\": \"\"}}, \"title\": {\"x\": 0.05}, \"xaxis\": {\"automargin\": true, \"gridcolor\": \"white\", \"linecolor\": \"white\", \"ticks\": \"\", \"title\": {\"standoff\": 15}, \"zerolinecolor\": \"white\", \"zerolinewidth\": 2}, \"yaxis\": {\"automargin\": true, \"gridcolor\": \"white\", \"linecolor\": \"white\", \"ticks\": \"\", \"title\": {\"standoff\": 15}, \"zerolinecolor\": \"white\", \"zerolinewidth\": 2}}}},\n",
       "                        {\"responsive\": true}\n",
       "                    ).then(function(){\n",
       "                            \n",
       "var gd = document.getElementById('b37c5765-b00b-42b5-8158-012d6d7047b8');\n",
       "var x = new MutationObserver(function (mutations, observer) {{\n",
       "        var display = window.getComputedStyle(gd).display;\n",
       "        if (!display || display === 'none') {{\n",
       "            console.log([gd, 'removed!']);\n",
       "            Plotly.purge(gd);\n",
       "            observer.disconnect();\n",
       "        }}\n",
       "}});\n",
       "\n",
       "// Listen for the removal of the full notebook cells\n",
       "var notebookContainer = gd.closest('#notebook-container');\n",
       "if (notebookContainer) {{\n",
       "    x.observe(notebookContainer, {childList: true});\n",
       "}}\n",
       "\n",
       "// Listen for the clearing of the current output cell\n",
       "var outputEl = gd.closest('.output');\n",
       "if (outputEl) {{\n",
       "    x.observe(outputEl, {childList: true});\n",
       "}}\n",
       "\n",
       "                        })\n",
       "                };\n",
       "                });\n",
       "            </script>\n",
       "        </div>"
      ]
     },
     "metadata": {},
     "output_type": "display_data"
    }
   ],
   "source": [
    "iplot(check_quality(ok, model))\n",
    "iplot(check_quality(nok, model))\n",
    "iplot(check_quality(test, model))"
   ]
  },
  {
   "cell_type": "code",
   "execution_count": null,
   "metadata": {},
   "outputs": [],
   "source": []
  }
 ],
 "metadata": {
  "kernelspec": {
   "display_name": "Python 3",
   "language": "python",
   "name": "python3"
  },
  "language_info": {
   "codemirror_mode": {
    "name": "ipython",
    "version": 3
   },
   "file_extension": ".py",
   "mimetype": "text/x-python",
   "name": "python",
   "nbconvert_exporter": "python",
   "pygments_lexer": "ipython3",
   "version": "3.7.5"
  },
  "notify_time": "5",
  "toc": {
   "base_numbering": 1,
   "nav_menu": {},
   "number_sections": true,
   "sideBar": true,
   "skip_h1_title": false,
   "title_cell": "Table of Contents",
   "title_sidebar": "Contents",
   "toc_cell": false,
   "toc_position": {},
   "toc_section_display": true,
   "toc_window_display": true
  },
  "varInspector": {
   "cols": {
    "lenName": 16,
    "lenType": 16,
    "lenVar": 40
   },
   "kernels_config": {
    "python": {
     "delete_cmd_postfix": "",
     "delete_cmd_prefix": "del ",
     "library": "var_list.py",
     "varRefreshCmd": "print(var_dic_list())"
    },
    "r": {
     "delete_cmd_postfix": ") ",
     "delete_cmd_prefix": "rm(",
     "library": "var_list.r",
     "varRefreshCmd": "cat(var_dic_list()) "
    }
   },
   "position": {
    "height": "646.719px",
    "left": "979.091px",
    "right": "20px",
    "top": "120px",
    "width": "350px"
   },
   "types_to_exclude": [
    "module",
    "function",
    "builtin_function_or_method",
    "instance",
    "_Feature"
   ],
   "window_display": false
  }
 },
 "nbformat": 4,
 "nbformat_minor": 4
}
>>>>>>> develop
