{
 "cells": [
  {
   "cell_type": "markdown",
   "metadata": {},
   "source": [
    "# Machine Learning"
   ]
  },
  {
   "cell_type": "markdown",
   "metadata": {},
   "source": [
    "## Import dependencies\n"
   ]
  },
  {
   "cell_type": "code",
   "execution_count": 1,
   "metadata": {
    "ExecuteTime": {
     "end_time": "2020-08-31T18:23:33.511083Z",
     "start_time": "2020-08-31T18:23:31.155617Z"
    }
   },
   "outputs": [],
   "source": [
    "import pandas as pd\n",
    "from sklearn.ensemble import RandomForestClassifier\n",
    "from sklearn.svm import SVC\n",
    "from sklearn.neighbors import KNeighborsClassifier\n",
    "from sklearn.ensemble import AdaBoostClassifier, GradientBoostingClassifier\n",
    "from sklearn.naive_bayes import GaussianNB\n",
    "from sklearn.linear_model import LogisticRegressionCV\n",
    "from sklearn.preprocessing import MinMaxScaler, StandardScaler\n",
    "from sklearn.metrics import accuracy_score, f1_score, precision_score, recall_score\n",
    "import matplotlib.pyplot as plt\n",
    "from sklearn.model_selection import cross_validate\n",
    "from sklearn.metrics import confusion_matrix\n",
    "import time\n",
    "import seaborn as sns"
   ]
  },
  {
   "cell_type": "markdown",
   "metadata": {},
   "source": [
    "## Read data"
   ]
  },
  {
   "cell_type": "code",
   "execution_count": 2,
   "metadata": {
    "ExecuteTime": {
     "end_time": "2020-08-31T18:23:33.610027Z",
     "start_time": "2020-08-31T18:23:33.594035Z"
    }
   },
   "outputs": [],
   "source": [
    "def read_train_test_data():\n",
    "    \"\"\"Returns: X_train, X_test, X_val, y_train, y_test, y_val\"\"\"\n",
    "    \n",
    "    X_train = pd.read_csv(\"../data/train_test_val/X_train.csv\", \n",
    "                          header=[0], index_col=0).reset_index(drop=True)\n",
    "    X_test = pd.read_csv(\"../data/train_test_val/X_test.csv\", \n",
    "                         header=[0], index_col=0).reset_index(drop=True)\n",
    "    X_val = pd.read_csv(\"../data/train_test_val/X_val.csv\", \n",
    "                        header=[0], index_col=0).reset_index(drop=True)\n",
    "    \n",
    "    X_train = X_train.drop([\"measurementID\",\"id_gps\"], axis=1)\n",
    "    X_val = X_val.drop([\"measurementID\",\"id_gps\"], axis=1)\n",
    "    X_test = X_test.drop([\"measurementID\",\"id_gps\"], axis=1)\n",
    "\n",
    "    y_train = pd.read_csv(\"../data/train_test_val/y_train.csv\", index_col=0)\\\n",
    "        .reset_index(drop=True).values.reshape(-1)\n",
    "    y_val = pd.read_csv(\"../data/train_test_val/y_val.csv\", index_col = 0)\\\n",
    "        .reset_index(drop=True).values.reshape(-1)\n",
    "    y_test = pd.read_csv(\"../data/train_test_val/y_test.csv\", index_col = 0)\\\n",
    "        .reset_index(drop=True).values.reshape(-1)\n",
    "    \n",
    "    return X_train, X_test, X_val, y_train, y_test, y_val"
   ]
  },
  {
   "cell_type": "markdown",
   "metadata": {},
   "source": [
    "### Creating ML Pipeline"
   ]
  },
  {
   "cell_type": "code",
   "execution_count": 6,
   "metadata": {
    "ExecuteTime": {
     "end_time": "2020-08-31T18:26:20.146327Z",
     "start_time": "2020-08-31T18:26:20.139331Z"
    }
   },
   "outputs": [],
   "source": [
    "def define_models():\n",
    "    \n",
    "    \"\"\"Defines the machine learning model for the data classification\n",
    "    \n",
    "    returns:\n",
    "        dictionary with the the ml models\n",
    "    \"\"\"\n",
    "    \n",
    "    rfc = RandomForestClassifier(random_state=42)\n",
    "    svc = SVC(random_state=42)\n",
    "    knc = KNeighborsClassifier()\n",
    "    abc = AdaBoostClassifier(random_state=42)\n",
    "    gbc = GradientBoostingClassifier(random_state=42)\n",
    "    gnb = GaussianNB()\n",
    "    # lr = LogisticRegressionCV(max_iter=500, random_state=42)\n",
    "\n",
    "    models = {\"rfc\": rfc,\"svc\": svc, \"knc\" : knc,\n",
    "              \"abc\" : abc, \"gbc\" : gbc, \"gnb\" :gnb}\n",
    "    \n",
    "    return models"
   ]
  },
  {
   "cell_type": "code",
   "execution_count": 7,
   "metadata": {
    "ExecuteTime": {
     "end_time": "2020-08-31T18:26:20.708239Z",
     "start_time": "2020-08-31T18:26:20.683253Z"
    },
    "scrolled": false
   },
   "outputs": [],
   "source": [
    "def train_models(models, scale_data = False):\n",
    "    \"\"\"Train machine learning models\n",
    "    args:\n",
    "        models (dic): dictionary of ml models keys: name of the ml model\n",
    "                      valus: the ml models\n",
    "        scale_data (boolen): a boolen to define weather you want to \n",
    "                             scale the data\n",
    "                             \n",
    "    returns:\n",
    "         summary dataframe with evaluation metrics for each model,\n",
    "         all trained model in a list\n",
    "    \n",
    "    \n",
    "    \"\"\"\n",
    "    \n",
    "    trained_models = []\n",
    "    \n",
    "    X_train, X_test, X_val, y_train, y_test, y_val = read_train_test_data()\n",
    "    \n",
    "    scaler = StandardScaler()\n",
    "    scaled_X_train = scaler.fit_transform(X_train) \n",
    "    scaled_X_val = scaler.fit_transform(X_val)\n",
    "    scaled_X_test = scaler.fit_transform(X_test)\n",
    "\n",
    "    if scale_data:\n",
    "        X_train = scaled_X_train\n",
    "        X_val = scaled_X_val\n",
    "        X_test = scaled_X_test \n",
    "        \n",
    "        \n",
    "        \n",
    "    result = {\"model\" : [],\n",
    "             \"accuracy\" : [],\n",
    "             \"precision\" : [],\n",
    "             \"recall\" : [],\n",
    "             \"cross_val_min\" : [],\n",
    "             \"cross_val_max\" : [],\n",
    "             \"cross_val_delta\" : []}\n",
    "    \n",
    "\n",
    "    print(models)\n",
    "\n",
    "    for m in models:\n",
    "        \n",
    "        start = time.time()\n",
    "\n",
    "        model = models[m].fit(X_train, y_train)\n",
    "        \n",
    "        end = time.time()\n",
    "        \n",
    "        print(f\"Training time for {m}: {end-start}s\")\n",
    "        \n",
    "        preds = model.predict(X_val)\n",
    "        accuracy = accuracy_score(y_val,preds)\n",
    "        precision = precision_score(y_val,preds,average=\"weighted\")\n",
    "        recall = recall_score(y_val,preds, average=\"weighted\")\n",
    "        f1 = f1_score(y_val, preds, average=\"weighted\")\n",
    "\n",
    "#         print(\"Metrics on Validation Dataset:\")\n",
    "#         print(\"\\n\")\n",
    "\n",
    "#         print(f\"Accuracy {m}: {accuracy}\")\n",
    "#         print(f\"Precision {m}: {precision}\")\n",
    "#         print(f\"Recall {m}: {recall}\")\n",
    "#         print(f\"F1 Score {m}: {f1}\")\n",
    "\n",
    "#         print(\"\\n\")\n",
    "#         print(\"Cross Validation on Test Dataset:\")\n",
    "#         print(\"\\n\")\n",
    "        cv = cross_validate(model,\n",
    "                            X =  X_test,\n",
    "                            y = y_test,\n",
    "                            cv = 10)\n",
    "\n",
    "#         print(\"{} accuracy is {:.2f}±{:.2f}\".format(m,cv[\"test_score\"].mean()*100,cv[\"test_score\"].std()*100))\n",
    "\n",
    "\n",
    "#         print(\"\\n\")\n",
    "#         print(\"Test Scores:\\n min: {}\\n max: {}\\n delta: {}\"\\\n",
    "#               .format(cv[\"test_score\"].min(), \n",
    "#                       cv[\"test_score\"].max(),\n",
    "#                       cv[\"test_score\"].max()-cv[\"test_score\"].min()))\n",
    "#         print(\"\\n\")\n",
    "#         print(\"*\"*20)\n",
    "#         print(\"\\n\")\n",
    "\n",
    "        cm = confusion_matrix(y_val,preds)\n",
    "\n",
    "        fig = plt.figure()\n",
    "        fig = plt.title(m)\n",
    "        sns.heatmap(cm, cmap=\"Blues\", annot= True, cbar = False)\n",
    "        \n",
    "        result[\"model\"].append(m)\n",
    "        result[\"accuracy\"].append(accuracy)\n",
    "        result[\"precision\"].append(precision)\n",
    "        result[\"recall\"].append(recall)\n",
    "        result[\"cross_val_min\"].append(cv[\"test_score\"].min())\n",
    "        result[\"cross_val_max\"].append(cv[\"test_score\"].max())\n",
    "        result[\"cross_val_delta\"].append(cv[\"test_score\"].max()-cv[\"test_score\"].min())\n",
    "        trained_models.append(model)\n",
    "\n",
    "    summary = pd.DataFrame(result)\n",
    "\n",
    "    \n",
    "    return summary, trained_models\n",
    "        "
   ]
  },
  {
   "cell_type": "code",
   "execution_count": 5,
   "metadata": {
    "ExecuteTime": {
     "end_time": "2020-08-30T15:40:13.047963Z",
     "start_time": "2020-08-30T15:39:55.241176Z"
    },
    "scrolled": false
   },
   "outputs": [
    {
     "name": "stdout",
     "output_type": "stream",
     "text": [
      "{'rfc': RandomForestClassifier(random_state=42), 'svc': SVC(random_state=42), 'knc': KNeighborsClassifier(), 'abc': AdaBoostClassifier(random_state=42), 'gbc': GradientBoostingClassifier(random_state=42), 'gnb': GaussianNB()}\n",
      "Training time for rfc: 0.6056535243988037s\n",
      "Training time for svc: 0.13692140579223633s\n",
      "Training time for knc: 0.023983001708984375s\n",
      "Training time for abc: 0.7435791492462158s\n",
      "Training time for gbc: 2.7104427814483643s\n",
      "Training time for gnb: 0.0060002803802490234s\n"
     ]
    },
    {
     "data": {
      "image/png": "[encoded data removed]",
      "text/plain": [
       "<Figure size 432x288 with 1 Axes>"
      ]
     },
     "metadata": {
      "needs_background": "light"
     },
     "output_type": "display_data"
    },
    {
     "data": {
      "image/png": "[encoded data removed]",
      "text/plain": [
       "<Figure size 432x288 with 1 Axes>"
      ]
     },
     "metadata": {
      "needs_background": "light"
     },
     "output_type": "display_data"
    },
    {
     "data": {
      "image/png": "[encoded data removed]",
      "text/plain": [
       "<Figure size 432x288 with 1 Axes>"
      ]
     },
     "metadata": {
      "needs_background": "light"
     },
     "output_type": "display_data"
    },
    {
     "data": {
      "image/png": "[encoded data removed]",
      "text/plain": [
       "<Figure size 432x288 with 1 Axes>"
      ]
     },
     "metadata": {
      "needs_background": "light"
     },
     "output_type": "display_data"
    },
    {
     "data": {
      "image/png": "[encoded data removed]",
      "text/plain": [
       "<Figure size 432x288 with 1 Axes>"
      ]
     },
     "metadata": {
      "needs_background": "light"
     },
     "output_type": "display_data"
    },
    {
     "data": {
      "image/png": "[encoded data removed]",
      "text/plain": [
       "<Figure size 432x288 with 1 Axes>"
      ]
     },
     "metadata": {
      "needs_background": "light"
     },
     "output_type": "display_data"
    }
   ],
   "source": [
    "models = define_models()\n",
    "summary, trained_models = train_models(models = models)"
   ]
  },
  {
   "cell_type": "code",
   "execution_count": 95,
   "metadata": {
    "ExecuteTime": {
     "end_time": "2020-08-30T13:55:38.337642Z",
     "start_time": "2020-08-30T13:55:38.318653Z"
    }
   },
   "outputs": [
    {
     "data": {
      "text/html": [
       "<style  type=\"text/css\" >\n",
       "#T_7c04c0c0_eac8_11ea_83ca_648099c3eefbrow0_col1,#T_7c04c0c0_eac8_11ea_83ca_648099c3eefbrow1_col1,#T_7c04c0c0_eac8_11ea_83ca_648099c3eefbrow2_col1,#T_7c04c0c0_eac8_11ea_83ca_648099c3eefbrow3_col1,#T_7c04c0c0_eac8_11ea_83ca_648099c3eefbrow4_col1,#T_7c04c0c0_eac8_11ea_83ca_648099c3eefbrow5_col1{\n",
       "            background-color:  #f4cccc;\n",
       "        }</style><table id=\"T_7c04c0c0_eac8_11ea_83ca_648099c3eefb\" ><thead>    <tr>        <th class=\"blank level0\" ></th>        <th class=\"col_heading level0 col0\" >model</th>        <th class=\"col_heading level0 col1\" >accuracy</th>        <th class=\"col_heading level0 col2\" >precision</th>        <th class=\"col_heading level0 col3\" >recall</th>        <th class=\"col_heading level0 col4\" >cross_val_min</th>        <th class=\"col_heading level0 col5\" >cross_val_max</th>        <th class=\"col_heading level0 col6\" >cross_val_delta</th>    </tr></thead><tbody>\n",
       "                <tr>\n",
       "                        <th id=\"T_7c04c0c0_eac8_11ea_83ca_648099c3eefblevel0_row0\" class=\"row_heading level0 row0\" >0</th>\n",
       "                        <td id=\"T_7c04c0c0_eac8_11ea_83ca_648099c3eefbrow0_col0\" class=\"data row0 col0\" >rfc</td>\n",
       "                        <td id=\"T_7c04c0c0_eac8_11ea_83ca_648099c3eefbrow0_col1\" class=\"data row0 col1\" >0.977376</td>\n",
       "                        <td id=\"T_7c04c0c0_eac8_11ea_83ca_648099c3eefbrow0_col2\" class=\"data row0 col2\" >0.977788</td>\n",
       "                        <td id=\"T_7c04c0c0_eac8_11ea_83ca_648099c3eefbrow0_col3\" class=\"data row0 col3\" >0.977376</td>\n",
       "                        <td id=\"T_7c04c0c0_eac8_11ea_83ca_648099c3eefbrow0_col4\" class=\"data row0 col4\" >0.833333</td>\n",
       "                        <td id=\"T_7c04c0c0_eac8_11ea_83ca_648099c3eefbrow0_col5\" class=\"data row0 col5\" >1.000000</td>\n",
       "                        <td id=\"T_7c04c0c0_eac8_11ea_83ca_648099c3eefbrow0_col6\" class=\"data row0 col6\" >0.166667</td>\n",
       "            </tr>\n",
       "            <tr>\n",
       "                        <th id=\"T_7c04c0c0_eac8_11ea_83ca_648099c3eefblevel0_row1\" class=\"row_heading level0 row1\" >1</th>\n",
       "                        <td id=\"T_7c04c0c0_eac8_11ea_83ca_648099c3eefbrow1_col0\" class=\"data row1 col0\" >svc</td>\n",
       "                        <td id=\"T_7c04c0c0_eac8_11ea_83ca_648099c3eefbrow1_col1\" class=\"data row1 col1\" >0.475113</td>\n",
       "                        <td id=\"T_7c04c0c0_eac8_11ea_83ca_648099c3eefbrow1_col2\" class=\"data row1 col2\" >0.607197</td>\n",
       "                        <td id=\"T_7c04c0c0_eac8_11ea_83ca_648099c3eefbrow1_col3\" class=\"data row1 col3\" >0.475113</td>\n",
       "                        <td id=\"T_7c04c0c0_eac8_11ea_83ca_648099c3eefbrow1_col4\" class=\"data row1 col4\" >0.500000</td>\n",
       "                        <td id=\"T_7c04c0c0_eac8_11ea_83ca_648099c3eefbrow1_col5\" class=\"data row1 col5\" >0.529412</td>\n",
       "                        <td id=\"T_7c04c0c0_eac8_11ea_83ca_648099c3eefbrow1_col6\" class=\"data row1 col6\" >0.029412</td>\n",
       "            </tr>\n",
       "            <tr>\n",
       "                        <th id=\"T_7c04c0c0_eac8_11ea_83ca_648099c3eefblevel0_row2\" class=\"row_heading level0 row2\" >2</th>\n",
       "                        <td id=\"T_7c04c0c0_eac8_11ea_83ca_648099c3eefbrow2_col0\" class=\"data row2 col0\" >knc</td>\n",
       "                        <td id=\"T_7c04c0c0_eac8_11ea_83ca_648099c3eefbrow2_col1\" class=\"data row2 col1\" >0.796380</td>\n",
       "                        <td id=\"T_7c04c0c0_eac8_11ea_83ca_648099c3eefbrow2_col2\" class=\"data row2 col2\" >0.796581</td>\n",
       "                        <td id=\"T_7c04c0c0_eac8_11ea_83ca_648099c3eefbrow2_col3\" class=\"data row2 col3\" >0.796380</td>\n",
       "                        <td id=\"T_7c04c0c0_eac8_11ea_83ca_648099c3eefbrow2_col4\" class=\"data row2 col4\" >0.500000</td>\n",
       "                        <td id=\"T_7c04c0c0_eac8_11ea_83ca_648099c3eefbrow2_col5\" class=\"data row2 col5\" >0.764706</td>\n",
       "                        <td id=\"T_7c04c0c0_eac8_11ea_83ca_648099c3eefbrow2_col6\" class=\"data row2 col6\" >0.264706</td>\n",
       "            </tr>\n",
       "            <tr>\n",
       "                        <th id=\"T_7c04c0c0_eac8_11ea_83ca_648099c3eefblevel0_row3\" class=\"row_heading level0 row3\" >3</th>\n",
       "                        <td id=\"T_7c04c0c0_eac8_11ea_83ca_648099c3eefbrow3_col0\" class=\"data row3 col0\" >abc</td>\n",
       "                        <td id=\"T_7c04c0c0_eac8_11ea_83ca_648099c3eefbrow3_col1\" class=\"data row3 col1\" >0.959276</td>\n",
       "                        <td id=\"T_7c04c0c0_eac8_11ea_83ca_648099c3eefbrow3_col2\" class=\"data row3 col2\" >0.960394</td>\n",
       "                        <td id=\"T_7c04c0c0_eac8_11ea_83ca_648099c3eefbrow3_col3\" class=\"data row3 col3\" >0.959276</td>\n",
       "                        <td id=\"T_7c04c0c0_eac8_11ea_83ca_648099c3eefbrow3_col4\" class=\"data row3 col4\" >0.833333</td>\n",
       "                        <td id=\"T_7c04c0c0_eac8_11ea_83ca_648099c3eefbrow3_col5\" class=\"data row3 col5\" >1.000000</td>\n",
       "                        <td id=\"T_7c04c0c0_eac8_11ea_83ca_648099c3eefbrow3_col6\" class=\"data row3 col6\" >0.166667</td>\n",
       "            </tr>\n",
       "            <tr>\n",
       "                        <th id=\"T_7c04c0c0_eac8_11ea_83ca_648099c3eefblevel0_row4\" class=\"row_heading level0 row4\" >4</th>\n",
       "                        <td id=\"T_7c04c0c0_eac8_11ea_83ca_648099c3eefbrow4_col0\" class=\"data row4 col0\" >gbc</td>\n",
       "                        <td id=\"T_7c04c0c0_eac8_11ea_83ca_648099c3eefbrow4_col1\" class=\"data row4 col1\" >0.977376</td>\n",
       "                        <td id=\"T_7c04c0c0_eac8_11ea_83ca_648099c3eefbrow4_col2\" class=\"data row4 col2\" >0.977788</td>\n",
       "                        <td id=\"T_7c04c0c0_eac8_11ea_83ca_648099c3eefbrow4_col3\" class=\"data row4 col3\" >0.977376</td>\n",
       "                        <td id=\"T_7c04c0c0_eac8_11ea_83ca_648099c3eefbrow4_col4\" class=\"data row4 col4\" >0.777778</td>\n",
       "                        <td id=\"T_7c04c0c0_eac8_11ea_83ca_648099c3eefbrow4_col5\" class=\"data row4 col5\" >1.000000</td>\n",
       "                        <td id=\"T_7c04c0c0_eac8_11ea_83ca_648099c3eefbrow4_col6\" class=\"data row4 col6\" >0.222222</td>\n",
       "            </tr>\n",
       "            <tr>\n",
       "                        <th id=\"T_7c04c0c0_eac8_11ea_83ca_648099c3eefblevel0_row5\" class=\"row_heading level0 row5\" >5</th>\n",
       "                        <td id=\"T_7c04c0c0_eac8_11ea_83ca_648099c3eefbrow5_col0\" class=\"data row5 col0\" >gnb</td>\n",
       "                        <td id=\"T_7c04c0c0_eac8_11ea_83ca_648099c3eefbrow5_col1\" class=\"data row5 col1\" >0.950226</td>\n",
       "                        <td id=\"T_7c04c0c0_eac8_11ea_83ca_648099c3eefbrow5_col2\" class=\"data row5 col2\" >0.950220</td>\n",
       "                        <td id=\"T_7c04c0c0_eac8_11ea_83ca_648099c3eefbrow5_col3\" class=\"data row5 col3\" >0.950226</td>\n",
       "                        <td id=\"T_7c04c0c0_eac8_11ea_83ca_648099c3eefbrow5_col4\" class=\"data row5 col4\" >0.823529</td>\n",
       "                        <td id=\"T_7c04c0c0_eac8_11ea_83ca_648099c3eefbrow5_col5\" class=\"data row5 col5\" >1.000000</td>\n",
       "                        <td id=\"T_7c04c0c0_eac8_11ea_83ca_648099c3eefbrow5_col6\" class=\"data row5 col6\" >0.176471</td>\n",
       "            </tr>\n",
       "    </tbody></table>"
      ],
      "text/plain": [
       "<pandas.io.formats.style.Styler at 0x191bf246208>"
      ]
     },
     "execution_count": 95,
     "metadata": {},
     "output_type": "execute_result"
    }
   ],
   "source": [
    "summary.style.set_properties(**{'background-color': '#f4cccc'}, subset=['accuracy'])"
   ]
  },
  {
   "cell_type": "markdown",
   "metadata": {},
   "source": [
    "**GBC** is the best"
   ]
  },
  {
   "cell_type": "markdown",
   "metadata": {},
   "source": [
    "## Hyperparameter tuning"
   ]
  },
  {
   "cell_type": "markdown",
   "metadata": {},
   "source": [
    "Hyperparameter tuning for model optimization"
   ]
  },
  {
   "cell_type": "code",
   "execution_count": 100,
   "metadata": {
    "ExecuteTime": {
     "end_time": "2020-08-30T14:17:38.299503Z",
     "start_time": "2020-08-30T14:17:38.295502Z"
    }
   },
   "outputs": [],
   "source": [
    "from sklearn.model_selection import RandomizedSearchCV\n",
    "from sklearn.model_selection import GridSearchCV"
   ]
  },
  {
   "cell_type": "code",
   "execution_count": 74,
   "metadata": {
    "ExecuteTime": {
     "end_time": "2020-08-29T19:40:24.669607Z",
     "start_time": "2020-08-29T19:40:24.665607Z"
    }
   },
   "outputs": [],
   "source": [
    "gbc = GradientBoostingClassifier()"
   ]
  },
  {
   "cell_type": "code",
   "execution_count": 104,
   "metadata": {
    "ExecuteTime": {
     "end_time": "2020-08-30T14:22:29.724743Z",
     "start_time": "2020-08-30T14:18:31.762172Z"
    }
   },
   "outputs": [
    {
     "data": {
      "text/plain": [
       "GridSearchCV(estimator=RandomForestClassifier(random_state=42),\n",
       "             param_grid={'min_samples_leaf': [1, 2, 4],\n",
       "                         'min_samples_split': [2, 4, 12],\n",
       "                         'n_estimators': [100, 400, 800]},\n",
       "             scoring='accuracy')"
      ]
     },
     "execution_count": 104,
     "metadata": {},
     "output_type": "execute_result"
    }
   ],
   "source": [
    "params = {\n",
    "        \"min_samples_leaf\": [1, 2, 4],\n",
    "        \"min_samples_split\": [2, 4, 12],\n",
    "        \"n_estimators\": [100, 400, 800]\n",
    "}\n",
    "\n",
    "rfc_search = GridSearchCV(\n",
    "    estimator=rfc, \n",
    "    param_grid=params, \n",
    "    scoring=\"accuracy\",\n",
    ")\n",
    "\n",
    "rfc_search.fit(X_train, y_train)"
   ]
  },
  {
   "cell_type": "code",
   "execution_count": 105,
   "metadata": {
    "ExecuteTime": {
     "end_time": "2020-08-30T14:48:08.608307Z",
     "start_time": "2020-08-30T14:22:30.743158Z"
    }
   },
   "outputs": [
    {
     "data": {
      "text/plain": [
       "GridSearchCV(estimator=GradientBoostingClassifier(),\n",
       "             param_grid={'learning_rate': [0.1, 2, 4],\n",
       "                         'min_samples_leaf': [1, 4, 8],\n",
       "                         'min_samples_split': [2, 4, 8],\n",
       "                         'n_estimators': [100, 200, 400]},\n",
       "             scoring='accuracy')"
      ]
     },
     "execution_count": 105,
     "metadata": {},
     "output_type": "execute_result"
    }
   ],
   "source": [
    "params = {\n",
    "        \"learning_rate\": [0.1, 2, 4],\n",
    "        \"min_samples_leaf\": [1, 4, 8],\n",
    "        \"min_samples_split\": [2, 4, 8],\n",
    "        \"n_estimators\": [100, 200, 400]\n",
    "}\n",
    "\n",
    "gbc_search = GridSearchCV(\n",
    "    estimator=gbc, \n",
    "    param_grid=params,\n",
    "    scoring=\"accuracy\",\n",
    ")\n",
    "\n",
    "gbc_search.fit(X_train, y_train)"
   ]
  },
  {
   "cell_type": "markdown",
   "metadata": {},
   "source": [
    "Checking the optimized models with cross validatoion and with the metrics. "
   ]
  },
  {
   "cell_type": "code",
   "execution_count": 115,
   "metadata": {
    "ExecuteTime": {
     "end_time": "2020-08-30T14:58:48.282088Z",
     "start_time": "2020-08-30T14:58:25.078392Z"
    }
   },
   "outputs": [
    {
     "name": "stdout",
     "output_type": "stream",
     "text": [
      "{'gbc_best': GradientBoostingClassifier(learning_rate=2, min_samples_leaf=4,\n",
      "                           min_samples_split=4), 'rfc_best': RandomForestClassifier(n_estimators=400, random_state=42)}\n",
      "Training time for gbc_best: 2.828404426574707s\n",
      "Training time for rfc_best: 1.9428825378417969s\n"
     ]
    },
    {
     "data": {
      "image/png": "[encoded data removed]",
      "text/plain": [
       "<Figure size 432x288 with 1 Axes>"
      ]
     },
     "metadata": {
      "needs_background": "light"
     },
     "output_type": "display_data"
    },
    {
     "data": {
      "image/png": "[encoded data removed]",
      "text/plain": [
       "<Figure size 432x288 with 1 Axes>"
      ]
     },
     "metadata": {
      "needs_background": "light"
     },
     "output_type": "display_data"
    }
   ],
   "source": [
    "new_models = {\"gbc_best\" : gbc_search.best_estimator_, \n",
    "              \"rfc_best\" : rfc_search.best_estimator_}\n",
    "\n",
    "summary_new,trained_models_new = train_models(new_models)"
   ]
  },
  {
   "cell_type": "code",
   "execution_count": 111,
   "metadata": {
    "ExecuteTime": {
     "end_time": "2020-08-30T14:51:23.212878Z",
     "start_time": "2020-08-30T14:51:23.199886Z"
    }
   },
   "outputs": [
    {
     "data": {
      "text/html": [
       "<style  type=\"text/css\" >\n",
       "#T_45b8d1f6_ead0_11ea_bfe6_648099c3eefbrow0_col1,#T_45b8d1f6_ead0_11ea_bfe6_648099c3eefbrow1_col1{\n",
       "            background-color:  #f4cccc;\n",
       "        }</style><table id=\"T_45b8d1f6_ead0_11ea_bfe6_648099c3eefb\" ><thead>    <tr>        <th class=\"blank level0\" ></th>        <th class=\"col_heading level0 col0\" >model</th>        <th class=\"col_heading level0 col1\" >accuracy</th>        <th class=\"col_heading level0 col2\" >precision</th>        <th class=\"col_heading level0 col3\" >recall</th>        <th class=\"col_heading level0 col4\" >cross_val_min</th>        <th class=\"col_heading level0 col5\" >cross_val_max</th>        <th class=\"col_heading level0 col6\" >cross_val_delta</th>    </tr></thead><tbody>\n",
       "                <tr>\n",
       "                        <th id=\"T_45b8d1f6_ead0_11ea_bfe6_648099c3eefblevel0_row0\" class=\"row_heading level0 row0\" >0</th>\n",
       "                        <td id=\"T_45b8d1f6_ead0_11ea_bfe6_648099c3eefbrow0_col0\" class=\"data row0 col0\" >gbc_best</td>\n",
       "                        <td id=\"T_45b8d1f6_ead0_11ea_bfe6_648099c3eefbrow0_col1\" class=\"data row0 col1\" >0.950226</td>\n",
       "                        <td id=\"T_45b8d1f6_ead0_11ea_bfe6_648099c3eefbrow0_col2\" class=\"data row0 col2\" >0.950689</td>\n",
       "                        <td id=\"T_45b8d1f6_ead0_11ea_bfe6_648099c3eefbrow0_col3\" class=\"data row0 col3\" >0.950226</td>\n",
       "                        <td id=\"T_45b8d1f6_ead0_11ea_bfe6_648099c3eefbrow0_col4\" class=\"data row0 col4\" >0.777778</td>\n",
       "                        <td id=\"T_45b8d1f6_ead0_11ea_bfe6_648099c3eefbrow0_col5\" class=\"data row0 col5\" >1.000000</td>\n",
       "                        <td id=\"T_45b8d1f6_ead0_11ea_bfe6_648099c3eefbrow0_col6\" class=\"data row0 col6\" >0.222222</td>\n",
       "            </tr>\n",
       "            <tr>\n",
       "                        <th id=\"T_45b8d1f6_ead0_11ea_bfe6_648099c3eefblevel0_row1\" class=\"row_heading level0 row1\" >1</th>\n",
       "                        <td id=\"T_45b8d1f6_ead0_11ea_bfe6_648099c3eefbrow1_col0\" class=\"data row1 col0\" >rfc_best</td>\n",
       "                        <td id=\"T_45b8d1f6_ead0_11ea_bfe6_648099c3eefbrow1_col1\" class=\"data row1 col1\" >0.977376</td>\n",
       "                        <td id=\"T_45b8d1f6_ead0_11ea_bfe6_648099c3eefbrow1_col2\" class=\"data row1 col2\" >0.977788</td>\n",
       "                        <td id=\"T_45b8d1f6_ead0_11ea_bfe6_648099c3eefbrow1_col3\" class=\"data row1 col3\" >0.977376</td>\n",
       "                        <td id=\"T_45b8d1f6_ead0_11ea_bfe6_648099c3eefbrow1_col4\" class=\"data row1 col4\" >0.833333</td>\n",
       "                        <td id=\"T_45b8d1f6_ead0_11ea_bfe6_648099c3eefbrow1_col5\" class=\"data row1 col5\" >1.000000</td>\n",
       "                        <td id=\"T_45b8d1f6_ead0_11ea_bfe6_648099c3eefbrow1_col6\" class=\"data row1 col6\" >0.166667</td>\n",
       "            </tr>\n",
       "    </tbody></table>"
      ],
      "text/plain": [
       "<pandas.io.formats.style.Styler at 0x191bf2b9248>"
      ]
     },
     "execution_count": 111,
     "metadata": {},
     "output_type": "execute_result"
    }
   ],
   "source": [
    "summary_new.style.set_properties(**{'background-color': '#f4cccc'}, subset=['accuracy'])"
   ]
  },
  {
   "cell_type": "code",
   "execution_count": 83,
   "metadata": {
    "ExecuteTime": {
     "end_time": "2020-08-30T05:33:31.886095Z",
     "start_time": "2020-08-30T05:33:31.723185Z"
    }
   },
   "outputs": [],
   "source": [
    "X_train, X_test, X_val, y_train, y_test, y_val = read_train_test_data()"
   ]
  },
  {
   "cell_type": "code",
   "execution_count": 12,
   "metadata": {
    "ExecuteTime": {
     "end_time": "2020-08-29T19:15:58.028484Z",
     "start_time": "2020-08-29T19:15:58.023487Z"
    }
   },
   "outputs": [],
   "source": [
    "from sklearn.model_selection import cross_validate\n",
    "from sklearn.metrics import confusion_matrix"
   ]
  },
  {
   "cell_type": "markdown",
   "metadata": {},
   "source": [
    "## Save the model"
   ]
  },
  {
   "cell_type": "code",
   "execution_count": 6,
   "metadata": {
    "ExecuteTime": {
     "end_time": "2020-08-30T15:40:21.694788Z",
     "start_time": "2020-08-30T15:40:21.687793Z"
    }
   },
   "outputs": [
    {
     "data": {
      "text/plain": [
       "RandomForestClassifier(random_state=42)"
      ]
     },
     "execution_count": 6,
     "metadata": {},
     "output_type": "execute_result"
    }
   ],
   "source": [
    "trained_models[0]"
   ]
  },
  {
   "cell_type": "markdown",
   "metadata": {},
   "source": [
    "Saving the model for later use"
   ]
  },
  {
   "cell_type": "code",
   "execution_count": 7,
   "metadata": {
    "ExecuteTime": {
     "end_time": "2020-08-30T15:40:38.184160Z",
     "start_time": "2020-08-30T15:40:38.023257Z"
    }
   },
   "outputs": [
    {
     "data": {
      "text/plain": [
       "['../models/rfc_vfinal.joblib']"
      ]
     },
     "execution_count": 7,
     "metadata": {},
     "output_type": "execute_result"
    }
   ],
   "source": [
    "from joblib import dump, load\n",
    "dump(trained_models[0], '../models/rfc_vfinal.joblib') "
   ]
  },
  {
   "cell_type": "markdown",
   "metadata": {},
   "source": [
    "# Evaluate\n"
   ]
  },
  {
   "cell_type": "code",
   "execution_count": 116,
   "metadata": {
    "ExecuteTime": {
     "end_time": "2020-08-30T15:04:27.428137Z",
     "start_time": "2020-08-30T15:04:27.421163Z"
    }
   },
   "outputs": [],
   "source": [
    "from processing_funcs import *\n",
    "from scipy.stats import norm, kurtosis\n",
    "from scipy import signal\n",
    "import glob"
   ]
  },
  {
   "cell_type": "code",
   "execution_count": 120,
   "metadata": {
    "ExecuteTime": {
     "end_time": "2020-08-30T15:04:51.271901Z",
     "start_time": "2020-08-30T15:04:51.266903Z"
    }
   },
   "outputs": [],
   "source": [
    "#random forest model\n",
    "model = trained_models_new[1]"
   ]
  },
  {
   "cell_type": "markdown",
   "metadata": {},
   "source": [
    "Checking the model with the training data and with unknown data"
   ]
  },
  {
   "cell_type": "code",
   "execution_count": 121,
   "metadata": {
    "ExecuteTime": {
     "end_time": "2020-08-30T15:04:58.641207Z",
     "start_time": "2020-08-30T15:04:54.682479Z"
    }
   },
   "outputs": [],
   "source": [
    "df = read_all(1/50)\n",
    "\n",
    "#label 0 measurements\n",
    "ok = df[df[\"label\"] == 0]\n",
    "#label 1 measurements\n",
    "nok = df[df[\"label\"] == 1]\n",
    "\n",
    "#unknown data\n",
    "test = read_measurement(\"../data/raw_data_train/test/*\", 1/50)"
   ]
  },
  {
   "cell_type": "markdown",
   "metadata": {},
   "source": [
    "Data processing steps"
   ]
  },
  {
   "cell_type": "code",
   "execution_count": 8,
   "metadata": {
    "ExecuteTime": {
     "end_time": "2020-08-31T18:29:10.881709Z",
     "start_time": "2020-08-31T18:29:10.867714Z"
    }
   },
   "outputs": [],
   "source": [
    "def kurtosis_time(x):\n",
    "\n",
    "    return kurtosis(x, fisher=True)\n",
    "\n",
    "def rms_100(x):\n",
    "\n",
    "    return np.sqrt(np.mean(x**2))\n",
    "\n",
    "def crest(x):\n",
    "\n",
    "    return max(abs(x))/np.sqrt(np.mean(x**2))\n",
    "\n",
    "def create_aggregated(df):\n",
    "    \"\"\"Create a aggregated dataframe in time domain\"\"\"\n",
    "    signals = ['x_lin_acc', 'y_lin_acc', \"z_lin_acc\", \n",
    "               'x_acc', 'y_acc', 'z_acc',\n",
    "               'x_gyro', 'y_gyro', 'z_gyro']\n",
    "\n",
    "    agg_df = df.groupby([\"measurementID\",\"id_gps\"]).agg({x: [\"sum\", \"mean\", \"mad\",\n",
    "                                                \"median\", \"min\", \"max\",\n",
    "                                                \"std\", \"var\", \"sem\",\n",
    "                                                \"skew\", \"quantile\",\n",
    "                                                kurtosis_time, rms_100,\n",
    "                                                crest] for x in signals})\n",
    "    \n",
    "    new_cols = []\n",
    "    \n",
    "    for k,i in enumerate(agg_df.columns):\n",
    "        \n",
    "        new_cols.append(i[0] + \"_\" +  i[1])\n",
    "\n",
    "    agg_df.columns = new_cols\n",
    "    \n",
    "    return agg_df"
   ]
  },
  {
   "cell_type": "code",
   "execution_count": 123,
   "metadata": {
    "ExecuteTime": {
     "end_time": "2020-08-30T15:05:13.254829Z",
     "start_time": "2020-08-30T15:05:00.903909Z"
    }
   },
   "outputs": [],
   "source": [
    "feature_df = create_aggregated(nok).reset_index()"
   ]
  },
  {
   "cell_type": "raw",
   "metadata": {
    "ExecuteTime": {
     "end_time": "2020-08-29T17:12:47.450083Z",
     "start_time": "2020-08-29T17:12:47.419101Z"
    }
   },
   "source": [
    "scaler = StandardScaler()\n",
    "scaled = scaler.fit_transform(feature_df.drop([\"measurementID\", \"id_gps\"],axis = 1))"
   ]
  },
  {
   "cell_type": "code",
   "execution_count": 130,
   "metadata": {
    "ExecuteTime": {
     "end_time": "2020-08-30T15:07:37.028909Z",
     "start_time": "2020-08-30T15:07:37.018913Z"
    }
   },
   "outputs": [],
   "source": [
    "def check_quality(df, model = svc):\n",
    "    \"\"\"Plots the 'raw' data in a map, and visualize the road surface quality with colors\"\"\"\n",
    "    \n",
    "    feature_df = create_aggregated(df).reset_index()\n",
    "    pred = model.predict(feature_df.drop([\"measurementID\", \"id_gps\"], axis = 1))\n",
    "    \n",
    "    map_df = pd.concat([df[[\"measurementID\", \"id_gps\", \"lat\", \"lon\"]]\\\n",
    "                    .groupby([\"measurementID\",\"id_gps\"])\\\n",
    "                    .max()\\\n",
    "                    .reset_index(), \n",
    "                    pd.DataFrame({\"label\" : pred})], axis=1)\n",
    "    \n",
    "    \n",
    "    fig = go.Figure()\n",
    "    fig = px.scatter_mapbox(map_df, \n",
    "                            lat=\"lat\", \n",
    "                            lon=\"lon\",\n",
    "                            zoom = 12, \n",
    "                            height=300, \n",
    "                            color = \"label\", \n",
    "                            color_continuous_scale=[\"green\",\"red\"])\n",
    "    fig.update_layout(mapbox_style=\"open-street-map\")\n",
    "    fig.update_layout(margin={\"r\":0,\"t\":0,\"l\":0,\"b\":0})\n",
    "    fig.layout.coloraxis.showscale = False\n",
    "   \n",
    "    return fig\n",
    "    "
   ]
  },
  {
   "cell_type": "code",
   "execution_count": 131,
   "metadata": {
    "ExecuteTime": {
     "end_time": "2020-08-30T15:07:38.295183Z",
     "start_time": "2020-08-30T15:07:38.291186Z"
    }
   },
   "outputs": [],
   "source": [
    "# plot(check_quality(ok, model), filename=\"../reports/rfc_ok.html\")\n",
    "# plot(check_quality(nok, model), filename=\"../reports/rfc_nok.html\")\n",
    "# plot(check_quality(test, model), filename=\"../reports/rfc_test.html\")\n",
    "\n",
    "\n",
    "# plot(check_quality(ok, svc), filename=\"../reports/svc_ok.html\")\n",
    "# plot(check_quality(nok, svc), filename=\"../reports/svc_nok.html\")\n",
    "# plot(check_quality(test, svc), filename=\"../reports/svc_test.html\")\n",
    "\n",
    "# plot(check_quality(ok, gbc_search), filename=\"../reports/gbc_ok.html\")\n",
    "# plot(check_quality(nok, gbc_search), filename=\"../reports/gbc_nok.html\")\n",
    "# plot(check_quality(test, gbc_search), filename=\"../reports/gbc_test.html\")"
   ]
  },
  {
   "cell_type": "code",
   "execution_count": 133,
   "metadata": {
    "ExecuteTime": {
     "end_time": "2020-08-30T15:09:07.568239Z",
     "start_time": "2020-08-30T15:08:37.105701Z"
    },
    "scrolled": false
   },
   "outputs": [
    {
     "data": {
      "application/vnd.plotly.v1+json": {
       "config": {
        "linkText": "Export to plot.ly",
        "plotlyServerURL": "https://plot.ly",
        "showLink": false
       },
       "data": [
        {
         "hovertemplate": "lat=%{lat}<br>lon=%{lon}<br>label=%{marker.color}<extra></extra>",
         "lat": [
          47.69526655,
          47.69533469,
          47.69527313,
          47.695239,
          47.69520087,
          47.69516161,
          47.69510415,
          47.69505844,
          47.69499758,
          47.69497979,
          47.69487235,
          47.69479439,
          47.6947225,
          47.6946441,
          47.69456352,
          47.69448463,
          47.69440874,
          47.69432852,
          47.69425449,
          47.69418072,
          47.69410587,
          47.69403416,
          47.69395916,
          47.6938922,
          47.69382682,
          47.69376128,
          47.69369824,
          47.69363971,
          47.69358324,
          47.69353168,
          47.69348651,
          47.69345301,
          47.6934229,
          47.69341402,
          47.69341418,
          47.69343899,
          47.69349133,
          47.6935126,
          47.69352291,
          47.69354853,
          47.69359475,
          47.69365501,
          47.69374551,
          47.69384689,
          47.69396913,
          47.69410167,
          47.69423654,
          47.69440081,
          47.69459634,
          47.69478457,
          47.69498694,
          47.69518663,
          47.69537605,
          47.69557274,
          47.69574743,
          47.69593179,
          47.69612109,
          47.69631076,
          47.69649372,
          47.6966681,
          47.6968474,
          47.69702329,
          47.69719417,
          47.69736398,
          47.69754128,
          47.69771323,
          47.69788579,
          47.69806462,
          47.69823402,
          47.69839986,
          47.69857277,
          47.6987422,
          47.6989134,
          47.69908023,
          47.69926042,
          47.69943186,
          47.69961467,
          47.69978786,
          47.69996278,
          47.70011406,
          47.7003039,
          47.70047986,
          47.70064942,
          47.70082647,
          47.70099939,
          47.70116929,
          47.70133499,
          47.70150389,
          47.70169931,
          47.70186667,
          47.7020359,
          47.70221293,
          47.7024041,
          47.70258982,
          47.70276938,
          47.70294713,
          47.70312841,
          47.70328294,
          47.70345879,
          47.70364579,
          47.70381609,
          47.70399917,
          47.70416727,
          47.70433194,
          47.70448049,
          47.70463911,
          47.70480457,
          47.70494827,
          47.70510658,
          47.70526398,
          47.70540867,
          47.70554969,
          47.70567655,
          47.70577672,
          47.70585257,
          47.70587416,
          47.70591724,
          47.70594344,
          47.70593976,
          47.70599465,
          47.7060648,
          47.70616311,
          47.70628877,
          47.70639797,
          47.70644453,
          47.70659179,
          47.70673607,
          47.7068991,
          47.70707867,
          47.70725699,
          47.70745169,
          47.70765161,
          47.70785912,
          47.70806957,
          47.70827464,
          47.7084664,
          47.70868335,
          47.70891349,
          47.70912917,
          47.70934949,
          47.70957326,
          47.70980212,
          47.71002658,
          47.71024255,
          47.71045112,
          47.71067797,
          47.71089223,
          47.71110405,
          47.71133189,
          47.71153237,
          47.71174436,
          47.71193938,
          47.71214637,
          47.71234294,
          47.71255536,
          47.71273476,
          47.71292555,
          47.71311164,
          47.71329522,
          47.71346726,
          47.71364766,
          47.71381812,
          47.71398653,
          47.71414915,
          47.71431548,
          47.71447192,
          47.71460346,
          47.71470974,
          47.71482146,
          47.71498862,
          47.71512725,
          47.71520277,
          47.71525163,
          47.71528162,
          47.7152632,
          47.71524327,
          47.71514439,
          47.71517796,
          47.71521376,
          47.71524441,
          47.71534881,
          47.71544852,
          47.71556297,
          47.71568256,
          47.71583493,
          47.71597274,
          47.71609706,
          47.71623874,
          47.71638762,
          47.71660239,
          47.71675382,
          47.71692127,
          47.71709853,
          47.71727754,
          47.71744615,
          47.71754413,
          47.71763918,
          47.71771227,
          47.71779442,
          47.71789156,
          47.71794181,
          47.71798098,
          47.71799209,
          47.71796472,
          47.71791406,
          47.71778288,
          47.71762796,
          47.71759568,
          47.71759543,
          47.71739604,
          47.71722636,
          47.71706009,
          47.71690479,
          47.71674597,
          47.71658065,
          47.71638527,
          47.71624449,
          47.71608947,
          47.71594433,
          47.71577924,
          47.71561731,
          47.71548414,
          47.71536611,
          47.71528829,
          47.71520822,
          47.71514305,
          47.71507672,
          47.71502041,
          47.71497578,
          47.71480634,
          47.71478181,
          47.7147601,
          47.71477626,
          47.71465635,
          47.71453987,
          47.71441561,
          47.71428123,
          47.71410086,
          47.71392762,
          47.71375666,
          47.71357779,
          47.71338703,
          47.71322823,
          47.71303478,
          47.71283527,
          47.71263343,
          47.71244341,
          47.71224178,
          47.71204217,
          47.71182626,
          47.71162565,
          47.71140876,
          47.71119947,
          47.71098348,
          47.71078078,
          47.71057751,
          47.71038021,
          47.71017205,
          47.70998613,
          47.70977851,
          47.70957784,
          47.7093597,
          47.70914606,
          47.708937,
          47.70872411,
          47.70850452,
          47.7082965,
          47.70810523,
          47.70792423,
          47.70776281,
          47.70758319,
          47.70740554,
          47.70723597,
          47.7070715,
          47.70693226,
          47.70680432,
          47.7066934,
          47.7065859,
          47.70649683,
          47.70643211,
          47.70637234,
          47.70631753,
          47.70630571,
          47.7063014,
          47.70633035,
          47.70636909,
          47.70640346,
          47.70645125,
          47.70649236,
          47.70653453,
          47.70656439,
          47.7065851,
          47.70660688,
          47.70662328,
          47.70663427,
          47.70664471,
          47.70664991,
          47.70665769,
          47.70666004,
          47.70665701,
          47.70664975,
          47.70666412,
          47.70667882,
          47.70669172,
          47.70669225,
          47.70668873,
          47.70668454,
          47.70667942,
          47.7066747,
          47.7066699,
          47.70666369,
          47.7066565,
          47.70664972,
          47.70664311,
          47.70663477,
          47.70664927,
          47.70663143,
          47.70662316,
          47.70661206,
          47.70660171,
          47.70658545,
          47.7065663,
          47.70653753,
          47.70651199,
          47.70648924,
          47.70647645,
          47.70645927,
          47.70644628,
          47.70642352,
          47.70639905,
          47.70638041,
          47.70636628,
          47.70635627,
          47.70633896,
          47.70632681,
          47.70632366,
          47.70632072,
          47.70631459,
          47.70628494,
          47.70626011,
          47.70623869,
          47.70622677,
          47.70621192,
          47.70619327,
          47.70618817,
          47.70617124,
          47.70614436,
          47.70612824,
          47.70613219,
          47.70612935,
          47.70611636,
          47.70611993,
          47.70611879,
          47.70610833,
          47.70609263,
          47.70607744,
          47.70607634,
          47.70606098,
          47.70603662,
          47.70602096,
          47.70598926,
          47.70596042,
          47.70595191,
          47.70594676,
          47.70593454,
          47.70590935,
          47.70590281,
          47.70588877,
          47.7058698,
          47.70584833,
          47.70582647,
          47.70582006,
          47.70580543,
          47.70579223,
          47.70578513,
          47.70578172,
          47.70576362,
          47.70574754,
          47.70572522,
          47.70571558,
          47.70570659,
          47.70569597,
          47.70569032,
          47.7056759,
          47.70565796,
          47.70563618,
          47.70562478,
          47.70562613,
          47.7056139,
          47.70559711,
          47.70558937,
          47.70556382,
          47.70554005,
          47.70552368,
          47.70550679,
          47.70550117,
          47.70550417,
          47.70549447,
          47.70542545,
          47.70533961,
          47.70525021,
          47.70515946,
          47.70506502,
          47.70496659,
          47.70483356,
          47.70472557,
          47.70461746,
          47.70452807,
          47.70448971,
          47.70458179,
          47.70464655,
          47.70471122,
          47.70477334,
          47.70483128,
          47.70489468,
          47.70495525,
          47.70501485,
          47.70507357,
          47.70511346,
          47.7051651,
          47.70520575,
          47.70525959,
          47.7054843,
          47.70547104,
          47.70546768,
          47.70547688,
          47.70548827,
          47.70549797,
          47.70550098,
          47.70551509,
          47.70551562,
          47.70551814,
          47.70552626,
          47.70552414,
          47.70553369,
          47.70554676,
          47.70554493,
          47.70556493,
          47.70557821,
          47.70557339,
          47.70557464,
          47.70558562,
          47.70559582,
          47.70559665,
          47.7056044,
          47.70560762,
          47.70561112,
          47.70561808,
          47.70563013,
          47.70563945,
          47.70565446,
          47.70566206,
          47.70567164,
          47.7056805,
          47.70569517,
          47.70570597,
          47.70571727,
          47.70573507,
          47.70574949,
          47.70575992,
          47.70577168,
          47.7057868,
          47.70580049,
          47.70580882,
          47.70582191,
          47.70582209,
          47.70583168,
          47.70584264,
          47.70584986,
          47.70586981,
          47.70590173,
          47.70592422,
          47.70594475,
          47.70595994,
          47.70596642,
          47.70598563,
          47.70599906,
          47.70599977,
          47.70600337,
          47.70601845,
          47.70603199,
          47.70604627,
          47.70606099,
          47.70607526,
          47.70609023,
          47.70610624,
          47.70612294,
          47.70613654,
          47.70614963,
          47.70617834,
          47.7062003,
          47.70620023,
          47.70622963,
          47.70624181,
          47.70626693,
          47.70627545,
          47.70629129,
          47.70631074,
          47.70631331,
          47.70633141,
          47.70632918,
          47.70632622,
          47.70633697,
          47.70635581,
          47.70637844,
          47.70640541,
          47.70641323,
          47.70642839,
          47.70645336,
          47.70647468,
          47.70649607,
          47.70649979,
          47.70651417,
          47.70652551,
          47.7065348,
          47.70655255,
          47.70657149,
          47.70657198,
          47.70657438,
          47.70659476,
          47.706613,
          47.7066349,
          47.70663058,
          47.70662135,
          47.70661086,
          47.70662419,
          47.70662678,
          47.70662221,
          47.70661186,
          47.70661021,
          47.70661259,
          47.70661456,
          47.70661644,
          47.70660819,
          47.70658769,
          47.70655996,
          47.7065332,
          47.70651098,
          47.70648898,
          47.70646124,
          47.70642447,
          47.70639024,
          47.70635617,
          47.7063279,
          47.70629865,
          47.70626931,
          47.70625279,
          47.70624771,
          47.70597353,
          47.7060967,
          47.70606347,
          47.70606528,
          47.705862,
          47.70574789,
          47.70563312,
          47.70551769,
          47.70537696,
          47.705276,
          47.70517641,
          47.70514537,
          47.70506797
         ],
         "legendgroup": "",
         "lon": [
          17.72453165,
          17.72441182,
          17.72427204,
          17.72412351,
          17.72396356,
          17.72380069,
          17.72361901,
          17.72344114,
          17.72321189,
          17.72310353,
          17.7228713,
          17.72263084,
          17.72240913,
          17.72216734,
          17.7219188,
          17.7216755,
          17.72144145,
          17.72119405,
          17.72096573,
          17.72073832,
          17.72050762,
          17.72028659,
          17.72005539,
          17.719849,
          17.71964749,
          17.71944546,
          17.71925114,
          17.71907074,
          17.71889667,
          17.71873776,
          17.71859865,
          17.71849554,
          17.71840287,
          17.71824891,
          17.7181574,
          17.71805828,
          17.71795747,
          17.71788822,
          17.71780694,
          17.71755187,
          17.71742384,
          17.71731615,
          17.71720397,
          17.71710312,
          17.71700315,
          17.71691755,
          17.71686185,
          17.71681376,
          17.71678969,
          17.71680092,
          17.71682722,
          17.71685373,
          17.71687887,
          17.71690498,
          17.71692817,
          17.71695264,
          17.71697777,
          17.71700294,
          17.71702802,
          17.71705248,
          17.71707803,
          17.71710453,
          17.71713027,
          17.71715609,
          17.7171839,
          17.71721087,
          17.71723793,
          17.71726598,
          17.71729203,
          17.71731727,
          17.71734359,
          17.71736916,
          17.71739398,
          17.71741817,
          17.7174443,
          17.71746916,
          17.71749412,
          17.71751586,
          17.71753618,
          17.71754313,
          17.71753448,
          17.71752565,
          17.71751661,
          17.71750405,
          17.71748622,
          17.71746238,
          17.71743499,
          17.71740126,
          17.71736711,
          17.71733477,
          17.71727893,
          17.71721822,
          17.71715206,
          17.71708441,
          17.71701478,
          17.71693324,
          17.71684514,
          17.71676622,
          17.7166769,
          17.71658855,
          17.7165095,
          17.7164262,
          17.716355,
          17.71629993,
          17.71625874,
          17.7162181,
          17.71622405,
          17.71623257,
          17.71624593,
          17.7162844,
          17.71634476,
          17.71640482,
          17.71646183,
          17.71651492,
          17.71655835,
          17.71674129,
          17.7168453,
          17.71698635,
          17.71713677,
          17.71726427,
          17.7173512,
          17.71740204,
          17.71739892,
          17.71730732,
          17.71720753,
          17.71698212,
          17.71692468,
          17.716887,
          17.71686647,
          17.71683047,
          17.71680501,
          17.71675044,
          17.71667022,
          17.71657542,
          17.71648179,
          17.71639403,
          17.71633188,
          17.71624061,
          17.71615359,
          17.71605444,
          17.71595014,
          17.71585736,
          17.7157787,
          17.7156772,
          17.71559203,
          17.71546748,
          17.71538356,
          17.71531791,
          17.71522539,
          17.71516242,
          17.7150813,
          17.71499099,
          17.7149029,
          17.71482164,
          17.71472379,
          17.71461039,
          17.71448188,
          17.71435063,
          17.71421787,
          17.71410223,
          17.71398678,
          17.71384823,
          17.713711,
          17.71358278,
          17.71346951,
          17.71336346,
          17.71327496,
          17.71321908,
          17.71315404,
          17.71339065,
          17.7133281,
          17.71321852,
          17.71314558,
          17.71293261,
          17.71277327,
          17.71272175,
          17.71244956,
          17.71225104,
          17.71205113,
          17.71188807,
          17.71164644,
          17.7114419,
          17.7112331,
          17.71105688,
          17.71087219,
          17.71071008,
          17.71056719,
          17.71041861,
          17.71028901,
          17.71014281,
          17.71004784,
          17.70994746,
          17.70985455,
          17.70980626,
          17.70976076,
          17.70973431,
          17.70970488,
          17.70978611,
          17.70989489,
          17.70992461,
          17.70983834,
          17.70973676,
          17.70959337,
          17.70946264,
          17.70937207,
          17.7092903,
          17.70935365,
          17.70950037,
          17.70950094,
          17.70982963,
          17.70990253,
          17.70996453,
          17.71003695,
          17.71010403,
          17.71018081,
          17.71028431,
          17.71037945,
          17.71050647,
          17.71065999,
          17.71083633,
          17.71102617,
          17.71123189,
          17.71143107,
          17.71164069,
          17.71186282,
          17.71208852,
          17.71228102,
          17.71243145,
          17.71256319,
          17.71261847,
          17.71270058,
          17.7128153,
          17.71282706,
          17.71316401,
          17.71328339,
          17.71339862,
          17.71350452,
          17.71359632,
          17.71370696,
          17.71381093,
          17.71393571,
          17.71407333,
          17.71418406,
          17.71431869,
          17.71443299,
          17.71454925,
          17.71467837,
          17.71480892,
          17.71489235,
          17.71497093,
          17.71506274,
          17.71514406,
          17.7152273,
          17.7153056,
          17.71539504,
          17.7154833,
          17.71556688,
          17.71565078,
          17.7157242,
          17.71580619,
          17.71588901,
          17.71598521,
          17.71608298,
          17.7162126,
          17.71628278,
          17.71636299,
          17.7164303,
          17.71651279,
          17.71658634,
          17.71664063,
          17.71673227,
          17.71681376,
          17.71687484,
          17.71690109,
          17.7169117,
          17.71696304,
          17.71698614,
          17.71700888,
          17.71689613,
          17.71678784,
          17.71666069,
          17.71651205,
          17.71629276,
          17.71606772,
          17.71584628,
          17.71561271,
          17.71536752,
          17.71511837,
          17.71485677,
          17.71457918,
          17.71429587,
          17.71401223,
          17.7137297,
          17.7134438,
          17.7131664,
          17.71288241,
          17.7126106,
          17.71233859,
          17.71205432,
          17.71177703,
          17.71150211,
          17.71121762,
          17.71095938,
          17.71069426,
          17.71040767,
          17.71013084,
          17.70984002,
          17.70953434,
          17.70924229,
          17.70894246,
          17.70867175,
          17.70836973,
          17.70808472,
          17.70780735,
          17.70753979,
          17.70725556,
          17.70695853,
          17.70665667,
          17.70636267,
          17.70608657,
          17.7057911,
          17.70551181,
          17.70524164,
          17.70499667,
          17.70471573,
          17.70442866,
          17.7041576,
          17.70390839,
          17.70364403,
          17.70338421,
          17.7031319,
          17.70286969,
          17.70260616,
          17.7023383,
          17.7020677,
          17.70178729,
          17.70150566,
          17.70127698,
          17.70098962,
          17.70071722,
          17.70046696,
          17.70019748,
          17.69992618,
          17.69964233,
          17.69938868,
          17.69915754,
          17.69892817,
          17.69868884,
          17.69844912,
          17.69821746,
          17.69799683,
          17.69777599,
          17.69755119,
          17.69733045,
          17.6970932,
          17.69685114,
          17.69661165,
          17.69637572,
          17.69615834,
          17.69593746,
          17.69572081,
          17.69550748,
          17.69528664,
          17.69506101,
          17.69483673,
          17.69460005,
          17.69438,
          17.69416231,
          17.69393235,
          17.69371505,
          17.69347053,
          17.69323871,
          17.69300705,
          17.69276496,
          17.69253101,
          17.69228226,
          17.69204862,
          17.69182523,
          17.6915638,
          17.69132299,
          17.69107614,
          17.6908434,
          17.69060439,
          17.69036272,
          17.69011465,
          17.68986058,
          17.68961163,
          17.6893851,
          17.68914813,
          17.68890578,
          17.68867228,
          17.68845976,
          17.68826399,
          17.68807257,
          17.68790766,
          17.68779197,
          17.6877166,
          17.68767203,
          17.68756075,
          17.68757206,
          17.68758385,
          17.68759582,
          17.68760832,
          17.68762134,
          17.68763894,
          17.68765322,
          17.68766753,
          17.68767935,
          17.68768443,
          17.68767225,
          17.68766018,
          17.68765488,
          17.68763118,
          17.68761575,
          17.68762721,
          17.68762284,
          17.68761495,
          17.68760718,
          17.68760191,
          17.68759507,
          17.68758971,
          17.68758261,
          17.68790312,
          17.68798661,
          17.68809834,
          17.68820877,
          17.68831051,
          17.68842158,
          17.68853493,
          17.68861671,
          17.68873481,
          17.68886996,
          17.688975,
          17.68905446,
          17.68919039,
          17.68932188,
          17.68944962,
          17.68956453,
          17.68968288,
          17.68981453,
          17.68994786,
          17.69007805,
          17.69021965,
          17.69035038,
          17.69048086,
          17.69061202,
          17.69074699,
          17.69087815,
          17.69101846,
          17.69116731,
          17.69132683,
          17.69149116,
          17.69166386,
          17.69184866,
          17.69202541,
          17.69220306,
          17.69238392,
          17.69257657,
          17.69277867,
          17.69299447,
          17.69322107,
          17.69344858,
          17.69369527,
          17.6939286,
          17.69415439,
          17.69440826,
          17.69466998,
          17.69492807,
          17.69519514,
          17.69544289,
          17.69571902,
          17.69597482,
          17.69624583,
          17.69649785,
          17.69675614,
          17.69701351,
          17.69728994,
          17.69752641,
          17.69777961,
          17.69803585,
          17.69826594,
          17.69850868,
          17.69875882,
          17.69900145,
          17.69925762,
          17.69951968,
          17.69979471,
          17.70007451,
          17.70035553,
          17.70061994,
          17.7008914,
          17.70114699,
          17.70143736,
          17.70171527,
          17.70196443,
          17.70222426,
          17.70248149,
          17.70275316,
          17.70306979,
          17.70334765,
          17.70362168,
          17.70388315,
          17.70416115,
          17.70444867,
          17.70471955,
          17.70499042,
          17.70527248,
          17.70554967,
          17.70584472,
          17.70613126,
          17.70640939,
          17.70670249,
          17.70696821,
          17.70725578,
          17.70753905,
          17.70783833,
          17.70813312,
          17.7084287,
          17.70871011,
          17.70900148,
          17.70927069,
          17.7095703,
          17.70986343,
          17.71012504,
          17.71040276,
          17.71068658,
          17.71097346,
          17.71125226,
          17.71152673,
          17.71180526,
          17.71208528,
          17.71236289,
          17.71264706,
          17.71292642,
          17.713189,
          17.71346046,
          17.71373464,
          17.71402248,
          17.71429643,
          17.71455907,
          17.71482141,
          17.71508105,
          17.71534433,
          17.71555437,
          17.71576659,
          17.71597678,
          17.71611001,
          17.71620404,
          17.71666575,
          17.7165048,
          17.71652819,
          17.71652691,
          17.71656405,
          17.7164989,
          17.71644231,
          17.71639044,
          17.71633149,
          17.71628925,
          17.71625981,
          17.71625205,
          17.71624006
         ],
         "marker": {
          "color": [
           0,
           0,
           0,
           0,
           0,
           0,
           0,
           0,
           0,
           0,
           0,
           0,
           0,
           0,
           0,
           0,
           0,
           0,
           0,
           0,
           0,
           0,
           0,
           0,
           0,
           0,
           0,
           0,
           0,
           0,
           0,
           1,
           0,
           0,
           0,
           0,
           0,
           0,
           0,
           0,
           0,
           0,
           0,
           0,
           0,
           0,
           0,
           0,
           0,
           0,
           0,
           0,
           0,
           0,
           0,
           0,
           0,
           0,
           0,
           0,
           0,
           0,
           0,
           0,
           0,
           0,
           0,
           0,
           0,
           0,
           0,
           0,
           0,
           0,
           0,
           0,
           0,
           0,
           0,
           0,
           0,
           0,
           0,
           0,
           0,
           0,
           0,
           0,
           0,
           0,
           0,
           0,
           0,
           0,
           0,
           0,
           0,
           0,
           0,
           0,
           0,
           0,
           0,
           0,
           0,
           0,
           0,
           0,
           0,
           0,
           0,
           0,
           0,
           0,
           0,
           0,
           0,
           0,
           0,
           0,
           0,
           0,
           0,
           0,
           0,
           0,
           0,
           0,
           0,
           0,
           0,
           0,
           0,
           0,
           0,
           0,
           0,
           0,
           0,
           0,
           0,
           0,
           0,
           0,
           0,
           0,
           0,
           0,
           0,
           0,
           0,
           0,
           0,
           0,
           0,
           0,
           0,
           0,
           0,
           0,
           0,
           0,
           0,
           0,
           0,
           0,
           0,
           0,
           0,
           0,
           0,
           0,
           0,
           0,
           0,
           0,
           0,
           0,
           0,
           0,
           0,
           0,
           0,
           0,
           0,
           0,
           0,
           0,
           0,
           0,
           0,
           0,
           0,
           0,
           0,
           0,
           0,
           0,
           0,
           0,
           0,
           0,
           0,
           0,
           0,
           0,
           0,
           0,
           0,
           1,
           0,
           0,
           0,
           0,
           0,
           0,
           0,
           0,
           0,
           0,
           0,
           0,
           0,
           0,
           0,
           0,
           0,
           0,
           0,
           0,
           0,
           0,
           0,
           0,
           0,
           0,
           0,
           0,
           0,
           0,
           0,
           0,
           0,
           0,
           0,
           0,
           0,
           0,
           0,
           0,
           0,
           0,
           0,
           0,
           0,
           0,
           0,
           0,
           0,
           0,
           0,
           0,
           0,
           0,
           0,
           0,
           0,
           0,
           0,
           0,
           0,
           0,
           0,
           0,
           0,
           0,
           0,
           1,
           0,
           0,
           0,
           0,
           0,
           0,
           0,
           0,
           0,
           0,
           0,
           0,
           0,
           0,
           0,
           0,
           0,
           0,
           0,
           0,
           0,
           0,
           0,
           0,
           0,
           0,
           0,
           0,
           0,
           0,
           0,
           0,
           0,
           0,
           0,
           0,
           0,
           0,
           0,
           0,
           0,
           0,
           0,
           0,
           0,
           0,
           0,
           0,
           0,
           0,
           0,
           0,
           0,
           0,
           0,
           0,
           0,
           0,
           0,
           0,
           0,
           0,
           0,
           0,
           0,
           0,
           0,
           0,
           0,
           0,
           0,
           0,
           0,
           0,
           0,
           0,
           0,
           0,
           0,
           0,
           0,
           0,
           0,
           0,
           0,
           0,
           0,
           1,
           1,
           0,
           0,
           0,
           0,
           0,
           0,
           0,
           0,
           0,
           0,
           0,
           0,
           0,
           0,
           0,
           0,
           0,
           0,
           0,
           0,
           0,
           0,
           0,
           0,
           0,
           0,
           0,
           0,
           0,
           0,
           0,
           1,
           0,
           0,
           0,
           0,
           0,
           0,
           0,
           0,
           0,
           0,
           0,
           0,
           0,
           0,
           0,
           0,
           0,
           0,
           0,
           0,
           0,
           0,
           0,
           0,
           0,
           0,
           0,
           0,
           0,
           0,
           0,
           0,
           0,
           0,
           0,
           0,
           0,
           0,
           0,
           0,
           0,
           0,
           0,
           0,
           0,
           0,
           0,
           0,
           0,
           0,
           0,
           0,
           0,
           0,
           0,
           0,
           0,
           0,
           0,
           0,
           0,
           0,
           0,
           0,
           0,
           0,
           1,
           0,
           0,
           0,
           0,
           0,
           0,
           0,
           0,
           1,
           0,
           0,
           0,
           0,
           0,
           0,
           0,
           0,
           0,
           0,
           0,
           0,
           0,
           0,
           0,
           0,
           0,
           0,
           0,
           0,
           0,
           0,
           0,
           0,
           0,
           0,
           0,
           0,
           0,
           0,
           0,
           0,
           0,
           0,
           0,
           0,
           0,
           0,
           0,
           0,
           0,
           0,
           0,
           0,
           0,
           0,
           0,
           0,
           0,
           0,
           0,
           0,
           0,
           0,
           0,
           0,
           0,
           0,
           0,
           0,
           0,
           0,
           0,
           0,
           0,
           0,
           0,
           0,
           0,
           0,
           0,
           0,
           0,
           0,
           0,
           0,
           0,
           0,
           0,
           0,
           0,
           0,
           0,
           0,
           0,
           0
          ],
          "coloraxis": "coloraxis"
         },
         "mode": "markers",
         "name": "",
         "showlegend": false,
         "subplot": "mapbox",
         "type": "scattermapbox"
        }
       ],
       "layout": {
        "coloraxis": {
         "colorbar": {
          "title": {
           "text": "label"
          }
         },
         "colorscale": [
          [
           0,
           "green"
          ],
          [
           1,
           "red"
          ]
         ],
         "showscale": false
        },
        "height": 300,
        "legend": {
         "tracegroupgap": 0
        },
        "mapbox": {
         "center": {
          "lat": 47.70625601174689,
          "lon": 17.708033217504457
         },
         "domain": {
          "x": [
           0,
           1
          ],
          "y": [
           0,
           1
          ]
         },
         "style": "open-street-map",
         "zoom": 12
        },
        "margin": {
         "b": 0,
         "l": 0,
         "r": 0,
         "t": 0
        },
        "template": {
         "data": {
          "bar": [
           {
            "error_x": {
             "color": "#2a3f5f"
            },
            "error_y": {
             "color": "#2a3f5f"
            },
            "marker": {
             "line": {
              "color": "#E5ECF6",
              "width": 0.5
             }
            },
            "type": "bar"
           }
          ],
          "barpolar": [
           {
            "marker": {
             "line": {
              "color": "#E5ECF6",
              "width": 0.5
             }
            },
            "type": "barpolar"
           }
          ],
          "carpet": [
           {
            "aaxis": {
             "endlinecolor": "#2a3f5f",
             "gridcolor": "white",
             "linecolor": "white",
             "minorgridcolor": "white",
             "startlinecolor": "#2a3f5f"
            },
            "baxis": {
             "endlinecolor": "#2a3f5f",
             "gridcolor": "white",
             "linecolor": "white",
             "minorgridcolor": "white",
             "startlinecolor": "#2a3f5f"
            },
            "type": "carpet"
           }
          ],
          "choropleth": [
           {
            "colorbar": {
             "outlinewidth": 0,
             "ticks": ""
            },
            "type": "choropleth"
           }
          ],
          "contour": [
           {
            "colorbar": {
             "outlinewidth": 0,
             "ticks": ""
            },
            "colorscale": [
             [
              0,
              "#0d0887"
             ],
             [
              0.1111111111111111,
              "#46039f"
             ],
             [
              0.2222222222222222,
              "#7201a8"
             ],
             [
              0.3333333333333333,
              "#9c179e"
             ],
             [
              0.4444444444444444,
              "#bd3786"
             ],
             [
              0.5555555555555556,
              "#d8576b"
             ],
             [
              0.6666666666666666,
              "#ed7953"
             ],
             [
              0.7777777777777778,
              "#fb9f3a"
             ],
             [
              0.8888888888888888,
              "#fdca26"
             ],
             [
              1,
              "#f0f921"
             ]
            ],
            "type": "contour"
           }
          ],
          "contourcarpet": [
           {
            "colorbar": {
             "outlinewidth": 0,
             "ticks": ""
            },
            "type": "contourcarpet"
           }
          ],
          "heatmap": [
           {
            "colorbar": {
             "outlinewidth": 0,
             "ticks": ""
            },
            "colorscale": [
             [
              0,
              "#0d0887"
             ],
             [
              0.1111111111111111,
              "#46039f"
             ],
             [
              0.2222222222222222,
              "#7201a8"
             ],
             [
              0.3333333333333333,
              "#9c179e"
             ],
             [
              0.4444444444444444,
              "#bd3786"
             ],
             [
              0.5555555555555556,
              "#d8576b"
             ],
             [
              0.6666666666666666,
              "#ed7953"
             ],
             [
              0.7777777777777778,
              "#fb9f3a"
             ],
             [
              0.8888888888888888,
              "#fdca26"
             ],
             [
              1,
              "#f0f921"
             ]
            ],
            "type": "heatmap"
           }
          ],
          "heatmapgl": [
           {
            "colorbar": {
             "outlinewidth": 0,
             "ticks": ""
            },
            "colorscale": [
             [
              0,
              "#0d0887"
             ],
             [
              0.1111111111111111,
              "#46039f"
             ],
             [
              0.2222222222222222,
              "#7201a8"
             ],
             [
              0.3333333333333333,
              "#9c179e"
             ],
             [
              0.4444444444444444,
              "#bd3786"
             ],
             [
              0.5555555555555556,
              "#d8576b"
             ],
             [
              0.6666666666666666,
              "#ed7953"
             ],
             [
              0.7777777777777778,
              "#fb9f3a"
             ],
             [
              0.8888888888888888,
              "#fdca26"
             ],
             [
              1,
              "#f0f921"
             ]
            ],
            "type": "heatmapgl"
           }
          ],
          "histogram": [
           {
            "marker": {
             "colorbar": {
              "outlinewidth": 0,
              "ticks": ""
             }
            },
            "type": "histogram"
           }
          ],
          "histogram2d": [
           {
            "colorbar": {
             "outlinewidth": 0,
             "ticks": ""
            },
            "colorscale": [
             [
              0,
              "#0d0887"
             ],
             [
              0.1111111111111111,
              "#46039f"
             ],
             [
              0.2222222222222222,
              "#7201a8"
             ],
             [
              0.3333333333333333,
              "#9c179e"
             ],
             [
              0.4444444444444444,
              "#bd3786"
             ],
             [
              0.5555555555555556,
              "#d8576b"
             ],
             [
              0.6666666666666666,
              "#ed7953"
             ],
             [
              0.7777777777777778,
              "#fb9f3a"
             ],
             [
              0.8888888888888888,
              "#fdca26"
             ],
             [
              1,
              "#f0f921"
             ]
            ],
            "type": "histogram2d"
           }
          ],
          "histogram2dcontour": [
           {
            "colorbar": {
             "outlinewidth": 0,
             "ticks": ""
            },
            "colorscale": [
             [
              0,
              "#0d0887"
             ],
             [
              0.1111111111111111,
              "#46039f"
             ],
             [
              0.2222222222222222,
              "#7201a8"
             ],
             [
              0.3333333333333333,
              "#9c179e"
             ],
             [
              0.4444444444444444,
              "#bd3786"
             ],
             [
              0.5555555555555556,
              "#d8576b"
             ],
             [
              0.6666666666666666,
              "#ed7953"
             ],
             [
              0.7777777777777778,
              "#fb9f3a"
             ],
             [
              0.8888888888888888,
              "#fdca26"
             ],
             [
              1,
              "#f0f921"
             ]
            ],
            "type": "histogram2dcontour"
           }
          ],
          "mesh3d": [
           {
            "colorbar": {
             "outlinewidth": 0,
             "ticks": ""
            },
            "type": "mesh3d"
           }
          ],
          "parcoords": [
           {
            "line": {
             "colorbar": {
              "outlinewidth": 0,
              "ticks": ""
             }
            },
            "type": "parcoords"
           }
          ],
          "pie": [
           {
            "automargin": true,
            "type": "pie"
           }
          ],
          "scatter": [
           {
            "marker": {
             "colorbar": {
              "outlinewidth": 0,
              "ticks": ""
             }
            },
            "type": "scatter"
           }
          ],
          "scatter3d": [
           {
            "line": {
             "colorbar": {
              "outlinewidth": 0,
              "ticks": ""
             }
            },
            "marker": {
             "colorbar": {
              "outlinewidth": 0,
              "ticks": ""
             }
            },
            "type": "scatter3d"
           }
          ],
          "scattercarpet": [
           {
            "marker": {
             "colorbar": {
              "outlinewidth": 0,
              "ticks": ""
             }
            },
            "type": "scattercarpet"
           }
          ],
          "scattergeo": [
           {
            "marker": {
             "colorbar": {
              "outlinewidth": 0,
              "ticks": ""
             }
            },
            "type": "scattergeo"
           }
          ],
          "scattergl": [
           {
            "marker": {
             "colorbar": {
              "outlinewidth": 0,
              "ticks": ""
             }
            },
            "type": "scattergl"
           }
          ],
          "scattermapbox": [
           {
            "marker": {
             "colorbar": {
              "outlinewidth": 0,
              "ticks": ""
             }
            },
            "type": "scattermapbox"
           }
          ],
          "scatterpolar": [
           {
            "marker": {
             "colorbar": {
              "outlinewidth": 0,
              "ticks": ""
             }
            },
            "type": "scatterpolar"
           }
          ],
          "scatterpolargl": [
           {
            "marker": {
             "colorbar": {
              "outlinewidth": 0,
              "ticks": ""
             }
            },
            "type": "scatterpolargl"
           }
          ],
          "scatterternary": [
           {
            "marker": {
             "colorbar": {
              "outlinewidth": 0,
              "ticks": ""
             }
            },
            "type": "scatterternary"
           }
          ],
          "surface": [
           {
            "colorbar": {
             "outlinewidth": 0,
             "ticks": ""
            },
            "colorscale": [
             [
              0,
              "#0d0887"
             ],
             [
              0.1111111111111111,
              "#46039f"
             ],
             [
              0.2222222222222222,
              "#7201a8"
             ],
             [
              0.3333333333333333,
              "#9c179e"
             ],
             [
              0.4444444444444444,
              "#bd3786"
             ],
             [
              0.5555555555555556,
              "#d8576b"
             ],
             [
              0.6666666666666666,
              "#ed7953"
             ],
             [
              0.7777777777777778,
              "#fb9f3a"
             ],
             [
              0.8888888888888888,
              "#fdca26"
             ],
             [
              1,
              "#f0f921"
             ]
            ],
            "type": "surface"
           }
          ],
          "table": [
           {
            "cells": {
             "fill": {
              "color": "#EBF0F8"
             },
             "line": {
              "color": "white"
             }
            },
            "header": {
             "fill": {
              "color": "#C8D4E3"
             },
             "line": {
              "color": "white"
             }
            },
            "type": "table"
           }
          ]
         },
         "layout": {
          "annotationdefaults": {
           "arrowcolor": "#2a3f5f",
           "arrowhead": 0,
           "arrowwidth": 1
          },
          "coloraxis": {
           "colorbar": {
            "outlinewidth": 0,
            "ticks": ""
           }
          },
          "colorscale": {
           "diverging": [
            [
             0,
             "#8e0152"
            ],
            [
             0.1,
             "#c51b7d"
            ],
            [
             0.2,
             "#de77ae"
            ],
            [
             0.3,
             "#f1b6da"
            ],
            [
             0.4,
             "#fde0ef"
            ],
            [
             0.5,
             "#f7f7f7"
            ],
            [
             0.6,
             "#e6f5d0"
            ],
            [
             0.7,
             "#b8e186"
            ],
            [
             0.8,
             "#7fbc41"
            ],
            [
             0.9,
             "#4d9221"
            ],
            [
             1,
             "#276419"
            ]
           ],
           "sequential": [
            [
             0,
             "#0d0887"
            ],
            [
             0.1111111111111111,
             "#46039f"
            ],
            [
             0.2222222222222222,
             "#7201a8"
            ],
            [
             0.3333333333333333,
             "#9c179e"
            ],
            [
             0.4444444444444444,
             "#bd3786"
            ],
            [
             0.5555555555555556,
             "#d8576b"
            ],
            [
             0.6666666666666666,
             "#ed7953"
            ],
            [
             0.7777777777777778,
             "#fb9f3a"
            ],
            [
             0.8888888888888888,
             "#fdca26"
            ],
            [
             1,
             "#f0f921"
            ]
           ],
           "sequentialminus": [
            [
             0,
             "#0d0887"
            ],
            [
             0.1111111111111111,
             "#46039f"
            ],
            [
             0.2222222222222222,
             "#7201a8"
            ],
            [
             0.3333333333333333,
             "#9c179e"
            ],
            [
             0.4444444444444444,
             "#bd3786"
            ],
            [
             0.5555555555555556,
             "#d8576b"
            ],
            [
             0.6666666666666666,
             "#ed7953"
            ],
            [
             0.7777777777777778,
             "#fb9f3a"
            ],
            [
             0.8888888888888888,
             "#fdca26"
            ],
            [
             1,
             "#f0f921"
            ]
           ]
          },
          "colorway": [
           "#636efa",
           "#EF553B",
           "#00cc96",
           "#ab63fa",
           "#FFA15A",
           "#19d3f3",
           "#FF6692",
           "#B6E880",
           "#FF97FF",
           "#FECB52"
          ],
          "font": {
           "color": "#2a3f5f"
          },
          "geo": {
           "bgcolor": "white",
           "lakecolor": "white",
           "landcolor": "#E5ECF6",
           "showlakes": true,
           "showland": true,
           "subunitcolor": "white"
          },
          "hoverlabel": {
           "align": "left"
          },
          "hovermode": "closest",
          "mapbox": {
           "style": "light"
          },
          "paper_bgcolor": "white",
          "plot_bgcolor": "#E5ECF6",
          "polar": {
           "angularaxis": {
            "gridcolor": "white",
            "linecolor": "white",
            "ticks": ""
           },
           "bgcolor": "#E5ECF6",
           "radialaxis": {
            "gridcolor": "white",
            "linecolor": "white",
            "ticks": ""
           }
          },
          "scene": {
           "xaxis": {
            "backgroundcolor": "#E5ECF6",
            "gridcolor": "white",
            "gridwidth": 2,
            "linecolor": "white",
            "showbackground": true,
            "ticks": "",
            "zerolinecolor": "white"
           },
           "yaxis": {
            "backgroundcolor": "#E5ECF6",
            "gridcolor": "white",
            "gridwidth": 2,
            "linecolor": "white",
            "showbackground": true,
            "ticks": "",
            "zerolinecolor": "white"
           },
           "zaxis": {
            "backgroundcolor": "#E5ECF6",
            "gridcolor": "white",
            "gridwidth": 2,
            "linecolor": "white",
            "showbackground": true,
            "ticks": "",
            "zerolinecolor": "white"
           }
          },
          "shapedefaults": {
           "line": {
            "color": "#2a3f5f"
           }
          },
          "ternary": {
           "aaxis": {
            "gridcolor": "white",
            "linecolor": "white",
            "ticks": ""
           },
           "baxis": {
            "gridcolor": "white",
            "linecolor": "white",
            "ticks": ""
           },
           "bgcolor": "#E5ECF6",
           "caxis": {
            "gridcolor": "white",
            "linecolor": "white",
            "ticks": ""
           }
          },
          "title": {
           "x": 0.05
          },
          "xaxis": {
           "automargin": true,
           "gridcolor": "white",
           "linecolor": "white",
           "ticks": "",
           "title": {
            "standoff": 15
           },
           "zerolinecolor": "white",
           "zerolinewidth": 2
          },
          "yaxis": {
           "automargin": true,
           "gridcolor": "white",
           "linecolor": "white",
           "ticks": "",
           "title": {
            "standoff": 15
           },
           "zerolinecolor": "white",
           "zerolinewidth": 2
          }
         }
        }
       }
      },
      "text/html": [
       "<div>\n",
       "        \n",
       "        \n",
       "            <div id=\"b40385d9-fae7-49df-ac20-ae08a03d48d0\" class=\"plotly-graph-div\" style=\"height:300px; width:100%;\"></div>\n",
       "            <script type=\"text/javascript\">\n",
       "                require([\"plotly\"], function(Plotly) {\n",
       "                    window.PLOTLYENV=window.PLOTLYENV || {};\n",
       "                    \n",
       "                if (document.getElementById(\"b40385d9-fae7-49df-ac20-ae08a03d48d0\")) {\n",
       "                    Plotly.newPlot(\n",
       "                        'b40385d9-fae7-49df-ac20-ae08a03d48d0',\n",
       "                        [{\"hovertemplate\": \"lat=%{lat}<br>lon=%{lon}<br>label=%{marker.color}<extra></extra>\", \"lat\": [47.69526655, 47.69533469, 47.69527313, 47.695239, 47.69520087, 47.69516161, 47.69510415, 47.69505844, 47.69499758, 47.69497979, 47.69487235, 47.69479439, 47.6947225, 47.6946441, 47.69456352, 47.69448463, 47.69440874, 47.69432852, 47.69425449, 47.69418072, 47.69410587, 47.69403416, 47.69395916, 47.6938922, 47.69382682, 47.69376128, 47.69369824, 47.69363971, 47.69358324, 47.69353168, 47.69348651, 47.69345301, 47.6934229, 47.69341402, 47.69341418, 47.69343899, 47.69349133, 47.6935126, 47.69352291, 47.69354853, 47.69359475, 47.69365501, 47.69374551, 47.69384689, 47.69396913, 47.69410167, 47.69423654, 47.69440081, 47.69459634, 47.69478457, 47.69498694, 47.69518663, 47.69537605, 47.69557274, 47.69574743, 47.69593179, 47.69612109, 47.69631076, 47.69649372, 47.6966681, 47.6968474, 47.69702329, 47.69719417, 47.69736398, 47.69754128, 47.69771323, 47.69788579, 47.69806462, 47.69823402, 47.69839986, 47.69857277, 47.6987422, 47.6989134, 47.69908023, 47.69926042, 47.69943186, 47.69961467, 47.69978786, 47.69996278, 47.70011406, 47.7003039, 47.70047986, 47.70064942, 47.70082647, 47.70099939, 47.70116929, 47.70133499, 47.70150389, 47.70169931, 47.70186667, 47.7020359, 47.70221293, 47.7024041, 47.70258982, 47.70276938, 47.70294713, 47.70312841, 47.70328294, 47.70345879, 47.70364579, 47.70381609, 47.70399917, 47.70416727, 47.70433194, 47.70448049, 47.70463911, 47.70480457, 47.70494827, 47.70510658, 47.70526398, 47.70540867, 47.70554969, 47.70567655, 47.70577672, 47.70585257, 47.70587416, 47.70591724, 47.70594344, 47.70593976, 47.70599465, 47.7060648, 47.70616311, 47.70628877, 47.70639797, 47.70644453, 47.70659179, 47.70673607, 47.7068991, 47.70707867, 47.70725699, 47.70745169, 47.70765161, 47.70785912, 47.70806957, 47.70827464, 47.7084664, 47.70868335, 47.70891349, 47.70912917, 47.70934949, 47.70957326, 47.70980212, 47.71002658, 47.71024255, 47.71045112, 47.71067797, 47.71089223, 47.71110405, 47.71133189, 47.71153237, 47.71174436, 47.71193938, 47.71214637, 47.71234294, 47.71255536, 47.71273476, 47.71292555, 47.71311164, 47.71329522, 47.71346726, 47.71364766, 47.71381812, 47.71398653, 47.71414915, 47.71431548, 47.71447192, 47.71460346, 47.71470974, 47.71482146, 47.71498862, 47.71512725, 47.71520277, 47.71525163, 47.71528162, 47.7152632, 47.71524327, 47.71514439, 47.71517796, 47.71521376, 47.71524441, 47.71534881, 47.71544852, 47.71556297, 47.71568256, 47.71583493, 47.71597274, 47.71609706, 47.71623874, 47.71638762, 47.71660239, 47.71675382, 47.71692127, 47.71709853, 47.71727754, 47.71744615, 47.71754413, 47.71763918, 47.71771227, 47.71779442, 47.71789156, 47.71794181, 47.71798098, 47.71799209, 47.71796472, 47.71791406, 47.71778288, 47.71762796, 47.71759568, 47.71759543, 47.71739604, 47.71722636, 47.71706009, 47.71690479, 47.71674597, 47.71658065, 47.71638527, 47.71624449, 47.71608947, 47.71594433, 47.71577924, 47.71561731, 47.71548414, 47.71536611, 47.71528829, 47.71520822, 47.71514305, 47.71507672, 47.71502041, 47.71497578, 47.71480634, 47.71478181, 47.7147601, 47.71477626, 47.71465635, 47.71453987, 47.71441561, 47.71428123, 47.71410086, 47.71392762, 47.71375666, 47.71357779, 47.71338703, 47.71322823, 47.71303478, 47.71283527, 47.71263343, 47.71244341, 47.71224178, 47.71204217, 47.71182626, 47.71162565, 47.71140876, 47.71119947, 47.71098348, 47.71078078, 47.71057751, 47.71038021, 47.71017205, 47.70998613, 47.70977851, 47.70957784, 47.7093597, 47.70914606, 47.708937, 47.70872411, 47.70850452, 47.7082965, 47.70810523, 47.70792423, 47.70776281, 47.70758319, 47.70740554, 47.70723597, 47.7070715, 47.70693226, 47.70680432, 47.7066934, 47.7065859, 47.70649683, 47.70643211, 47.70637234, 47.70631753, 47.70630571, 47.7063014, 47.70633035, 47.70636909, 47.70640346, 47.70645125, 47.70649236, 47.70653453, 47.70656439, 47.7065851, 47.70660688, 47.70662328, 47.70663427, 47.70664471, 47.70664991, 47.70665769, 47.70666004, 47.70665701, 47.70664975, 47.70666412, 47.70667882, 47.70669172, 47.70669225, 47.70668873, 47.70668454, 47.70667942, 47.7066747, 47.7066699, 47.70666369, 47.7066565, 47.70664972, 47.70664311, 47.70663477, 47.70664927, 47.70663143, 47.70662316, 47.70661206, 47.70660171, 47.70658545, 47.7065663, 47.70653753, 47.70651199, 47.70648924, 47.70647645, 47.70645927, 47.70644628, 47.70642352, 47.70639905, 47.70638041, 47.70636628, 47.70635627, 47.70633896, 47.70632681, 47.70632366, 47.70632072, 47.70631459, 47.70628494, 47.70626011, 47.70623869, 47.70622677, 47.70621192, 47.70619327, 47.70618817, 47.70617124, 47.70614436, 47.70612824, 47.70613219, 47.70612935, 47.70611636, 47.70611993, 47.70611879, 47.70610833, 47.70609263, 47.70607744, 47.70607634, 47.70606098, 47.70603662, 47.70602096, 47.70598926, 47.70596042, 47.70595191, 47.70594676, 47.70593454, 47.70590935, 47.70590281, 47.70588877, 47.7058698, 47.70584833, 47.70582647, 47.70582006, 47.70580543, 47.70579223, 47.70578513, 47.70578172, 47.70576362, 47.70574754, 47.70572522, 47.70571558, 47.70570659, 47.70569597, 47.70569032, 47.7056759, 47.70565796, 47.70563618, 47.70562478, 47.70562613, 47.7056139, 47.70559711, 47.70558937, 47.70556382, 47.70554005, 47.70552368, 47.70550679, 47.70550117, 47.70550417, 47.70549447, 47.70542545, 47.70533961, 47.70525021, 47.70515946, 47.70506502, 47.70496659, 47.70483356, 47.70472557, 47.70461746, 47.70452807, 47.70448971, 47.70458179, 47.70464655, 47.70471122, 47.70477334, 47.70483128, 47.70489468, 47.70495525, 47.70501485, 47.70507357, 47.70511346, 47.7051651, 47.70520575, 47.70525959, 47.7054843, 47.70547104, 47.70546768, 47.70547688, 47.70548827, 47.70549797, 47.70550098, 47.70551509, 47.70551562, 47.70551814, 47.70552626, 47.70552414, 47.70553369, 47.70554676, 47.70554493, 47.70556493, 47.70557821, 47.70557339, 47.70557464, 47.70558562, 47.70559582, 47.70559665, 47.7056044, 47.70560762, 47.70561112, 47.70561808, 47.70563013, 47.70563945, 47.70565446, 47.70566206, 47.70567164, 47.7056805, 47.70569517, 47.70570597, 47.70571727, 47.70573507, 47.70574949, 47.70575992, 47.70577168, 47.7057868, 47.70580049, 47.70580882, 47.70582191, 47.70582209, 47.70583168, 47.70584264, 47.70584986, 47.70586981, 47.70590173, 47.70592422, 47.70594475, 47.70595994, 47.70596642, 47.70598563, 47.70599906, 47.70599977, 47.70600337, 47.70601845, 47.70603199, 47.70604627, 47.70606099, 47.70607526, 47.70609023, 47.70610624, 47.70612294, 47.70613654, 47.70614963, 47.70617834, 47.7062003, 47.70620023, 47.70622963, 47.70624181, 47.70626693, 47.70627545, 47.70629129, 47.70631074, 47.70631331, 47.70633141, 47.70632918, 47.70632622, 47.70633697, 47.70635581, 47.70637844, 47.70640541, 47.70641323, 47.70642839, 47.70645336, 47.70647468, 47.70649607, 47.70649979, 47.70651417, 47.70652551, 47.7065348, 47.70655255, 47.70657149, 47.70657198, 47.70657438, 47.70659476, 47.706613, 47.7066349, 47.70663058, 47.70662135, 47.70661086, 47.70662419, 47.70662678, 47.70662221, 47.70661186, 47.70661021, 47.70661259, 47.70661456, 47.70661644, 47.70660819, 47.70658769, 47.70655996, 47.7065332, 47.70651098, 47.70648898, 47.70646124, 47.70642447, 47.70639024, 47.70635617, 47.7063279, 47.70629865, 47.70626931, 47.70625279, 47.70624771, 47.70597353, 47.7060967, 47.70606347, 47.70606528, 47.705862, 47.70574789, 47.70563312, 47.70551769, 47.70537696, 47.705276, 47.70517641, 47.70514537, 47.70506797], \"legendgroup\": \"\", \"lon\": [17.72453165, 17.72441182, 17.72427204, 17.72412351, 17.72396356, 17.72380069, 17.72361901, 17.72344114, 17.72321189, 17.72310353, 17.7228713, 17.72263084, 17.72240913, 17.72216734, 17.7219188, 17.7216755, 17.72144145, 17.72119405, 17.72096573, 17.72073832, 17.72050762, 17.72028659, 17.72005539, 17.719849, 17.71964749, 17.71944546, 17.71925114, 17.71907074, 17.71889667, 17.71873776, 17.71859865, 17.71849554, 17.71840287, 17.71824891, 17.7181574, 17.71805828, 17.71795747, 17.71788822, 17.71780694, 17.71755187, 17.71742384, 17.71731615, 17.71720397, 17.71710312, 17.71700315, 17.71691755, 17.71686185, 17.71681376, 17.71678969, 17.71680092, 17.71682722, 17.71685373, 17.71687887, 17.71690498, 17.71692817, 17.71695264, 17.71697777, 17.71700294, 17.71702802, 17.71705248, 17.71707803, 17.71710453, 17.71713027, 17.71715609, 17.7171839, 17.71721087, 17.71723793, 17.71726598, 17.71729203, 17.71731727, 17.71734359, 17.71736916, 17.71739398, 17.71741817, 17.7174443, 17.71746916, 17.71749412, 17.71751586, 17.71753618, 17.71754313, 17.71753448, 17.71752565, 17.71751661, 17.71750405, 17.71748622, 17.71746238, 17.71743499, 17.71740126, 17.71736711, 17.71733477, 17.71727893, 17.71721822, 17.71715206, 17.71708441, 17.71701478, 17.71693324, 17.71684514, 17.71676622, 17.7166769, 17.71658855, 17.7165095, 17.7164262, 17.716355, 17.71629993, 17.71625874, 17.7162181, 17.71622405, 17.71623257, 17.71624593, 17.7162844, 17.71634476, 17.71640482, 17.71646183, 17.71651492, 17.71655835, 17.71674129, 17.7168453, 17.71698635, 17.71713677, 17.71726427, 17.7173512, 17.71740204, 17.71739892, 17.71730732, 17.71720753, 17.71698212, 17.71692468, 17.716887, 17.71686647, 17.71683047, 17.71680501, 17.71675044, 17.71667022, 17.71657542, 17.71648179, 17.71639403, 17.71633188, 17.71624061, 17.71615359, 17.71605444, 17.71595014, 17.71585736, 17.7157787, 17.7156772, 17.71559203, 17.71546748, 17.71538356, 17.71531791, 17.71522539, 17.71516242, 17.7150813, 17.71499099, 17.7149029, 17.71482164, 17.71472379, 17.71461039, 17.71448188, 17.71435063, 17.71421787, 17.71410223, 17.71398678, 17.71384823, 17.713711, 17.71358278, 17.71346951, 17.71336346, 17.71327496, 17.71321908, 17.71315404, 17.71339065, 17.7133281, 17.71321852, 17.71314558, 17.71293261, 17.71277327, 17.71272175, 17.71244956, 17.71225104, 17.71205113, 17.71188807, 17.71164644, 17.7114419, 17.7112331, 17.71105688, 17.71087219, 17.71071008, 17.71056719, 17.71041861, 17.71028901, 17.71014281, 17.71004784, 17.70994746, 17.70985455, 17.70980626, 17.70976076, 17.70973431, 17.70970488, 17.70978611, 17.70989489, 17.70992461, 17.70983834, 17.70973676, 17.70959337, 17.70946264, 17.70937207, 17.7092903, 17.70935365, 17.70950037, 17.70950094, 17.70982963, 17.70990253, 17.70996453, 17.71003695, 17.71010403, 17.71018081, 17.71028431, 17.71037945, 17.71050647, 17.71065999, 17.71083633, 17.71102617, 17.71123189, 17.71143107, 17.71164069, 17.71186282, 17.71208852, 17.71228102, 17.71243145, 17.71256319, 17.71261847, 17.71270058, 17.7128153, 17.71282706, 17.71316401, 17.71328339, 17.71339862, 17.71350452, 17.71359632, 17.71370696, 17.71381093, 17.71393571, 17.71407333, 17.71418406, 17.71431869, 17.71443299, 17.71454925, 17.71467837, 17.71480892, 17.71489235, 17.71497093, 17.71506274, 17.71514406, 17.7152273, 17.7153056, 17.71539504, 17.7154833, 17.71556688, 17.71565078, 17.7157242, 17.71580619, 17.71588901, 17.71598521, 17.71608298, 17.7162126, 17.71628278, 17.71636299, 17.7164303, 17.71651279, 17.71658634, 17.71664063, 17.71673227, 17.71681376, 17.71687484, 17.71690109, 17.7169117, 17.71696304, 17.71698614, 17.71700888, 17.71689613, 17.71678784, 17.71666069, 17.71651205, 17.71629276, 17.71606772, 17.71584628, 17.71561271, 17.71536752, 17.71511837, 17.71485677, 17.71457918, 17.71429587, 17.71401223, 17.7137297, 17.7134438, 17.7131664, 17.71288241, 17.7126106, 17.71233859, 17.71205432, 17.71177703, 17.71150211, 17.71121762, 17.71095938, 17.71069426, 17.71040767, 17.71013084, 17.70984002, 17.70953434, 17.70924229, 17.70894246, 17.70867175, 17.70836973, 17.70808472, 17.70780735, 17.70753979, 17.70725556, 17.70695853, 17.70665667, 17.70636267, 17.70608657, 17.7057911, 17.70551181, 17.70524164, 17.70499667, 17.70471573, 17.70442866, 17.7041576, 17.70390839, 17.70364403, 17.70338421, 17.7031319, 17.70286969, 17.70260616, 17.7023383, 17.7020677, 17.70178729, 17.70150566, 17.70127698, 17.70098962, 17.70071722, 17.70046696, 17.70019748, 17.69992618, 17.69964233, 17.69938868, 17.69915754, 17.69892817, 17.69868884, 17.69844912, 17.69821746, 17.69799683, 17.69777599, 17.69755119, 17.69733045, 17.6970932, 17.69685114, 17.69661165, 17.69637572, 17.69615834, 17.69593746, 17.69572081, 17.69550748, 17.69528664, 17.69506101, 17.69483673, 17.69460005, 17.69438, 17.69416231, 17.69393235, 17.69371505, 17.69347053, 17.69323871, 17.69300705, 17.69276496, 17.69253101, 17.69228226, 17.69204862, 17.69182523, 17.6915638, 17.69132299, 17.69107614, 17.6908434, 17.69060439, 17.69036272, 17.69011465, 17.68986058, 17.68961163, 17.6893851, 17.68914813, 17.68890578, 17.68867228, 17.68845976, 17.68826399, 17.68807257, 17.68790766, 17.68779197, 17.6877166, 17.68767203, 17.68756075, 17.68757206, 17.68758385, 17.68759582, 17.68760832, 17.68762134, 17.68763894, 17.68765322, 17.68766753, 17.68767935, 17.68768443, 17.68767225, 17.68766018, 17.68765488, 17.68763118, 17.68761575, 17.68762721, 17.68762284, 17.68761495, 17.68760718, 17.68760191, 17.68759507, 17.68758971, 17.68758261, 17.68790312, 17.68798661, 17.68809834, 17.68820877, 17.68831051, 17.68842158, 17.68853493, 17.68861671, 17.68873481, 17.68886996, 17.688975, 17.68905446, 17.68919039, 17.68932188, 17.68944962, 17.68956453, 17.68968288, 17.68981453, 17.68994786, 17.69007805, 17.69021965, 17.69035038, 17.69048086, 17.69061202, 17.69074699, 17.69087815, 17.69101846, 17.69116731, 17.69132683, 17.69149116, 17.69166386, 17.69184866, 17.69202541, 17.69220306, 17.69238392, 17.69257657, 17.69277867, 17.69299447, 17.69322107, 17.69344858, 17.69369527, 17.6939286, 17.69415439, 17.69440826, 17.69466998, 17.69492807, 17.69519514, 17.69544289, 17.69571902, 17.69597482, 17.69624583, 17.69649785, 17.69675614, 17.69701351, 17.69728994, 17.69752641, 17.69777961, 17.69803585, 17.69826594, 17.69850868, 17.69875882, 17.69900145, 17.69925762, 17.69951968, 17.69979471, 17.70007451, 17.70035553, 17.70061994, 17.7008914, 17.70114699, 17.70143736, 17.70171527, 17.70196443, 17.70222426, 17.70248149, 17.70275316, 17.70306979, 17.70334765, 17.70362168, 17.70388315, 17.70416115, 17.70444867, 17.70471955, 17.70499042, 17.70527248, 17.70554967, 17.70584472, 17.70613126, 17.70640939, 17.70670249, 17.70696821, 17.70725578, 17.70753905, 17.70783833, 17.70813312, 17.7084287, 17.70871011, 17.70900148, 17.70927069, 17.7095703, 17.70986343, 17.71012504, 17.71040276, 17.71068658, 17.71097346, 17.71125226, 17.71152673, 17.71180526, 17.71208528, 17.71236289, 17.71264706, 17.71292642, 17.713189, 17.71346046, 17.71373464, 17.71402248, 17.71429643, 17.71455907, 17.71482141, 17.71508105, 17.71534433, 17.71555437, 17.71576659, 17.71597678, 17.71611001, 17.71620404, 17.71666575, 17.7165048, 17.71652819, 17.71652691, 17.71656405, 17.7164989, 17.71644231, 17.71639044, 17.71633149, 17.71628925, 17.71625981, 17.71625205, 17.71624006], \"marker\": {\"color\": [0, 0, 0, 0, 0, 0, 0, 0, 0, 0, 0, 0, 0, 0, 0, 0, 0, 0, 0, 0, 0, 0, 0, 0, 0, 0, 0, 0, 0, 0, 0, 1, 0, 0, 0, 0, 0, 0, 0, 0, 0, 0, 0, 0, 0, 0, 0, 0, 0, 0, 0, 0, 0, 0, 0, 0, 0, 0, 0, 0, 0, 0, 0, 0, 0, 0, 0, 0, 0, 0, 0, 0, 0, 0, 0, 0, 0, 0, 0, 0, 0, 0, 0, 0, 0, 0, 0, 0, 0, 0, 0, 0, 0, 0, 0, 0, 0, 0, 0, 0, 0, 0, 0, 0, 0, 0, 0, 0, 0, 0, 0, 0, 0, 0, 0, 0, 0, 0, 0, 0, 0, 0, 0, 0, 0, 0, 0, 0, 0, 0, 0, 0, 0, 0, 0, 0, 0, 0, 0, 0, 0, 0, 0, 0, 0, 0, 0, 0, 0, 0, 0, 0, 0, 0, 0, 0, 0, 0, 0, 0, 0, 0, 0, 0, 0, 0, 0, 0, 0, 0, 0, 0, 0, 0, 0, 0, 0, 0, 0, 0, 0, 0, 0, 0, 0, 0, 0, 0, 0, 0, 0, 0, 0, 0, 0, 0, 0, 0, 0, 0, 0, 0, 0, 0, 0, 0, 0, 0, 0, 1, 0, 0, 0, 0, 0, 0, 0, 0, 0, 0, 0, 0, 0, 0, 0, 0, 0, 0, 0, 0, 0, 0, 0, 0, 0, 0, 0, 0, 0, 0, 0, 0, 0, 0, 0, 0, 0, 0, 0, 0, 0, 0, 0, 0, 0, 0, 0, 0, 0, 0, 0, 0, 0, 0, 0, 0, 0, 0, 0, 0, 0, 0, 0, 0, 0, 0, 0, 1, 0, 0, 0, 0, 0, 0, 0, 0, 0, 0, 0, 0, 0, 0, 0, 0, 0, 0, 0, 0, 0, 0, 0, 0, 0, 0, 0, 0, 0, 0, 0, 0, 0, 0, 0, 0, 0, 0, 0, 0, 0, 0, 0, 0, 0, 0, 0, 0, 0, 0, 0, 0, 0, 0, 0, 0, 0, 0, 0, 0, 0, 0, 0, 0, 0, 0, 0, 0, 0, 0, 0, 0, 0, 0, 0, 0, 0, 0, 0, 0, 0, 0, 0, 0, 0, 0, 0, 1, 1, 0, 0, 0, 0, 0, 0, 0, 0, 0, 0, 0, 0, 0, 0, 0, 0, 0, 0, 0, 0, 0, 0, 0, 0, 0, 0, 0, 0, 0, 0, 0, 1, 0, 0, 0, 0, 0, 0, 0, 0, 0, 0, 0, 0, 0, 0, 0, 0, 0, 0, 0, 0, 0, 0, 0, 0, 0, 0, 0, 0, 0, 0, 0, 0, 0, 0, 0, 0, 0, 0, 0, 0, 0, 0, 0, 0, 0, 0, 0, 0, 0, 0, 0, 0, 0, 0, 0, 0, 0, 0, 0, 0, 0, 0, 0, 0, 0, 0, 1, 0, 0, 0, 0, 0, 0, 0, 0, 1, 0, 0, 0, 0, 0, 0, 0, 0, 0, 0, 0, 0, 0, 0, 0, 0, 0, 0, 0, 0, 0, 0, 0, 0, 0, 0, 0, 0, 0, 0, 0, 0, 0, 0, 0, 0, 0, 0, 0, 0, 0, 0, 0, 0, 0, 0, 0, 0, 0, 0, 0, 0, 0, 0, 0, 0, 0, 0, 0, 0, 0, 0, 0, 0, 0, 0, 0, 0, 0, 0, 0, 0, 0, 0, 0, 0, 0, 0, 0, 0, 0, 0, 0, 0, 0, 0], \"coloraxis\": \"coloraxis\"}, \"mode\": \"markers\", \"name\": \"\", \"showlegend\": false, \"subplot\": \"mapbox\", \"type\": \"scattermapbox\"}],\n",
       "                        {\"coloraxis\": {\"colorbar\": {\"title\": {\"text\": \"label\"}}, \"colorscale\": [[0.0, \"green\"], [1.0, \"red\"]], \"showscale\": false}, \"height\": 300, \"legend\": {\"tracegroupgap\": 0}, \"mapbox\": {\"center\": {\"lat\": 47.70625601174689, \"lon\": 17.708033217504457}, \"domain\": {\"x\": [0.0, 1.0], \"y\": [0.0, 1.0]}, \"style\": \"open-street-map\", \"zoom\": 12}, \"margin\": {\"b\": 0, \"l\": 0, \"r\": 0, \"t\": 0}, \"template\": {\"data\": {\"bar\": [{\"error_x\": {\"color\": \"#2a3f5f\"}, \"error_y\": {\"color\": \"#2a3f5f\"}, \"marker\": {\"line\": {\"color\": \"#E5ECF6\", \"width\": 0.5}}, \"type\": \"bar\"}], \"barpolar\": [{\"marker\": {\"line\": {\"color\": \"#E5ECF6\", \"width\": 0.5}}, \"type\": \"barpolar\"}], \"carpet\": [{\"aaxis\": {\"endlinecolor\": \"#2a3f5f\", \"gridcolor\": \"white\", \"linecolor\": \"white\", \"minorgridcolor\": \"white\", \"startlinecolor\": \"#2a3f5f\"}, \"baxis\": {\"endlinecolor\": \"#2a3f5f\", \"gridcolor\": \"white\", \"linecolor\": \"white\", \"minorgridcolor\": \"white\", \"startlinecolor\": \"#2a3f5f\"}, \"type\": \"carpet\"}], \"choropleth\": [{\"colorbar\": {\"outlinewidth\": 0, \"ticks\": \"\"}, \"type\": \"choropleth\"}], \"contour\": [{\"colorbar\": {\"outlinewidth\": 0, \"ticks\": \"\"}, \"colorscale\": [[0.0, \"#0d0887\"], [0.1111111111111111, \"#46039f\"], [0.2222222222222222, \"#7201a8\"], [0.3333333333333333, \"#9c179e\"], [0.4444444444444444, \"#bd3786\"], [0.5555555555555556, \"#d8576b\"], [0.6666666666666666, \"#ed7953\"], [0.7777777777777778, \"#fb9f3a\"], [0.8888888888888888, \"#fdca26\"], [1.0, \"#f0f921\"]], \"type\": \"contour\"}], \"contourcarpet\": [{\"colorbar\": {\"outlinewidth\": 0, \"ticks\": \"\"}, \"type\": \"contourcarpet\"}], \"heatmap\": [{\"colorbar\": {\"outlinewidth\": 0, \"ticks\": \"\"}, \"colorscale\": [[0.0, \"#0d0887\"], [0.1111111111111111, \"#46039f\"], [0.2222222222222222, \"#7201a8\"], [0.3333333333333333, \"#9c179e\"], [0.4444444444444444, \"#bd3786\"], [0.5555555555555556, \"#d8576b\"], [0.6666666666666666, \"#ed7953\"], [0.7777777777777778, \"#fb9f3a\"], [0.8888888888888888, \"#fdca26\"], [1.0, \"#f0f921\"]], \"type\": \"heatmap\"}], \"heatmapgl\": [{\"colorbar\": {\"outlinewidth\": 0, \"ticks\": \"\"}, \"colorscale\": [[0.0, \"#0d0887\"], [0.1111111111111111, \"#46039f\"], [0.2222222222222222, \"#7201a8\"], [0.3333333333333333, \"#9c179e\"], [0.4444444444444444, \"#bd3786\"], [0.5555555555555556, \"#d8576b\"], [0.6666666666666666, \"#ed7953\"], [0.7777777777777778, \"#fb9f3a\"], [0.8888888888888888, \"#fdca26\"], [1.0, \"#f0f921\"]], \"type\": \"heatmapgl\"}], \"histogram\": [{\"marker\": {\"colorbar\": {\"outlinewidth\": 0, \"ticks\": \"\"}}, \"type\": \"histogram\"}], \"histogram2d\": [{\"colorbar\": {\"outlinewidth\": 0, \"ticks\": \"\"}, \"colorscale\": [[0.0, \"#0d0887\"], [0.1111111111111111, \"#46039f\"], [0.2222222222222222, \"#7201a8\"], [0.3333333333333333, \"#9c179e\"], [0.4444444444444444, \"#bd3786\"], [0.5555555555555556, \"#d8576b\"], [0.6666666666666666, \"#ed7953\"], [0.7777777777777778, \"#fb9f3a\"], [0.8888888888888888, \"#fdca26\"], [1.0, \"#f0f921\"]], \"type\": \"histogram2d\"}], \"histogram2dcontour\": [{\"colorbar\": {\"outlinewidth\": 0, \"ticks\": \"\"}, \"colorscale\": [[0.0, \"#0d0887\"], [0.1111111111111111, \"#46039f\"], [0.2222222222222222, \"#7201a8\"], [0.3333333333333333, \"#9c179e\"], [0.4444444444444444, \"#bd3786\"], [0.5555555555555556, \"#d8576b\"], [0.6666666666666666, \"#ed7953\"], [0.7777777777777778, \"#fb9f3a\"], [0.8888888888888888, \"#fdca26\"], [1.0, \"#f0f921\"]], \"type\": \"histogram2dcontour\"}], \"mesh3d\": [{\"colorbar\": {\"outlinewidth\": 0, \"ticks\": \"\"}, \"type\": \"mesh3d\"}], \"parcoords\": [{\"line\": {\"colorbar\": {\"outlinewidth\": 0, \"ticks\": \"\"}}, \"type\": \"parcoords\"}], \"pie\": [{\"automargin\": true, \"type\": \"pie\"}], \"scatter\": [{\"marker\": {\"colorbar\": {\"outlinewidth\": 0, \"ticks\": \"\"}}, \"type\": \"scatter\"}], \"scatter3d\": [{\"line\": {\"colorbar\": {\"outlinewidth\": 0, \"ticks\": \"\"}}, \"marker\": {\"colorbar\": {\"outlinewidth\": 0, \"ticks\": \"\"}}, \"type\": \"scatter3d\"}], \"scattercarpet\": [{\"marker\": {\"colorbar\": {\"outlinewidth\": 0, \"ticks\": \"\"}}, \"type\": \"scattercarpet\"}], \"scattergeo\": [{\"marker\": {\"colorbar\": {\"outlinewidth\": 0, \"ticks\": \"\"}}, \"type\": \"scattergeo\"}], \"scattergl\": [{\"marker\": {\"colorbar\": {\"outlinewidth\": 0, \"ticks\": \"\"}}, \"type\": \"scattergl\"}], \"scattermapbox\": [{\"marker\": {\"colorbar\": {\"outlinewidth\": 0, \"ticks\": \"\"}}, \"type\": \"scattermapbox\"}], \"scatterpolar\": [{\"marker\": {\"colorbar\": {\"outlinewidth\": 0, \"ticks\": \"\"}}, \"type\": \"scatterpolar\"}], \"scatterpolargl\": [{\"marker\": {\"colorbar\": {\"outlinewidth\": 0, \"ticks\": \"\"}}, \"type\": \"scatterpolargl\"}], \"scatterternary\": [{\"marker\": {\"colorbar\": {\"outlinewidth\": 0, \"ticks\": \"\"}}, \"type\": \"scatterternary\"}], \"surface\": [{\"colorbar\": {\"outlinewidth\": 0, \"ticks\": \"\"}, \"colorscale\": [[0.0, \"#0d0887\"], [0.1111111111111111, \"#46039f\"], [0.2222222222222222, \"#7201a8\"], [0.3333333333333333, \"#9c179e\"], [0.4444444444444444, \"#bd3786\"], [0.5555555555555556, \"#d8576b\"], [0.6666666666666666, \"#ed7953\"], [0.7777777777777778, \"#fb9f3a\"], [0.8888888888888888, \"#fdca26\"], [1.0, \"#f0f921\"]], \"type\": \"surface\"}], \"table\": [{\"cells\": {\"fill\": {\"color\": \"#EBF0F8\"}, \"line\": {\"color\": \"white\"}}, \"header\": {\"fill\": {\"color\": \"#C8D4E3\"}, \"line\": {\"color\": \"white\"}}, \"type\": \"table\"}]}, \"layout\": {\"annotationdefaults\": {\"arrowcolor\": \"#2a3f5f\", \"arrowhead\": 0, \"arrowwidth\": 1}, \"coloraxis\": {\"colorbar\": {\"outlinewidth\": 0, \"ticks\": \"\"}}, \"colorscale\": {\"diverging\": [[0, \"#8e0152\"], [0.1, \"#c51b7d\"], [0.2, \"#de77ae\"], [0.3, \"#f1b6da\"], [0.4, \"#fde0ef\"], [0.5, \"#f7f7f7\"], [0.6, \"#e6f5d0\"], [0.7, \"#b8e186\"], [0.8, \"#7fbc41\"], [0.9, \"#4d9221\"], [1, \"#276419\"]], \"sequential\": [[0.0, \"#0d0887\"], [0.1111111111111111, \"#46039f\"], [0.2222222222222222, \"#7201a8\"], [0.3333333333333333, \"#9c179e\"], [0.4444444444444444, \"#bd3786\"], [0.5555555555555556, \"#d8576b\"], [0.6666666666666666, \"#ed7953\"], [0.7777777777777778, \"#fb9f3a\"], [0.8888888888888888, \"#fdca26\"], [1.0, \"#f0f921\"]], \"sequentialminus\": [[0.0, \"#0d0887\"], [0.1111111111111111, \"#46039f\"], [0.2222222222222222, \"#7201a8\"], [0.3333333333333333, \"#9c179e\"], [0.4444444444444444, \"#bd3786\"], [0.5555555555555556, \"#d8576b\"], [0.6666666666666666, \"#ed7953\"], [0.7777777777777778, \"#fb9f3a\"], [0.8888888888888888, \"#fdca26\"], [1.0, \"#f0f921\"]]}, \"colorway\": [\"#636efa\", \"#EF553B\", \"#00cc96\", \"#ab63fa\", \"#FFA15A\", \"#19d3f3\", \"#FF6692\", \"#B6E880\", \"#FF97FF\", \"#FECB52\"], \"font\": {\"color\": \"#2a3f5f\"}, \"geo\": {\"bgcolor\": \"white\", \"lakecolor\": \"white\", \"landcolor\": \"#E5ECF6\", \"showlakes\": true, \"showland\": true, \"subunitcolor\": \"white\"}, \"hoverlabel\": {\"align\": \"left\"}, \"hovermode\": \"closest\", \"mapbox\": {\"style\": \"light\"}, \"paper_bgcolor\": \"white\", \"plot_bgcolor\": \"#E5ECF6\", \"polar\": {\"angularaxis\": {\"gridcolor\": \"white\", \"linecolor\": \"white\", \"ticks\": \"\"}, \"bgcolor\": \"#E5ECF6\", \"radialaxis\": {\"gridcolor\": \"white\", \"linecolor\": \"white\", \"ticks\": \"\"}}, \"scene\": {\"xaxis\": {\"backgroundcolor\": \"#E5ECF6\", \"gridcolor\": \"white\", \"gridwidth\": 2, \"linecolor\": \"white\", \"showbackground\": true, \"ticks\": \"\", \"zerolinecolor\": \"white\"}, \"yaxis\": {\"backgroundcolor\": \"#E5ECF6\", \"gridcolor\": \"white\", \"gridwidth\": 2, \"linecolor\": \"white\", \"showbackground\": true, \"ticks\": \"\", \"zerolinecolor\": \"white\"}, \"zaxis\": {\"backgroundcolor\": \"#E5ECF6\", \"gridcolor\": \"white\", \"gridwidth\": 2, \"linecolor\": \"white\", \"showbackground\": true, \"ticks\": \"\", \"zerolinecolor\": \"white\"}}, \"shapedefaults\": {\"line\": {\"color\": \"#2a3f5f\"}}, \"ternary\": {\"aaxis\": {\"gridcolor\": \"white\", \"linecolor\": \"white\", \"ticks\": \"\"}, \"baxis\": {\"gridcolor\": \"white\", \"linecolor\": \"white\", \"ticks\": \"\"}, \"bgcolor\": \"#E5ECF6\", \"caxis\": {\"gridcolor\": \"white\", \"linecolor\": \"white\", \"ticks\": \"\"}}, \"title\": {\"x\": 0.05}, \"xaxis\": {\"automargin\": true, \"gridcolor\": \"white\", \"linecolor\": \"white\", \"ticks\": \"\", \"title\": {\"standoff\": 15}, \"zerolinecolor\": \"white\", \"zerolinewidth\": 2}, \"yaxis\": {\"automargin\": true, \"gridcolor\": \"white\", \"linecolor\": \"white\", \"ticks\": \"\", \"title\": {\"standoff\": 15}, \"zerolinecolor\": \"white\", \"zerolinewidth\": 2}}}},\n",
       "                        {\"responsive\": true}\n",
       "                    ).then(function(){\n",
       "                            \n",
       "var gd = document.getElementById('b40385d9-fae7-49df-ac20-ae08a03d48d0');\n",
       "var x = new MutationObserver(function (mutations, observer) {{\n",
       "        var display = window.getComputedStyle(gd).display;\n",
       "        if (!display || display === 'none') {{\n",
       "            console.log([gd, 'removed!']);\n",
       "            Plotly.purge(gd);\n",
       "            observer.disconnect();\n",
       "        }}\n",
       "}});\n",
       "\n",
       "// Listen for the removal of the full notebook cells\n",
       "var notebookContainer = gd.closest('#notebook-container');\n",
       "if (notebookContainer) {{\n",
       "    x.observe(notebookContainer, {childList: true});\n",
       "}}\n",
       "\n",
       "// Listen for the clearing of the current output cell\n",
       "var outputEl = gd.closest('.output');\n",
       "if (outputEl) {{\n",
       "    x.observe(outputEl, {childList: true});\n",
       "}}\n",
       "\n",
       "                        })\n",
       "                };\n",
       "                });\n",
       "            </script>\n",
       "        </div>"
      ]
     },
     "metadata": {},
     "output_type": "display_data"
    },
    {
     "data": {
      "application/vnd.plotly.v1+json": {
       "config": {
        "linkText": "Export to plot.ly",
        "plotlyServerURL": "https://plot.ly",
        "showLink": false
       },
       "data": [
        {
         "hovertemplate": "lat=%{lat}<br>lon=%{lon}<br>label=%{marker.color}<extra></extra>",
         "lat": [
          47.68669249,
          47.68674786,
          47.68684174,
          47.68691976,
          47.68699872,
          47.68707416,
          47.68714869,
          47.68724895,
          47.68732611,
          47.68743439,
          47.68750674,
          47.68760298,
          47.68768084,
          47.6877579,
          47.68783667,
          47.68791847,
          47.68799741,
          47.68807552,
          47.68815172,
          47.68822363,
          47.68828808,
          47.68834752,
          47.68842337,
          47.68846323,
          47.68851113,
          47.68854394,
          47.68858904,
          47.68861063,
          47.68861785,
          47.68862093,
          47.68861678,
          47.68861258,
          47.68860728,
          47.6886017,
          47.68859625,
          47.68859066,
          47.68858909,
          47.68866708,
          47.68866072,
          47.68865368,
          47.68864154,
          47.68863255,
          47.68862226,
          47.68861438,
          47.68860996,
          47.68856145,
          47.688572,
          47.68859363,
          47.6886571,
          47.68865603,
          47.68875327,
          47.68881676,
          47.68885575,
          47.68891833,
          47.68896764,
          47.68901893,
          47.68907274,
          47.68913313,
          47.68919118,
          47.6892523,
          47.68930588,
          47.68935983,
          47.68941491,
          47.68946652,
          47.68951837,
          47.68957213,
          47.68964105,
          47.68971333,
          47.68980623,
          47.68988989,
          47.68998187,
          47.6900851,
          47.69019353,
          47.69030929,
          47.69042277,
          47.69054421,
          47.69065756,
          47.69077443,
          47.69088799,
          47.69100131,
          47.69112169,
          47.69123319,
          47.69134573,
          47.69146373,
          47.69158181,
          47.69169641,
          47.69181124,
          47.6919261,
          47.6920453,
          47.69216042,
          47.69228082,
          47.69239171,
          47.69251146,
          47.69263215,
          47.69274545,
          47.69285681,
          47.69297056,
          47.69307225,
          47.69318743,
          47.69329509,
          47.69341324,
          47.69352318,
          47.69363453,
          47.69374507,
          47.69385878,
          47.69397298,
          47.69408412,
          47.69419406,
          47.6942942,
          47.69437233,
          47.69444128,
          47.69451425,
          47.69458433,
          47.69464523,
          47.69467909,
          47.69467687,
          47.69482791,
          47.69482762,
          47.69482912,
          47.69483088,
          47.69483267,
          47.69483441,
          47.69483513,
          47.69484356,
          47.69693439,
          47.69690635,
          47.69687086,
          47.69680462,
          47.69676897,
          47.69665226,
          47.69661327,
          47.69658859,
          47.69651402,
          47.69646287,
          47.69640994,
          47.69635993,
          47.69630826,
          47.69625567,
          47.69620382,
          47.69615177,
          47.69610026,
          47.69605639,
          47.69598565,
          47.69592151,
          47.69588292,
          47.69580954,
          47.69575601,
          47.69570389,
          47.69565305,
          47.69560407,
          47.69555669,
          47.69551107,
          47.69546538,
          47.69541976,
          47.6953742,
          47.69532623,
          47.69527752,
          47.69523101,
          47.69518321,
          47.69516213,
          47.69509583,
          47.69505213,
          47.69501327,
          47.69496333,
          47.69492147,
          47.69490783,
          47.69484,
          47.69479682,
          47.69475658,
          47.69471554,
          47.69467453,
          47.69463156,
          47.69459019,
          47.69454744,
          47.69450219,
          47.69445101,
          47.69440457,
          47.69435986,
          47.69431546,
          47.69426818,
          47.69421875,
          47.69417017,
          47.69412058,
          47.69406836,
          47.69402054,
          47.69397348,
          47.69392922,
          47.69388538,
          47.6938678,
          47.69381457,
          47.69379285,
          47.69372949,
          47.69367804,
          47.69362774,
          47.69357855,
          47.69352942,
          47.69348016,
          47.69343111,
          47.69338203,
          47.69333263,
          47.69328513,
          47.69324906,
          47.69319744,
          47.69314747,
          47.69309859,
          47.69304745,
          47.69299813,
          47.69294868,
          47.69291194,
          47.69284246,
          47.69278459,
          47.69272698,
          47.69267038,
          47.69261493,
          47.69256315,
          47.69251398,
          47.6924673,
          47.69242172,
          47.69236564,
          47.69230754,
          47.69225496,
          47.69220721,
          47.69216186,
          47.69211682,
          47.69207236,
          47.69202915,
          47.67795106,
          47.67797928,
          47.6780244,
          47.67813946,
          47.67824813,
          47.6783591,
          47.67846621,
          47.6785894,
          47.67869967,
          47.67882672,
          47.67896104,
          47.67909293,
          47.67918465,
          47.67934607,
          47.6794602,
          47.67958013,
          47.67968679,
          47.67977934,
          47.67985253,
          47.67992624,
          47.6800045,
          47.68008622,
          47.68013263,
          47.68020223,
          47.6803146,
          47.6804338,
          47.68054102,
          47.68066203,
          47.68078865,
          47.68092484,
          47.68106162,
          47.68119885,
          47.68134238,
          47.68148954,
          47.68163525,
          47.68176847,
          47.68193386,
          47.68207252,
          47.68222391,
          47.68237213,
          47.68251632,
          47.68265841,
          47.68279947,
          47.6829367,
          47.6830805,
          47.68322065,
          47.68335336,
          47.6861042,
          47.68616646,
          47.68624238,
          47.68636322,
          47.6864497,
          47.68657145,
          47.68666828,
          47.68675452,
          47.6868557,
          47.68696231,
          47.68707105,
          47.68718314,
          47.68725383,
          47.68740555,
          47.68750567,
          47.68762807,
          47.68774315,
          47.68784897,
          47.68795261,
          47.68805902,
          47.68816239,
          47.68822588,
          47.68834904,
          47.6884385,
          47.68848122,
          47.68854157,
          47.68859439,
          47.68861575,
          47.68862175,
          47.68861333,
          47.68860467,
          47.68859472,
          47.68871466,
          47.68870581,
          47.68869203,
          47.6886747,
          47.68864904,
          47.68863295,
          47.68861444,
          47.68856717,
          47.68859329,
          47.68865658,
          47.68870193,
          47.68872041,
          47.68879737,
          47.68884423,
          47.68887747,
          47.68893033,
          47.6889828,
          47.68903718,
          47.68909332,
          47.68915751,
          47.6892173,
          47.68927943,
          47.68933098,
          47.68938296,
          47.68943803,
          47.6894884,
          47.68957191,
          47.68963456,
          47.6897447,
          47.68984515,
          47.68996262,
          47.69008867,
          47.69020736,
          47.69032597,
          47.69047153,
          47.69060459,
          47.6907482,
          47.69088278,
          47.69101906,
          47.69115969,
          47.69130561,
          47.6914493,
          47.69160023,
          47.69174752,
          47.69188977,
          47.69202814,
          47.69217066,
          47.69231807,
          47.69246108,
          47.69259926,
          47.69273845,
          47.6928694,
          47.69300528,
          47.69313869,
          47.69326917,
          47.69340081,
          47.69353457,
          47.69366441,
          47.69379821,
          47.69393571,
          47.69406736,
          47.69419213,
          47.69429583,
          47.69437541,
          47.69445602,
          47.69452608,
          47.69459622,
          47.69465883,
          47.69467862,
          47.69468567,
          47.69659308,
          47.69671254,
          47.696899,
          47.69703703,
          47.69714927,
          47.69727342,
          47.69738117,
          47.69745145,
          47.69756727,
          47.6976862,
          47.69781215,
          47.6979346,
          47.69806009,
          47.69818326,
          47.69830831,
          47.6984282,
          47.69854777,
          47.69867112,
          47.69878962,
          47.69890654,
          47.69903056,
          47.69914832,
          47.6992669,
          47.700848705,
          47.70110999,
          47.70036617,
          47.70025385,
          47.70008727,
          47.69990928,
          47.69978203,
          47.69957002,
          47.69946579,
          47.69934974,
          47.69923909,
          47.69913119,
          47.69483346,
          47.69477709,
          47.69468453,
          47.69457263,
          47.6944657,
          47.69431807,
          47.6942709,
          47.69415392,
          47.69404433,
          47.69394126,
          47.69380351,
          47.69366878,
          47.69355744,
          47.69343808,
          47.693315,
          47.69319943,
          47.69308132,
          47.69296061,
          47.69283903,
          47.69271659,
          47.69259354,
          47.69246915,
          47.69234292,
          47.69221405,
          47.69208324,
          47.69193943,
          47.69180244,
          47.691663,
          47.69152236,
          47.69136985,
          47.69123002,
          47.69109412,
          47.69095931,
          47.6908203,
          47.69068574,
          47.69055043,
          47.69041824,
          47.69028516,
          47.69014881,
          47.69002796,
          47.68990612,
          47.68979881,
          47.6897035,
          47.68962713,
          47.68957047,
          47.68951276,
          47.68946517,
          47.68942992,
          47.68939316,
          47.68935781,
          47.68932012,
          47.68927776,
          47.68923607,
          47.68919278,
          47.68915052,
          47.68911328,
          47.68907716,
          47.68904253,
          47.68901682,
          47.68897421,
          47.68894653,
          47.68885969,
          47.68884695,
          47.68878669,
          47.68873634,
          47.68869968,
          47.68866532,
          47.68860327,
          47.68857149,
          47.68856203,
          47.68852563,
          47.68852433,
          47.6885336,
          47.68854471,
          47.68855275,
          47.68855921,
          47.68856639,
          47.68857109,
          47.68857559,
          47.68857286,
          47.68859411,
          47.68859939,
          47.68860449,
          47.68860978,
          47.68861483,
          47.68862055,
          47.68862045,
          47.68861763,
          47.68826368,
          47.68822961,
          47.68809068,
          47.68798752,
          47.68788165,
          47.68778945,
          47.68770792,
          47.68762426,
          47.68753977,
          47.68751002,
          47.6873715,
          47.68728821,
          47.68720341,
          47.68711947,
          47.68704219,
          47.68696435,
          47.68688841,
          47.68681729,
          47.68675261,
          47.68669201,
          47.68663249,
          47.68657439,
          47.68652056,
          47.68646794,
          47.68616199,
          47.68606621,
          47.68595873,
          47.68584629,
          47.68572979,
          47.68567136,
          47.68552305,
          47.68541952,
          47.68530766,
          47.68519042,
          47.68507849,
          47.68497834,
          47.6848804,
          47.68478293,
          47.68465886,
          47.68460376,
          47.68457826,
          47.68456991
         ],
         "legendgroup": "",
         "lon": [
          17.68008043,
          17.68008971,
          17.68012696,
          17.68016103,
          17.68017257,
          17.68016542,
          17.68017096,
          17.68019619,
          17.6801713,
          17.68009449,
          17.68009877,
          17.6801042,
          17.68010823,
          17.68011222,
          17.6801163,
          17.68012054,
          17.68012463,
          17.68012867,
          17.68013262,
          17.68013635,
          17.68013853,
          17.68014049,
          17.68014024,
          17.68013169,
          17.6800982,
          17.68005777,
          17.67997013,
          17.67988423,
          17.67982358,
          17.67973916,
          17.67960633,
          17.6795109,
          17.67939038,
          17.6792635,
          17.67913934,
          17.67901228,
          17.67897659,
          17.67873741,
          17.6785969,
          17.67845418,
          17.6783106,
          17.67816688,
          17.67802587,
          17.6778907,
          17.67776081,
          17.6776365,
          17.67749723,
          17.67743594,
          17.67729328,
          17.67729551,
          17.67710635,
          17.67703467,
          17.67699101,
          17.67687527,
          17.67676812,
          17.67665548,
          17.676524,
          17.67638423,
          17.67624989,
          17.67610844,
          17.67598444,
          17.6758596,
          17.67572949,
          17.67560714,
          17.6754842,
          17.67535882,
          17.67524554,
          17.67514056,
          17.67505128,
          17.67498334,
          17.67491388,
          17.67484951,
          17.67479354,
          17.6747469,
          17.67472228,
          17.674701,
          17.67468348,
          17.67466844,
          17.67465381,
          17.67463923,
          17.67462373,
          17.67460937,
          17.67459488,
          17.67457969,
          17.67456448,
          17.67454973,
          17.67453495,
          17.67452016,
          17.67450481,
          17.67448999,
          17.67447449,
          17.67446021,
          17.67444479,
          17.67442925,
          17.67441467,
          17.67440033,
          17.67438568,
          17.67437263,
          17.67435895,
          17.67434617,
          17.67433214,
          17.67431908,
          17.6743051,
          17.67429093,
          17.67427635,
          17.67426394,
          17.67425362,
          17.67424079,
          17.67422468,
          17.67418851,
          17.67415087,
          17.6741104,
          17.6740705,
          17.67403481,
          17.67401497,
          17.67401966,
          17.67413791,
          17.67421842,
          17.67432832,
          17.67445732,
          17.67458895,
          17.67471615,
          17.67489821,
          17.6750535,
          17.64285222,
          17.64278001,
          17.64269184,
          17.64255008,
          17.64234372,
          17.64232173,
          17.64221831,
          17.64215282,
          17.64200725,
          17.64190833,
          17.64180597,
          17.64170925,
          17.64160932,
          17.64150762,
          17.64140733,
          17.64130668,
          17.64120707,
          17.64113328,
          17.64103056,
          17.64093162,
          17.64086907,
          17.64072705,
          17.64062293,
          17.64051785,
          17.64041422,
          17.64031166,
          17.64020831,
          17.64010454,
          17.63999829,
          17.63989152,
          17.63978486,
          17.63967355,
          17.63956318,
          17.6394578,
          17.63932972,
          17.63927319,
          17.63911134,
          17.63900481,
          17.63891009,
          17.63877568,
          17.63865792,
          17.63861957,
          17.63843402,
          17.63831593,
          17.63820593,
          17.63809372,
          17.6379836,
          17.63787115,
          17.63776288,
          17.63765534,
          17.6375457,
          17.6374305,
          17.63732686,
          17.63722885,
          17.63713148,
          17.63702782,
          17.63691945,
          17.63681521,
          17.63670902,
          17.63659716,
          17.63649476,
          17.63639396,
          17.63629918,
          17.63620529,
          17.63616763,
          17.63598285,
          17.63590732,
          17.63576791,
          17.63565692,
          17.63554841,
          17.63544229,
          17.63533631,
          17.63523004,
          17.63512424,
          17.63501836,
          17.6349118,
          17.63480933,
          17.63473152,
          17.63463036,
          17.63453312,
          17.63443803,
          17.63433855,
          17.63424259,
          17.63414637,
          17.6340749,
          17.63395256,
          17.63385198,
          17.63375186,
          17.63365349,
          17.63355712,
          17.63346713,
          17.63338168,
          17.63330055,
          17.6332223,
          17.63313822,
          17.63304806,
          17.63295694,
          17.63286551,
          17.63277707,
          17.63268925,
          17.63260253,
          17.63251398,
          17.69308722,
          17.69297421,
          17.69288736,
          17.6928528,
          17.69282503,
          17.69281563,
          17.69281779,
          17.69280564,
          17.69283117,
          17.69282217,
          17.69281266,
          17.69277453,
          17.69276398,
          17.69274981,
          17.69274952,
          17.69274678,
          17.69274514,
          17.69274416,
          17.69274614,
          17.69275278,
          17.69280415,
          17.69285343,
          17.69286935,
          17.69284569,
          17.69276469,
          17.69272698,
          17.69272557,
          17.69274063,
          17.69273865,
          17.69274193,
          17.692747,
          17.69275071,
          17.69275239,
          17.69274514,
          17.69274204,
          17.69274267,
          17.69272038,
          17.69273403,
          17.69273395,
          17.69273214,
          17.69273224,
          17.69272653,
          17.69272063,
          17.6927246,
          17.6927267,
          17.69272596,
          17.69272519,
          17.68012203,
          17.68007772,
          17.68004898,
          17.68004632,
          17.68006287,
          17.68004899,
          17.68004266,
          17.68004943,
          17.68005737,
          17.68006573,
          17.68007332,
          17.68007975,
          17.68008381,
          17.68009278,
          17.68009871,
          17.6801055,
          17.68011146,
          17.68011694,
          17.68012231,
          17.68012782,
          17.68013317,
          17.68013646,
          17.68014052,
          17.68013931,
          17.68012306,
          17.68006145,
          17.67995274,
          17.67984433,
          17.67969797,
          17.67952791,
          17.67933104,
          17.67910473,
          17.67888778,
          17.67867959,
          17.67846996,
          17.67826016,
          17.67805562,
          17.67786875,
          17.67769929,
          17.67751993,
          17.67743683,
          17.67729436,
          17.67718145,
          17.67714684,
          17.67705642,
          17.67700385,
          17.67695925,
          17.67684914,
          17.67673528,
          17.67661046,
          17.67647638,
          17.67632782,
          17.67618946,
          17.67604565,
          17.67592636,
          17.67580524,
          17.67567468,
          17.67555526,
          17.67535925,
          17.6752555,
          17.67510502,
          17.67501835,
          17.67492652,
          17.67484759,
          17.67478683,
          17.67474211,
          17.67471234,
          17.67469158,
          17.67467181,
          17.67465449,
          17.67463694,
          17.67461883,
          17.67460005,
          17.67458155,
          17.67456211,
          17.67454315,
          17.67452484,
          17.67450702,
          17.67448867,
          17.67446969,
          17.67445128,
          17.67443349,
          17.67441557,
          17.67439871,
          17.67438121,
          17.67436474,
          17.67434924,
          17.67433361,
          17.67431773,
          17.67430127,
          17.67428412,
          17.6742674,
          17.67425517,
          17.6742411,
          17.67422442,
          17.67418684,
          17.67414269,
          17.67410384,
          17.67406353,
          17.67402684,
          17.67401525,
          17.67402866,
          17.67934373,
          17.67943757,
          17.67938975,
          17.67934849,
          17.67933647,
          17.67929399,
          17.67930257,
          17.67928986,
          17.67926729,
          17.67923838,
          17.67922615,
          17.67921335,
          17.67919896,
          17.67915283,
          17.67913666,
          17.67912115,
          17.67910569,
          17.67908973,
          17.67907441,
          17.67905968,
          17.67904406,
          17.67902922,
          17.67901429,
          17.677257085,
          17.67725441,
          17.6788255,
          17.67880681,
          17.67876957,
          17.678719,
          17.67874199,
          17.67886961,
          17.67888275,
          17.67889544,
          17.67891174,
          17.67903138,
          17.67391821,
          17.67388831,
          17.6739393,
          17.67400416,
          17.67408785,
          17.67417479,
          17.67417229,
          17.67424714,
          17.67425731,
          17.67426688,
          17.67428344,
          17.67430071,
          17.67431498,
          17.67432919,
          17.6743438,
          17.67435753,
          17.67437155,
          17.67438696,
          17.67440262,
          17.67441838,
          17.67443422,
          17.67445024,
          17.67446649,
          17.67448308,
          17.67449993,
          17.67451844,
          17.67453608,
          17.67455403,
          17.67457214,
          17.67459177,
          17.67460978,
          17.67462728,
          17.67464463,
          17.67466253,
          17.67467985,
          17.67470003,
          17.6747232,
          17.6747549,
          17.67481523,
          17.67488359,
          17.67497065,
          17.67505759,
          17.67515422,
          17.67526689,
          17.67536207,
          17.6754975,
          17.67561034,
          17.67569391,
          17.67578107,
          17.67586426,
          17.67595149,
          17.67604953,
          17.67614602,
          17.6762462,
          17.67634399,
          17.67643018,
          17.67651376,
          17.67659727,
          17.67666069,
          17.6767539,
          17.67681387,
          17.67698662,
          17.67700082,
          17.6770684,
          17.67712721,
          17.67718568,
          17.67727255,
          17.67740772,
          17.67749962,
          17.67762418,
          17.67775749,
          17.67789959,
          17.678043,
          17.67818606,
          17.67832719,
          17.6784627,
          17.67859178,
          17.67871931,
          17.67884556,
          17.67896971,
          17.67909066,
          17.67921091,
          17.67932676,
          17.67944716,
          17.67956195,
          17.67966452,
          17.67976347,
          17.67982796,
          17.68013772,
          17.6801366,
          17.68012946,
          17.68012412,
          17.68011863,
          17.68011386,
          17.68010963,
          17.6801053,
          17.68010069,
          17.68009896,
          17.68009076,
          17.68008583,
          17.68008092,
          17.6800761,
          17.68007167,
          17.68006589,
          17.68005993,
          17.68005435,
          17.68004928,
          17.68004452,
          17.68003985,
          17.68003529,
          17.68003107,
          17.68002694,
          17.68000221,
          17.67999408,
          17.67998646,
          17.67997959,
          17.67997247,
          17.6799689,
          17.67995821,
          17.67995074,
          17.67994266,
          17.6799342,
          17.67992613,
          17.6799189,
          17.67990711,
          17.67988227,
          17.67980302,
          17.67969264,
          17.67954235,
          17.67939194
         ],
         "marker": {
          "color": [
           1,
           1,
           1,
           1,
           1,
           1,
           1,
           1,
           1,
           1,
           1,
           1,
           1,
           1,
           1,
           1,
           1,
           1,
           1,
           1,
           1,
           1,
           1,
           1,
           1,
           1,
           1,
           1,
           1,
           1,
           1,
           1,
           1,
           1,
           1,
           1,
           1,
           1,
           1,
           1,
           1,
           1,
           1,
           1,
           1,
           1,
           1,
           1,
           1,
           1,
           1,
           1,
           1,
           1,
           1,
           1,
           1,
           1,
           1,
           1,
           1,
           1,
           1,
           1,
           1,
           1,
           1,
           1,
           1,
           1,
           1,
           1,
           1,
           1,
           1,
           1,
           1,
           1,
           1,
           1,
           1,
           1,
           1,
           1,
           1,
           1,
           1,
           1,
           1,
           1,
           1,
           1,
           1,
           1,
           1,
           1,
           1,
           1,
           1,
           1,
           1,
           1,
           1,
           1,
           1,
           1,
           1,
           1,
           1,
           1,
           1,
           1,
           1,
           1,
           0,
           1,
           1,
           0,
           1,
           1,
           1,
           1,
           1,
           1,
           1,
           1,
           1,
           1,
           1,
           1,
           1,
           1,
           1,
           1,
           1,
           1,
           1,
           1,
           1,
           1,
           1,
           1,
           1,
           1,
           1,
           1,
           1,
           1,
           1,
           1,
           1,
           1,
           1,
           1,
           1,
           1,
           1,
           1,
           1,
           1,
           1,
           1,
           1,
           1,
           1,
           1,
           1,
           1,
           1,
           1,
           1,
           1,
           1,
           1,
           1,
           1,
           1,
           1,
           1,
           1,
           1,
           1,
           1,
           1,
           1,
           1,
           1,
           1,
           1,
           1,
           1,
           1,
           1,
           1,
           1,
           1,
           1,
           1,
           1,
           1,
           1,
           1,
           1,
           1,
           1,
           1,
           1,
           1,
           1,
           1,
           1,
           1,
           1,
           1,
           1,
           1,
           1,
           1,
           1,
           1,
           1,
           1,
           1,
           1,
           1,
           1,
           1,
           1,
           1,
           1,
           1,
           1,
           1,
           1,
           1,
           1,
           1,
           1,
           1,
           1,
           1,
           1,
           1,
           1,
           1,
           1,
           1,
           1,
           1,
           1,
           1,
           1,
           1,
           1,
           1,
           1,
           1,
           1,
           1,
           1,
           1,
           1,
           1,
           1,
           1,
           1,
           1,
           1,
           1,
           1,
           1,
           1,
           1,
           1,
           1,
           1,
           1,
           1,
           1,
           1,
           1,
           1,
           1,
           1,
           1,
           1,
           1,
           1,
           1,
           1,
           1,
           1,
           1,
           1,
           1,
           1,
           1,
           1,
           1,
           1,
           1,
           1,
           1,
           1,
           1,
           1,
           1,
           1,
           1,
           1,
           1,
           1,
           1,
           1,
           1,
           1,
           1,
           1,
           1,
           1,
           1,
           1,
           1,
           1,
           1,
           1,
           1,
           1,
           1,
           1,
           1,
           1,
           1,
           1,
           1,
           1,
           1,
           1,
           1,
           1,
           1,
           1,
           1,
           1,
           1,
           1,
           1,
           1,
           1,
           1,
           1,
           1,
           1,
           1,
           0,
           1,
           1,
           1,
           1,
           1,
           1,
           1,
           1,
           1,
           1,
           1,
           1,
           1,
           1,
           1,
           1,
           1,
           1,
           0,
           0,
           1,
           1,
           1,
           1,
           1,
           1,
           1,
           1,
           1,
           1,
           1,
           1,
           1,
           1,
           1,
           1,
           1,
           1,
           1,
           1,
           1,
           1,
           1,
           1,
           1,
           1,
           1,
           1,
           1,
           1,
           1,
           1,
           1,
           1,
           1,
           1,
           0,
           0,
           1,
           0,
           1,
           1,
           1,
           1,
           1,
           1,
           1,
           1,
           1,
           1,
           1,
           1,
           1,
           1,
           1,
           1,
           1,
           1,
           1,
           1,
           1,
           1,
           1,
           1,
           1,
           1,
           1,
           1,
           1,
           1,
           1,
           1,
           1,
           1,
           1,
           1,
           1,
           1,
           1,
           1,
           1,
           1,
           1,
           1,
           1,
           1,
           1,
           1,
           1,
           1,
           1,
           1,
           1,
           1,
           1,
           1,
           1,
           1,
           1,
           1,
           1,
           1,
           1,
           1,
           1,
           1,
           1,
           1,
           1,
           1,
           1,
           1,
           1,
           1,
           1,
           1,
           1,
           1,
           1,
           1,
           1,
           1,
           1,
           1,
           1,
           1,
           1,
           1,
           1,
           1,
           1,
           1,
           1,
           1,
           1,
           1,
           1,
           1,
           1,
           1,
           1,
           1,
           1,
           1,
           1,
           1,
           1,
           1,
           1,
           1,
           1,
           1,
           1,
           1,
           1,
           1,
           1,
           1,
           1,
           1,
           1,
           1,
           1,
           1,
           1
          ],
          "coloraxis": "coloraxis"
         },
         "mode": "markers",
         "name": "",
         "showlegend": false,
         "subplot": "mapbox",
         "type": "scattermapbox"
        }
       ],
       "layout": {
        "coloraxis": {
         "colorbar": {
          "title": {
           "text": "label"
          }
         },
         "colorscale": [
          [
           0,
           "green"
          ],
          [
           1,
           "red"
          ]
         ],
         "showscale": false
        },
        "height": 300,
        "legend": {
         "tracegroupgap": 0
        },
        "mapbox": {
         "center": {
          "lat": 47.69046594587963,
          "lon": 17.671032746842588
         },
         "domain": {
          "x": [
           0,
           1
          ],
          "y": [
           0,
           1
          ]
         },
         "style": "open-street-map",
         "zoom": 12
        },
        "margin": {
         "b": 0,
         "l": 0,
         "r": 0,
         "t": 0
        },
        "template": {
         "data": {
          "bar": [
           {
            "error_x": {
             "color": "#2a3f5f"
            },
            "error_y": {
             "color": "#2a3f5f"
            },
            "marker": {
             "line": {
              "color": "#E5ECF6",
              "width": 0.5
             }
            },
            "type": "bar"
           }
          ],
          "barpolar": [
           {
            "marker": {
             "line": {
              "color": "#E5ECF6",
              "width": 0.5
             }
            },
            "type": "barpolar"
           }
          ],
          "carpet": [
           {
            "aaxis": {
             "endlinecolor": "#2a3f5f",
             "gridcolor": "white",
             "linecolor": "white",
             "minorgridcolor": "white",
             "startlinecolor": "#2a3f5f"
            },
            "baxis": {
             "endlinecolor": "#2a3f5f",
             "gridcolor": "white",
             "linecolor": "white",
             "minorgridcolor": "white",
             "startlinecolor": "#2a3f5f"
            },
            "type": "carpet"
           }
          ],
          "choropleth": [
           {
            "colorbar": {
             "outlinewidth": 0,
             "ticks": ""
            },
            "type": "choropleth"
           }
          ],
          "contour": [
           {
            "colorbar": {
             "outlinewidth": 0,
             "ticks": ""
            },
            "colorscale": [
             [
              0,
              "#0d0887"
             ],
             [
              0.1111111111111111,
              "#46039f"
             ],
             [
              0.2222222222222222,
              "#7201a8"
             ],
             [
              0.3333333333333333,
              "#9c179e"
             ],
             [
              0.4444444444444444,
              "#bd3786"
             ],
             [
              0.5555555555555556,
              "#d8576b"
             ],
             [
              0.6666666666666666,
              "#ed7953"
             ],
             [
              0.7777777777777778,
              "#fb9f3a"
             ],
             [
              0.8888888888888888,
              "#fdca26"
             ],
             [
              1,
              "#f0f921"
             ]
            ],
            "type": "contour"
           }
          ],
          "contourcarpet": [
           {
            "colorbar": {
             "outlinewidth": 0,
             "ticks": ""
            },
            "type": "contourcarpet"
           }
          ],
          "heatmap": [
           {
            "colorbar": {
             "outlinewidth": 0,
             "ticks": ""
            },
            "colorscale": [
             [
              0,
              "#0d0887"
             ],
             [
              0.1111111111111111,
              "#46039f"
             ],
             [
              0.2222222222222222,
              "#7201a8"
             ],
             [
              0.3333333333333333,
              "#9c179e"
             ],
             [
              0.4444444444444444,
              "#bd3786"
             ],
             [
              0.5555555555555556,
              "#d8576b"
             ],
             [
              0.6666666666666666,
              "#ed7953"
             ],
             [
              0.7777777777777778,
              "#fb9f3a"
             ],
             [
              0.8888888888888888,
              "#fdca26"
             ],
             [
              1,
              "#f0f921"
             ]
            ],
            "type": "heatmap"
           }
          ],
          "heatmapgl": [
           {
            "colorbar": {
             "outlinewidth": 0,
             "ticks": ""
            },
            "colorscale": [
             [
              0,
              "#0d0887"
             ],
             [
              0.1111111111111111,
              "#46039f"
             ],
             [
              0.2222222222222222,
              "#7201a8"
             ],
             [
              0.3333333333333333,
              "#9c179e"
             ],
             [
              0.4444444444444444,
              "#bd3786"
             ],
             [
              0.5555555555555556,
              "#d8576b"
             ],
             [
              0.6666666666666666,
              "#ed7953"
             ],
             [
              0.7777777777777778,
              "#fb9f3a"
             ],
             [
              0.8888888888888888,
              "#fdca26"
             ],
             [
              1,
              "#f0f921"
             ]
            ],
            "type": "heatmapgl"
           }
          ],
          "histogram": [
           {
            "marker": {
             "colorbar": {
              "outlinewidth": 0,
              "ticks": ""
             }
            },
            "type": "histogram"
           }
          ],
          "histogram2d": [
           {
            "colorbar": {
             "outlinewidth": 0,
             "ticks": ""
            },
            "colorscale": [
             [
              0,
              "#0d0887"
             ],
             [
              0.1111111111111111,
              "#46039f"
             ],
             [
              0.2222222222222222,
              "#7201a8"
             ],
             [
              0.3333333333333333,
              "#9c179e"
             ],
             [
              0.4444444444444444,
              "#bd3786"
             ],
             [
              0.5555555555555556,
              "#d8576b"
             ],
             [
              0.6666666666666666,
              "#ed7953"
             ],
             [
              0.7777777777777778,
              "#fb9f3a"
             ],
             [
              0.8888888888888888,
              "#fdca26"
             ],
             [
              1,
              "#f0f921"
             ]
            ],
            "type": "histogram2d"
           }
          ],
          "histogram2dcontour": [
           {
            "colorbar": {
             "outlinewidth": 0,
             "ticks": ""
            },
            "colorscale": [
             [
              0,
              "#0d0887"
             ],
             [
              0.1111111111111111,
              "#46039f"
             ],
             [
              0.2222222222222222,
              "#7201a8"
             ],
             [
              0.3333333333333333,
              "#9c179e"
             ],
             [
              0.4444444444444444,
              "#bd3786"
             ],
             [
              0.5555555555555556,
              "#d8576b"
             ],
             [
              0.6666666666666666,
              "#ed7953"
             ],
             [
              0.7777777777777778,
              "#fb9f3a"
             ],
             [
              0.8888888888888888,
              "#fdca26"
             ],
             [
              1,
              "#f0f921"
             ]
            ],
            "type": "histogram2dcontour"
           }
          ],
          "mesh3d": [
           {
            "colorbar": {
             "outlinewidth": 0,
             "ticks": ""
            },
            "type": "mesh3d"
           }
          ],
          "parcoords": [
           {
            "line": {
             "colorbar": {
              "outlinewidth": 0,
              "ticks": ""
             }
            },
            "type": "parcoords"
           }
          ],
          "pie": [
           {
            "automargin": true,
            "type": "pie"
           }
          ],
          "scatter": [
           {
            "marker": {
             "colorbar": {
              "outlinewidth": 0,
              "ticks": ""
             }
            },
            "type": "scatter"
           }
          ],
          "scatter3d": [
           {
            "line": {
             "colorbar": {
              "outlinewidth": 0,
              "ticks": ""
             }
            },
            "marker": {
             "colorbar": {
              "outlinewidth": 0,
              "ticks": ""
             }
            },
            "type": "scatter3d"
           }
          ],
          "scattercarpet": [
           {
            "marker": {
             "colorbar": {
              "outlinewidth": 0,
              "ticks": ""
             }
            },
            "type": "scattercarpet"
           }
          ],
          "scattergeo": [
           {
            "marker": {
             "colorbar": {
              "outlinewidth": 0,
              "ticks": ""
             }
            },
            "type": "scattergeo"
           }
          ],
          "scattergl": [
           {
            "marker": {
             "colorbar": {
              "outlinewidth": 0,
              "ticks": ""
             }
            },
            "type": "scattergl"
           }
          ],
          "scattermapbox": [
           {
            "marker": {
             "colorbar": {
              "outlinewidth": 0,
              "ticks": ""
             }
            },
            "type": "scattermapbox"
           }
          ],
          "scatterpolar": [
           {
            "marker": {
             "colorbar": {
              "outlinewidth": 0,
              "ticks": ""
             }
            },
            "type": "scatterpolar"
           }
          ],
          "scatterpolargl": [
           {
            "marker": {
             "colorbar": {
              "outlinewidth": 0,
              "ticks": ""
             }
            },
            "type": "scatterpolargl"
           }
          ],
          "scatterternary": [
           {
            "marker": {
             "colorbar": {
              "outlinewidth": 0,
              "ticks": ""
             }
            },
            "type": "scatterternary"
           }
          ],
          "surface": [
           {
            "colorbar": {
             "outlinewidth": 0,
             "ticks": ""
            },
            "colorscale": [
             [
              0,
              "#0d0887"
             ],
             [
              0.1111111111111111,
              "#46039f"
             ],
             [
              0.2222222222222222,
              "#7201a8"
             ],
             [
              0.3333333333333333,
              "#9c179e"
             ],
             [
              0.4444444444444444,
              "#bd3786"
             ],
             [
              0.5555555555555556,
              "#d8576b"
             ],
             [
              0.6666666666666666,
              "#ed7953"
             ],
             [
              0.7777777777777778,
              "#fb9f3a"
             ],
             [
              0.8888888888888888,
              "#fdca26"
             ],
             [
              1,
              "#f0f921"
             ]
            ],
            "type": "surface"
           }
          ],
          "table": [
           {
            "cells": {
             "fill": {
              "color": "#EBF0F8"
             },
             "line": {
              "color": "white"
             }
            },
            "header": {
             "fill": {
              "color": "#C8D4E3"
             },
             "line": {
              "color": "white"
             }
            },
            "type": "table"
           }
          ]
         },
         "layout": {
          "annotationdefaults": {
           "arrowcolor": "#2a3f5f",
           "arrowhead": 0,
           "arrowwidth": 1
          },
          "coloraxis": {
           "colorbar": {
            "outlinewidth": 0,
            "ticks": ""
           }
          },
          "colorscale": {
           "diverging": [
            [
             0,
             "#8e0152"
            ],
            [
             0.1,
             "#c51b7d"
            ],
            [
             0.2,
             "#de77ae"
            ],
            [
             0.3,
             "#f1b6da"
            ],
            [
             0.4,
             "#fde0ef"
            ],
            [
             0.5,
             "#f7f7f7"
            ],
            [
             0.6,
             "#e6f5d0"
            ],
            [
             0.7,
             "#b8e186"
            ],
            [
             0.8,
             "#7fbc41"
            ],
            [
             0.9,
             "#4d9221"
            ],
            [
             1,
             "#276419"
            ]
           ],
           "sequential": [
            [
             0,
             "#0d0887"
            ],
            [
             0.1111111111111111,
             "#46039f"
            ],
            [
             0.2222222222222222,
             "#7201a8"
            ],
            [
             0.3333333333333333,
             "#9c179e"
            ],
            [
             0.4444444444444444,
             "#bd3786"
            ],
            [
             0.5555555555555556,
             "#d8576b"
            ],
            [
             0.6666666666666666,
             "#ed7953"
            ],
            [
             0.7777777777777778,
             "#fb9f3a"
            ],
            [
             0.8888888888888888,
             "#fdca26"
            ],
            [
             1,
             "#f0f921"
            ]
           ],
           "sequentialminus": [
            [
             0,
             "#0d0887"
            ],
            [
             0.1111111111111111,
             "#46039f"
            ],
            [
             0.2222222222222222,
             "#7201a8"
            ],
            [
             0.3333333333333333,
             "#9c179e"
            ],
            [
             0.4444444444444444,
             "#bd3786"
            ],
            [
             0.5555555555555556,
             "#d8576b"
            ],
            [
             0.6666666666666666,
             "#ed7953"
            ],
            [
             0.7777777777777778,
             "#fb9f3a"
            ],
            [
             0.8888888888888888,
             "#fdca26"
            ],
            [
             1,
             "#f0f921"
            ]
           ]
          },
          "colorway": [
           "#636efa",
           "#EF553B",
           "#00cc96",
           "#ab63fa",
           "#FFA15A",
           "#19d3f3",
           "#FF6692",
           "#B6E880",
           "#FF97FF",
           "#FECB52"
          ],
          "font": {
           "color": "#2a3f5f"
          },
          "geo": {
           "bgcolor": "white",
           "lakecolor": "white",
           "landcolor": "#E5ECF6",
           "showlakes": true,
           "showland": true,
           "subunitcolor": "white"
          },
          "hoverlabel": {
           "align": "left"
          },
          "hovermode": "closest",
          "mapbox": {
           "style": "light"
          },
          "paper_bgcolor": "white",
          "plot_bgcolor": "#E5ECF6",
          "polar": {
           "angularaxis": {
            "gridcolor": "white",
            "linecolor": "white",
            "ticks": ""
           },
           "bgcolor": "#E5ECF6",
           "radialaxis": {
            "gridcolor": "white",
            "linecolor": "white",
            "ticks": ""
           }
          },
          "scene": {
           "xaxis": {
            "backgroundcolor": "#E5ECF6",
            "gridcolor": "white",
            "gridwidth": 2,
            "linecolor": "white",
            "showbackground": true,
            "ticks": "",
            "zerolinecolor": "white"
           },
           "yaxis": {
            "backgroundcolor": "#E5ECF6",
            "gridcolor": "white",
            "gridwidth": 2,
            "linecolor": "white",
            "showbackground": true,
            "ticks": "",
            "zerolinecolor": "white"
           },
           "zaxis": {
            "backgroundcolor": "#E5ECF6",
            "gridcolor": "white",
            "gridwidth": 2,
            "linecolor": "white",
            "showbackground": true,
            "ticks": "",
            "zerolinecolor": "white"
           }
          },
          "shapedefaults": {
           "line": {
            "color": "#2a3f5f"
           }
          },
          "ternary": {
           "aaxis": {
            "gridcolor": "white",
            "linecolor": "white",
            "ticks": ""
           },
           "baxis": {
            "gridcolor": "white",
            "linecolor": "white",
            "ticks": ""
           },
           "bgcolor": "#E5ECF6",
           "caxis": {
            "gridcolor": "white",
            "linecolor": "white",
            "ticks": ""
           }
          },
          "title": {
           "x": 0.05
          },
          "xaxis": {
           "automargin": true,
           "gridcolor": "white",
           "linecolor": "white",
           "ticks": "",
           "title": {
            "standoff": 15
           },
           "zerolinecolor": "white",
           "zerolinewidth": 2
          },
          "yaxis": {
           "automargin": true,
           "gridcolor": "white",
           "linecolor": "white",
           "ticks": "",
           "title": {
            "standoff": 15
           },
           "zerolinecolor": "white",
           "zerolinewidth": 2
          }
         }
        }
       }
      },
      "text/html": [
       "<div>\n",
       "        \n",
       "        \n",
       "            <div id=\"2b0317aa-4ef6-4a60-af1d-6fb7327082a0\" class=\"plotly-graph-div\" style=\"height:300px; width:100%;\"></div>\n",
       "            <script type=\"text/javascript\">\n",
       "                require([\"plotly\"], function(Plotly) {\n",
       "                    window.PLOTLYENV=window.PLOTLYENV || {};\n",
       "                    \n",
       "                if (document.getElementById(\"2b0317aa-4ef6-4a60-af1d-6fb7327082a0\")) {\n",
       "                    Plotly.newPlot(\n",
       "                        '2b0317aa-4ef6-4a60-af1d-6fb7327082a0',\n",
       "                        [{\"hovertemplate\": \"lat=%{lat}<br>lon=%{lon}<br>label=%{marker.color}<extra></extra>\", \"lat\": [47.68669249, 47.68674786, 47.68684174, 47.68691976, 47.68699872, 47.68707416, 47.68714869, 47.68724895, 47.68732611, 47.68743439, 47.68750674, 47.68760298, 47.68768084, 47.6877579, 47.68783667, 47.68791847, 47.68799741, 47.68807552, 47.68815172, 47.68822363, 47.68828808, 47.68834752, 47.68842337, 47.68846323, 47.68851113, 47.68854394, 47.68858904, 47.68861063, 47.68861785, 47.68862093, 47.68861678, 47.68861258, 47.68860728, 47.6886017, 47.68859625, 47.68859066, 47.68858909, 47.68866708, 47.68866072, 47.68865368, 47.68864154, 47.68863255, 47.68862226, 47.68861438, 47.68860996, 47.68856145, 47.688572, 47.68859363, 47.6886571, 47.68865603, 47.68875327, 47.68881676, 47.68885575, 47.68891833, 47.68896764, 47.68901893, 47.68907274, 47.68913313, 47.68919118, 47.6892523, 47.68930588, 47.68935983, 47.68941491, 47.68946652, 47.68951837, 47.68957213, 47.68964105, 47.68971333, 47.68980623, 47.68988989, 47.68998187, 47.6900851, 47.69019353, 47.69030929, 47.69042277, 47.69054421, 47.69065756, 47.69077443, 47.69088799, 47.69100131, 47.69112169, 47.69123319, 47.69134573, 47.69146373, 47.69158181, 47.69169641, 47.69181124, 47.6919261, 47.6920453, 47.69216042, 47.69228082, 47.69239171, 47.69251146, 47.69263215, 47.69274545, 47.69285681, 47.69297056, 47.69307225, 47.69318743, 47.69329509, 47.69341324, 47.69352318, 47.69363453, 47.69374507, 47.69385878, 47.69397298, 47.69408412, 47.69419406, 47.6942942, 47.69437233, 47.69444128, 47.69451425, 47.69458433, 47.69464523, 47.69467909, 47.69467687, 47.69482791, 47.69482762, 47.69482912, 47.69483088, 47.69483267, 47.69483441, 47.69483513, 47.69484356, 47.69693439, 47.69690635, 47.69687086, 47.69680462, 47.69676897, 47.69665226, 47.69661327, 47.69658859, 47.69651402, 47.69646287, 47.69640994, 47.69635993, 47.69630826, 47.69625567, 47.69620382, 47.69615177, 47.69610026, 47.69605639, 47.69598565, 47.69592151, 47.69588292, 47.69580954, 47.69575601, 47.69570389, 47.69565305, 47.69560407, 47.69555669, 47.69551107, 47.69546538, 47.69541976, 47.6953742, 47.69532623, 47.69527752, 47.69523101, 47.69518321, 47.69516213, 47.69509583, 47.69505213, 47.69501327, 47.69496333, 47.69492147, 47.69490783, 47.69484, 47.69479682, 47.69475658, 47.69471554, 47.69467453, 47.69463156, 47.69459019, 47.69454744, 47.69450219, 47.69445101, 47.69440457, 47.69435986, 47.69431546, 47.69426818, 47.69421875, 47.69417017, 47.69412058, 47.69406836, 47.69402054, 47.69397348, 47.69392922, 47.69388538, 47.6938678, 47.69381457, 47.69379285, 47.69372949, 47.69367804, 47.69362774, 47.69357855, 47.69352942, 47.69348016, 47.69343111, 47.69338203, 47.69333263, 47.69328513, 47.69324906, 47.69319744, 47.69314747, 47.69309859, 47.69304745, 47.69299813, 47.69294868, 47.69291194, 47.69284246, 47.69278459, 47.69272698, 47.69267038, 47.69261493, 47.69256315, 47.69251398, 47.6924673, 47.69242172, 47.69236564, 47.69230754, 47.69225496, 47.69220721, 47.69216186, 47.69211682, 47.69207236, 47.69202915, 47.67795106, 47.67797928, 47.6780244, 47.67813946, 47.67824813, 47.6783591, 47.67846621, 47.6785894, 47.67869967, 47.67882672, 47.67896104, 47.67909293, 47.67918465, 47.67934607, 47.6794602, 47.67958013, 47.67968679, 47.67977934, 47.67985253, 47.67992624, 47.6800045, 47.68008622, 47.68013263, 47.68020223, 47.6803146, 47.6804338, 47.68054102, 47.68066203, 47.68078865, 47.68092484, 47.68106162, 47.68119885, 47.68134238, 47.68148954, 47.68163525, 47.68176847, 47.68193386, 47.68207252, 47.68222391, 47.68237213, 47.68251632, 47.68265841, 47.68279947, 47.6829367, 47.6830805, 47.68322065, 47.68335336, 47.6861042, 47.68616646, 47.68624238, 47.68636322, 47.6864497, 47.68657145, 47.68666828, 47.68675452, 47.6868557, 47.68696231, 47.68707105, 47.68718314, 47.68725383, 47.68740555, 47.68750567, 47.68762807, 47.68774315, 47.68784897, 47.68795261, 47.68805902, 47.68816239, 47.68822588, 47.68834904, 47.6884385, 47.68848122, 47.68854157, 47.68859439, 47.68861575, 47.68862175, 47.68861333, 47.68860467, 47.68859472, 47.68871466, 47.68870581, 47.68869203, 47.6886747, 47.68864904, 47.68863295, 47.68861444, 47.68856717, 47.68859329, 47.68865658, 47.68870193, 47.68872041, 47.68879737, 47.68884423, 47.68887747, 47.68893033, 47.6889828, 47.68903718, 47.68909332, 47.68915751, 47.6892173, 47.68927943, 47.68933098, 47.68938296, 47.68943803, 47.6894884, 47.68957191, 47.68963456, 47.6897447, 47.68984515, 47.68996262, 47.69008867, 47.69020736, 47.69032597, 47.69047153, 47.69060459, 47.6907482, 47.69088278, 47.69101906, 47.69115969, 47.69130561, 47.6914493, 47.69160023, 47.69174752, 47.69188977, 47.69202814, 47.69217066, 47.69231807, 47.69246108, 47.69259926, 47.69273845, 47.6928694, 47.69300528, 47.69313869, 47.69326917, 47.69340081, 47.69353457, 47.69366441, 47.69379821, 47.69393571, 47.69406736, 47.69419213, 47.69429583, 47.69437541, 47.69445602, 47.69452608, 47.69459622, 47.69465883, 47.69467862, 47.69468567, 47.69659308, 47.69671254, 47.696899, 47.69703703, 47.69714927, 47.69727342, 47.69738117, 47.69745145, 47.69756727, 47.6976862, 47.69781215, 47.6979346, 47.69806009, 47.69818326, 47.69830831, 47.6984282, 47.69854777, 47.69867112, 47.69878962, 47.69890654, 47.69903056, 47.69914832, 47.6992669, 47.700848705, 47.70110999, 47.70036617, 47.70025385, 47.70008727, 47.69990928, 47.69978203, 47.69957002, 47.69946579, 47.69934974, 47.69923909, 47.69913119, 47.69483346, 47.69477709, 47.69468453, 47.69457263, 47.6944657, 47.69431807, 47.6942709, 47.69415392, 47.69404433, 47.69394126, 47.69380351, 47.69366878, 47.69355744, 47.69343808, 47.693315, 47.69319943, 47.69308132, 47.69296061, 47.69283903, 47.69271659, 47.69259354, 47.69246915, 47.69234292, 47.69221405, 47.69208324, 47.69193943, 47.69180244, 47.691663, 47.69152236, 47.69136985, 47.69123002, 47.69109412, 47.69095931, 47.6908203, 47.69068574, 47.69055043, 47.69041824, 47.69028516, 47.69014881, 47.69002796, 47.68990612, 47.68979881, 47.6897035, 47.68962713, 47.68957047, 47.68951276, 47.68946517, 47.68942992, 47.68939316, 47.68935781, 47.68932012, 47.68927776, 47.68923607, 47.68919278, 47.68915052, 47.68911328, 47.68907716, 47.68904253, 47.68901682, 47.68897421, 47.68894653, 47.68885969, 47.68884695, 47.68878669, 47.68873634, 47.68869968, 47.68866532, 47.68860327, 47.68857149, 47.68856203, 47.68852563, 47.68852433, 47.6885336, 47.68854471, 47.68855275, 47.68855921, 47.68856639, 47.68857109, 47.68857559, 47.68857286, 47.68859411, 47.68859939, 47.68860449, 47.68860978, 47.68861483, 47.68862055, 47.68862045, 47.68861763, 47.68826368, 47.68822961, 47.68809068, 47.68798752, 47.68788165, 47.68778945, 47.68770792, 47.68762426, 47.68753977, 47.68751002, 47.6873715, 47.68728821, 47.68720341, 47.68711947, 47.68704219, 47.68696435, 47.68688841, 47.68681729, 47.68675261, 47.68669201, 47.68663249, 47.68657439, 47.68652056, 47.68646794, 47.68616199, 47.68606621, 47.68595873, 47.68584629, 47.68572979, 47.68567136, 47.68552305, 47.68541952, 47.68530766, 47.68519042, 47.68507849, 47.68497834, 47.6848804, 47.68478293, 47.68465886, 47.68460376, 47.68457826, 47.68456991], \"legendgroup\": \"\", \"lon\": [17.68008043, 17.68008971, 17.68012696, 17.68016103, 17.68017257, 17.68016542, 17.68017096, 17.68019619, 17.6801713, 17.68009449, 17.68009877, 17.6801042, 17.68010823, 17.68011222, 17.6801163, 17.68012054, 17.68012463, 17.68012867, 17.68013262, 17.68013635, 17.68013853, 17.68014049, 17.68014024, 17.68013169, 17.6800982, 17.68005777, 17.67997013, 17.67988423, 17.67982358, 17.67973916, 17.67960633, 17.6795109, 17.67939038, 17.6792635, 17.67913934, 17.67901228, 17.67897659, 17.67873741, 17.6785969, 17.67845418, 17.6783106, 17.67816688, 17.67802587, 17.6778907, 17.67776081, 17.6776365, 17.67749723, 17.67743594, 17.67729328, 17.67729551, 17.67710635, 17.67703467, 17.67699101, 17.67687527, 17.67676812, 17.67665548, 17.676524, 17.67638423, 17.67624989, 17.67610844, 17.67598444, 17.6758596, 17.67572949, 17.67560714, 17.6754842, 17.67535882, 17.67524554, 17.67514056, 17.67505128, 17.67498334, 17.67491388, 17.67484951, 17.67479354, 17.6747469, 17.67472228, 17.674701, 17.67468348, 17.67466844, 17.67465381, 17.67463923, 17.67462373, 17.67460937, 17.67459488, 17.67457969, 17.67456448, 17.67454973, 17.67453495, 17.67452016, 17.67450481, 17.67448999, 17.67447449, 17.67446021, 17.67444479, 17.67442925, 17.67441467, 17.67440033, 17.67438568, 17.67437263, 17.67435895, 17.67434617, 17.67433214, 17.67431908, 17.6743051, 17.67429093, 17.67427635, 17.67426394, 17.67425362, 17.67424079, 17.67422468, 17.67418851, 17.67415087, 17.6741104, 17.6740705, 17.67403481, 17.67401497, 17.67401966, 17.67413791, 17.67421842, 17.67432832, 17.67445732, 17.67458895, 17.67471615, 17.67489821, 17.6750535, 17.64285222, 17.64278001, 17.64269184, 17.64255008, 17.64234372, 17.64232173, 17.64221831, 17.64215282, 17.64200725, 17.64190833, 17.64180597, 17.64170925, 17.64160932, 17.64150762, 17.64140733, 17.64130668, 17.64120707, 17.64113328, 17.64103056, 17.64093162, 17.64086907, 17.64072705, 17.64062293, 17.64051785, 17.64041422, 17.64031166, 17.64020831, 17.64010454, 17.63999829, 17.63989152, 17.63978486, 17.63967355, 17.63956318, 17.6394578, 17.63932972, 17.63927319, 17.63911134, 17.63900481, 17.63891009, 17.63877568, 17.63865792, 17.63861957, 17.63843402, 17.63831593, 17.63820593, 17.63809372, 17.6379836, 17.63787115, 17.63776288, 17.63765534, 17.6375457, 17.6374305, 17.63732686, 17.63722885, 17.63713148, 17.63702782, 17.63691945, 17.63681521, 17.63670902, 17.63659716, 17.63649476, 17.63639396, 17.63629918, 17.63620529, 17.63616763, 17.63598285, 17.63590732, 17.63576791, 17.63565692, 17.63554841, 17.63544229, 17.63533631, 17.63523004, 17.63512424, 17.63501836, 17.6349118, 17.63480933, 17.63473152, 17.63463036, 17.63453312, 17.63443803, 17.63433855, 17.63424259, 17.63414637, 17.6340749, 17.63395256, 17.63385198, 17.63375186, 17.63365349, 17.63355712, 17.63346713, 17.63338168, 17.63330055, 17.6332223, 17.63313822, 17.63304806, 17.63295694, 17.63286551, 17.63277707, 17.63268925, 17.63260253, 17.63251398, 17.69308722, 17.69297421, 17.69288736, 17.6928528, 17.69282503, 17.69281563, 17.69281779, 17.69280564, 17.69283117, 17.69282217, 17.69281266, 17.69277453, 17.69276398, 17.69274981, 17.69274952, 17.69274678, 17.69274514, 17.69274416, 17.69274614, 17.69275278, 17.69280415, 17.69285343, 17.69286935, 17.69284569, 17.69276469, 17.69272698, 17.69272557, 17.69274063, 17.69273865, 17.69274193, 17.692747, 17.69275071, 17.69275239, 17.69274514, 17.69274204, 17.69274267, 17.69272038, 17.69273403, 17.69273395, 17.69273214, 17.69273224, 17.69272653, 17.69272063, 17.6927246, 17.6927267, 17.69272596, 17.69272519, 17.68012203, 17.68007772, 17.68004898, 17.68004632, 17.68006287, 17.68004899, 17.68004266, 17.68004943, 17.68005737, 17.68006573, 17.68007332, 17.68007975, 17.68008381, 17.68009278, 17.68009871, 17.6801055, 17.68011146, 17.68011694, 17.68012231, 17.68012782, 17.68013317, 17.68013646, 17.68014052, 17.68013931, 17.68012306, 17.68006145, 17.67995274, 17.67984433, 17.67969797, 17.67952791, 17.67933104, 17.67910473, 17.67888778, 17.67867959, 17.67846996, 17.67826016, 17.67805562, 17.67786875, 17.67769929, 17.67751993, 17.67743683, 17.67729436, 17.67718145, 17.67714684, 17.67705642, 17.67700385, 17.67695925, 17.67684914, 17.67673528, 17.67661046, 17.67647638, 17.67632782, 17.67618946, 17.67604565, 17.67592636, 17.67580524, 17.67567468, 17.67555526, 17.67535925, 17.6752555, 17.67510502, 17.67501835, 17.67492652, 17.67484759, 17.67478683, 17.67474211, 17.67471234, 17.67469158, 17.67467181, 17.67465449, 17.67463694, 17.67461883, 17.67460005, 17.67458155, 17.67456211, 17.67454315, 17.67452484, 17.67450702, 17.67448867, 17.67446969, 17.67445128, 17.67443349, 17.67441557, 17.67439871, 17.67438121, 17.67436474, 17.67434924, 17.67433361, 17.67431773, 17.67430127, 17.67428412, 17.6742674, 17.67425517, 17.6742411, 17.67422442, 17.67418684, 17.67414269, 17.67410384, 17.67406353, 17.67402684, 17.67401525, 17.67402866, 17.67934373, 17.67943757, 17.67938975, 17.67934849, 17.67933647, 17.67929399, 17.67930257, 17.67928986, 17.67926729, 17.67923838, 17.67922615, 17.67921335, 17.67919896, 17.67915283, 17.67913666, 17.67912115, 17.67910569, 17.67908973, 17.67907441, 17.67905968, 17.67904406, 17.67902922, 17.67901429, 17.677257085, 17.67725441, 17.6788255, 17.67880681, 17.67876957, 17.678719, 17.67874199, 17.67886961, 17.67888275, 17.67889544, 17.67891174, 17.67903138, 17.67391821, 17.67388831, 17.6739393, 17.67400416, 17.67408785, 17.67417479, 17.67417229, 17.67424714, 17.67425731, 17.67426688, 17.67428344, 17.67430071, 17.67431498, 17.67432919, 17.6743438, 17.67435753, 17.67437155, 17.67438696, 17.67440262, 17.67441838, 17.67443422, 17.67445024, 17.67446649, 17.67448308, 17.67449993, 17.67451844, 17.67453608, 17.67455403, 17.67457214, 17.67459177, 17.67460978, 17.67462728, 17.67464463, 17.67466253, 17.67467985, 17.67470003, 17.6747232, 17.6747549, 17.67481523, 17.67488359, 17.67497065, 17.67505759, 17.67515422, 17.67526689, 17.67536207, 17.6754975, 17.67561034, 17.67569391, 17.67578107, 17.67586426, 17.67595149, 17.67604953, 17.67614602, 17.6762462, 17.67634399, 17.67643018, 17.67651376, 17.67659727, 17.67666069, 17.6767539, 17.67681387, 17.67698662, 17.67700082, 17.6770684, 17.67712721, 17.67718568, 17.67727255, 17.67740772, 17.67749962, 17.67762418, 17.67775749, 17.67789959, 17.678043, 17.67818606, 17.67832719, 17.6784627, 17.67859178, 17.67871931, 17.67884556, 17.67896971, 17.67909066, 17.67921091, 17.67932676, 17.67944716, 17.67956195, 17.67966452, 17.67976347, 17.67982796, 17.68013772, 17.6801366, 17.68012946, 17.68012412, 17.68011863, 17.68011386, 17.68010963, 17.6801053, 17.68010069, 17.68009896, 17.68009076, 17.68008583, 17.68008092, 17.6800761, 17.68007167, 17.68006589, 17.68005993, 17.68005435, 17.68004928, 17.68004452, 17.68003985, 17.68003529, 17.68003107, 17.68002694, 17.68000221, 17.67999408, 17.67998646, 17.67997959, 17.67997247, 17.6799689, 17.67995821, 17.67995074, 17.67994266, 17.6799342, 17.67992613, 17.6799189, 17.67990711, 17.67988227, 17.67980302, 17.67969264, 17.67954235, 17.67939194], \"marker\": {\"color\": [1, 1, 1, 1, 1, 1, 1, 1, 1, 1, 1, 1, 1, 1, 1, 1, 1, 1, 1, 1, 1, 1, 1, 1, 1, 1, 1, 1, 1, 1, 1, 1, 1, 1, 1, 1, 1, 1, 1, 1, 1, 1, 1, 1, 1, 1, 1, 1, 1, 1, 1, 1, 1, 1, 1, 1, 1, 1, 1, 1, 1, 1, 1, 1, 1, 1, 1, 1, 1, 1, 1, 1, 1, 1, 1, 1, 1, 1, 1, 1, 1, 1, 1, 1, 1, 1, 1, 1, 1, 1, 1, 1, 1, 1, 1, 1, 1, 1, 1, 1, 1, 1, 1, 1, 1, 1, 1, 1, 1, 1, 1, 1, 1, 1, 0, 1, 1, 0, 1, 1, 1, 1, 1, 1, 1, 1, 1, 1, 1, 1, 1, 1, 1, 1, 1, 1, 1, 1, 1, 1, 1, 1, 1, 1, 1, 1, 1, 1, 1, 1, 1, 1, 1, 1, 1, 1, 1, 1, 1, 1, 1, 1, 1, 1, 1, 1, 1, 1, 1, 1, 1, 1, 1, 1, 1, 1, 1, 1, 1, 1, 1, 1, 1, 1, 1, 1, 1, 1, 1, 1, 1, 1, 1, 1, 1, 1, 1, 1, 1, 1, 1, 1, 1, 1, 1, 1, 1, 1, 1, 1, 1, 1, 1, 1, 1, 1, 1, 1, 1, 1, 1, 1, 1, 1, 1, 1, 1, 1, 1, 1, 1, 1, 1, 1, 1, 1, 1, 1, 1, 1, 1, 1, 1, 1, 1, 1, 1, 1, 1, 1, 1, 1, 1, 1, 1, 1, 1, 1, 1, 1, 1, 1, 1, 1, 1, 1, 1, 1, 1, 1, 1, 1, 1, 1, 1, 1, 1, 1, 1, 1, 1, 1, 1, 1, 1, 1, 1, 1, 1, 1, 1, 1, 1, 1, 1, 1, 1, 1, 1, 1, 1, 1, 1, 1, 1, 1, 1, 1, 1, 1, 1, 1, 1, 1, 1, 1, 1, 1, 1, 1, 1, 1, 1, 1, 1, 1, 1, 1, 1, 1, 1, 1, 1, 1, 1, 1, 1, 1, 1, 1, 1, 1, 1, 1, 1, 1, 1, 1, 1, 1, 1, 1, 1, 1, 0, 1, 1, 1, 1, 1, 1, 1, 1, 1, 1, 1, 1, 1, 1, 1, 1, 1, 1, 0, 0, 1, 1, 1, 1, 1, 1, 1, 1, 1, 1, 1, 1, 1, 1, 1, 1, 1, 1, 1, 1, 1, 1, 1, 1, 1, 1, 1, 1, 1, 1, 1, 1, 1, 1, 1, 1, 0, 0, 1, 0, 1, 1, 1, 1, 1, 1, 1, 1, 1, 1, 1, 1, 1, 1, 1, 1, 1, 1, 1, 1, 1, 1, 1, 1, 1, 1, 1, 1, 1, 1, 1, 1, 1, 1, 1, 1, 1, 1, 1, 1, 1, 1, 1, 1, 1, 1, 1, 1, 1, 1, 1, 1, 1, 1, 1, 1, 1, 1, 1, 1, 1, 1, 1, 1, 1, 1, 1, 1, 1, 1, 1, 1, 1, 1, 1, 1, 1, 1, 1, 1, 1, 1, 1, 1, 1, 1, 1, 1, 1, 1, 1, 1, 1, 1, 1, 1, 1, 1, 1, 1, 1, 1, 1, 1, 1, 1, 1, 1, 1, 1, 1, 1, 1, 1, 1, 1, 1, 1, 1, 1, 1, 1, 1, 1, 1], \"coloraxis\": \"coloraxis\"}, \"mode\": \"markers\", \"name\": \"\", \"showlegend\": false, \"subplot\": \"mapbox\", \"type\": \"scattermapbox\"}],\n",
       "                        {\"coloraxis\": {\"colorbar\": {\"title\": {\"text\": \"label\"}}, \"colorscale\": [[0.0, \"green\"], [1.0, \"red\"]], \"showscale\": false}, \"height\": 300, \"legend\": {\"tracegroupgap\": 0}, \"mapbox\": {\"center\": {\"lat\": 47.69046594587963, \"lon\": 17.671032746842588}, \"domain\": {\"x\": [0.0, 1.0], \"y\": [0.0, 1.0]}, \"style\": \"open-street-map\", \"zoom\": 12}, \"margin\": {\"b\": 0, \"l\": 0, \"r\": 0, \"t\": 0}, \"template\": {\"data\": {\"bar\": [{\"error_x\": {\"color\": \"#2a3f5f\"}, \"error_y\": {\"color\": \"#2a3f5f\"}, \"marker\": {\"line\": {\"color\": \"#E5ECF6\", \"width\": 0.5}}, \"type\": \"bar\"}], \"barpolar\": [{\"marker\": {\"line\": {\"color\": \"#E5ECF6\", \"width\": 0.5}}, \"type\": \"barpolar\"}], \"carpet\": [{\"aaxis\": {\"endlinecolor\": \"#2a3f5f\", \"gridcolor\": \"white\", \"linecolor\": \"white\", \"minorgridcolor\": \"white\", \"startlinecolor\": \"#2a3f5f\"}, \"baxis\": {\"endlinecolor\": \"#2a3f5f\", \"gridcolor\": \"white\", \"linecolor\": \"white\", \"minorgridcolor\": \"white\", \"startlinecolor\": \"#2a3f5f\"}, \"type\": \"carpet\"}], \"choropleth\": [{\"colorbar\": {\"outlinewidth\": 0, \"ticks\": \"\"}, \"type\": \"choropleth\"}], \"contour\": [{\"colorbar\": {\"outlinewidth\": 0, \"ticks\": \"\"}, \"colorscale\": [[0.0, \"#0d0887\"], [0.1111111111111111, \"#46039f\"], [0.2222222222222222, \"#7201a8\"], [0.3333333333333333, \"#9c179e\"], [0.4444444444444444, \"#bd3786\"], [0.5555555555555556, \"#d8576b\"], [0.6666666666666666, \"#ed7953\"], [0.7777777777777778, \"#fb9f3a\"], [0.8888888888888888, \"#fdca26\"], [1.0, \"#f0f921\"]], \"type\": \"contour\"}], \"contourcarpet\": [{\"colorbar\": {\"outlinewidth\": 0, \"ticks\": \"\"}, \"type\": \"contourcarpet\"}], \"heatmap\": [{\"colorbar\": {\"outlinewidth\": 0, \"ticks\": \"\"}, \"colorscale\": [[0.0, \"#0d0887\"], [0.1111111111111111, \"#46039f\"], [0.2222222222222222, \"#7201a8\"], [0.3333333333333333, \"#9c179e\"], [0.4444444444444444, \"#bd3786\"], [0.5555555555555556, \"#d8576b\"], [0.6666666666666666, \"#ed7953\"], [0.7777777777777778, \"#fb9f3a\"], [0.8888888888888888, \"#fdca26\"], [1.0, \"#f0f921\"]], \"type\": \"heatmap\"}], \"heatmapgl\": [{\"colorbar\": {\"outlinewidth\": 0, \"ticks\": \"\"}, \"colorscale\": [[0.0, \"#0d0887\"], [0.1111111111111111, \"#46039f\"], [0.2222222222222222, \"#7201a8\"], [0.3333333333333333, \"#9c179e\"], [0.4444444444444444, \"#bd3786\"], [0.5555555555555556, \"#d8576b\"], [0.6666666666666666, \"#ed7953\"], [0.7777777777777778, \"#fb9f3a\"], [0.8888888888888888, \"#fdca26\"], [1.0, \"#f0f921\"]], \"type\": \"heatmapgl\"}], \"histogram\": [{\"marker\": {\"colorbar\": {\"outlinewidth\": 0, \"ticks\": \"\"}}, \"type\": \"histogram\"}], \"histogram2d\": [{\"colorbar\": {\"outlinewidth\": 0, \"ticks\": \"\"}, \"colorscale\": [[0.0, \"#0d0887\"], [0.1111111111111111, \"#46039f\"], [0.2222222222222222, \"#7201a8\"], [0.3333333333333333, \"#9c179e\"], [0.4444444444444444, \"#bd3786\"], [0.5555555555555556, \"#d8576b\"], [0.6666666666666666, \"#ed7953\"], [0.7777777777777778, \"#fb9f3a\"], [0.8888888888888888, \"#fdca26\"], [1.0, \"#f0f921\"]], \"type\": \"histogram2d\"}], \"histogram2dcontour\": [{\"colorbar\": {\"outlinewidth\": 0, \"ticks\": \"\"}, \"colorscale\": [[0.0, \"#0d0887\"], [0.1111111111111111, \"#46039f\"], [0.2222222222222222, \"#7201a8\"], [0.3333333333333333, \"#9c179e\"], [0.4444444444444444, \"#bd3786\"], [0.5555555555555556, \"#d8576b\"], [0.6666666666666666, \"#ed7953\"], [0.7777777777777778, \"#fb9f3a\"], [0.8888888888888888, \"#fdca26\"], [1.0, \"#f0f921\"]], \"type\": \"histogram2dcontour\"}], \"mesh3d\": [{\"colorbar\": {\"outlinewidth\": 0, \"ticks\": \"\"}, \"type\": \"mesh3d\"}], \"parcoords\": [{\"line\": {\"colorbar\": {\"outlinewidth\": 0, \"ticks\": \"\"}}, \"type\": \"parcoords\"}], \"pie\": [{\"automargin\": true, \"type\": \"pie\"}], \"scatter\": [{\"marker\": {\"colorbar\": {\"outlinewidth\": 0, \"ticks\": \"\"}}, \"type\": \"scatter\"}], \"scatter3d\": [{\"line\": {\"colorbar\": {\"outlinewidth\": 0, \"ticks\": \"\"}}, \"marker\": {\"colorbar\": {\"outlinewidth\": 0, \"ticks\": \"\"}}, \"type\": \"scatter3d\"}], \"scattercarpet\": [{\"marker\": {\"colorbar\": {\"outlinewidth\": 0, \"ticks\": \"\"}}, \"type\": \"scattercarpet\"}], \"scattergeo\": [{\"marker\": {\"colorbar\": {\"outlinewidth\": 0, \"ticks\": \"\"}}, \"type\": \"scattergeo\"}], \"scattergl\": [{\"marker\": {\"colorbar\": {\"outlinewidth\": 0, \"ticks\": \"\"}}, \"type\": \"scattergl\"}], \"scattermapbox\": [{\"marker\": {\"colorbar\": {\"outlinewidth\": 0, \"ticks\": \"\"}}, \"type\": \"scattermapbox\"}], \"scatterpolar\": [{\"marker\": {\"colorbar\": {\"outlinewidth\": 0, \"ticks\": \"\"}}, \"type\": \"scatterpolar\"}], \"scatterpolargl\": [{\"marker\": {\"colorbar\": {\"outlinewidth\": 0, \"ticks\": \"\"}}, \"type\": \"scatterpolargl\"}], \"scatterternary\": [{\"marker\": {\"colorbar\": {\"outlinewidth\": 0, \"ticks\": \"\"}}, \"type\": \"scatterternary\"}], \"surface\": [{\"colorbar\": {\"outlinewidth\": 0, \"ticks\": \"\"}, \"colorscale\": [[0.0, \"#0d0887\"], [0.1111111111111111, \"#46039f\"], [0.2222222222222222, \"#7201a8\"], [0.3333333333333333, \"#9c179e\"], [0.4444444444444444, \"#bd3786\"], [0.5555555555555556, \"#d8576b\"], [0.6666666666666666, \"#ed7953\"], [0.7777777777777778, \"#fb9f3a\"], [0.8888888888888888, \"#fdca26\"], [1.0, \"#f0f921\"]], \"type\": \"surface\"}], \"table\": [{\"cells\": {\"fill\": {\"color\": \"#EBF0F8\"}, \"line\": {\"color\": \"white\"}}, \"header\": {\"fill\": {\"color\": \"#C8D4E3\"}, \"line\": {\"color\": \"white\"}}, \"type\": \"table\"}]}, \"layout\": {\"annotationdefaults\": {\"arrowcolor\": \"#2a3f5f\", \"arrowhead\": 0, \"arrowwidth\": 1}, \"coloraxis\": {\"colorbar\": {\"outlinewidth\": 0, \"ticks\": \"\"}}, \"colorscale\": {\"diverging\": [[0, \"#8e0152\"], [0.1, \"#c51b7d\"], [0.2, \"#de77ae\"], [0.3, \"#f1b6da\"], [0.4, \"#fde0ef\"], [0.5, \"#f7f7f7\"], [0.6, \"#e6f5d0\"], [0.7, \"#b8e186\"], [0.8, \"#7fbc41\"], [0.9, \"#4d9221\"], [1, \"#276419\"]], \"sequential\": [[0.0, \"#0d0887\"], [0.1111111111111111, \"#46039f\"], [0.2222222222222222, \"#7201a8\"], [0.3333333333333333, \"#9c179e\"], [0.4444444444444444, \"#bd3786\"], [0.5555555555555556, \"#d8576b\"], [0.6666666666666666, \"#ed7953\"], [0.7777777777777778, \"#fb9f3a\"], [0.8888888888888888, \"#fdca26\"], [1.0, \"#f0f921\"]], \"sequentialminus\": [[0.0, \"#0d0887\"], [0.1111111111111111, \"#46039f\"], [0.2222222222222222, \"#7201a8\"], [0.3333333333333333, \"#9c179e\"], [0.4444444444444444, \"#bd3786\"], [0.5555555555555556, \"#d8576b\"], [0.6666666666666666, \"#ed7953\"], [0.7777777777777778, \"#fb9f3a\"], [0.8888888888888888, \"#fdca26\"], [1.0, \"#f0f921\"]]}, \"colorway\": [\"#636efa\", \"#EF553B\", \"#00cc96\", \"#ab63fa\", \"#FFA15A\", \"#19d3f3\", \"#FF6692\", \"#B6E880\", \"#FF97FF\", \"#FECB52\"], \"font\": {\"color\": \"#2a3f5f\"}, \"geo\": {\"bgcolor\": \"white\", \"lakecolor\": \"white\", \"landcolor\": \"#E5ECF6\", \"showlakes\": true, \"showland\": true, \"subunitcolor\": \"white\"}, \"hoverlabel\": {\"align\": \"left\"}, \"hovermode\": \"closest\", \"mapbox\": {\"style\": \"light\"}, \"paper_bgcolor\": \"white\", \"plot_bgcolor\": \"#E5ECF6\", \"polar\": {\"angularaxis\": {\"gridcolor\": \"white\", \"linecolor\": \"white\", \"ticks\": \"\"}, \"bgcolor\": \"#E5ECF6\", \"radialaxis\": {\"gridcolor\": \"white\", \"linecolor\": \"white\", \"ticks\": \"\"}}, \"scene\": {\"xaxis\": {\"backgroundcolor\": \"#E5ECF6\", \"gridcolor\": \"white\", \"gridwidth\": 2, \"linecolor\": \"white\", \"showbackground\": true, \"ticks\": \"\", \"zerolinecolor\": \"white\"}, \"yaxis\": {\"backgroundcolor\": \"#E5ECF6\", \"gridcolor\": \"white\", \"gridwidth\": 2, \"linecolor\": \"white\", \"showbackground\": true, \"ticks\": \"\", \"zerolinecolor\": \"white\"}, \"zaxis\": {\"backgroundcolor\": \"#E5ECF6\", \"gridcolor\": \"white\", \"gridwidth\": 2, \"linecolor\": \"white\", \"showbackground\": true, \"ticks\": \"\", \"zerolinecolor\": \"white\"}}, \"shapedefaults\": {\"line\": {\"color\": \"#2a3f5f\"}}, \"ternary\": {\"aaxis\": {\"gridcolor\": \"white\", \"linecolor\": \"white\", \"ticks\": \"\"}, \"baxis\": {\"gridcolor\": \"white\", \"linecolor\": \"white\", \"ticks\": \"\"}, \"bgcolor\": \"#E5ECF6\", \"caxis\": {\"gridcolor\": \"white\", \"linecolor\": \"white\", \"ticks\": \"\"}}, \"title\": {\"x\": 0.05}, \"xaxis\": {\"automargin\": true, \"gridcolor\": \"white\", \"linecolor\": \"white\", \"ticks\": \"\", \"title\": {\"standoff\": 15}, \"zerolinecolor\": \"white\", \"zerolinewidth\": 2}, \"yaxis\": {\"automargin\": true, \"gridcolor\": \"white\", \"linecolor\": \"white\", \"ticks\": \"\", \"title\": {\"standoff\": 15}, \"zerolinecolor\": \"white\", \"zerolinewidth\": 2}}}},\n",
       "                        {\"responsive\": true}\n",
       "                    ).then(function(){\n",
       "                            \n",
       "var gd = document.getElementById('2b0317aa-4ef6-4a60-af1d-6fb7327082a0');\n",
       "var x = new MutationObserver(function (mutations, observer) {{\n",
       "        var display = window.getComputedStyle(gd).display;\n",
       "        if (!display || display === 'none') {{\n",
       "            console.log([gd, 'removed!']);\n",
       "            Plotly.purge(gd);\n",
       "            observer.disconnect();\n",
       "        }}\n",
       "}});\n",
       "\n",
       "// Listen for the removal of the full notebook cells\n",
       "var notebookContainer = gd.closest('#notebook-container');\n",
       "if (notebookContainer) {{\n",
       "    x.observe(notebookContainer, {childList: true});\n",
       "}}\n",
       "\n",
       "// Listen for the clearing of the current output cell\n",
       "var outputEl = gd.closest('.output');\n",
       "if (outputEl) {{\n",
       "    x.observe(outputEl, {childList: true});\n",
       "}}\n",
       "\n",
       "                        })\n",
       "                };\n",
       "                });\n",
       "            </script>\n",
       "        </div>"
      ]
     },
     "metadata": {},
     "output_type": "display_data"
    },
    {
     "data": {
      "application/vnd.plotly.v1+json": {
       "config": {
        "linkText": "Export to plot.ly",
        "plotlyServerURL": "https://plot.ly",
        "showLink": false
       },
       "data": [
        {
         "hovertemplate": "lat=%{lat}<br>lon=%{lon}<br>label=%{marker.color}<extra></extra>",
         "lat": [
          47.68665984,
          47.68667121,
          47.68676218,
          47.68762722,
          47.68768801,
          47.68804206,
          47.68801538,
          47.6879706,
          47.68792295,
          47.68787753,
          47.68782726,
          47.6877789,
          47.68756102,
          47.68761922,
          47.68768563,
          47.68775998,
          47.68783665,
          47.68791626,
          47.68799269,
          47.68806131,
          47.68812369,
          47.68820032,
          47.68825905,
          47.68831169,
          47.68835893,
          47.68841748,
          47.68849519,
          47.68858279,
          47.68867467,
          47.68873776,
          47.68879749,
          47.68884378,
          47.68885578,
          47.68891284,
          47.68896433,
          47.68903234,
          47.68911167,
          47.68921445,
          47.68931763,
          47.68942127,
          47.68953453,
          47.68962588,
          47.68972278,
          47.68981035,
          47.68988973,
          47.68994898,
          47.69008998,
          47.69010657,
          47.69016626,
          47.69024011,
          47.69032164,
          47.69040079,
          47.69050142,
          47.690612,
          47.69072759,
          47.69083753,
          47.69093664,
          47.69102771,
          47.69111013,
          47.69117196,
          47.6912217,
          47.69132114,
          47.69140974,
          47.69145822,
          47.69147617,
          47.69154609,
          47.69162193,
          47.69167722,
          47.69177272,
          47.69187806,
          47.69198545,
          47.69208711,
          47.69218678,
          47.69228142,
          47.69235032,
          47.69250453,
          47.69261783,
          47.69272705,
          47.69283084,
          47.69293053,
          47.69304701,
          47.69309285,
          47.69309591,
          47.6930578,
          47.69300756,
          47.69296184,
          47.69292154,
          47.69288446,
          47.69284882,
          47.69281844,
          47.69278882,
          47.69276402,
          47.69274281,
          47.69271873,
          47.69269254,
          47.69266343,
          47.6926363,
          47.69260458,
          47.69256766,
          47.69253059,
          47.692493,
          47.69245136,
          47.69240901,
          47.69238901,
          47.69232583,
          47.69228724,
          47.69225087,
          47.69221529,
          47.69217992,
          47.6921442,
          47.69210887,
          47.69207411,
          47.6920397,
          47.69200459,
          47.6919681,
          47.69193712,
          47.69187963,
          47.69182161,
          47.69177726,
          47.69173315,
          47.69169176,
          47.69165034,
          47.69161328,
          47.69158298,
          47.6915538,
          47.69153011,
          47.69168912,
          47.69174523,
          47.69181536,
          47.69181504,
          47.69179735,
          47.69176045,
          47.69168864,
          47.69161042,
          47.69153226,
          47.69146226,
          47.69140207,
          47.69134365,
          47.69128459,
          47.69122307,
          47.69116487,
          47.69111055,
          47.69105319,
          47.69100432,
          47.69095176,
          47.69090081,
          47.690853,
          47.6908024,
          47.69075681,
          47.69071456,
          47.69066853,
          47.69062441,
          47.69057646,
          47.69053201,
          47.69048457,
          47.69044549,
          47.69040637,
          47.69036752,
          47.69033276,
          47.6902902,
          47.69025154,
          47.69021265,
          47.69016252,
          47.6901187,
          47.69004838,
          47.68997983,
          47.68992432,
          47.68979409,
          47.6898357,
          47.68988918,
          47.69006894,
          47.69010222,
          47.69017594,
          47.6902368,
          47.69029484,
          47.69036076,
          47.69043266,
          47.69050363,
          47.69057054,
          47.69063689,
          47.69070681,
          47.69077352,
          47.69084168,
          47.69091108,
          47.6909765,
          47.6910398,
          47.69110853,
          47.69117573,
          47.69125073,
          47.69132377,
          47.69139419,
          47.69142251,
          47.69155295,
          47.69163218,
          47.69171042,
          47.69178525,
          47.69186282,
          47.69194334,
          47.69202598,
          47.69210896,
          47.69219036,
          47.69227079,
          47.69234887,
          47.69242754,
          47.69250742,
          47.69259167,
          47.69266865,
          47.69274671,
          47.69278558,
          47.69290576,
          47.69297983,
          47.69304463,
          47.69310142,
          47.69315656,
          47.69319669,
          47.69324583,
          47.69330218,
          47.69336647,
          47.69343036,
          47.69349521,
          47.69356138,
          47.69362799,
          47.69369072,
          47.69375265,
          47.69380854,
          47.69385455,
          47.69406205,
          47.69411331,
          47.69419442,
          47.69420358,
          47.6943144,
          47.69441258,
          47.69452494,
          47.69464278,
          47.69476884,
          47.6948871,
          47.69499469,
          47.69510915,
          47.69520972,
          47.69533651,
          47.69546008,
          47.69557367,
          47.69565346,
          47.69582974,
          47.69596818,
          47.69610101,
          47.69623501,
          47.69636779,
          47.69649724,
          47.69662743,
          47.69676009,
          47.69688958,
          47.69701574,
          47.69714259,
          47.69727226,
          47.69740957,
          47.69754664,
          47.69768588,
          47.69782108,
          47.69796356,
          47.69803105,
          47.69823863,
          47.69838098,
          47.69851852,
          47.69865721,
          47.69879953,
          47.69893644,
          47.69907595,
          47.69921466,
          47.69935268,
          47.69948748,
          47.69962116,
          47.69969506,
          47.69989098,
          47.70002177,
          47.70015575,
          47.70028855,
          47.70042128,
          47.70055367,
          47.70068432,
          47.70081766,
          47.70095188,
          47.70108469,
          47.70121731,
          47.70135216,
          47.70148582,
          47.70161956,
          47.70175387,
          47.70188748,
          47.70202267,
          47.70215877,
          47.70229535,
          47.7024338,
          47.70257109,
          47.70271129,
          47.70285103,
          47.70299285,
          47.70313696,
          47.70327759,
          47.70342045,
          47.70356175
         ],
         "legendgroup": "",
         "lon": [
          17.64932557,
          17.64923157,
          17.64922868,
          17.64837152,
          17.64830931,
          17.64778528,
          17.64770828,
          17.64761739,
          17.64752929,
          17.64745575,
          17.64736435,
          17.64727831,
          17.64667027,
          17.64654016,
          17.64637826,
          17.64622038,
          17.64605247,
          17.64588495,
          17.64572646,
          17.64557904,
          17.64546214,
          17.64533582,
          17.64524483,
          17.64516795,
          17.64510898,
          17.6450485,
          17.64501534,
          17.64499172,
          17.6449543,
          17.6449034,
          17.64481246,
          17.64466405,
          17.64453713,
          17.6443134,
          17.64414537,
          17.64399471,
          17.64386249,
          17.64373841,
          17.64363837,
          17.64353331,
          17.64343073,
          17.64334612,
          17.64326374,
          17.64318621,
          17.64311906,
          17.64307739,
          17.64306276,
          17.64309139,
          17.64318403,
          17.64324812,
          17.6432854,
          17.64328556,
          17.64324585,
          17.64315811,
          17.64304933,
          17.64294434,
          17.64284927,
          17.64276721,
          17.64270777,
          17.64265888,
          17.64261955,
          17.64265718,
          17.6426875,
          17.64274809,
          17.64286492,
          17.64294513,
          17.64290487,
          17.64275989,
          17.64268117,
          17.64262065,
          17.64256769,
          17.64251839,
          17.64247007,
          17.64242417,
          17.64239076,
          17.64234049,
          17.64230361,
          17.64226806,
          17.64223414,
          17.64219693,
          17.64213743,
          17.64209361,
          17.64188485,
          17.64179535,
          17.64166677,
          17.64152166,
          17.64138543,
          17.64126107,
          17.64114414,
          17.64104448,
          17.64094836,
          17.64086951,
          17.64080469,
          17.64073206,
          17.64065814,
          17.64057595,
          17.64049937,
          17.6404103,
          17.64030786,
          17.64020496,
          17.64010065,
          17.6399851,
          17.63986756,
          17.63981207,
          17.63961438,
          17.63949359,
          17.63937973,
          17.63927017,
          17.63916243,
          17.63905377,
          17.63894781,
          17.63884356,
          17.63874034,
          17.63863505,
          17.63852561,
          17.63844744,
          17.63835017,
          17.63819679,
          17.63807662,
          17.63795708,
          17.63784494,
          17.63773272,
          17.63763231,
          17.63755021,
          17.63747116,
          17.63740695,
          17.63705981,
          17.63699559,
          17.6368559,
          17.63685344,
          17.63675178,
          17.63667271,
          17.63656464,
          17.63644609,
          17.63631756,
          17.63617727,
          17.63602219,
          17.63587168,
          17.63570393,
          17.63554407,
          17.63537872,
          17.63522245,
          17.63505215,
          17.63490439,
          17.63474424,
          17.63458475,
          17.63443103,
          17.63426774,
          17.63410657,
          17.63395015,
          17.63377977,
          17.63362566,
          17.63346066,
          17.63330771,
          17.63313813,
          17.6329925,
          17.63283876,
          17.632683,
          17.63254363,
          17.63239658,
          17.63226505,
          17.63214396,
          17.63204136,
          17.63195937,
          17.63193133,
          17.63192991,
          17.63195854,
          17.6325124,
          17.63257046,
          17.63261846,
          17.63247226,
          17.63245071,
          17.63240919,
          17.63237357,
          17.63233556,
          17.63229236,
          17.63224641,
          17.63220228,
          17.63216069,
          17.63211944,
          17.63207597,
          17.63203449,
          17.63199212,
          17.63194897,
          17.63190831,
          17.63186895,
          17.63182608,
          17.63178409,
          17.63173722,
          17.6316913,
          17.6316469,
          17.63162904,
          17.63154055,
          17.63148646,
          17.631433,
          17.63138187,
          17.6313306,
          17.63127949,
          17.63122704,
          17.63117437,
          17.63112271,
          17.63107166,
          17.6310221,
          17.63097217,
          17.63092147,
          17.63086799,
          17.63081914,
          17.63076959,
          17.63074491,
          17.63067349,
          17.63062955,
          17.6305911,
          17.63055741,
          17.6305247,
          17.63050089,
          17.63047174,
          17.63043831,
          17.63040016,
          17.63036226,
          17.63032378,
          17.63028453,
          17.630245,
          17.63020778,
          17.63017102,
          17.63013784,
          17.63011054,
          17.63019127,
          17.63020038,
          17.63019246,
          17.63018723,
          17.63005807,
          17.63003756,
          17.63005126,
          17.63007026,
          17.63005853,
          17.63006446,
          17.6300662,
          17.63005824,
          17.63003577,
          17.62999569,
          17.62994778,
          17.62990134,
          17.62986872,
          17.62980624,
          17.6297572,
          17.6297106,
          17.62966419,
          17.62961822,
          17.62957339,
          17.6295283,
          17.62948237,
          17.62943753,
          17.62939924,
          17.62936644,
          17.62934664,
          17.62933623,
          17.62933544,
          17.62933883,
          17.62934133,
          17.62933794,
          17.62933483,
          17.62936701,
          17.62938273,
          17.62939291,
          17.62940318,
          17.62941372,
          17.62942386,
          17.62943419,
          17.62944771,
          17.62946679,
          17.62948079,
          17.62949251,
          17.62949899,
          17.6295411,
          17.62956949,
          17.62960116,
          17.62963569,
          17.62967226,
          17.62970921,
          17.62974648,
          17.62978453,
          17.62983045,
          17.62988032,
          17.62993013,
          17.62998077,
          17.63003096,
          17.63008102,
          17.630129,
          17.63017497,
          17.63021741,
          17.63025667,
          17.63029559,
          17.63033662,
          17.63037905,
          17.63042273,
          17.63046782,
          17.63051358,
          17.63056009,
          17.63060546,
          17.63065156,
          17.63069716
         ],
         "marker": {
          "color": [
           0,
           0,
           0,
           0,
           0,
           1,
           0,
           0,
           0,
           0,
           0,
           0,
           0,
           1,
           0,
           1,
           0,
           0,
           0,
           1,
           1,
           1,
           1,
           1,
           0,
           0,
           0,
           1,
           1,
           0,
           1,
           0,
           0,
           1,
           0,
           1,
           1,
           0,
           0,
           0,
           1,
           1,
           1,
           1,
           0,
           1,
           1,
           0,
           0,
           0,
           0,
           0,
           1,
           1,
           1,
           1,
           1,
           0,
           0,
           0,
           1,
           0,
           0,
           1,
           0,
           0,
           1,
           0,
           1,
           1,
           1,
           0,
           1,
           1,
           1,
           1,
           1,
           0,
           0,
           0,
           0,
           0,
           1,
           1,
           0,
           0,
           0,
           0,
           0,
           0,
           0,
           0,
           0,
           0,
           1,
           0,
           0,
           1,
           0,
           0,
           1,
           1,
           1,
           1,
           0,
           0,
           0,
           0,
           0,
           0,
           0,
           0,
           0,
           0,
           0,
           0,
           1,
           0,
           0,
           0,
           0,
           0,
           0,
           0,
           0,
           0,
           1,
           0,
           0,
           0,
           0,
           0,
           0,
           0,
           0,
           0,
           0,
           0,
           0,
           0,
           0,
           0,
           0,
           0,
           0,
           0,
           0,
           0,
           0,
           0,
           0,
           0,
           0,
           0,
           0,
           0,
           0,
           0,
           0,
           0,
           0,
           0,
           0,
           0,
           0,
           0,
           0,
           0,
           0,
           0,
           0,
           1,
           0,
           0,
           0,
           0,
           0,
           0,
           0,
           0,
           0,
           0,
           0,
           0,
           0,
           0,
           1,
           0,
           0,
           0,
           0,
           1,
           0,
           1,
           0,
           0,
           0,
           0,
           1,
           1,
           1,
           0,
           0,
           0,
           0,
           1,
           1,
           0,
           0,
           0,
           1,
           0,
           0,
           0,
           0,
           0,
           0,
           1,
           0,
           1,
           0,
           0,
           0,
           0,
           0,
           0,
           0,
           1,
           1,
           1,
           0,
           0,
           1,
           0,
           0,
           0,
           0,
           0,
           1,
           1,
           0,
           1,
           1,
           1,
           1,
           1,
           1,
           1,
           1,
           1,
           1,
           1,
           0,
           0,
           0,
           0,
           0,
           0,
           1,
           1,
           1,
           0,
           0,
           0,
           1,
           0,
           1,
           0,
           0,
           1,
           1,
           0,
           1,
           0,
           0,
           0,
           0,
           0,
           0,
           1,
           0,
           0,
           0,
           0,
           0,
           0,
           1,
           0,
           0,
           0,
           0,
           0,
           1,
           1,
           0,
           0,
           0,
           0,
           0,
           1,
           1
          ],
          "coloraxis": "coloraxis"
         },
         "mode": "markers",
         "name": "",
         "showlegend": false,
         "subplot": "mapbox",
         "type": "scattermapbox"
        }
       ],
       "layout": {
        "coloraxis": {
         "colorbar": {
          "title": {
           "text": "label"
          }
         },
         "colorscale": [
          [
           0,
           "green"
          ],
          [
           1,
           "red"
          ]
         ],
         "showscale": false
        },
        "height": 300,
        "legend": {
         "tracegroupgap": 0
        },
        "mapbox": {
         "center": {
          "lat": 47.692899581528245,
          "lon": 17.636138610531564
         },
         "domain": {
          "x": [
           0,
           1
          ],
          "y": [
           0,
           1
          ]
         },
         "style": "open-street-map",
         "zoom": 12
        },
        "margin": {
         "b": 0,
         "l": 0,
         "r": 0,
         "t": 0
        },
        "template": {
         "data": {
          "bar": [
           {
            "error_x": {
             "color": "#2a3f5f"
            },
            "error_y": {
             "color": "#2a3f5f"
            },
            "marker": {
             "line": {
              "color": "#E5ECF6",
              "width": 0.5
             }
            },
            "type": "bar"
           }
          ],
          "barpolar": [
           {
            "marker": {
             "line": {
              "color": "#E5ECF6",
              "width": 0.5
             }
            },
            "type": "barpolar"
           }
          ],
          "carpet": [
           {
            "aaxis": {
             "endlinecolor": "#2a3f5f",
             "gridcolor": "white",
             "linecolor": "white",
             "minorgridcolor": "white",
             "startlinecolor": "#2a3f5f"
            },
            "baxis": {
             "endlinecolor": "#2a3f5f",
             "gridcolor": "white",
             "linecolor": "white",
             "minorgridcolor": "white",
             "startlinecolor": "#2a3f5f"
            },
            "type": "carpet"
           }
          ],
          "choropleth": [
           {
            "colorbar": {
             "outlinewidth": 0,
             "ticks": ""
            },
            "type": "choropleth"
           }
          ],
          "contour": [
           {
            "colorbar": {
             "outlinewidth": 0,
             "ticks": ""
            },
            "colorscale": [
             [
              0,
              "#0d0887"
             ],
             [
              0.1111111111111111,
              "#46039f"
             ],
             [
              0.2222222222222222,
              "#7201a8"
             ],
             [
              0.3333333333333333,
              "#9c179e"
             ],
             [
              0.4444444444444444,
              "#bd3786"
             ],
             [
              0.5555555555555556,
              "#d8576b"
             ],
             [
              0.6666666666666666,
              "#ed7953"
             ],
             [
              0.7777777777777778,
              "#fb9f3a"
             ],
             [
              0.8888888888888888,
              "#fdca26"
             ],
             [
              1,
              "#f0f921"
             ]
            ],
            "type": "contour"
           }
          ],
          "contourcarpet": [
           {
            "colorbar": {
             "outlinewidth": 0,
             "ticks": ""
            },
            "type": "contourcarpet"
           }
          ],
          "heatmap": [
           {
            "colorbar": {
             "outlinewidth": 0,
             "ticks": ""
            },
            "colorscale": [
             [
              0,
              "#0d0887"
             ],
             [
              0.1111111111111111,
              "#46039f"
             ],
             [
              0.2222222222222222,
              "#7201a8"
             ],
             [
              0.3333333333333333,
              "#9c179e"
             ],
             [
              0.4444444444444444,
              "#bd3786"
             ],
             [
              0.5555555555555556,
              "#d8576b"
             ],
             [
              0.6666666666666666,
              "#ed7953"
             ],
             [
              0.7777777777777778,
              "#fb9f3a"
             ],
             [
              0.8888888888888888,
              "#fdca26"
             ],
             [
              1,
              "#f0f921"
             ]
            ],
            "type": "heatmap"
           }
          ],
          "heatmapgl": [
           {
            "colorbar": {
             "outlinewidth": 0,
             "ticks": ""
            },
            "colorscale": [
             [
              0,
              "#0d0887"
             ],
             [
              0.1111111111111111,
              "#46039f"
             ],
             [
              0.2222222222222222,
              "#7201a8"
             ],
             [
              0.3333333333333333,
              "#9c179e"
             ],
             [
              0.4444444444444444,
              "#bd3786"
             ],
             [
              0.5555555555555556,
              "#d8576b"
             ],
             [
              0.6666666666666666,
              "#ed7953"
             ],
             [
              0.7777777777777778,
              "#fb9f3a"
             ],
             [
              0.8888888888888888,
              "#fdca26"
             ],
             [
              1,
              "#f0f921"
             ]
            ],
            "type": "heatmapgl"
           }
          ],
          "histogram": [
           {
            "marker": {
             "colorbar": {
              "outlinewidth": 0,
              "ticks": ""
             }
            },
            "type": "histogram"
           }
          ],
          "histogram2d": [
           {
            "colorbar": {
             "outlinewidth": 0,
             "ticks": ""
            },
            "colorscale": [
             [
              0,
              "#0d0887"
             ],
             [
              0.1111111111111111,
              "#46039f"
             ],
             [
              0.2222222222222222,
              "#7201a8"
             ],
             [
              0.3333333333333333,
              "#9c179e"
             ],
             [
              0.4444444444444444,
              "#bd3786"
             ],
             [
              0.5555555555555556,
              "#d8576b"
             ],
             [
              0.6666666666666666,
              "#ed7953"
             ],
             [
              0.7777777777777778,
              "#fb9f3a"
             ],
             [
              0.8888888888888888,
              "#fdca26"
             ],
             [
              1,
              "#f0f921"
             ]
            ],
            "type": "histogram2d"
           }
          ],
          "histogram2dcontour": [
           {
            "colorbar": {
             "outlinewidth": 0,
             "ticks": ""
            },
            "colorscale": [
             [
              0,
              "#0d0887"
             ],
             [
              0.1111111111111111,
              "#46039f"
             ],
             [
              0.2222222222222222,
              "#7201a8"
             ],
             [
              0.3333333333333333,
              "#9c179e"
             ],
             [
              0.4444444444444444,
              "#bd3786"
             ],
             [
              0.5555555555555556,
              "#d8576b"
             ],
             [
              0.6666666666666666,
              "#ed7953"
             ],
             [
              0.7777777777777778,
              "#fb9f3a"
             ],
             [
              0.8888888888888888,
              "#fdca26"
             ],
             [
              1,
              "#f0f921"
             ]
            ],
            "type": "histogram2dcontour"
           }
          ],
          "mesh3d": [
           {
            "colorbar": {
             "outlinewidth": 0,
             "ticks": ""
            },
            "type": "mesh3d"
           }
          ],
          "parcoords": [
           {
            "line": {
             "colorbar": {
              "outlinewidth": 0,
              "ticks": ""
             }
            },
            "type": "parcoords"
           }
          ],
          "pie": [
           {
            "automargin": true,
            "type": "pie"
           }
          ],
          "scatter": [
           {
            "marker": {
             "colorbar": {
              "outlinewidth": 0,
              "ticks": ""
             }
            },
            "type": "scatter"
           }
          ],
          "scatter3d": [
           {
            "line": {
             "colorbar": {
              "outlinewidth": 0,
              "ticks": ""
             }
            },
            "marker": {
             "colorbar": {
              "outlinewidth": 0,
              "ticks": ""
             }
            },
            "type": "scatter3d"
           }
          ],
          "scattercarpet": [
           {
            "marker": {
             "colorbar": {
              "outlinewidth": 0,
              "ticks": ""
             }
            },
            "type": "scattercarpet"
           }
          ],
          "scattergeo": [
           {
            "marker": {
             "colorbar": {
              "outlinewidth": 0,
              "ticks": ""
             }
            },
            "type": "scattergeo"
           }
          ],
          "scattergl": [
           {
            "marker": {
             "colorbar": {
              "outlinewidth": 0,
              "ticks": ""
             }
            },
            "type": "scattergl"
           }
          ],
          "scattermapbox": [
           {
            "marker": {
             "colorbar": {
              "outlinewidth": 0,
              "ticks": ""
             }
            },
            "type": "scattermapbox"
           }
          ],
          "scatterpolar": [
           {
            "marker": {
             "colorbar": {
              "outlinewidth": 0,
              "ticks": ""
             }
            },
            "type": "scatterpolar"
           }
          ],
          "scatterpolargl": [
           {
            "marker": {
             "colorbar": {
              "outlinewidth": 0,
              "ticks": ""
             }
            },
            "type": "scatterpolargl"
           }
          ],
          "scatterternary": [
           {
            "marker": {
             "colorbar": {
              "outlinewidth": 0,
              "ticks": ""
             }
            },
            "type": "scatterternary"
           }
          ],
          "surface": [
           {
            "colorbar": {
             "outlinewidth": 0,
             "ticks": ""
            },
            "colorscale": [
             [
              0,
              "#0d0887"
             ],
             [
              0.1111111111111111,
              "#46039f"
             ],
             [
              0.2222222222222222,
              "#7201a8"
             ],
             [
              0.3333333333333333,
              "#9c179e"
             ],
             [
              0.4444444444444444,
              "#bd3786"
             ],
             [
              0.5555555555555556,
              "#d8576b"
             ],
             [
              0.6666666666666666,
              "#ed7953"
             ],
             [
              0.7777777777777778,
              "#fb9f3a"
             ],
             [
              0.8888888888888888,
              "#fdca26"
             ],
             [
              1,
              "#f0f921"
             ]
            ],
            "type": "surface"
           }
          ],
          "table": [
           {
            "cells": {
             "fill": {
              "color": "#EBF0F8"
             },
             "line": {
              "color": "white"
             }
            },
            "header": {
             "fill": {
              "color": "#C8D4E3"
             },
             "line": {
              "color": "white"
             }
            },
            "type": "table"
           }
          ]
         },
         "layout": {
          "annotationdefaults": {
           "arrowcolor": "#2a3f5f",
           "arrowhead": 0,
           "arrowwidth": 1
          },
          "coloraxis": {
           "colorbar": {
            "outlinewidth": 0,
            "ticks": ""
           }
          },
          "colorscale": {
           "diverging": [
            [
             0,
             "#8e0152"
            ],
            [
             0.1,
             "#c51b7d"
            ],
            [
             0.2,
             "#de77ae"
            ],
            [
             0.3,
             "#f1b6da"
            ],
            [
             0.4,
             "#fde0ef"
            ],
            [
             0.5,
             "#f7f7f7"
            ],
            [
             0.6,
             "#e6f5d0"
            ],
            [
             0.7,
             "#b8e186"
            ],
            [
             0.8,
             "#7fbc41"
            ],
            [
             0.9,
             "#4d9221"
            ],
            [
             1,
             "#276419"
            ]
           ],
           "sequential": [
            [
             0,
             "#0d0887"
            ],
            [
             0.1111111111111111,
             "#46039f"
            ],
            [
             0.2222222222222222,
             "#7201a8"
            ],
            [
             0.3333333333333333,
             "#9c179e"
            ],
            [
             0.4444444444444444,
             "#bd3786"
            ],
            [
             0.5555555555555556,
             "#d8576b"
            ],
            [
             0.6666666666666666,
             "#ed7953"
            ],
            [
             0.7777777777777778,
             "#fb9f3a"
            ],
            [
             0.8888888888888888,
             "#fdca26"
            ],
            [
             1,
             "#f0f921"
            ]
           ],
           "sequentialminus": [
            [
             0,
             "#0d0887"
            ],
            [
             0.1111111111111111,
             "#46039f"
            ],
            [
             0.2222222222222222,
             "#7201a8"
            ],
            [
             0.3333333333333333,
             "#9c179e"
            ],
            [
             0.4444444444444444,
             "#bd3786"
            ],
            [
             0.5555555555555556,
             "#d8576b"
            ],
            [
             0.6666666666666666,
             "#ed7953"
            ],
            [
             0.7777777777777778,
             "#fb9f3a"
            ],
            [
             0.8888888888888888,
             "#fdca26"
            ],
            [
             1,
             "#f0f921"
            ]
           ]
          },
          "colorway": [
           "#636efa",
           "#EF553B",
           "#00cc96",
           "#ab63fa",
           "#FFA15A",
           "#19d3f3",
           "#FF6692",
           "#B6E880",
           "#FF97FF",
           "#FECB52"
          ],
          "font": {
           "color": "#2a3f5f"
          },
          "geo": {
           "bgcolor": "white",
           "lakecolor": "white",
           "landcolor": "#E5ECF6",
           "showlakes": true,
           "showland": true,
           "subunitcolor": "white"
          },
          "hoverlabel": {
           "align": "left"
          },
          "hovermode": "closest",
          "mapbox": {
           "style": "light"
          },
          "paper_bgcolor": "white",
          "plot_bgcolor": "#E5ECF6",
          "polar": {
           "angularaxis": {
            "gridcolor": "white",
            "linecolor": "white",
            "ticks": ""
           },
           "bgcolor": "#E5ECF6",
           "radialaxis": {
            "gridcolor": "white",
            "linecolor": "white",
            "ticks": ""
           }
          },
          "scene": {
           "xaxis": {
            "backgroundcolor": "#E5ECF6",
            "gridcolor": "white",
            "gridwidth": 2,
            "linecolor": "white",
            "showbackground": true,
            "ticks": "",
            "zerolinecolor": "white"
           },
           "yaxis": {
            "backgroundcolor": "#E5ECF6",
            "gridcolor": "white",
            "gridwidth": 2,
            "linecolor": "white",
            "showbackground": true,
            "ticks": "",
            "zerolinecolor": "white"
           },
           "zaxis": {
            "backgroundcolor": "#E5ECF6",
            "gridcolor": "white",
            "gridwidth": 2,
            "linecolor": "white",
            "showbackground": true,
            "ticks": "",
            "zerolinecolor": "white"
           }
          },
          "shapedefaults": {
           "line": {
            "color": "#2a3f5f"
           }
          },
          "ternary": {
           "aaxis": {
            "gridcolor": "white",
            "linecolor": "white",
            "ticks": ""
           },
           "baxis": {
            "gridcolor": "white",
            "linecolor": "white",
            "ticks": ""
           },
           "bgcolor": "#E5ECF6",
           "caxis": {
            "gridcolor": "white",
            "linecolor": "white",
            "ticks": ""
           }
          },
          "title": {
           "x": 0.05
          },
          "xaxis": {
           "automargin": true,
           "gridcolor": "white",
           "linecolor": "white",
           "ticks": "",
           "title": {
            "standoff": 15
           },
           "zerolinecolor": "white",
           "zerolinewidth": 2
          },
          "yaxis": {
           "automargin": true,
           "gridcolor": "white",
           "linecolor": "white",
           "ticks": "",
           "title": {
            "standoff": 15
           },
           "zerolinecolor": "white",
           "zerolinewidth": 2
          }
         }
        }
       }
      },
      "text/html": [
       "<div>\n",
       "        \n",
       "        \n",
       "            <div id=\"b37c5765-b00b-42b5-8158-012d6d7047b8\" class=\"plotly-graph-div\" style=\"height:300px; width:100%;\"></div>\n",
       "            <script type=\"text/javascript\">\n",
       "                require([\"plotly\"], function(Plotly) {\n",
       "                    window.PLOTLYENV=window.PLOTLYENV || {};\n",
       "                    \n",
       "                if (document.getElementById(\"b37c5765-b00b-42b5-8158-012d6d7047b8\")) {\n",
       "                    Plotly.newPlot(\n",
       "                        'b37c5765-b00b-42b5-8158-012d6d7047b8',\n",
       "                        [{\"hovertemplate\": \"lat=%{lat}<br>lon=%{lon}<br>label=%{marker.color}<extra></extra>\", \"lat\": [47.68665984, 47.68667121, 47.68676218, 47.68762722, 47.68768801, 47.68804206, 47.68801538, 47.6879706, 47.68792295, 47.68787753, 47.68782726, 47.6877789, 47.68756102, 47.68761922, 47.68768563, 47.68775998, 47.68783665, 47.68791626, 47.68799269, 47.68806131, 47.68812369, 47.68820032, 47.68825905, 47.68831169, 47.68835893, 47.68841748, 47.68849519, 47.68858279, 47.68867467, 47.68873776, 47.68879749, 47.68884378, 47.68885578, 47.68891284, 47.68896433, 47.68903234, 47.68911167, 47.68921445, 47.68931763, 47.68942127, 47.68953453, 47.68962588, 47.68972278, 47.68981035, 47.68988973, 47.68994898, 47.69008998, 47.69010657, 47.69016626, 47.69024011, 47.69032164, 47.69040079, 47.69050142, 47.690612, 47.69072759, 47.69083753, 47.69093664, 47.69102771, 47.69111013, 47.69117196, 47.6912217, 47.69132114, 47.69140974, 47.69145822, 47.69147617, 47.69154609, 47.69162193, 47.69167722, 47.69177272, 47.69187806, 47.69198545, 47.69208711, 47.69218678, 47.69228142, 47.69235032, 47.69250453, 47.69261783, 47.69272705, 47.69283084, 47.69293053, 47.69304701, 47.69309285, 47.69309591, 47.6930578, 47.69300756, 47.69296184, 47.69292154, 47.69288446, 47.69284882, 47.69281844, 47.69278882, 47.69276402, 47.69274281, 47.69271873, 47.69269254, 47.69266343, 47.6926363, 47.69260458, 47.69256766, 47.69253059, 47.692493, 47.69245136, 47.69240901, 47.69238901, 47.69232583, 47.69228724, 47.69225087, 47.69221529, 47.69217992, 47.6921442, 47.69210887, 47.69207411, 47.6920397, 47.69200459, 47.6919681, 47.69193712, 47.69187963, 47.69182161, 47.69177726, 47.69173315, 47.69169176, 47.69165034, 47.69161328, 47.69158298, 47.6915538, 47.69153011, 47.69168912, 47.69174523, 47.69181536, 47.69181504, 47.69179735, 47.69176045, 47.69168864, 47.69161042, 47.69153226, 47.69146226, 47.69140207, 47.69134365, 47.69128459, 47.69122307, 47.69116487, 47.69111055, 47.69105319, 47.69100432, 47.69095176, 47.69090081, 47.690853, 47.6908024, 47.69075681, 47.69071456, 47.69066853, 47.69062441, 47.69057646, 47.69053201, 47.69048457, 47.69044549, 47.69040637, 47.69036752, 47.69033276, 47.6902902, 47.69025154, 47.69021265, 47.69016252, 47.6901187, 47.69004838, 47.68997983, 47.68992432, 47.68979409, 47.6898357, 47.68988918, 47.69006894, 47.69010222, 47.69017594, 47.6902368, 47.69029484, 47.69036076, 47.69043266, 47.69050363, 47.69057054, 47.69063689, 47.69070681, 47.69077352, 47.69084168, 47.69091108, 47.6909765, 47.6910398, 47.69110853, 47.69117573, 47.69125073, 47.69132377, 47.69139419, 47.69142251, 47.69155295, 47.69163218, 47.69171042, 47.69178525, 47.69186282, 47.69194334, 47.69202598, 47.69210896, 47.69219036, 47.69227079, 47.69234887, 47.69242754, 47.69250742, 47.69259167, 47.69266865, 47.69274671, 47.69278558, 47.69290576, 47.69297983, 47.69304463, 47.69310142, 47.69315656, 47.69319669, 47.69324583, 47.69330218, 47.69336647, 47.69343036, 47.69349521, 47.69356138, 47.69362799, 47.69369072, 47.69375265, 47.69380854, 47.69385455, 47.69406205, 47.69411331, 47.69419442, 47.69420358, 47.6943144, 47.69441258, 47.69452494, 47.69464278, 47.69476884, 47.6948871, 47.69499469, 47.69510915, 47.69520972, 47.69533651, 47.69546008, 47.69557367, 47.69565346, 47.69582974, 47.69596818, 47.69610101, 47.69623501, 47.69636779, 47.69649724, 47.69662743, 47.69676009, 47.69688958, 47.69701574, 47.69714259, 47.69727226, 47.69740957, 47.69754664, 47.69768588, 47.69782108, 47.69796356, 47.69803105, 47.69823863, 47.69838098, 47.69851852, 47.69865721, 47.69879953, 47.69893644, 47.69907595, 47.69921466, 47.69935268, 47.69948748, 47.69962116, 47.69969506, 47.69989098, 47.70002177, 47.70015575, 47.70028855, 47.70042128, 47.70055367, 47.70068432, 47.70081766, 47.70095188, 47.70108469, 47.70121731, 47.70135216, 47.70148582, 47.70161956, 47.70175387, 47.70188748, 47.70202267, 47.70215877, 47.70229535, 47.7024338, 47.70257109, 47.70271129, 47.70285103, 47.70299285, 47.70313696, 47.70327759, 47.70342045, 47.70356175], \"legendgroup\": \"\", \"lon\": [17.64932557, 17.64923157, 17.64922868, 17.64837152, 17.64830931, 17.64778528, 17.64770828, 17.64761739, 17.64752929, 17.64745575, 17.64736435, 17.64727831, 17.64667027, 17.64654016, 17.64637826, 17.64622038, 17.64605247, 17.64588495, 17.64572646, 17.64557904, 17.64546214, 17.64533582, 17.64524483, 17.64516795, 17.64510898, 17.6450485, 17.64501534, 17.64499172, 17.6449543, 17.6449034, 17.64481246, 17.64466405, 17.64453713, 17.6443134, 17.64414537, 17.64399471, 17.64386249, 17.64373841, 17.64363837, 17.64353331, 17.64343073, 17.64334612, 17.64326374, 17.64318621, 17.64311906, 17.64307739, 17.64306276, 17.64309139, 17.64318403, 17.64324812, 17.6432854, 17.64328556, 17.64324585, 17.64315811, 17.64304933, 17.64294434, 17.64284927, 17.64276721, 17.64270777, 17.64265888, 17.64261955, 17.64265718, 17.6426875, 17.64274809, 17.64286492, 17.64294513, 17.64290487, 17.64275989, 17.64268117, 17.64262065, 17.64256769, 17.64251839, 17.64247007, 17.64242417, 17.64239076, 17.64234049, 17.64230361, 17.64226806, 17.64223414, 17.64219693, 17.64213743, 17.64209361, 17.64188485, 17.64179535, 17.64166677, 17.64152166, 17.64138543, 17.64126107, 17.64114414, 17.64104448, 17.64094836, 17.64086951, 17.64080469, 17.64073206, 17.64065814, 17.64057595, 17.64049937, 17.6404103, 17.64030786, 17.64020496, 17.64010065, 17.6399851, 17.63986756, 17.63981207, 17.63961438, 17.63949359, 17.63937973, 17.63927017, 17.63916243, 17.63905377, 17.63894781, 17.63884356, 17.63874034, 17.63863505, 17.63852561, 17.63844744, 17.63835017, 17.63819679, 17.63807662, 17.63795708, 17.63784494, 17.63773272, 17.63763231, 17.63755021, 17.63747116, 17.63740695, 17.63705981, 17.63699559, 17.6368559, 17.63685344, 17.63675178, 17.63667271, 17.63656464, 17.63644609, 17.63631756, 17.63617727, 17.63602219, 17.63587168, 17.63570393, 17.63554407, 17.63537872, 17.63522245, 17.63505215, 17.63490439, 17.63474424, 17.63458475, 17.63443103, 17.63426774, 17.63410657, 17.63395015, 17.63377977, 17.63362566, 17.63346066, 17.63330771, 17.63313813, 17.6329925, 17.63283876, 17.632683, 17.63254363, 17.63239658, 17.63226505, 17.63214396, 17.63204136, 17.63195937, 17.63193133, 17.63192991, 17.63195854, 17.6325124, 17.63257046, 17.63261846, 17.63247226, 17.63245071, 17.63240919, 17.63237357, 17.63233556, 17.63229236, 17.63224641, 17.63220228, 17.63216069, 17.63211944, 17.63207597, 17.63203449, 17.63199212, 17.63194897, 17.63190831, 17.63186895, 17.63182608, 17.63178409, 17.63173722, 17.6316913, 17.6316469, 17.63162904, 17.63154055, 17.63148646, 17.631433, 17.63138187, 17.6313306, 17.63127949, 17.63122704, 17.63117437, 17.63112271, 17.63107166, 17.6310221, 17.63097217, 17.63092147, 17.63086799, 17.63081914, 17.63076959, 17.63074491, 17.63067349, 17.63062955, 17.6305911, 17.63055741, 17.6305247, 17.63050089, 17.63047174, 17.63043831, 17.63040016, 17.63036226, 17.63032378, 17.63028453, 17.630245, 17.63020778, 17.63017102, 17.63013784, 17.63011054, 17.63019127, 17.63020038, 17.63019246, 17.63018723, 17.63005807, 17.63003756, 17.63005126, 17.63007026, 17.63005853, 17.63006446, 17.6300662, 17.63005824, 17.63003577, 17.62999569, 17.62994778, 17.62990134, 17.62986872, 17.62980624, 17.6297572, 17.6297106, 17.62966419, 17.62961822, 17.62957339, 17.6295283, 17.62948237, 17.62943753, 17.62939924, 17.62936644, 17.62934664, 17.62933623, 17.62933544, 17.62933883, 17.62934133, 17.62933794, 17.62933483, 17.62936701, 17.62938273, 17.62939291, 17.62940318, 17.62941372, 17.62942386, 17.62943419, 17.62944771, 17.62946679, 17.62948079, 17.62949251, 17.62949899, 17.6295411, 17.62956949, 17.62960116, 17.62963569, 17.62967226, 17.62970921, 17.62974648, 17.62978453, 17.62983045, 17.62988032, 17.62993013, 17.62998077, 17.63003096, 17.63008102, 17.630129, 17.63017497, 17.63021741, 17.63025667, 17.63029559, 17.63033662, 17.63037905, 17.63042273, 17.63046782, 17.63051358, 17.63056009, 17.63060546, 17.63065156, 17.63069716], \"marker\": {\"color\": [0, 0, 0, 0, 0, 1, 0, 0, 0, 0, 0, 0, 0, 1, 0, 1, 0, 0, 0, 1, 1, 1, 1, 1, 0, 0, 0, 1, 1, 0, 1, 0, 0, 1, 0, 1, 1, 0, 0, 0, 1, 1, 1, 1, 0, 1, 1, 0, 0, 0, 0, 0, 1, 1, 1, 1, 1, 0, 0, 0, 1, 0, 0, 1, 0, 0, 1, 0, 1, 1, 1, 0, 1, 1, 1, 1, 1, 0, 0, 0, 0, 0, 1, 1, 0, 0, 0, 0, 0, 0, 0, 0, 0, 0, 1, 0, 0, 1, 0, 0, 1, 1, 1, 1, 0, 0, 0, 0, 0, 0, 0, 0, 0, 0, 0, 0, 1, 0, 0, 0, 0, 0, 0, 0, 0, 0, 1, 0, 0, 0, 0, 0, 0, 0, 0, 0, 0, 0, 0, 0, 0, 0, 0, 0, 0, 0, 0, 0, 0, 0, 0, 0, 0, 0, 0, 0, 0, 0, 0, 0, 0, 0, 0, 0, 0, 0, 0, 0, 0, 0, 0, 1, 0, 0, 0, 0, 0, 0, 0, 0, 0, 0, 0, 0, 0, 0, 1, 0, 0, 0, 0, 1, 0, 1, 0, 0, 0, 0, 1, 1, 1, 0, 0, 0, 0, 1, 1, 0, 0, 0, 1, 0, 0, 0, 0, 0, 0, 1, 0, 1, 0, 0, 0, 0, 0, 0, 0, 1, 1, 1, 0, 0, 1, 0, 0, 0, 0, 0, 1, 1, 0, 1, 1, 1, 1, 1, 1, 1, 1, 1, 1, 1, 0, 0, 0, 0, 0, 0, 1, 1, 1, 0, 0, 0, 1, 0, 1, 0, 0, 1, 1, 0, 1, 0, 0, 0, 0, 0, 0, 1, 0, 0, 0, 0, 0, 0, 1, 0, 0, 0, 0, 0, 1, 1, 0, 0, 0, 0, 0, 1, 1], \"coloraxis\": \"coloraxis\"}, \"mode\": \"markers\", \"name\": \"\", \"showlegend\": false, \"subplot\": \"mapbox\", \"type\": \"scattermapbox\"}],\n",
       "                        {\"coloraxis\": {\"colorbar\": {\"title\": {\"text\": \"label\"}}, \"colorscale\": [[0.0, \"green\"], [1.0, \"red\"]], \"showscale\": false}, \"height\": 300, \"legend\": {\"tracegroupgap\": 0}, \"mapbox\": {\"center\": {\"lat\": 47.692899581528245, \"lon\": 17.636138610531564}, \"domain\": {\"x\": [0.0, 1.0], \"y\": [0.0, 1.0]}, \"style\": \"open-street-map\", \"zoom\": 12}, \"margin\": {\"b\": 0, \"l\": 0, \"r\": 0, \"t\": 0}, \"template\": {\"data\": {\"bar\": [{\"error_x\": {\"color\": \"#2a3f5f\"}, \"error_y\": {\"color\": \"#2a3f5f\"}, \"marker\": {\"line\": {\"color\": \"#E5ECF6\", \"width\": 0.5}}, \"type\": \"bar\"}], \"barpolar\": [{\"marker\": {\"line\": {\"color\": \"#E5ECF6\", \"width\": 0.5}}, \"type\": \"barpolar\"}], \"carpet\": [{\"aaxis\": {\"endlinecolor\": \"#2a3f5f\", \"gridcolor\": \"white\", \"linecolor\": \"white\", \"minorgridcolor\": \"white\", \"startlinecolor\": \"#2a3f5f\"}, \"baxis\": {\"endlinecolor\": \"#2a3f5f\", \"gridcolor\": \"white\", \"linecolor\": \"white\", \"minorgridcolor\": \"white\", \"startlinecolor\": \"#2a3f5f\"}, \"type\": \"carpet\"}], \"choropleth\": [{\"colorbar\": {\"outlinewidth\": 0, \"ticks\": \"\"}, \"type\": \"choropleth\"}], \"contour\": [{\"colorbar\": {\"outlinewidth\": 0, \"ticks\": \"\"}, \"colorscale\": [[0.0, \"#0d0887\"], [0.1111111111111111, \"#46039f\"], [0.2222222222222222, \"#7201a8\"], [0.3333333333333333, \"#9c179e\"], [0.4444444444444444, \"#bd3786\"], [0.5555555555555556, \"#d8576b\"], [0.6666666666666666, \"#ed7953\"], [0.7777777777777778, \"#fb9f3a\"], [0.8888888888888888, \"#fdca26\"], [1.0, \"#f0f921\"]], \"type\": \"contour\"}], \"contourcarpet\": [{\"colorbar\": {\"outlinewidth\": 0, \"ticks\": \"\"}, \"type\": \"contourcarpet\"}], \"heatmap\": [{\"colorbar\": {\"outlinewidth\": 0, \"ticks\": \"\"}, \"colorscale\": [[0.0, \"#0d0887\"], [0.1111111111111111, \"#46039f\"], [0.2222222222222222, \"#7201a8\"], [0.3333333333333333, \"#9c179e\"], [0.4444444444444444, \"#bd3786\"], [0.5555555555555556, \"#d8576b\"], [0.6666666666666666, \"#ed7953\"], [0.7777777777777778, \"#fb9f3a\"], [0.8888888888888888, \"#fdca26\"], [1.0, \"#f0f921\"]], \"type\": \"heatmap\"}], \"heatmapgl\": [{\"colorbar\": {\"outlinewidth\": 0, \"ticks\": \"\"}, \"colorscale\": [[0.0, \"#0d0887\"], [0.1111111111111111, \"#46039f\"], [0.2222222222222222, \"#7201a8\"], [0.3333333333333333, \"#9c179e\"], [0.4444444444444444, \"#bd3786\"], [0.5555555555555556, \"#d8576b\"], [0.6666666666666666, \"#ed7953\"], [0.7777777777777778, \"#fb9f3a\"], [0.8888888888888888, \"#fdca26\"], [1.0, \"#f0f921\"]], \"type\": \"heatmapgl\"}], \"histogram\": [{\"marker\": {\"colorbar\": {\"outlinewidth\": 0, \"ticks\": \"\"}}, \"type\": \"histogram\"}], \"histogram2d\": [{\"colorbar\": {\"outlinewidth\": 0, \"ticks\": \"\"}, \"colorscale\": [[0.0, \"#0d0887\"], [0.1111111111111111, \"#46039f\"], [0.2222222222222222, \"#7201a8\"], [0.3333333333333333, \"#9c179e\"], [0.4444444444444444, \"#bd3786\"], [0.5555555555555556, \"#d8576b\"], [0.6666666666666666, \"#ed7953\"], [0.7777777777777778, \"#fb9f3a\"], [0.8888888888888888, \"#fdca26\"], [1.0, \"#f0f921\"]], \"type\": \"histogram2d\"}], \"histogram2dcontour\": [{\"colorbar\": {\"outlinewidth\": 0, \"ticks\": \"\"}, \"colorscale\": [[0.0, \"#0d0887\"], [0.1111111111111111, \"#46039f\"], [0.2222222222222222, \"#7201a8\"], [0.3333333333333333, \"#9c179e\"], [0.4444444444444444, \"#bd3786\"], [0.5555555555555556, \"#d8576b\"], [0.6666666666666666, \"#ed7953\"], [0.7777777777777778, \"#fb9f3a\"], [0.8888888888888888, \"#fdca26\"], [1.0, \"#f0f921\"]], \"type\": \"histogram2dcontour\"}], \"mesh3d\": [{\"colorbar\": {\"outlinewidth\": 0, \"ticks\": \"\"}, \"type\": \"mesh3d\"}], \"parcoords\": [{\"line\": {\"colorbar\": {\"outlinewidth\": 0, \"ticks\": \"\"}}, \"type\": \"parcoords\"}], \"pie\": [{\"automargin\": true, \"type\": \"pie\"}], \"scatter\": [{\"marker\": {\"colorbar\": {\"outlinewidth\": 0, \"ticks\": \"\"}}, \"type\": \"scatter\"}], \"scatter3d\": [{\"line\": {\"colorbar\": {\"outlinewidth\": 0, \"ticks\": \"\"}}, \"marker\": {\"colorbar\": {\"outlinewidth\": 0, \"ticks\": \"\"}}, \"type\": \"scatter3d\"}], \"scattercarpet\": [{\"marker\": {\"colorbar\": {\"outlinewidth\": 0, \"ticks\": \"\"}}, \"type\": \"scattercarpet\"}], \"scattergeo\": [{\"marker\": {\"colorbar\": {\"outlinewidth\": 0, \"ticks\": \"\"}}, \"type\": \"scattergeo\"}], \"scattergl\": [{\"marker\": {\"colorbar\": {\"outlinewidth\": 0, \"ticks\": \"\"}}, \"type\": \"scattergl\"}], \"scattermapbox\": [{\"marker\": {\"colorbar\": {\"outlinewidth\": 0, \"ticks\": \"\"}}, \"type\": \"scattermapbox\"}], \"scatterpolar\": [{\"marker\": {\"colorbar\": {\"outlinewidth\": 0, \"ticks\": \"\"}}, \"type\": \"scatterpolar\"}], \"scatterpolargl\": [{\"marker\": {\"colorbar\": {\"outlinewidth\": 0, \"ticks\": \"\"}}, \"type\": \"scatterpolargl\"}], \"scatterternary\": [{\"marker\": {\"colorbar\": {\"outlinewidth\": 0, \"ticks\": \"\"}}, \"type\": \"scatterternary\"}], \"surface\": [{\"colorbar\": {\"outlinewidth\": 0, \"ticks\": \"\"}, \"colorscale\": [[0.0, \"#0d0887\"], [0.1111111111111111, \"#46039f\"], [0.2222222222222222, \"#7201a8\"], [0.3333333333333333, \"#9c179e\"], [0.4444444444444444, \"#bd3786\"], [0.5555555555555556, \"#d8576b\"], [0.6666666666666666, \"#ed7953\"], [0.7777777777777778, \"#fb9f3a\"], [0.8888888888888888, \"#fdca26\"], [1.0, \"#f0f921\"]], \"type\": \"surface\"}], \"table\": [{\"cells\": {\"fill\": {\"color\": \"#EBF0F8\"}, \"line\": {\"color\": \"white\"}}, \"header\": {\"fill\": {\"color\": \"#C8D4E3\"}, \"line\": {\"color\": \"white\"}}, \"type\": \"table\"}]}, \"layout\": {\"annotationdefaults\": {\"arrowcolor\": \"#2a3f5f\", \"arrowhead\": 0, \"arrowwidth\": 1}, \"coloraxis\": {\"colorbar\": {\"outlinewidth\": 0, \"ticks\": \"\"}}, \"colorscale\": {\"diverging\": [[0, \"#8e0152\"], [0.1, \"#c51b7d\"], [0.2, \"#de77ae\"], [0.3, \"#f1b6da\"], [0.4, \"#fde0ef\"], [0.5, \"#f7f7f7\"], [0.6, \"#e6f5d0\"], [0.7, \"#b8e186\"], [0.8, \"#7fbc41\"], [0.9, \"#4d9221\"], [1, \"#276419\"]], \"sequential\": [[0.0, \"#0d0887\"], [0.1111111111111111, \"#46039f\"], [0.2222222222222222, \"#7201a8\"], [0.3333333333333333, \"#9c179e\"], [0.4444444444444444, \"#bd3786\"], [0.5555555555555556, \"#d8576b\"], [0.6666666666666666, \"#ed7953\"], [0.7777777777777778, \"#fb9f3a\"], [0.8888888888888888, \"#fdca26\"], [1.0, \"#f0f921\"]], \"sequentialminus\": [[0.0, \"#0d0887\"], [0.1111111111111111, \"#46039f\"], [0.2222222222222222, \"#7201a8\"], [0.3333333333333333, \"#9c179e\"], [0.4444444444444444, \"#bd3786\"], [0.5555555555555556, \"#d8576b\"], [0.6666666666666666, \"#ed7953\"], [0.7777777777777778, \"#fb9f3a\"], [0.8888888888888888, \"#fdca26\"], [1.0, \"#f0f921\"]]}, \"colorway\": [\"#636efa\", \"#EF553B\", \"#00cc96\", \"#ab63fa\", \"#FFA15A\", \"#19d3f3\", \"#FF6692\", \"#B6E880\", \"#FF97FF\", \"#FECB52\"], \"font\": {\"color\": \"#2a3f5f\"}, \"geo\": {\"bgcolor\": \"white\", \"lakecolor\": \"white\", \"landcolor\": \"#E5ECF6\", \"showlakes\": true, \"showland\": true, \"subunitcolor\": \"white\"}, \"hoverlabel\": {\"align\": \"left\"}, \"hovermode\": \"closest\", \"mapbox\": {\"style\": \"light\"}, \"paper_bgcolor\": \"white\", \"plot_bgcolor\": \"#E5ECF6\", \"polar\": {\"angularaxis\": {\"gridcolor\": \"white\", \"linecolor\": \"white\", \"ticks\": \"\"}, \"bgcolor\": \"#E5ECF6\", \"radialaxis\": {\"gridcolor\": \"white\", \"linecolor\": \"white\", \"ticks\": \"\"}}, \"scene\": {\"xaxis\": {\"backgroundcolor\": \"#E5ECF6\", \"gridcolor\": \"white\", \"gridwidth\": 2, \"linecolor\": \"white\", \"showbackground\": true, \"ticks\": \"\", \"zerolinecolor\": \"white\"}, \"yaxis\": {\"backgroundcolor\": \"#E5ECF6\", \"gridcolor\": \"white\", \"gridwidth\": 2, \"linecolor\": \"white\", \"showbackground\": true, \"ticks\": \"\", \"zerolinecolor\": \"white\"}, \"zaxis\": {\"backgroundcolor\": \"#E5ECF6\", \"gridcolor\": \"white\", \"gridwidth\": 2, \"linecolor\": \"white\", \"showbackground\": true, \"ticks\": \"\", \"zerolinecolor\": \"white\"}}, \"shapedefaults\": {\"line\": {\"color\": \"#2a3f5f\"}}, \"ternary\": {\"aaxis\": {\"gridcolor\": \"white\", \"linecolor\": \"white\", \"ticks\": \"\"}, \"baxis\": {\"gridcolor\": \"white\", \"linecolor\": \"white\", \"ticks\": \"\"}, \"bgcolor\": \"#E5ECF6\", \"caxis\": {\"gridcolor\": \"white\", \"linecolor\": \"white\", \"ticks\": \"\"}}, \"title\": {\"x\": 0.05}, \"xaxis\": {\"automargin\": true, \"gridcolor\": \"white\", \"linecolor\": \"white\", \"ticks\": \"\", \"title\": {\"standoff\": 15}, \"zerolinecolor\": \"white\", \"zerolinewidth\": 2}, \"yaxis\": {\"automargin\": true, \"gridcolor\": \"white\", \"linecolor\": \"white\", \"ticks\": \"\", \"title\": {\"standoff\": 15}, \"zerolinecolor\": \"white\", \"zerolinewidth\": 2}}}},\n",
       "                        {\"responsive\": true}\n",
       "                    ).then(function(){\n",
       "                            \n",
       "var gd = document.getElementById('b37c5765-b00b-42b5-8158-012d6d7047b8');\n",
       "var x = new MutationObserver(function (mutations, observer) {{\n",
       "        var display = window.getComputedStyle(gd).display;\n",
       "        if (!display || display === 'none') {{\n",
       "            console.log([gd, 'removed!']);\n",
       "            Plotly.purge(gd);\n",
       "            observer.disconnect();\n",
       "        }}\n",
       "}});\n",
       "\n",
       "// Listen for the removal of the full notebook cells\n",
       "var notebookContainer = gd.closest('#notebook-container');\n",
       "if (notebookContainer) {{\n",
       "    x.observe(notebookContainer, {childList: true});\n",
       "}}\n",
       "\n",
       "// Listen for the clearing of the current output cell\n",
       "var outputEl = gd.closest('.output');\n",
       "if (outputEl) {{\n",
       "    x.observe(outputEl, {childList: true});\n",
       "}}\n",
       "\n",
       "                        })\n",
       "                };\n",
       "                });\n",
       "            </script>\n",
       "        </div>"
      ]
     },
     "metadata": {},
     "output_type": "display_data"
    }
   ],
   "source": [
    "iplot(check_quality(ok, model))\n",
    "iplot(check_quality(nok, model))\n",
    "iplot(check_quality(test, model))"
   ]
  },
  {
   "cell_type": "code",
   "execution_count": null,
   "metadata": {},
   "outputs": [],
   "source": []
  }
 ],
 "metadata": {
  "kernelspec": {
   "display_name": "Python 3",
   "language": "python",
   "name": "python3"
  },
  "language_info": {
   "codemirror_mode": {
    "name": "ipython",
    "version": 3
   },
   "file_extension": ".py",
   "mimetype": "text/x-python",
   "name": "python",
   "nbconvert_exporter": "python",
   "pygments_lexer": "ipython3",
   "version": "3.7.5"
  },
  "notify_time": "5",
  "toc": {
   "base_numbering": 1,
   "nav_menu": {},
   "number_sections": true,
   "sideBar": true,
   "skip_h1_title": false,
   "title_cell": "Table of Contents",
   "title_sidebar": "Contents",
   "toc_cell": false,
   "toc_position": {},
   "toc_section_display": true,
   "toc_window_display": true
  },
  "varInspector": {
   "cols": {
    "lenName": 16,
    "lenType": 16,
    "lenVar": 40
   },
   "kernels_config": {
    "python": {
     "delete_cmd_postfix": "",
     "delete_cmd_prefix": "del ",
     "library": "var_list.py",
     "varRefreshCmd": "print(var_dic_list())"
    },
    "r": {
     "delete_cmd_postfix": ") ",
     "delete_cmd_prefix": "rm(",
     "library": "var_list.r",
     "varRefreshCmd": "cat(var_dic_list()) "
    }
   },
   "position": {
    "height": "646.719px",
    "left": "979.091px",
    "right": "20px",
    "top": "120px",
    "width": "350px"
   },
   "types_to_exclude": [
    "module",
    "function",
    "builtin_function_or_method",
    "instance",
    "_Feature"
   ],
   "window_display": false
  }
 },
 "nbformat": 4,
 "nbformat_minor": 4
}
