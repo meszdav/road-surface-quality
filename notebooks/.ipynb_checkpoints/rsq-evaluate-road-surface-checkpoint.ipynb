{
 "cells": [
  {
   "cell_type": "code",
   "execution_count": 330,
   "metadata": {
    "ExecuteTime": {
     "end_time": "2020-08-21T20:02:35.494613Z",
     "start_time": "2020-08-21T20:02:35.485615Z"
    }
   },
   "outputs": [],
   "source": [
    "import numpy as np\n",
    "import plotly.express as px\n",
    "import plotly.graph_objects as go\n",
    "from plotly.offline import plot,iplot\n",
    "from scipy.stats import norm, kurtosis\n",
    "import os\n",
    "from scipy.signal import butter, lfilter, freqz\n",
    "from scipy import signal\n",
    "from sklearn.model_selection import train_test_split\n",
    "from collections import Counter\n",
    "from sklearn.preprocessing import MinMaxScaler, StandardScaler\n",
    "\n",
    "from joblib import dump, load\n",
    "import pandas as pd\n",
    "from processing_funcs import *"
   ]
  },
  {
   "cell_type": "code",
   "execution_count": 331,
   "metadata": {
    "ExecuteTime": {
     "end_time": "2020-08-21T20:02:36.757882Z",
     "start_time": "2020-08-21T20:02:36.317139Z"
    }
   },
   "outputs": [],
   "source": [
    "df = read_measurement(\"../data/raw_data_train/rsq_q3/*\", 0.01)"
   ]
  },
  {
   "cell_type": "code",
   "execution_count": 332,
   "metadata": {
    "ExecuteTime": {
     "end_time": "2020-08-21T20:02:37.444494Z",
     "start_time": "2020-08-21T20:02:37.436494Z"
    }
   },
   "outputs": [],
   "source": [
    "def butter_high(cutoff, fs, order=5):\n",
    "    nyq = 0.5 * fs\n",
    "    normal_cutoff = cutoff / nyq\n",
    "    b, a = butter(order, normal_cutoff, btype='high', analog=False)\n",
    "    return b, a\n",
    "\n",
    "def butter_high_filter(data, cutoff, fs, order=5):\n",
    "    b, a = butter_high(cutoff, fs, order=order)\n",
    "    y = lfilter(b, a, data)\n",
    "    return y"
   ]
  },
  {
   "cell_type": "code",
   "execution_count": 333,
   "metadata": {
    "ExecuteTime": {
     "end_time": "2020-08-21T20:02:38.233038Z",
     "start_time": "2020-08-21T20:02:38.222043Z"
    }
   },
   "outputs": [],
   "source": [
    "def filter_acc(df, cutoff=2, fs=50, order=2):\n",
    "\n",
    "    signals = [ 'x_lin_acc', 'y_lin_acc', 'z_lin_acc','x_acc', 'y_acc', 'z_acc',]\n",
    "\n",
    "    new_df = pd.DataFrame(columns=signals)\n",
    "    list_signals = []\n",
    "    \n",
    "\n",
    "    for j in signals:\n",
    "\n",
    "        filtered_signal = butter_high_filter(df[j], cutoff=cutoff, fs=fs, order=order)\n",
    "\n",
    "        list_signals.append(filtered_signal)\n",
    "\n",
    "    new_df = pd.concat([new_df, pd.DataFrame(np.array(list_signals).T,columns=signals)])\n",
    "\n",
    "    return new_df"
   ]
  },
  {
   "cell_type": "code",
   "execution_count": 334,
   "metadata": {
    "ExecuteTime": {
     "end_time": "2020-08-21T20:02:38.916644Z",
     "start_time": "2020-08-21T20:02:38.897657Z"
    }
   },
   "outputs": [],
   "source": [
    "def kurtosis_time(x):\n",
    "\n",
    "    return kurtosis(x, fisher=True)\n",
    "\n",
    "def rms_100(x):\n",
    "\n",
    "    return np.sqrt(np.mean(x**2))\n",
    "\n",
    "def crest(x):\n",
    "\n",
    "    return max(abs(x))/np.sqrt(np.mean(x**2))\n",
    "\n",
    "def create_aggregated(df):\n",
    "    \"\"\"Create a aggregated dataframe in time domain\"\"\"\n",
    "    signals = ['x_lin_acc', 'y_lin_acc', \n",
    "               'x_acc', 'y_acc', 'z_acc',\n",
    "               'x_gyro', 'y_gyro', 'z_gyro']\n",
    "\n",
    "    agg_df = df.groupby([\"id_gps\"]).agg({x: [\"sum\", \"mean\", \"mad\",\n",
    "                                                \"median\", \"min\", \"max\",\n",
    "                                                \"std\", \"var\", \"sem\",\n",
    "                                                \"skew\", \"quantile\",\n",
    "                                                kurtosis_time, rms_100,\n",
    "                                                crest] for x in signals})\n",
    "\n",
    "    return agg_df"
   ]
  },
  {
   "cell_type": "code",
   "execution_count": 335,
   "metadata": {
    "ExecuteTime": {
     "end_time": "2020-08-21T20:02:39.739187Z",
     "start_time": "2020-08-21T20:02:39.702193Z"
    }
   },
   "outputs": [],
   "source": [
    "filtered_df = filter_acc(df)\n",
    "new_df = df.drop(filtered_df.columns, axis=1)\n",
    "df = pd.concat([new_df.reset_index(),filtered_df.reset_index()], axis=1)"
   ]
  },
  {
   "cell_type": "code",
   "execution_count": 336,
   "metadata": {
    "ExecuteTime": {
     "end_time": "2020-08-21T20:02:40.566698Z",
     "start_time": "2020-08-21T20:02:40.505732Z"
    }
   },
   "outputs": [
    {
     "data": {
      "text/html": [
       "<div>\n",
       "<style scoped>\n",
       "    .dataframe tbody tr th:only-of-type {\n",
       "        vertical-align: middle;\n",
       "    }\n",
       "\n",
       "    .dataframe tbody tr th {\n",
       "        vertical-align: top;\n",
       "    }\n",
       "\n",
       "    .dataframe thead th {\n",
       "        text-align: right;\n",
       "    }\n",
       "</style>\n",
       "<table border=\"1\" class=\"dataframe\">\n",
       "  <thead>\n",
       "    <tr style=\"text-align: right;\">\n",
       "      <th></th>\n",
       "      <th>index</th>\n",
       "      <th>time</th>\n",
       "      <th>lat</th>\n",
       "      <th>lon</th>\n",
       "      <th>height</th>\n",
       "      <th>velocity</th>\n",
       "      <th>direction</th>\n",
       "      <th>h_accuracy</th>\n",
       "      <th>v_accuracy</th>\n",
       "      <th>id_gps</th>\n",
       "      <th>x_gyro</th>\n",
       "      <th>y_gyro</th>\n",
       "      <th>z_gyro</th>\n",
       "      <th>index</th>\n",
       "      <th>x_lin_acc</th>\n",
       "      <th>y_lin_acc</th>\n",
       "      <th>z_lin_acc</th>\n",
       "      <th>x_acc</th>\n",
       "      <th>y_acc</th>\n",
       "      <th>z_acc</th>\n",
       "    </tr>\n",
       "  </thead>\n",
       "  <tbody>\n",
       "    <tr>\n",
       "      <th>0</th>\n",
       "      <td>15</td>\n",
       "      <td>0.15</td>\n",
       "      <td>47.686343</td>\n",
       "      <td>17.679912</td>\n",
       "      <td>113.113219</td>\n",
       "      <td>-1.000000</td>\n",
       "      <td>-1.000000</td>\n",
       "      <td>65.000000</td>\n",
       "      <td>65.000000</td>\n",
       "      <td>2</td>\n",
       "      <td>-0.001077</td>\n",
       "      <td>0.001447</td>\n",
       "      <td>-0.000870</td>\n",
       "      <td>0</td>\n",
       "      <td>-0.138141</td>\n",
       "      <td>-0.007515</td>\n",
       "      <td>-0.062320</td>\n",
       "      <td>-0.140590</td>\n",
       "      <td>-0.188205</td>\n",
       "      <td>8.147690</td>\n",
       "    </tr>\n",
       "    <tr>\n",
       "      <th>1</th>\n",
       "      <td>16</td>\n",
       "      <td>0.16</td>\n",
       "      <td>47.686343</td>\n",
       "      <td>17.679912</td>\n",
       "      <td>113.113219</td>\n",
       "      <td>-1.000000</td>\n",
       "      <td>-1.000000</td>\n",
       "      <td>65.000000</td>\n",
       "      <td>65.000000</td>\n",
       "      <td>2</td>\n",
       "      <td>-0.002516</td>\n",
       "      <td>0.002074</td>\n",
       "      <td>0.000089</td>\n",
       "      <td>1</td>\n",
       "      <td>-0.012304</td>\n",
       "      <td>0.044320</td>\n",
       "      <td>-0.076306</td>\n",
       "      <td>-0.150044</td>\n",
       "      <td>-0.063339</td>\n",
       "      <td>5.254127</td>\n",
       "    </tr>\n",
       "    <tr>\n",
       "      <th>2</th>\n",
       "      <td>17</td>\n",
       "      <td>0.17</td>\n",
       "      <td>47.686343</td>\n",
       "      <td>17.679912</td>\n",
       "      <td>113.113219</td>\n",
       "      <td>-1.000000</td>\n",
       "      <td>-1.000000</td>\n",
       "      <td>65.000000</td>\n",
       "      <td>65.000000</td>\n",
       "      <td>2</td>\n",
       "      <td>-0.001361</td>\n",
       "      <td>0.004807</td>\n",
       "      <td>0.000367</td>\n",
       "      <td>2</td>\n",
       "      <td>0.217978</td>\n",
       "      <td>-0.017727</td>\n",
       "      <td>-0.051084</td>\n",
       "      <td>0.125886</td>\n",
       "      <td>-0.039097</td>\n",
       "      <td>2.941766</td>\n",
       "    </tr>\n",
       "    <tr>\n",
       "      <th>3</th>\n",
       "      <td>18</td>\n",
       "      <td>0.18</td>\n",
       "      <td>47.686343</td>\n",
       "      <td>17.679912</td>\n",
       "      <td>113.113219</td>\n",
       "      <td>-1.000000</td>\n",
       "      <td>-1.000000</td>\n",
       "      <td>65.000000</td>\n",
       "      <td>65.000000</td>\n",
       "      <td>2</td>\n",
       "      <td>-0.001860</td>\n",
       "      <td>0.002107</td>\n",
       "      <td>0.000095</td>\n",
       "      <td>3</td>\n",
       "      <td>0.044372</td>\n",
       "      <td>-0.040788</td>\n",
       "      <td>0.003532</td>\n",
       "      <td>0.147784</td>\n",
       "      <td>-0.064750</td>\n",
       "      <td>1.208950</td>\n",
       "    </tr>\n",
       "    <tr>\n",
       "      <th>4</th>\n",
       "      <td>19</td>\n",
       "      <td>0.19</td>\n",
       "      <td>47.686343</td>\n",
       "      <td>17.679912</td>\n",
       "      <td>113.113219</td>\n",
       "      <td>-1.000000</td>\n",
       "      <td>-1.000000</td>\n",
       "      <td>65.000000</td>\n",
       "      <td>65.000000</td>\n",
       "      <td>2</td>\n",
       "      <td>-0.000987</td>\n",
       "      <td>-0.002325</td>\n",
       "      <td>-0.000523</td>\n",
       "      <td>4</td>\n",
       "      <td>-0.152205</td>\n",
       "      <td>0.017539</td>\n",
       "      <td>0.025334</td>\n",
       "      <td>-0.111785</td>\n",
       "      <td>-0.005717</td>\n",
       "      <td>-0.061156</td>\n",
       "    </tr>\n",
       "    <tr>\n",
       "      <th>...</th>\n",
       "      <td>...</td>\n",
       "      <td>...</td>\n",
       "      <td>...</td>\n",
       "      <td>...</td>\n",
       "      <td>...</td>\n",
       "      <td>...</td>\n",
       "      <td>...</td>\n",
       "      <td>...</td>\n",
       "      <td>...</td>\n",
       "      <td>...</td>\n",
       "      <td>...</td>\n",
       "      <td>...</td>\n",
       "      <td>...</td>\n",
       "      <td>...</td>\n",
       "      <td>...</td>\n",
       "      <td>...</td>\n",
       "      <td>...</td>\n",
       "      <td>...</td>\n",
       "      <td>...</td>\n",
       "      <td>...</td>\n",
       "    </tr>\n",
       "    <tr>\n",
       "      <th>12860</th>\n",
       "      <td>12875</td>\n",
       "      <td>128.75</td>\n",
       "      <td>47.694844</td>\n",
       "      <td>17.675054</td>\n",
       "      <td>117.642292</td>\n",
       "      <td>11.712904</td>\n",
       "      <td>85.817919</td>\n",
       "      <td>6.000906</td>\n",
       "      <td>6.000906</td>\n",
       "      <td>129</td>\n",
       "      <td>0.027666</td>\n",
       "      <td>-0.029211</td>\n",
       "      <td>-0.012400</td>\n",
       "      <td>12860</td>\n",
       "      <td>-0.004389</td>\n",
       "      <td>0.001195</td>\n",
       "      <td>-0.021298</td>\n",
       "      <td>0.016121</td>\n",
       "      <td>0.020779</td>\n",
       "      <td>-0.031281</td>\n",
       "    </tr>\n",
       "    <tr>\n",
       "      <th>12861</th>\n",
       "      <td>12876</td>\n",
       "      <td>128.76</td>\n",
       "      <td>47.694844</td>\n",
       "      <td>17.675054</td>\n",
       "      <td>117.642292</td>\n",
       "      <td>11.712904</td>\n",
       "      <td>85.817919</td>\n",
       "      <td>6.000906</td>\n",
       "      <td>6.000906</td>\n",
       "      <td>129</td>\n",
       "      <td>0.035673</td>\n",
       "      <td>-0.008810</td>\n",
       "      <td>-0.015961</td>\n",
       "      <td>12861</td>\n",
       "      <td>-0.119446</td>\n",
       "      <td>0.182275</td>\n",
       "      <td>-0.065013</td>\n",
       "      <td>-0.127598</td>\n",
       "      <td>0.103127</td>\n",
       "      <td>-0.002817</td>\n",
       "    </tr>\n",
       "    <tr>\n",
       "      <th>12862</th>\n",
       "      <td>12877</td>\n",
       "      <td>128.77</td>\n",
       "      <td>47.694844</td>\n",
       "      <td>17.675054</td>\n",
       "      <td>117.642292</td>\n",
       "      <td>11.712904</td>\n",
       "      <td>85.817919</td>\n",
       "      <td>6.000906</td>\n",
       "      <td>6.000906</td>\n",
       "      <td>129</td>\n",
       "      <td>0.041637</td>\n",
       "      <td>0.014038</td>\n",
       "      <td>-0.008203</td>\n",
       "      <td>12862</td>\n",
       "      <td>0.139896</td>\n",
       "      <td>0.206572</td>\n",
       "      <td>-0.535646</td>\n",
       "      <td>0.032854</td>\n",
       "      <td>0.242796</td>\n",
       "      <td>-0.356745</td>\n",
       "    </tr>\n",
       "    <tr>\n",
       "      <th>12863</th>\n",
       "      <td>12878</td>\n",
       "      <td>128.78</td>\n",
       "      <td>47.694844</td>\n",
       "      <td>17.675054</td>\n",
       "      <td>117.642292</td>\n",
       "      <td>11.712904</td>\n",
       "      <td>85.817919</td>\n",
       "      <td>6.000906</td>\n",
       "      <td>6.000906</td>\n",
       "      <td>129</td>\n",
       "      <td>0.061041</td>\n",
       "      <td>0.035687</td>\n",
       "      <td>0.000275</td>\n",
       "      <td>12863</td>\n",
       "      <td>0.425744</td>\n",
       "      <td>0.121085</td>\n",
       "      <td>-0.630134</td>\n",
       "      <td>0.306075</td>\n",
       "      <td>0.179230</td>\n",
       "      <td>-0.602915</td>\n",
       "    </tr>\n",
       "    <tr>\n",
       "      <th>12864</th>\n",
       "      <td>12879</td>\n",
       "      <td>128.79</td>\n",
       "      <td>47.694844</td>\n",
       "      <td>17.675054</td>\n",
       "      <td>117.642292</td>\n",
       "      <td>11.712904</td>\n",
       "      <td>85.817919</td>\n",
       "      <td>6.000906</td>\n",
       "      <td>6.000906</td>\n",
       "      <td>129</td>\n",
       "      <td>0.054401</td>\n",
       "      <td>0.006462</td>\n",
       "      <td>-0.008958</td>\n",
       "      <td>12864</td>\n",
       "      <td>0.221865</td>\n",
       "      <td>-0.285210</td>\n",
       "      <td>-0.085408</td>\n",
       "      <td>0.458916</td>\n",
       "      <td>-0.158585</td>\n",
       "      <td>-0.460052</td>\n",
       "    </tr>\n",
       "  </tbody>\n",
       "</table>\n",
       "<p>12865 rows × 20 columns</p>\n",
       "</div>"
      ],
      "text/plain": [
       "       index    time        lat        lon      height   velocity  direction  \\\n",
       "0         15    0.15  47.686343  17.679912  113.113219  -1.000000  -1.000000   \n",
       "1         16    0.16  47.686343  17.679912  113.113219  -1.000000  -1.000000   \n",
       "2         17    0.17  47.686343  17.679912  113.113219  -1.000000  -1.000000   \n",
       "3         18    0.18  47.686343  17.679912  113.113219  -1.000000  -1.000000   \n",
       "4         19    0.19  47.686343  17.679912  113.113219  -1.000000  -1.000000   \n",
       "...      ...     ...        ...        ...         ...        ...        ...   \n",
       "12860  12875  128.75  47.694844  17.675054  117.642292  11.712904  85.817919   \n",
       "12861  12876  128.76  47.694844  17.675054  117.642292  11.712904  85.817919   \n",
       "12862  12877  128.77  47.694844  17.675054  117.642292  11.712904  85.817919   \n",
       "12863  12878  128.78  47.694844  17.675054  117.642292  11.712904  85.817919   \n",
       "12864  12879  128.79  47.694844  17.675054  117.642292  11.712904  85.817919   \n",
       "\n",
       "       h_accuracy  v_accuracy  id_gps    x_gyro    y_gyro    z_gyro  index  \\\n",
       "0       65.000000   65.000000       2 -0.001077  0.001447 -0.000870      0   \n",
       "1       65.000000   65.000000       2 -0.002516  0.002074  0.000089      1   \n",
       "2       65.000000   65.000000       2 -0.001361  0.004807  0.000367      2   \n",
       "3       65.000000   65.000000       2 -0.001860  0.002107  0.000095      3   \n",
       "4       65.000000   65.000000       2 -0.000987 -0.002325 -0.000523      4   \n",
       "...           ...         ...     ...       ...       ...       ...    ...   \n",
       "12860    6.000906    6.000906     129  0.027666 -0.029211 -0.012400  12860   \n",
       "12861    6.000906    6.000906     129  0.035673 -0.008810 -0.015961  12861   \n",
       "12862    6.000906    6.000906     129  0.041637  0.014038 -0.008203  12862   \n",
       "12863    6.000906    6.000906     129  0.061041  0.035687  0.000275  12863   \n",
       "12864    6.000906    6.000906     129  0.054401  0.006462 -0.008958  12864   \n",
       "\n",
       "       x_lin_acc  y_lin_acc  z_lin_acc     x_acc     y_acc     z_acc  \n",
       "0      -0.138141  -0.007515  -0.062320 -0.140590 -0.188205  8.147690  \n",
       "1      -0.012304   0.044320  -0.076306 -0.150044 -0.063339  5.254127  \n",
       "2       0.217978  -0.017727  -0.051084  0.125886 -0.039097  2.941766  \n",
       "3       0.044372  -0.040788   0.003532  0.147784 -0.064750  1.208950  \n",
       "4      -0.152205   0.017539   0.025334 -0.111785 -0.005717 -0.061156  \n",
       "...          ...        ...        ...       ...       ...       ...  \n",
       "12860  -0.004389   0.001195  -0.021298  0.016121  0.020779 -0.031281  \n",
       "12861  -0.119446   0.182275  -0.065013 -0.127598  0.103127 -0.002817  \n",
       "12862   0.139896   0.206572  -0.535646  0.032854  0.242796 -0.356745  \n",
       "12863   0.425744   0.121085  -0.630134  0.306075  0.179230 -0.602915  \n",
       "12864   0.221865  -0.285210  -0.085408  0.458916 -0.158585 -0.460052  \n",
       "\n",
       "[12865 rows x 20 columns]"
      ]
     },
     "execution_count": 336,
     "metadata": {},
     "output_type": "execute_result"
    }
   ],
   "source": [
    "df"
   ]
  },
  {
   "cell_type": "code",
   "execution_count": 337,
   "metadata": {
    "ExecuteTime": {
     "end_time": "2020-08-21T20:02:44.903223Z",
     "start_time": "2020-08-21T20:02:41.370235Z"
    }
   },
   "outputs": [],
   "source": [
    "feature_df = create_aggregated(df).reset_index()"
   ]
  },
  {
   "cell_type": "code",
   "execution_count": 338,
   "metadata": {
    "ExecuteTime": {
     "end_time": "2020-08-21T20:02:44.935190Z",
     "start_time": "2020-08-21T20:02:44.905205Z"
    }
   },
   "outputs": [
    {
     "name": "stderr",
     "output_type": "stream",
     "text": [
      "c:\\users\\mesza\\.virtualenvs\\road-surface-quality-7nv9hwjf\\lib\\site-packages\\pandas\\core\\generic.py:3878: PerformanceWarning:\n",
      "\n",
      "dropping on a non-lexsorted multi-index without a level parameter may impact performance.\n",
      "\n"
     ]
    }
   ],
   "source": [
    "scaler = MinMaxScaler()\n",
    "scaled = scaler.fit_transform(feature_df.drop(\"id_gps\", axis=1)) "
   ]
  },
  {
   "cell_type": "code",
   "execution_count": 339,
   "metadata": {
    "ExecuteTime": {
     "end_time": "2020-08-21T20:02:45.022139Z",
     "start_time": "2020-08-21T20:02:44.939187Z"
    }
   },
   "outputs": [],
   "source": [
    "model = load(\"../models/rfc_v03.joblib\")"
   ]
  },
  {
   "cell_type": "code",
   "execution_count": 340,
   "metadata": {
    "ExecuteTime": {
     "end_time": "2020-08-21T20:02:45.062117Z",
     "start_time": "2020-08-21T20:02:45.025138Z"
    }
   },
   "outputs": [],
   "source": [
    "preds = model.predict(scaled)"
   ]
  },
  {
   "cell_type": "code",
   "execution_count": 341,
   "metadata": {
    "ExecuteTime": {
     "end_time": "2020-08-21T20:02:45.079109Z",
     "start_time": "2020-08-21T20:02:45.066113Z"
    }
   },
   "outputs": [],
   "source": [
    "result = pd.concat([feature_df,pd.DataFrame(preds, columns=[\"label\"])],axis = 1)"
   ]
  },
  {
   "cell_type": "code",
   "execution_count": 342,
   "metadata": {
    "ExecuteTime": {
     "end_time": "2020-08-21T20:02:45.108089Z",
     "start_time": "2020-08-21T20:02:45.084104Z"
    }
   },
   "outputs": [
    {
     "name": "stderr",
     "output_type": "stream",
     "text": [
      "c:\\users\\mesza\\.virtualenvs\\road-surface-quality-7nv9hwjf\\lib\\site-packages\\numpy\\core\\_asarray.py:83: VisibleDeprecationWarning:\n",
      "\n",
      "Creating an ndarray from ragged nested sequences (which is a list-or-tuple of lists-or-tuples-or ndarrays with different lengths or shapes) is deprecated. If you meant to do this, you must specify 'dtype=object' when creating the ndarray\n",
      "\n"
     ]
    }
   ],
   "source": [
    "result = result[[('id_gps', ''),\"label\"]]\n",
    "result.columns = [\"id_gps\", \"label\"]"
   ]
  },
  {
   "cell_type": "code",
   "execution_count": 343,
   "metadata": {
    "ExecuteTime": {
     "end_time": "2020-08-21T20:02:45.220025Z",
     "start_time": "2020-08-21T20:02:45.114086Z"
    }
   },
   "outputs": [
    {
     "data": {
      "text/html": [
       "<div>\n",
       "<style scoped>\n",
       "    .dataframe tbody tr th:only-of-type {\n",
       "        vertical-align: middle;\n",
       "    }\n",
       "\n",
       "    .dataframe tbody tr th {\n",
       "        vertical-align: top;\n",
       "    }\n",
       "\n",
       "    .dataframe thead th {\n",
       "        text-align: right;\n",
       "    }\n",
       "</style>\n",
       "<table border=\"1\" class=\"dataframe\">\n",
       "  <thead>\n",
       "    <tr style=\"text-align: right;\">\n",
       "      <th></th>\n",
       "      <th>index</th>\n",
       "      <th>time</th>\n",
       "      <th>lat</th>\n",
       "      <th>lon</th>\n",
       "      <th>height</th>\n",
       "      <th>velocity</th>\n",
       "      <th>direction</th>\n",
       "      <th>h_accuracy</th>\n",
       "      <th>v_accuracy</th>\n",
       "      <th>id_gps</th>\n",
       "      <th>x_gyro</th>\n",
       "      <th>y_gyro</th>\n",
       "      <th>z_gyro</th>\n",
       "      <th>index</th>\n",
       "      <th>x_lin_acc</th>\n",
       "      <th>y_lin_acc</th>\n",
       "      <th>z_lin_acc</th>\n",
       "      <th>x_acc</th>\n",
       "      <th>y_acc</th>\n",
       "      <th>z_acc</th>\n",
       "    </tr>\n",
       "  </thead>\n",
       "  <tbody>\n",
       "    <tr>\n",
       "      <th>0</th>\n",
       "      <td>15</td>\n",
       "      <td>0.15</td>\n",
       "      <td>47.686343</td>\n",
       "      <td>17.679912</td>\n",
       "      <td>113.113219</td>\n",
       "      <td>-1.000000</td>\n",
       "      <td>-1.000000</td>\n",
       "      <td>65.000000</td>\n",
       "      <td>65.000000</td>\n",
       "      <td>2</td>\n",
       "      <td>-0.001077</td>\n",
       "      <td>0.001447</td>\n",
       "      <td>-0.000870</td>\n",
       "      <td>0</td>\n",
       "      <td>-0.138141</td>\n",
       "      <td>-0.007515</td>\n",
       "      <td>-0.062320</td>\n",
       "      <td>-0.140590</td>\n",
       "      <td>-0.188205</td>\n",
       "      <td>8.147690</td>\n",
       "    </tr>\n",
       "    <tr>\n",
       "      <th>1</th>\n",
       "      <td>16</td>\n",
       "      <td>0.16</td>\n",
       "      <td>47.686343</td>\n",
       "      <td>17.679912</td>\n",
       "      <td>113.113219</td>\n",
       "      <td>-1.000000</td>\n",
       "      <td>-1.000000</td>\n",
       "      <td>65.000000</td>\n",
       "      <td>65.000000</td>\n",
       "      <td>2</td>\n",
       "      <td>-0.002516</td>\n",
       "      <td>0.002074</td>\n",
       "      <td>0.000089</td>\n",
       "      <td>1</td>\n",
       "      <td>-0.012304</td>\n",
       "      <td>0.044320</td>\n",
       "      <td>-0.076306</td>\n",
       "      <td>-0.150044</td>\n",
       "      <td>-0.063339</td>\n",
       "      <td>5.254127</td>\n",
       "    </tr>\n",
       "    <tr>\n",
       "      <th>2</th>\n",
       "      <td>17</td>\n",
       "      <td>0.17</td>\n",
       "      <td>47.686343</td>\n",
       "      <td>17.679912</td>\n",
       "      <td>113.113219</td>\n",
       "      <td>-1.000000</td>\n",
       "      <td>-1.000000</td>\n",
       "      <td>65.000000</td>\n",
       "      <td>65.000000</td>\n",
       "      <td>2</td>\n",
       "      <td>-0.001361</td>\n",
       "      <td>0.004807</td>\n",
       "      <td>0.000367</td>\n",
       "      <td>2</td>\n",
       "      <td>0.217978</td>\n",
       "      <td>-0.017727</td>\n",
       "      <td>-0.051084</td>\n",
       "      <td>0.125886</td>\n",
       "      <td>-0.039097</td>\n",
       "      <td>2.941766</td>\n",
       "    </tr>\n",
       "    <tr>\n",
       "      <th>3</th>\n",
       "      <td>18</td>\n",
       "      <td>0.18</td>\n",
       "      <td>47.686343</td>\n",
       "      <td>17.679912</td>\n",
       "      <td>113.113219</td>\n",
       "      <td>-1.000000</td>\n",
       "      <td>-1.000000</td>\n",
       "      <td>65.000000</td>\n",
       "      <td>65.000000</td>\n",
       "      <td>2</td>\n",
       "      <td>-0.001860</td>\n",
       "      <td>0.002107</td>\n",
       "      <td>0.000095</td>\n",
       "      <td>3</td>\n",
       "      <td>0.044372</td>\n",
       "      <td>-0.040788</td>\n",
       "      <td>0.003532</td>\n",
       "      <td>0.147784</td>\n",
       "      <td>-0.064750</td>\n",
       "      <td>1.208950</td>\n",
       "    </tr>\n",
       "    <tr>\n",
       "      <th>4</th>\n",
       "      <td>19</td>\n",
       "      <td>0.19</td>\n",
       "      <td>47.686343</td>\n",
       "      <td>17.679912</td>\n",
       "      <td>113.113219</td>\n",
       "      <td>-1.000000</td>\n",
       "      <td>-1.000000</td>\n",
       "      <td>65.000000</td>\n",
       "      <td>65.000000</td>\n",
       "      <td>2</td>\n",
       "      <td>-0.000987</td>\n",
       "      <td>-0.002325</td>\n",
       "      <td>-0.000523</td>\n",
       "      <td>4</td>\n",
       "      <td>-0.152205</td>\n",
       "      <td>0.017539</td>\n",
       "      <td>0.025334</td>\n",
       "      <td>-0.111785</td>\n",
       "      <td>-0.005717</td>\n",
       "      <td>-0.061156</td>\n",
       "    </tr>\n",
       "    <tr>\n",
       "      <th>...</th>\n",
       "      <td>...</td>\n",
       "      <td>...</td>\n",
       "      <td>...</td>\n",
       "      <td>...</td>\n",
       "      <td>...</td>\n",
       "      <td>...</td>\n",
       "      <td>...</td>\n",
       "      <td>...</td>\n",
       "      <td>...</td>\n",
       "      <td>...</td>\n",
       "      <td>...</td>\n",
       "      <td>...</td>\n",
       "      <td>...</td>\n",
       "      <td>...</td>\n",
       "      <td>...</td>\n",
       "      <td>...</td>\n",
       "      <td>...</td>\n",
       "      <td>...</td>\n",
       "      <td>...</td>\n",
       "      <td>...</td>\n",
       "    </tr>\n",
       "    <tr>\n",
       "      <th>12860</th>\n",
       "      <td>12875</td>\n",
       "      <td>128.75</td>\n",
       "      <td>47.694844</td>\n",
       "      <td>17.675054</td>\n",
       "      <td>117.642292</td>\n",
       "      <td>11.712904</td>\n",
       "      <td>85.817919</td>\n",
       "      <td>6.000906</td>\n",
       "      <td>6.000906</td>\n",
       "      <td>129</td>\n",
       "      <td>0.027666</td>\n",
       "      <td>-0.029211</td>\n",
       "      <td>-0.012400</td>\n",
       "      <td>12860</td>\n",
       "      <td>-0.004389</td>\n",
       "      <td>0.001195</td>\n",
       "      <td>-0.021298</td>\n",
       "      <td>0.016121</td>\n",
       "      <td>0.020779</td>\n",
       "      <td>-0.031281</td>\n",
       "    </tr>\n",
       "    <tr>\n",
       "      <th>12861</th>\n",
       "      <td>12876</td>\n",
       "      <td>128.76</td>\n",
       "      <td>47.694844</td>\n",
       "      <td>17.675054</td>\n",
       "      <td>117.642292</td>\n",
       "      <td>11.712904</td>\n",
       "      <td>85.817919</td>\n",
       "      <td>6.000906</td>\n",
       "      <td>6.000906</td>\n",
       "      <td>129</td>\n",
       "      <td>0.035673</td>\n",
       "      <td>-0.008810</td>\n",
       "      <td>-0.015961</td>\n",
       "      <td>12861</td>\n",
       "      <td>-0.119446</td>\n",
       "      <td>0.182275</td>\n",
       "      <td>-0.065013</td>\n",
       "      <td>-0.127598</td>\n",
       "      <td>0.103127</td>\n",
       "      <td>-0.002817</td>\n",
       "    </tr>\n",
       "    <tr>\n",
       "      <th>12862</th>\n",
       "      <td>12877</td>\n",
       "      <td>128.77</td>\n",
       "      <td>47.694844</td>\n",
       "      <td>17.675054</td>\n",
       "      <td>117.642292</td>\n",
       "      <td>11.712904</td>\n",
       "      <td>85.817919</td>\n",
       "      <td>6.000906</td>\n",
       "      <td>6.000906</td>\n",
       "      <td>129</td>\n",
       "      <td>0.041637</td>\n",
       "      <td>0.014038</td>\n",
       "      <td>-0.008203</td>\n",
       "      <td>12862</td>\n",
       "      <td>0.139896</td>\n",
       "      <td>0.206572</td>\n",
       "      <td>-0.535646</td>\n",
       "      <td>0.032854</td>\n",
       "      <td>0.242796</td>\n",
       "      <td>-0.356745</td>\n",
       "    </tr>\n",
       "    <tr>\n",
       "      <th>12863</th>\n",
       "      <td>12878</td>\n",
       "      <td>128.78</td>\n",
       "      <td>47.694844</td>\n",
       "      <td>17.675054</td>\n",
       "      <td>117.642292</td>\n",
       "      <td>11.712904</td>\n",
       "      <td>85.817919</td>\n",
       "      <td>6.000906</td>\n",
       "      <td>6.000906</td>\n",
       "      <td>129</td>\n",
       "      <td>0.061041</td>\n",
       "      <td>0.035687</td>\n",
       "      <td>0.000275</td>\n",
       "      <td>12863</td>\n",
       "      <td>0.425744</td>\n",
       "      <td>0.121085</td>\n",
       "      <td>-0.630134</td>\n",
       "      <td>0.306075</td>\n",
       "      <td>0.179230</td>\n",
       "      <td>-0.602915</td>\n",
       "    </tr>\n",
       "    <tr>\n",
       "      <th>12864</th>\n",
       "      <td>12879</td>\n",
       "      <td>128.79</td>\n",
       "      <td>47.694844</td>\n",
       "      <td>17.675054</td>\n",
       "      <td>117.642292</td>\n",
       "      <td>11.712904</td>\n",
       "      <td>85.817919</td>\n",
       "      <td>6.000906</td>\n",
       "      <td>6.000906</td>\n",
       "      <td>129</td>\n",
       "      <td>0.054401</td>\n",
       "      <td>0.006462</td>\n",
       "      <td>-0.008958</td>\n",
       "      <td>12864</td>\n",
       "      <td>0.221865</td>\n",
       "      <td>-0.285210</td>\n",
       "      <td>-0.085408</td>\n",
       "      <td>0.458916</td>\n",
       "      <td>-0.158585</td>\n",
       "      <td>-0.460052</td>\n",
       "    </tr>\n",
       "  </tbody>\n",
       "</table>\n",
       "<p>12865 rows × 20 columns</p>\n",
       "</div>"
      ],
      "text/plain": [
       "       index    time        lat        lon      height   velocity  direction  \\\n",
       "0         15    0.15  47.686343  17.679912  113.113219  -1.000000  -1.000000   \n",
       "1         16    0.16  47.686343  17.679912  113.113219  -1.000000  -1.000000   \n",
       "2         17    0.17  47.686343  17.679912  113.113219  -1.000000  -1.000000   \n",
       "3         18    0.18  47.686343  17.679912  113.113219  -1.000000  -1.000000   \n",
       "4         19    0.19  47.686343  17.679912  113.113219  -1.000000  -1.000000   \n",
       "...      ...     ...        ...        ...         ...        ...        ...   \n",
       "12860  12875  128.75  47.694844  17.675054  117.642292  11.712904  85.817919   \n",
       "12861  12876  128.76  47.694844  17.675054  117.642292  11.712904  85.817919   \n",
       "12862  12877  128.77  47.694844  17.675054  117.642292  11.712904  85.817919   \n",
       "12863  12878  128.78  47.694844  17.675054  117.642292  11.712904  85.817919   \n",
       "12864  12879  128.79  47.694844  17.675054  117.642292  11.712904  85.817919   \n",
       "\n",
       "       h_accuracy  v_accuracy  id_gps    x_gyro    y_gyro    z_gyro  index  \\\n",
       "0       65.000000   65.000000       2 -0.001077  0.001447 -0.000870      0   \n",
       "1       65.000000   65.000000       2 -0.002516  0.002074  0.000089      1   \n",
       "2       65.000000   65.000000       2 -0.001361  0.004807  0.000367      2   \n",
       "3       65.000000   65.000000       2 -0.001860  0.002107  0.000095      3   \n",
       "4       65.000000   65.000000       2 -0.000987 -0.002325 -0.000523      4   \n",
       "...           ...         ...     ...       ...       ...       ...    ...   \n",
       "12860    6.000906    6.000906     129  0.027666 -0.029211 -0.012400  12860   \n",
       "12861    6.000906    6.000906     129  0.035673 -0.008810 -0.015961  12861   \n",
       "12862    6.000906    6.000906     129  0.041637  0.014038 -0.008203  12862   \n",
       "12863    6.000906    6.000906     129  0.061041  0.035687  0.000275  12863   \n",
       "12864    6.000906    6.000906     129  0.054401  0.006462 -0.008958  12864   \n",
       "\n",
       "       x_lin_acc  y_lin_acc  z_lin_acc     x_acc     y_acc     z_acc  \n",
       "0      -0.138141  -0.007515  -0.062320 -0.140590 -0.188205  8.147690  \n",
       "1      -0.012304   0.044320  -0.076306 -0.150044 -0.063339  5.254127  \n",
       "2       0.217978  -0.017727  -0.051084  0.125886 -0.039097  2.941766  \n",
       "3       0.044372  -0.040788   0.003532  0.147784 -0.064750  1.208950  \n",
       "4      -0.152205   0.017539   0.025334 -0.111785 -0.005717 -0.061156  \n",
       "...          ...        ...        ...       ...       ...       ...  \n",
       "12860  -0.004389   0.001195  -0.021298  0.016121  0.020779 -0.031281  \n",
       "12861  -0.119446   0.182275  -0.065013 -0.127598  0.103127 -0.002817  \n",
       "12862   0.139896   0.206572  -0.535646  0.032854  0.242796 -0.356745  \n",
       "12863   0.425744   0.121085  -0.630134  0.306075  0.179230 -0.602915  \n",
       "12864   0.221865  -0.285210  -0.085408  0.458916 -0.158585 -0.460052  \n",
       "\n",
       "[12865 rows x 20 columns]"
      ]
     },
     "execution_count": 343,
     "metadata": {},
     "output_type": "execute_result"
    }
   ],
   "source": [
    "df"
   ]
  },
  {
   "cell_type": "code",
   "execution_count": 344,
   "metadata": {
    "ExecuteTime": {
     "end_time": "2020-08-21T20:02:45.256005Z",
     "start_time": "2020-08-21T20:02:45.224025Z"
    }
   },
   "outputs": [],
   "source": [
    "final_result = df.merge(result, on=\"id_gps\", how = \"outer\")"
   ]
  },
  {
   "cell_type": "markdown",
   "metadata": {},
   "source": [
    "###  Testing the merge\n",
    "\n",
    "If the groupped result dataframe id_gps is the same as the result then the merge is correct."
   ]
  },
  {
   "cell_type": "code",
   "execution_count": 345,
   "metadata": {
    "ExecuteTime": {
     "end_time": "2020-08-21T20:02:45.332961Z",
     "start_time": "2020-08-21T20:02:45.262001Z"
    }
   },
   "outputs": [
    {
     "data": {
      "text/html": [
       "<div>\n",
       "<style scoped>\n",
       "    .dataframe tbody tr th:only-of-type {\n",
       "        vertical-align: middle;\n",
       "    }\n",
       "\n",
       "    .dataframe tbody tr th {\n",
       "        vertical-align: top;\n",
       "    }\n",
       "\n",
       "    .dataframe thead th {\n",
       "        text-align: right;\n",
       "    }\n",
       "</style>\n",
       "<table border=\"1\" class=\"dataframe\">\n",
       "  <thead>\n",
       "    <tr style=\"text-align: right;\">\n",
       "      <th></th>\n",
       "      <th>index</th>\n",
       "      <th>time</th>\n",
       "      <th>lat</th>\n",
       "      <th>lon</th>\n",
       "      <th>height</th>\n",
       "      <th>velocity</th>\n",
       "      <th>direction</th>\n",
       "      <th>h_accuracy</th>\n",
       "      <th>v_accuracy</th>\n",
       "      <th>x_gyro</th>\n",
       "      <th>y_gyro</th>\n",
       "      <th>z_gyro</th>\n",
       "      <th>index</th>\n",
       "      <th>x_lin_acc</th>\n",
       "      <th>y_lin_acc</th>\n",
       "      <th>z_lin_acc</th>\n",
       "      <th>x_acc</th>\n",
       "      <th>y_acc</th>\n",
       "      <th>z_acc</th>\n",
       "      <th>label</th>\n",
       "    </tr>\n",
       "    <tr>\n",
       "      <th>id_gps</th>\n",
       "      <th></th>\n",
       "      <th></th>\n",
       "      <th></th>\n",
       "      <th></th>\n",
       "      <th></th>\n",
       "      <th></th>\n",
       "      <th></th>\n",
       "      <th></th>\n",
       "      <th></th>\n",
       "      <th></th>\n",
       "      <th></th>\n",
       "      <th></th>\n",
       "      <th></th>\n",
       "      <th></th>\n",
       "      <th></th>\n",
       "      <th></th>\n",
       "      <th></th>\n",
       "      <th></th>\n",
       "      <th></th>\n",
       "      <th></th>\n",
       "    </tr>\n",
       "  </thead>\n",
       "  <tbody>\n",
       "    <tr>\n",
       "      <th>2</th>\n",
       "      <td>25</td>\n",
       "      <td>25</td>\n",
       "      <td>25</td>\n",
       "      <td>25</td>\n",
       "      <td>25</td>\n",
       "      <td>25</td>\n",
       "      <td>25</td>\n",
       "      <td>25</td>\n",
       "      <td>25</td>\n",
       "      <td>25</td>\n",
       "      <td>25</td>\n",
       "      <td>25</td>\n",
       "      <td>25</td>\n",
       "      <td>25</td>\n",
       "      <td>25</td>\n",
       "      <td>25</td>\n",
       "      <td>25</td>\n",
       "      <td>25</td>\n",
       "      <td>25</td>\n",
       "      <td>25</td>\n",
       "    </tr>\n",
       "    <tr>\n",
       "      <th>3</th>\n",
       "      <td>160</td>\n",
       "      <td>160</td>\n",
       "      <td>160</td>\n",
       "      <td>160</td>\n",
       "      <td>160</td>\n",
       "      <td>160</td>\n",
       "      <td>160</td>\n",
       "      <td>160</td>\n",
       "      <td>160</td>\n",
       "      <td>160</td>\n",
       "      <td>160</td>\n",
       "      <td>160</td>\n",
       "      <td>160</td>\n",
       "      <td>160</td>\n",
       "      <td>160</td>\n",
       "      <td>160</td>\n",
       "      <td>160</td>\n",
       "      <td>160</td>\n",
       "      <td>160</td>\n",
       "      <td>160</td>\n",
       "    </tr>\n",
       "    <tr>\n",
       "      <th>4</th>\n",
       "      <td>151</td>\n",
       "      <td>151</td>\n",
       "      <td>151</td>\n",
       "      <td>151</td>\n",
       "      <td>151</td>\n",
       "      <td>151</td>\n",
       "      <td>151</td>\n",
       "      <td>151</td>\n",
       "      <td>151</td>\n",
       "      <td>151</td>\n",
       "      <td>151</td>\n",
       "      <td>151</td>\n",
       "      <td>151</td>\n",
       "      <td>151</td>\n",
       "      <td>151</td>\n",
       "      <td>151</td>\n",
       "      <td>151</td>\n",
       "      <td>151</td>\n",
       "      <td>151</td>\n",
       "      <td>151</td>\n",
       "    </tr>\n",
       "    <tr>\n",
       "      <th>5</th>\n",
       "      <td>100</td>\n",
       "      <td>100</td>\n",
       "      <td>100</td>\n",
       "      <td>100</td>\n",
       "      <td>100</td>\n",
       "      <td>100</td>\n",
       "      <td>100</td>\n",
       "      <td>100</td>\n",
       "      <td>100</td>\n",
       "      <td>100</td>\n",
       "      <td>100</td>\n",
       "      <td>100</td>\n",
       "      <td>100</td>\n",
       "      <td>100</td>\n",
       "      <td>100</td>\n",
       "      <td>100</td>\n",
       "      <td>100</td>\n",
       "      <td>100</td>\n",
       "      <td>100</td>\n",
       "      <td>100</td>\n",
       "    </tr>\n",
       "    <tr>\n",
       "      <th>6</th>\n",
       "      <td>100</td>\n",
       "      <td>100</td>\n",
       "      <td>100</td>\n",
       "      <td>100</td>\n",
       "      <td>100</td>\n",
       "      <td>100</td>\n",
       "      <td>100</td>\n",
       "      <td>100</td>\n",
       "      <td>100</td>\n",
       "      <td>100</td>\n",
       "      <td>100</td>\n",
       "      <td>100</td>\n",
       "      <td>100</td>\n",
       "      <td>100</td>\n",
       "      <td>100</td>\n",
       "      <td>100</td>\n",
       "      <td>100</td>\n",
       "      <td>100</td>\n",
       "      <td>100</td>\n",
       "      <td>100</td>\n",
       "    </tr>\n",
       "    <tr>\n",
       "      <th>...</th>\n",
       "      <td>...</td>\n",
       "      <td>...</td>\n",
       "      <td>...</td>\n",
       "      <td>...</td>\n",
       "      <td>...</td>\n",
       "      <td>...</td>\n",
       "      <td>...</td>\n",
       "      <td>...</td>\n",
       "      <td>...</td>\n",
       "      <td>...</td>\n",
       "      <td>...</td>\n",
       "      <td>...</td>\n",
       "      <td>...</td>\n",
       "      <td>...</td>\n",
       "      <td>...</td>\n",
       "      <td>...</td>\n",
       "      <td>...</td>\n",
       "      <td>...</td>\n",
       "      <td>...</td>\n",
       "      <td>...</td>\n",
       "    </tr>\n",
       "    <tr>\n",
       "      <th>125</th>\n",
       "      <td>100</td>\n",
       "      <td>100</td>\n",
       "      <td>100</td>\n",
       "      <td>100</td>\n",
       "      <td>100</td>\n",
       "      <td>100</td>\n",
       "      <td>100</td>\n",
       "      <td>100</td>\n",
       "      <td>100</td>\n",
       "      <td>100</td>\n",
       "      <td>100</td>\n",
       "      <td>100</td>\n",
       "      <td>100</td>\n",
       "      <td>100</td>\n",
       "      <td>100</td>\n",
       "      <td>100</td>\n",
       "      <td>100</td>\n",
       "      <td>100</td>\n",
       "      <td>100</td>\n",
       "      <td>100</td>\n",
       "    </tr>\n",
       "    <tr>\n",
       "      <th>126</th>\n",
       "      <td>100</td>\n",
       "      <td>100</td>\n",
       "      <td>100</td>\n",
       "      <td>100</td>\n",
       "      <td>100</td>\n",
       "      <td>100</td>\n",
       "      <td>100</td>\n",
       "      <td>100</td>\n",
       "      <td>100</td>\n",
       "      <td>100</td>\n",
       "      <td>100</td>\n",
       "      <td>100</td>\n",
       "      <td>100</td>\n",
       "      <td>100</td>\n",
       "      <td>100</td>\n",
       "      <td>100</td>\n",
       "      <td>100</td>\n",
       "      <td>100</td>\n",
       "      <td>100</td>\n",
       "      <td>100</td>\n",
       "    </tr>\n",
       "    <tr>\n",
       "      <th>127</th>\n",
       "      <td>100</td>\n",
       "      <td>100</td>\n",
       "      <td>100</td>\n",
       "      <td>100</td>\n",
       "      <td>100</td>\n",
       "      <td>100</td>\n",
       "      <td>100</td>\n",
       "      <td>100</td>\n",
       "      <td>100</td>\n",
       "      <td>100</td>\n",
       "      <td>100</td>\n",
       "      <td>100</td>\n",
       "      <td>100</td>\n",
       "      <td>100</td>\n",
       "      <td>100</td>\n",
       "      <td>100</td>\n",
       "      <td>100</td>\n",
       "      <td>100</td>\n",
       "      <td>100</td>\n",
       "      <td>100</td>\n",
       "    </tr>\n",
       "    <tr>\n",
       "      <th>128</th>\n",
       "      <td>100</td>\n",
       "      <td>100</td>\n",
       "      <td>100</td>\n",
       "      <td>100</td>\n",
       "      <td>100</td>\n",
       "      <td>100</td>\n",
       "      <td>100</td>\n",
       "      <td>100</td>\n",
       "      <td>100</td>\n",
       "      <td>100</td>\n",
       "      <td>100</td>\n",
       "      <td>100</td>\n",
       "      <td>100</td>\n",
       "      <td>100</td>\n",
       "      <td>100</td>\n",
       "      <td>100</td>\n",
       "      <td>100</td>\n",
       "      <td>100</td>\n",
       "      <td>100</td>\n",
       "      <td>100</td>\n",
       "    </tr>\n",
       "    <tr>\n",
       "      <th>129</th>\n",
       "      <td>98</td>\n",
       "      <td>98</td>\n",
       "      <td>98</td>\n",
       "      <td>98</td>\n",
       "      <td>98</td>\n",
       "      <td>98</td>\n",
       "      <td>98</td>\n",
       "      <td>98</td>\n",
       "      <td>98</td>\n",
       "      <td>98</td>\n",
       "      <td>98</td>\n",
       "      <td>98</td>\n",
       "      <td>98</td>\n",
       "      <td>98</td>\n",
       "      <td>98</td>\n",
       "      <td>98</td>\n",
       "      <td>98</td>\n",
       "      <td>98</td>\n",
       "      <td>98</td>\n",
       "      <td>98</td>\n",
       "    </tr>\n",
       "  </tbody>\n",
       "</table>\n",
       "<p>128 rows × 20 columns</p>\n",
       "</div>"
      ],
      "text/plain": [
       "        index  time  lat  lon  height  velocity  direction  h_accuracy  \\\n",
       "id_gps                                                                   \n",
       "2          25    25   25   25      25        25         25          25   \n",
       "3         160   160  160  160     160       160        160         160   \n",
       "4         151   151  151  151     151       151        151         151   \n",
       "5         100   100  100  100     100       100        100         100   \n",
       "6         100   100  100  100     100       100        100         100   \n",
       "...       ...   ...  ...  ...     ...       ...        ...         ...   \n",
       "125       100   100  100  100     100       100        100         100   \n",
       "126       100   100  100  100     100       100        100         100   \n",
       "127       100   100  100  100     100       100        100         100   \n",
       "128       100   100  100  100     100       100        100         100   \n",
       "129        98    98   98   98      98        98         98          98   \n",
       "\n",
       "        v_accuracy  x_gyro  y_gyro  z_gyro  index  x_lin_acc  y_lin_acc  \\\n",
       "id_gps                                                                    \n",
       "2               25      25      25      25     25         25         25   \n",
       "3              160     160     160     160    160        160        160   \n",
       "4              151     151     151     151    151        151        151   \n",
       "5              100     100     100     100    100        100        100   \n",
       "6              100     100     100     100    100        100        100   \n",
       "...            ...     ...     ...     ...    ...        ...        ...   \n",
       "125            100     100     100     100    100        100        100   \n",
       "126            100     100     100     100    100        100        100   \n",
       "127            100     100     100     100    100        100        100   \n",
       "128            100     100     100     100    100        100        100   \n",
       "129             98      98      98      98     98         98         98   \n",
       "\n",
       "        z_lin_acc  x_acc  y_acc  z_acc  label  \n",
       "id_gps                                         \n",
       "2              25     25     25     25     25  \n",
       "3             160    160    160    160    160  \n",
       "4             151    151    151    151    151  \n",
       "5             100    100    100    100    100  \n",
       "6             100    100    100    100    100  \n",
       "...           ...    ...    ...    ...    ...  \n",
       "125           100    100    100    100    100  \n",
       "126           100    100    100    100    100  \n",
       "127           100    100    100    100    100  \n",
       "128           100    100    100    100    100  \n",
       "129            98     98     98     98     98  \n",
       "\n",
       "[128 rows x 20 columns]"
      ]
     },
     "execution_count": 345,
     "metadata": {},
     "output_type": "execute_result"
    }
   ],
   "source": [
    "final_result.groupby(\"id_gps\").count()"
   ]
  },
  {
   "cell_type": "code",
   "execution_count": 346,
   "metadata": {
    "ExecuteTime": {
     "end_time": "2020-08-21T20:02:46.466311Z",
     "start_time": "2020-08-21T20:02:46.446323Z"
    }
   },
   "outputs": [
    {
     "data": {
      "text/plain": [
       "128"
      ]
     },
     "execution_count": 346,
     "metadata": {},
     "output_type": "execute_result"
    }
   ],
   "source": [
    "(result[\"id_gps\"] == final_result.groupby(\"id_gps\").count().index).sum()"
   ]
  },
  {
   "cell_type": "code",
   "execution_count": 347,
   "metadata": {
    "ExecuteTime": {
     "end_time": "2020-08-21T20:02:53.097502Z",
     "start_time": "2020-08-21T20:02:53.074515Z"
    }
   },
   "outputs": [],
   "source": [
    "final_result  = final_result.groupby(\"id_gps\").mean()"
   ]
  },
  {
   "cell_type": "code",
   "execution_count": 348,
   "metadata": {
    "ExecuteTime": {
     "end_time": "2020-08-21T20:02:54.048959Z",
     "start_time": "2020-08-21T20:02:53.878059Z"
    }
   },
   "outputs": [
    {
     "data": {
      "application/vnd.plotly.v1+json": {
       "config": {
        "plotlyServerURL": "https://plot.ly"
       },
       "data": [
        {
         "hovertemplate": "lat=%{lat}<br>lon=%{lon}<br>label=%{marker.color}<extra></extra>",
         "lat": [
          47.686342985,
          47.68633919999981,
          47.68634038999991,
          47.68665392999995,
          47.68669248999997,
          47.68674786000003,
          47.68684174000006,
          47.68691975999994,
          47.68699871999989,
          47.68707415999999,
          47.687148689999965,
          47.68724895000007,
          47.687326109999965,
          47.687434389999936,
          47.687506740000025,
          47.68760297999998,
          47.68768084000011,
          47.687757900000086,
          47.68783666999996,
          47.687918470000085,
          47.68799741000011,
          47.68807551999999,
          47.68815171999996,
          47.688223629999904,
          47.688288079999985,
          47.68834752000011,
          47.688423369999946,
          47.6884632299999,
          47.68851112999992,
          47.688543939999974,
          47.688589039999925,
          47.68861062999993,
          47.68861784999993,
          47.68862093000005,
          47.68861677999999,
          47.68861258000007,
          47.68860727999991,
          47.68860170000002,
          47.68859625000004,
          47.68859066000004,
          47.68858908999998,
          47.68866708000003,
          47.68866072000001,
          47.68865367999995,
          47.68864154000002,
          47.68863254999997,
          47.68862226000001,
          47.68861438000012,
          47.68860995999999,
          47.68856145000002,
          47.688572000000015,
          47.68859362999994,
          47.68865709999994,
          47.688656029999954,
          47.68875326999994,
          47.68881676,
          47.688855749999995,
          47.688918329999986,
          47.68896764000001,
          47.6890189300001,
          47.68907273999996,
          47.68913312999999,
          47.689191179999995,
          47.6892523,
          47.689305879999985,
          47.68935982999999,
          47.68941490999994,
          47.68946652000006,
          47.68951836999993,
          47.68957213000005,
          47.68964105,
          47.68971332999993,
          47.689806230000016,
          47.68988988999993,
          47.689981869999976,
          47.690085100000026,
          47.690193530000116,
          47.690309290000094,
          47.69042277000001,
          47.690544210000006,
          47.69065756,
          47.690774430000005,
          47.6908879900001,
          47.691001309999976,
          47.69112168999991,
          47.69123318999998,
          47.69134573000004,
          47.69146372999999,
          47.691581810000024,
          47.69169641000005,
          47.69181123999995,
          47.691926099999975,
          47.692045299999954,
          47.69216042000002,
          47.69228082000002,
          47.69239170999997,
          47.69251145999995,
          47.69263214999994,
          47.69274545000005,
          47.6928568100001,
          47.69297055999998,
          47.693072250000085,
          47.69318742999994,
          47.69329509,
          47.69341324000007,
          47.69352317999992,
          47.69363453000005,
          47.69374507000004,
          47.69385877999996,
          47.69397297999999,
          47.694084119999985,
          47.69419405999998,
          47.69429419999999,
          47.69437233000005,
          47.69444128,
          47.69451424999991,
          47.69458433,
          47.69464522999995,
          47.694679090000065,
          47.694676869999974,
          47.69482791000003,
          47.69482762000005,
          47.69482911999999,
          47.69483088000007,
          47.694832670000004,
          47.694834410000084,
          47.69483512999987,
          47.69484356000005
         ],
         "legendgroup": "",
         "lon": [
          17.679911684999993,
          17.679908940000008,
          17.67990862000001,
          17.680042319999988,
          17.68008043000003,
          17.68008970999996,
          17.680126960000038,
          17.68016102999997,
          17.680172569999982,
          17.680165420000034,
          17.68017095999999,
          17.68019619000001,
          17.680171299999987,
          17.680094490000037,
          17.680098770000026,
          17.680104199999974,
          17.680108230000027,
          17.68011221999997,
          17.680116300000005,
          17.680120539999976,
          17.68012462999997,
          17.68012866999998,
          17.68013262,
          17.680136350000048,
          17.68013853000002,
          17.68014048999999,
          17.680140239999965,
          17.68013169000004,
          17.68009819999998,
          17.680057770000023,
          17.679970129999965,
          17.679884229999974,
          17.67982357999996,
          17.67973916000004,
          17.67960633000002,
          17.679510899999983,
          17.679390380000026,
          17.679263499999983,
          17.679139339999956,
          17.679012280000038,
          17.678976590000033,
          17.67873740999999,
          17.6785969,
          17.678454180000013,
          17.678310600000017,
          17.678166879999985,
          17.67802587000004,
          17.67789070000002,
          17.677760810000045,
          17.677636500000013,
          17.677497229999975,
          17.67743593999996,
          17.677293279999972,
          17.677295510000018,
          17.677106350000017,
          17.67703467000001,
          17.676991009999988,
          17.676875269999986,
          17.676768119999966,
          17.67665547999997,
          17.676523999999976,
          17.67638422999999,
          17.676249890000005,
          17.676108440000004,
          17.675984440000033,
          17.67585959999998,
          17.675729490000034,
          17.675607140000007,
          17.675484200000025,
          17.67535881999998,
          17.67524554000004,
          17.67514056000003,
          17.675051279999984,
          17.67498333999998,
          17.674913880000023,
          17.674849510000044,
          17.674793540000046,
          17.67474689999996,
          17.674722279999983,
          17.674700999999974,
          17.674683480000045,
          17.67466844,
          17.674653810000045,
          17.674639229999972,
          17.674623729999958,
          17.674609370000034,
          17.674594880000026,
          17.674579689999977,
          17.674564480000022,
          17.674549730000027,
          17.674534949999966,
          17.67452015999998,
          17.67450480999997,
          17.674489989999987,
          17.67447448999998,
          17.674460210000003,
          17.674444790000038,
          17.67442925,
          17.67441467000002,
          17.674400330000022,
          17.674385679999954,
          17.674372630000043,
          17.674358949999956,
          17.67434617000002,
          17.674332139999983,
          17.674319080000018,
          17.67430510000003,
          17.674290930000037,
          17.674276349999964,
          17.67426393999996,
          17.67425361999996,
          17.674240790000045,
          17.674224679999966,
          17.67418851000002,
          17.674150869999963,
          17.674110400000014,
          17.674070499999974,
          17.67403480999998,
          17.674014969999977,
          17.674019659999953,
          17.674137909999963,
          17.674218419999992,
          17.674328320000026,
          17.674457320000037,
          17.67458895000003,
          17.67471615,
          17.674898210000023,
          17.67505350000004
         ],
         "marker": {
          "color": [
           1,
           1,
           0,
           2,
           2,
           2,
           1,
           1,
           1,
           2,
           1,
           1,
           2,
           2,
           2,
           2,
           1,
           2,
           1,
           1,
           1,
           2,
           2,
           2,
           2,
           2,
           2,
           1,
           2,
           2,
           1,
           2,
           2,
           1,
           1,
           2,
           2,
           1,
           1,
           2,
           2,
           2,
           2,
           2,
           2,
           1,
           1,
           2,
           2,
           2,
           2,
           2,
           2,
           2,
           2,
           2,
           2,
           2,
           2,
           2,
           2,
           2,
           2,
           2,
           2,
           1,
           2,
           0,
           0,
           2,
           2,
           1,
           2,
           1,
           1,
           1,
           2,
           2,
           2,
           2,
           2,
           2,
           1,
           1,
           1,
           0,
           0,
           2,
           2,
           1,
           2,
           2,
           2,
           2,
           2,
           2,
           1,
           0,
           2,
           2,
           2,
           2,
           2,
           1,
           1,
           2,
           1,
           1,
           1,
           0,
           0,
           0,
           2,
           2,
           1,
           1,
           2,
           0,
           0,
           0,
           2,
           0,
           1,
           0,
           1,
           1,
           0,
           1
          ],
          "coloraxis": "coloraxis"
         },
         "mode": "markers",
         "name": "",
         "showlegend": false,
         "subplot": "mapbox",
         "type": "scattermapbox"
        }
       ],
       "layout": {
        "coloraxis": {
         "colorbar": {
          "title": {
           "text": "label"
          }
         },
         "colorscale": [
          [
           0,
           "green"
          ],
          [
           0.5,
           "blue"
          ],
          [
           1,
           "red"
          ]
         ],
         "showscale": false
        },
        "height": 500,
        "legend": {
         "tracegroupgap": 0
        },
        "mapbox": {
         "center": {
          "lat": 47.69025300089844,
          "lon": 17.67681387761719
         },
         "domain": {
          "x": [
           0,
           1
          ],
          "y": [
           0,
           1
          ]
         },
         "style": "carto-positron",
         "zoom": 12
        },
        "margin": {
         "b": 0,
         "l": 0,
         "r": 0,
         "t": 0
        },
        "template": {
         "data": {
          "bar": [
           {
            "error_x": {
             "color": "#2a3f5f"
            },
            "error_y": {
             "color": "#2a3f5f"
            },
            "marker": {
             "line": {
              "color": "#E5ECF6",
              "width": 0.5
             }
            },
            "type": "bar"
           }
          ],
          "barpolar": [
           {
            "marker": {
             "line": {
              "color": "#E5ECF6",
              "width": 0.5
             }
            },
            "type": "barpolar"
           }
          ],
          "carpet": [
           {
            "aaxis": {
             "endlinecolor": "#2a3f5f",
             "gridcolor": "white",
             "linecolor": "white",
             "minorgridcolor": "white",
             "startlinecolor": "#2a3f5f"
            },
            "baxis": {
             "endlinecolor": "#2a3f5f",
             "gridcolor": "white",
             "linecolor": "white",
             "minorgridcolor": "white",
             "startlinecolor": "#2a3f5f"
            },
            "type": "carpet"
           }
          ],
          "choropleth": [
           {
            "colorbar": {
             "outlinewidth": 0,
             "ticks": ""
            },
            "type": "choropleth"
           }
          ],
          "contour": [
           {
            "colorbar": {
             "outlinewidth": 0,
             "ticks": ""
            },
            "colorscale": [
             [
              0,
              "#0d0887"
             ],
             [
              0.1111111111111111,
              "#46039f"
             ],
             [
              0.2222222222222222,
              "#7201a8"
             ],
             [
              0.3333333333333333,
              "#9c179e"
             ],
             [
              0.4444444444444444,
              "#bd3786"
             ],
             [
              0.5555555555555556,
              "#d8576b"
             ],
             [
              0.6666666666666666,
              "#ed7953"
             ],
             [
              0.7777777777777778,
              "#fb9f3a"
             ],
             [
              0.8888888888888888,
              "#fdca26"
             ],
             [
              1,
              "#f0f921"
             ]
            ],
            "type": "contour"
           }
          ],
          "contourcarpet": [
           {
            "colorbar": {
             "outlinewidth": 0,
             "ticks": ""
            },
            "type": "contourcarpet"
           }
          ],
          "heatmap": [
           {
            "colorbar": {
             "outlinewidth": 0,
             "ticks": ""
            },
            "colorscale": [
             [
              0,
              "#0d0887"
             ],
             [
              0.1111111111111111,
              "#46039f"
             ],
             [
              0.2222222222222222,
              "#7201a8"
             ],
             [
              0.3333333333333333,
              "#9c179e"
             ],
             [
              0.4444444444444444,
              "#bd3786"
             ],
             [
              0.5555555555555556,
              "#d8576b"
             ],
             [
              0.6666666666666666,
              "#ed7953"
             ],
             [
              0.7777777777777778,
              "#fb9f3a"
             ],
             [
              0.8888888888888888,
              "#fdca26"
             ],
             [
              1,
              "#f0f921"
             ]
            ],
            "type": "heatmap"
           }
          ],
          "heatmapgl": [
           {
            "colorbar": {
             "outlinewidth": 0,
             "ticks": ""
            },
            "colorscale": [
             [
              0,
              "#0d0887"
             ],
             [
              0.1111111111111111,
              "#46039f"
             ],
             [
              0.2222222222222222,
              "#7201a8"
             ],
             [
              0.3333333333333333,
              "#9c179e"
             ],
             [
              0.4444444444444444,
              "#bd3786"
             ],
             [
              0.5555555555555556,
              "#d8576b"
             ],
             [
              0.6666666666666666,
              "#ed7953"
             ],
             [
              0.7777777777777778,
              "#fb9f3a"
             ],
             [
              0.8888888888888888,
              "#fdca26"
             ],
             [
              1,
              "#f0f921"
             ]
            ],
            "type": "heatmapgl"
           }
          ],
          "histogram": [
           {
            "marker": {
             "colorbar": {
              "outlinewidth": 0,
              "ticks": ""
             }
            },
            "type": "histogram"
           }
          ],
          "histogram2d": [
           {
            "colorbar": {
             "outlinewidth": 0,
             "ticks": ""
            },
            "colorscale": [
             [
              0,
              "#0d0887"
             ],
             [
              0.1111111111111111,
              "#46039f"
             ],
             [
              0.2222222222222222,
              "#7201a8"
             ],
             [
              0.3333333333333333,
              "#9c179e"
             ],
             [
              0.4444444444444444,
              "#bd3786"
             ],
             [
              0.5555555555555556,
              "#d8576b"
             ],
             [
              0.6666666666666666,
              "#ed7953"
             ],
             [
              0.7777777777777778,
              "#fb9f3a"
             ],
             [
              0.8888888888888888,
              "#fdca26"
             ],
             [
              1,
              "#f0f921"
             ]
            ],
            "type": "histogram2d"
           }
          ],
          "histogram2dcontour": [
           {
            "colorbar": {
             "outlinewidth": 0,
             "ticks": ""
            },
            "colorscale": [
             [
              0,
              "#0d0887"
             ],
             [
              0.1111111111111111,
              "#46039f"
             ],
             [
              0.2222222222222222,
              "#7201a8"
             ],
             [
              0.3333333333333333,
              "#9c179e"
             ],
             [
              0.4444444444444444,
              "#bd3786"
             ],
             [
              0.5555555555555556,
              "#d8576b"
             ],
             [
              0.6666666666666666,
              "#ed7953"
             ],
             [
              0.7777777777777778,
              "#fb9f3a"
             ],
             [
              0.8888888888888888,
              "#fdca26"
             ],
             [
              1,
              "#f0f921"
             ]
            ],
            "type": "histogram2dcontour"
           }
          ],
          "mesh3d": [
           {
            "colorbar": {
             "outlinewidth": 0,
             "ticks": ""
            },
            "type": "mesh3d"
           }
          ],
          "parcoords": [
           {
            "line": {
             "colorbar": {
              "outlinewidth": 0,
              "ticks": ""
             }
            },
            "type": "parcoords"
           }
          ],
          "pie": [
           {
            "automargin": true,
            "type": "pie"
           }
          ],
          "scatter": [
           {
            "marker": {
             "colorbar": {
              "outlinewidth": 0,
              "ticks": ""
             }
            },
            "type": "scatter"
           }
          ],
          "scatter3d": [
           {
            "line": {
             "colorbar": {
              "outlinewidth": 0,
              "ticks": ""
             }
            },
            "marker": {
             "colorbar": {
              "outlinewidth": 0,
              "ticks": ""
             }
            },
            "type": "scatter3d"
           }
          ],
          "scattercarpet": [
           {
            "marker": {
             "colorbar": {
              "outlinewidth": 0,
              "ticks": ""
             }
            },
            "type": "scattercarpet"
           }
          ],
          "scattergeo": [
           {
            "marker": {
             "colorbar": {
              "outlinewidth": 0,
              "ticks": ""
             }
            },
            "type": "scattergeo"
           }
          ],
          "scattergl": [
           {
            "marker": {
             "colorbar": {
              "outlinewidth": 0,
              "ticks": ""
             }
            },
            "type": "scattergl"
           }
          ],
          "scattermapbox": [
           {
            "marker": {
             "colorbar": {
              "outlinewidth": 0,
              "ticks": ""
             }
            },
            "type": "scattermapbox"
           }
          ],
          "scatterpolar": [
           {
            "marker": {
             "colorbar": {
              "outlinewidth": 0,
              "ticks": ""
             }
            },
            "type": "scatterpolar"
           }
          ],
          "scatterpolargl": [
           {
            "marker": {
             "colorbar": {
              "outlinewidth": 0,
              "ticks": ""
             }
            },
            "type": "scatterpolargl"
           }
          ],
          "scatterternary": [
           {
            "marker": {
             "colorbar": {
              "outlinewidth": 0,
              "ticks": ""
             }
            },
            "type": "scatterternary"
           }
          ],
          "surface": [
           {
            "colorbar": {
             "outlinewidth": 0,
             "ticks": ""
            },
            "colorscale": [
             [
              0,
              "#0d0887"
             ],
             [
              0.1111111111111111,
              "#46039f"
             ],
             [
              0.2222222222222222,
              "#7201a8"
             ],
             [
              0.3333333333333333,
              "#9c179e"
             ],
             [
              0.4444444444444444,
              "#bd3786"
             ],
             [
              0.5555555555555556,
              "#d8576b"
             ],
             [
              0.6666666666666666,
              "#ed7953"
             ],
             [
              0.7777777777777778,
              "#fb9f3a"
             ],
             [
              0.8888888888888888,
              "#fdca26"
             ],
             [
              1,
              "#f0f921"
             ]
            ],
            "type": "surface"
           }
          ],
          "table": [
           {
            "cells": {
             "fill": {
              "color": "#EBF0F8"
             },
             "line": {
              "color": "white"
             }
            },
            "header": {
             "fill": {
              "color": "#C8D4E3"
             },
             "line": {
              "color": "white"
             }
            },
            "type": "table"
           }
          ]
         },
         "layout": {
          "annotationdefaults": {
           "arrowcolor": "#2a3f5f",
           "arrowhead": 0,
           "arrowwidth": 1
          },
          "coloraxis": {
           "colorbar": {
            "outlinewidth": 0,
            "ticks": ""
           }
          },
          "colorscale": {
           "diverging": [
            [
             0,
             "#8e0152"
            ],
            [
             0.1,
             "#c51b7d"
            ],
            [
             0.2,
             "#de77ae"
            ],
            [
             0.3,
             "#f1b6da"
            ],
            [
             0.4,
             "#fde0ef"
            ],
            [
             0.5,
             "#f7f7f7"
            ],
            [
             0.6,
             "#e6f5d0"
            ],
            [
             0.7,
             "#b8e186"
            ],
            [
             0.8,
             "#7fbc41"
            ],
            [
             0.9,
             "#4d9221"
            ],
            [
             1,
             "#276419"
            ]
           ],
           "sequential": [
            [
             0,
             "#0d0887"
            ],
            [
             0.1111111111111111,
             "#46039f"
            ],
            [
             0.2222222222222222,
             "#7201a8"
            ],
            [
             0.3333333333333333,
             "#9c179e"
            ],
            [
             0.4444444444444444,
             "#bd3786"
            ],
            [
             0.5555555555555556,
             "#d8576b"
            ],
            [
             0.6666666666666666,
             "#ed7953"
            ],
            [
             0.7777777777777778,
             "#fb9f3a"
            ],
            [
             0.8888888888888888,
             "#fdca26"
            ],
            [
             1,
             "#f0f921"
            ]
           ],
           "sequentialminus": [
            [
             0,
             "#0d0887"
            ],
            [
             0.1111111111111111,
             "#46039f"
            ],
            [
             0.2222222222222222,
             "#7201a8"
            ],
            [
             0.3333333333333333,
             "#9c179e"
            ],
            [
             0.4444444444444444,
             "#bd3786"
            ],
            [
             0.5555555555555556,
             "#d8576b"
            ],
            [
             0.6666666666666666,
             "#ed7953"
            ],
            [
             0.7777777777777778,
             "#fb9f3a"
            ],
            [
             0.8888888888888888,
             "#fdca26"
            ],
            [
             1,
             "#f0f921"
            ]
           ]
          },
          "colorway": [
           "#636efa",
           "#EF553B",
           "#00cc96",
           "#ab63fa",
           "#FFA15A",
           "#19d3f3",
           "#FF6692",
           "#B6E880",
           "#FF97FF",
           "#FECB52"
          ],
          "font": {
           "color": "#2a3f5f"
          },
          "geo": {
           "bgcolor": "white",
           "lakecolor": "white",
           "landcolor": "#E5ECF6",
           "showlakes": true,
           "showland": true,
           "subunitcolor": "white"
          },
          "hoverlabel": {
           "align": "left"
          },
          "hovermode": "closest",
          "mapbox": {
           "style": "light"
          },
          "paper_bgcolor": "white",
          "plot_bgcolor": "#E5ECF6",
          "polar": {
           "angularaxis": {
            "gridcolor": "white",
            "linecolor": "white",
            "ticks": ""
           },
           "bgcolor": "#E5ECF6",
           "radialaxis": {
            "gridcolor": "white",
            "linecolor": "white",
            "ticks": ""
           }
          },
          "scene": {
           "xaxis": {
            "backgroundcolor": "#E5ECF6",
            "gridcolor": "white",
            "gridwidth": 2,
            "linecolor": "white",
            "showbackground": true,
            "ticks": "",
            "zerolinecolor": "white"
           },
           "yaxis": {
            "backgroundcolor": "#E5ECF6",
            "gridcolor": "white",
            "gridwidth": 2,
            "linecolor": "white",
            "showbackground": true,
            "ticks": "",
            "zerolinecolor": "white"
           },
           "zaxis": {
            "backgroundcolor": "#E5ECF6",
            "gridcolor": "white",
            "gridwidth": 2,
            "linecolor": "white",
            "showbackground": true,
            "ticks": "",
            "zerolinecolor": "white"
           }
          },
          "shapedefaults": {
           "line": {
            "color": "#2a3f5f"
           }
          },
          "ternary": {
           "aaxis": {
            "gridcolor": "white",
            "linecolor": "white",
            "ticks": ""
           },
           "baxis": {
            "gridcolor": "white",
            "linecolor": "white",
            "ticks": ""
           },
           "bgcolor": "#E5ECF6",
           "caxis": {
            "gridcolor": "white",
            "linecolor": "white",
            "ticks": ""
           }
          },
          "title": {
           "x": 0.05
          },
          "xaxis": {
           "automargin": true,
           "gridcolor": "white",
           "linecolor": "white",
           "ticks": "",
           "title": {
            "standoff": 15
           },
           "zerolinecolor": "white",
           "zerolinewidth": 2
          },
          "yaxis": {
           "automargin": true,
           "gridcolor": "white",
           "linecolor": "white",
           "ticks": "",
           "title": {
            "standoff": 15
           },
           "zerolinecolor": "white",
           "zerolinewidth": 2
          }
         }
        }
       }
      },
      "text/html": [
       "<div>\n",
       "        \n",
       "        \n",
       "            <div id=\"1fbef7fa-dd29-47d2-9e78-570c754eb762\" class=\"plotly-graph-div\" style=\"height:500px; width:100%;\"></div>\n",
       "            <script type=\"text/javascript\">\n",
       "                require([\"plotly\"], function(Plotly) {\n",
       "                    window.PLOTLYENV=window.PLOTLYENV || {};\n",
       "                    \n",
       "                if (document.getElementById(\"1fbef7fa-dd29-47d2-9e78-570c754eb762\")) {\n",
       "                    Plotly.newPlot(\n",
       "                        '1fbef7fa-dd29-47d2-9e78-570c754eb762',\n",
       "                        [{\"hovertemplate\": \"lat=%{lat}<br>lon=%{lon}<br>label=%{marker.color}<extra></extra>\", \"lat\": [47.686342985, 47.68633919999981, 47.68634038999991, 47.68665392999995, 47.68669248999997, 47.68674786000003, 47.68684174000006, 47.68691975999994, 47.68699871999989, 47.68707415999999, 47.687148689999965, 47.68724895000007, 47.687326109999965, 47.687434389999936, 47.687506740000025, 47.68760297999998, 47.68768084000011, 47.687757900000086, 47.68783666999996, 47.687918470000085, 47.68799741000011, 47.68807551999999, 47.68815171999996, 47.688223629999904, 47.688288079999985, 47.68834752000011, 47.688423369999946, 47.6884632299999, 47.68851112999992, 47.688543939999974, 47.688589039999925, 47.68861062999993, 47.68861784999993, 47.68862093000005, 47.68861677999999, 47.68861258000007, 47.68860727999991, 47.68860170000002, 47.68859625000004, 47.68859066000004, 47.68858908999998, 47.68866708000003, 47.68866072000001, 47.68865367999995, 47.68864154000002, 47.68863254999997, 47.68862226000001, 47.68861438000012, 47.68860995999999, 47.68856145000002, 47.688572000000015, 47.68859362999994, 47.68865709999994, 47.688656029999954, 47.68875326999994, 47.68881676, 47.688855749999995, 47.688918329999986, 47.68896764000001, 47.6890189300001, 47.68907273999996, 47.68913312999999, 47.689191179999995, 47.6892523, 47.689305879999985, 47.68935982999999, 47.68941490999994, 47.68946652000006, 47.68951836999993, 47.68957213000005, 47.68964105, 47.68971332999993, 47.689806230000016, 47.68988988999993, 47.689981869999976, 47.690085100000026, 47.690193530000116, 47.690309290000094, 47.69042277000001, 47.690544210000006, 47.69065756, 47.690774430000005, 47.6908879900001, 47.691001309999976, 47.69112168999991, 47.69123318999998, 47.69134573000004, 47.69146372999999, 47.691581810000024, 47.69169641000005, 47.69181123999995, 47.691926099999975, 47.692045299999954, 47.69216042000002, 47.69228082000002, 47.69239170999997, 47.69251145999995, 47.69263214999994, 47.69274545000005, 47.6928568100001, 47.69297055999998, 47.693072250000085, 47.69318742999994, 47.69329509, 47.69341324000007, 47.69352317999992, 47.69363453000005, 47.69374507000004, 47.69385877999996, 47.69397297999999, 47.694084119999985, 47.69419405999998, 47.69429419999999, 47.69437233000005, 47.69444128, 47.69451424999991, 47.69458433, 47.69464522999995, 47.694679090000065, 47.694676869999974, 47.69482791000003, 47.69482762000005, 47.69482911999999, 47.69483088000007, 47.694832670000004, 47.694834410000084, 47.69483512999987, 47.69484356000005], \"legendgroup\": \"\", \"lon\": [17.679911684999993, 17.679908940000008, 17.67990862000001, 17.680042319999988, 17.68008043000003, 17.68008970999996, 17.680126960000038, 17.68016102999997, 17.680172569999982, 17.680165420000034, 17.68017095999999, 17.68019619000001, 17.680171299999987, 17.680094490000037, 17.680098770000026, 17.680104199999974, 17.680108230000027, 17.68011221999997, 17.680116300000005, 17.680120539999976, 17.68012462999997, 17.68012866999998, 17.68013262, 17.680136350000048, 17.68013853000002, 17.68014048999999, 17.680140239999965, 17.68013169000004, 17.68009819999998, 17.680057770000023, 17.679970129999965, 17.679884229999974, 17.67982357999996, 17.67973916000004, 17.67960633000002, 17.679510899999983, 17.679390380000026, 17.679263499999983, 17.679139339999956, 17.679012280000038, 17.678976590000033, 17.67873740999999, 17.6785969, 17.678454180000013, 17.678310600000017, 17.678166879999985, 17.67802587000004, 17.67789070000002, 17.677760810000045, 17.677636500000013, 17.677497229999975, 17.67743593999996, 17.677293279999972, 17.677295510000018, 17.677106350000017, 17.67703467000001, 17.676991009999988, 17.676875269999986, 17.676768119999966, 17.67665547999997, 17.676523999999976, 17.67638422999999, 17.676249890000005, 17.676108440000004, 17.675984440000033, 17.67585959999998, 17.675729490000034, 17.675607140000007, 17.675484200000025, 17.67535881999998, 17.67524554000004, 17.67514056000003, 17.675051279999984, 17.67498333999998, 17.674913880000023, 17.674849510000044, 17.674793540000046, 17.67474689999996, 17.674722279999983, 17.674700999999974, 17.674683480000045, 17.67466844, 17.674653810000045, 17.674639229999972, 17.674623729999958, 17.674609370000034, 17.674594880000026, 17.674579689999977, 17.674564480000022, 17.674549730000027, 17.674534949999966, 17.67452015999998, 17.67450480999997, 17.674489989999987, 17.67447448999998, 17.674460210000003, 17.674444790000038, 17.67442925, 17.67441467000002, 17.674400330000022, 17.674385679999954, 17.674372630000043, 17.674358949999956, 17.67434617000002, 17.674332139999983, 17.674319080000018, 17.67430510000003, 17.674290930000037, 17.674276349999964, 17.67426393999996, 17.67425361999996, 17.674240790000045, 17.674224679999966, 17.67418851000002, 17.674150869999963, 17.674110400000014, 17.674070499999974, 17.67403480999998, 17.674014969999977, 17.674019659999953, 17.674137909999963, 17.674218419999992, 17.674328320000026, 17.674457320000037, 17.67458895000003, 17.67471615, 17.674898210000023, 17.67505350000004], \"marker\": {\"color\": [1.0, 1.0, 0.0, 2.0, 2.0, 2.0, 1.0, 1.0, 1.0, 2.0, 1.0, 1.0, 2.0, 2.0, 2.0, 2.0, 1.0, 2.0, 1.0, 1.0, 1.0, 2.0, 2.0, 2.0, 2.0, 2.0, 2.0, 1.0, 2.0, 2.0, 1.0, 2.0, 2.0, 1.0, 1.0, 2.0, 2.0, 1.0, 1.0, 2.0, 2.0, 2.0, 2.0, 2.0, 2.0, 1.0, 1.0, 2.0, 2.0, 2.0, 2.0, 2.0, 2.0, 2.0, 2.0, 2.0, 2.0, 2.0, 2.0, 2.0, 2.0, 2.0, 2.0, 2.0, 2.0, 1.0, 2.0, 0.0, 0.0, 2.0, 2.0, 1.0, 2.0, 1.0, 1.0, 1.0, 2.0, 2.0, 2.0, 2.0, 2.0, 2.0, 1.0, 1.0, 1.0, 0.0, 0.0, 2.0, 2.0, 1.0, 2.0, 2.0, 2.0, 2.0, 2.0, 2.0, 1.0, 0.0, 2.0, 2.0, 2.0, 2.0, 2.0, 1.0, 1.0, 2.0, 1.0, 1.0, 1.0, 0.0, 0.0, 0.0, 2.0, 2.0, 1.0, 1.0, 2.0, 0.0, 0.0, 0.0, 2.0, 0.0, 1.0, 0.0, 1.0, 1.0, 0.0, 1.0], \"coloraxis\": \"coloraxis\"}, \"mode\": \"markers\", \"name\": \"\", \"showlegend\": false, \"subplot\": \"mapbox\", \"type\": \"scattermapbox\"}],\n",
       "                        {\"coloraxis\": {\"colorbar\": {\"title\": {\"text\": \"label\"}}, \"colorscale\": [[0.0, \"green\"], [0.5, \"blue\"], [1.0, \"red\"]], \"showscale\": false}, \"height\": 500, \"legend\": {\"tracegroupgap\": 0}, \"mapbox\": {\"center\": {\"lat\": 47.69025300089844, \"lon\": 17.67681387761719}, \"domain\": {\"x\": [0.0, 1.0], \"y\": [0.0, 1.0]}, \"style\": \"carto-positron\", \"zoom\": 12}, \"margin\": {\"b\": 0, \"l\": 0, \"r\": 0, \"t\": 0}, \"template\": {\"data\": {\"bar\": [{\"error_x\": {\"color\": \"#2a3f5f\"}, \"error_y\": {\"color\": \"#2a3f5f\"}, \"marker\": {\"line\": {\"color\": \"#E5ECF6\", \"width\": 0.5}}, \"type\": \"bar\"}], \"barpolar\": [{\"marker\": {\"line\": {\"color\": \"#E5ECF6\", \"width\": 0.5}}, \"type\": \"barpolar\"}], \"carpet\": [{\"aaxis\": {\"endlinecolor\": \"#2a3f5f\", \"gridcolor\": \"white\", \"linecolor\": \"white\", \"minorgridcolor\": \"white\", \"startlinecolor\": \"#2a3f5f\"}, \"baxis\": {\"endlinecolor\": \"#2a3f5f\", \"gridcolor\": \"white\", \"linecolor\": \"white\", \"minorgridcolor\": \"white\", \"startlinecolor\": \"#2a3f5f\"}, \"type\": \"carpet\"}], \"choropleth\": [{\"colorbar\": {\"outlinewidth\": 0, \"ticks\": \"\"}, \"type\": \"choropleth\"}], \"contour\": [{\"colorbar\": {\"outlinewidth\": 0, \"ticks\": \"\"}, \"colorscale\": [[0.0, \"#0d0887\"], [0.1111111111111111, \"#46039f\"], [0.2222222222222222, \"#7201a8\"], [0.3333333333333333, \"#9c179e\"], [0.4444444444444444, \"#bd3786\"], [0.5555555555555556, \"#d8576b\"], [0.6666666666666666, \"#ed7953\"], [0.7777777777777778, \"#fb9f3a\"], [0.8888888888888888, \"#fdca26\"], [1.0, \"#f0f921\"]], \"type\": \"contour\"}], \"contourcarpet\": [{\"colorbar\": {\"outlinewidth\": 0, \"ticks\": \"\"}, \"type\": \"contourcarpet\"}], \"heatmap\": [{\"colorbar\": {\"outlinewidth\": 0, \"ticks\": \"\"}, \"colorscale\": [[0.0, \"#0d0887\"], [0.1111111111111111, \"#46039f\"], [0.2222222222222222, \"#7201a8\"], [0.3333333333333333, \"#9c179e\"], [0.4444444444444444, \"#bd3786\"], [0.5555555555555556, \"#d8576b\"], [0.6666666666666666, \"#ed7953\"], [0.7777777777777778, \"#fb9f3a\"], [0.8888888888888888, \"#fdca26\"], [1.0, \"#f0f921\"]], \"type\": \"heatmap\"}], \"heatmapgl\": [{\"colorbar\": {\"outlinewidth\": 0, \"ticks\": \"\"}, \"colorscale\": [[0.0, \"#0d0887\"], [0.1111111111111111, \"#46039f\"], [0.2222222222222222, \"#7201a8\"], [0.3333333333333333, \"#9c179e\"], [0.4444444444444444, \"#bd3786\"], [0.5555555555555556, \"#d8576b\"], [0.6666666666666666, \"#ed7953\"], [0.7777777777777778, \"#fb9f3a\"], [0.8888888888888888, \"#fdca26\"], [1.0, \"#f0f921\"]], \"type\": \"heatmapgl\"}], \"histogram\": [{\"marker\": {\"colorbar\": {\"outlinewidth\": 0, \"ticks\": \"\"}}, \"type\": \"histogram\"}], \"histogram2d\": [{\"colorbar\": {\"outlinewidth\": 0, \"ticks\": \"\"}, \"colorscale\": [[0.0, \"#0d0887\"], [0.1111111111111111, \"#46039f\"], [0.2222222222222222, \"#7201a8\"], [0.3333333333333333, \"#9c179e\"], [0.4444444444444444, \"#bd3786\"], [0.5555555555555556, \"#d8576b\"], [0.6666666666666666, \"#ed7953\"], [0.7777777777777778, \"#fb9f3a\"], [0.8888888888888888, \"#fdca26\"], [1.0, \"#f0f921\"]], \"type\": \"histogram2d\"}], \"histogram2dcontour\": [{\"colorbar\": {\"outlinewidth\": 0, \"ticks\": \"\"}, \"colorscale\": [[0.0, \"#0d0887\"], [0.1111111111111111, \"#46039f\"], [0.2222222222222222, \"#7201a8\"], [0.3333333333333333, \"#9c179e\"], [0.4444444444444444, \"#bd3786\"], [0.5555555555555556, \"#d8576b\"], [0.6666666666666666, \"#ed7953\"], [0.7777777777777778, \"#fb9f3a\"], [0.8888888888888888, \"#fdca26\"], [1.0, \"#f0f921\"]], \"type\": \"histogram2dcontour\"}], \"mesh3d\": [{\"colorbar\": {\"outlinewidth\": 0, \"ticks\": \"\"}, \"type\": \"mesh3d\"}], \"parcoords\": [{\"line\": {\"colorbar\": {\"outlinewidth\": 0, \"ticks\": \"\"}}, \"type\": \"parcoords\"}], \"pie\": [{\"automargin\": true, \"type\": \"pie\"}], \"scatter\": [{\"marker\": {\"colorbar\": {\"outlinewidth\": 0, \"ticks\": \"\"}}, \"type\": \"scatter\"}], \"scatter3d\": [{\"line\": {\"colorbar\": {\"outlinewidth\": 0, \"ticks\": \"\"}}, \"marker\": {\"colorbar\": {\"outlinewidth\": 0, \"ticks\": \"\"}}, \"type\": \"scatter3d\"}], \"scattercarpet\": [{\"marker\": {\"colorbar\": {\"outlinewidth\": 0, \"ticks\": \"\"}}, \"type\": \"scattercarpet\"}], \"scattergeo\": [{\"marker\": {\"colorbar\": {\"outlinewidth\": 0, \"ticks\": \"\"}}, \"type\": \"scattergeo\"}], \"scattergl\": [{\"marker\": {\"colorbar\": {\"outlinewidth\": 0, \"ticks\": \"\"}}, \"type\": \"scattergl\"}], \"scattermapbox\": [{\"marker\": {\"colorbar\": {\"outlinewidth\": 0, \"ticks\": \"\"}}, \"type\": \"scattermapbox\"}], \"scatterpolar\": [{\"marker\": {\"colorbar\": {\"outlinewidth\": 0, \"ticks\": \"\"}}, \"type\": \"scatterpolar\"}], \"scatterpolargl\": [{\"marker\": {\"colorbar\": {\"outlinewidth\": 0, \"ticks\": \"\"}}, \"type\": \"scatterpolargl\"}], \"scatterternary\": [{\"marker\": {\"colorbar\": {\"outlinewidth\": 0, \"ticks\": \"\"}}, \"type\": \"scatterternary\"}], \"surface\": [{\"colorbar\": {\"outlinewidth\": 0, \"ticks\": \"\"}, \"colorscale\": [[0.0, \"#0d0887\"], [0.1111111111111111, \"#46039f\"], [0.2222222222222222, \"#7201a8\"], [0.3333333333333333, \"#9c179e\"], [0.4444444444444444, \"#bd3786\"], [0.5555555555555556, \"#d8576b\"], [0.6666666666666666, \"#ed7953\"], [0.7777777777777778, \"#fb9f3a\"], [0.8888888888888888, \"#fdca26\"], [1.0, \"#f0f921\"]], \"type\": \"surface\"}], \"table\": [{\"cells\": {\"fill\": {\"color\": \"#EBF0F8\"}, \"line\": {\"color\": \"white\"}}, \"header\": {\"fill\": {\"color\": \"#C8D4E3\"}, \"line\": {\"color\": \"white\"}}, \"type\": \"table\"}]}, \"layout\": {\"annotationdefaults\": {\"arrowcolor\": \"#2a3f5f\", \"arrowhead\": 0, \"arrowwidth\": 1}, \"coloraxis\": {\"colorbar\": {\"outlinewidth\": 0, \"ticks\": \"\"}}, \"colorscale\": {\"diverging\": [[0, \"#8e0152\"], [0.1, \"#c51b7d\"], [0.2, \"#de77ae\"], [0.3, \"#f1b6da\"], [0.4, \"#fde0ef\"], [0.5, \"#f7f7f7\"], [0.6, \"#e6f5d0\"], [0.7, \"#b8e186\"], [0.8, \"#7fbc41\"], [0.9, \"#4d9221\"], [1, \"#276419\"]], \"sequential\": [[0.0, \"#0d0887\"], [0.1111111111111111, \"#46039f\"], [0.2222222222222222, \"#7201a8\"], [0.3333333333333333, \"#9c179e\"], [0.4444444444444444, \"#bd3786\"], [0.5555555555555556, \"#d8576b\"], [0.6666666666666666, \"#ed7953\"], [0.7777777777777778, \"#fb9f3a\"], [0.8888888888888888, \"#fdca26\"], [1.0, \"#f0f921\"]], \"sequentialminus\": [[0.0, \"#0d0887\"], [0.1111111111111111, \"#46039f\"], [0.2222222222222222, \"#7201a8\"], [0.3333333333333333, \"#9c179e\"], [0.4444444444444444, \"#bd3786\"], [0.5555555555555556, \"#d8576b\"], [0.6666666666666666, \"#ed7953\"], [0.7777777777777778, \"#fb9f3a\"], [0.8888888888888888, \"#fdca26\"], [1.0, \"#f0f921\"]]}, \"colorway\": [\"#636efa\", \"#EF553B\", \"#00cc96\", \"#ab63fa\", \"#FFA15A\", \"#19d3f3\", \"#FF6692\", \"#B6E880\", \"#FF97FF\", \"#FECB52\"], \"font\": {\"color\": \"#2a3f5f\"}, \"geo\": {\"bgcolor\": \"white\", \"lakecolor\": \"white\", \"landcolor\": \"#E5ECF6\", \"showlakes\": true, \"showland\": true, \"subunitcolor\": \"white\"}, \"hoverlabel\": {\"align\": \"left\"}, \"hovermode\": \"closest\", \"mapbox\": {\"style\": \"light\"}, \"paper_bgcolor\": \"white\", \"plot_bgcolor\": \"#E5ECF6\", \"polar\": {\"angularaxis\": {\"gridcolor\": \"white\", \"linecolor\": \"white\", \"ticks\": \"\"}, \"bgcolor\": \"#E5ECF6\", \"radialaxis\": {\"gridcolor\": \"white\", \"linecolor\": \"white\", \"ticks\": \"\"}}, \"scene\": {\"xaxis\": {\"backgroundcolor\": \"#E5ECF6\", \"gridcolor\": \"white\", \"gridwidth\": 2, \"linecolor\": \"white\", \"showbackground\": true, \"ticks\": \"\", \"zerolinecolor\": \"white\"}, \"yaxis\": {\"backgroundcolor\": \"#E5ECF6\", \"gridcolor\": \"white\", \"gridwidth\": 2, \"linecolor\": \"white\", \"showbackground\": true, \"ticks\": \"\", \"zerolinecolor\": \"white\"}, \"zaxis\": {\"backgroundcolor\": \"#E5ECF6\", \"gridcolor\": \"white\", \"gridwidth\": 2, \"linecolor\": \"white\", \"showbackground\": true, \"ticks\": \"\", \"zerolinecolor\": \"white\"}}, \"shapedefaults\": {\"line\": {\"color\": \"#2a3f5f\"}}, \"ternary\": {\"aaxis\": {\"gridcolor\": \"white\", \"linecolor\": \"white\", \"ticks\": \"\"}, \"baxis\": {\"gridcolor\": \"white\", \"linecolor\": \"white\", \"ticks\": \"\"}, \"bgcolor\": \"#E5ECF6\", \"caxis\": {\"gridcolor\": \"white\", \"linecolor\": \"white\", \"ticks\": \"\"}}, \"title\": {\"x\": 0.05}, \"xaxis\": {\"automargin\": true, \"gridcolor\": \"white\", \"linecolor\": \"white\", \"ticks\": \"\", \"title\": {\"standoff\": 15}, \"zerolinecolor\": \"white\", \"zerolinewidth\": 2}, \"yaxis\": {\"automargin\": true, \"gridcolor\": \"white\", \"linecolor\": \"white\", \"ticks\": \"\", \"title\": {\"standoff\": 15}, \"zerolinecolor\": \"white\", \"zerolinewidth\": 2}}}},\n",
       "                        {\"responsive\": true}\n",
       "                    ).then(function(){\n",
       "                            \n",
       "var gd = document.getElementById('1fbef7fa-dd29-47d2-9e78-570c754eb762');\n",
       "var x = new MutationObserver(function (mutations, observer) {{\n",
       "        var display = window.getComputedStyle(gd).display;\n",
       "        if (!display || display === 'none') {{\n",
       "            console.log([gd, 'removed!']);\n",
       "            Plotly.purge(gd);\n",
       "            observer.disconnect();\n",
       "        }}\n",
       "}});\n",
       "\n",
       "// Listen for the removal of the full notebook cells\n",
       "var notebookContainer = gd.closest('#notebook-container');\n",
       "if (notebookContainer) {{\n",
       "    x.observe(notebookContainer, {childList: true});\n",
       "}}\n",
       "\n",
       "// Listen for the clearing of the current output cell\n",
       "var outputEl = gd.closest('.output');\n",
       "if (outputEl) {{\n",
       "    x.observe(outputEl, {childList: true});\n",
       "}}\n",
       "\n",
       "                        })\n",
       "                };\n",
       "                });\n",
       "            </script>\n",
       "        </div>"
      ]
     },
     "metadata": {},
     "output_type": "display_data"
    }
   ],
   "source": [
    "fig = px.scatter_mapbox(final_result, \n",
    "                        lat=\"lat\", \n",
    "                        lon=\"lon\",\n",
    "                        zoom = 12, \n",
    "                        height=500, \n",
    "                        color = \"label\", \n",
    "                        color_continuous_scale=[\"green\",\"blue\",\"red\"])\n",
    "fig.update_layout(mapbox_style=\"carto-positron\")\n",
    "fig.update_layout(margin={\"r\":0,\"t\":0,\"l\":0,\"b\":0})\n",
    "fig.layout.coloraxis.showscale = False\n",
    "fig"
   ]
  },
  {
   "cell_type": "code",
   "execution_count": 349,
   "metadata": {
    "ExecuteTime": {
     "end_time": "2020-08-21T20:02:54.067945Z",
     "start_time": "2020-08-21T20:02:54.054952Z"
    }
   },
   "outputs": [],
   "source": [
    "real = [0 for  i in range(631)]"
   ]
  },
  {
   "cell_type": "code",
   "execution_count": 350,
   "metadata": {
    "ExecuteTime": {
     "end_time": "2020-08-21T20:02:56.547522Z",
     "start_time": "2020-08-21T20:02:56.498551Z"
    }
   },
   "outputs": [
    {
     "ename": "ValueError",
     "evalue": "Found input variables with inconsistent numbers of samples: [631, 128]",
     "output_type": "error",
     "traceback": [
      "\u001b[1;31m---------------------------------------------------------------------------\u001b[0m",
      "\u001b[1;31mValueError\u001b[0m                                Traceback (most recent call last)",
      "\u001b[1;32m<ipython-input-350-7d71cde8c0e9>\u001b[0m in \u001b[0;36m<module>\u001b[1;34m\u001b[0m\n\u001b[0;32m      1\u001b[0m \u001b[1;32mfrom\u001b[0m \u001b[0msklearn\u001b[0m\u001b[1;33m.\u001b[0m\u001b[0mmetrics\u001b[0m \u001b[1;32mimport\u001b[0m \u001b[0maccuracy_score\u001b[0m\u001b[1;33m\u001b[0m\u001b[1;33m\u001b[0m\u001b[0m\n\u001b[0;32m      2\u001b[0m \u001b[1;33m\u001b[0m\u001b[0m\n\u001b[1;32m----> 3\u001b[1;33m \u001b[0maccuracy_score\u001b[0m\u001b[1;33m(\u001b[0m\u001b[0mreal\u001b[0m\u001b[1;33m,\u001b[0m\u001b[0mfinal_result\u001b[0m\u001b[1;33m[\u001b[0m\u001b[1;34m\"label\"\u001b[0m\u001b[1;33m]\u001b[0m\u001b[1;33m)\u001b[0m\u001b[1;33m\u001b[0m\u001b[1;33m\u001b[0m\u001b[0m\n\u001b[0m",
      "\u001b[1;32mc:\\users\\mesza\\.virtualenvs\\road-surface-quality-7nv9hwjf\\lib\\site-packages\\sklearn\\utils\\validation.py\u001b[0m in \u001b[0;36minner_f\u001b[1;34m(*args, **kwargs)\u001b[0m\n\u001b[0;32m     70\u001b[0m                           FutureWarning)\n\u001b[0;32m     71\u001b[0m         \u001b[0mkwargs\u001b[0m\u001b[1;33m.\u001b[0m\u001b[0mupdate\u001b[0m\u001b[1;33m(\u001b[0m\u001b[1;33m{\u001b[0m\u001b[0mk\u001b[0m\u001b[1;33m:\u001b[0m \u001b[0marg\u001b[0m \u001b[1;32mfor\u001b[0m \u001b[0mk\u001b[0m\u001b[1;33m,\u001b[0m \u001b[0marg\u001b[0m \u001b[1;32min\u001b[0m \u001b[0mzip\u001b[0m\u001b[1;33m(\u001b[0m\u001b[0msig\u001b[0m\u001b[1;33m.\u001b[0m\u001b[0mparameters\u001b[0m\u001b[1;33m,\u001b[0m \u001b[0margs\u001b[0m\u001b[1;33m)\u001b[0m\u001b[1;33m}\u001b[0m\u001b[1;33m)\u001b[0m\u001b[1;33m\u001b[0m\u001b[1;33m\u001b[0m\u001b[0m\n\u001b[1;32m---> 72\u001b[1;33m         \u001b[1;32mreturn\u001b[0m \u001b[0mf\u001b[0m\u001b[1;33m(\u001b[0m\u001b[1;33m**\u001b[0m\u001b[0mkwargs\u001b[0m\u001b[1;33m)\u001b[0m\u001b[1;33m\u001b[0m\u001b[1;33m\u001b[0m\u001b[0m\n\u001b[0m\u001b[0;32m     73\u001b[0m     \u001b[1;32mreturn\u001b[0m \u001b[0minner_f\u001b[0m\u001b[1;33m\u001b[0m\u001b[1;33m\u001b[0m\u001b[0m\n\u001b[0;32m     74\u001b[0m \u001b[1;33m\u001b[0m\u001b[0m\n",
      "\u001b[1;32mc:\\users\\mesza\\.virtualenvs\\road-surface-quality-7nv9hwjf\\lib\\site-packages\\sklearn\\metrics\\_classification.py\u001b[0m in \u001b[0;36maccuracy_score\u001b[1;34m(y_true, y_pred, normalize, sample_weight)\u001b[0m\n\u001b[0;32m    185\u001b[0m \u001b[1;33m\u001b[0m\u001b[0m\n\u001b[0;32m    186\u001b[0m     \u001b[1;31m# Compute accuracy for each possible representation\u001b[0m\u001b[1;33m\u001b[0m\u001b[1;33m\u001b[0m\u001b[1;33m\u001b[0m\u001b[0m\n\u001b[1;32m--> 187\u001b[1;33m     \u001b[0my_type\u001b[0m\u001b[1;33m,\u001b[0m \u001b[0my_true\u001b[0m\u001b[1;33m,\u001b[0m \u001b[0my_pred\u001b[0m \u001b[1;33m=\u001b[0m \u001b[0m_check_targets\u001b[0m\u001b[1;33m(\u001b[0m\u001b[0my_true\u001b[0m\u001b[1;33m,\u001b[0m \u001b[0my_pred\u001b[0m\u001b[1;33m)\u001b[0m\u001b[1;33m\u001b[0m\u001b[1;33m\u001b[0m\u001b[0m\n\u001b[0m\u001b[0;32m    188\u001b[0m     \u001b[0mcheck_consistent_length\u001b[0m\u001b[1;33m(\u001b[0m\u001b[0my_true\u001b[0m\u001b[1;33m,\u001b[0m \u001b[0my_pred\u001b[0m\u001b[1;33m,\u001b[0m \u001b[0msample_weight\u001b[0m\u001b[1;33m)\u001b[0m\u001b[1;33m\u001b[0m\u001b[1;33m\u001b[0m\u001b[0m\n\u001b[0;32m    189\u001b[0m     \u001b[1;32mif\u001b[0m \u001b[0my_type\u001b[0m\u001b[1;33m.\u001b[0m\u001b[0mstartswith\u001b[0m\u001b[1;33m(\u001b[0m\u001b[1;34m'multilabel'\u001b[0m\u001b[1;33m)\u001b[0m\u001b[1;33m:\u001b[0m\u001b[1;33m\u001b[0m\u001b[1;33m\u001b[0m\u001b[0m\n",
      "\u001b[1;32mc:\\users\\mesza\\.virtualenvs\\road-surface-quality-7nv9hwjf\\lib\\site-packages\\sklearn\\metrics\\_classification.py\u001b[0m in \u001b[0;36m_check_targets\u001b[1;34m(y_true, y_pred)\u001b[0m\n\u001b[0;32m     79\u001b[0m     \u001b[0my_pred\u001b[0m \u001b[1;33m:\u001b[0m \u001b[0marray\u001b[0m \u001b[1;32mor\u001b[0m \u001b[0mindicator\u001b[0m \u001b[0mmatrix\u001b[0m\u001b[1;33m\u001b[0m\u001b[1;33m\u001b[0m\u001b[0m\n\u001b[0;32m     80\u001b[0m     \"\"\"\n\u001b[1;32m---> 81\u001b[1;33m     \u001b[0mcheck_consistent_length\u001b[0m\u001b[1;33m(\u001b[0m\u001b[0my_true\u001b[0m\u001b[1;33m,\u001b[0m \u001b[0my_pred\u001b[0m\u001b[1;33m)\u001b[0m\u001b[1;33m\u001b[0m\u001b[1;33m\u001b[0m\u001b[0m\n\u001b[0m\u001b[0;32m     82\u001b[0m     \u001b[0mtype_true\u001b[0m \u001b[1;33m=\u001b[0m \u001b[0mtype_of_target\u001b[0m\u001b[1;33m(\u001b[0m\u001b[0my_true\u001b[0m\u001b[1;33m)\u001b[0m\u001b[1;33m\u001b[0m\u001b[1;33m\u001b[0m\u001b[0m\n\u001b[0;32m     83\u001b[0m     \u001b[0mtype_pred\u001b[0m \u001b[1;33m=\u001b[0m \u001b[0mtype_of_target\u001b[0m\u001b[1;33m(\u001b[0m\u001b[0my_pred\u001b[0m\u001b[1;33m)\u001b[0m\u001b[1;33m\u001b[0m\u001b[1;33m\u001b[0m\u001b[0m\n",
      "\u001b[1;32mc:\\users\\mesza\\.virtualenvs\\road-surface-quality-7nv9hwjf\\lib\\site-packages\\sklearn\\utils\\validation.py\u001b[0m in \u001b[0;36mcheck_consistent_length\u001b[1;34m(*arrays)\u001b[0m\n\u001b[0;32m    254\u001b[0m     \u001b[1;32mif\u001b[0m \u001b[0mlen\u001b[0m\u001b[1;33m(\u001b[0m\u001b[0muniques\u001b[0m\u001b[1;33m)\u001b[0m \u001b[1;33m>\u001b[0m \u001b[1;36m1\u001b[0m\u001b[1;33m:\u001b[0m\u001b[1;33m\u001b[0m\u001b[1;33m\u001b[0m\u001b[0m\n\u001b[0;32m    255\u001b[0m         raise ValueError(\"Found input variables with inconsistent numbers of\"\n\u001b[1;32m--> 256\u001b[1;33m                          \" samples: %r\" % [int(l) for l in lengths])\n\u001b[0m\u001b[0;32m    257\u001b[0m \u001b[1;33m\u001b[0m\u001b[0m\n\u001b[0;32m    258\u001b[0m \u001b[1;33m\u001b[0m\u001b[0m\n",
      "\u001b[1;31mValueError\u001b[0m: Found input variables with inconsistent numbers of samples: [631, 128]"
     ]
    }
   ],
   "source": [
    "from sklearn.metrics import accuracy_score\n",
    "\n",
    "accuracy_score(real,final_result[\"label\"])"
   ]
  },
  {
   "cell_type": "code",
   "execution_count": null,
   "metadata": {
    "ExecuteTime": {
     "end_time": "2020-08-21T20:02:56.564512Z",
     "start_time": "2020-08-21T20:02:38.702Z"
    }
   },
   "outputs": [],
   "source": [
    "len(final_result)"
   ]
  },
  {
   "cell_type": "code",
   "execution_count": 252,
   "metadata": {
    "ExecuteTime": {
     "end_time": "2020-08-21T16:44:12.846894Z",
     "start_time": "2020-08-21T16:44:12.840898Z"
    }
   },
   "outputs": [
    {
     "data": {
      "text/plain": [
       "[(0, 517), (1, 93), (2, 21)]"
      ]
     },
     "execution_count": 252,
     "metadata": {},
     "output_type": "execute_result"
    }
   ],
   "source": [
    "Counter(final_result[\"label\"]).most_common()"
   ]
  },
  {
   "cell_type": "code",
   "execution_count": null,
   "metadata": {},
   "outputs": [],
   "source": []
  },
  {
   "cell_type": "code",
   "execution_count": null,
   "metadata": {},
   "outputs": [],
   "source": []
  }
 ],
 "metadata": {
  "kernelspec": {
   "display_name": "Python 3",
   "language": "python",
   "name": "python3"
  },
  "language_info": {
   "codemirror_mode": {
    "name": "ipython",
    "version": 3
   },
   "file_extension": ".py",
   "mimetype": "text/x-python",
   "name": "python",
   "nbconvert_exporter": "python",
   "pygments_lexer": "ipython3",
   "version": "3.7.5"
  },
  "notify_time": "5",
  "toc": {
   "base_numbering": 1,
   "nav_menu": {},
   "number_sections": true,
   "sideBar": true,
   "skip_h1_title": false,
   "title_cell": "Table of Contents",
   "title_sidebar": "Contents",
   "toc_cell": false,
   "toc_position": {},
   "toc_section_display": true,
   "toc_window_display": false
  },
  "varInspector": {
   "cols": {
    "lenName": 16,
    "lenType": 16,
    "lenVar": 40
   },
   "kernels_config": {
    "python": {
     "delete_cmd_postfix": "",
     "delete_cmd_prefix": "del ",
     "library": "var_list.py",
     "varRefreshCmd": "print(var_dic_list())"
    },
    "r": {
     "delete_cmd_postfix": ") ",
     "delete_cmd_prefix": "rm(",
     "library": "var_list.r",
     "varRefreshCmd": "cat(var_dic_list()) "
    }
   },
   "types_to_exclude": [
    "module",
    "function",
    "builtin_function_or_method",
    "instance",
    "_Feature"
   ],
   "window_display": false
  }
 },
 "nbformat": 4,
 "nbformat_minor": 4
}
